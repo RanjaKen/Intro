{
 "cells": [
  {
   "cell_type": "markdown",
   "id": "4596f608",
   "metadata": {
    "papermill": {
     "duration": 0.007606,
     "end_time": "2024-10-25T08:53:32.863169",
     "exception": false,
     "start_time": "2024-10-25T08:53:32.855563",
     "status": "completed"
    },
    "tags": []
   },
   "source": [
    "**This notebook is an exercise in the [Intro to Programming](https://www.kaggle.com/learn/intro-to-programming) course.  You can reference the tutorial at [this link](https://www.kaggle.com/alexisbcook/data-types).**\n",
    "\n",
    "---\n"
   ]
  },
  {
   "cell_type": "markdown",
   "id": "f3d4339f",
   "metadata": {
    "papermill": {
     "duration": 0.005873,
     "end_time": "2024-10-25T08:53:32.875466",
     "exception": false,
     "start_time": "2024-10-25T08:53:32.869593",
     "status": "completed"
    },
    "tags": []
   },
   "source": [
    "In the tutorial, you learned about four different data types: floats, integers, strings, and booleans.  In this exercise, you'll experiment with them.\n",
    "\n",
    "# Set up the notebook\n",
    "\n",
    "Run the next code cell without changes to set up the notebook."
   ]
  },
  {
   "cell_type": "code",
   "execution_count": 1,
   "id": "4d94d201",
   "metadata": {
    "execution": {
     "iopub.execute_input": "2024-10-25T08:53:32.890082Z",
     "iopub.status.busy": "2024-10-25T08:53:32.889621Z",
     "iopub.status.idle": "2024-10-25T08:53:33.832158Z",
     "shell.execute_reply": "2024-10-25T08:53:33.830727Z"
    },
    "papermill": {
     "duration": 0.954118,
     "end_time": "2024-10-25T08:53:33.836031",
     "exception": false,
     "start_time": "2024-10-25T08:53:32.881913",
     "status": "completed"
    },
    "tags": []
   },
   "outputs": [
    {
     "name": "stdout",
     "output_type": "stream",
     "text": [
      "Setup complete.\n"
     ]
    }
   ],
   "source": [
    "# Set up the exercise\n",
    "from learntools.core import binder\n",
    "binder.bind(globals())\n",
    "from learntools.intro_to_programming.ex3 import *\n",
    "print('Setup complete.')"
   ]
  },
  {
   "cell_type": "markdown",
   "id": "42e3a6be",
   "metadata": {
    "papermill": {
     "duration": 0.006315,
     "end_time": "2024-10-25T08:53:33.849114",
     "exception": false,
     "start_time": "2024-10-25T08:53:33.842799",
     "status": "completed"
    },
    "tags": []
   },
   "source": [
    "# Question 1\n",
    "\n",
    "You have seen how to convert a float to an integer with the `int` function.  Try this out yourself by running the code cell below."
   ]
  },
  {
   "cell_type": "code",
   "execution_count": 2,
   "id": "6daf9670",
   "metadata": {
    "execution": {
     "iopub.execute_input": "2024-10-25T08:53:33.863505Z",
     "iopub.status.busy": "2024-10-25T08:53:33.862934Z",
     "iopub.status.idle": "2024-10-25T08:53:33.869591Z",
     "shell.execute_reply": "2024-10-25T08:53:33.868479Z"
    },
    "papermill": {
     "duration": 0.016403,
     "end_time": "2024-10-25T08:53:33.871804",
     "exception": false,
     "start_time": "2024-10-25T08:53:33.855401",
     "status": "completed"
    },
    "tags": []
   },
   "outputs": [
    {
     "name": "stdout",
     "output_type": "stream",
     "text": [
      "1.0\n",
      "<class 'float'>\n",
      "1\n",
      "<class 'int'>\n"
     ]
    }
   ],
   "source": [
    "# Define a float\n",
    "y = 1.\n",
    "print(y)\n",
    "print(type(y))\n",
    "\n",
    "# Convert float to integer with the int function\n",
    "z = int(y)\n",
    "print(z)\n",
    "print(type(z))"
   ]
  },
  {
   "cell_type": "markdown",
   "id": "5fca8e25",
   "metadata": {
    "papermill": {
     "duration": 0.006158,
     "end_time": "2024-10-25T08:53:33.885417",
     "exception": false,
     "start_time": "2024-10-25T08:53:33.879259",
     "status": "completed"
    },
    "tags": []
   },
   "source": [
    "In this case, the float you are using has no numbers after the decimal.  \n",
    "- But what happens when you try to convert a float with a fractional part to an integer?  \n",
    "- How does the outcome of the `int` function change for positive and negative numbers?\n",
    "\n",
    "Use the next code cell to investigate and answer these questions.  Feel free to add or remove any lines of code -- it is your workspace!"
   ]
  },
  {
   "cell_type": "code",
   "execution_count": 3,
   "id": "706f4e79",
   "metadata": {
    "execution": {
     "iopub.execute_input": "2024-10-25T08:53:33.899813Z",
     "iopub.status.busy": "2024-10-25T08:53:33.899400Z",
     "iopub.status.idle": "2024-10-25T08:53:33.906583Z",
     "shell.execute_reply": "2024-10-25T08:53:33.905137Z"
    },
    "papermill": {
     "duration": 0.017546,
     "end_time": "2024-10-25T08:53:33.909169",
     "exception": false,
     "start_time": "2024-10-25T08:53:33.891623",
     "status": "completed"
    },
    "tags": []
   },
   "outputs": [
    {
     "name": "stdout",
     "output_type": "stream",
     "text": [
      "1\n",
      "1\n",
      "-3\n",
      "-2\n"
     ]
    }
   ],
   "source": [
    "# Uncomment and run this code to get started!\n",
    "print(int(1.2321))\n",
    "print(int(1.747))\n",
    "print(int(-3.94535))\n",
    "print(int(-2.19774))"
   ]
  },
  {
   "cell_type": "markdown",
   "id": "ad97f630",
   "metadata": {
    "papermill": {
     "duration": 0.006127,
     "end_time": "2024-10-25T08:53:33.921785",
     "exception": false,
     "start_time": "2024-10-25T08:53:33.915658",
     "status": "completed"
    },
    "tags": []
   },
   "source": [
    "Once you have an answer, run the code cell below to see the solution.  Viewing the solution will give you credit for answering the problem."
   ]
  },
  {
   "cell_type": "code",
   "execution_count": 4,
   "id": "afed1d56",
   "metadata": {
    "execution": {
     "iopub.execute_input": "2024-10-25T08:53:33.937439Z",
     "iopub.status.busy": "2024-10-25T08:53:33.936355Z",
     "iopub.status.idle": "2024-10-25T08:53:33.947111Z",
     "shell.execute_reply": "2024-10-25T08:53:33.946017Z"
    },
    "papermill": {
     "duration": 0.021053,
     "end_time": "2024-10-25T08:53:33.949476",
     "exception": false,
     "start_time": "2024-10-25T08:53:33.928423",
     "status": "completed"
    },
    "tags": []
   },
   "outputs": [
    {
     "data": {
      "application/javascript": [
       "parent.postMessage({\"jupyterEvent\": \"custom.exercise_interaction\", \"data\": {\"outcomeType\": 1, \"valueTowardsCompletion\": 0.2, \"interactionType\": 1, \"questionType\": 4, \"questionId\": \"1_FloatToInt\", \"learnToolsVersion\": \"0.3.4\", \"failureMessage\": \"\", \"exceptionClass\": \"\", \"trace\": \"\"}}, \"*\")"
      ],
      "text/plain": [
       "<IPython.core.display.Javascript object>"
      ]
     },
     "metadata": {},
     "output_type": "display_data"
    },
    {
     "data": {
      "text/markdown": [
       "<span style=\"color:#33cc33\">Correct:</span> \n",
       "\n",
       "Negative floats are always rounded UP to the closest integer (for instance, both -1.1 and -1.9 are rounded up to -1). Positive floats are always rounded DOWN to the closest integer (for instance, 2.1 and 2.9 are rounded down to 2)."
      ],
      "text/plain": [
       "Correct: \n",
       "\n",
       "Negative floats are always rounded UP to the closest integer (for instance, both -1.1 and -1.9 are rounded up to -1). Positive floats are always rounded DOWN to the closest integer (for instance, 2.1 and 2.9 are rounded down to 2)."
      ]
     },
     "metadata": {},
     "output_type": "display_data"
    }
   ],
   "source": [
    "# Check your answer (Run this code cell to receive credit!)\n",
    "q1.check()"
   ]
  },
  {
   "cell_type": "markdown",
   "id": "835ba934",
   "metadata": {
    "papermill": {
     "duration": 0.00636,
     "end_time": "2024-10-25T08:53:33.962501",
     "exception": false,
     "start_time": "2024-10-25T08:53:33.956141",
     "status": "completed"
    },
    "tags": []
   },
   "source": [
    "# Question 2\n",
    "\n",
    "In the tutorial, you learned about booleans (which can take a value of `True` or `False`), in addition to integers, floats, and strings.  For this question, your goal is to determine what happens when you multiply a boolean by any of these data types.  Specifically, \n",
    "- What happens when you multiply an integer or float by `True`?  What happens when you multiply them by `False`?  How does the answer change if the numbers are positive or negative?\n",
    "- What happens when you multiply a string by `True`?  By `False`?\n",
    "\n",
    "Use the next code cell for your investigation. "
   ]
  },
  {
   "cell_type": "code",
   "execution_count": 5,
   "id": "204c5ea9",
   "metadata": {
    "execution": {
     "iopub.execute_input": "2024-10-25T08:53:33.977785Z",
     "iopub.status.busy": "2024-10-25T08:53:33.977372Z",
     "iopub.status.idle": "2024-10-25T08:53:33.983771Z",
     "shell.execute_reply": "2024-10-25T08:53:33.982668Z"
    },
    "papermill": {
     "duration": 0.016785,
     "end_time": "2024-10-25T08:53:33.986124",
     "exception": false,
     "start_time": "2024-10-25T08:53:33.969339",
     "status": "completed"
    },
    "tags": []
   },
   "outputs": [
    {
     "name": "stdout",
     "output_type": "stream",
     "text": [
      "3\n",
      "-3.1\n",
      "<class 'str'>\n",
      "0\n"
     ]
    }
   ],
   "source": [
    "# Uncomment and run this code to get started!\n",
    "print(3 * True)\n",
    "print(-3.1 * True)\n",
    "print(type(\"abc\" * False))\n",
    "print(len(\"abc\" * False))"
   ]
  },
  {
   "cell_type": "markdown",
   "id": "081677a8",
   "metadata": {
    "papermill": {
     "duration": 0.006423,
     "end_time": "2024-10-25T08:53:33.999405",
     "exception": false,
     "start_time": "2024-10-25T08:53:33.992982",
     "status": "completed"
    },
    "tags": []
   },
   "source": [
    "Once you have an answer, run the code cell below to see the solution.  Viewing the solution will give you credit for answering the problem."
   ]
  },
  {
   "cell_type": "code",
   "execution_count": 6,
   "id": "5aa768d0",
   "metadata": {
    "execution": {
     "iopub.execute_input": "2024-10-25T08:53:34.014564Z",
     "iopub.status.busy": "2024-10-25T08:53:34.014133Z",
     "iopub.status.idle": "2024-10-25T08:53:34.023500Z",
     "shell.execute_reply": "2024-10-25T08:53:34.022443Z"
    },
    "papermill": {
     "duration": 0.019826,
     "end_time": "2024-10-25T08:53:34.025860",
     "exception": false,
     "start_time": "2024-10-25T08:53:34.006034",
     "status": "completed"
    },
    "tags": []
   },
   "outputs": [
    {
     "data": {
      "application/javascript": [
       "parent.postMessage({\"jupyterEvent\": \"custom.exercise_interaction\", \"data\": {\"outcomeType\": 1, \"valueTowardsCompletion\": 0.2, \"interactionType\": 1, \"questionType\": 4, \"questionId\": \"2_MultiplyBooleans\", \"learnToolsVersion\": \"0.3.4\", \"failureMessage\": \"\", \"exceptionClass\": \"\", \"trace\": \"\"}}, \"*\")"
      ],
      "text/plain": [
       "<IPython.core.display.Javascript object>"
      ]
     },
     "metadata": {},
     "output_type": "display_data"
    },
    {
     "data": {
      "text/markdown": [
       "<span style=\"color:#33cc33\">Correct:</span> \n",
       "\n",
       "When you multiple an integer or float by a boolean with value `True`, it just returns that same integer or float (and is equivalent to multiplying by 1).  If you multiply an integer or float by a boolean with value `False`, it always returns 0.  This is true for both positive and negative numbers.  If you multiply a string by a boolean with value `True`, it just returns that same string.  And if you multiply a string by a boolean with value `False`, it returns an empty string (or a string with length zero)."
      ],
      "text/plain": [
       "Correct: \n",
       "\n",
       "When you multiple an integer or float by a boolean with value `True`, it just returns that same integer or float (and is equivalent to multiplying by 1).  If you multiply an integer or float by a boolean with value `False`, it always returns 0.  This is true for both positive and negative numbers.  If you multiply a string by a boolean with value `True`, it just returns that same string.  And if you multiply a string by a boolean with value `False`, it returns an empty string (or a string with length zero)."
      ]
     },
     "metadata": {},
     "output_type": "display_data"
    }
   ],
   "source": [
    "# Check your answer (Run this code cell to receive credit!)\n",
    "q2.check()"
   ]
  },
  {
   "cell_type": "markdown",
   "id": "406cde05",
   "metadata": {
    "papermill": {
     "duration": 0.006576,
     "end_time": "2024-10-25T08:53:34.039648",
     "exception": false,
     "start_time": "2024-10-25T08:53:34.033072",
     "status": "completed"
    },
    "tags": []
   },
   "source": [
    "# Question 3\n",
    "\n",
    "In this question, you will build off your work from the previous exercise to write a function that estimates the value of a house.\n",
    "\n",
    "Use the next code cell to create a function `get_expected_cost` that takes as input three variables:\n",
    "- `beds` - number of bedrooms (data type float)\n",
    "- `baths` - number of bathrooms (data type float)\n",
    "- `has_basement` - whether or not the house has a basement (data type boolean)\n",
    "\n",
    "It should return the expected cost of a house with those characteristics. Assume that:\n",
    "- the expected cost for a house with 0 bedrooms and 0 bathrooms, and no basement is 80000, \n",
    "- each bedroom adds 30000 to the expected cost,\n",
    "- each bathroom adds 10000 to the expected cost, and\n",
    "- a basement adds 40000 to the expected cost.\n",
    "\n",
    "For instance,\n",
    "- a house with 1 bedroom, 1 bathroom, and no basement has an expected cost of 80000 + 30000 + 10000 = 120000.  This value will be calculated with `get_expected_cost(1, 1, False)`.\n",
    "- a house with 2 bedrooms, 1 bathroom, and a basement has an expected cost of 80000 + 2*30000 + 10000 + 40000 = 190000.  This value will be calculated with `get_expected_cost(2, 1, True)`.\n",
    "\n",
    "Remember you can always get a hint by uncommenting `q3.hint()` in the code cell following the next!"
   ]
  },
  {
   "cell_type": "code",
   "execution_count": 7,
   "id": "b4fbdafb",
   "metadata": {
    "execution": {
     "iopub.execute_input": "2024-10-25T08:53:34.055268Z",
     "iopub.status.busy": "2024-10-25T08:53:34.054828Z",
     "iopub.status.idle": "2024-10-25T08:53:34.064213Z",
     "shell.execute_reply": "2024-10-25T08:53:34.063163Z"
    },
    "papermill": {
     "duration": 0.020111,
     "end_time": "2024-10-25T08:53:34.066633",
     "exception": false,
     "start_time": "2024-10-25T08:53:34.046522",
     "status": "completed"
    },
    "tags": []
   },
   "outputs": [
    {
     "data": {
      "application/javascript": [
       "parent.postMessage({\"jupyterEvent\": \"custom.exercise_interaction\", \"data\": {\"outcomeType\": 1, \"valueTowardsCompletion\": 0.2, \"interactionType\": 1, \"questionType\": 2, \"questionId\": \"3_EstimateHouseValueBool\", \"learnToolsVersion\": \"0.3.4\", \"failureMessage\": \"\", \"exceptionClass\": \"\", \"trace\": \"\"}}, \"*\")"
      ],
      "text/plain": [
       "<IPython.core.display.Javascript object>"
      ]
     },
     "metadata": {},
     "output_type": "display_data"
    },
    {
     "data": {
      "text/markdown": [
       "<span style=\"color:#33cc33\">Correct</span>"
      ],
      "text/plain": [
       "Correct"
      ]
     },
     "metadata": {},
     "output_type": "display_data"
    }
   ],
   "source": [
    "# TODO: Complete the function\n",
    "def get_expected_cost(beds, baths, has_basement):\n",
    "    value = 80000 + 30000 * beds + 10000 * baths + 40000 * has_basement\n",
    "    return value\n",
    "\n",
    "# Check your answer \n",
    "q3.check()"
   ]
  },
  {
   "cell_type": "code",
   "execution_count": 8,
   "id": "39e9ecb2",
   "metadata": {
    "execution": {
     "iopub.execute_input": "2024-10-25T08:53:34.082911Z",
     "iopub.status.busy": "2024-10-25T08:53:34.082525Z",
     "iopub.status.idle": "2024-10-25T08:53:34.087763Z",
     "shell.execute_reply": "2024-10-25T08:53:34.086148Z"
    },
    "papermill": {
     "duration": 0.016489,
     "end_time": "2024-10-25T08:53:34.090500",
     "exception": false,
     "start_time": "2024-10-25T08:53:34.074011",
     "status": "completed"
    },
    "tags": []
   },
   "outputs": [],
   "source": [
    "# Uncomment to see a hint\n",
    "#q3.hint()\n",
    "\n",
    "# Uncomment to view the solution\n",
    "#q3.solution()"
   ]
  },
  {
   "cell_type": "markdown",
   "id": "4d3efbdf",
   "metadata": {
    "papermill": {
     "duration": 0.007231,
     "end_time": "2024-10-25T08:53:34.105439",
     "exception": false,
     "start_time": "2024-10-25T08:53:34.098208",
     "status": "completed"
    },
    "tags": []
   },
   "source": [
    "# Question 4\n",
    "\n",
    "We'll continue our study of boolean arithmetic.  For this question, your task is to provide a description of what happpens when you add booleans. \n",
    "\n",
    "Use the next code cell for your investigation.  Feel free to add or remove any lines of code - use it as your workspace!"
   ]
  },
  {
   "cell_type": "code",
   "execution_count": 9,
   "id": "01909a07",
   "metadata": {
    "execution": {
     "iopub.execute_input": "2024-10-25T08:53:34.122069Z",
     "iopub.status.busy": "2024-10-25T08:53:34.121684Z",
     "iopub.status.idle": "2024-10-25T08:53:34.127533Z",
     "shell.execute_reply": "2024-10-25T08:53:34.126386Z"
    },
    "papermill": {
     "duration": 0.017064,
     "end_time": "2024-10-25T08:53:34.130038",
     "exception": false,
     "start_time": "2024-10-25T08:53:34.112974",
     "status": "completed"
    },
    "tags": []
   },
   "outputs": [
    {
     "name": "stdout",
     "output_type": "stream",
     "text": [
      "0\n",
      "1\n",
      "1\n",
      "2\n",
      "3\n"
     ]
    }
   ],
   "source": [
    "print(False + False)\n",
    "print(True + False)\n",
    "print(False + True)\n",
    "print(True + True)\n",
    "print(False + True + True + True)"
   ]
  },
  {
   "cell_type": "markdown",
   "id": "da33af19",
   "metadata": {
    "papermill": {
     "duration": 0.006933,
     "end_time": "2024-10-25T08:53:34.144351",
     "exception": false,
     "start_time": "2024-10-25T08:53:34.137418",
     "status": "completed"
    },
    "tags": []
   },
   "source": [
    "Once you have an answer, run the code cell below to see the solution.  Viewing the solution will give you credit for answering the problem."
   ]
  },
  {
   "cell_type": "code",
   "execution_count": 10,
   "id": "53d86fc0",
   "metadata": {
    "execution": {
     "iopub.execute_input": "2024-10-25T08:53:34.160395Z",
     "iopub.status.busy": "2024-10-25T08:53:34.159966Z",
     "iopub.status.idle": "2024-10-25T08:53:34.170686Z",
     "shell.execute_reply": "2024-10-25T08:53:34.169302Z"
    },
    "papermill": {
     "duration": 0.021664,
     "end_time": "2024-10-25T08:53:34.173221",
     "exception": false,
     "start_time": "2024-10-25T08:53:34.151557",
     "status": "completed"
    },
    "tags": []
   },
   "outputs": [
    {
     "data": {
      "application/javascript": [
       "parent.postMessage({\"jupyterEvent\": \"custom.exercise_interaction\", \"data\": {\"outcomeType\": 1, \"valueTowardsCompletion\": 0.2, \"interactionType\": 1, \"questionType\": 4, \"questionId\": \"4_AddingBooleans\", \"learnToolsVersion\": \"0.3.4\", \"failureMessage\": \"\", \"exceptionClass\": \"\", \"trace\": \"\"}}, \"*\")"
      ],
      "text/plain": [
       "<IPython.core.display.Javascript object>"
      ]
     },
     "metadata": {},
     "output_type": "display_data"
    },
    {
     "data": {
      "text/markdown": [
       "<span style=\"color:#33cc33\">Correct:</span> \n",
       "\n",
       "When you add booleans, adding `False` is equivalent to adding 0, and adding `True` is equivalent to adding 1."
      ],
      "text/plain": [
       "Correct: \n",
       "\n",
       "When you add booleans, adding `False` is equivalent to adding 0, and adding `True` is equivalent to adding 1."
      ]
     },
     "metadata": {},
     "output_type": "display_data"
    }
   ],
   "source": [
    "# Check your answer (Run this code cell to receive credit!)\n",
    "q4.check()"
   ]
  },
  {
   "cell_type": "markdown",
   "id": "ba2a9d19",
   "metadata": {
    "papermill": {
     "duration": 0.007472,
     "end_time": "2024-10-25T08:53:34.188309",
     "exception": false,
     "start_time": "2024-10-25T08:53:34.180837",
     "status": "completed"
    },
    "tags": []
   },
   "source": [
    "# 🌶️ Question 5\n",
    "\n",
    "You own an online shop where you sell rings with custom engravings.  You offer both gold plated and solid gold rings.\n",
    "- Gold plated rings have a base cost of \\\\$50, and you charge \\\\$7 per engraved unit.  \n",
    "- Solid gold rings have a base cost of \\\\$100, and you charge \\\\$10 per engraved unit.\n",
    "- Spaces and punctuation are counted as engraved units.\n",
    "\n",
    "Write a function `cost_of_project()` that takes two arguments:\n",
    "- `engraving` - a Python string with the text of the engraving\n",
    "- `solid_gold` - a Boolean that indicates whether the ring is solid gold\n",
    "\n",
    "It should return the cost of the project.  This question should be fairly challenging, and you may need a hint."
   ]
  },
  {
   "cell_type": "code",
   "execution_count": 11,
   "id": "2ae3d3a7",
   "metadata": {
    "execution": {
     "iopub.execute_input": "2024-10-25T08:53:34.205066Z",
     "iopub.status.busy": "2024-10-25T08:53:34.204633Z",
     "iopub.status.idle": "2024-10-25T08:53:34.215835Z",
     "shell.execute_reply": "2024-10-25T08:53:34.214621Z"
    },
    "papermill": {
     "duration": 0.022527,
     "end_time": "2024-10-25T08:53:34.218284",
     "exception": false,
     "start_time": "2024-10-25T08:53:34.195757",
     "status": "completed"
    },
    "tags": []
   },
   "outputs": [
    {
     "data": {
      "application/javascript": [
       "parent.postMessage({\"jupyterEvent\": \"custom.exercise_interaction\", \"data\": {\"outcomeType\": 2, \"failureMessage\": \"Expected return value of `240` given `engraving='Charlie+Denver'`, `solid_gold=True`, but got `<learntools.core.constants.PlaceholderValue object at 0x7be773508a00>` instead.\", \"interactionType\": 1, \"questionType\": 2, \"questionId\": \"5_CustomEngravings\", \"learnToolsVersion\": \"0.3.4\", \"valueTowardsCompletion\": 0.0, \"exceptionClass\": \"\", \"trace\": \"\"}}, \"*\")"
      ],
      "text/plain": [
       "<IPython.core.display.Javascript object>"
      ]
     },
     "metadata": {},
     "output_type": "display_data"
    },
    {
     "data": {
      "text/markdown": [
       "<span style=\"color:#cc3333\">Incorrect:</span> Expected return value of `240` given `engraving='Charlie+Denver'`, `solid_gold=True`, but got `<learntools.core.constants.PlaceholderValue object at 0x7be773508a00>` instead."
      ],
      "text/plain": [
       "Incorrect: Expected return value of `240` given `engraving='Charlie+Denver'`, `solid_gold=True`, but got `<learntools.core.constants.PlaceholderValue object at 0x7be773508a00>` instead."
      ]
     },
     "metadata": {},
     "output_type": "display_data"
    }
   ],
   "source": [
    "def cost_of_project(engraving, solid_gold):\n",
    "    cost = ____\n",
    "    return cost\n",
    "\n",
    "# Check your answer\n",
    "q5.check()"
   ]
  },
  {
   "cell_type": "code",
   "execution_count": 12,
   "id": "2de6034f",
   "metadata": {
    "execution": {
     "iopub.execute_input": "2024-10-25T08:53:34.236138Z",
     "iopub.status.busy": "2024-10-25T08:53:34.235738Z",
     "iopub.status.idle": "2024-10-25T08:53:34.240616Z",
     "shell.execute_reply": "2024-10-25T08:53:34.239458Z"
    },
    "papermill": {
     "duration": 0.016518,
     "end_time": "2024-10-25T08:53:34.243046",
     "exception": false,
     "start_time": "2024-10-25T08:53:34.226528",
     "status": "completed"
    },
    "tags": []
   },
   "outputs": [],
   "source": [
    "# Uncomment to see a hint\n",
    "#q5.hint()\n",
    "\n",
    "# Uncomment to view the solution\n",
    "#q5.solution()"
   ]
  },
  {
   "cell_type": "markdown",
   "id": "64591b13",
   "metadata": {
    "papermill": {
     "duration": 0.007585,
     "end_time": "2024-10-25T08:53:34.258492",
     "exception": false,
     "start_time": "2024-10-25T08:53:34.250907",
     "status": "completed"
    },
    "tags": []
   },
   "source": [
    "Run the next code cell to calculate the cost of engraving `Charlie+Denver` on a solid gold ring."
   ]
  },
  {
   "cell_type": "code",
   "execution_count": 13,
   "id": "4776c981",
   "metadata": {
    "execution": {
     "iopub.execute_input": "2024-10-25T08:53:34.275671Z",
     "iopub.status.busy": "2024-10-25T08:53:34.275219Z",
     "iopub.status.idle": "2024-10-25T08:53:34.281296Z",
     "shell.execute_reply": "2024-10-25T08:53:34.280039Z"
    },
    "papermill": {
     "duration": 0.018003,
     "end_time": "2024-10-25T08:53:34.284147",
     "exception": false,
     "start_time": "2024-10-25T08:53:34.266144",
     "status": "completed"
    },
    "tags": []
   },
   "outputs": [
    {
     "name": "stdout",
     "output_type": "stream",
     "text": [
      "<learntools.core.constants.PlaceholderValue object at 0x7be773508a00>\n"
     ]
    }
   ],
   "source": [
    "project_one = cost_of_project(\"Charlie+Denver\", True)\n",
    "print(project_one)"
   ]
  },
  {
   "cell_type": "markdown",
   "id": "f068ac08",
   "metadata": {
    "papermill": {
     "duration": 0.00751,
     "end_time": "2024-10-25T08:53:34.299672",
     "exception": false,
     "start_time": "2024-10-25T08:53:34.292162",
     "status": "completed"
    },
    "tags": []
   },
   "source": [
    "Use the next code cell to calculate the cost of engraving `08/10/2000` on a gold plated ring."
   ]
  },
  {
   "cell_type": "code",
   "execution_count": 14,
   "id": "616cf1aa",
   "metadata": {
    "execution": {
     "iopub.execute_input": "2024-10-25T08:53:34.317151Z",
     "iopub.status.busy": "2024-10-25T08:53:34.316766Z",
     "iopub.status.idle": "2024-10-25T08:53:34.322659Z",
     "shell.execute_reply": "2024-10-25T08:53:34.321334Z"
    },
    "papermill": {
     "duration": 0.017542,
     "end_time": "2024-10-25T08:53:34.325068",
     "exception": false,
     "start_time": "2024-10-25T08:53:34.307526",
     "status": "completed"
    },
    "tags": []
   },
   "outputs": [
    {
     "name": "stdout",
     "output_type": "stream",
     "text": [
      "<learntools.core.constants.PlaceholderValue object at 0x7be773508a00>\n"
     ]
    }
   ],
   "source": [
    "project_two = cost_of_project(\"08/10/2000\", False)\n",
    "print(project_two)"
   ]
  },
  {
   "cell_type": "markdown",
   "id": "928df7a7",
   "metadata": {
    "papermill": {
     "duration": 0.007682,
     "end_time": "2024-10-25T08:53:34.340786",
     "exception": false,
     "start_time": "2024-10-25T08:53:34.333104",
     "status": "completed"
    },
    "tags": []
   },
   "source": [
    "# Keep going\n",
    "\n",
    "Continue to the next lesson to **[learn about conditions and conditional statements](https://www.kaggle.com/alexisbcook/conditions-and-conditional-statements)**."
   ]
  },
  {
   "cell_type": "markdown",
   "id": "8e38358a",
   "metadata": {
    "papermill": {
     "duration": 0.007793,
     "end_time": "2024-10-25T08:53:34.356735",
     "exception": false,
     "start_time": "2024-10-25T08:53:34.348942",
     "status": "completed"
    },
    "tags": []
   },
   "source": [
    "---\n",
    "\n",
    "\n",
    "\n",
    "\n",
    "*Have questions or comments? Visit the [course discussion forum](https://www.kaggle.com/learn/intro-to-programming/discussion) to chat with other learners.*"
   ]
  }
 ],
 "metadata": {
  "kaggle": {
   "accelerator": "none",
   "dataSources": [],
   "isGpuEnabled": false,
   "isInternetEnabled": false,
   "language": "python",
   "sourceType": "notebook"
  },
  "kernelspec": {
   "display_name": "Python 3",
   "language": "python",
   "name": "python3"
  },
  "language_info": {
   "codemirror_mode": {
    "name": "ipython",
    "version": 3
   },
   "file_extension": ".py",
   "mimetype": "text/x-python",
   "name": "python",
   "nbconvert_exporter": "python",
   "pygments_lexer": "ipython3",
   "version": "3.10.14"
  },
  "papermill": {
   "default_parameters": {},
   "duration": 4.861315,
   "end_time": "2024-10-25T08:53:34.887940",
   "environment_variables": {},
   "exception": null,
   "input_path": "__notebook__.ipynb",
   "output_path": "__notebook__.ipynb",
   "parameters": {},
   "start_time": "2024-10-25T08:53:30.026625",
   "version": "2.3.3"
  }
 },
 "nbformat": 4,
 "nbformat_minor": 5
}
