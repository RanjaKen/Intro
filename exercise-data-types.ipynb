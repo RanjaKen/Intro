{
 "cells": [
  {
   "cell_type": "markdown",
   "id": "c493efb6",
   "metadata": {
    "papermill": {
     "duration": 0.010769,
     "end_time": "2024-10-23T16:48:55.377326",
     "exception": false,
     "start_time": "2024-10-23T16:48:55.366557",
     "status": "completed"
    },
    "tags": []
   },
   "source": [
    "**This notebook is an exercise in the [Intro to Programming](https://www.kaggle.com/learn/intro-to-programming) course.  You can reference the tutorial at [this link](https://www.kaggle.com/alexisbcook/data-types).**\n",
    "\n",
    "---\n"
   ]
  },
  {
   "cell_type": "markdown",
   "id": "c65ea806",
   "metadata": {
    "papermill": {
     "duration": 0.008249,
     "end_time": "2024-10-23T16:48:55.394681",
     "exception": false,
     "start_time": "2024-10-23T16:48:55.386432",
     "status": "completed"
    },
    "tags": []
   },
   "source": [
    "In the tutorial, you learned about four different data types: floats, integers, strings, and booleans.  In this exercise, you'll experiment with them.\n",
    "\n",
    "# Set up the notebook\n",
    "\n",
    "Run the next code cell without changes to set up the notebook."
   ]
  },
  {
   "cell_type": "code",
   "execution_count": 1,
   "id": "f498f18c",
   "metadata": {
    "execution": {
     "iopub.execute_input": "2024-10-23T16:48:55.414880Z",
     "iopub.status.busy": "2024-10-23T16:48:55.414410Z",
     "iopub.status.idle": "2024-10-23T16:48:56.393112Z",
     "shell.execute_reply": "2024-10-23T16:48:56.391295Z"
    },
    "papermill": {
     "duration": 0.992348,
     "end_time": "2024-10-23T16:48:56.396051",
     "exception": false,
     "start_time": "2024-10-23T16:48:55.403703",
     "status": "completed"
    },
    "tags": []
   },
   "outputs": [
    {
     "name": "stdout",
     "output_type": "stream",
     "text": [
      "Setup complete.\n"
     ]
    }
   ],
   "source": [
    "# Set up the exercise\n",
    "from learntools.core import binder\n",
    "binder.bind(globals())\n",
    "from learntools.intro_to_programming.ex3 import *\n",
    "print('Setup complete.')"
   ]
  },
  {
   "cell_type": "markdown",
   "id": "1e320f5f",
   "metadata": {
    "papermill": {
     "duration": 0.008559,
     "end_time": "2024-10-23T16:48:56.413933",
     "exception": false,
     "start_time": "2024-10-23T16:48:56.405374",
     "status": "completed"
    },
    "tags": []
   },
   "source": [
    "# Question 1\n",
    "\n",
    "You have seen how to convert a float to an integer with the `int` function.  Try this out yourself by running the code cell below."
   ]
  },
  {
   "cell_type": "code",
   "execution_count": 2,
   "id": "1bd147a1",
   "metadata": {
    "execution": {
     "iopub.execute_input": "2024-10-23T16:48:56.434566Z",
     "iopub.status.busy": "2024-10-23T16:48:56.433957Z",
     "iopub.status.idle": "2024-10-23T16:48:56.441505Z",
     "shell.execute_reply": "2024-10-23T16:48:56.440165Z"
    },
    "papermill": {
     "duration": 0.022172,
     "end_time": "2024-10-23T16:48:56.444776",
     "exception": false,
     "start_time": "2024-10-23T16:48:56.422604",
     "status": "completed"
    },
    "tags": []
   },
   "outputs": [
    {
     "name": "stdout",
     "output_type": "stream",
     "text": [
      "1.0\n",
      "<class 'float'>\n",
      "1\n",
      "<class 'int'>\n"
     ]
    }
   ],
   "source": [
    "# Define a float\n",
    "y = 1.\n",
    "print(y)\n",
    "print(type(y))\n",
    "\n",
    "# Convert float to integer with the int function\n",
    "z = int(y)\n",
    "print(z)\n",
    "print(type(z))"
   ]
  },
  {
   "cell_type": "markdown",
   "id": "f70bd814",
   "metadata": {
    "papermill": {
     "duration": 0.010134,
     "end_time": "2024-10-23T16:48:56.463775",
     "exception": false,
     "start_time": "2024-10-23T16:48:56.453641",
     "status": "completed"
    },
    "tags": []
   },
   "source": [
    "In this case, the float you are using has no numbers after the decimal.  \n",
    "- But what happens when you try to convert a float with a fractional part to an integer?  \n",
    "- How does the outcome of the `int` function change for positive and negative numbers?\n",
    "\n",
    "Use the next code cell to investigate and answer these questions.  Feel free to add or remove any lines of code -- it is your workspace!"
   ]
  },
  {
   "cell_type": "code",
   "execution_count": 3,
   "id": "1ef19974",
   "metadata": {
    "execution": {
     "iopub.execute_input": "2024-10-23T16:48:56.486241Z",
     "iopub.status.busy": "2024-10-23T16:48:56.485740Z",
     "iopub.status.idle": "2024-10-23T16:48:56.491368Z",
     "shell.execute_reply": "2024-10-23T16:48:56.489935Z"
    },
    "papermill": {
     "duration": 0.019276,
     "end_time": "2024-10-23T16:48:56.493949",
     "exception": false,
     "start_time": "2024-10-23T16:48:56.474673",
     "status": "completed"
    },
    "tags": []
   },
   "outputs": [],
   "source": [
    "# Uncomment and run this code to get started!\n",
    "#print(int(1.2321))\n",
    "#print(int(1.747))\n",
    "#print(int(-3.94535))\n",
    "#print(int(-2.19774))"
   ]
  },
  {
   "cell_type": "markdown",
   "id": "6bd79db9",
   "metadata": {
    "papermill": {
     "duration": 0.009206,
     "end_time": "2024-10-23T16:48:56.511973",
     "exception": false,
     "start_time": "2024-10-23T16:48:56.502767",
     "status": "completed"
    },
    "tags": []
   },
   "source": [
    "Once you have an answer, run the code cell below to see the solution.  Viewing the solution will give you credit for answering the problem."
   ]
  },
  {
   "cell_type": "code",
   "execution_count": 4,
   "id": "9087ee89",
   "metadata": {
    "execution": {
     "iopub.execute_input": "2024-10-23T16:48:56.532010Z",
     "iopub.status.busy": "2024-10-23T16:48:56.531570Z",
     "iopub.status.idle": "2024-10-23T16:48:56.544240Z",
     "shell.execute_reply": "2024-10-23T16:48:56.542853Z"
    },
    "papermill": {
     "duration": 0.025872,
     "end_time": "2024-10-23T16:48:56.546903",
     "exception": false,
     "start_time": "2024-10-23T16:48:56.521031",
     "status": "completed"
    },
    "tags": []
   },
   "outputs": [
    {
     "data": {
      "application/javascript": [
       "parent.postMessage({\"jupyterEvent\": \"custom.exercise_interaction\", \"data\": {\"outcomeType\": 1, \"valueTowardsCompletion\": 0.2, \"interactionType\": 1, \"questionType\": 4, \"questionId\": \"1_FloatToInt\", \"learnToolsVersion\": \"0.3.4\", \"failureMessage\": \"\", \"exceptionClass\": \"\", \"trace\": \"\"}}, \"*\")"
      ],
      "text/plain": [
       "<IPython.core.display.Javascript object>"
      ]
     },
     "metadata": {},
     "output_type": "display_data"
    },
    {
     "data": {
      "text/markdown": [
       "<span style=\"color:#33cc33\">Correct:</span> \n",
       "\n",
       "Negative floats are always rounded UP to the closest integer (for instance, both -1.1 and -1.9 are rounded up to -1). Positive floats are always rounded DOWN to the closest integer (for instance, 2.1 and 2.9 are rounded down to 2)."
      ],
      "text/plain": [
       "Correct: \n",
       "\n",
       "Negative floats are always rounded UP to the closest integer (for instance, both -1.1 and -1.9 are rounded up to -1). Positive floats are always rounded DOWN to the closest integer (for instance, 2.1 and 2.9 are rounded down to 2)."
      ]
     },
     "metadata": {},
     "output_type": "display_data"
    }
   ],
   "source": [
    "# Check your answer (Run this code cell to receive credit!)\n",
    "q1.check()"
   ]
  },
  {
   "cell_type": "markdown",
   "id": "02f1c72a",
   "metadata": {
    "papermill": {
     "duration": 0.008748,
     "end_time": "2024-10-23T16:48:56.564843",
     "exception": false,
     "start_time": "2024-10-23T16:48:56.556095",
     "status": "completed"
    },
    "tags": []
   },
   "source": [
    "# Question 2\n",
    "\n",
    "In the tutorial, you learned about booleans (which can take a value of `True` or `False`), in addition to integers, floats, and strings.  For this question, your goal is to determine what happens when you multiply a boolean by any of these data types.  Specifically, \n",
    "- What happens when you multiply an integer or float by `True`?  What happens when you multiply them by `False`?  How does the answer change if the numbers are positive or negative?\n",
    "- What happens when you multiply a string by `True`?  By `False`?\n",
    "\n",
    "Use the next code cell for your investigation. "
   ]
  },
  {
   "cell_type": "code",
   "execution_count": 5,
   "id": "ddde4e0a",
   "metadata": {
    "execution": {
     "iopub.execute_input": "2024-10-23T16:48:56.584832Z",
     "iopub.status.busy": "2024-10-23T16:48:56.584357Z",
     "iopub.status.idle": "2024-10-23T16:48:56.591476Z",
     "shell.execute_reply": "2024-10-23T16:48:56.590012Z"
    },
    "papermill": {
     "duration": 0.020398,
     "end_time": "2024-10-23T16:48:56.594220",
     "exception": false,
     "start_time": "2024-10-23T16:48:56.573822",
     "status": "completed"
    },
    "tags": []
   },
   "outputs": [
    {
     "name": "stdout",
     "output_type": "stream",
     "text": [
      "3\n",
      "-3.1\n",
      "<class 'str'>\n",
      "0\n"
     ]
    }
   ],
   "source": [
    "# Uncomment and run this code to get started!\n",
    "print(3 * True)\n",
    "print(-3.1 * True)\n",
    "print(type(\"abc\" * False))\n",
    "print(len(\"abc\" * False))"
   ]
  },
  {
   "cell_type": "markdown",
   "id": "99e8ade0",
   "metadata": {
    "papermill": {
     "duration": 0.008764,
     "end_time": "2024-10-23T16:48:56.612261",
     "exception": false,
     "start_time": "2024-10-23T16:48:56.603497",
     "status": "completed"
    },
    "tags": []
   },
   "source": [
    "Once you have an answer, run the code cell below to see the solution.  Viewing the solution will give you credit for answering the problem."
   ]
  },
  {
   "cell_type": "code",
   "execution_count": 6,
   "id": "6e205d7b",
   "metadata": {
    "execution": {
     "iopub.execute_input": "2024-10-23T16:48:56.633164Z",
     "iopub.status.busy": "2024-10-23T16:48:56.631927Z",
     "iopub.status.idle": "2024-10-23T16:48:56.642118Z",
     "shell.execute_reply": "2024-10-23T16:48:56.640834Z"
    },
    "papermill": {
     "duration": 0.023154,
     "end_time": "2024-10-23T16:48:56.644568",
     "exception": false,
     "start_time": "2024-10-23T16:48:56.621414",
     "status": "completed"
    },
    "tags": []
   },
   "outputs": [
    {
     "data": {
      "application/javascript": [
       "parent.postMessage({\"jupyterEvent\": \"custom.exercise_interaction\", \"data\": {\"outcomeType\": 1, \"valueTowardsCompletion\": 0.2, \"interactionType\": 1, \"questionType\": 4, \"questionId\": \"2_MultiplyBooleans\", \"learnToolsVersion\": \"0.3.4\", \"failureMessage\": \"\", \"exceptionClass\": \"\", \"trace\": \"\"}}, \"*\")"
      ],
      "text/plain": [
       "<IPython.core.display.Javascript object>"
      ]
     },
     "metadata": {},
     "output_type": "display_data"
    },
    {
     "data": {
      "text/markdown": [
       "<span style=\"color:#33cc33\">Correct:</span> \n",
       "\n",
       "When you multiple an integer or float by a boolean with value `True`, it just returns that same integer or float (and is equivalent to multiplying by 1).  If you multiply an integer or float by a boolean with value `False`, it always returns 0.  This is true for both positive and negative numbers.  If you multiply a string by a boolean with value `True`, it just returns that same string.  And if you multiply a string by a boolean with value `False`, it returns an empty string (or a string with length zero)."
      ],
      "text/plain": [
       "Correct: \n",
       "\n",
       "When you multiple an integer or float by a boolean with value `True`, it just returns that same integer or float (and is equivalent to multiplying by 1).  If you multiply an integer or float by a boolean with value `False`, it always returns 0.  This is true for both positive and negative numbers.  If you multiply a string by a boolean with value `True`, it just returns that same string.  And if you multiply a string by a boolean with value `False`, it returns an empty string (or a string with length zero)."
      ]
     },
     "metadata": {},
     "output_type": "display_data"
    }
   ],
   "source": [
    "# Check your answer (Run this code cell to receive credit!)\n",
    "q2.check()"
   ]
  },
  {
   "cell_type": "markdown",
   "id": "ddc4362f",
   "metadata": {
    "papermill": {
     "duration": 0.010446,
     "end_time": "2024-10-23T16:48:56.664712",
     "exception": false,
     "start_time": "2024-10-23T16:48:56.654266",
     "status": "completed"
    },
    "tags": []
   },
   "source": [
    "# Question 3\n",
    "\n",
    "In this question, you will build off your work from the previous exercise to write a function that estimates the value of a house.\n",
    "\n",
    "Use the next code cell to create a function `get_expected_cost` that takes as input three variables:\n",
    "- `beds` - number of bedrooms (data type float)\n",
    "- `baths` - number of bathrooms (data type float)\n",
    "- `has_basement` - whether or not the house has a basement (data type boolean)\n",
    "\n",
    "It should return the expected cost of a house with those characteristics. Assume that:\n",
    "- the expected cost for a house with 0 bedrooms and 0 bathrooms, and no basement is 80000, \n",
    "- each bedroom adds 30000 to the expected cost,\n",
    "- each bathroom adds 10000 to the expected cost, and\n",
    "- a basement adds 40000 to the expected cost.\n",
    "\n",
    "For instance,\n",
    "- a house with 1 bedroom, 1 bathroom, and no basement has an expected cost of 80000 + 30000 + 10000 = 120000.  This value will be calculated with `get_expected_cost(1, 1, False)`.\n",
    "- a house with 2 bedrooms, 1 bathroom, and a basement has an expected cost of 80000 + 2*30000 + 10000 + 40000 = 190000.  This value will be calculated with `get_expected_cost(2, 1, True)`.\n",
    "\n",
    "Remember you can always get a hint by uncommenting `q3.hint()` in the code cell following the next!"
   ]
  },
  {
   "cell_type": "code",
   "execution_count": 7,
   "id": "e4aaddd0",
   "metadata": {
    "execution": {
     "iopub.execute_input": "2024-10-23T16:48:56.686828Z",
     "iopub.status.busy": "2024-10-23T16:48:56.686365Z",
     "iopub.status.idle": "2024-10-23T16:48:56.697519Z",
     "shell.execute_reply": "2024-10-23T16:48:56.696108Z"
    },
    "papermill": {
     "duration": 0.025024,
     "end_time": "2024-10-23T16:48:56.700305",
     "exception": false,
     "start_time": "2024-10-23T16:48:56.675281",
     "status": "completed"
    },
    "tags": []
   },
   "outputs": [
    {
     "data": {
      "application/javascript": [
       "parent.postMessage({\"jupyterEvent\": \"custom.exercise_interaction\", \"data\": {\"outcomeType\": 2, \"failureMessage\": \"Expected return value of `120000` given `beds=1`, `baths=1`, `has_basement=False`, but got `<learntools.core.constants.PlaceholderValue object at 0x799fee668a30>` instead.\", \"interactionType\": 1, \"questionType\": 2, \"questionId\": \"3_EstimateHouseValueBool\", \"learnToolsVersion\": \"0.3.4\", \"valueTowardsCompletion\": 0.0, \"exceptionClass\": \"\", \"trace\": \"\"}}, \"*\")"
      ],
      "text/plain": [
       "<IPython.core.display.Javascript object>"
      ]
     },
     "metadata": {},
     "output_type": "display_data"
    },
    {
     "data": {
      "text/markdown": [
       "<span style=\"color:#cc3333\">Incorrect:</span> Expected return value of `120000` given `beds=1`, `baths=1`, `has_basement=False`, but got `<learntools.core.constants.PlaceholderValue object at 0x799fee668a30>` instead."
      ],
      "text/plain": [
       "Incorrect: Expected return value of `120000` given `beds=1`, `baths=1`, `has_basement=False`, but got `<learntools.core.constants.PlaceholderValue object at 0x799fee668a30>` instead."
      ]
     },
     "metadata": {},
     "output_type": "display_data"
    }
   ],
   "source": [
    "# TODO: Complete the function\n",
    "def get_expected_cost(beds, baths, has_basement):\n",
    "    value = ____\n",
    "    return value\n",
    "\n",
    "# Check your answer \n",
    "q3.check()"
   ]
  },
  {
   "cell_type": "code",
   "execution_count": 8,
   "id": "3283584c",
   "metadata": {
    "execution": {
     "iopub.execute_input": "2024-10-23T16:48:56.722518Z",
     "iopub.status.busy": "2024-10-23T16:48:56.722060Z",
     "iopub.status.idle": "2024-10-23T16:48:56.732136Z",
     "shell.execute_reply": "2024-10-23T16:48:56.730766Z"
    },
    "papermill": {
     "duration": 0.024301,
     "end_time": "2024-10-23T16:48:56.734857",
     "exception": false,
     "start_time": "2024-10-23T16:48:56.710556",
     "status": "completed"
    },
    "tags": []
   },
   "outputs": [
    {
     "data": {
      "application/javascript": [
       "parent.postMessage({\"jupyterEvent\": \"custom.exercise_interaction\", \"data\": {\"interactionType\": 2, \"questionType\": 2, \"questionId\": \"3_EstimateHouseValueBool\", \"learnToolsVersion\": \"0.3.4\", \"valueTowardsCompletion\": 0.0, \"failureMessage\": \"\", \"exceptionClass\": \"\", \"trace\": \"\", \"outcomeType\": 4}}, \"*\")"
      ],
      "text/plain": [
       "<IPython.core.display.Javascript object>"
      ]
     },
     "metadata": {},
     "output_type": "display_data"
    },
    {
     "data": {
      "text/markdown": [
       "<span style=\"color:#3366cc\">Hint:</span> The variable `has_basement` is either `True` or `False`.  What happens when you multiply it by 40000 (the value of a basement)?  Refer to the previous question if you are unsure."
      ],
      "text/plain": [
       "Hint: The variable `has_basement` is either `True` or `False`.  What happens when you multiply it by 40000 (the value of a basement)?  Refer to the previous question if you are unsure."
      ]
     },
     "metadata": {},
     "output_type": "display_data"
    }
   ],
   "source": [
    "# Uncomment to see a hint\n",
    "q3.hint()\n",
    "\n",
    "# Uncomment to view the solution\n",
    "#q3.solution()"
   ]
  },
  {
   "cell_type": "markdown",
   "id": "26dbd7fb",
   "metadata": {
    "papermill": {
     "duration": 0.010181,
     "end_time": "2024-10-23T16:48:56.755629",
     "exception": false,
     "start_time": "2024-10-23T16:48:56.745448",
     "status": "completed"
    },
    "tags": []
   },
   "source": [
    "# Question 4\n",
    "\n",
    "We'll continue our study of boolean arithmetic.  For this question, your task is to provide a description of what happpens when you add booleans. \n",
    "\n",
    "Use the next code cell for your investigation.  Feel free to add or remove any lines of code - use it as your workspace!"
   ]
  },
  {
   "cell_type": "code",
   "execution_count": 9,
   "id": "9565150c",
   "metadata": {
    "execution": {
     "iopub.execute_input": "2024-10-23T16:48:56.779209Z",
     "iopub.status.busy": "2024-10-23T16:48:56.778731Z",
     "iopub.status.idle": "2024-10-23T16:48:56.786304Z",
     "shell.execute_reply": "2024-10-23T16:48:56.785030Z"
    },
    "papermill": {
     "duration": 0.02282,
     "end_time": "2024-10-23T16:48:56.789228",
     "exception": false,
     "start_time": "2024-10-23T16:48:56.766408",
     "status": "completed"
    },
    "tags": []
   },
   "outputs": [
    {
     "name": "stdout",
     "output_type": "stream",
     "text": [
      "0\n",
      "1\n",
      "1\n",
      "2\n",
      "3\n"
     ]
    }
   ],
   "source": [
    "print(False + False)\n",
    "print(True + False)\n",
    "print(False + True)\n",
    "print(True + True)\n",
    "print(False + True + True + True)"
   ]
  },
  {
   "cell_type": "markdown",
   "id": "a2481d65",
   "metadata": {
    "papermill": {
     "duration": 0.010412,
     "end_time": "2024-10-23T16:48:56.810594",
     "exception": false,
     "start_time": "2024-10-23T16:48:56.800182",
     "status": "completed"
    },
    "tags": []
   },
   "source": [
    "Once you have an answer, run the code cell below to see the solution.  Viewing the solution will give you credit for answering the problem."
   ]
  },
  {
   "cell_type": "code",
   "execution_count": 10,
   "id": "51f4ad4a",
   "metadata": {
    "execution": {
     "iopub.execute_input": "2024-10-23T16:48:56.833987Z",
     "iopub.status.busy": "2024-10-23T16:48:56.833488Z",
     "iopub.status.idle": "2024-10-23T16:48:56.843419Z",
     "shell.execute_reply": "2024-10-23T16:48:56.842156Z"
    },
    "papermill": {
     "duration": 0.024734,
     "end_time": "2024-10-23T16:48:56.846293",
     "exception": false,
     "start_time": "2024-10-23T16:48:56.821559",
     "status": "completed"
    },
    "tags": []
   },
   "outputs": [
    {
     "data": {
      "application/javascript": [
       "parent.postMessage({\"jupyterEvent\": \"custom.exercise_interaction\", \"data\": {\"outcomeType\": 1, \"valueTowardsCompletion\": 0.2, \"interactionType\": 1, \"questionType\": 4, \"questionId\": \"4_AddingBooleans\", \"learnToolsVersion\": \"0.3.4\", \"failureMessage\": \"\", \"exceptionClass\": \"\", \"trace\": \"\"}}, \"*\")"
      ],
      "text/plain": [
       "<IPython.core.display.Javascript object>"
      ]
     },
     "metadata": {},
     "output_type": "display_data"
    },
    {
     "data": {
      "text/markdown": [
       "<span style=\"color:#33cc33\">Correct:</span> \n",
       "\n",
       "When you add booleans, adding `False` is equivalent to adding 0, and adding `True` is equivalent to adding 1."
      ],
      "text/plain": [
       "Correct: \n",
       "\n",
       "When you add booleans, adding `False` is equivalent to adding 0, and adding `True` is equivalent to adding 1."
      ]
     },
     "metadata": {},
     "output_type": "display_data"
    }
   ],
   "source": [
    "# Check your answer (Run this code cell to receive credit!)\n",
    "q4.check()"
   ]
  },
  {
   "cell_type": "markdown",
   "id": "ac29e617",
   "metadata": {
    "papermill": {
     "duration": 0.01034,
     "end_time": "2024-10-23T16:48:56.867435",
     "exception": false,
     "start_time": "2024-10-23T16:48:56.857095",
     "status": "completed"
    },
    "tags": []
   },
   "source": [
    "# 🌶️ Question 5\n",
    "\n",
    "You own an online shop where you sell rings with custom engravings.  You offer both gold plated and solid gold rings.\n",
    "- Gold plated rings have a base cost of \\\\$50, and you charge \\\\$7 per engraved unit.  \n",
    "- Solid gold rings have a base cost of \\\\$100, and you charge \\\\$10 per engraved unit.\n",
    "- Spaces and punctuation are counted as engraved units.\n",
    "\n",
    "Write a function `cost_of_project()` that takes two arguments:\n",
    "- `engraving` - a Python string with the text of the engraving\n",
    "- `solid_gold` - a Boolean that indicates whether the ring is solid gold\n",
    "\n",
    "It should return the cost of the project.  This question should be fairly challenging, and you may need a hint."
   ]
  },
  {
   "cell_type": "code",
   "execution_count": 11,
   "id": "fef88b33",
   "metadata": {
    "execution": {
     "iopub.execute_input": "2024-10-23T16:48:56.893033Z",
     "iopub.status.busy": "2024-10-23T16:48:56.892085Z",
     "iopub.status.idle": "2024-10-23T16:48:56.903678Z",
     "shell.execute_reply": "2024-10-23T16:48:56.902284Z"
    },
    "papermill": {
     "duration": 0.027206,
     "end_time": "2024-10-23T16:48:56.906860",
     "exception": false,
     "start_time": "2024-10-23T16:48:56.879654",
     "status": "completed"
    },
    "tags": []
   },
   "outputs": [
    {
     "data": {
      "application/javascript": [
       "parent.postMessage({\"jupyterEvent\": \"custom.exercise_interaction\", \"data\": {\"outcomeType\": 2, \"failureMessage\": \"Expected return value of `240` given `engraving='Charlie+Denver'`, `solid_gold=True`, but got `<learntools.core.constants.PlaceholderValue object at 0x799fee668a30>` instead.\", \"interactionType\": 1, \"questionType\": 2, \"questionId\": \"5_CustomEngravings\", \"learnToolsVersion\": \"0.3.4\", \"valueTowardsCompletion\": 0.0, \"exceptionClass\": \"\", \"trace\": \"\"}}, \"*\")"
      ],
      "text/plain": [
       "<IPython.core.display.Javascript object>"
      ]
     },
     "metadata": {},
     "output_type": "display_data"
    },
    {
     "data": {
      "text/markdown": [
       "<span style=\"color:#cc3333\">Incorrect:</span> Expected return value of `240` given `engraving='Charlie+Denver'`, `solid_gold=True`, but got `<learntools.core.constants.PlaceholderValue object at 0x799fee668a30>` instead."
      ],
      "text/plain": [
       "Incorrect: Expected return value of `240` given `engraving='Charlie+Denver'`, `solid_gold=True`, but got `<learntools.core.constants.PlaceholderValue object at 0x799fee668a30>` instead."
      ]
     },
     "metadata": {},
     "output_type": "display_data"
    }
   ],
   "source": [
    "def cost_of_project(engraving, solid_gold):\n",
    "    cost = ____\n",
    "    return cost\n",
    "\n",
    "# Check your answer\n",
    "q5.check()"
   ]
  },
  {
   "cell_type": "code",
   "execution_count": 12,
   "id": "8159477b",
   "metadata": {
    "execution": {
     "iopub.execute_input": "2024-10-23T16:48:56.931234Z",
     "iopub.status.busy": "2024-10-23T16:48:56.930756Z",
     "iopub.status.idle": "2024-10-23T16:48:56.935932Z",
     "shell.execute_reply": "2024-10-23T16:48:56.934696Z"
    },
    "papermill": {
     "duration": 0.020415,
     "end_time": "2024-10-23T16:48:56.938399",
     "exception": false,
     "start_time": "2024-10-23T16:48:56.917984",
     "status": "completed"
    },
    "tags": []
   },
   "outputs": [],
   "source": [
    "# Uncomment to see a hint\n",
    "#q5.hint()\n",
    "\n",
    "# Uncomment to view the solution\n",
    "#q5.solution()"
   ]
  },
  {
   "cell_type": "markdown",
   "id": "957d6bc4",
   "metadata": {
    "papermill": {
     "duration": 0.01084,
     "end_time": "2024-10-23T16:48:56.960892",
     "exception": false,
     "start_time": "2024-10-23T16:48:56.950052",
     "status": "completed"
    },
    "tags": []
   },
   "source": [
    "Run the next code cell to calculate the cost of engraving `Charlie+Denver` on a solid gold ring."
   ]
  },
  {
   "cell_type": "code",
   "execution_count": 13,
   "id": "44ed3810",
   "metadata": {
    "execution": {
     "iopub.execute_input": "2024-10-23T16:48:56.986318Z",
     "iopub.status.busy": "2024-10-23T16:48:56.984893Z",
     "iopub.status.idle": "2024-10-23T16:48:56.991629Z",
     "shell.execute_reply": "2024-10-23T16:48:56.990310Z"
    },
    "papermill": {
     "duration": 0.022054,
     "end_time": "2024-10-23T16:48:56.994272",
     "exception": false,
     "start_time": "2024-10-23T16:48:56.972218",
     "status": "completed"
    },
    "tags": []
   },
   "outputs": [
    {
     "name": "stdout",
     "output_type": "stream",
     "text": [
      "<learntools.core.constants.PlaceholderValue object at 0x799fee668a30>\n"
     ]
    }
   ],
   "source": [
    "project_one = cost_of_project(\"Charlie+Denver\", True)\n",
    "print(project_one)"
   ]
  },
  {
   "cell_type": "markdown",
   "id": "2234cc21",
   "metadata": {
    "papermill": {
     "duration": 0.010883,
     "end_time": "2024-10-23T16:48:57.016271",
     "exception": false,
     "start_time": "2024-10-23T16:48:57.005388",
     "status": "completed"
    },
    "tags": []
   },
   "source": [
    "Use the next code cell to calculate the cost of engraving `08/10/2000` on a gold plated ring."
   ]
  },
  {
   "cell_type": "code",
   "execution_count": 14,
   "id": "84201a28",
   "metadata": {
    "execution": {
     "iopub.execute_input": "2024-10-23T16:48:57.041660Z",
     "iopub.status.busy": "2024-10-23T16:48:57.041214Z",
     "iopub.status.idle": "2024-10-23T16:48:57.048208Z",
     "shell.execute_reply": "2024-10-23T16:48:57.046864Z"
    },
    "papermill": {
     "duration": 0.02272,
     "end_time": "2024-10-23T16:48:57.051029",
     "exception": false,
     "start_time": "2024-10-23T16:48:57.028309",
     "status": "completed"
    },
    "tags": []
   },
   "outputs": [
    {
     "name": "stdout",
     "output_type": "stream",
     "text": [
      "<learntools.core.constants.PlaceholderValue object at 0x799fee668a30>\n"
     ]
    }
   ],
   "source": [
    "project_two = cost_of_project(\"08/10/2000\", False)\n",
    "print(project_two)"
   ]
  },
  {
   "cell_type": "markdown",
   "id": "4c6bc408",
   "metadata": {
    "papermill": {
     "duration": 0.011832,
     "end_time": "2024-10-23T16:48:57.074708",
     "exception": false,
     "start_time": "2024-10-23T16:48:57.062876",
     "status": "completed"
    },
    "tags": []
   },
   "source": [
    "# Keep going\n",
    "\n",
    "Continue to the next lesson to **[learn about conditions and conditional statements](https://www.kaggle.com/alexisbcook/conditions-and-conditional-statements)**."
   ]
  },
  {
   "cell_type": "markdown",
   "id": "cb7d7ea4",
   "metadata": {
    "papermill": {
     "duration": 0.011144,
     "end_time": "2024-10-23T16:48:57.097155",
     "exception": false,
     "start_time": "2024-10-23T16:48:57.086011",
     "status": "completed"
    },
    "tags": []
   },
   "source": [
    "---\n",
    "\n",
    "\n",
    "\n",
    "\n",
    "*Have questions or comments? Visit the [course discussion forum](https://www.kaggle.com/learn/intro-to-programming/discussion) to chat with other learners.*"
   ]
  }
 ],
 "metadata": {
  "kaggle": {
   "accelerator": "none",
   "dataSources": [],
   "isGpuEnabled": false,
   "isInternetEnabled": false,
   "language": "python",
   "sourceType": "notebook"
  },
  "kernelspec": {
   "display_name": "Python 3",
   "language": "python",
   "name": "python3"
  },
  "language_info": {
   "codemirror_mode": {
    "name": "ipython",
    "version": 3
   },
   "file_extension": ".py",
   "mimetype": "text/x-python",
   "name": "python",
   "nbconvert_exporter": "python",
   "pygments_lexer": "ipython3",
   "version": "3.10.14"
  },
  "papermill": {
   "default_parameters": {},
   "duration": 5.304017,
   "end_time": "2024-10-23T16:48:57.630630",
   "environment_variables": {},
   "exception": null,
   "input_path": "__notebook__.ipynb",
   "output_path": "__notebook__.ipynb",
   "parameters": {},
   "start_time": "2024-10-23T16:48:52.326613",
   "version": "2.3.3"
  }
 },
 "nbformat": 4,
 "nbformat_minor": 5
}
