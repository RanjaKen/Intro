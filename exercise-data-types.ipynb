{
 "cells": [
  {
   "cell_type": "markdown",
   "id": "a5c16ab9",
   "metadata": {
    "papermill": {
     "duration": 0.010478,
     "end_time": "2024-10-25T08:38:45.074849",
     "exception": false,
     "start_time": "2024-10-25T08:38:45.064371",
     "status": "completed"
    },
    "tags": []
   },
   "source": [
    "**This notebook is an exercise in the [Intro to Programming](https://www.kaggle.com/learn/intro-to-programming) course.  You can reference the tutorial at [this link](https://www.kaggle.com/alexisbcook/data-types).**\n",
    "\n",
    "---\n"
   ]
  },
  {
   "cell_type": "markdown",
   "id": "dec08462",
   "metadata": {
    "papermill": {
     "duration": 0.008005,
     "end_time": "2024-10-25T08:38:45.091853",
     "exception": false,
     "start_time": "2024-10-25T08:38:45.083848",
     "status": "completed"
    },
    "tags": []
   },
   "source": [
    "In the tutorial, you learned about four different data types: floats, integers, strings, and booleans.  In this exercise, you'll experiment with them.\n",
    "\n",
    "# Set up the notebook\n",
    "\n",
    "Run the next code cell without changes to set up the notebook."
   ]
  },
  {
   "cell_type": "code",
   "execution_count": 1,
   "id": "dde82f16",
   "metadata": {
    "execution": {
     "iopub.execute_input": "2024-10-25T08:38:45.110134Z",
     "iopub.status.busy": "2024-10-25T08:38:45.109702Z",
     "iopub.status.idle": "2024-10-25T08:38:46.119684Z",
     "shell.execute_reply": "2024-10-25T08:38:46.118335Z"
    },
    "papermill": {
     "duration": 1.022165,
     "end_time": "2024-10-25T08:38:46.122197",
     "exception": false,
     "start_time": "2024-10-25T08:38:45.100032",
     "status": "completed"
    },
    "tags": []
   },
   "outputs": [
    {
     "name": "stdout",
     "output_type": "stream",
     "text": [
      "Setup complete.\n"
     ]
    }
   ],
   "source": [
    "# Set up the exercise\n",
    "from learntools.core import binder\n",
    "binder.bind(globals())\n",
    "from learntools.intro_to_programming.ex3 import *\n",
    "print('Setup complete.')"
   ]
  },
  {
   "cell_type": "markdown",
   "id": "90cc672b",
   "metadata": {
    "papermill": {
     "duration": 0.008283,
     "end_time": "2024-10-25T08:38:46.139092",
     "exception": false,
     "start_time": "2024-10-25T08:38:46.130809",
     "status": "completed"
    },
    "tags": []
   },
   "source": [
    "# Question 1\n",
    "\n",
    "You have seen how to convert a float to an integer with the `int` function.  Try this out yourself by running the code cell below."
   ]
  },
  {
   "cell_type": "code",
   "execution_count": 2,
   "id": "53192c00",
   "metadata": {
    "execution": {
     "iopub.execute_input": "2024-10-25T08:38:46.157989Z",
     "iopub.status.busy": "2024-10-25T08:38:46.157426Z",
     "iopub.status.idle": "2024-10-25T08:38:46.164403Z",
     "shell.execute_reply": "2024-10-25T08:38:46.163252Z"
    },
    "papermill": {
     "duration": 0.019162,
     "end_time": "2024-10-25T08:38:46.166815",
     "exception": false,
     "start_time": "2024-10-25T08:38:46.147653",
     "status": "completed"
    },
    "tags": []
   },
   "outputs": [
    {
     "name": "stdout",
     "output_type": "stream",
     "text": [
      "1.0\n",
      "<class 'float'>\n",
      "1\n",
      "<class 'int'>\n"
     ]
    }
   ],
   "source": [
    "# Define a float\n",
    "y = 1.\n",
    "print(y)\n",
    "print(type(y))\n",
    "\n",
    "# Convert float to integer with the int function\n",
    "z = int(y)\n",
    "print(z)\n",
    "print(type(z))"
   ]
  },
  {
   "cell_type": "markdown",
   "id": "2aa16aa2",
   "metadata": {
    "papermill": {
     "duration": 0.008314,
     "end_time": "2024-10-25T08:38:46.184602",
     "exception": false,
     "start_time": "2024-10-25T08:38:46.176288",
     "status": "completed"
    },
    "tags": []
   },
   "source": [
    "In this case, the float you are using has no numbers after the decimal.  \n",
    "- But what happens when you try to convert a float with a fractional part to an integer?  \n",
    "- How does the outcome of the `int` function change for positive and negative numbers?\n",
    "\n",
    "Use the next code cell to investigate and answer these questions.  Feel free to add or remove any lines of code -- it is your workspace!"
   ]
  },
  {
   "cell_type": "code",
   "execution_count": 3,
   "id": "947791ea",
   "metadata": {
    "execution": {
     "iopub.execute_input": "2024-10-25T08:38:46.203832Z",
     "iopub.status.busy": "2024-10-25T08:38:46.203356Z",
     "iopub.status.idle": "2024-10-25T08:38:46.208156Z",
     "shell.execute_reply": "2024-10-25T08:38:46.207053Z"
    },
    "papermill": {
     "duration": 0.017464,
     "end_time": "2024-10-25T08:38:46.210627",
     "exception": false,
     "start_time": "2024-10-25T08:38:46.193163",
     "status": "completed"
    },
    "tags": []
   },
   "outputs": [],
   "source": [
    "# Uncomment and run this code to get started!\n",
    "#print(int(1.2321))\n",
    "#print(int(1.747))\n",
    "#print(int(-3.94535))\n",
    "#print(int(-2.19774))"
   ]
  },
  {
   "cell_type": "markdown",
   "id": "8021f9be",
   "metadata": {
    "papermill": {
     "duration": 0.008201,
     "end_time": "2024-10-25T08:38:46.227928",
     "exception": false,
     "start_time": "2024-10-25T08:38:46.219727",
     "status": "completed"
    },
    "tags": []
   },
   "source": [
    "Once you have an answer, run the code cell below to see the solution.  Viewing the solution will give you credit for answering the problem."
   ]
  },
  {
   "cell_type": "code",
   "execution_count": 4,
   "id": "f7e3e232",
   "metadata": {
    "execution": {
     "iopub.execute_input": "2024-10-25T08:38:46.246717Z",
     "iopub.status.busy": "2024-10-25T08:38:46.246278Z",
     "iopub.status.idle": "2024-10-25T08:38:46.257595Z",
     "shell.execute_reply": "2024-10-25T08:38:46.256495Z"
    },
    "papermill": {
     "duration": 0.023607,
     "end_time": "2024-10-25T08:38:46.260026",
     "exception": false,
     "start_time": "2024-10-25T08:38:46.236419",
     "status": "completed"
    },
    "tags": []
   },
   "outputs": [
    {
     "data": {
      "application/javascript": [
       "parent.postMessage({\"jupyterEvent\": \"custom.exercise_interaction\", \"data\": {\"outcomeType\": 1, \"valueTowardsCompletion\": 0.2, \"interactionType\": 1, \"questionType\": 4, \"questionId\": \"1_FloatToInt\", \"learnToolsVersion\": \"0.3.4\", \"failureMessage\": \"\", \"exceptionClass\": \"\", \"trace\": \"\"}}, \"*\")"
      ],
      "text/plain": [
       "<IPython.core.display.Javascript object>"
      ]
     },
     "metadata": {},
     "output_type": "display_data"
    },
    {
     "data": {
      "text/markdown": [
       "<span style=\"color:#33cc33\">Correct:</span> \n",
       "\n",
       "Negative floats are always rounded UP to the closest integer (for instance, both -1.1 and -1.9 are rounded up to -1). Positive floats are always rounded DOWN to the closest integer (for instance, 2.1 and 2.9 are rounded down to 2)."
      ],
      "text/plain": [
       "Correct: \n",
       "\n",
       "Negative floats are always rounded UP to the closest integer (for instance, both -1.1 and -1.9 are rounded up to -1). Positive floats are always rounded DOWN to the closest integer (for instance, 2.1 and 2.9 are rounded down to 2)."
      ]
     },
     "metadata": {},
     "output_type": "display_data"
    }
   ],
   "source": [
    "# Check your answer (Run this code cell to receive credit!)\n",
    "q1.check()"
   ]
  },
  {
   "cell_type": "markdown",
   "id": "8185ebb6",
   "metadata": {
    "papermill": {
     "duration": 0.008846,
     "end_time": "2024-10-25T08:38:46.278045",
     "exception": false,
     "start_time": "2024-10-25T08:38:46.269199",
     "status": "completed"
    },
    "tags": []
   },
   "source": [
    "# Question 2\n",
    "\n",
    "In the tutorial, you learned about booleans (which can take a value of `True` or `False`), in addition to integers, floats, and strings.  For this question, your goal is to determine what happens when you multiply a boolean by any of these data types.  Specifically, \n",
    "- What happens when you multiply an integer or float by `True`?  What happens when you multiply them by `False`?  How does the answer change if the numbers are positive or negative?\n",
    "- What happens when you multiply a string by `True`?  By `False`?\n",
    "\n",
    "Use the next code cell for your investigation. "
   ]
  },
  {
   "cell_type": "code",
   "execution_count": 5,
   "id": "24d67770",
   "metadata": {
    "execution": {
     "iopub.execute_input": "2024-10-25T08:38:46.298583Z",
     "iopub.status.busy": "2024-10-25T08:38:46.297600Z",
     "iopub.status.idle": "2024-10-25T08:38:46.304181Z",
     "shell.execute_reply": "2024-10-25T08:38:46.303050Z"
    },
    "papermill": {
     "duration": 0.02034,
     "end_time": "2024-10-25T08:38:46.307459",
     "exception": false,
     "start_time": "2024-10-25T08:38:46.287119",
     "status": "completed"
    },
    "tags": []
   },
   "outputs": [
    {
     "name": "stdout",
     "output_type": "stream",
     "text": [
      "3\n",
      "-3.1\n",
      "<class 'str'>\n",
      "0\n"
     ]
    }
   ],
   "source": [
    "# Uncomment and run this code to get started!\n",
    "print(3 * True)\n",
    "print(-3.1 * True)\n",
    "print(type(\"abc\" * False))\n",
    "print(len(\"abc\" * False))"
   ]
  },
  {
   "cell_type": "markdown",
   "id": "e9667ecf",
   "metadata": {
    "papermill": {
     "duration": 0.008893,
     "end_time": "2024-10-25T08:38:46.325638",
     "exception": false,
     "start_time": "2024-10-25T08:38:46.316745",
     "status": "completed"
    },
    "tags": []
   },
   "source": [
    "Once you have an answer, run the code cell below to see the solution.  Viewing the solution will give you credit for answering the problem."
   ]
  },
  {
   "cell_type": "code",
   "execution_count": 6,
   "id": "2198751c",
   "metadata": {
    "execution": {
     "iopub.execute_input": "2024-10-25T08:38:46.345422Z",
     "iopub.status.busy": "2024-10-25T08:38:46.344992Z",
     "iopub.status.idle": "2024-10-25T08:38:46.354077Z",
     "shell.execute_reply": "2024-10-25T08:38:46.352968Z"
    },
    "papermill": {
     "duration": 0.021796,
     "end_time": "2024-10-25T08:38:46.356545",
     "exception": false,
     "start_time": "2024-10-25T08:38:46.334749",
     "status": "completed"
    },
    "tags": []
   },
   "outputs": [
    {
     "data": {
      "application/javascript": [
       "parent.postMessage({\"jupyterEvent\": \"custom.exercise_interaction\", \"data\": {\"outcomeType\": 1, \"valueTowardsCompletion\": 0.2, \"interactionType\": 1, \"questionType\": 4, \"questionId\": \"2_MultiplyBooleans\", \"learnToolsVersion\": \"0.3.4\", \"failureMessage\": \"\", \"exceptionClass\": \"\", \"trace\": \"\"}}, \"*\")"
      ],
      "text/plain": [
       "<IPython.core.display.Javascript object>"
      ]
     },
     "metadata": {},
     "output_type": "display_data"
    },
    {
     "data": {
      "text/markdown": [
       "<span style=\"color:#33cc33\">Correct:</span> \n",
       "\n",
       "When you multiple an integer or float by a boolean with value `True`, it just returns that same integer or float (and is equivalent to multiplying by 1).  If you multiply an integer or float by a boolean with value `False`, it always returns 0.  This is true for both positive and negative numbers.  If you multiply a string by a boolean with value `True`, it just returns that same string.  And if you multiply a string by a boolean with value `False`, it returns an empty string (or a string with length zero)."
      ],
      "text/plain": [
       "Correct: \n",
       "\n",
       "When you multiple an integer or float by a boolean with value `True`, it just returns that same integer or float (and is equivalent to multiplying by 1).  If you multiply an integer or float by a boolean with value `False`, it always returns 0.  This is true for both positive and negative numbers.  If you multiply a string by a boolean with value `True`, it just returns that same string.  And if you multiply a string by a boolean with value `False`, it returns an empty string (or a string with length zero)."
      ]
     },
     "metadata": {},
     "output_type": "display_data"
    }
   ],
   "source": [
    "# Check your answer (Run this code cell to receive credit!)\n",
    "q2.check()"
   ]
  },
  {
   "cell_type": "markdown",
   "id": "21bc7e8e",
   "metadata": {
    "papermill": {
     "duration": 0.009037,
     "end_time": "2024-10-25T08:38:46.375272",
     "exception": false,
     "start_time": "2024-10-25T08:38:46.366235",
     "status": "completed"
    },
    "tags": []
   },
   "source": [
    "# Question 3\n",
    "\n",
    "In this question, you will build off your work from the previous exercise to write a function that estimates the value of a house.\n",
    "\n",
    "Use the next code cell to create a function `get_expected_cost` that takes as input three variables:\n",
    "- `beds` - number of bedrooms (data type float)\n",
    "- `baths` - number of bathrooms (data type float)\n",
    "- `has_basement` - whether or not the house has a basement (data type boolean)\n",
    "\n",
    "It should return the expected cost of a house with those characteristics. Assume that:\n",
    "- the expected cost for a house with 0 bedrooms and 0 bathrooms, and no basement is 80000, \n",
    "- each bedroom adds 30000 to the expected cost,\n",
    "- each bathroom adds 10000 to the expected cost, and\n",
    "- a basement adds 40000 to the expected cost.\n",
    "\n",
    "For instance,\n",
    "- a house with 1 bedroom, 1 bathroom, and no basement has an expected cost of 80000 + 30000 + 10000 = 120000.  This value will be calculated with `get_expected_cost(1, 1, False)`.\n",
    "- a house with 2 bedrooms, 1 bathroom, and a basement has an expected cost of 80000 + 2*30000 + 10000 + 40000 = 190000.  This value will be calculated with `get_expected_cost(2, 1, True)`.\n",
    "\n",
    "Remember you can always get a hint by uncommenting `q3.hint()` in the code cell following the next!"
   ]
  },
  {
   "cell_type": "code",
   "execution_count": 7,
   "id": "0009a17c",
   "metadata": {
    "execution": {
     "iopub.execute_input": "2024-10-25T08:38:46.395844Z",
     "iopub.status.busy": "2024-10-25T08:38:46.395147Z",
     "iopub.status.idle": "2024-10-25T08:38:46.404875Z",
     "shell.execute_reply": "2024-10-25T08:38:46.403848Z"
    },
    "papermill": {
     "duration": 0.022782,
     "end_time": "2024-10-25T08:38:46.407479",
     "exception": false,
     "start_time": "2024-10-25T08:38:46.384697",
     "status": "completed"
    },
    "tags": []
   },
   "outputs": [
    {
     "data": {
      "application/javascript": [
       "parent.postMessage({\"jupyterEvent\": \"custom.exercise_interaction\", \"data\": {\"outcomeType\": 1, \"valueTowardsCompletion\": 0.2, \"interactionType\": 1, \"questionType\": 2, \"questionId\": \"3_EstimateHouseValueBool\", \"learnToolsVersion\": \"0.3.4\", \"failureMessage\": \"\", \"exceptionClass\": \"\", \"trace\": \"\"}}, \"*\")"
      ],
      "text/plain": [
       "<IPython.core.display.Javascript object>"
      ]
     },
     "metadata": {},
     "output_type": "display_data"
    },
    {
     "data": {
      "text/markdown": [
       "<span style=\"color:#33cc33\">Correct</span>"
      ],
      "text/plain": [
       "Correct"
      ]
     },
     "metadata": {},
     "output_type": "display_data"
    }
   ],
   "source": [
    "# TODO: Complete the function\n",
    "def get_expected_cost(beds, baths, has_basement):\n",
    "    value = 80000 + 30000 * beds + 10000 * baths + 40000 * has_basement\n",
    "    return value\n",
    "\n",
    "# Check your answer \n",
    "q3.check()"
   ]
  },
  {
   "cell_type": "code",
   "execution_count": 8,
   "id": "f9ed4b76",
   "metadata": {
    "execution": {
     "iopub.execute_input": "2024-10-25T08:38:46.428709Z",
     "iopub.status.busy": "2024-10-25T08:38:46.428226Z",
     "iopub.status.idle": "2024-10-25T08:38:46.432981Z",
     "shell.execute_reply": "2024-10-25T08:38:46.431973Z"
    },
    "papermill": {
     "duration": 0.018008,
     "end_time": "2024-10-25T08:38:46.435285",
     "exception": false,
     "start_time": "2024-10-25T08:38:46.417277",
     "status": "completed"
    },
    "tags": []
   },
   "outputs": [],
   "source": [
    "# Uncomment to see a hint\n",
    "#q3.hint()\n",
    "\n",
    "# Uncomment to view the solution\n",
    "#q3.solution()"
   ]
  },
  {
   "cell_type": "markdown",
   "id": "cdf1975b",
   "metadata": {
    "papermill": {
     "duration": 0.009325,
     "end_time": "2024-10-25T08:38:46.454510",
     "exception": false,
     "start_time": "2024-10-25T08:38:46.445185",
     "status": "completed"
    },
    "tags": []
   },
   "source": [
    "# Question 4\n",
    "\n",
    "We'll continue our study of boolean arithmetic.  For this question, your task is to provide a description of what happpens when you add booleans. \n",
    "\n",
    "Use the next code cell for your investigation.  Feel free to add or remove any lines of code - use it as your workspace!"
   ]
  },
  {
   "cell_type": "code",
   "execution_count": 9,
   "id": "664de7f0",
   "metadata": {
    "execution": {
     "iopub.execute_input": "2024-10-25T08:38:46.476041Z",
     "iopub.status.busy": "2024-10-25T08:38:46.475195Z",
     "iopub.status.idle": "2024-10-25T08:38:46.481903Z",
     "shell.execute_reply": "2024-10-25T08:38:46.480483Z"
    },
    "papermill": {
     "duration": 0.020104,
     "end_time": "2024-10-25T08:38:46.484376",
     "exception": false,
     "start_time": "2024-10-25T08:38:46.464272",
     "status": "completed"
    },
    "tags": []
   },
   "outputs": [
    {
     "name": "stdout",
     "output_type": "stream",
     "text": [
      "0\n",
      "1\n",
      "1\n",
      "2\n",
      "3\n"
     ]
    }
   ],
   "source": [
    "print(False + False)\n",
    "print(True + False)\n",
    "print(False + True)\n",
    "print(True + True)\n",
    "print(False + True + True + True)"
   ]
  },
  {
   "cell_type": "markdown",
   "id": "4881e26f",
   "metadata": {
    "papermill": {
     "duration": 0.010435,
     "end_time": "2024-10-25T08:38:46.505047",
     "exception": false,
     "start_time": "2024-10-25T08:38:46.494612",
     "status": "completed"
    },
    "tags": []
   },
   "source": [
    "Once you have an answer, run the code cell below to see the solution.  Viewing the solution will give you credit for answering the problem."
   ]
  },
  {
   "cell_type": "code",
   "execution_count": 10,
   "id": "15db786a",
   "metadata": {
    "execution": {
     "iopub.execute_input": "2024-10-25T08:38:46.526808Z",
     "iopub.status.busy": "2024-10-25T08:38:46.525917Z",
     "iopub.status.idle": "2024-10-25T08:38:46.534894Z",
     "shell.execute_reply": "2024-10-25T08:38:46.533887Z"
    },
    "papermill": {
     "duration": 0.022389,
     "end_time": "2024-10-25T08:38:46.537236",
     "exception": false,
     "start_time": "2024-10-25T08:38:46.514847",
     "status": "completed"
    },
    "tags": []
   },
   "outputs": [
    {
     "data": {
      "application/javascript": [
       "parent.postMessage({\"jupyterEvent\": \"custom.exercise_interaction\", \"data\": {\"outcomeType\": 1, \"valueTowardsCompletion\": 0.2, \"interactionType\": 1, \"questionType\": 4, \"questionId\": \"4_AddingBooleans\", \"learnToolsVersion\": \"0.3.4\", \"failureMessage\": \"\", \"exceptionClass\": \"\", \"trace\": \"\"}}, \"*\")"
      ],
      "text/plain": [
       "<IPython.core.display.Javascript object>"
      ]
     },
     "metadata": {},
     "output_type": "display_data"
    },
    {
     "data": {
      "text/markdown": [
       "<span style=\"color:#33cc33\">Correct:</span> \n",
       "\n",
       "When you add booleans, adding `False` is equivalent to adding 0, and adding `True` is equivalent to adding 1."
      ],
      "text/plain": [
       "Correct: \n",
       "\n",
       "When you add booleans, adding `False` is equivalent to adding 0, and adding `True` is equivalent to adding 1."
      ]
     },
     "metadata": {},
     "output_type": "display_data"
    }
   ],
   "source": [
    "# Check your answer (Run this code cell to receive credit!)\n",
    "q4.check()"
   ]
  },
  {
   "cell_type": "markdown",
   "id": "8be0f8a9",
   "metadata": {
    "papermill": {
     "duration": 0.010183,
     "end_time": "2024-10-25T08:38:46.558611",
     "exception": false,
     "start_time": "2024-10-25T08:38:46.548428",
     "status": "completed"
    },
    "tags": []
   },
   "source": [
    "# 🌶️ Question 5\n",
    "\n",
    "You own an online shop where you sell rings with custom engravings.  You offer both gold plated and solid gold rings.\n",
    "- Gold plated rings have a base cost of \\\\$50, and you charge \\\\$7 per engraved unit.  \n",
    "- Solid gold rings have a base cost of \\\\$100, and you charge \\\\$10 per engraved unit.\n",
    "- Spaces and punctuation are counted as engraved units.\n",
    "\n",
    "Write a function `cost_of_project()` that takes two arguments:\n",
    "- `engraving` - a Python string with the text of the engraving\n",
    "- `solid_gold` - a Boolean that indicates whether the ring is solid gold\n",
    "\n",
    "It should return the cost of the project.  This question should be fairly challenging, and you may need a hint."
   ]
  },
  {
   "cell_type": "code",
   "execution_count": 11,
   "id": "25c4985a",
   "metadata": {
    "execution": {
     "iopub.execute_input": "2024-10-25T08:38:46.581039Z",
     "iopub.status.busy": "2024-10-25T08:38:46.580536Z",
     "iopub.status.idle": "2024-10-25T08:38:46.590744Z",
     "shell.execute_reply": "2024-10-25T08:38:46.589648Z"
    },
    "papermill": {
     "duration": 0.024264,
     "end_time": "2024-10-25T08:38:46.593095",
     "exception": false,
     "start_time": "2024-10-25T08:38:46.568831",
     "status": "completed"
    },
    "tags": []
   },
   "outputs": [
    {
     "data": {
      "application/javascript": [
       "parent.postMessage({\"jupyterEvent\": \"custom.exercise_interaction\", \"data\": {\"outcomeType\": 2, \"failureMessage\": \"Expected return value of `240` given `engraving='Charlie+Denver'`, `solid_gold=True`, but got `<learntools.core.constants.PlaceholderValue object at 0x7d416a7d0a30>` instead.\", \"interactionType\": 1, \"questionType\": 2, \"questionId\": \"5_CustomEngravings\", \"learnToolsVersion\": \"0.3.4\", \"valueTowardsCompletion\": 0.0, \"exceptionClass\": \"\", \"trace\": \"\"}}, \"*\")"
      ],
      "text/plain": [
       "<IPython.core.display.Javascript object>"
      ]
     },
     "metadata": {},
     "output_type": "display_data"
    },
    {
     "data": {
      "text/markdown": [
       "<span style=\"color:#cc3333\">Incorrect:</span> Expected return value of `240` given `engraving='Charlie+Denver'`, `solid_gold=True`, but got `<learntools.core.constants.PlaceholderValue object at 0x7d416a7d0a30>` instead."
      ],
      "text/plain": [
       "Incorrect: Expected return value of `240` given `engraving='Charlie+Denver'`, `solid_gold=True`, but got `<learntools.core.constants.PlaceholderValue object at 0x7d416a7d0a30>` instead."
      ]
     },
     "metadata": {},
     "output_type": "display_data"
    }
   ],
   "source": [
    "def cost_of_project(engraving, solid_gold):\n",
    "    cost = ____\n",
    "    return cost\n",
    "\n",
    "# Check your answer\n",
    "q5.check()"
   ]
  },
  {
   "cell_type": "code",
   "execution_count": 12,
   "id": "19d8d848",
   "metadata": {
    "execution": {
     "iopub.execute_input": "2024-10-25T08:38:46.616217Z",
     "iopub.status.busy": "2024-10-25T08:38:46.615818Z",
     "iopub.status.idle": "2024-10-25T08:38:46.620382Z",
     "shell.execute_reply": "2024-10-25T08:38:46.619332Z"
    },
    "papermill": {
     "duration": 0.018835,
     "end_time": "2024-10-25T08:38:46.622585",
     "exception": false,
     "start_time": "2024-10-25T08:38:46.603750",
     "status": "completed"
    },
    "tags": []
   },
   "outputs": [],
   "source": [
    "# Uncomment to see a hint\n",
    "#q5.hint()\n",
    "\n",
    "# Uncomment to view the solution\n",
    "#q5.solution()"
   ]
  },
  {
   "cell_type": "markdown",
   "id": "c83b088f",
   "metadata": {
    "papermill": {
     "duration": 0.010157,
     "end_time": "2024-10-25T08:38:46.643086",
     "exception": false,
     "start_time": "2024-10-25T08:38:46.632929",
     "status": "completed"
    },
    "tags": []
   },
   "source": [
    "Run the next code cell to calculate the cost of engraving `Charlie+Denver` on a solid gold ring."
   ]
  },
  {
   "cell_type": "code",
   "execution_count": 13,
   "id": "4ff654f1",
   "metadata": {
    "execution": {
     "iopub.execute_input": "2024-10-25T08:38:46.665548Z",
     "iopub.status.busy": "2024-10-25T08:38:46.665130Z",
     "iopub.status.idle": "2024-10-25T08:38:46.671011Z",
     "shell.execute_reply": "2024-10-25T08:38:46.669879Z"
    },
    "papermill": {
     "duration": 0.020291,
     "end_time": "2024-10-25T08:38:46.673755",
     "exception": false,
     "start_time": "2024-10-25T08:38:46.653464",
     "status": "completed"
    },
    "tags": []
   },
   "outputs": [
    {
     "name": "stdout",
     "output_type": "stream",
     "text": [
      "<learntools.core.constants.PlaceholderValue object at 0x7d416a7d0a30>\n"
     ]
    }
   ],
   "source": [
    "project_one = cost_of_project(\"Charlie+Denver\", True)\n",
    "print(project_one)"
   ]
  },
  {
   "cell_type": "markdown",
   "id": "fcd28bdb",
   "metadata": {
    "papermill": {
     "duration": 0.01033,
     "end_time": "2024-10-25T08:38:46.695015",
     "exception": false,
     "start_time": "2024-10-25T08:38:46.684685",
     "status": "completed"
    },
    "tags": []
   },
   "source": [
    "Use the next code cell to calculate the cost of engraving `08/10/2000` on a gold plated ring."
   ]
  },
  {
   "cell_type": "code",
   "execution_count": 14,
   "id": "de440ce7",
   "metadata": {
    "execution": {
     "iopub.execute_input": "2024-10-25T08:38:46.718470Z",
     "iopub.status.busy": "2024-10-25T08:38:46.718016Z",
     "iopub.status.idle": "2024-10-25T08:38:46.724161Z",
     "shell.execute_reply": "2024-10-25T08:38:46.723106Z"
    },
    "papermill": {
     "duration": 0.020485,
     "end_time": "2024-10-25T08:38:46.726588",
     "exception": false,
     "start_time": "2024-10-25T08:38:46.706103",
     "status": "completed"
    },
    "tags": []
   },
   "outputs": [
    {
     "name": "stdout",
     "output_type": "stream",
     "text": [
      "<learntools.core.constants.PlaceholderValue object at 0x7d416a7d0a30>\n"
     ]
    }
   ],
   "source": [
    "project_two = cost_of_project(\"08/10/2000\", False)\n",
    "print(project_two)"
   ]
  },
  {
   "cell_type": "markdown",
   "id": "cbd0e946",
   "metadata": {
    "papermill": {
     "duration": 0.010283,
     "end_time": "2024-10-25T08:38:46.747578",
     "exception": false,
     "start_time": "2024-10-25T08:38:46.737295",
     "status": "completed"
    },
    "tags": []
   },
   "source": [
    "# Keep going\n",
    "\n",
    "Continue to the next lesson to **[learn about conditions and conditional statements](https://www.kaggle.com/alexisbcook/conditions-and-conditional-statements)**."
   ]
  },
  {
   "cell_type": "markdown",
   "id": "42c397cf",
   "metadata": {
    "papermill": {
     "duration": 0.010329,
     "end_time": "2024-10-25T08:38:46.768703",
     "exception": false,
     "start_time": "2024-10-25T08:38:46.758374",
     "status": "completed"
    },
    "tags": []
   },
   "source": [
    "---\n",
    "\n",
    "\n",
    "\n",
    "\n",
    "*Have questions or comments? Visit the [course discussion forum](https://www.kaggle.com/learn/intro-to-programming/discussion) to chat with other learners.*"
   ]
  }
 ],
 "metadata": {
  "kaggle": {
   "accelerator": "none",
   "dataSources": [],
   "isGpuEnabled": false,
   "isInternetEnabled": false,
   "language": "python",
   "sourceType": "notebook"
  },
  "kernelspec": {
   "display_name": "Python 3",
   "language": "python",
   "name": "python3"
  },
  "language_info": {
   "codemirror_mode": {
    "name": "ipython",
    "version": 3
   },
   "file_extension": ".py",
   "mimetype": "text/x-python",
   "name": "python",
   "nbconvert_exporter": "python",
   "pygments_lexer": "ipython3",
   "version": "3.10.14"
  },
  "papermill": {
   "default_parameters": {},
   "duration": 5.231943,
   "end_time": "2024-10-25T08:38:47.301042",
   "environment_variables": {},
   "exception": null,
   "input_path": "__notebook__.ipynb",
   "output_path": "__notebook__.ipynb",
   "parameters": {},
   "start_time": "2024-10-25T08:38:42.069099",
   "version": "2.3.3"
  }
 },
 "nbformat": 4,
 "nbformat_minor": 5
}
