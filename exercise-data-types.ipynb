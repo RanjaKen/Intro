{
 "cells": [
  {
   "cell_type": "markdown",
   "id": "14977315",
   "metadata": {
    "papermill": {
     "duration": 0.006856,
     "end_time": "2024-10-25T09:03:32.696962",
     "exception": false,
     "start_time": "2024-10-25T09:03:32.690106",
     "status": "completed"
    },
    "tags": []
   },
   "source": [
    "**This notebook is an exercise in the [Intro to Programming](https://www.kaggle.com/learn/intro-to-programming) course.  You can reference the tutorial at [this link](https://www.kaggle.com/alexisbcook/data-types).**\n",
    "\n",
    "---\n"
   ]
  },
  {
   "cell_type": "markdown",
   "id": "6b2b6ed8",
   "metadata": {
    "papermill": {
     "duration": 0.00594,
     "end_time": "2024-10-25T09:03:32.709341",
     "exception": false,
     "start_time": "2024-10-25T09:03:32.703401",
     "status": "completed"
    },
    "tags": []
   },
   "source": [
    "In the tutorial, you learned about four different data types: floats, integers, strings, and booleans.  In this exercise, you'll experiment with them.\n",
    "\n",
    "# Set up the notebook\n",
    "\n",
    "Run the next code cell without changes to set up the notebook."
   ]
  },
  {
   "cell_type": "code",
   "execution_count": 1,
   "id": "a6f49cab",
   "metadata": {
    "execution": {
     "iopub.execute_input": "2024-10-25T09:03:32.723617Z",
     "iopub.status.busy": "2024-10-25T09:03:32.723188Z",
     "iopub.status.idle": "2024-10-25T09:03:33.710342Z",
     "shell.execute_reply": "2024-10-25T09:03:33.708873Z"
    },
    "papermill": {
     "duration": 0.997617,
     "end_time": "2024-10-25T09:03:33.713167",
     "exception": false,
     "start_time": "2024-10-25T09:03:32.715550",
     "status": "completed"
    },
    "tags": []
   },
   "outputs": [
    {
     "name": "stdout",
     "output_type": "stream",
     "text": [
      "Setup complete.\n"
     ]
    }
   ],
   "source": [
    "# Set up the exercise\n",
    "from learntools.core import binder\n",
    "binder.bind(globals())\n",
    "from learntools.intro_to_programming.ex3 import *\n",
    "print('Setup complete.')"
   ]
  },
  {
   "cell_type": "markdown",
   "id": "cc15bac8",
   "metadata": {
    "papermill": {
     "duration": 0.006066,
     "end_time": "2024-10-25T09:03:33.725697",
     "exception": false,
     "start_time": "2024-10-25T09:03:33.719631",
     "status": "completed"
    },
    "tags": []
   },
   "source": [
    "# Question 1\n",
    "\n",
    "You have seen how to convert a float to an integer with the `int` function.  Try this out yourself by running the code cell below."
   ]
  },
  {
   "cell_type": "code",
   "execution_count": 2,
   "id": "030f7737",
   "metadata": {
    "execution": {
     "iopub.execute_input": "2024-10-25T09:03:33.739894Z",
     "iopub.status.busy": "2024-10-25T09:03:33.739340Z",
     "iopub.status.idle": "2024-10-25T09:03:33.746214Z",
     "shell.execute_reply": "2024-10-25T09:03:33.744817Z"
    },
    "papermill": {
     "duration": 0.016776,
     "end_time": "2024-10-25T09:03:33.748717",
     "exception": false,
     "start_time": "2024-10-25T09:03:33.731941",
     "status": "completed"
    },
    "tags": []
   },
   "outputs": [
    {
     "name": "stdout",
     "output_type": "stream",
     "text": [
      "1.0\n",
      "<class 'float'>\n",
      "1\n",
      "<class 'int'>\n"
     ]
    }
   ],
   "source": [
    "# Define a float\n",
    "y = 1.\n",
    "print(y)\n",
    "print(type(y))\n",
    "\n",
    "# Convert float to integer with the int function\n",
    "z = int(y)\n",
    "print(z)\n",
    "print(type(z))"
   ]
  },
  {
   "cell_type": "markdown",
   "id": "176664cc",
   "metadata": {
    "papermill": {
     "duration": 0.006217,
     "end_time": "2024-10-25T09:03:33.762297",
     "exception": false,
     "start_time": "2024-10-25T09:03:33.756080",
     "status": "completed"
    },
    "tags": []
   },
   "source": [
    "In this case, the float you are using has no numbers after the decimal.  \n",
    "- But what happens when you try to convert a float with a fractional part to an integer?  \n",
    "- How does the outcome of the `int` function change for positive and negative numbers?\n",
    "\n",
    "Use the next code cell to investigate and answer these questions.  Feel free to add or remove any lines of code -- it is your workspace!"
   ]
  },
  {
   "cell_type": "code",
   "execution_count": 3,
   "id": "d284f16c",
   "metadata": {
    "execution": {
     "iopub.execute_input": "2024-10-25T09:03:33.776913Z",
     "iopub.status.busy": "2024-10-25T09:03:33.776509Z",
     "iopub.status.idle": "2024-10-25T09:03:33.782739Z",
     "shell.execute_reply": "2024-10-25T09:03:33.781402Z"
    },
    "papermill": {
     "duration": 0.016764,
     "end_time": "2024-10-25T09:03:33.785399",
     "exception": false,
     "start_time": "2024-10-25T09:03:33.768635",
     "status": "completed"
    },
    "tags": []
   },
   "outputs": [
    {
     "name": "stdout",
     "output_type": "stream",
     "text": [
      "1\n",
      "1\n",
      "-3\n",
      "-2\n"
     ]
    }
   ],
   "source": [
    "# Uncomment and run this code to get started!\n",
    "print(int(1.2321))\n",
    "print(int(1.747))\n",
    "print(int(-3.94535))\n",
    "print(int(-2.19774))"
   ]
  },
  {
   "cell_type": "markdown",
   "id": "a7579bcd",
   "metadata": {
    "papermill": {
     "duration": 0.005967,
     "end_time": "2024-10-25T09:03:33.797780",
     "exception": false,
     "start_time": "2024-10-25T09:03:33.791813",
     "status": "completed"
    },
    "tags": []
   },
   "source": [
    "Once you have an answer, run the code cell below to see the solution.  Viewing the solution will give you credit for answering the problem."
   ]
  },
  {
   "cell_type": "code",
   "execution_count": 4,
   "id": "e11d4bf7",
   "metadata": {
    "execution": {
     "iopub.execute_input": "2024-10-25T09:03:33.812238Z",
     "iopub.status.busy": "2024-10-25T09:03:33.811748Z",
     "iopub.status.idle": "2024-10-25T09:03:33.822935Z",
     "shell.execute_reply": "2024-10-25T09:03:33.821869Z"
    },
    "papermill": {
     "duration": 0.020956,
     "end_time": "2024-10-25T09:03:33.825097",
     "exception": false,
     "start_time": "2024-10-25T09:03:33.804141",
     "status": "completed"
    },
    "tags": []
   },
   "outputs": [
    {
     "data": {
      "application/javascript": [
       "parent.postMessage({\"jupyterEvent\": \"custom.exercise_interaction\", \"data\": {\"outcomeType\": 1, \"valueTowardsCompletion\": 0.2, \"interactionType\": 1, \"questionType\": 4, \"questionId\": \"1_FloatToInt\", \"learnToolsVersion\": \"0.3.4\", \"failureMessage\": \"\", \"exceptionClass\": \"\", \"trace\": \"\"}}, \"*\")"
      ],
      "text/plain": [
       "<IPython.core.display.Javascript object>"
      ]
     },
     "metadata": {},
     "output_type": "display_data"
    },
    {
     "data": {
      "text/markdown": [
       "<span style=\"color:#33cc33\">Correct:</span> \n",
       "\n",
       "Negative floats are always rounded UP to the closest integer (for instance, both -1.1 and -1.9 are rounded up to -1). Positive floats are always rounded DOWN to the closest integer (for instance, 2.1 and 2.9 are rounded down to 2)."
      ],
      "text/plain": [
       "Correct: \n",
       "\n",
       "Negative floats are always rounded UP to the closest integer (for instance, both -1.1 and -1.9 are rounded up to -1). Positive floats are always rounded DOWN to the closest integer (for instance, 2.1 and 2.9 are rounded down to 2)."
      ]
     },
     "metadata": {},
     "output_type": "display_data"
    }
   ],
   "source": [
    "# Check your answer (Run this code cell to receive credit!)\n",
    "q1.check()"
   ]
  },
  {
   "cell_type": "markdown",
   "id": "ca2fb173",
   "metadata": {
    "papermill": {
     "duration": 0.006402,
     "end_time": "2024-10-25T09:03:33.838274",
     "exception": false,
     "start_time": "2024-10-25T09:03:33.831872",
     "status": "completed"
    },
    "tags": []
   },
   "source": [
    "# Question 2\n",
    "\n",
    "In the tutorial, you learned about booleans (which can take a value of `True` or `False`), in addition to integers, floats, and strings.  For this question, your goal is to determine what happens when you multiply a boolean by any of these data types.  Specifically, \n",
    "- What happens when you multiply an integer or float by `True`?  What happens when you multiply them by `False`?  How does the answer change if the numbers are positive or negative?\n",
    "- What happens when you multiply a string by `True`?  By `False`?\n",
    "\n",
    "Use the next code cell for your investigation. "
   ]
  },
  {
   "cell_type": "code",
   "execution_count": 5,
   "id": "2c42079e",
   "metadata": {
    "execution": {
     "iopub.execute_input": "2024-10-25T09:03:33.853391Z",
     "iopub.status.busy": "2024-10-25T09:03:33.852979Z",
     "iopub.status.idle": "2024-10-25T09:03:33.859069Z",
     "shell.execute_reply": "2024-10-25T09:03:33.858082Z"
    },
    "papermill": {
     "duration": 0.016223,
     "end_time": "2024-10-25T09:03:33.861214",
     "exception": false,
     "start_time": "2024-10-25T09:03:33.844991",
     "status": "completed"
    },
    "tags": []
   },
   "outputs": [
    {
     "name": "stdout",
     "output_type": "stream",
     "text": [
      "3\n",
      "-3.1\n",
      "<class 'str'>\n",
      "0\n"
     ]
    }
   ],
   "source": [
    "# Uncomment and run this code to get started!\n",
    "print(3 * True)\n",
    "print(-3.1 * True)\n",
    "print(type(\"abc\" * False))\n",
    "print(len(\"abc\" * False))"
   ]
  },
  {
   "cell_type": "markdown",
   "id": "91554f89",
   "metadata": {
    "papermill": {
     "duration": 0.006939,
     "end_time": "2024-10-25T09:03:33.875205",
     "exception": false,
     "start_time": "2024-10-25T09:03:33.868266",
     "status": "completed"
    },
    "tags": []
   },
   "source": [
    "Once you have an answer, run the code cell below to see the solution.  Viewing the solution will give you credit for answering the problem."
   ]
  },
  {
   "cell_type": "code",
   "execution_count": 6,
   "id": "fbe4360f",
   "metadata": {
    "execution": {
     "iopub.execute_input": "2024-10-25T09:03:33.891319Z",
     "iopub.status.busy": "2024-10-25T09:03:33.890930Z",
     "iopub.status.idle": "2024-10-25T09:03:33.900439Z",
     "shell.execute_reply": "2024-10-25T09:03:33.899387Z"
    },
    "papermill": {
     "duration": 0.020099,
     "end_time": "2024-10-25T09:03:33.902746",
     "exception": false,
     "start_time": "2024-10-25T09:03:33.882647",
     "status": "completed"
    },
    "tags": []
   },
   "outputs": [
    {
     "data": {
      "application/javascript": [
       "parent.postMessage({\"jupyterEvent\": \"custom.exercise_interaction\", \"data\": {\"outcomeType\": 1, \"valueTowardsCompletion\": 0.2, \"interactionType\": 1, \"questionType\": 4, \"questionId\": \"2_MultiplyBooleans\", \"learnToolsVersion\": \"0.3.4\", \"failureMessage\": \"\", \"exceptionClass\": \"\", \"trace\": \"\"}}, \"*\")"
      ],
      "text/plain": [
       "<IPython.core.display.Javascript object>"
      ]
     },
     "metadata": {},
     "output_type": "display_data"
    },
    {
     "data": {
      "text/markdown": [
       "<span style=\"color:#33cc33\">Correct:</span> \n",
       "\n",
       "When you multiple an integer or float by a boolean with value `True`, it just returns that same integer or float (and is equivalent to multiplying by 1).  If you multiply an integer or float by a boolean with value `False`, it always returns 0.  This is true for both positive and negative numbers.  If you multiply a string by a boolean with value `True`, it just returns that same string.  And if you multiply a string by a boolean with value `False`, it returns an empty string (or a string with length zero)."
      ],
      "text/plain": [
       "Correct: \n",
       "\n",
       "When you multiple an integer or float by a boolean with value `True`, it just returns that same integer or float (and is equivalent to multiplying by 1).  If you multiply an integer or float by a boolean with value `False`, it always returns 0.  This is true for both positive and negative numbers.  If you multiply a string by a boolean with value `True`, it just returns that same string.  And if you multiply a string by a boolean with value `False`, it returns an empty string (or a string with length zero)."
      ]
     },
     "metadata": {},
     "output_type": "display_data"
    }
   ],
   "source": [
    "# Check your answer (Run this code cell to receive credit!)\n",
    "q2.check()"
   ]
  },
  {
   "cell_type": "markdown",
   "id": "579c7377",
   "metadata": {
    "papermill": {
     "duration": 0.007219,
     "end_time": "2024-10-25T09:03:33.917325",
     "exception": false,
     "start_time": "2024-10-25T09:03:33.910106",
     "status": "completed"
    },
    "tags": []
   },
   "source": [
    "# Question 3\n",
    "\n",
    "In this question, you will build off your work from the previous exercise to write a function that estimates the value of a house.\n",
    "\n",
    "Use the next code cell to create a function `get_expected_cost` that takes as input three variables:\n",
    "- `beds` - number of bedrooms (data type float)\n",
    "- `baths` - number of bathrooms (data type float)\n",
    "- `has_basement` - whether or not the house has a basement (data type boolean)\n",
    "\n",
    "It should return the expected cost of a house with those characteristics. Assume that:\n",
    "- the expected cost for a house with 0 bedrooms and 0 bathrooms, and no basement is 80000, \n",
    "- each bedroom adds 30000 to the expected cost,\n",
    "- each bathroom adds 10000 to the expected cost, and\n",
    "- a basement adds 40000 to the expected cost.\n",
    "\n",
    "For instance,\n",
    "- a house with 1 bedroom, 1 bathroom, and no basement has an expected cost of 80000 + 30000 + 10000 = 120000.  This value will be calculated with `get_expected_cost(1, 1, False)`.\n",
    "- a house with 2 bedrooms, 1 bathroom, and a basement has an expected cost of 80000 + 2*30000 + 10000 + 40000 = 190000.  This value will be calculated with `get_expected_cost(2, 1, True)`.\n",
    "\n",
    "Remember you can always get a hint by uncommenting `q3.hint()` in the code cell following the next!"
   ]
  },
  {
   "cell_type": "code",
   "execution_count": 7,
   "id": "01d063c8",
   "metadata": {
    "execution": {
     "iopub.execute_input": "2024-10-25T09:03:33.933565Z",
     "iopub.status.busy": "2024-10-25T09:03:33.933105Z",
     "iopub.status.idle": "2024-10-25T09:03:33.943335Z",
     "shell.execute_reply": "2024-10-25T09:03:33.942200Z"
    },
    "papermill": {
     "duration": 0.02121,
     "end_time": "2024-10-25T09:03:33.945935",
     "exception": false,
     "start_time": "2024-10-25T09:03:33.924725",
     "status": "completed"
    },
    "tags": []
   },
   "outputs": [
    {
     "data": {
      "application/javascript": [
       "parent.postMessage({\"jupyterEvent\": \"custom.exercise_interaction\", \"data\": {\"outcomeType\": 1, \"valueTowardsCompletion\": 0.2, \"interactionType\": 1, \"questionType\": 2, \"questionId\": \"3_EstimateHouseValueBool\", \"learnToolsVersion\": \"0.3.4\", \"failureMessage\": \"\", \"exceptionClass\": \"\", \"trace\": \"\"}}, \"*\")"
      ],
      "text/plain": [
       "<IPython.core.display.Javascript object>"
      ]
     },
     "metadata": {},
     "output_type": "display_data"
    },
    {
     "data": {
      "text/markdown": [
       "<span style=\"color:#33cc33\">Correct</span>"
      ],
      "text/plain": [
       "Correct"
      ]
     },
     "metadata": {},
     "output_type": "display_data"
    }
   ],
   "source": [
    "# TODO: Complete the function\n",
    "def get_expected_cost(beds, baths, has_basement):\n",
    "    value = 80000 + 30000 * beds + 10000 * baths + 40000 * has_basement\n",
    "    return value\n",
    "\n",
    "# Check your answer \n",
    "q3.check()"
   ]
  },
  {
   "cell_type": "code",
   "execution_count": 8,
   "id": "d1d6924d",
   "metadata": {
    "execution": {
     "iopub.execute_input": "2024-10-25T09:03:33.962662Z",
     "iopub.status.busy": "2024-10-25T09:03:33.961948Z",
     "iopub.status.idle": "2024-10-25T09:03:33.966974Z",
     "shell.execute_reply": "2024-10-25T09:03:33.965794Z"
    },
    "papermill": {
     "duration": 0.015936,
     "end_time": "2024-10-25T09:03:33.969319",
     "exception": false,
     "start_time": "2024-10-25T09:03:33.953383",
     "status": "completed"
    },
    "tags": []
   },
   "outputs": [],
   "source": [
    "# Uncomment to see a hint\n",
    "#q3.hint()\n",
    "\n",
    "# Uncomment to view the solution\n",
    "#q3.solution()"
   ]
  },
  {
   "cell_type": "markdown",
   "id": "a2d67025",
   "metadata": {
    "papermill": {
     "duration": 0.006925,
     "end_time": "2024-10-25T09:03:33.983781",
     "exception": false,
     "start_time": "2024-10-25T09:03:33.976856",
     "status": "completed"
    },
    "tags": []
   },
   "source": [
    "# Question 4\n",
    "\n",
    "We'll continue our study of boolean arithmetic.  For this question, your task is to provide a description of what happpens when you add booleans. \n",
    "\n",
    "Use the next code cell for your investigation.  Feel free to add or remove any lines of code - use it as your workspace!"
   ]
  },
  {
   "cell_type": "code",
   "execution_count": 9,
   "id": "973e7b31",
   "metadata": {
    "execution": {
     "iopub.execute_input": "2024-10-25T09:03:34.000298Z",
     "iopub.status.busy": "2024-10-25T09:03:33.999839Z",
     "iopub.status.idle": "2024-10-25T09:03:34.007105Z",
     "shell.execute_reply": "2024-10-25T09:03:34.005649Z"
    },
    "papermill": {
     "duration": 0.018737,
     "end_time": "2024-10-25T09:03:34.009813",
     "exception": false,
     "start_time": "2024-10-25T09:03:33.991076",
     "status": "completed"
    },
    "tags": []
   },
   "outputs": [
    {
     "name": "stdout",
     "output_type": "stream",
     "text": [
      "0\n",
      "1\n",
      "1\n",
      "2\n",
      "3\n"
     ]
    }
   ],
   "source": [
    "print(False + False)\n",
    "print(True + False)\n",
    "print(False + True)\n",
    "print(True + True)\n",
    "print(False + True + True + True)"
   ]
  },
  {
   "cell_type": "markdown",
   "id": "3044d9aa",
   "metadata": {
    "papermill": {
     "duration": 0.007189,
     "end_time": "2024-10-25T09:03:34.024571",
     "exception": false,
     "start_time": "2024-10-25T09:03:34.017382",
     "status": "completed"
    },
    "tags": []
   },
   "source": [
    "Once you have an answer, run the code cell below to see the solution.  Viewing the solution will give you credit for answering the problem."
   ]
  },
  {
   "cell_type": "code",
   "execution_count": 10,
   "id": "a9922a8b",
   "metadata": {
    "execution": {
     "iopub.execute_input": "2024-10-25T09:03:34.041791Z",
     "iopub.status.busy": "2024-10-25T09:03:34.040848Z",
     "iopub.status.idle": "2024-10-25T09:03:34.049980Z",
     "shell.execute_reply": "2024-10-25T09:03:34.048958Z"
    },
    "papermill": {
     "duration": 0.0202,
     "end_time": "2024-10-25T09:03:34.052269",
     "exception": false,
     "start_time": "2024-10-25T09:03:34.032069",
     "status": "completed"
    },
    "tags": []
   },
   "outputs": [
    {
     "data": {
      "application/javascript": [
       "parent.postMessage({\"jupyterEvent\": \"custom.exercise_interaction\", \"data\": {\"outcomeType\": 1, \"valueTowardsCompletion\": 0.2, \"interactionType\": 1, \"questionType\": 4, \"questionId\": \"4_AddingBooleans\", \"learnToolsVersion\": \"0.3.4\", \"failureMessage\": \"\", \"exceptionClass\": \"\", \"trace\": \"\"}}, \"*\")"
      ],
      "text/plain": [
       "<IPython.core.display.Javascript object>"
      ]
     },
     "metadata": {},
     "output_type": "display_data"
    },
    {
     "data": {
      "text/markdown": [
       "<span style=\"color:#33cc33\">Correct:</span> \n",
       "\n",
       "When you add booleans, adding `False` is equivalent to adding 0, and adding `True` is equivalent to adding 1."
      ],
      "text/plain": [
       "Correct: \n",
       "\n",
       "When you add booleans, adding `False` is equivalent to adding 0, and adding `True` is equivalent to adding 1."
      ]
     },
     "metadata": {},
     "output_type": "display_data"
    }
   ],
   "source": [
    "# Check your answer (Run this code cell to receive credit!)\n",
    "q4.check()"
   ]
  },
  {
   "cell_type": "markdown",
   "id": "9de8737e",
   "metadata": {
    "papermill": {
     "duration": 0.007517,
     "end_time": "2024-10-25T09:03:34.067914",
     "exception": false,
     "start_time": "2024-10-25T09:03:34.060397",
     "status": "completed"
    },
    "tags": []
   },
   "source": [
    "# 🌶️ Question 5\n",
    "\n",
    "You own an online shop where you sell rings with custom engravings.  You offer both gold plated and solid gold rings.\n",
    "- Gold plated rings have a base cost of \\\\$50, and you charge \\\\$7 per engraved unit.  \n",
    "- Solid gold rings have a base cost of \\\\$100, and you charge \\\\$10 per engraved unit.\n",
    "- Spaces and punctuation are counted as engraved units.\n",
    "\n",
    "Write a function `cost_of_project()` that takes two arguments:\n",
    "- `engraving` - a Python string with the text of the engraving\n",
    "- `solid_gold` - a Boolean that indicates whether the ring is solid gold\n",
    "\n",
    "It should return the cost of the project.  This question should be fairly challenging, and you may need a hint."
   ]
  },
  {
   "cell_type": "code",
   "execution_count": 11,
   "id": "188385cb",
   "metadata": {
    "execution": {
     "iopub.execute_input": "2024-10-25T09:03:34.085809Z",
     "iopub.status.busy": "2024-10-25T09:03:34.085375Z",
     "iopub.status.idle": "2024-10-25T09:03:34.095737Z",
     "shell.execute_reply": "2024-10-25T09:03:34.094307Z"
    },
    "papermill": {
     "duration": 0.022229,
     "end_time": "2024-10-25T09:03:34.098177",
     "exception": false,
     "start_time": "2024-10-25T09:03:34.075948",
     "status": "completed"
    },
    "tags": []
   },
   "outputs": [
    {
     "data": {
      "application/javascript": [
       "parent.postMessage({\"jupyterEvent\": \"custom.exercise_interaction\", \"data\": {\"outcomeType\": 1, \"valueTowardsCompletion\": 0.2, \"interactionType\": 1, \"questionType\": 2, \"questionId\": \"5_CustomEngravings\", \"learnToolsVersion\": \"0.3.4\", \"failureMessage\": \"\", \"exceptionClass\": \"\", \"trace\": \"\"}}, \"*\")"
      ],
      "text/plain": [
       "<IPython.core.display.Javascript object>"
      ]
     },
     "metadata": {},
     "output_type": "display_data"
    },
    {
     "data": {
      "text/markdown": [
       "<span style=\"color:#33cc33\">Correct</span>"
      ],
      "text/plain": [
       "Correct"
      ]
     },
     "metadata": {},
     "output_type": "display_data"
    }
   ],
   "source": [
    "def cost_of_project(engraving, solid_gold):\n",
    "    cost = solid_gold * (100 + 10 * len(engraving)) + (not solid_gold) * (50 + 7 * len(engraving))\n",
    "    return cost\n",
    "\n",
    "# Check your answer\n",
    "q5.check()"
   ]
  },
  {
   "cell_type": "code",
   "execution_count": 12,
   "id": "d91b695c",
   "metadata": {
    "execution": {
     "iopub.execute_input": "2024-10-25T09:03:34.115972Z",
     "iopub.status.busy": "2024-10-25T09:03:34.115565Z",
     "iopub.status.idle": "2024-10-25T09:03:34.125000Z",
     "shell.execute_reply": "2024-10-25T09:03:34.123723Z"
    },
    "papermill": {
     "duration": 0.021165,
     "end_time": "2024-10-25T09:03:34.127331",
     "exception": false,
     "start_time": "2024-10-25T09:03:34.106166",
     "status": "completed"
    },
    "tags": []
   },
   "outputs": [
    {
     "data": {
      "application/javascript": [
       "parent.postMessage({\"jupyterEvent\": \"custom.exercise_interaction\", \"data\": {\"interactionType\": 2, \"questionType\": 2, \"questionId\": \"5_CustomEngravings\", \"learnToolsVersion\": \"0.3.4\", \"valueTowardsCompletion\": 0.0, \"failureMessage\": \"\", \"exceptionClass\": \"\", \"trace\": \"\", \"outcomeType\": 4}}, \"*\")"
      ],
      "text/plain": [
       "<IPython.core.display.Javascript object>"
      ]
     },
     "metadata": {},
     "output_type": "display_data"
    },
    {
     "data": {
      "text/markdown": [
       "<span style=\"color:#3366cc\">Hint:</span> There are two options - either the project uses solid gold or does not.  With this in mind, you can structure your solution like this: `cost = solid_gold * ____ + (not solid_gold) * ____`.  You need to figure out how to fill in the blanks. Also, remember that:\n",
       "- If `solid_gold = True`, then `(not solid_gold) = False`, and if `solid_gold = False`, then `(not solid_gold) = True`.\n",
       "- Multiplying an integer by `True` is equivalent to multiplying it by 1, and multiplying an integer by `False` is equivalent to multiplying it by 0."
      ],
      "text/plain": [
       "Hint: There are two options - either the project uses solid gold or does not.  With this in mind, you can structure your solution like this: `cost = solid_gold * ____ + (not solid_gold) * ____`.  You need to figure out how to fill in the blanks. Also, remember that:\n",
       "- If `solid_gold = True`, then `(not solid_gold) = False`, and if `solid_gold = False`, then `(not solid_gold) = True`.\n",
       "- Multiplying an integer by `True` is equivalent to multiplying it by 1, and multiplying an integer by `False` is equivalent to multiplying it by 0."
      ]
     },
     "metadata": {},
     "output_type": "display_data"
    }
   ],
   "source": [
    "# Uncomment to see a hint\n",
    "q5.hint()\n",
    "\n",
    "# Uncomment to view the solution\n",
    "#q5.solution()"
   ]
  },
  {
   "cell_type": "markdown",
   "id": "adaf7e2b",
   "metadata": {
    "papermill": {
     "duration": 0.008394,
     "end_time": "2024-10-25T09:03:34.143960",
     "exception": false,
     "start_time": "2024-10-25T09:03:34.135566",
     "status": "completed"
    },
    "tags": []
   },
   "source": [
    "Run the next code cell to calculate the cost of engraving `Charlie+Denver` on a solid gold ring."
   ]
  },
  {
   "cell_type": "code",
   "execution_count": 13,
   "id": "c33e565f",
   "metadata": {
    "execution": {
     "iopub.execute_input": "2024-10-25T09:03:34.162208Z",
     "iopub.status.busy": "2024-10-25T09:03:34.161820Z",
     "iopub.status.idle": "2024-10-25T09:03:34.167867Z",
     "shell.execute_reply": "2024-10-25T09:03:34.166664Z"
    },
    "papermill": {
     "duration": 0.018334,
     "end_time": "2024-10-25T09:03:34.170677",
     "exception": false,
     "start_time": "2024-10-25T09:03:34.152343",
     "status": "completed"
    },
    "tags": []
   },
   "outputs": [
    {
     "name": "stdout",
     "output_type": "stream",
     "text": [
      "240\n"
     ]
    }
   ],
   "source": [
    "project_one = cost_of_project(\"Charlie+Denver\", True)\n",
    "print(project_one)"
   ]
  },
  {
   "cell_type": "markdown",
   "id": "c88c1d70",
   "metadata": {
    "papermill": {
     "duration": 0.007858,
     "end_time": "2024-10-25T09:03:34.186826",
     "exception": false,
     "start_time": "2024-10-25T09:03:34.178968",
     "status": "completed"
    },
    "tags": []
   },
   "source": [
    "Use the next code cell to calculate the cost of engraving `08/10/2000` on a gold plated ring."
   ]
  },
  {
   "cell_type": "code",
   "execution_count": 14,
   "id": "dd10d214",
   "metadata": {
    "execution": {
     "iopub.execute_input": "2024-10-25T09:03:34.205865Z",
     "iopub.status.busy": "2024-10-25T09:03:34.205429Z",
     "iopub.status.idle": "2024-10-25T09:03:34.211690Z",
     "shell.execute_reply": "2024-10-25T09:03:34.210469Z"
    },
    "papermill": {
     "duration": 0.018163,
     "end_time": "2024-10-25T09:03:34.213915",
     "exception": false,
     "start_time": "2024-10-25T09:03:34.195752",
     "status": "completed"
    },
    "tags": []
   },
   "outputs": [
    {
     "name": "stdout",
     "output_type": "stream",
     "text": [
      "120\n"
     ]
    }
   ],
   "source": [
    "project_two = cost_of_project(\"08/10/2000\", False)\n",
    "print(project_two)"
   ]
  },
  {
   "cell_type": "markdown",
   "id": "694446bb",
   "metadata": {
    "papermill": {
     "duration": 0.008086,
     "end_time": "2024-10-25T09:03:34.230220",
     "exception": false,
     "start_time": "2024-10-25T09:03:34.222134",
     "status": "completed"
    },
    "tags": []
   },
   "source": [
    "# Keep going\n",
    "\n",
    "Continue to the next lesson to **[learn about conditions and conditional statements](https://www.kaggle.com/alexisbcook/conditions-and-conditional-statements)**."
   ]
  },
  {
   "cell_type": "markdown",
   "id": "09996f9f",
   "metadata": {
    "papermill": {
     "duration": 0.007934,
     "end_time": "2024-10-25T09:03:34.246580",
     "exception": false,
     "start_time": "2024-10-25T09:03:34.238646",
     "status": "completed"
    },
    "tags": []
   },
   "source": [
    "---\n",
    "\n",
    "\n",
    "\n",
    "\n",
    "*Have questions or comments? Visit the [course discussion forum](https://www.kaggle.com/learn/intro-to-programming/discussion) to chat with other learners.*"
   ]
  }
 ],
 "metadata": {
  "kaggle": {
   "accelerator": "none",
   "dataSources": [],
   "isGpuEnabled": false,
   "isInternetEnabled": false,
   "language": "python",
   "sourceType": "notebook"
  },
  "kernelspec": {
   "display_name": "Python 3",
   "language": "python",
   "name": "python3"
  },
  "language_info": {
   "codemirror_mode": {
    "name": "ipython",
    "version": 3
   },
   "file_extension": ".py",
   "mimetype": "text/x-python",
   "name": "python",
   "nbconvert_exporter": "python",
   "pygments_lexer": "ipython3",
   "version": "3.10.14"
  },
  "papermill": {
   "default_parameters": {},
   "duration": 4.933911,
   "end_time": "2024-10-25T09:03:34.776064",
   "environment_variables": {},
   "exception": null,
   "input_path": "__notebook__.ipynb",
   "output_path": "__notebook__.ipynb",
   "parameters": {},
   "start_time": "2024-10-25T09:03:29.842153",
   "version": "2.3.3"
  }
 },
 "nbformat": 4,
 "nbformat_minor": 5
}
