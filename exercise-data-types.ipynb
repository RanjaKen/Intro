{
 "cells": [
  {
   "cell_type": "markdown",
   "id": "aa100786",
   "metadata": {
    "papermill": {
     "duration": 0.010176,
     "end_time": "2024-10-23T16:51:37.260981",
     "exception": false,
     "start_time": "2024-10-23T16:51:37.250805",
     "status": "completed"
    },
    "tags": []
   },
   "source": [
    "**This notebook is an exercise in the [Intro to Programming](https://www.kaggle.com/learn/intro-to-programming) course.  You can reference the tutorial at [this link](https://www.kaggle.com/alexisbcook/data-types).**\n",
    "\n",
    "---\n"
   ]
  },
  {
   "cell_type": "markdown",
   "id": "b3bdc7b1",
   "metadata": {
    "papermill": {
     "duration": 0.008226,
     "end_time": "2024-10-23T16:51:37.277919",
     "exception": false,
     "start_time": "2024-10-23T16:51:37.269693",
     "status": "completed"
    },
    "tags": []
   },
   "source": [
    "In the tutorial, you learned about four different data types: floats, integers, strings, and booleans.  In this exercise, you'll experiment with them.\n",
    "\n",
    "# Set up the notebook\n",
    "\n",
    "Run the next code cell without changes to set up the notebook."
   ]
  },
  {
   "cell_type": "code",
   "execution_count": 1,
   "id": "ae2410a9",
   "metadata": {
    "execution": {
     "iopub.execute_input": "2024-10-23T16:51:37.296599Z",
     "iopub.status.busy": "2024-10-23T16:51:37.296151Z",
     "iopub.status.idle": "2024-10-23T16:51:38.315899Z",
     "shell.execute_reply": "2024-10-23T16:51:38.314384Z"
    },
    "papermill": {
     "duration": 1.032278,
     "end_time": "2024-10-23T16:51:38.318593",
     "exception": false,
     "start_time": "2024-10-23T16:51:37.286315",
     "status": "completed"
    },
    "tags": []
   },
   "outputs": [
    {
     "name": "stdout",
     "output_type": "stream",
     "text": [
      "Setup complete.\n"
     ]
    }
   ],
   "source": [
    "# Set up the exercise\n",
    "from learntools.core import binder\n",
    "binder.bind(globals())\n",
    "from learntools.intro_to_programming.ex3 import *\n",
    "print('Setup complete.')"
   ]
  },
  {
   "cell_type": "markdown",
   "id": "d7937795",
   "metadata": {
    "papermill": {
     "duration": 0.008059,
     "end_time": "2024-10-23T16:51:38.335322",
     "exception": false,
     "start_time": "2024-10-23T16:51:38.327263",
     "status": "completed"
    },
    "tags": []
   },
   "source": [
    "# Question 1\n",
    "\n",
    "You have seen how to convert a float to an integer with the `int` function.  Try this out yourself by running the code cell below."
   ]
  },
  {
   "cell_type": "code",
   "execution_count": 2,
   "id": "7670af2e",
   "metadata": {
    "execution": {
     "iopub.execute_input": "2024-10-23T16:51:38.355765Z",
     "iopub.status.busy": "2024-10-23T16:51:38.354747Z",
     "iopub.status.idle": "2024-10-23T16:51:38.361521Z",
     "shell.execute_reply": "2024-10-23T16:51:38.360485Z"
    },
    "papermill": {
     "duration": 0.019979,
     "end_time": "2024-10-23T16:51:38.363779",
     "exception": false,
     "start_time": "2024-10-23T16:51:38.343800",
     "status": "completed"
    },
    "tags": []
   },
   "outputs": [
    {
     "name": "stdout",
     "output_type": "stream",
     "text": [
      "1.0\n",
      "<class 'float'>\n",
      "1\n",
      "<class 'int'>\n"
     ]
    }
   ],
   "source": [
    "# Define a float\n",
    "y = 1.\n",
    "print(y)\n",
    "print(type(y))\n",
    "\n",
    "# Convert float to integer with the int function\n",
    "z = int(y)\n",
    "print(z)\n",
    "print(type(z))"
   ]
  },
  {
   "cell_type": "markdown",
   "id": "1ae34b99",
   "metadata": {
    "papermill": {
     "duration": 0.008247,
     "end_time": "2024-10-23T16:51:38.380590",
     "exception": false,
     "start_time": "2024-10-23T16:51:38.372343",
     "status": "completed"
    },
    "tags": []
   },
   "source": [
    "In this case, the float you are using has no numbers after the decimal.  \n",
    "- But what happens when you try to convert a float with a fractional part to an integer?  \n",
    "- How does the outcome of the `int` function change for positive and negative numbers?\n",
    "\n",
    "Use the next code cell to investigate and answer these questions.  Feel free to add or remove any lines of code -- it is your workspace!"
   ]
  },
  {
   "cell_type": "code",
   "execution_count": 3,
   "id": "4fc0481b",
   "metadata": {
    "execution": {
     "iopub.execute_input": "2024-10-23T16:51:38.400016Z",
     "iopub.status.busy": "2024-10-23T16:51:38.399170Z",
     "iopub.status.idle": "2024-10-23T16:51:38.403925Z",
     "shell.execute_reply": "2024-10-23T16:51:38.402785Z"
    },
    "papermill": {
     "duration": 0.016942,
     "end_time": "2024-10-23T16:51:38.406278",
     "exception": false,
     "start_time": "2024-10-23T16:51:38.389336",
     "status": "completed"
    },
    "tags": []
   },
   "outputs": [],
   "source": [
    "# Uncomment and run this code to get started!\n",
    "#print(int(1.2321))\n",
    "#print(int(1.747))\n",
    "#print(int(-3.94535))\n",
    "#print(int(-2.19774))"
   ]
  },
  {
   "cell_type": "markdown",
   "id": "94ee0e0b",
   "metadata": {
    "papermill": {
     "duration": 0.008325,
     "end_time": "2024-10-23T16:51:38.423254",
     "exception": false,
     "start_time": "2024-10-23T16:51:38.414929",
     "status": "completed"
    },
    "tags": []
   },
   "source": [
    "Once you have an answer, run the code cell below to see the solution.  Viewing the solution will give you credit for answering the problem."
   ]
  },
  {
   "cell_type": "code",
   "execution_count": 4,
   "id": "6f535ba0",
   "metadata": {
    "execution": {
     "iopub.execute_input": "2024-10-23T16:51:38.442217Z",
     "iopub.status.busy": "2024-10-23T16:51:38.441702Z",
     "iopub.status.idle": "2024-10-23T16:51:38.452786Z",
     "shell.execute_reply": "2024-10-23T16:51:38.451683Z"
    },
    "papermill": {
     "duration": 0.023358,
     "end_time": "2024-10-23T16:51:38.455082",
     "exception": false,
     "start_time": "2024-10-23T16:51:38.431724",
     "status": "completed"
    },
    "tags": []
   },
   "outputs": [
    {
     "data": {
      "application/javascript": [
       "parent.postMessage({\"jupyterEvent\": \"custom.exercise_interaction\", \"data\": {\"outcomeType\": 1, \"valueTowardsCompletion\": 0.2, \"interactionType\": 1, \"questionType\": 4, \"questionId\": \"1_FloatToInt\", \"learnToolsVersion\": \"0.3.4\", \"failureMessage\": \"\", \"exceptionClass\": \"\", \"trace\": \"\"}}, \"*\")"
      ],
      "text/plain": [
       "<IPython.core.display.Javascript object>"
      ]
     },
     "metadata": {},
     "output_type": "display_data"
    },
    {
     "data": {
      "text/markdown": [
       "<span style=\"color:#33cc33\">Correct:</span> \n",
       "\n",
       "Negative floats are always rounded UP to the closest integer (for instance, both -1.1 and -1.9 are rounded up to -1). Positive floats are always rounded DOWN to the closest integer (for instance, 2.1 and 2.9 are rounded down to 2)."
      ],
      "text/plain": [
       "Correct: \n",
       "\n",
       "Negative floats are always rounded UP to the closest integer (for instance, both -1.1 and -1.9 are rounded up to -1). Positive floats are always rounded DOWN to the closest integer (for instance, 2.1 and 2.9 are rounded down to 2)."
      ]
     },
     "metadata": {},
     "output_type": "display_data"
    }
   ],
   "source": [
    "# Check your answer (Run this code cell to receive credit!)\n",
    "q1.check()"
   ]
  },
  {
   "cell_type": "markdown",
   "id": "bdf3d0f4",
   "metadata": {
    "papermill": {
     "duration": 0.008808,
     "end_time": "2024-10-23T16:51:38.473063",
     "exception": false,
     "start_time": "2024-10-23T16:51:38.464255",
     "status": "completed"
    },
    "tags": []
   },
   "source": [
    "# Question 2\n",
    "\n",
    "In the tutorial, you learned about booleans (which can take a value of `True` or `False`), in addition to integers, floats, and strings.  For this question, your goal is to determine what happens when you multiply a boolean by any of these data types.  Specifically, \n",
    "- What happens when you multiply an integer or float by `True`?  What happens when you multiply them by `False`?  How does the answer change if the numbers are positive or negative?\n",
    "- What happens when you multiply a string by `True`?  By `False`?\n",
    "\n",
    "Use the next code cell for your investigation. "
   ]
  },
  {
   "cell_type": "code",
   "execution_count": 5,
   "id": "b5da82cb",
   "metadata": {
    "execution": {
     "iopub.execute_input": "2024-10-23T16:51:38.492670Z",
     "iopub.status.busy": "2024-10-23T16:51:38.492248Z",
     "iopub.status.idle": "2024-10-23T16:51:38.498676Z",
     "shell.execute_reply": "2024-10-23T16:51:38.497584Z"
    },
    "papermill": {
     "duration": 0.019702,
     "end_time": "2024-10-23T16:51:38.501670",
     "exception": false,
     "start_time": "2024-10-23T16:51:38.481968",
     "status": "completed"
    },
    "tags": []
   },
   "outputs": [
    {
     "name": "stdout",
     "output_type": "stream",
     "text": [
      "3\n",
      "-3.1\n",
      "<class 'str'>\n",
      "0\n"
     ]
    }
   ],
   "source": [
    "# Uncomment and run this code to get started!\n",
    "print(3 * True)\n",
    "print(-3.1 * True)\n",
    "print(type(\"abc\" * False))\n",
    "print(len(\"abc\" * False))"
   ]
  },
  {
   "cell_type": "markdown",
   "id": "4908a40a",
   "metadata": {
    "papermill": {
     "duration": 0.009028,
     "end_time": "2024-10-23T16:51:38.520078",
     "exception": false,
     "start_time": "2024-10-23T16:51:38.511050",
     "status": "completed"
    },
    "tags": []
   },
   "source": [
    "Once you have an answer, run the code cell below to see the solution.  Viewing the solution will give you credit for answering the problem."
   ]
  },
  {
   "cell_type": "code",
   "execution_count": 6,
   "id": "adfb2fb0",
   "metadata": {
    "execution": {
     "iopub.execute_input": "2024-10-23T16:51:38.541642Z",
     "iopub.status.busy": "2024-10-23T16:51:38.541192Z",
     "iopub.status.idle": "2024-10-23T16:51:38.551132Z",
     "shell.execute_reply": "2024-10-23T16:51:38.549993Z"
    },
    "papermill": {
     "duration": 0.023727,
     "end_time": "2024-10-23T16:51:38.553546",
     "exception": false,
     "start_time": "2024-10-23T16:51:38.529819",
     "status": "completed"
    },
    "tags": []
   },
   "outputs": [
    {
     "data": {
      "application/javascript": [
       "parent.postMessage({\"jupyterEvent\": \"custom.exercise_interaction\", \"data\": {\"outcomeType\": 1, \"valueTowardsCompletion\": 0.2, \"interactionType\": 1, \"questionType\": 4, \"questionId\": \"2_MultiplyBooleans\", \"learnToolsVersion\": \"0.3.4\", \"failureMessage\": \"\", \"exceptionClass\": \"\", \"trace\": \"\"}}, \"*\")"
      ],
      "text/plain": [
       "<IPython.core.display.Javascript object>"
      ]
     },
     "metadata": {},
     "output_type": "display_data"
    },
    {
     "data": {
      "text/markdown": [
       "<span style=\"color:#33cc33\">Correct:</span> \n",
       "\n",
       "When you multiple an integer or float by a boolean with value `True`, it just returns that same integer or float (and is equivalent to multiplying by 1).  If you multiply an integer or float by a boolean with value `False`, it always returns 0.  This is true for both positive and negative numbers.  If you multiply a string by a boolean with value `True`, it just returns that same string.  And if you multiply a string by a boolean with value `False`, it returns an empty string (or a string with length zero)."
      ],
      "text/plain": [
       "Correct: \n",
       "\n",
       "When you multiple an integer or float by a boolean with value `True`, it just returns that same integer or float (and is equivalent to multiplying by 1).  If you multiply an integer or float by a boolean with value `False`, it always returns 0.  This is true for both positive and negative numbers.  If you multiply a string by a boolean with value `True`, it just returns that same string.  And if you multiply a string by a boolean with value `False`, it returns an empty string (or a string with length zero)."
      ]
     },
     "metadata": {},
     "output_type": "display_data"
    }
   ],
   "source": [
    "# Check your answer (Run this code cell to receive credit!)\n",
    "q2.check()"
   ]
  },
  {
   "cell_type": "markdown",
   "id": "a4a2560c",
   "metadata": {
    "papermill": {
     "duration": 0.009323,
     "end_time": "2024-10-23T16:51:38.572688",
     "exception": false,
     "start_time": "2024-10-23T16:51:38.563365",
     "status": "completed"
    },
    "tags": []
   },
   "source": [
    "# Question 3\n",
    "\n",
    "In this question, you will build off your work from the previous exercise to write a function that estimates the value of a house.\n",
    "\n",
    "Use the next code cell to create a function `get_expected_cost` that takes as input three variables:\n",
    "- `beds` - number of bedrooms (data type float)\n",
    "- `baths` - number of bathrooms (data type float)\n",
    "- `has_basement` - whether or not the house has a basement (data type boolean)\n",
    "\n",
    "It should return the expected cost of a house with those characteristics. Assume that:\n",
    "- the expected cost for a house with 0 bedrooms and 0 bathrooms, and no basement is 80000, \n",
    "- each bedroom adds 30000 to the expected cost,\n",
    "- each bathroom adds 10000 to the expected cost, and\n",
    "- a basement adds 40000 to the expected cost.\n",
    "\n",
    "For instance,\n",
    "- a house with 1 bedroom, 1 bathroom, and no basement has an expected cost of 80000 + 30000 + 10000 = 120000.  This value will be calculated with `get_expected_cost(1, 1, False)`.\n",
    "- a house with 2 bedrooms, 1 bathroom, and a basement has an expected cost of 80000 + 2*30000 + 10000 + 40000 = 190000.  This value will be calculated with `get_expected_cost(2, 1, True)`.\n",
    "\n",
    "Remember you can always get a hint by uncommenting `q3.hint()` in the code cell following the next!"
   ]
  },
  {
   "cell_type": "code",
   "execution_count": 7,
   "id": "4ab9a460",
   "metadata": {
    "execution": {
     "iopub.execute_input": "2024-10-23T16:51:38.593761Z",
     "iopub.status.busy": "2024-10-23T16:51:38.592795Z",
     "iopub.status.idle": "2024-10-23T16:51:38.603344Z",
     "shell.execute_reply": "2024-10-23T16:51:38.602197Z"
    },
    "papermill": {
     "duration": 0.023889,
     "end_time": "2024-10-23T16:51:38.605865",
     "exception": false,
     "start_time": "2024-10-23T16:51:38.581976",
     "status": "completed"
    },
    "tags": []
   },
   "outputs": [
    {
     "data": {
      "application/javascript": [
       "parent.postMessage({\"jupyterEvent\": \"custom.exercise_interaction\", \"data\": {\"outcomeType\": 1, \"valueTowardsCompletion\": 0.2, \"interactionType\": 1, \"questionType\": 2, \"questionId\": \"3_EstimateHouseValueBool\", \"learnToolsVersion\": \"0.3.4\", \"failureMessage\": \"\", \"exceptionClass\": \"\", \"trace\": \"\"}}, \"*\")"
      ],
      "text/plain": [
       "<IPython.core.display.Javascript object>"
      ]
     },
     "metadata": {},
     "output_type": "display_data"
    },
    {
     "data": {
      "text/markdown": [
       "<span style=\"color:#33cc33\">Correct</span>"
      ],
      "text/plain": [
       "Correct"
      ]
     },
     "metadata": {},
     "output_type": "display_data"
    }
   ],
   "source": [
    "# TODO: Complete the function\n",
    "def get_expected_cost(beds, baths, has_basement):\n",
    "    value = 80000 + 30000 * beds + 10000 * baths + 40000 * has_basement\n",
    "    return value\n",
    "\n",
    "# Check your answer \n",
    "q3.check()"
   ]
  },
  {
   "cell_type": "code",
   "execution_count": 8,
   "id": "8c123109",
   "metadata": {
    "execution": {
     "iopub.execute_input": "2024-10-23T16:51:38.627664Z",
     "iopub.status.busy": "2024-10-23T16:51:38.627237Z",
     "iopub.status.idle": "2024-10-23T16:51:38.631908Z",
     "shell.execute_reply": "2024-10-23T16:51:38.630788Z"
    },
    "papermill": {
     "duration": 0.018296,
     "end_time": "2024-10-23T16:51:38.634220",
     "exception": false,
     "start_time": "2024-10-23T16:51:38.615924",
     "status": "completed"
    },
    "tags": []
   },
   "outputs": [],
   "source": [
    "# Uncomment to see a hint\n",
    "#q3.hint()\n",
    "\n",
    "# Uncomment to view the solution\n",
    "#q3.solution()"
   ]
  },
  {
   "cell_type": "markdown",
   "id": "42711385",
   "metadata": {
    "papermill": {
     "duration": 0.009446,
     "end_time": "2024-10-23T16:51:38.653503",
     "exception": false,
     "start_time": "2024-10-23T16:51:38.644057",
     "status": "completed"
    },
    "tags": []
   },
   "source": [
    "# Question 4\n",
    "\n",
    "We'll continue our study of boolean arithmetic.  For this question, your task is to provide a description of what happpens when you add booleans. \n",
    "\n",
    "Use the next code cell for your investigation.  Feel free to add or remove any lines of code - use it as your workspace!"
   ]
  },
  {
   "cell_type": "code",
   "execution_count": 9,
   "id": "16c28aa9",
   "metadata": {
    "execution": {
     "iopub.execute_input": "2024-10-23T16:51:38.676854Z",
     "iopub.status.busy": "2024-10-23T16:51:38.676408Z",
     "iopub.status.idle": "2024-10-23T16:51:38.683516Z",
     "shell.execute_reply": "2024-10-23T16:51:38.682228Z"
    },
    "papermill": {
     "duration": 0.021423,
     "end_time": "2024-10-23T16:51:38.686062",
     "exception": false,
     "start_time": "2024-10-23T16:51:38.664639",
     "status": "completed"
    },
    "tags": []
   },
   "outputs": [
    {
     "name": "stdout",
     "output_type": "stream",
     "text": [
      "0\n",
      "1\n",
      "1\n",
      "2\n",
      "3\n"
     ]
    }
   ],
   "source": [
    "print(False + False)\n",
    "print(True + False)\n",
    "print(False + True)\n",
    "print(True + True)\n",
    "print(False + True + True + True)"
   ]
  },
  {
   "cell_type": "markdown",
   "id": "cb62cca8",
   "metadata": {
    "papermill": {
     "duration": 0.009509,
     "end_time": "2024-10-23T16:51:38.705459",
     "exception": false,
     "start_time": "2024-10-23T16:51:38.695950",
     "status": "completed"
    },
    "tags": []
   },
   "source": [
    "Once you have an answer, run the code cell below to see the solution.  Viewing the solution will give you credit for answering the problem."
   ]
  },
  {
   "cell_type": "code",
   "execution_count": 10,
   "id": "866b0385",
   "metadata": {
    "execution": {
     "iopub.execute_input": "2024-10-23T16:51:38.726789Z",
     "iopub.status.busy": "2024-10-23T16:51:38.726345Z",
     "iopub.status.idle": "2024-10-23T16:51:38.736128Z",
     "shell.execute_reply": "2024-10-23T16:51:38.735017Z"
    },
    "papermill": {
     "duration": 0.02343,
     "end_time": "2024-10-23T16:51:38.738725",
     "exception": false,
     "start_time": "2024-10-23T16:51:38.715295",
     "status": "completed"
    },
    "tags": []
   },
   "outputs": [
    {
     "data": {
      "application/javascript": [
       "parent.postMessage({\"jupyterEvent\": \"custom.exercise_interaction\", \"data\": {\"outcomeType\": 1, \"valueTowardsCompletion\": 0.2, \"interactionType\": 1, \"questionType\": 4, \"questionId\": \"4_AddingBooleans\", \"learnToolsVersion\": \"0.3.4\", \"failureMessage\": \"\", \"exceptionClass\": \"\", \"trace\": \"\"}}, \"*\")"
      ],
      "text/plain": [
       "<IPython.core.display.Javascript object>"
      ]
     },
     "metadata": {},
     "output_type": "display_data"
    },
    {
     "data": {
      "text/markdown": [
       "<span style=\"color:#33cc33\">Correct:</span> \n",
       "\n",
       "When you add booleans, adding `False` is equivalent to adding 0, and adding `True` is equivalent to adding 1."
      ],
      "text/plain": [
       "Correct: \n",
       "\n",
       "When you add booleans, adding `False` is equivalent to adding 0, and adding `True` is equivalent to adding 1."
      ]
     },
     "metadata": {},
     "output_type": "display_data"
    }
   ],
   "source": [
    "# Check your answer (Run this code cell to receive credit!)\n",
    "q4.check()"
   ]
  },
  {
   "cell_type": "markdown",
   "id": "c3c5c5b3",
   "metadata": {
    "papermill": {
     "duration": 0.010115,
     "end_time": "2024-10-23T16:51:38.759240",
     "exception": false,
     "start_time": "2024-10-23T16:51:38.749125",
     "status": "completed"
    },
    "tags": []
   },
   "source": [
    "# 🌶️ Question 5\n",
    "\n",
    "You own an online shop where you sell rings with custom engravings.  You offer both gold plated and solid gold rings.\n",
    "- Gold plated rings have a base cost of \\\\$50, and you charge \\\\$7 per engraved unit.  \n",
    "- Solid gold rings have a base cost of \\\\$100, and you charge \\\\$10 per engraved unit.\n",
    "- Spaces and punctuation are counted as engraved units.\n",
    "\n",
    "Write a function `cost_of_project()` that takes two arguments:\n",
    "- `engraving` - a Python string with the text of the engraving\n",
    "- `solid_gold` - a Boolean that indicates whether the ring is solid gold\n",
    "\n",
    "It should return the cost of the project.  This question should be fairly challenging, and you may need a hint."
   ]
  },
  {
   "cell_type": "code",
   "execution_count": 11,
   "id": "4559f207",
   "metadata": {
    "execution": {
     "iopub.execute_input": "2024-10-23T16:51:38.782012Z",
     "iopub.status.busy": "2024-10-23T16:51:38.781539Z",
     "iopub.status.idle": "2024-10-23T16:51:38.791660Z",
     "shell.execute_reply": "2024-10-23T16:51:38.790639Z"
    },
    "papermill": {
     "duration": 0.024511,
     "end_time": "2024-10-23T16:51:38.794307",
     "exception": false,
     "start_time": "2024-10-23T16:51:38.769796",
     "status": "completed"
    },
    "tags": []
   },
   "outputs": [
    {
     "data": {
      "application/javascript": [
       "parent.postMessage({\"jupyterEvent\": \"custom.exercise_interaction\", \"data\": {\"outcomeType\": 2, \"failureMessage\": \"Expected return value of `240` given `engraving='Charlie+Denver'`, `solid_gold=True`, but got `<learntools.core.constants.PlaceholderValue object at 0x7c6e723cca30>` instead.\", \"interactionType\": 1, \"questionType\": 2, \"questionId\": \"5_CustomEngravings\", \"learnToolsVersion\": \"0.3.4\", \"valueTowardsCompletion\": 0.0, \"exceptionClass\": \"\", \"trace\": \"\"}}, \"*\")"
      ],
      "text/plain": [
       "<IPython.core.display.Javascript object>"
      ]
     },
     "metadata": {},
     "output_type": "display_data"
    },
    {
     "data": {
      "text/markdown": [
       "<span style=\"color:#cc3333\">Incorrect:</span> Expected return value of `240` given `engraving='Charlie+Denver'`, `solid_gold=True`, but got `<learntools.core.constants.PlaceholderValue object at 0x7c6e723cca30>` instead."
      ],
      "text/plain": [
       "Incorrect: Expected return value of `240` given `engraving='Charlie+Denver'`, `solid_gold=True`, but got `<learntools.core.constants.PlaceholderValue object at 0x7c6e723cca30>` instead."
      ]
     },
     "metadata": {},
     "output_type": "display_data"
    }
   ],
   "source": [
    "def cost_of_project(engraving, solid_gold):\n",
    "    cost = ____\n",
    "    return cost\n",
    "\n",
    "# Check your answer\n",
    "q5.check()"
   ]
  },
  {
   "cell_type": "code",
   "execution_count": 12,
   "id": "0fe29663",
   "metadata": {
    "execution": {
     "iopub.execute_input": "2024-10-23T16:51:38.817424Z",
     "iopub.status.busy": "2024-10-23T16:51:38.816953Z",
     "iopub.status.idle": "2024-10-23T16:51:38.821640Z",
     "shell.execute_reply": "2024-10-23T16:51:38.820528Z"
    },
    "papermill": {
     "duration": 0.019038,
     "end_time": "2024-10-23T16:51:38.824079",
     "exception": false,
     "start_time": "2024-10-23T16:51:38.805041",
     "status": "completed"
    },
    "tags": []
   },
   "outputs": [],
   "source": [
    "# Uncomment to see a hint\n",
    "#q5.hint()\n",
    "\n",
    "# Uncomment to view the solution\n",
    "#q5.solution()"
   ]
  },
  {
   "cell_type": "markdown",
   "id": "7e8f286c",
   "metadata": {
    "papermill": {
     "duration": 0.010431,
     "end_time": "2024-10-23T16:51:38.845103",
     "exception": false,
     "start_time": "2024-10-23T16:51:38.834672",
     "status": "completed"
    },
    "tags": []
   },
   "source": [
    "Run the next code cell to calculate the cost of engraving `Charlie+Denver` on a solid gold ring."
   ]
  },
  {
   "cell_type": "code",
   "execution_count": 13,
   "id": "1d02ed7c",
   "metadata": {
    "execution": {
     "iopub.execute_input": "2024-10-23T16:51:38.868438Z",
     "iopub.status.busy": "2024-10-23T16:51:38.867998Z",
     "iopub.status.idle": "2024-10-23T16:51:38.873954Z",
     "shell.execute_reply": "2024-10-23T16:51:38.872617Z"
    },
    "papermill": {
     "duration": 0.020797,
     "end_time": "2024-10-23T16:51:38.876729",
     "exception": false,
     "start_time": "2024-10-23T16:51:38.855932",
     "status": "completed"
    },
    "tags": []
   },
   "outputs": [
    {
     "name": "stdout",
     "output_type": "stream",
     "text": [
      "<learntools.core.constants.PlaceholderValue object at 0x7c6e723cca30>\n"
     ]
    }
   ],
   "source": [
    "project_one = cost_of_project(\"Charlie+Denver\", True)\n",
    "print(project_one)"
   ]
  },
  {
   "cell_type": "markdown",
   "id": "25257e03",
   "metadata": {
    "papermill": {
     "duration": 0.010719,
     "end_time": "2024-10-23T16:51:38.898094",
     "exception": false,
     "start_time": "2024-10-23T16:51:38.887375",
     "status": "completed"
    },
    "tags": []
   },
   "source": [
    "Use the next code cell to calculate the cost of engraving `08/10/2000` on a gold plated ring."
   ]
  },
  {
   "cell_type": "code",
   "execution_count": 14,
   "id": "e5bd09d0",
   "metadata": {
    "execution": {
     "iopub.execute_input": "2024-10-23T16:51:38.921591Z",
     "iopub.status.busy": "2024-10-23T16:51:38.921142Z",
     "iopub.status.idle": "2024-10-23T16:51:38.927378Z",
     "shell.execute_reply": "2024-10-23T16:51:38.926245Z"
    },
    "papermill": {
     "duration": 0.020996,
     "end_time": "2024-10-23T16:51:38.929674",
     "exception": false,
     "start_time": "2024-10-23T16:51:38.908678",
     "status": "completed"
    },
    "tags": []
   },
   "outputs": [
    {
     "name": "stdout",
     "output_type": "stream",
     "text": [
      "<learntools.core.constants.PlaceholderValue object at 0x7c6e723cca30>\n"
     ]
    }
   ],
   "source": [
    "project_two = cost_of_project(\"08/10/2000\", False)\n",
    "print(project_two)"
   ]
  },
  {
   "cell_type": "markdown",
   "id": "3b866096",
   "metadata": {
    "papermill": {
     "duration": 0.01057,
     "end_time": "2024-10-23T16:51:38.951158",
     "exception": false,
     "start_time": "2024-10-23T16:51:38.940588",
     "status": "completed"
    },
    "tags": []
   },
   "source": [
    "# Keep going\n",
    "\n",
    "Continue to the next lesson to **[learn about conditions and conditional statements](https://www.kaggle.com/alexisbcook/conditions-and-conditional-statements)**."
   ]
  },
  {
   "cell_type": "markdown",
   "id": "a91d02f1",
   "metadata": {
    "papermill": {
     "duration": 0.010316,
     "end_time": "2024-10-23T16:51:38.972290",
     "exception": false,
     "start_time": "2024-10-23T16:51:38.961974",
     "status": "completed"
    },
    "tags": []
   },
   "source": [
    "---\n",
    "\n",
    "\n",
    "\n",
    "\n",
    "*Have questions or comments? Visit the [course discussion forum](https://www.kaggle.com/learn/intro-to-programming/discussion) to chat with other learners.*"
   ]
  }
 ],
 "metadata": {
  "kaggle": {
   "accelerator": "none",
   "dataSources": [],
   "isGpuEnabled": false,
   "isInternetEnabled": false,
   "language": "python",
   "sourceType": "notebook"
  },
  "kernelspec": {
   "display_name": "Python 3",
   "language": "python",
   "name": "python3"
  },
  "language_info": {
   "codemirror_mode": {
    "name": "ipython",
    "version": 3
   },
   "file_extension": ".py",
   "mimetype": "text/x-python",
   "name": "python",
   "nbconvert_exporter": "python",
   "pygments_lexer": "ipython3",
   "version": "3.10.14"
  },
  "papermill": {
   "default_parameters": {},
   "duration": 5.343331,
   "end_time": "2024-10-23T16:51:39.505273",
   "environment_variables": {},
   "exception": null,
   "input_path": "__notebook__.ipynb",
   "output_path": "__notebook__.ipynb",
   "parameters": {},
   "start_time": "2024-10-23T16:51:34.161942",
   "version": "2.3.3"
  }
 },
 "nbformat": 4,
 "nbformat_minor": 5
}
