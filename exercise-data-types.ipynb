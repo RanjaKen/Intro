{
 "cells": [
  {
   "cell_type": "markdown",
   "id": "2ef3c637",
   "metadata": {
    "papermill": {
     "duration": 0.009221,
     "end_time": "2024-10-23T16:50:59.208889",
     "exception": false,
     "start_time": "2024-10-23T16:50:59.199668",
     "status": "completed"
    },
    "tags": []
   },
   "source": [
    "**This notebook is an exercise in the [Intro to Programming](https://www.kaggle.com/learn/intro-to-programming) course.  You can reference the tutorial at [this link](https://www.kaggle.com/alexisbcook/data-types).**\n",
    "\n",
    "---\n"
   ]
  },
  {
   "cell_type": "markdown",
   "id": "0ce29dea",
   "metadata": {
    "papermill": {
     "duration": 0.008308,
     "end_time": "2024-10-23T16:50:59.226131",
     "exception": false,
     "start_time": "2024-10-23T16:50:59.217823",
     "status": "completed"
    },
    "tags": []
   },
   "source": [
    "In the tutorial, you learned about four different data types: floats, integers, strings, and booleans.  In this exercise, you'll experiment with them.\n",
    "\n",
    "# Set up the notebook\n",
    "\n",
    "Run the next code cell without changes to set up the notebook."
   ]
  },
  {
   "cell_type": "code",
   "execution_count": 1,
   "id": "1f6ef314",
   "metadata": {
    "execution": {
     "iopub.execute_input": "2024-10-23T16:50:59.245244Z",
     "iopub.status.busy": "2024-10-23T16:50:59.244771Z",
     "iopub.status.idle": "2024-10-23T16:51:00.236161Z",
     "shell.execute_reply": "2024-10-23T16:51:00.234469Z"
    },
    "papermill": {
     "duration": 1.004883,
     "end_time": "2024-10-23T16:51:00.239622",
     "exception": false,
     "start_time": "2024-10-23T16:50:59.234739",
     "status": "completed"
    },
    "tags": []
   },
   "outputs": [
    {
     "name": "stdout",
     "output_type": "stream",
     "text": [
      "Setup complete.\n"
     ]
    }
   ],
   "source": [
    "# Set up the exercise\n",
    "from learntools.core import binder\n",
    "binder.bind(globals())\n",
    "from learntools.intro_to_programming.ex3 import *\n",
    "print('Setup complete.')"
   ]
  },
  {
   "cell_type": "markdown",
   "id": "c7625d27",
   "metadata": {
    "papermill": {
     "duration": 0.008395,
     "end_time": "2024-10-23T16:51:00.257139",
     "exception": false,
     "start_time": "2024-10-23T16:51:00.248744",
     "status": "completed"
    },
    "tags": []
   },
   "source": [
    "# Question 1\n",
    "\n",
    "You have seen how to convert a float to an integer with the `int` function.  Try this out yourself by running the code cell below."
   ]
  },
  {
   "cell_type": "code",
   "execution_count": 2,
   "id": "58336077",
   "metadata": {
    "execution": {
     "iopub.execute_input": "2024-10-23T16:51:00.277825Z",
     "iopub.status.busy": "2024-10-23T16:51:00.277221Z",
     "iopub.status.idle": "2024-10-23T16:51:00.284575Z",
     "shell.execute_reply": "2024-10-23T16:51:00.283234Z"
    },
    "papermill": {
     "duration": 0.022016,
     "end_time": "2024-10-23T16:51:00.287956",
     "exception": false,
     "start_time": "2024-10-23T16:51:00.265940",
     "status": "completed"
    },
    "tags": []
   },
   "outputs": [
    {
     "name": "stdout",
     "output_type": "stream",
     "text": [
      "1.0\n",
      "<class 'float'>\n",
      "1\n",
      "<class 'int'>\n"
     ]
    }
   ],
   "source": [
    "# Define a float\n",
    "y = 1.\n",
    "print(y)\n",
    "print(type(y))\n",
    "\n",
    "# Convert float to integer with the int function\n",
    "z = int(y)\n",
    "print(z)\n",
    "print(type(z))"
   ]
  },
  {
   "cell_type": "markdown",
   "id": "4e6007c3",
   "metadata": {
    "papermill": {
     "duration": 0.008651,
     "end_time": "2024-10-23T16:51:00.307582",
     "exception": false,
     "start_time": "2024-10-23T16:51:00.298931",
     "status": "completed"
    },
    "tags": []
   },
   "source": [
    "In this case, the float you are using has no numbers after the decimal.  \n",
    "- But what happens when you try to convert a float with a fractional part to an integer?  \n",
    "- How does the outcome of the `int` function change for positive and negative numbers?\n",
    "\n",
    "Use the next code cell to investigate and answer these questions.  Feel free to add or remove any lines of code -- it is your workspace!"
   ]
  },
  {
   "cell_type": "code",
   "execution_count": 3,
   "id": "4e22198b",
   "metadata": {
    "execution": {
     "iopub.execute_input": "2024-10-23T16:51:00.327259Z",
     "iopub.status.busy": "2024-10-23T16:51:00.326800Z",
     "iopub.status.idle": "2024-10-23T16:51:00.332039Z",
     "shell.execute_reply": "2024-10-23T16:51:00.330618Z"
    },
    "papermill": {
     "duration": 0.018037,
     "end_time": "2024-10-23T16:51:00.334545",
     "exception": false,
     "start_time": "2024-10-23T16:51:00.316508",
     "status": "completed"
    },
    "tags": []
   },
   "outputs": [],
   "source": [
    "# Uncomment and run this code to get started!\n",
    "#print(int(1.2321))\n",
    "#print(int(1.747))\n",
    "#print(int(-3.94535))\n",
    "#print(int(-2.19774))"
   ]
  },
  {
   "cell_type": "markdown",
   "id": "7475c0ea",
   "metadata": {
    "papermill": {
     "duration": 0.008723,
     "end_time": "2024-10-23T16:51:00.352641",
     "exception": false,
     "start_time": "2024-10-23T16:51:00.343918",
     "status": "completed"
    },
    "tags": []
   },
   "source": [
    "Once you have an answer, run the code cell below to see the solution.  Viewing the solution will give you credit for answering the problem."
   ]
  },
  {
   "cell_type": "code",
   "execution_count": 4,
   "id": "569fe0cb",
   "metadata": {
    "execution": {
     "iopub.execute_input": "2024-10-23T16:51:00.372147Z",
     "iopub.status.busy": "2024-10-23T16:51:00.371678Z",
     "iopub.status.idle": "2024-10-23T16:51:00.383222Z",
     "shell.execute_reply": "2024-10-23T16:51:00.381944Z"
    },
    "papermill": {
     "duration": 0.02431,
     "end_time": "2024-10-23T16:51:00.385739",
     "exception": false,
     "start_time": "2024-10-23T16:51:00.361429",
     "status": "completed"
    },
    "tags": []
   },
   "outputs": [
    {
     "data": {
      "application/javascript": [
       "parent.postMessage({\"jupyterEvent\": \"custom.exercise_interaction\", \"data\": {\"outcomeType\": 1, \"valueTowardsCompletion\": 0.2, \"interactionType\": 1, \"questionType\": 4, \"questionId\": \"1_FloatToInt\", \"learnToolsVersion\": \"0.3.4\", \"failureMessage\": \"\", \"exceptionClass\": \"\", \"trace\": \"\"}}, \"*\")"
      ],
      "text/plain": [
       "<IPython.core.display.Javascript object>"
      ]
     },
     "metadata": {},
     "output_type": "display_data"
    },
    {
     "data": {
      "text/markdown": [
       "<span style=\"color:#33cc33\">Correct:</span> \n",
       "\n",
       "Negative floats are always rounded UP to the closest integer (for instance, both -1.1 and -1.9 are rounded up to -1). Positive floats are always rounded DOWN to the closest integer (for instance, 2.1 and 2.9 are rounded down to 2)."
      ],
      "text/plain": [
       "Correct: \n",
       "\n",
       "Negative floats are always rounded UP to the closest integer (for instance, both -1.1 and -1.9 are rounded up to -1). Positive floats are always rounded DOWN to the closest integer (for instance, 2.1 and 2.9 are rounded down to 2)."
      ]
     },
     "metadata": {},
     "output_type": "display_data"
    }
   ],
   "source": [
    "# Check your answer (Run this code cell to receive credit!)\n",
    "q1.check()"
   ]
  },
  {
   "cell_type": "markdown",
   "id": "4e78e236",
   "metadata": {
    "papermill": {
     "duration": 0.00883,
     "end_time": "2024-10-23T16:51:00.403906",
     "exception": false,
     "start_time": "2024-10-23T16:51:00.395076",
     "status": "completed"
    },
    "tags": []
   },
   "source": [
    "# Question 2\n",
    "\n",
    "In the tutorial, you learned about booleans (which can take a value of `True` or `False`), in addition to integers, floats, and strings.  For this question, your goal is to determine what happens when you multiply a boolean by any of these data types.  Specifically, \n",
    "- What happens when you multiply an integer or float by `True`?  What happens when you multiply them by `False`?  How does the answer change if the numbers are positive or negative?\n",
    "- What happens when you multiply a string by `True`?  By `False`?\n",
    "\n",
    "Use the next code cell for your investigation. "
   ]
  },
  {
   "cell_type": "code",
   "execution_count": 5,
   "id": "fd1f4ab6",
   "metadata": {
    "execution": {
     "iopub.execute_input": "2024-10-23T16:51:00.424223Z",
     "iopub.status.busy": "2024-10-23T16:51:00.423776Z",
     "iopub.status.idle": "2024-10-23T16:51:00.430793Z",
     "shell.execute_reply": "2024-10-23T16:51:00.429513Z"
    },
    "papermill": {
     "duration": 0.020536,
     "end_time": "2024-10-23T16:51:00.433675",
     "exception": false,
     "start_time": "2024-10-23T16:51:00.413139",
     "status": "completed"
    },
    "tags": []
   },
   "outputs": [
    {
     "name": "stdout",
     "output_type": "stream",
     "text": [
      "3\n",
      "-3.1\n",
      "<class 'str'>\n",
      "0\n"
     ]
    }
   ],
   "source": [
    "# Uncomment and run this code to get started!\n",
    "print(3 * True)\n",
    "print(-3.1 * True)\n",
    "print(type(\"abc\" * False))\n",
    "print(len(\"abc\" * False))"
   ]
  },
  {
   "cell_type": "markdown",
   "id": "09fdcbb7",
   "metadata": {
    "papermill": {
     "duration": 0.008974,
     "end_time": "2024-10-23T16:51:00.452132",
     "exception": false,
     "start_time": "2024-10-23T16:51:00.443158",
     "status": "completed"
    },
    "tags": []
   },
   "source": [
    "Once you have an answer, run the code cell below to see the solution.  Viewing the solution will give you credit for answering the problem."
   ]
  },
  {
   "cell_type": "code",
   "execution_count": 6,
   "id": "b50f8340",
   "metadata": {
    "execution": {
     "iopub.execute_input": "2024-10-23T16:51:00.472697Z",
     "iopub.status.busy": "2024-10-23T16:51:00.472104Z",
     "iopub.status.idle": "2024-10-23T16:51:00.482097Z",
     "shell.execute_reply": "2024-10-23T16:51:00.480985Z"
    },
    "papermill": {
     "duration": 0.0231,
     "end_time": "2024-10-23T16:51:00.484484",
     "exception": false,
     "start_time": "2024-10-23T16:51:00.461384",
     "status": "completed"
    },
    "tags": []
   },
   "outputs": [
    {
     "data": {
      "application/javascript": [
       "parent.postMessage({\"jupyterEvent\": \"custom.exercise_interaction\", \"data\": {\"outcomeType\": 1, \"valueTowardsCompletion\": 0.2, \"interactionType\": 1, \"questionType\": 4, \"questionId\": \"2_MultiplyBooleans\", \"learnToolsVersion\": \"0.3.4\", \"failureMessage\": \"\", \"exceptionClass\": \"\", \"trace\": \"\"}}, \"*\")"
      ],
      "text/plain": [
       "<IPython.core.display.Javascript object>"
      ]
     },
     "metadata": {},
     "output_type": "display_data"
    },
    {
     "data": {
      "text/markdown": [
       "<span style=\"color:#33cc33\">Correct:</span> \n",
       "\n",
       "When you multiple an integer or float by a boolean with value `True`, it just returns that same integer or float (and is equivalent to multiplying by 1).  If you multiply an integer or float by a boolean with value `False`, it always returns 0.  This is true for both positive and negative numbers.  If you multiply a string by a boolean with value `True`, it just returns that same string.  And if you multiply a string by a boolean with value `False`, it returns an empty string (or a string with length zero)."
      ],
      "text/plain": [
       "Correct: \n",
       "\n",
       "When you multiple an integer or float by a boolean with value `True`, it just returns that same integer or float (and is equivalent to multiplying by 1).  If you multiply an integer or float by a boolean with value `False`, it always returns 0.  This is true for both positive and negative numbers.  If you multiply a string by a boolean with value `True`, it just returns that same string.  And if you multiply a string by a boolean with value `False`, it returns an empty string (or a string with length zero)."
      ]
     },
     "metadata": {},
     "output_type": "display_data"
    }
   ],
   "source": [
    "# Check your answer (Run this code cell to receive credit!)\n",
    "q2.check()"
   ]
  },
  {
   "cell_type": "markdown",
   "id": "3ccd75d6",
   "metadata": {
    "papermill": {
     "duration": 0.009341,
     "end_time": "2024-10-23T16:51:00.503458",
     "exception": false,
     "start_time": "2024-10-23T16:51:00.494117",
     "status": "completed"
    },
    "tags": []
   },
   "source": [
    "# Question 3\n",
    "\n",
    "In this question, you will build off your work from the previous exercise to write a function that estimates the value of a house.\n",
    "\n",
    "Use the next code cell to create a function `get_expected_cost` that takes as input three variables:\n",
    "- `beds` - number of bedrooms (data type float)\n",
    "- `baths` - number of bathrooms (data type float)\n",
    "- `has_basement` - whether or not the house has a basement (data type boolean)\n",
    "\n",
    "It should return the expected cost of a house with those characteristics. Assume that:\n",
    "- the expected cost for a house with 0 bedrooms and 0 bathrooms, and no basement is 80000, \n",
    "- each bedroom adds 30000 to the expected cost,\n",
    "- each bathroom adds 10000 to the expected cost, and\n",
    "- a basement adds 40000 to the expected cost.\n",
    "\n",
    "For instance,\n",
    "- a house with 1 bedroom, 1 bathroom, and no basement has an expected cost of 80000 + 30000 + 10000 = 120000.  This value will be calculated with `get_expected_cost(1, 1, False)`.\n",
    "- a house with 2 bedrooms, 1 bathroom, and a basement has an expected cost of 80000 + 2*30000 + 10000 + 40000 = 190000.  This value will be calculated with `get_expected_cost(2, 1, True)`.\n",
    "\n",
    "Remember you can always get a hint by uncommenting `q3.hint()` in the code cell following the next!"
   ]
  },
  {
   "cell_type": "code",
   "execution_count": 7,
   "id": "d70d6bb2",
   "metadata": {
    "execution": {
     "iopub.execute_input": "2024-10-23T16:51:00.525657Z",
     "iopub.status.busy": "2024-10-23T16:51:00.525205Z",
     "iopub.status.idle": "2024-10-23T16:51:00.535862Z",
     "shell.execute_reply": "2024-10-23T16:51:00.534817Z"
    },
    "papermill": {
     "duration": 0.025026,
     "end_time": "2024-10-23T16:51:00.538506",
     "exception": false,
     "start_time": "2024-10-23T16:51:00.513480",
     "status": "completed"
    },
    "tags": []
   },
   "outputs": [
    {
     "data": {
      "application/javascript": [
       "parent.postMessage({\"jupyterEvent\": \"custom.exercise_interaction\", \"data\": {\"outcomeType\": 1, \"valueTowardsCompletion\": 0.2, \"interactionType\": 1, \"questionType\": 2, \"questionId\": \"3_EstimateHouseValueBool\", \"learnToolsVersion\": \"0.3.4\", \"failureMessage\": \"\", \"exceptionClass\": \"\", \"trace\": \"\"}}, \"*\")"
      ],
      "text/plain": [
       "<IPython.core.display.Javascript object>"
      ]
     },
     "metadata": {},
     "output_type": "display_data"
    },
    {
     "data": {
      "text/markdown": [
       "<span style=\"color:#33cc33\">Correct</span>"
      ],
      "text/plain": [
       "Correct"
      ]
     },
     "metadata": {},
     "output_type": "display_data"
    }
   ],
   "source": [
    "# TODO: Complete the function\n",
    "def get_expected_cost(beds, baths, has_basement):\n",
    "    value = 80000 + 30000 * beds + 10000 * baths + 40000 * has_basement\n",
    "    return value\n",
    "\n",
    "# Check your answer \n",
    "q3.check()"
   ]
  },
  {
   "cell_type": "code",
   "execution_count": 8,
   "id": "453caaf6",
   "metadata": {
    "execution": {
     "iopub.execute_input": "2024-10-23T16:51:00.561017Z",
     "iopub.status.busy": "2024-10-23T16:51:00.560574Z",
     "iopub.status.idle": "2024-10-23T16:51:00.570773Z",
     "shell.execute_reply": "2024-10-23T16:51:00.569648Z"
    },
    "papermill": {
     "duration": 0.024303,
     "end_time": "2024-10-23T16:51:00.573223",
     "exception": false,
     "start_time": "2024-10-23T16:51:00.548920",
     "status": "completed"
    },
    "tags": []
   },
   "outputs": [
    {
     "data": {
      "application/javascript": [
       "parent.postMessage({\"jupyterEvent\": \"custom.exercise_interaction\", \"data\": {\"interactionType\": 2, \"questionType\": 2, \"questionId\": \"3_EstimateHouseValueBool\", \"learnToolsVersion\": \"0.3.4\", \"valueTowardsCompletion\": 0.0, \"failureMessage\": \"\", \"exceptionClass\": \"\", \"trace\": \"\", \"outcomeType\": 4}}, \"*\")"
      ],
      "text/plain": [
       "<IPython.core.display.Javascript object>"
      ]
     },
     "metadata": {},
     "output_type": "display_data"
    },
    {
     "data": {
      "text/markdown": [
       "<span style=\"color:#3366cc\">Hint:</span> The variable `has_basement` is either `True` or `False`.  What happens when you multiply it by 40000 (the value of a basement)?  Refer to the previous question if you are unsure."
      ],
      "text/plain": [
       "Hint: The variable `has_basement` is either `True` or `False`.  What happens when you multiply it by 40000 (the value of a basement)?  Refer to the previous question if you are unsure."
      ]
     },
     "metadata": {},
     "output_type": "display_data"
    }
   ],
   "source": [
    "# Uncomment to see a hint\n",
    "q3.hint()\n",
    "\n",
    "# Uncomment to view the solution\n",
    "#q3.solution()"
   ]
  },
  {
   "cell_type": "markdown",
   "id": "60955b13",
   "metadata": {
    "papermill": {
     "duration": 0.010525,
     "end_time": "2024-10-23T16:51:00.594011",
     "exception": false,
     "start_time": "2024-10-23T16:51:00.583486",
     "status": "completed"
    },
    "tags": []
   },
   "source": [
    "# Question 4\n",
    "\n",
    "We'll continue our study of boolean arithmetic.  For this question, your task is to provide a description of what happpens when you add booleans. \n",
    "\n",
    "Use the next code cell for your investigation.  Feel free to add or remove any lines of code - use it as your workspace!"
   ]
  },
  {
   "cell_type": "code",
   "execution_count": 9,
   "id": "86886022",
   "metadata": {
    "execution": {
     "iopub.execute_input": "2024-10-23T16:51:00.617014Z",
     "iopub.status.busy": "2024-10-23T16:51:00.616138Z",
     "iopub.status.idle": "2024-10-23T16:51:00.622999Z",
     "shell.execute_reply": "2024-10-23T16:51:00.621860Z"
    },
    "papermill": {
     "duration": 0.021278,
     "end_time": "2024-10-23T16:51:00.625602",
     "exception": false,
     "start_time": "2024-10-23T16:51:00.604324",
     "status": "completed"
    },
    "tags": []
   },
   "outputs": [
    {
     "name": "stdout",
     "output_type": "stream",
     "text": [
      "0\n",
      "1\n",
      "1\n",
      "2\n",
      "3\n"
     ]
    }
   ],
   "source": [
    "print(False + False)\n",
    "print(True + False)\n",
    "print(False + True)\n",
    "print(True + True)\n",
    "print(False + True + True + True)"
   ]
  },
  {
   "cell_type": "markdown",
   "id": "7a2f1842",
   "metadata": {
    "papermill": {
     "duration": 0.009928,
     "end_time": "2024-10-23T16:51:00.646055",
     "exception": false,
     "start_time": "2024-10-23T16:51:00.636127",
     "status": "completed"
    },
    "tags": []
   },
   "source": [
    "Once you have an answer, run the code cell below to see the solution.  Viewing the solution will give you credit for answering the problem."
   ]
  },
  {
   "cell_type": "code",
   "execution_count": 10,
   "id": "5b7f0802",
   "metadata": {
    "execution": {
     "iopub.execute_input": "2024-10-23T16:51:00.669149Z",
     "iopub.status.busy": "2024-10-23T16:51:00.668042Z",
     "iopub.status.idle": "2024-10-23T16:51:00.677562Z",
     "shell.execute_reply": "2024-10-23T16:51:00.676500Z"
    },
    "papermill": {
     "duration": 0.023857,
     "end_time": "2024-10-23T16:51:00.680134",
     "exception": false,
     "start_time": "2024-10-23T16:51:00.656277",
     "status": "completed"
    },
    "tags": []
   },
   "outputs": [
    {
     "data": {
      "application/javascript": [
       "parent.postMessage({\"jupyterEvent\": \"custom.exercise_interaction\", \"data\": {\"outcomeType\": 1, \"valueTowardsCompletion\": 0.2, \"interactionType\": 1, \"questionType\": 4, \"questionId\": \"4_AddingBooleans\", \"learnToolsVersion\": \"0.3.4\", \"failureMessage\": \"\", \"exceptionClass\": \"\", \"trace\": \"\"}}, \"*\")"
      ],
      "text/plain": [
       "<IPython.core.display.Javascript object>"
      ]
     },
     "metadata": {},
     "output_type": "display_data"
    },
    {
     "data": {
      "text/markdown": [
       "<span style=\"color:#33cc33\">Correct:</span> \n",
       "\n",
       "When you add booleans, adding `False` is equivalent to adding 0, and adding `True` is equivalent to adding 1."
      ],
      "text/plain": [
       "Correct: \n",
       "\n",
       "When you add booleans, adding `False` is equivalent to adding 0, and adding `True` is equivalent to adding 1."
      ]
     },
     "metadata": {},
     "output_type": "display_data"
    }
   ],
   "source": [
    "# Check your answer (Run this code cell to receive credit!)\n",
    "q4.check()"
   ]
  },
  {
   "cell_type": "markdown",
   "id": "967ef77d",
   "metadata": {
    "papermill": {
     "duration": 0.010499,
     "end_time": "2024-10-23T16:51:00.701251",
     "exception": false,
     "start_time": "2024-10-23T16:51:00.690752",
     "status": "completed"
    },
    "tags": []
   },
   "source": [
    "# 🌶️ Question 5\n",
    "\n",
    "You own an online shop where you sell rings with custom engravings.  You offer both gold plated and solid gold rings.\n",
    "- Gold plated rings have a base cost of \\\\$50, and you charge \\\\$7 per engraved unit.  \n",
    "- Solid gold rings have a base cost of \\\\$100, and you charge \\\\$10 per engraved unit.\n",
    "- Spaces and punctuation are counted as engraved units.\n",
    "\n",
    "Write a function `cost_of_project()` that takes two arguments:\n",
    "- `engraving` - a Python string with the text of the engraving\n",
    "- `solid_gold` - a Boolean that indicates whether the ring is solid gold\n",
    "\n",
    "It should return the cost of the project.  This question should be fairly challenging, and you may need a hint."
   ]
  },
  {
   "cell_type": "code",
   "execution_count": 11,
   "id": "c663d955",
   "metadata": {
    "execution": {
     "iopub.execute_input": "2024-10-23T16:51:00.724514Z",
     "iopub.status.busy": "2024-10-23T16:51:00.724065Z",
     "iopub.status.idle": "2024-10-23T16:51:00.734357Z",
     "shell.execute_reply": "2024-10-23T16:51:00.733191Z"
    },
    "papermill": {
     "duration": 0.025064,
     "end_time": "2024-10-23T16:51:00.737128",
     "exception": false,
     "start_time": "2024-10-23T16:51:00.712064",
     "status": "completed"
    },
    "tags": []
   },
   "outputs": [
    {
     "data": {
      "application/javascript": [
       "parent.postMessage({\"jupyterEvent\": \"custom.exercise_interaction\", \"data\": {\"outcomeType\": 2, \"failureMessage\": \"Expected return value of `240` given `engraving='Charlie+Denver'`, `solid_gold=True`, but got `<learntools.core.constants.PlaceholderValue object at 0x7c9435720a30>` instead.\", \"interactionType\": 1, \"questionType\": 2, \"questionId\": \"5_CustomEngravings\", \"learnToolsVersion\": \"0.3.4\", \"valueTowardsCompletion\": 0.0, \"exceptionClass\": \"\", \"trace\": \"\"}}, \"*\")"
      ],
      "text/plain": [
       "<IPython.core.display.Javascript object>"
      ]
     },
     "metadata": {},
     "output_type": "display_data"
    },
    {
     "data": {
      "text/markdown": [
       "<span style=\"color:#cc3333\">Incorrect:</span> Expected return value of `240` given `engraving='Charlie+Denver'`, `solid_gold=True`, but got `<learntools.core.constants.PlaceholderValue object at 0x7c9435720a30>` instead."
      ],
      "text/plain": [
       "Incorrect: Expected return value of `240` given `engraving='Charlie+Denver'`, `solid_gold=True`, but got `<learntools.core.constants.PlaceholderValue object at 0x7c9435720a30>` instead."
      ]
     },
     "metadata": {},
     "output_type": "display_data"
    }
   ],
   "source": [
    "def cost_of_project(engraving, solid_gold):\n",
    "    cost = ____\n",
    "    return cost\n",
    "\n",
    "# Check your answer\n",
    "q5.check()"
   ]
  },
  {
   "cell_type": "code",
   "execution_count": 12,
   "id": "87858c0d",
   "metadata": {
    "execution": {
     "iopub.execute_input": "2024-10-23T16:51:00.761421Z",
     "iopub.status.busy": "2024-10-23T16:51:00.760992Z",
     "iopub.status.idle": "2024-10-23T16:51:00.765938Z",
     "shell.execute_reply": "2024-10-23T16:51:00.764819Z"
    },
    "papermill": {
     "duration": 0.020129,
     "end_time": "2024-10-23T16:51:00.768481",
     "exception": false,
     "start_time": "2024-10-23T16:51:00.748352",
     "status": "completed"
    },
    "tags": []
   },
   "outputs": [],
   "source": [
    "# Uncomment to see a hint\n",
    "#q5.hint()\n",
    "\n",
    "# Uncomment to view the solution\n",
    "#q5.solution()"
   ]
  },
  {
   "cell_type": "markdown",
   "id": "c4fe1e69",
   "metadata": {
    "papermill": {
     "duration": 0.010607,
     "end_time": "2024-10-23T16:51:00.790206",
     "exception": false,
     "start_time": "2024-10-23T16:51:00.779599",
     "status": "completed"
    },
    "tags": []
   },
   "source": [
    "Run the next code cell to calculate the cost of engraving `Charlie+Denver` on a solid gold ring."
   ]
  },
  {
   "cell_type": "code",
   "execution_count": 13,
   "id": "b7290103",
   "metadata": {
    "execution": {
     "iopub.execute_input": "2024-10-23T16:51:00.814304Z",
     "iopub.status.busy": "2024-10-23T16:51:00.813867Z",
     "iopub.status.idle": "2024-10-23T16:51:00.819874Z",
     "shell.execute_reply": "2024-10-23T16:51:00.818714Z"
    },
    "papermill": {
     "duration": 0.021615,
     "end_time": "2024-10-23T16:51:00.822939",
     "exception": false,
     "start_time": "2024-10-23T16:51:00.801324",
     "status": "completed"
    },
    "tags": []
   },
   "outputs": [
    {
     "name": "stdout",
     "output_type": "stream",
     "text": [
      "<learntools.core.constants.PlaceholderValue object at 0x7c9435720a30>\n"
     ]
    }
   ],
   "source": [
    "project_one = cost_of_project(\"Charlie+Denver\", True)\n",
    "print(project_one)"
   ]
  },
  {
   "cell_type": "markdown",
   "id": "a1826af1",
   "metadata": {
    "papermill": {
     "duration": 0.010831,
     "end_time": "2024-10-23T16:51:00.844873",
     "exception": false,
     "start_time": "2024-10-23T16:51:00.834042",
     "status": "completed"
    },
    "tags": []
   },
   "source": [
    "Use the next code cell to calculate the cost of engraving `08/10/2000` on a gold plated ring."
   ]
  },
  {
   "cell_type": "code",
   "execution_count": 14,
   "id": "fd1ac7ca",
   "metadata": {
    "execution": {
     "iopub.execute_input": "2024-10-23T16:51:00.869095Z",
     "iopub.status.busy": "2024-10-23T16:51:00.868665Z",
     "iopub.status.idle": "2024-10-23T16:51:00.875183Z",
     "shell.execute_reply": "2024-10-23T16:51:00.873887Z"
    },
    "papermill": {
     "duration": 0.021665,
     "end_time": "2024-10-23T16:51:00.877810",
     "exception": false,
     "start_time": "2024-10-23T16:51:00.856145",
     "status": "completed"
    },
    "tags": []
   },
   "outputs": [
    {
     "name": "stdout",
     "output_type": "stream",
     "text": [
      "<learntools.core.constants.PlaceholderValue object at 0x7c9435720a30>\n"
     ]
    }
   ],
   "source": [
    "project_two = cost_of_project(\"08/10/2000\", False)\n",
    "print(project_two)"
   ]
  },
  {
   "cell_type": "markdown",
   "id": "30084b99",
   "metadata": {
    "papermill": {
     "duration": 0.010941,
     "end_time": "2024-10-23T16:51:00.900022",
     "exception": false,
     "start_time": "2024-10-23T16:51:00.889081",
     "status": "completed"
    },
    "tags": []
   },
   "source": [
    "# Keep going\n",
    "\n",
    "Continue to the next lesson to **[learn about conditions and conditional statements](https://www.kaggle.com/alexisbcook/conditions-and-conditional-statements)**."
   ]
  },
  {
   "cell_type": "markdown",
   "id": "f2d1e5c0",
   "metadata": {
    "papermill": {
     "duration": 0.010961,
     "end_time": "2024-10-23T16:51:00.922159",
     "exception": false,
     "start_time": "2024-10-23T16:51:00.911198",
     "status": "completed"
    },
    "tags": []
   },
   "source": [
    "---\n",
    "\n",
    "\n",
    "\n",
    "\n",
    "*Have questions or comments? Visit the [course discussion forum](https://www.kaggle.com/learn/intro-to-programming/discussion) to chat with other learners.*"
   ]
  }
 ],
 "metadata": {
  "kaggle": {
   "accelerator": "none",
   "dataSources": [],
   "isGpuEnabled": false,
   "isInternetEnabled": false,
   "language": "python",
   "sourceType": "notebook"
  },
  "kernelspec": {
   "display_name": "Python 3",
   "language": "python",
   "name": "python3"
  },
  "language_info": {
   "codemirror_mode": {
    "name": "ipython",
    "version": 3
   },
   "file_extension": ".py",
   "mimetype": "text/x-python",
   "name": "python",
   "nbconvert_exporter": "python",
   "pygments_lexer": "ipython3",
   "version": "3.10.14"
  },
  "papermill": {
   "default_parameters": {},
   "duration": 5.40043,
   "end_time": "2024-10-23T16:51:01.455301",
   "environment_variables": {},
   "exception": null,
   "input_path": "__notebook__.ipynb",
   "output_path": "__notebook__.ipynb",
   "parameters": {},
   "start_time": "2024-10-23T16:50:56.054871",
   "version": "2.3.3"
  }
 },
 "nbformat": 4,
 "nbformat_minor": 5
}
