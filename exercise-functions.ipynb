{
 "cells": [
  {
   "cell_type": "markdown",
   "id": "13186c3c",
   "metadata": {
    "papermill": {
     "duration": 0.009508,
     "end_time": "2024-10-10T12:09:43.572849",
     "exception": false,
     "start_time": "2024-10-10T12:09:43.563341",
     "status": "completed"
    },
    "tags": []
   },
   "source": [
    "**This notebook is an exercise in the [Intro to Programming](https://www.kaggle.com/learn/intro-to-programming) course.  You can reference the tutorial at [this link](https://www.kaggle.com/alexisbcook/functions).**\n",
    "\n",
    "---\n"
   ]
  },
  {
   "cell_type": "markdown",
   "id": "4ba2f587",
   "metadata": {
    "papermill": {
     "duration": 0.00757,
     "end_time": "2024-10-10T12:09:43.590027",
     "exception": false,
     "start_time": "2024-10-10T12:09:43.582457",
     "status": "completed"
    },
    "tags": []
   },
   "source": [
    "In the tutorial, you learned about functions. In this exercise, you'll write some of your own!\n",
    "\n",
    "# Set up the notebook\n",
    "\n",
    "Run the next code cell without changes to set up the notebook."
   ]
  },
  {
   "cell_type": "code",
   "execution_count": 1,
   "id": "aef626c6",
   "metadata": {
    "execution": {
     "iopub.execute_input": "2024-10-10T12:09:43.607505Z",
     "iopub.status.busy": "2024-10-10T12:09:43.607055Z",
     "iopub.status.idle": "2024-10-10T12:09:44.570393Z",
     "shell.execute_reply": "2024-10-10T12:09:44.569049Z"
    },
    "papermill": {
     "duration": 0.975153,
     "end_time": "2024-10-10T12:09:44.572980",
     "exception": false,
     "start_time": "2024-10-10T12:09:43.597827",
     "status": "completed"
    },
    "tags": []
   },
   "outputs": [
    {
     "name": "stdout",
     "output_type": "stream",
     "text": [
      "Setup complete.\n"
     ]
    }
   ],
   "source": [
    "# Set up the exercise\n",
    "import math\n",
    "from learntools.core import binder\n",
    "binder.bind(globals())\n",
    "from learntools.intro_to_programming.ex2 import *\n",
    "print('Setup complete.')"
   ]
  },
  {
   "cell_type": "markdown",
   "id": "a02adebf",
   "metadata": {
    "papermill": {
     "duration": 0.009081,
     "end_time": "2024-10-10T12:09:44.590378",
     "exception": false,
     "start_time": "2024-10-10T12:09:44.581297",
     "status": "completed"
    },
    "tags": []
   },
   "source": [
    "# Question 1\n",
    "\n",
    "In the [House Prices - Advanced Regression Techniques competition](https://www.kaggle.com/c/house-prices-advanced-regression-techniques/overview), you need to use information like the number of bedrooms and bathrooms to predict the price of a house.  Inspired by this competition, you'll write your own function to do this.\n",
    "\n",
    "In the next code cell, create a function `get_expected_cost()` that has two arguments:\n",
    "- `beds` - number of bedrooms \n",
    "- `baths` - number of bathrooms\n",
    "\n",
    "It should return the expected cost of a house with that number of bedrooms and bathrooms.  Assume that:\n",
    "- the expected cost for a house with 0 bedrooms and 0 bathrooms is `80000`.  \n",
    "- each bedroom adds `30000` to the expected cost\n",
    "- each bathroom adds `10000` to the expected cost.\n",
    "\n",
    "For instance, \n",
    "- a house with 1 bedroom and 1 bathroom has an expected cost of `120000`, and \n",
    "- a house with 2 bedrooms and 1 bathroom has an expected cost of `150000`."
   ]
  },
  {
   "cell_type": "code",
   "execution_count": 2,
   "id": "7335b9a2",
   "metadata": {
    "execution": {
     "iopub.execute_input": "2024-10-10T12:09:44.609160Z",
     "iopub.status.busy": "2024-10-10T12:09:44.607892Z",
     "iopub.status.idle": "2024-10-10T12:09:44.620326Z",
     "shell.execute_reply": "2024-10-10T12:09:44.619212Z"
    },
    "papermill": {
     "duration": 0.024476,
     "end_time": "2024-10-10T12:09:44.622851",
     "exception": false,
     "start_time": "2024-10-10T12:09:44.598375",
     "status": "completed"
    },
    "tags": []
   },
   "outputs": [
    {
     "data": {
      "application/javascript": [
       "parent.postMessage({\"jupyterEvent\": \"custom.exercise_interaction\", \"data\": {\"outcomeType\": 1, \"valueTowardsCompletion\": 0.2, \"interactionType\": 1, \"questionType\": 2, \"questionId\": \"1_GetExpectedCost\", \"learnToolsVersion\": \"0.3.4\", \"failureMessage\": \"\", \"exceptionClass\": \"\", \"trace\": \"\"}}, \"*\")"
      ],
      "text/plain": [
       "<IPython.core.display.Javascript object>"
      ]
     },
     "metadata": {},
     "output_type": "display_data"
    },
    {
     "data": {
      "text/markdown": [
       "<span style=\"color:#33cc33\">Correct</span>"
      ],
      "text/plain": [
       "Correct"
      ]
     },
     "metadata": {},
     "output_type": "display_data"
    }
   ],
   "source": [
    "# TODO: Complete the function\n",
    "def get_expected_cost(beds, baths):\n",
    "    \n",
    "    value = 80000 + 30000 * beds + 10000 * baths\n",
    "    return value\n",
    "\n",
    "# Check your answer \n",
    "q1.check()"
   ]
  },
  {
   "cell_type": "code",
   "execution_count": 3,
   "id": "305c73ee",
   "metadata": {
    "execution": {
     "iopub.execute_input": "2024-10-10T12:09:44.642290Z",
     "iopub.status.busy": "2024-10-10T12:09:44.641856Z",
     "iopub.status.idle": "2024-10-10T12:09:44.646790Z",
     "shell.execute_reply": "2024-10-10T12:09:44.645717Z"
    },
    "papermill": {
     "duration": 0.016982,
     "end_time": "2024-10-10T12:09:44.649253",
     "exception": false,
     "start_time": "2024-10-10T12:09:44.632271",
     "status": "completed"
    },
    "tags": []
   },
   "outputs": [],
   "source": [
    "# Uncomment to see a hint\n",
    "#q1.hint()\n",
    "\n",
    "# Uncomment to view the solution\n",
    "#q1.solution()"
   ]
  },
  {
   "cell_type": "markdown",
   "id": "708ad384",
   "metadata": {
    "papermill": {
     "duration": 0.008173,
     "end_time": "2024-10-10T12:09:44.666432",
     "exception": false,
     "start_time": "2024-10-10T12:09:44.658259",
     "status": "completed"
    },
    "tags": []
   },
   "source": [
    "# Question 2\n",
    "\n",
    "You are thinking about buying a home and want to get an idea of how much you will spend, based on the number of bedrooms and bathrooms.  You are trying to decide between four different options:\n",
    "- Option 1: house with two bedrooms and three bathrooms\n",
    "- Option 2: house with three bedrooms and two bathrooms\n",
    "- Option 3: house with three bedrooms and three bathrooms\n",
    "- Option 4: house with three bedrooms and four bathrooms\n",
    "\n",
    "Use the `get_expected_cost()` function you defined in question 1 to set `option_1`, `option_2`, `option_3`, and `option_4` to the expected cost of each option."
   ]
  },
  {
   "cell_type": "code",
   "execution_count": 4,
   "id": "68d6ddcf",
   "metadata": {
    "execution": {
     "iopub.execute_input": "2024-10-10T12:09:44.685611Z",
     "iopub.status.busy": "2024-10-10T12:09:44.684656Z",
     "iopub.status.idle": "2024-10-10T12:09:44.696992Z",
     "shell.execute_reply": "2024-10-10T12:09:44.695830Z"
    },
    "papermill": {
     "duration": 0.024555,
     "end_time": "2024-10-10T12:09:44.699403",
     "exception": false,
     "start_time": "2024-10-10T12:09:44.674848",
     "status": "completed"
    },
    "tags": []
   },
   "outputs": [
    {
     "name": "stdout",
     "output_type": "stream",
     "text": [
      "<learntools.core.constants.PlaceholderValue object at 0x7e314a968af0>\n",
      "<learntools.core.constants.PlaceholderValue object at 0x7e314a968af0>\n",
      "<learntools.core.constants.PlaceholderValue object at 0x7e314a968af0>\n",
      "<learntools.core.constants.PlaceholderValue object at 0x7e314a968af0>\n"
     ]
    },
    {
     "data": {
      "application/javascript": [
       "parent.postMessage({\"jupyterEvent\": \"custom.exercise_interaction\", \"data\": {\"outcomeType\": 4, \"interactionType\": 1, \"questionType\": 1, \"questionId\": \"2_RunGetExpectedCost\", \"learnToolsVersion\": \"0.3.4\", \"valueTowardsCompletion\": 0.0, \"failureMessage\": \"\", \"exceptionClass\": \"\", \"trace\": \"\"}}, \"*\")"
      ],
      "text/plain": [
       "<IPython.core.display.Javascript object>"
      ]
     },
     "metadata": {},
     "output_type": "display_data"
    },
    {
     "data": {
      "text/markdown": [
       "<span style=\"color:#ccaa33\">Check:</span> When you've updated the starter code, `check()` will tell you whether your code is correct. You need to update the code that creates variables `option_one`, `option_two`, `option_three`, `option_four`"
      ],
      "text/plain": [
       "Check: When you've updated the starter code, `check()` will tell you whether your code is correct. You need to update the code that creates variables `option_one`, `option_two`, `option_three`, `option_four`"
      ]
     },
     "metadata": {},
     "output_type": "display_data"
    }
   ],
   "source": [
    "# TODO: Use the get_expected_cost function to fill in each value\n",
    "option_one = ____\n",
    "option_two = ____\n",
    "option_three = ____\n",
    "option_four = ____\n",
    "\n",
    "print(option_one)\n",
    "print(option_two)\n",
    "print(option_three)\n",
    "print(option_four)\n",
    "\n",
    "# Check your answer\n",
    "q2.check()"
   ]
  },
  {
   "cell_type": "code",
   "execution_count": 5,
   "id": "b6258945",
   "metadata": {
    "execution": {
     "iopub.execute_input": "2024-10-10T12:09:44.718984Z",
     "iopub.status.busy": "2024-10-10T12:09:44.718543Z",
     "iopub.status.idle": "2024-10-10T12:09:44.723513Z",
     "shell.execute_reply": "2024-10-10T12:09:44.722285Z"
    },
    "papermill": {
     "duration": 0.017707,
     "end_time": "2024-10-10T12:09:44.726087",
     "exception": false,
     "start_time": "2024-10-10T12:09:44.708380",
     "status": "completed"
    },
    "tags": []
   },
   "outputs": [],
   "source": [
    "# Uncomment to see a hint\n",
    "#q2.hint()\n",
    "\n",
    "# Uncomment to view the solution\n",
    "#q2.solution()"
   ]
  },
  {
   "cell_type": "markdown",
   "id": "68043b59",
   "metadata": {
    "papermill": {
     "duration": 0.008486,
     "end_time": "2024-10-10T12:09:44.743497",
     "exception": false,
     "start_time": "2024-10-10T12:09:44.735011",
     "status": "completed"
    },
    "tags": []
   },
   "source": [
    "# Question 3\n",
    "\n",
    "You're a home decorator, and you'd like to use Python to streamline some of your work.  Specifically, you're creating a tool that you intend to use to calculate the cost of painting a room.\n",
    "\n",
    "As a first step, define a function `get_cost()` that takes as input:\n",
    "- `sqft_walls` = total square feet of walls to be painted\n",
    "- `sqft_ceiling` = square feet of ceiling to be painted\n",
    "- `sqft_per_gallon` = number of square feet that you can cover with one gallon of paint\n",
    "- `cost_per_gallon` = cost (in dollars) of one gallon of paint\n",
    "\n",
    "It should return the cost (in dollars) of putting one coat of paint on all walls and the ceiling.  Assume you can buy the exact amount of paint that you need, so you can buy partial gallons (e.g., if you need 7.523 gallons, you can buy that exact amount, instead of needing to buy 8 gallons and waste some paint).  Do not round your answer."
   ]
  },
  {
   "cell_type": "code",
   "execution_count": 6,
   "id": "f68b9acb",
   "metadata": {
    "execution": {
     "iopub.execute_input": "2024-10-10T12:09:44.762920Z",
     "iopub.status.busy": "2024-10-10T12:09:44.762478Z",
     "iopub.status.idle": "2024-10-10T12:09:44.772540Z",
     "shell.execute_reply": "2024-10-10T12:09:44.771501Z"
    },
    "papermill": {
     "duration": 0.022752,
     "end_time": "2024-10-10T12:09:44.775090",
     "exception": false,
     "start_time": "2024-10-10T12:09:44.752338",
     "status": "completed"
    },
    "tags": []
   },
   "outputs": [
    {
     "data": {
      "application/javascript": [
       "parent.postMessage({\"jupyterEvent\": \"custom.exercise_interaction\", \"data\": {\"outcomeType\": 2, \"failureMessage\": \"Expected return value of `21.599999999999998` given `sqft_walls=432`, `sqft_ceiling=144`, `sqft_per_gallon=400`, `cost_per_gallon=15`, but got `<learntools.core.constants.PlaceholderValue object at 0x7e314a968af0>` instead.\", \"interactionType\": 1, \"questionType\": 2, \"questionId\": \"3_GetCostPaint\", \"learnToolsVersion\": \"0.3.4\", \"valueTowardsCompletion\": 0.0, \"exceptionClass\": \"\", \"trace\": \"\"}}, \"*\")"
      ],
      "text/plain": [
       "<IPython.core.display.Javascript object>"
      ]
     },
     "metadata": {},
     "output_type": "display_data"
    },
    {
     "data": {
      "text/markdown": [
       "<span style=\"color:#cc3333\">Incorrect:</span> Expected return value of `21.599999999999998` given `sqft_walls=432`, `sqft_ceiling=144`, `sqft_per_gallon=400`, `cost_per_gallon=15`, but got `<learntools.core.constants.PlaceholderValue object at 0x7e314a968af0>` instead."
      ],
      "text/plain": [
       "Incorrect: Expected return value of `21.599999999999998` given `sqft_walls=432`, `sqft_ceiling=144`, `sqft_per_gallon=400`, `cost_per_gallon=15`, but got `<learntools.core.constants.PlaceholderValue object at 0x7e314a968af0>` instead."
      ]
     },
     "metadata": {},
     "output_type": "display_data"
    }
   ],
   "source": [
    "# TODO: Finish defining the function\n",
    "def get_cost(sqft_walls, sqft_ceiling, sqft_per_gallon, cost_per_gallon):\n",
    "    cost = ____\n",
    "    return cost\n",
    "\n",
    "# Check your answer\n",
    "q3.check()"
   ]
  },
  {
   "cell_type": "code",
   "execution_count": 7,
   "id": "91a751ec",
   "metadata": {
    "execution": {
     "iopub.execute_input": "2024-10-10T12:09:44.796595Z",
     "iopub.status.busy": "2024-10-10T12:09:44.795622Z",
     "iopub.status.idle": "2024-10-10T12:09:44.800385Z",
     "shell.execute_reply": "2024-10-10T12:09:44.799363Z"
    },
    "papermill": {
     "duration": 0.017894,
     "end_time": "2024-10-10T12:09:44.802813",
     "exception": false,
     "start_time": "2024-10-10T12:09:44.784919",
     "status": "completed"
    },
    "tags": []
   },
   "outputs": [],
   "source": [
    "# Uncomment to see a hint\n",
    "#q3.hint()\n",
    "\n",
    "# Uncomment to view the solution\n",
    "#q3.solution()"
   ]
  },
  {
   "cell_type": "markdown",
   "id": "a774f533",
   "metadata": {
    "papermill": {
     "duration": 0.00878,
     "end_time": "2024-10-10T12:09:44.820864",
     "exception": false,
     "start_time": "2024-10-10T12:09:44.812084",
     "status": "completed"
    },
    "tags": []
   },
   "source": [
    "# Question 4\n",
    "\n",
    "Use the `get_cost()` function you defined in Question 3 to calculate the cost of applying one coat of paint to a room with:\n",
    "- 432 square feet of walls, and\n",
    "- 144 square feet of ceiling.\n",
    "\n",
    "Assume that one gallon of paint covers 400 square feet and costs $15.  As in Question 3, assume you can buy partial gallons of paint.  Do not round your answer."
   ]
  },
  {
   "cell_type": "code",
   "execution_count": 8,
   "id": "ee75c8a9",
   "metadata": {
    "execution": {
     "iopub.execute_input": "2024-10-10T12:09:44.841617Z",
     "iopub.status.busy": "2024-10-10T12:09:44.840629Z",
     "iopub.status.idle": "2024-10-10T12:09:44.850652Z",
     "shell.execute_reply": "2024-10-10T12:09:44.849561Z"
    },
    "papermill": {
     "duration": 0.023158,
     "end_time": "2024-10-10T12:09:44.853131",
     "exception": false,
     "start_time": "2024-10-10T12:09:44.829973",
     "status": "completed"
    },
    "tags": []
   },
   "outputs": [
    {
     "data": {
      "application/javascript": [
       "parent.postMessage({\"jupyterEvent\": \"custom.exercise_interaction\", \"data\": {\"outcomeType\": 4, \"interactionType\": 1, \"questionType\": 1, \"questionId\": \"4_GetCostPaintExample\", \"learnToolsVersion\": \"0.3.4\", \"valueTowardsCompletion\": 0.0, \"failureMessage\": \"\", \"exceptionClass\": \"\", \"trace\": \"\"}}, \"*\")"
      ],
      "text/plain": [
       "<IPython.core.display.Javascript object>"
      ]
     },
     "metadata": {},
     "output_type": "display_data"
    },
    {
     "data": {
      "text/markdown": [
       "<span style=\"color:#ccaa33\">Check:</span> When you've updated the starter code, `check()` will tell you whether your code is correct. You need to update the code that creates variable `project_cost`"
      ],
      "text/plain": [
       "Check: When you've updated the starter code, `check()` will tell you whether your code is correct. You need to update the code that creates variable `project_cost`"
      ]
     },
     "metadata": {},
     "output_type": "display_data"
    }
   ],
   "source": [
    "# TODO: Set the project_cost variable to the cost of the project\n",
    "project_cost = ____\n",
    "\n",
    "# Check your answer\n",
    "q4.check()"
   ]
  },
  {
   "cell_type": "code",
   "execution_count": 9,
   "id": "b537e48b",
   "metadata": {
    "execution": {
     "iopub.execute_input": "2024-10-10T12:09:44.874648Z",
     "iopub.status.busy": "2024-10-10T12:09:44.873820Z",
     "iopub.status.idle": "2024-10-10T12:09:44.878931Z",
     "shell.execute_reply": "2024-10-10T12:09:44.877698Z"
    },
    "papermill": {
     "duration": 0.018765,
     "end_time": "2024-10-10T12:09:44.881379",
     "exception": false,
     "start_time": "2024-10-10T12:09:44.862614",
     "status": "completed"
    },
    "tags": []
   },
   "outputs": [],
   "source": [
    "# Uncomment to see a hint\n",
    "#q4.hint()\n",
    "\n",
    "# Uncomment to view the solution\n",
    "#q4.solution()"
   ]
  },
  {
   "cell_type": "markdown",
   "id": "c87e7c1e",
   "metadata": {
    "papermill": {
     "duration": 0.009641,
     "end_time": "2024-10-10T12:09:44.900997",
     "exception": false,
     "start_time": "2024-10-10T12:09:44.891356",
     "status": "completed"
    },
    "tags": []
   },
   "source": [
    "# 🌶️ Question 5\n",
    "\n",
    "Now say you can no longer buy fractions of a gallon.  (For instance, if you need 4.3 gallons to do a project, then you have to buy 5 gallons of paint.)\n",
    "\n",
    "With this new scenario, you will create a new function `get_actual_cost` that uses the same inputs and calculates the cost of your project.\n",
    "\n",
    "One function that you'll need to use to do this is `math.ceil()`.  We demonstrate usage of this function in the code cell below.  It takes as a number as input and rounds the number up to the nearest integer.  \n",
    "\n",
    "Run the next code cell to test this function for yourself.  Feel free to change the value of `test_value` and make sure `math.ceil()` returns the number you expect."
   ]
  },
  {
   "cell_type": "code",
   "execution_count": 10,
   "id": "ee5edc47",
   "metadata": {
    "execution": {
     "iopub.execute_input": "2024-10-10T12:09:44.921859Z",
     "iopub.status.busy": "2024-10-10T12:09:44.921406Z",
     "iopub.status.idle": "2024-10-10T12:09:44.927413Z",
     "shell.execute_reply": "2024-10-10T12:09:44.926368Z"
    },
    "papermill": {
     "duration": 0.019779,
     "end_time": "2024-10-10T12:09:44.930270",
     "exception": false,
     "start_time": "2024-10-10T12:09:44.910491",
     "status": "completed"
    },
    "tags": []
   },
   "outputs": [
    {
     "name": "stdout",
     "output_type": "stream",
     "text": [
      "3\n"
     ]
    }
   ],
   "source": [
    "test_value = 2.17\n",
    "\n",
    "rounded_value = math.ceil(test_value)\n",
    "print(rounded_value)"
   ]
  },
  {
   "cell_type": "markdown",
   "id": "e2294ddd",
   "metadata": {
    "papermill": {
     "duration": 0.009524,
     "end_time": "2024-10-10T12:09:44.949452",
     "exception": false,
     "start_time": "2024-10-10T12:09:44.939928",
     "status": "completed"
    },
    "tags": []
   },
   "source": [
    "Use the next code cell to define the function `get_actual_cost()`.  You'll need to use the `math.ceil()` function to do this.\n",
    "\n",
    "When answering this question, note that it's completely valid to define a function that makes use of another function.  For instance, we can define a function `round_up_and_divide_by_three` that makes use of the `math.ceil` function:\n",
    "```\n",
    "def round_up_and_divide_by_three(num):\n",
    "    new_value = math.ceil(num)\n",
    "    final_value = new_value / 3\n",
    "    return final_value\n",
    "```"
   ]
  },
  {
   "cell_type": "code",
   "execution_count": 11,
   "id": "fd8f3cc9",
   "metadata": {
    "execution": {
     "iopub.execute_input": "2024-10-10T12:09:44.970602Z",
     "iopub.status.busy": "2024-10-10T12:09:44.970159Z",
     "iopub.status.idle": "2024-10-10T12:09:44.980271Z",
     "shell.execute_reply": "2024-10-10T12:09:44.979032Z"
    },
    "papermill": {
     "duration": 0.023536,
     "end_time": "2024-10-10T12:09:44.982672",
     "exception": false,
     "start_time": "2024-10-10T12:09:44.959136",
     "status": "completed"
    },
    "tags": []
   },
   "outputs": [
    {
     "data": {
      "application/javascript": [
       "parent.postMessage({\"jupyterEvent\": \"custom.exercise_interaction\", \"data\": {\"outcomeType\": 2, \"failureMessage\": \"Expected return value of `30` given `sqft_walls=432`, `sqft_ceiling=144`, `sqft_per_gallon=400`, `cost_per_gallon=15`, but got `<learntools.core.constants.PlaceholderValue object at 0x7e314a968af0>` instead.\", \"interactionType\": 1, \"questionType\": 2, \"questionId\": \"5_NoMoreFractions\", \"learnToolsVersion\": \"0.3.4\", \"valueTowardsCompletion\": 0.0, \"exceptionClass\": \"\", \"trace\": \"\"}}, \"*\")"
      ],
      "text/plain": [
       "<IPython.core.display.Javascript object>"
      ]
     },
     "metadata": {},
     "output_type": "display_data"
    },
    {
     "data": {
      "text/markdown": [
       "<span style=\"color:#cc3333\">Incorrect:</span> Expected return value of `30` given `sqft_walls=432`, `sqft_ceiling=144`, `sqft_per_gallon=400`, `cost_per_gallon=15`, but got `<learntools.core.constants.PlaceholderValue object at 0x7e314a968af0>` instead."
      ],
      "text/plain": [
       "Incorrect: Expected return value of `30` given `sqft_walls=432`, `sqft_ceiling=144`, `sqft_per_gallon=400`, `cost_per_gallon=15`, but got `<learntools.core.constants.PlaceholderValue object at 0x7e314a968af0>` instead."
      ]
     },
     "metadata": {},
     "output_type": "display_data"
    }
   ],
   "source": [
    "def get_actual_cost(sqft_walls, sqft_ceiling, sqft_per_gallon, cost_per_gallon):\n",
    "    cost = ____\n",
    "    return cost\n",
    "\n",
    "# Check your answer\n",
    "q5.check()"
   ]
  },
  {
   "cell_type": "code",
   "execution_count": 12,
   "id": "2d8ed99e",
   "metadata": {
    "execution": {
     "iopub.execute_input": "2024-10-10T12:09:45.004421Z",
     "iopub.status.busy": "2024-10-10T12:09:45.004008Z",
     "iopub.status.idle": "2024-10-10T12:09:45.009031Z",
     "shell.execute_reply": "2024-10-10T12:09:45.007845Z"
    },
    "papermill": {
     "duration": 0.01885,
     "end_time": "2024-10-10T12:09:45.011482",
     "exception": false,
     "start_time": "2024-10-10T12:09:44.992632",
     "status": "completed"
    },
    "tags": []
   },
   "outputs": [],
   "source": [
    "# Uncomment to see a hint\n",
    "#q5.hint()\n",
    "\n",
    "# Uncomment to view the solution\n",
    "#q5.solution()"
   ]
  },
  {
   "cell_type": "markdown",
   "id": "609c7606",
   "metadata": {
    "papermill": {
     "duration": 0.00955,
     "end_time": "2024-10-10T12:09:45.030946",
     "exception": false,
     "start_time": "2024-10-10T12:09:45.021396",
     "status": "completed"
    },
    "tags": []
   },
   "source": [
    "Once your function is verified as correct, run the next code cell to calculate the updated cost of your project."
   ]
  },
  {
   "cell_type": "code",
   "execution_count": 13,
   "id": "38654f37",
   "metadata": {
    "execution": {
     "iopub.execute_input": "2024-10-10T12:09:45.053827Z",
     "iopub.status.busy": "2024-10-10T12:09:45.053401Z",
     "iopub.status.idle": "2024-10-10T12:09:45.060998Z",
     "shell.execute_reply": "2024-10-10T12:09:45.059838Z"
    },
    "papermill": {
     "duration": 0.022183,
     "end_time": "2024-10-10T12:09:45.063559",
     "exception": false,
     "start_time": "2024-10-10T12:09:45.041376",
     "status": "completed"
    },
    "tags": []
   },
   "outputs": [
    {
     "data": {
      "text/markdown": [],
      "text/plain": [
       "<learntools.core.constants.PlaceholderValue at 0x7e314a968af0>"
      ]
     },
     "execution_count": 13,
     "metadata": {},
     "output_type": "execute_result"
    }
   ],
   "source": [
    "get_actual_cost(432, 144, 400, 15) "
   ]
  },
  {
   "cell_type": "markdown",
   "id": "98d8af38",
   "metadata": {
    "papermill": {
     "duration": 0.009957,
     "end_time": "2024-10-10T12:09:45.083660",
     "exception": false,
     "start_time": "2024-10-10T12:09:45.073703",
     "status": "completed"
    },
    "tags": []
   },
   "source": [
    "Say you're working with a slightly larger room.  Run the next code cell to calculate the cost of the project."
   ]
  },
  {
   "cell_type": "code",
   "execution_count": 14,
   "id": "28a0cc96",
   "metadata": {
    "execution": {
     "iopub.execute_input": "2024-10-10T12:09:45.105732Z",
     "iopub.status.busy": "2024-10-10T12:09:45.105322Z",
     "iopub.status.idle": "2024-10-10T12:09:45.113065Z",
     "shell.execute_reply": "2024-10-10T12:09:45.111766Z"
    },
    "papermill": {
     "duration": 0.021921,
     "end_time": "2024-10-10T12:09:45.115661",
     "exception": false,
     "start_time": "2024-10-10T12:09:45.093740",
     "status": "completed"
    },
    "tags": []
   },
   "outputs": [
    {
     "data": {
      "text/markdown": [],
      "text/plain": [
       "<learntools.core.constants.PlaceholderValue at 0x7e314a968af0>"
      ]
     },
     "execution_count": 14,
     "metadata": {},
     "output_type": "execute_result"
    }
   ],
   "source": [
    "get_actual_cost(594, 288, 400, 15) "
   ]
  },
  {
   "cell_type": "markdown",
   "id": "3998bb26",
   "metadata": {
    "papermill": {
     "duration": 0.010268,
     "end_time": "2024-10-10T12:09:45.136529",
     "exception": false,
     "start_time": "2024-10-10T12:09:45.126261",
     "status": "completed"
    },
    "tags": []
   },
   "source": [
    "# Keep going\n",
    "\n",
    "Continue to learn about **[data types](https://www.kaggle.com/alexisbcook/data-types)**."
   ]
  },
  {
   "cell_type": "markdown",
   "id": "1a360e65",
   "metadata": {
    "papermill": {
     "duration": 0.013655,
     "end_time": "2024-10-10T12:09:45.162247",
     "exception": false,
     "start_time": "2024-10-10T12:09:45.148592",
     "status": "completed"
    },
    "tags": []
   },
   "source": [
    "---\n",
    "\n",
    "\n",
    "\n",
    "\n",
    "*Have questions or comments? Visit the [course discussion forum](https://www.kaggle.com/learn/intro-to-programming/discussion) to chat with other learners.*"
   ]
  }
 ],
 "metadata": {
  "kaggle": {
   "accelerator": "none",
   "dataSources": [],
   "isGpuEnabled": false,
   "isInternetEnabled": false,
   "language": "python",
   "sourceType": "notebook"
  },
  "kernelspec": {
   "display_name": "Python 3",
   "language": "python",
   "name": "python3"
  },
  "language_info": {
   "codemirror_mode": {
    "name": "ipython",
    "version": 3
   },
   "file_extension": ".py",
   "mimetype": "text/x-python",
   "name": "python",
   "nbconvert_exporter": "python",
   "pygments_lexer": "ipython3",
   "version": "3.10.14"
  },
  "papermill": {
   "default_parameters": {},
   "duration": 5.184594,
   "end_time": "2024-10-10T12:09:45.699828",
   "environment_variables": {},
   "exception": null,
   "input_path": "__notebook__.ipynb",
   "output_path": "__notebook__.ipynb",
   "parameters": {},
   "start_time": "2024-10-10T12:09:40.515234",
   "version": "2.6.0"
  }
 },
 "nbformat": 4,
 "nbformat_minor": 5
}
