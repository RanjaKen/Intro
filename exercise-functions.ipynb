{
 "cells": [
  {
   "cell_type": "markdown",
   "id": "961e5106",
   "metadata": {
    "papermill": {
     "duration": 0.011044,
     "end_time": "2024-10-10T12:09:36.158497",
     "exception": false,
     "start_time": "2024-10-10T12:09:36.147453",
     "status": "completed"
    },
    "tags": []
   },
   "source": [
    "**This notebook is an exercise in the [Intro to Programming](https://www.kaggle.com/learn/intro-to-programming) course.  You can reference the tutorial at [this link](https://www.kaggle.com/alexisbcook/functions).**\n",
    "\n",
    "---\n"
   ]
  },
  {
   "cell_type": "markdown",
   "id": "757680e2",
   "metadata": {
    "papermill": {
     "duration": 0.007483,
     "end_time": "2024-10-10T12:09:36.174913",
     "exception": false,
     "start_time": "2024-10-10T12:09:36.167430",
     "status": "completed"
    },
    "tags": []
   },
   "source": [
    "In the tutorial, you learned about functions. In this exercise, you'll write some of your own!\n",
    "\n",
    "# Set up the notebook\n",
    "\n",
    "Run the next code cell without changes to set up the notebook."
   ]
  },
  {
   "cell_type": "code",
   "execution_count": 1,
   "id": "7de93b16",
   "metadata": {
    "execution": {
     "iopub.execute_input": "2024-10-10T12:09:36.192784Z",
     "iopub.status.busy": "2024-10-10T12:09:36.192241Z",
     "iopub.status.idle": "2024-10-10T12:09:37.090501Z",
     "shell.execute_reply": "2024-10-10T12:09:37.089127Z"
    },
    "papermill": {
     "duration": 0.910297,
     "end_time": "2024-10-10T12:09:37.093070",
     "exception": false,
     "start_time": "2024-10-10T12:09:36.182773",
     "status": "completed"
    },
    "tags": []
   },
   "outputs": [
    {
     "name": "stdout",
     "output_type": "stream",
     "text": [
      "Setup complete.\n"
     ]
    }
   ],
   "source": [
    "# Set up the exercise\n",
    "import math\n",
    "from learntools.core import binder\n",
    "binder.bind(globals())\n",
    "from learntools.intro_to_programming.ex2 import *\n",
    "print('Setup complete.')"
   ]
  },
  {
   "cell_type": "markdown",
   "id": "b298b20e",
   "metadata": {
    "papermill": {
     "duration": 0.007686,
     "end_time": "2024-10-10T12:09:37.108719",
     "exception": false,
     "start_time": "2024-10-10T12:09:37.101033",
     "status": "completed"
    },
    "tags": []
   },
   "source": [
    "# Question 1\n",
    "\n",
    "In the [House Prices - Advanced Regression Techniques competition](https://www.kaggle.com/c/house-prices-advanced-regression-techniques/overview), you need to use information like the number of bedrooms and bathrooms to predict the price of a house.  Inspired by this competition, you'll write your own function to do this.\n",
    "\n",
    "In the next code cell, create a function `get_expected_cost()` that has two arguments:\n",
    "- `beds` - number of bedrooms \n",
    "- `baths` - number of bathrooms\n",
    "\n",
    "It should return the expected cost of a house with that number of bedrooms and bathrooms.  Assume that:\n",
    "- the expected cost for a house with 0 bedrooms and 0 bathrooms is `80000`.  \n",
    "- each bedroom adds `30000` to the expected cost\n",
    "- each bathroom adds `10000` to the expected cost.\n",
    "\n",
    "For instance, \n",
    "- a house with 1 bedroom and 1 bathroom has an expected cost of `120000`, and \n",
    "- a house with 2 bedrooms and 1 bathroom has an expected cost of `150000`."
   ]
  },
  {
   "cell_type": "code",
   "execution_count": 2,
   "id": "1a767f7d",
   "metadata": {
    "execution": {
     "iopub.execute_input": "2024-10-10T12:09:37.126454Z",
     "iopub.status.busy": "2024-10-10T12:09:37.125551Z",
     "iopub.status.idle": "2024-10-10T12:09:37.136765Z",
     "shell.execute_reply": "2024-10-10T12:09:37.135691Z"
    },
    "papermill": {
     "duration": 0.022754,
     "end_time": "2024-10-10T12:09:37.139253",
     "exception": false,
     "start_time": "2024-10-10T12:09:37.116499",
     "status": "completed"
    },
    "tags": []
   },
   "outputs": [
    {
     "data": {
      "application/javascript": [
       "parent.postMessage({\"jupyterEvent\": \"custom.exercise_interaction\", \"data\": {\"outcomeType\": 1, \"valueTowardsCompletion\": 0.2, \"interactionType\": 1, \"questionType\": 2, \"questionId\": \"1_GetExpectedCost\", \"learnToolsVersion\": \"0.3.4\", \"failureMessage\": \"\", \"exceptionClass\": \"\", \"trace\": \"\"}}, \"*\")"
      ],
      "text/plain": [
       "<IPython.core.display.Javascript object>"
      ]
     },
     "metadata": {},
     "output_type": "display_data"
    },
    {
     "data": {
      "text/markdown": [
       "<span style=\"color:#33cc33\">Correct</span>"
      ],
      "text/plain": [
       "Correct"
      ]
     },
     "metadata": {},
     "output_type": "display_data"
    }
   ],
   "source": [
    "# TODO: Complete the function\n",
    "def get_expected_cost(beds, baths):\n",
    "    \n",
    "    value = 80000 + 30000 * beds + 10000 * baths\n",
    "    return value\n",
    "\n",
    "# Check your answer \n",
    "q1.check()"
   ]
  },
  {
   "cell_type": "code",
   "execution_count": 3,
   "id": "e40d3716",
   "metadata": {
    "execution": {
     "iopub.execute_input": "2024-10-10T12:09:37.158095Z",
     "iopub.status.busy": "2024-10-10T12:09:37.157682Z",
     "iopub.status.idle": "2024-10-10T12:09:37.162408Z",
     "shell.execute_reply": "2024-10-10T12:09:37.161377Z"
    },
    "papermill": {
     "duration": 0.016503,
     "end_time": "2024-10-10T12:09:37.164820",
     "exception": false,
     "start_time": "2024-10-10T12:09:37.148317",
     "status": "completed"
    },
    "tags": []
   },
   "outputs": [],
   "source": [
    "# Uncomment to see a hint\n",
    "#q1.hint()\n",
    "\n",
    "# Uncomment to view the solution\n",
    "#q1.solution()"
   ]
  },
  {
   "cell_type": "markdown",
   "id": "9bed418f",
   "metadata": {
    "papermill": {
     "duration": 0.007882,
     "end_time": "2024-10-10T12:09:37.180856",
     "exception": false,
     "start_time": "2024-10-10T12:09:37.172974",
     "status": "completed"
    },
    "tags": []
   },
   "source": [
    "# Question 2\n",
    "\n",
    "You are thinking about buying a home and want to get an idea of how much you will spend, based on the number of bedrooms and bathrooms.  You are trying to decide between four different options:\n",
    "- Option 1: house with two bedrooms and three bathrooms\n",
    "- Option 2: house with three bedrooms and two bathrooms\n",
    "- Option 3: house with three bedrooms and three bathrooms\n",
    "- Option 4: house with three bedrooms and four bathrooms\n",
    "\n",
    "Use the `get_expected_cost()` function you defined in question 1 to set `option_1`, `option_2`, `option_3`, and `option_4` to the expected cost of each option."
   ]
  },
  {
   "cell_type": "code",
   "execution_count": 4,
   "id": "eb3e57db",
   "metadata": {
    "execution": {
     "iopub.execute_input": "2024-10-10T12:09:37.198704Z",
     "iopub.status.busy": "2024-10-10T12:09:37.198310Z",
     "iopub.status.idle": "2024-10-10T12:09:37.209375Z",
     "shell.execute_reply": "2024-10-10T12:09:37.208347Z"
    },
    "papermill": {
     "duration": 0.02337,
     "end_time": "2024-10-10T12:09:37.212268",
     "exception": false,
     "start_time": "2024-10-10T12:09:37.188898",
     "status": "completed"
    },
    "tags": []
   },
   "outputs": [
    {
     "name": "stdout",
     "output_type": "stream",
     "text": [
      "<learntools.core.constants.PlaceholderValue object at 0x79d999dc8af0>\n",
      "<learntools.core.constants.PlaceholderValue object at 0x79d999dc8af0>\n",
      "<learntools.core.constants.PlaceholderValue object at 0x79d999dc8af0>\n",
      "<learntools.core.constants.PlaceholderValue object at 0x79d999dc8af0>\n"
     ]
    },
    {
     "data": {
      "application/javascript": [
       "parent.postMessage({\"jupyterEvent\": \"custom.exercise_interaction\", \"data\": {\"outcomeType\": 4, \"interactionType\": 1, \"questionType\": 1, \"questionId\": \"2_RunGetExpectedCost\", \"learnToolsVersion\": \"0.3.4\", \"valueTowardsCompletion\": 0.0, \"failureMessage\": \"\", \"exceptionClass\": \"\", \"trace\": \"\"}}, \"*\")"
      ],
      "text/plain": [
       "<IPython.core.display.Javascript object>"
      ]
     },
     "metadata": {},
     "output_type": "display_data"
    },
    {
     "data": {
      "text/markdown": [
       "<span style=\"color:#ccaa33\">Check:</span> When you've updated the starter code, `check()` will tell you whether your code is correct. You need to update the code that creates variables `option_one`, `option_two`, `option_three`, `option_four`"
      ],
      "text/plain": [
       "Check: When you've updated the starter code, `check()` will tell you whether your code is correct. You need to update the code that creates variables `option_one`, `option_two`, `option_three`, `option_four`"
      ]
     },
     "metadata": {},
     "output_type": "display_data"
    }
   ],
   "source": [
    "# TODO: Use the get_expected_cost function to fill in each value\n",
    "option_one = ____\n",
    "option_two = ____\n",
    "option_three = ____\n",
    "option_four = ____\n",
    "\n",
    "print(option_one)\n",
    "print(option_two)\n",
    "print(option_three)\n",
    "print(option_four)\n",
    "\n",
    "# Check your answer\n",
    "q2.check()"
   ]
  },
  {
   "cell_type": "code",
   "execution_count": 5,
   "id": "3c642884",
   "metadata": {
    "execution": {
     "iopub.execute_input": "2024-10-10T12:09:37.231582Z",
     "iopub.status.busy": "2024-10-10T12:09:37.230833Z",
     "iopub.status.idle": "2024-10-10T12:09:37.235377Z",
     "shell.execute_reply": "2024-10-10T12:09:37.234386Z"
    },
    "papermill": {
     "duration": 0.016838,
     "end_time": "2024-10-10T12:09:37.237742",
     "exception": false,
     "start_time": "2024-10-10T12:09:37.220904",
     "status": "completed"
    },
    "tags": []
   },
   "outputs": [],
   "source": [
    "# Uncomment to see a hint\n",
    "#q2.hint()\n",
    "\n",
    "# Uncomment to view the solution\n",
    "#q2.solution()"
   ]
  },
  {
   "cell_type": "markdown",
   "id": "7708a713",
   "metadata": {
    "papermill": {
     "duration": 0.008425,
     "end_time": "2024-10-10T12:09:37.254780",
     "exception": false,
     "start_time": "2024-10-10T12:09:37.246355",
     "status": "completed"
    },
    "tags": []
   },
   "source": [
    "# Question 3\n",
    "\n",
    "You're a home decorator, and you'd like to use Python to streamline some of your work.  Specifically, you're creating a tool that you intend to use to calculate the cost of painting a room.\n",
    "\n",
    "As a first step, define a function `get_cost()` that takes as input:\n",
    "- `sqft_walls` = total square feet of walls to be painted\n",
    "- `sqft_ceiling` = square feet of ceiling to be painted\n",
    "- `sqft_per_gallon` = number of square feet that you can cover with one gallon of paint\n",
    "- `cost_per_gallon` = cost (in dollars) of one gallon of paint\n",
    "\n",
    "It should return the cost (in dollars) of putting one coat of paint on all walls and the ceiling.  Assume you can buy the exact amount of paint that you need, so you can buy partial gallons (e.g., if you need 7.523 gallons, you can buy that exact amount, instead of needing to buy 8 gallons and waste some paint).  Do not round your answer."
   ]
  },
  {
   "cell_type": "code",
   "execution_count": 6,
   "id": "3ed6fee7",
   "metadata": {
    "execution": {
     "iopub.execute_input": "2024-10-10T12:09:37.274107Z",
     "iopub.status.busy": "2024-10-10T12:09:37.273260Z",
     "iopub.status.idle": "2024-10-10T12:09:37.283172Z",
     "shell.execute_reply": "2024-10-10T12:09:37.282096Z"
    },
    "papermill": {
     "duration": 0.022201,
     "end_time": "2024-10-10T12:09:37.285487",
     "exception": false,
     "start_time": "2024-10-10T12:09:37.263286",
     "status": "completed"
    },
    "tags": []
   },
   "outputs": [
    {
     "data": {
      "application/javascript": [
       "parent.postMessage({\"jupyterEvent\": \"custom.exercise_interaction\", \"data\": {\"outcomeType\": 2, \"failureMessage\": \"Expected return value of `21.599999999999998` given `sqft_walls=432`, `sqft_ceiling=144`, `sqft_per_gallon=400`, `cost_per_gallon=15`, but got `<learntools.core.constants.PlaceholderValue object at 0x79d999dc8af0>` instead.\", \"interactionType\": 1, \"questionType\": 2, \"questionId\": \"3_GetCostPaint\", \"learnToolsVersion\": \"0.3.4\", \"valueTowardsCompletion\": 0.0, \"exceptionClass\": \"\", \"trace\": \"\"}}, \"*\")"
      ],
      "text/plain": [
       "<IPython.core.display.Javascript object>"
      ]
     },
     "metadata": {},
     "output_type": "display_data"
    },
    {
     "data": {
      "text/markdown": [
       "<span style=\"color:#cc3333\">Incorrect:</span> Expected return value of `21.599999999999998` given `sqft_walls=432`, `sqft_ceiling=144`, `sqft_per_gallon=400`, `cost_per_gallon=15`, but got `<learntools.core.constants.PlaceholderValue object at 0x79d999dc8af0>` instead."
      ],
      "text/plain": [
       "Incorrect: Expected return value of `21.599999999999998` given `sqft_walls=432`, `sqft_ceiling=144`, `sqft_per_gallon=400`, `cost_per_gallon=15`, but got `<learntools.core.constants.PlaceholderValue object at 0x79d999dc8af0>` instead."
      ]
     },
     "metadata": {},
     "output_type": "display_data"
    }
   ],
   "source": [
    "# TODO: Finish defining the function\n",
    "def get_cost(sqft_walls, sqft_ceiling, sqft_per_gallon, cost_per_gallon):\n",
    "    cost = ____\n",
    "    return cost\n",
    "\n",
    "# Check your answer\n",
    "q3.check()"
   ]
  },
  {
   "cell_type": "code",
   "execution_count": 7,
   "id": "9cb21e66",
   "metadata": {
    "execution": {
     "iopub.execute_input": "2024-10-10T12:09:37.306139Z",
     "iopub.status.busy": "2024-10-10T12:09:37.305369Z",
     "iopub.status.idle": "2024-10-10T12:09:37.310010Z",
     "shell.execute_reply": "2024-10-10T12:09:37.308940Z"
    },
    "papermill": {
     "duration": 0.017761,
     "end_time": "2024-10-10T12:09:37.312300",
     "exception": false,
     "start_time": "2024-10-10T12:09:37.294539",
     "status": "completed"
    },
    "tags": []
   },
   "outputs": [],
   "source": [
    "# Uncomment to see a hint\n",
    "#q3.hint()\n",
    "\n",
    "# Uncomment to view the solution\n",
    "#q3.solution()"
   ]
  },
  {
   "cell_type": "markdown",
   "id": "1c891ae2",
   "metadata": {
    "papermill": {
     "duration": 0.008524,
     "end_time": "2024-10-10T12:09:37.329772",
     "exception": false,
     "start_time": "2024-10-10T12:09:37.321248",
     "status": "completed"
    },
    "tags": []
   },
   "source": [
    "# Question 4\n",
    "\n",
    "Use the `get_cost()` function you defined in Question 3 to calculate the cost of applying one coat of paint to a room with:\n",
    "- 432 square feet of walls, and\n",
    "- 144 square feet of ceiling.\n",
    "\n",
    "Assume that one gallon of paint covers 400 square feet and costs $15.  As in Question 3, assume you can buy partial gallons of paint.  Do not round your answer."
   ]
  },
  {
   "cell_type": "code",
   "execution_count": 8,
   "id": "27604c37",
   "metadata": {
    "execution": {
     "iopub.execute_input": "2024-10-10T12:09:37.348932Z",
     "iopub.status.busy": "2024-10-10T12:09:37.348526Z",
     "iopub.status.idle": "2024-10-10T12:09:37.357363Z",
     "shell.execute_reply": "2024-10-10T12:09:37.356322Z"
    },
    "papermill": {
     "duration": 0.021223,
     "end_time": "2024-10-10T12:09:37.359705",
     "exception": false,
     "start_time": "2024-10-10T12:09:37.338482",
     "status": "completed"
    },
    "tags": []
   },
   "outputs": [
    {
     "data": {
      "application/javascript": [
       "parent.postMessage({\"jupyterEvent\": \"custom.exercise_interaction\", \"data\": {\"outcomeType\": 4, \"interactionType\": 1, \"questionType\": 1, \"questionId\": \"4_GetCostPaintExample\", \"learnToolsVersion\": \"0.3.4\", \"valueTowardsCompletion\": 0.0, \"failureMessage\": \"\", \"exceptionClass\": \"\", \"trace\": \"\"}}, \"*\")"
      ],
      "text/plain": [
       "<IPython.core.display.Javascript object>"
      ]
     },
     "metadata": {},
     "output_type": "display_data"
    },
    {
     "data": {
      "text/markdown": [
       "<span style=\"color:#ccaa33\">Check:</span> When you've updated the starter code, `check()` will tell you whether your code is correct. You need to update the code that creates variable `project_cost`"
      ],
      "text/plain": [
       "Check: When you've updated the starter code, `check()` will tell you whether your code is correct. You need to update the code that creates variable `project_cost`"
      ]
     },
     "metadata": {},
     "output_type": "display_data"
    }
   ],
   "source": [
    "# TODO: Set the project_cost variable to the cost of the project\n",
    "project_cost = ____\n",
    "\n",
    "# Check your answer\n",
    "q4.check()"
   ]
  },
  {
   "cell_type": "code",
   "execution_count": 9,
   "id": "6b37c29e",
   "metadata": {
    "execution": {
     "iopub.execute_input": "2024-10-10T12:09:37.381456Z",
     "iopub.status.busy": "2024-10-10T12:09:37.380685Z",
     "iopub.status.idle": "2024-10-10T12:09:37.385354Z",
     "shell.execute_reply": "2024-10-10T12:09:37.384312Z"
    },
    "papermill": {
     "duration": 0.017819,
     "end_time": "2024-10-10T12:09:37.387580",
     "exception": false,
     "start_time": "2024-10-10T12:09:37.369761",
     "status": "completed"
    },
    "tags": []
   },
   "outputs": [],
   "source": [
    "# Uncomment to see a hint\n",
    "#q4.hint()\n",
    "\n",
    "# Uncomment to view the solution\n",
    "#q4.solution()"
   ]
  },
  {
   "cell_type": "markdown",
   "id": "3fa7412f",
   "metadata": {
    "papermill": {
     "duration": 0.009015,
     "end_time": "2024-10-10T12:09:37.405762",
     "exception": false,
     "start_time": "2024-10-10T12:09:37.396747",
     "status": "completed"
    },
    "tags": []
   },
   "source": [
    "# 🌶️ Question 5\n",
    "\n",
    "Now say you can no longer buy fractions of a gallon.  (For instance, if you need 4.3 gallons to do a project, then you have to buy 5 gallons of paint.)\n",
    "\n",
    "With this new scenario, you will create a new function `get_actual_cost` that uses the same inputs and calculates the cost of your project.\n",
    "\n",
    "One function that you'll need to use to do this is `math.ceil()`.  We demonstrate usage of this function in the code cell below.  It takes as a number as input and rounds the number up to the nearest integer.  \n",
    "\n",
    "Run the next code cell to test this function for yourself.  Feel free to change the value of `test_value` and make sure `math.ceil()` returns the number you expect."
   ]
  },
  {
   "cell_type": "code",
   "execution_count": 10,
   "id": "2df0a685",
   "metadata": {
    "execution": {
     "iopub.execute_input": "2024-10-10T12:09:37.426379Z",
     "iopub.status.busy": "2024-10-10T12:09:37.425439Z",
     "iopub.status.idle": "2024-10-10T12:09:37.431658Z",
     "shell.execute_reply": "2024-10-10T12:09:37.430300Z"
    },
    "papermill": {
     "duration": 0.019316,
     "end_time": "2024-10-10T12:09:37.434261",
     "exception": false,
     "start_time": "2024-10-10T12:09:37.414945",
     "status": "completed"
    },
    "tags": []
   },
   "outputs": [
    {
     "name": "stdout",
     "output_type": "stream",
     "text": [
      "3\n"
     ]
    }
   ],
   "source": [
    "test_value = 2.17\n",
    "\n",
    "rounded_value = math.ceil(test_value)\n",
    "print(rounded_value)"
   ]
  },
  {
   "cell_type": "markdown",
   "id": "95431ba4",
   "metadata": {
    "papermill": {
     "duration": 0.00918,
     "end_time": "2024-10-10T12:09:37.452897",
     "exception": false,
     "start_time": "2024-10-10T12:09:37.443717",
     "status": "completed"
    },
    "tags": []
   },
   "source": [
    "Use the next code cell to define the function `get_actual_cost()`.  You'll need to use the `math.ceil()` function to do this.\n",
    "\n",
    "When answering this question, note that it's completely valid to define a function that makes use of another function.  For instance, we can define a function `round_up_and_divide_by_three` that makes use of the `math.ceil` function:\n",
    "```\n",
    "def round_up_and_divide_by_three(num):\n",
    "    new_value = math.ceil(num)\n",
    "    final_value = new_value / 3\n",
    "    return final_value\n",
    "```"
   ]
  },
  {
   "cell_type": "code",
   "execution_count": 11,
   "id": "fc763955",
   "metadata": {
    "execution": {
     "iopub.execute_input": "2024-10-10T12:09:37.473717Z",
     "iopub.status.busy": "2024-10-10T12:09:37.472799Z",
     "iopub.status.idle": "2024-10-10T12:09:37.482231Z",
     "shell.execute_reply": "2024-10-10T12:09:37.481229Z"
    },
    "papermill": {
     "duration": 0.022704,
     "end_time": "2024-10-10T12:09:37.484853",
     "exception": false,
     "start_time": "2024-10-10T12:09:37.462149",
     "status": "completed"
    },
    "tags": []
   },
   "outputs": [
    {
     "data": {
      "application/javascript": [
       "parent.postMessage({\"jupyterEvent\": \"custom.exercise_interaction\", \"data\": {\"outcomeType\": 2, \"failureMessage\": \"Expected return value of `30` given `sqft_walls=432`, `sqft_ceiling=144`, `sqft_per_gallon=400`, `cost_per_gallon=15`, but got `<learntools.core.constants.PlaceholderValue object at 0x79d999dc8af0>` instead.\", \"interactionType\": 1, \"questionType\": 2, \"questionId\": \"5_NoMoreFractions\", \"learnToolsVersion\": \"0.3.4\", \"valueTowardsCompletion\": 0.0, \"exceptionClass\": \"\", \"trace\": \"\"}}, \"*\")"
      ],
      "text/plain": [
       "<IPython.core.display.Javascript object>"
      ]
     },
     "metadata": {},
     "output_type": "display_data"
    },
    {
     "data": {
      "text/markdown": [
       "<span style=\"color:#cc3333\">Incorrect:</span> Expected return value of `30` given `sqft_walls=432`, `sqft_ceiling=144`, `sqft_per_gallon=400`, `cost_per_gallon=15`, but got `<learntools.core.constants.PlaceholderValue object at 0x79d999dc8af0>` instead."
      ],
      "text/plain": [
       "Incorrect: Expected return value of `30` given `sqft_walls=432`, `sqft_ceiling=144`, `sqft_per_gallon=400`, `cost_per_gallon=15`, but got `<learntools.core.constants.PlaceholderValue object at 0x79d999dc8af0>` instead."
      ]
     },
     "metadata": {},
     "output_type": "display_data"
    }
   ],
   "source": [
    "def get_actual_cost(sqft_walls, sqft_ceiling, sqft_per_gallon, cost_per_gallon):\n",
    "    cost = ____\n",
    "    return cost\n",
    "\n",
    "# Check your answer\n",
    "q5.check()"
   ]
  },
  {
   "cell_type": "code",
   "execution_count": 12,
   "id": "0bac186f",
   "metadata": {
    "execution": {
     "iopub.execute_input": "2024-10-10T12:09:37.506026Z",
     "iopub.status.busy": "2024-10-10T12:09:37.505596Z",
     "iopub.status.idle": "2024-10-10T12:09:37.510290Z",
     "shell.execute_reply": "2024-10-10T12:09:37.509263Z"
    },
    "papermill": {
     "duration": 0.01805,
     "end_time": "2024-10-10T12:09:37.512678",
     "exception": false,
     "start_time": "2024-10-10T12:09:37.494628",
     "status": "completed"
    },
    "tags": []
   },
   "outputs": [],
   "source": [
    "# Uncomment to see a hint\n",
    "#q5.hint()\n",
    "\n",
    "# Uncomment to view the solution\n",
    "#q5.solution()"
   ]
  },
  {
   "cell_type": "markdown",
   "id": "c3672822",
   "metadata": {
    "papermill": {
     "duration": 0.009402,
     "end_time": "2024-10-10T12:09:37.531798",
     "exception": false,
     "start_time": "2024-10-10T12:09:37.522396",
     "status": "completed"
    },
    "tags": []
   },
   "source": [
    "Once your function is verified as correct, run the next code cell to calculate the updated cost of your project."
   ]
  },
  {
   "cell_type": "code",
   "execution_count": 13,
   "id": "9ac7e681",
   "metadata": {
    "execution": {
     "iopub.execute_input": "2024-10-10T12:09:37.552907Z",
     "iopub.status.busy": "2024-10-10T12:09:37.552525Z",
     "iopub.status.idle": "2024-10-10T12:09:37.559472Z",
     "shell.execute_reply": "2024-10-10T12:09:37.558439Z"
    },
    "papermill": {
     "duration": 0.020706,
     "end_time": "2024-10-10T12:09:37.562121",
     "exception": false,
     "start_time": "2024-10-10T12:09:37.541415",
     "status": "completed"
    },
    "tags": []
   },
   "outputs": [
    {
     "data": {
      "text/markdown": [],
      "text/plain": [
       "<learntools.core.constants.PlaceholderValue at 0x79d999dc8af0>"
      ]
     },
     "execution_count": 13,
     "metadata": {},
     "output_type": "execute_result"
    }
   ],
   "source": [
    "get_actual_cost(432, 144, 400, 15) "
   ]
  },
  {
   "cell_type": "markdown",
   "id": "c4fc4448",
   "metadata": {
    "papermill": {
     "duration": 0.009512,
     "end_time": "2024-10-10T12:09:37.581550",
     "exception": false,
     "start_time": "2024-10-10T12:09:37.572038",
     "status": "completed"
    },
    "tags": []
   },
   "source": [
    "Say you're working with a slightly larger room.  Run the next code cell to calculate the cost of the project."
   ]
  },
  {
   "cell_type": "code",
   "execution_count": 14,
   "id": "1a88be45",
   "metadata": {
    "execution": {
     "iopub.execute_input": "2024-10-10T12:09:37.603148Z",
     "iopub.status.busy": "2024-10-10T12:09:37.602733Z",
     "iopub.status.idle": "2024-10-10T12:09:37.609881Z",
     "shell.execute_reply": "2024-10-10T12:09:37.608840Z"
    },
    "papermill": {
     "duration": 0.020788,
     "end_time": "2024-10-10T12:09:37.612347",
     "exception": false,
     "start_time": "2024-10-10T12:09:37.591559",
     "status": "completed"
    },
    "tags": []
   },
   "outputs": [
    {
     "data": {
      "text/markdown": [],
      "text/plain": [
       "<learntools.core.constants.PlaceholderValue at 0x79d999dc8af0>"
      ]
     },
     "execution_count": 14,
     "metadata": {},
     "output_type": "execute_result"
    }
   ],
   "source": [
    "get_actual_cost(594, 288, 400, 15) "
   ]
  },
  {
   "cell_type": "markdown",
   "id": "9d935000",
   "metadata": {
    "papermill": {
     "duration": 0.009847,
     "end_time": "2024-10-10T12:09:37.632266",
     "exception": false,
     "start_time": "2024-10-10T12:09:37.622419",
     "status": "completed"
    },
    "tags": []
   },
   "source": [
    "# Keep going\n",
    "\n",
    "Continue to learn about **[data types](https://www.kaggle.com/alexisbcook/data-types)**."
   ]
  },
  {
   "cell_type": "markdown",
   "id": "50d88e44",
   "metadata": {
    "papermill": {
     "duration": 0.009713,
     "end_time": "2024-10-10T12:09:37.651756",
     "exception": false,
     "start_time": "2024-10-10T12:09:37.642043",
     "status": "completed"
    },
    "tags": []
   },
   "source": [
    "---\n",
    "\n",
    "\n",
    "\n",
    "\n",
    "*Have questions or comments? Visit the [course discussion forum](https://www.kaggle.com/learn/intro-to-programming/discussion) to chat with other learners.*"
   ]
  }
 ],
 "metadata": {
  "kaggle": {
   "accelerator": "none",
   "dataSources": [],
   "isGpuEnabled": false,
   "isInternetEnabled": false,
   "language": "python",
   "sourceType": "notebook"
  },
  "kernelspec": {
   "display_name": "Python 3",
   "language": "python",
   "name": "python3"
  },
  "language_info": {
   "codemirror_mode": {
    "name": "ipython",
    "version": 3
   },
   "file_extension": ".py",
   "mimetype": "text/x-python",
   "name": "python",
   "nbconvert_exporter": "python",
   "pygments_lexer": "ipython3",
   "version": "3.10.14"
  },
  "papermill": {
   "default_parameters": {},
   "duration": 4.851473,
   "end_time": "2024-10-10T12:09:38.082162",
   "environment_variables": {},
   "exception": null,
   "input_path": "__notebook__.ipynb",
   "output_path": "__notebook__.ipynb",
   "parameters": {},
   "start_time": "2024-10-10T12:09:33.230689",
   "version": "2.6.0"
  }
 },
 "nbformat": 4,
 "nbformat_minor": 5
}
