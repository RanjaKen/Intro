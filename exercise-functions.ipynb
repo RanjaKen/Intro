{
 "cells": [
  {
   "cell_type": "markdown",
   "id": "ec0d4af3",
   "metadata": {
    "papermill": {
     "duration": 0.008882,
     "end_time": "2024-10-19T18:32:39.611504",
     "exception": false,
     "start_time": "2024-10-19T18:32:39.602622",
     "status": "completed"
    },
    "tags": []
   },
   "source": [
    "**This notebook is an exercise in the [Intro to Programming](https://www.kaggle.com/learn/intro-to-programming) course.  You can reference the tutorial at [this link](https://www.kaggle.com/alexisbcook/functions).**\n",
    "\n",
    "---\n"
   ]
  },
  {
   "cell_type": "markdown",
   "id": "76a6e616",
   "metadata": {
    "papermill": {
     "duration": 0.00811,
     "end_time": "2024-10-19T18:32:39.628058",
     "exception": false,
     "start_time": "2024-10-19T18:32:39.619948",
     "status": "completed"
    },
    "tags": []
   },
   "source": [
    "In the tutorial, you learned about functions. In this exercise, you'll write some of your own!\n",
    "\n",
    "# Set up the notebook\n",
    "\n",
    "Run the next code cell without changes to set up the notebook."
   ]
  },
  {
   "cell_type": "code",
   "execution_count": 1,
   "id": "c66f9a14",
   "metadata": {
    "execution": {
     "iopub.execute_input": "2024-10-19T18:32:39.646352Z",
     "iopub.status.busy": "2024-10-19T18:32:39.645795Z",
     "iopub.status.idle": "2024-10-19T18:32:40.967926Z",
     "shell.execute_reply": "2024-10-19T18:32:40.966033Z"
    },
    "papermill": {
     "duration": 1.334957,
     "end_time": "2024-10-19T18:32:40.971088",
     "exception": false,
     "start_time": "2024-10-19T18:32:39.636131",
     "status": "completed"
    },
    "tags": []
   },
   "outputs": [
    {
     "name": "stdout",
     "output_type": "stream",
     "text": [
      "Setup complete.\n"
     ]
    }
   ],
   "source": [
    "# Set up the exercise\n",
    "import math\n",
    "from learntools.core import binder\n",
    "binder.bind(globals())\n",
    "from learntools.intro_to_programming.ex2 import *\n",
    "print('Setup complete.')"
   ]
  },
  {
   "cell_type": "markdown",
   "id": "ca0821af",
   "metadata": {
    "papermill": {
     "duration": 0.008027,
     "end_time": "2024-10-19T18:32:40.987415",
     "exception": false,
     "start_time": "2024-10-19T18:32:40.979388",
     "status": "completed"
    },
    "tags": []
   },
   "source": [
    "# Question 1\n",
    "\n",
    "In the [House Prices - Advanced Regression Techniques competition](https://www.kaggle.com/c/house-prices-advanced-regression-techniques/overview), you need to use information like the number of bedrooms and bathrooms to predict the price of a house.  Inspired by this competition, you'll write your own function to do this.\n",
    "\n",
    "In the next code cell, create a function `get_expected_cost()` that has two arguments:\n",
    "- `beds` - number of bedrooms \n",
    "- `baths` - number of bathrooms\n",
    "\n",
    "It should return the expected cost of a house with that number of bedrooms and bathrooms.  Assume that:\n",
    "- the expected cost for a house with 0 bedrooms and 0 bathrooms is `80000`.  \n",
    "- each bedroom adds `30000` to the expected cost\n",
    "- each bathroom adds `10000` to the expected cost.\n",
    "\n",
    "For instance, \n",
    "- a house with 1 bedroom and 1 bathroom has an expected cost of `120000`, and \n",
    "- a house with 2 bedrooms and 1 bathroom has an expected cost of `150000`."
   ]
  },
  {
   "cell_type": "code",
   "execution_count": 2,
   "id": "20d2a7a0",
   "metadata": {
    "execution": {
     "iopub.execute_input": "2024-10-19T18:32:41.006193Z",
     "iopub.status.busy": "2024-10-19T18:32:41.005466Z",
     "iopub.status.idle": "2024-10-19T18:32:41.019565Z",
     "shell.execute_reply": "2024-10-19T18:32:41.018102Z"
    },
    "papermill": {
     "duration": 0.026878,
     "end_time": "2024-10-19T18:32:41.022426",
     "exception": false,
     "start_time": "2024-10-19T18:32:40.995548",
     "status": "completed"
    },
    "tags": []
   },
   "outputs": [
    {
     "data": {
      "application/javascript": [
       "parent.postMessage({\"jupyterEvent\": \"custom.exercise_interaction\", \"data\": {\"outcomeType\": 1, \"valueTowardsCompletion\": 0.2, \"interactionType\": 1, \"questionType\": 2, \"questionId\": \"1_GetExpectedCost\", \"learnToolsVersion\": \"0.3.4\", \"failureMessage\": \"\", \"exceptionClass\": \"\", \"trace\": \"\"}}, \"*\")"
      ],
      "text/plain": [
       "<IPython.core.display.Javascript object>"
      ]
     },
     "metadata": {},
     "output_type": "display_data"
    },
    {
     "data": {
      "text/markdown": [
       "<span style=\"color:#33cc33\">Correct</span>"
      ],
      "text/plain": [
       "Correct"
      ]
     },
     "metadata": {},
     "output_type": "display_data"
    }
   ],
   "source": [
    "# TODO: Complete the function\n",
    "def get_expected_cost(beds, baths):\n",
    "    \n",
    "    value = 80000 + 30000 * beds + 10000 * baths\n",
    "    return value\n",
    "\n",
    "# Check your answer \n",
    "q1.check()"
   ]
  },
  {
   "cell_type": "code",
   "execution_count": 3,
   "id": "1e2d15ff",
   "metadata": {
    "execution": {
     "iopub.execute_input": "2024-10-19T18:32:41.043917Z",
     "iopub.status.busy": "2024-10-19T18:32:41.043460Z",
     "iopub.status.idle": "2024-10-19T18:32:41.049206Z",
     "shell.execute_reply": "2024-10-19T18:32:41.047781Z"
    },
    "papermill": {
     "duration": 0.019503,
     "end_time": "2024-10-19T18:32:41.052224",
     "exception": false,
     "start_time": "2024-10-19T18:32:41.032721",
     "status": "completed"
    },
    "tags": []
   },
   "outputs": [],
   "source": [
    "# Uncomment to see a hint\n",
    "#q1.hint()\n",
    "\n",
    "# Uncomment to view the solution\n",
    "#q1.solution()"
   ]
  },
  {
   "cell_type": "markdown",
   "id": "1d217355",
   "metadata": {
    "papermill": {
     "duration": 0.008602,
     "end_time": "2024-10-19T18:32:41.069713",
     "exception": false,
     "start_time": "2024-10-19T18:32:41.061111",
     "status": "completed"
    },
    "tags": []
   },
   "source": [
    "# Question 2\n",
    "\n",
    "You are thinking about buying a home and want to get an idea of how much you will spend, based on the number of bedrooms and bathrooms.  You are trying to decide between four different options:\n",
    "- Option 1: house with two bedrooms and three bathrooms\n",
    "- Option 2: house with three bedrooms and two bathrooms\n",
    "- Option 3: house with three bedrooms and three bathrooms\n",
    "- Option 4: house with three bedrooms and four bathrooms\n",
    "\n",
    "Use the `get_expected_cost()` function you defined in question 1 to set `option_1`, `option_2`, `option_3`, and `option_4` to the expected cost of each option."
   ]
  },
  {
   "cell_type": "code",
   "execution_count": 4,
   "id": "1b95d02f",
   "metadata": {
    "execution": {
     "iopub.execute_input": "2024-10-19T18:32:41.091442Z",
     "iopub.status.busy": "2024-10-19T18:32:41.089699Z",
     "iopub.status.idle": "2024-10-19T18:32:41.103754Z",
     "shell.execute_reply": "2024-10-19T18:32:41.102480Z"
    },
    "papermill": {
     "duration": 0.027104,
     "end_time": "2024-10-19T18:32:41.106341",
     "exception": false,
     "start_time": "2024-10-19T18:32:41.079237",
     "status": "completed"
    },
    "tags": []
   },
   "outputs": [
    {
     "name": "stdout",
     "output_type": "stream",
     "text": [
      "170000\n",
      "190000\n",
      "200000\n",
      "210000\n"
     ]
    },
    {
     "data": {
      "application/javascript": [
       "parent.postMessage({\"jupyterEvent\": \"custom.exercise_interaction\", \"data\": {\"outcomeType\": 1, \"valueTowardsCompletion\": 0.2, \"interactionType\": 1, \"questionType\": 1, \"questionId\": \"2_RunGetExpectedCost\", \"learnToolsVersion\": \"0.3.4\", \"failureMessage\": \"\", \"exceptionClass\": \"\", \"trace\": \"\"}}, \"*\")"
      ],
      "text/plain": [
       "<IPython.core.display.Javascript object>"
      ]
     },
     "metadata": {},
     "output_type": "display_data"
    },
    {
     "data": {
      "text/markdown": [
       "<span style=\"color:#33cc33\">Correct</span>"
      ],
      "text/plain": [
       "Correct"
      ]
     },
     "metadata": {},
     "output_type": "display_data"
    }
   ],
   "source": [
    "# TODO: Use the get_expected_cost function to fill in each value\n",
    "option_one = get_expected_cost(2,3)\n",
    "option_two = get_expected_cost(3,2)\n",
    "option_three = get_expected_cost(3,3)\n",
    "option_four = get_expected_cost(3,4)\n",
    "\n",
    "print(option_one)\n",
    "print(option_two)\n",
    "print(option_three)\n",
    "print(option_four)\n",
    "\n",
    "# Check your answer\n",
    "q2.check()"
   ]
  },
  {
   "cell_type": "code",
   "execution_count": 5,
   "id": "ee12a9a4",
   "metadata": {
    "execution": {
     "iopub.execute_input": "2024-10-19T18:32:41.127269Z",
     "iopub.status.busy": "2024-10-19T18:32:41.126820Z",
     "iopub.status.idle": "2024-10-19T18:32:41.132591Z",
     "shell.execute_reply": "2024-10-19T18:32:41.131242Z"
    },
    "papermill": {
     "duration": 0.019807,
     "end_time": "2024-10-19T18:32:41.135610",
     "exception": false,
     "start_time": "2024-10-19T18:32:41.115803",
     "status": "completed"
    },
    "tags": []
   },
   "outputs": [],
   "source": [
    "# Uncomment to see a hint\n",
    "#q2.hint()\n",
    "\n",
    "# Uncomment to view the solution\n",
    "#q2.solution()"
   ]
  },
  {
   "cell_type": "markdown",
   "id": "9d482d28",
   "metadata": {
    "papermill": {
     "duration": 0.009079,
     "end_time": "2024-10-19T18:32:41.154233",
     "exception": false,
     "start_time": "2024-10-19T18:32:41.145154",
     "status": "completed"
    },
    "tags": []
   },
   "source": [
    "# Question 3\n",
    "\n",
    "You're a home decorator, and you'd like to use Python to streamline some of your work.  Specifically, you're creating a tool that you intend to use to calculate the cost of painting a room.\n",
    "\n",
    "As a first step, define a function `get_cost()` that takes as input:\n",
    "- `sqft_walls` = total square feet of walls to be painted\n",
    "- `sqft_ceiling` = square feet of ceiling to be painted\n",
    "- `sqft_per_gallon` = number of square feet that you can cover with one gallon of paint\n",
    "- `cost_per_gallon` = cost (in dollars) of one gallon of paint\n",
    "\n",
    "It should return the cost (in dollars) of putting one coat of paint on all walls and the ceiling.  Assume you can buy the exact amount of paint that you need, so you can buy partial gallons (e.g., if you need 7.523 gallons, you can buy that exact amount, instead of needing to buy 8 gallons and waste some paint).  Do not round your answer."
   ]
  },
  {
   "cell_type": "code",
   "execution_count": 6,
   "id": "7bb1a709",
   "metadata": {
    "execution": {
     "iopub.execute_input": "2024-10-19T18:32:41.175232Z",
     "iopub.status.busy": "2024-10-19T18:32:41.174792Z",
     "iopub.status.idle": "2024-10-19T18:32:41.187127Z",
     "shell.execute_reply": "2024-10-19T18:32:41.185542Z"
    },
    "papermill": {
     "duration": 0.025853,
     "end_time": "2024-10-19T18:32:41.189790",
     "exception": false,
     "start_time": "2024-10-19T18:32:41.163937",
     "status": "completed"
    },
    "tags": []
   },
   "outputs": [
    {
     "data": {
      "application/javascript": [
       "parent.postMessage({\"jupyterEvent\": \"custom.exercise_interaction\", \"data\": {\"outcomeType\": 1, \"valueTowardsCompletion\": 0.2, \"interactionType\": 1, \"questionType\": 2, \"questionId\": \"3_GetCostPaint\", \"learnToolsVersion\": \"0.3.4\", \"failureMessage\": \"\", \"exceptionClass\": \"\", \"trace\": \"\"}}, \"*\")"
      ],
      "text/plain": [
       "<IPython.core.display.Javascript object>"
      ]
     },
     "metadata": {},
     "output_type": "display_data"
    },
    {
     "data": {
      "text/markdown": [
       "<span style=\"color:#33cc33\">Correct</span>"
      ],
      "text/plain": [
       "Correct"
      ]
     },
     "metadata": {},
     "output_type": "display_data"
    }
   ],
   "source": [
    "# TODO: Finish defining the function\n",
    "def get_cost(sqft_walls, sqft_ceiling, sqft_per_gallon, cost_per_gallon):\n",
    "    total = sqft_walls + sqft_ceiling\n",
    "    needed = total / sqft_per_gallon\n",
    "\n",
    "    \n",
    "    \n",
    "    cost = needed * cost_per_gallon\n",
    "    return cost\n",
    "\n",
    "# Check your answer\n",
    "q3.check()"
   ]
  },
  {
   "cell_type": "code",
   "execution_count": 7,
   "id": "5f4f2cb3",
   "metadata": {
    "execution": {
     "iopub.execute_input": "2024-10-19T18:32:41.211454Z",
     "iopub.status.busy": "2024-10-19T18:32:41.210939Z",
     "iopub.status.idle": "2024-10-19T18:32:41.217301Z",
     "shell.execute_reply": "2024-10-19T18:32:41.215803Z"
    },
    "papermill": {
     "duration": 0.021258,
     "end_time": "2024-10-19T18:32:41.220521",
     "exception": false,
     "start_time": "2024-10-19T18:32:41.199263",
     "status": "completed"
    },
    "tags": []
   },
   "outputs": [],
   "source": [
    "# Uncomment to see a hint\n",
    "#q3.hint()\n",
    "\n",
    "# Uncomment to view the solution\n",
    "#q3.solution()"
   ]
  },
  {
   "cell_type": "markdown",
   "id": "5e648ffd",
   "metadata": {
    "papermill": {
     "duration": 0.00916,
     "end_time": "2024-10-19T18:32:41.238983",
     "exception": false,
     "start_time": "2024-10-19T18:32:41.229823",
     "status": "completed"
    },
    "tags": []
   },
   "source": [
    "# Question 4\n",
    "\n",
    "Use the `get_cost()` function you defined in Question 3 to calculate the cost of applying one coat of paint to a room with:\n",
    "- 432 square feet of walls, and\n",
    "- 144 square feet of ceiling.\n",
    "\n",
    "Assume that one gallon of paint covers 400 square feet and costs $15.  As in Question 3, assume you can buy partial gallons of paint.  Do not round your answer."
   ]
  },
  {
   "cell_type": "code",
   "execution_count": 8,
   "id": "f69c49df",
   "metadata": {
    "execution": {
     "iopub.execute_input": "2024-10-19T18:32:41.259528Z",
     "iopub.status.busy": "2024-10-19T18:32:41.259029Z",
     "iopub.status.idle": "2024-10-19T18:32:41.271211Z",
     "shell.execute_reply": "2024-10-19T18:32:41.269779Z"
    },
    "papermill": {
     "duration": 0.025731,
     "end_time": "2024-10-19T18:32:41.273875",
     "exception": false,
     "start_time": "2024-10-19T18:32:41.248144",
     "status": "completed"
    },
    "tags": []
   },
   "outputs": [
    {
     "data": {
      "application/javascript": [
       "parent.postMessage({\"jupyterEvent\": \"custom.exercise_interaction\", \"data\": {\"outcomeType\": 1, \"valueTowardsCompletion\": 0.2, \"interactionType\": 1, \"questionType\": 1, \"questionId\": \"4_GetCostPaintExample\", \"learnToolsVersion\": \"0.3.4\", \"failureMessage\": \"\", \"exceptionClass\": \"\", \"trace\": \"\"}}, \"*\")"
      ],
      "text/plain": [
       "<IPython.core.display.Javascript object>"
      ]
     },
     "metadata": {},
     "output_type": "display_data"
    },
    {
     "data": {
      "text/markdown": [
       "<span style=\"color:#33cc33\">Correct</span>"
      ],
      "text/plain": [
       "Correct"
      ]
     },
     "metadata": {},
     "output_type": "display_data"
    }
   ],
   "source": [
    "# TODO: Set the project_cost variable to the cost of the project\n",
    "project_cost = get_cost(432, 144, 400, 15)\n",
    "\n",
    "# Check your answer\n",
    "q4.check()"
   ]
  },
  {
   "cell_type": "code",
   "execution_count": 9,
   "id": "476e155c",
   "metadata": {
    "execution": {
     "iopub.execute_input": "2024-10-19T18:32:41.295137Z",
     "iopub.status.busy": "2024-10-19T18:32:41.294694Z",
     "iopub.status.idle": "2024-10-19T18:32:41.300319Z",
     "shell.execute_reply": "2024-10-19T18:32:41.298807Z"
    },
    "papermill": {
     "duration": 0.019689,
     "end_time": "2024-10-19T18:32:41.303317",
     "exception": false,
     "start_time": "2024-10-19T18:32:41.283628",
     "status": "completed"
    },
    "tags": []
   },
   "outputs": [],
   "source": [
    "# Uncomment to see a hint\n",
    "#q4.hint()\n",
    "\n",
    "# Uncomment to view the solution\n",
    "#q4.solution()"
   ]
  },
  {
   "cell_type": "markdown",
   "id": "822cfae1",
   "metadata": {
    "papermill": {
     "duration": 0.009913,
     "end_time": "2024-10-19T18:32:41.323312",
     "exception": false,
     "start_time": "2024-10-19T18:32:41.313399",
     "status": "completed"
    },
    "tags": []
   },
   "source": [
    "# 🌶️ Question 5\n",
    "\n",
    "Now say you can no longer buy fractions of a gallon.  (For instance, if you need 4.3 gallons to do a project, then you have to buy 5 gallons of paint.)\n",
    "\n",
    "With this new scenario, you will create a new function `get_actual_cost` that uses the same inputs and calculates the cost of your project.\n",
    "\n",
    "One function that you'll need to use to do this is `math.ceil()`.  We demonstrate usage of this function in the code cell below.  It takes as a number as input and rounds the number up to the nearest integer.  \n",
    "\n",
    "Run the next code cell to test this function for yourself.  Feel free to change the value of `test_value` and make sure `math.ceil()` returns the number you expect."
   ]
  },
  {
   "cell_type": "code",
   "execution_count": 10,
   "id": "8194dc55",
   "metadata": {
    "execution": {
     "iopub.execute_input": "2024-10-19T18:32:41.345489Z",
     "iopub.status.busy": "2024-10-19T18:32:41.345064Z",
     "iopub.status.idle": "2024-10-19T18:32:41.351695Z",
     "shell.execute_reply": "2024-10-19T18:32:41.350436Z"
    },
    "papermill": {
     "duration": 0.021419,
     "end_time": "2024-10-19T18:32:41.354853",
     "exception": false,
     "start_time": "2024-10-19T18:32:41.333434",
     "status": "completed"
    },
    "tags": []
   },
   "outputs": [
    {
     "name": "stdout",
     "output_type": "stream",
     "text": [
      "3\n"
     ]
    }
   ],
   "source": [
    "test_value = 2.17\n",
    "\n",
    "rounded_value = math.ceil(test_value)\n",
    "print(rounded_value)"
   ]
  },
  {
   "cell_type": "markdown",
   "id": "e2db7824",
   "metadata": {
    "papermill": {
     "duration": 0.009431,
     "end_time": "2024-10-19T18:32:41.374842",
     "exception": false,
     "start_time": "2024-10-19T18:32:41.365411",
     "status": "completed"
    },
    "tags": []
   },
   "source": [
    "Use the next code cell to define the function `get_actual_cost()`.  You'll need to use the `math.ceil()` function to do this.\n",
    "\n",
    "When answering this question, note that it's completely valid to define a function that makes use of another function.  For instance, we can define a function `round_up_and_divide_by_three` that makes use of the `math.ceil` function:\n",
    "```\n",
    "def round_up_and_divide_by_three(num):\n",
    "    new_value = math.ceil(num)\n",
    "    final_value = new_value / 3\n",
    "    return final_value\n",
    "```"
   ]
  },
  {
   "cell_type": "code",
   "execution_count": 11,
   "id": "a6b293ea",
   "metadata": {
    "execution": {
     "iopub.execute_input": "2024-10-19T18:32:41.396683Z",
     "iopub.status.busy": "2024-10-19T18:32:41.396212Z",
     "iopub.status.idle": "2024-10-19T18:32:41.408547Z",
     "shell.execute_reply": "2024-10-19T18:32:41.407199Z"
    },
    "papermill": {
     "duration": 0.026291,
     "end_time": "2024-10-19T18:32:41.410936",
     "exception": false,
     "start_time": "2024-10-19T18:32:41.384645",
     "status": "completed"
    },
    "tags": []
   },
   "outputs": [
    {
     "data": {
      "application/javascript": [
       "parent.postMessage({\"jupyterEvent\": \"custom.exercise_interaction\", \"data\": {\"outcomeType\": 2, \"failureMessage\": \"Expected return value of `30` given `sqft_walls=432`, `sqft_ceiling=144`, `sqft_per_gallon=400`, `cost_per_gallon=15`, but got `<learntools.core.constants.PlaceholderValue object at 0x7ebe41600af0>` instead.\", \"interactionType\": 1, \"questionType\": 2, \"questionId\": \"5_NoMoreFractions\", \"learnToolsVersion\": \"0.3.4\", \"valueTowardsCompletion\": 0.0, \"exceptionClass\": \"\", \"trace\": \"\"}}, \"*\")"
      ],
      "text/plain": [
       "<IPython.core.display.Javascript object>"
      ]
     },
     "metadata": {},
     "output_type": "display_data"
    },
    {
     "data": {
      "text/markdown": [
       "<span style=\"color:#cc3333\">Incorrect:</span> Expected return value of `30` given `sqft_walls=432`, `sqft_ceiling=144`, `sqft_per_gallon=400`, `cost_per_gallon=15`, but got `<learntools.core.constants.PlaceholderValue object at 0x7ebe41600af0>` instead."
      ],
      "text/plain": [
       "Incorrect: Expected return value of `30` given `sqft_walls=432`, `sqft_ceiling=144`, `sqft_per_gallon=400`, `cost_per_gallon=15`, but got `<learntools.core.constants.PlaceholderValue object at 0x7ebe41600af0>` instead."
      ]
     },
     "metadata": {},
     "output_type": "display_data"
    }
   ],
   "source": [
    "def get_actual_cost(sqft_walls, sqft_ceiling, sqft_per_gallon, cost_per_gallon):\n",
    "    cost = ____\n",
    "    return cost\n",
    "\n",
    "# Check your answer\n",
    "q5.check()"
   ]
  },
  {
   "cell_type": "code",
   "execution_count": 12,
   "id": "068b81fb",
   "metadata": {
    "execution": {
     "iopub.execute_input": "2024-10-19T18:32:41.432933Z",
     "iopub.status.busy": "2024-10-19T18:32:41.432497Z",
     "iopub.status.idle": "2024-10-19T18:32:41.437414Z",
     "shell.execute_reply": "2024-10-19T18:32:41.436267Z"
    },
    "papermill": {
     "duration": 0.019102,
     "end_time": "2024-10-19T18:32:41.440074",
     "exception": false,
     "start_time": "2024-10-19T18:32:41.420972",
     "status": "completed"
    },
    "tags": []
   },
   "outputs": [],
   "source": [
    "# Uncomment to see a hint\n",
    "#q5.hint()\n",
    "\n",
    "# Uncomment to view the solution\n",
    "#q5.solution()"
   ]
  },
  {
   "cell_type": "markdown",
   "id": "eae3be9c",
   "metadata": {
    "papermill": {
     "duration": 0.009811,
     "end_time": "2024-10-19T18:32:41.460080",
     "exception": false,
     "start_time": "2024-10-19T18:32:41.450269",
     "status": "completed"
    },
    "tags": []
   },
   "source": [
    "Once your function is verified as correct, run the next code cell to calculate the updated cost of your project."
   ]
  },
  {
   "cell_type": "code",
   "execution_count": 13,
   "id": "a501dbdd",
   "metadata": {
    "execution": {
     "iopub.execute_input": "2024-10-19T18:32:41.482061Z",
     "iopub.status.busy": "2024-10-19T18:32:41.481605Z",
     "iopub.status.idle": "2024-10-19T18:32:41.490112Z",
     "shell.execute_reply": "2024-10-19T18:32:41.488729Z"
    },
    "papermill": {
     "duration": 0.022473,
     "end_time": "2024-10-19T18:32:41.492589",
     "exception": false,
     "start_time": "2024-10-19T18:32:41.470116",
     "status": "completed"
    },
    "tags": []
   },
   "outputs": [
    {
     "data": {
      "text/markdown": [],
      "text/plain": [
       "<learntools.core.constants.PlaceholderValue at 0x7ebe41600af0>"
      ]
     },
     "execution_count": 13,
     "metadata": {},
     "output_type": "execute_result"
    }
   ],
   "source": [
    "get_actual_cost(432, 144, 400, 15) "
   ]
  },
  {
   "cell_type": "markdown",
   "id": "748c4a10",
   "metadata": {
    "papermill": {
     "duration": 0.009827,
     "end_time": "2024-10-19T18:32:41.512630",
     "exception": false,
     "start_time": "2024-10-19T18:32:41.502803",
     "status": "completed"
    },
    "tags": []
   },
   "source": [
    "Say you're working with a slightly larger room.  Run the next code cell to calculate the cost of the project."
   ]
  },
  {
   "cell_type": "code",
   "execution_count": 14,
   "id": "f15e4235",
   "metadata": {
    "execution": {
     "iopub.execute_input": "2024-10-19T18:32:41.534729Z",
     "iopub.status.busy": "2024-10-19T18:32:41.534267Z",
     "iopub.status.idle": "2024-10-19T18:32:41.541697Z",
     "shell.execute_reply": "2024-10-19T18:32:41.540511Z"
    },
    "papermill": {
     "duration": 0.021442,
     "end_time": "2024-10-19T18:32:41.544216",
     "exception": false,
     "start_time": "2024-10-19T18:32:41.522774",
     "status": "completed"
    },
    "tags": []
   },
   "outputs": [
    {
     "data": {
      "text/markdown": [],
      "text/plain": [
       "<learntools.core.constants.PlaceholderValue at 0x7ebe41600af0>"
      ]
     },
     "execution_count": 14,
     "metadata": {},
     "output_type": "execute_result"
    }
   ],
   "source": [
    "get_actual_cost(594, 288, 400, 15) "
   ]
  },
  {
   "cell_type": "markdown",
   "id": "ff1eb332",
   "metadata": {
    "papermill": {
     "duration": 0.010053,
     "end_time": "2024-10-19T18:32:41.564652",
     "exception": false,
     "start_time": "2024-10-19T18:32:41.554599",
     "status": "completed"
    },
    "tags": []
   },
   "source": [
    "# Keep going\n",
    "\n",
    "Continue to learn about **[data types](https://www.kaggle.com/alexisbcook/data-types)**."
   ]
  },
  {
   "cell_type": "markdown",
   "id": "973053a3",
   "metadata": {
    "papermill": {
     "duration": 0.010389,
     "end_time": "2024-10-19T18:32:41.585373",
     "exception": false,
     "start_time": "2024-10-19T18:32:41.574984",
     "status": "completed"
    },
    "tags": []
   },
   "source": [
    "---\n",
    "\n",
    "\n",
    "\n",
    "\n",
    "*Have questions or comments? Visit the [course discussion forum](https://www.kaggle.com/learn/intro-to-programming/discussion) to chat with other learners.*"
   ]
  }
 ],
 "metadata": {
  "kaggle": {
   "accelerator": "none",
   "dataSources": [],
   "isGpuEnabled": false,
   "isInternetEnabled": false,
   "language": "python",
   "sourceType": "notebook"
  },
  "kernelspec": {
   "display_name": "Python 3",
   "language": "python",
   "name": "python3"
  },
  "language_info": {
   "codemirror_mode": {
    "name": "ipython",
    "version": 3
   },
   "file_extension": ".py",
   "mimetype": "text/x-python",
   "name": "python",
   "nbconvert_exporter": "python",
   "pygments_lexer": "ipython3",
   "version": "3.10.14"
  },
  "papermill": {
   "default_parameters": {},
   "duration": 6.284964,
   "end_time": "2024-10-19T18:32:42.117592",
   "environment_variables": {},
   "exception": null,
   "input_path": "__notebook__.ipynb",
   "output_path": "__notebook__.ipynb",
   "parameters": {},
   "start_time": "2024-10-19T18:32:35.832628",
   "version": "2.6.0"
  }
 },
 "nbformat": 4,
 "nbformat_minor": 5
}
