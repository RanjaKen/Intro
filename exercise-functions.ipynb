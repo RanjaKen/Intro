{
 "cells": [
  {
   "cell_type": "markdown",
   "id": "088bd1b8",
   "metadata": {
    "papermill": {
     "duration": 0.008922,
     "end_time": "2024-10-12T05:45:51.300182",
     "exception": false,
     "start_time": "2024-10-12T05:45:51.291260",
     "status": "completed"
    },
    "tags": []
   },
   "source": [
    "**This notebook is an exercise in the [Intro to Programming](https://www.kaggle.com/learn/intro-to-programming) course.  You can reference the tutorial at [this link](https://www.kaggle.com/alexisbcook/functions).**\n",
    "\n",
    "---\n"
   ]
  },
  {
   "cell_type": "markdown",
   "id": "03380aca",
   "metadata": {
    "papermill": {
     "duration": 0.007722,
     "end_time": "2024-10-12T05:45:51.316275",
     "exception": false,
     "start_time": "2024-10-12T05:45:51.308553",
     "status": "completed"
    },
    "tags": []
   },
   "source": [
    "In the tutorial, you learned about functions. In this exercise, you'll write some of your own!\n",
    "\n",
    "# Set up the notebook\n",
    "\n",
    "Run the next code cell without changes to set up the notebook."
   ]
  },
  {
   "cell_type": "code",
   "execution_count": 1,
   "id": "37e18639",
   "metadata": {
    "execution": {
     "iopub.execute_input": "2024-10-12T05:45:51.335035Z",
     "iopub.status.busy": "2024-10-12T05:45:51.334379Z",
     "iopub.status.idle": "2024-10-12T05:45:52.490974Z",
     "shell.execute_reply": "2024-10-12T05:45:52.488661Z"
    },
    "papermill": {
     "duration": 1.169691,
     "end_time": "2024-10-12T05:45:52.494154",
     "exception": false,
     "start_time": "2024-10-12T05:45:51.324463",
     "status": "completed"
    },
    "tags": []
   },
   "outputs": [
    {
     "name": "stdout",
     "output_type": "stream",
     "text": [
      "Setup complete.\n"
     ]
    }
   ],
   "source": [
    "# Set up the exercise\n",
    "import math\n",
    "from learntools.core import binder\n",
    "binder.bind(globals())\n",
    "from learntools.intro_to_programming.ex2 import *\n",
    "print('Setup complete.')"
   ]
  },
  {
   "cell_type": "markdown",
   "id": "266665be",
   "metadata": {
    "papermill": {
     "duration": 0.007873,
     "end_time": "2024-10-12T05:45:52.510231",
     "exception": false,
     "start_time": "2024-10-12T05:45:52.502358",
     "status": "completed"
    },
    "tags": []
   },
   "source": [
    "# Question 1\n",
    "\n",
    "In the [House Prices - Advanced Regression Techniques competition](https://www.kaggle.com/c/house-prices-advanced-regression-techniques/overview), you need to use information like the number of bedrooms and bathrooms to predict the price of a house.  Inspired by this competition, you'll write your own function to do this.\n",
    "\n",
    "In the next code cell, create a function `get_expected_cost()` that has two arguments:\n",
    "- `beds` - number of bedrooms \n",
    "- `baths` - number of bathrooms\n",
    "\n",
    "It should return the expected cost of a house with that number of bedrooms and bathrooms.  Assume that:\n",
    "- the expected cost for a house with 0 bedrooms and 0 bathrooms is `80000`.  \n",
    "- each bedroom adds `30000` to the expected cost\n",
    "- each bathroom adds `10000` to the expected cost.\n",
    "\n",
    "For instance, \n",
    "- a house with 1 bedroom and 1 bathroom has an expected cost of `120000`, and \n",
    "- a house with 2 bedrooms and 1 bathroom has an expected cost of `150000`."
   ]
  },
  {
   "cell_type": "code",
   "execution_count": 2,
   "id": "83019a75",
   "metadata": {
    "execution": {
     "iopub.execute_input": "2024-10-12T05:45:52.528768Z",
     "iopub.status.busy": "2024-10-12T05:45:52.528098Z",
     "iopub.status.idle": "2024-10-12T05:45:52.542385Z",
     "shell.execute_reply": "2024-10-12T05:45:52.540978Z"
    },
    "papermill": {
     "duration": 0.026955,
     "end_time": "2024-10-12T05:45:52.545335",
     "exception": false,
     "start_time": "2024-10-12T05:45:52.518380",
     "status": "completed"
    },
    "tags": []
   },
   "outputs": [
    {
     "data": {
      "application/javascript": [
       "parent.postMessage({\"jupyterEvent\": \"custom.exercise_interaction\", \"data\": {\"outcomeType\": 1, \"valueTowardsCompletion\": 0.2, \"interactionType\": 1, \"questionType\": 2, \"questionId\": \"1_GetExpectedCost\", \"learnToolsVersion\": \"0.3.4\", \"failureMessage\": \"\", \"exceptionClass\": \"\", \"trace\": \"\"}}, \"*\")"
      ],
      "text/plain": [
       "<IPython.core.display.Javascript object>"
      ]
     },
     "metadata": {},
     "output_type": "display_data"
    },
    {
     "data": {
      "text/markdown": [
       "<span style=\"color:#33cc33\">Correct</span>"
      ],
      "text/plain": [
       "Correct"
      ]
     },
     "metadata": {},
     "output_type": "display_data"
    }
   ],
   "source": [
    "# TODO: Complete the function\n",
    "def get_expected_cost(beds, baths):\n",
    "    \n",
    "    value = 80000 + 30000 * beds + 10000 * baths\n",
    "    return value\n",
    "\n",
    "# Check your answer \n",
    "q1.check()"
   ]
  },
  {
   "cell_type": "code",
   "execution_count": 3,
   "id": "207e4c80",
   "metadata": {
    "execution": {
     "iopub.execute_input": "2024-10-12T05:45:52.566010Z",
     "iopub.status.busy": "2024-10-12T05:45:52.565554Z",
     "iopub.status.idle": "2024-10-12T05:45:52.571364Z",
     "shell.execute_reply": "2024-10-12T05:45:52.569991Z"
    },
    "papermill": {
     "duration": 0.018267,
     "end_time": "2024-10-12T05:45:52.573857",
     "exception": false,
     "start_time": "2024-10-12T05:45:52.555590",
     "status": "completed"
    },
    "tags": []
   },
   "outputs": [],
   "source": [
    "# Uncomment to see a hint\n",
    "#q1.hint()\n",
    "\n",
    "# Uncomment to view the solution\n",
    "#q1.solution()"
   ]
  },
  {
   "cell_type": "markdown",
   "id": "1cc4033b",
   "metadata": {
    "papermill": {
     "duration": 0.008244,
     "end_time": "2024-10-12T05:45:52.590553",
     "exception": false,
     "start_time": "2024-10-12T05:45:52.582309",
     "status": "completed"
    },
    "tags": []
   },
   "source": [
    "# Question 2\n",
    "\n",
    "You are thinking about buying a home and want to get an idea of how much you will spend, based on the number of bedrooms and bathrooms.  You are trying to decide between four different options:\n",
    "- Option 1: house with two bedrooms and three bathrooms\n",
    "- Option 2: house with three bedrooms and two bathrooms\n",
    "- Option 3: house with three bedrooms and three bathrooms\n",
    "- Option 4: house with three bedrooms and four bathrooms\n",
    "\n",
    "Use the `get_expected_cost()` function you defined in question 1 to set `option_1`, `option_2`, `option_3`, and `option_4` to the expected cost of each option."
   ]
  },
  {
   "cell_type": "code",
   "execution_count": 4,
   "id": "f53ff43d",
   "metadata": {
    "execution": {
     "iopub.execute_input": "2024-10-12T05:45:52.610161Z",
     "iopub.status.busy": "2024-10-12T05:45:52.609615Z",
     "iopub.status.idle": "2024-10-12T05:45:52.623160Z",
     "shell.execute_reply": "2024-10-12T05:45:52.621867Z"
    },
    "papermill": {
     "duration": 0.027322,
     "end_time": "2024-10-12T05:45:52.626251",
     "exception": false,
     "start_time": "2024-10-12T05:45:52.598929",
     "status": "completed"
    },
    "tags": []
   },
   "outputs": [
    {
     "name": "stdout",
     "output_type": "stream",
     "text": [
      "170000\n",
      "190000\n",
      "200000\n",
      "210000\n"
     ]
    },
    {
     "data": {
      "application/javascript": [
       "parent.postMessage({\"jupyterEvent\": \"custom.exercise_interaction\", \"data\": {\"outcomeType\": 1, \"valueTowardsCompletion\": 0.2, \"interactionType\": 1, \"questionType\": 1, \"questionId\": \"2_RunGetExpectedCost\", \"learnToolsVersion\": \"0.3.4\", \"failureMessage\": \"\", \"exceptionClass\": \"\", \"trace\": \"\"}}, \"*\")"
      ],
      "text/plain": [
       "<IPython.core.display.Javascript object>"
      ]
     },
     "metadata": {},
     "output_type": "display_data"
    },
    {
     "data": {
      "text/markdown": [
       "<span style=\"color:#33cc33\">Correct</span>"
      ],
      "text/plain": [
       "Correct"
      ]
     },
     "metadata": {},
     "output_type": "display_data"
    }
   ],
   "source": [
    "# TODO: Use the get_expected_cost function to fill in each value\n",
    "option_one = get_expected_cost(2,3)\n",
    "option_two = get_expected_cost(3,2)\n",
    "option_three = get_expected_cost(3,3)\n",
    "option_four = get_expected_cost(3,4)\n",
    "\n",
    "print(option_one)\n",
    "print(option_two)\n",
    "print(option_three)\n",
    "print(option_four)\n",
    "\n",
    "# Check your answer\n",
    "q2.check()"
   ]
  },
  {
   "cell_type": "code",
   "execution_count": 5,
   "id": "2cbfd501",
   "metadata": {
    "execution": {
     "iopub.execute_input": "2024-10-12T05:45:52.646583Z",
     "iopub.status.busy": "2024-10-12T05:45:52.645971Z",
     "iopub.status.idle": "2024-10-12T05:45:52.652226Z",
     "shell.execute_reply": "2024-10-12T05:45:52.650823Z"
    },
    "papermill": {
     "duration": 0.019913,
     "end_time": "2024-10-12T05:45:52.655184",
     "exception": false,
     "start_time": "2024-10-12T05:45:52.635271",
     "status": "completed"
    },
    "tags": []
   },
   "outputs": [],
   "source": [
    "# Uncomment to see a hint\n",
    "#q2.hint()\n",
    "\n",
    "# Uncomment to view the solution\n",
    "#q2.solution()"
   ]
  },
  {
   "cell_type": "markdown",
   "id": "9810373a",
   "metadata": {
    "papermill": {
     "duration": 0.008763,
     "end_time": "2024-10-12T05:45:52.672937",
     "exception": false,
     "start_time": "2024-10-12T05:45:52.664174",
     "status": "completed"
    },
    "tags": []
   },
   "source": [
    "# Question 3\n",
    "\n",
    "You're a home decorator, and you'd like to use Python to streamline some of your work.  Specifically, you're creating a tool that you intend to use to calculate the cost of painting a room.\n",
    "\n",
    "As a first step, define a function `get_cost()` that takes as input:\n",
    "- `sqft_walls` = total square feet of walls to be painted\n",
    "- `sqft_ceiling` = square feet of ceiling to be painted\n",
    "- `sqft_per_gallon` = number of square feet that you can cover with one gallon of paint\n",
    "- `cost_per_gallon` = cost (in dollars) of one gallon of paint\n",
    "\n",
    "It should return the cost (in dollars) of putting one coat of paint on all walls and the ceiling.  Assume you can buy the exact amount of paint that you need, so you can buy partial gallons (e.g., if you need 7.523 gallons, you can buy that exact amount, instead of needing to buy 8 gallons and waste some paint).  Do not round your answer."
   ]
  },
  {
   "cell_type": "code",
   "execution_count": 6,
   "id": "e7e7b870",
   "metadata": {
    "execution": {
     "iopub.execute_input": "2024-10-12T05:45:52.694218Z",
     "iopub.status.busy": "2024-10-12T05:45:52.692798Z",
     "iopub.status.idle": "2024-10-12T05:45:52.705511Z",
     "shell.execute_reply": "2024-10-12T05:45:52.704017Z"
    },
    "papermill": {
     "duration": 0.026748,
     "end_time": "2024-10-12T05:45:52.708652",
     "exception": false,
     "start_time": "2024-10-12T05:45:52.681904",
     "status": "completed"
    },
    "tags": []
   },
   "outputs": [
    {
     "data": {
      "application/javascript": [
       "parent.postMessage({\"jupyterEvent\": \"custom.exercise_interaction\", \"data\": {\"outcomeType\": 1, \"valueTowardsCompletion\": 0.2, \"interactionType\": 1, \"questionType\": 2, \"questionId\": \"3_GetCostPaint\", \"learnToolsVersion\": \"0.3.4\", \"failureMessage\": \"\", \"exceptionClass\": \"\", \"trace\": \"\"}}, \"*\")"
      ],
      "text/plain": [
       "<IPython.core.display.Javascript object>"
      ]
     },
     "metadata": {},
     "output_type": "display_data"
    },
    {
     "data": {
      "text/markdown": [
       "<span style=\"color:#33cc33\">Correct</span>"
      ],
      "text/plain": [
       "Correct"
      ]
     },
     "metadata": {},
     "output_type": "display_data"
    }
   ],
   "source": [
    "# TODO: Finish defining the function\n",
    "def get_cost(sqft_walls, sqft_ceiling, sqft_per_gallon, cost_per_gallon):\n",
    "    total = sqft_walls + sqft_ceiling\n",
    "    needed = total / sqft_per_gallon\n",
    "\n",
    "    \n",
    "    \n",
    "    cost = needed * cost_per_gallon\n",
    "    return cost\n",
    "\n",
    "# Check your answer\n",
    "q3.check()"
   ]
  },
  {
   "cell_type": "code",
   "execution_count": 7,
   "id": "4ea890ee",
   "metadata": {
    "execution": {
     "iopub.execute_input": "2024-10-12T05:45:52.729990Z",
     "iopub.status.busy": "2024-10-12T05:45:52.729556Z",
     "iopub.status.idle": "2024-10-12T05:45:52.735407Z",
     "shell.execute_reply": "2024-10-12T05:45:52.733914Z"
    },
    "papermill": {
     "duration": 0.019933,
     "end_time": "2024-10-12T05:45:52.738201",
     "exception": false,
     "start_time": "2024-10-12T05:45:52.718268",
     "status": "completed"
    },
    "tags": []
   },
   "outputs": [],
   "source": [
    "# Uncomment to see a hint\n",
    "#q3.hint()\n",
    "\n",
    "# Uncomment to view the solution\n",
    "#q3.solution()"
   ]
  },
  {
   "cell_type": "markdown",
   "id": "97502179",
   "metadata": {
    "papermill": {
     "duration": 0.009234,
     "end_time": "2024-10-12T05:45:52.757045",
     "exception": false,
     "start_time": "2024-10-12T05:45:52.747811",
     "status": "completed"
    },
    "tags": []
   },
   "source": [
    "# Question 4\n",
    "\n",
    "Use the `get_cost()` function you defined in Question 3 to calculate the cost of applying one coat of paint to a room with:\n",
    "- 432 square feet of walls, and\n",
    "- 144 square feet of ceiling.\n",
    "\n",
    "Assume that one gallon of paint covers 400 square feet and costs $15.  As in Question 3, assume you can buy partial gallons of paint.  Do not round your answer."
   ]
  },
  {
   "cell_type": "code",
   "execution_count": 8,
   "id": "685dd50a",
   "metadata": {
    "execution": {
     "iopub.execute_input": "2024-10-12T05:45:52.779173Z",
     "iopub.status.busy": "2024-10-12T05:45:52.778754Z",
     "iopub.status.idle": "2024-10-12T05:45:52.789190Z",
     "shell.execute_reply": "2024-10-12T05:45:52.787880Z"
    },
    "papermill": {
     "duration": 0.024152,
     "end_time": "2024-10-12T05:45:52.791731",
     "exception": false,
     "start_time": "2024-10-12T05:45:52.767579",
     "status": "completed"
    },
    "tags": []
   },
   "outputs": [
    {
     "data": {
      "application/javascript": [
       "parent.postMessage({\"jupyterEvent\": \"custom.exercise_interaction\", \"data\": {\"outcomeType\": 4, \"interactionType\": 1, \"questionType\": 1, \"questionId\": \"4_GetCostPaintExample\", \"learnToolsVersion\": \"0.3.4\", \"valueTowardsCompletion\": 0.0, \"failureMessage\": \"\", \"exceptionClass\": \"\", \"trace\": \"\"}}, \"*\")"
      ],
      "text/plain": [
       "<IPython.core.display.Javascript object>"
      ]
     },
     "metadata": {},
     "output_type": "display_data"
    },
    {
     "data": {
      "text/markdown": [
       "<span style=\"color:#ccaa33\">Check:</span> When you've updated the starter code, `check()` will tell you whether your code is correct. You need to update the code that creates variable `project_cost`"
      ],
      "text/plain": [
       "Check: When you've updated the starter code, `check()` will tell you whether your code is correct. You need to update the code that creates variable `project_cost`"
      ]
     },
     "metadata": {},
     "output_type": "display_data"
    }
   ],
   "source": [
    "# TODO: Set the project_cost variable to the cost of the project\n",
    "project_cost = ____\n",
    "\n",
    "# Check your answer\n",
    "q4.check()"
   ]
  },
  {
   "cell_type": "code",
   "execution_count": 9,
   "id": "840ff082",
   "metadata": {
    "execution": {
     "iopub.execute_input": "2024-10-12T05:45:52.813412Z",
     "iopub.status.busy": "2024-10-12T05:45:52.812980Z",
     "iopub.status.idle": "2024-10-12T05:45:52.818913Z",
     "shell.execute_reply": "2024-10-12T05:45:52.817268Z"
    },
    "papermill": {
     "duration": 0.020298,
     "end_time": "2024-10-12T05:45:52.821916",
     "exception": false,
     "start_time": "2024-10-12T05:45:52.801618",
     "status": "completed"
    },
    "tags": []
   },
   "outputs": [],
   "source": [
    "# Uncomment to see a hint\n",
    "#q4.hint()\n",
    "\n",
    "# Uncomment to view the solution\n",
    "#q4.solution()"
   ]
  },
  {
   "cell_type": "markdown",
   "id": "a3b1db89",
   "metadata": {
    "papermill": {
     "duration": 0.009326,
     "end_time": "2024-10-12T05:45:52.841020",
     "exception": false,
     "start_time": "2024-10-12T05:45:52.831694",
     "status": "completed"
    },
    "tags": []
   },
   "source": [
    "# 🌶️ Question 5\n",
    "\n",
    "Now say you can no longer buy fractions of a gallon.  (For instance, if you need 4.3 gallons to do a project, then you have to buy 5 gallons of paint.)\n",
    "\n",
    "With this new scenario, you will create a new function `get_actual_cost` that uses the same inputs and calculates the cost of your project.\n",
    "\n",
    "One function that you'll need to use to do this is `math.ceil()`.  We demonstrate usage of this function in the code cell below.  It takes as a number as input and rounds the number up to the nearest integer.  \n",
    "\n",
    "Run the next code cell to test this function for yourself.  Feel free to change the value of `test_value` and make sure `math.ceil()` returns the number you expect."
   ]
  },
  {
   "cell_type": "code",
   "execution_count": 10,
   "id": "6bee4947",
   "metadata": {
    "execution": {
     "iopub.execute_input": "2024-10-12T05:45:52.863876Z",
     "iopub.status.busy": "2024-10-12T05:45:52.863303Z",
     "iopub.status.idle": "2024-10-12T05:45:52.871527Z",
     "shell.execute_reply": "2024-10-12T05:45:52.869850Z"
    },
    "papermill": {
     "duration": 0.023235,
     "end_time": "2024-10-12T05:45:52.874465",
     "exception": false,
     "start_time": "2024-10-12T05:45:52.851230",
     "status": "completed"
    },
    "tags": []
   },
   "outputs": [
    {
     "name": "stdout",
     "output_type": "stream",
     "text": [
      "3\n"
     ]
    }
   ],
   "source": [
    "test_value = 2.17\n",
    "\n",
    "rounded_value = math.ceil(test_value)\n",
    "print(rounded_value)"
   ]
  },
  {
   "cell_type": "markdown",
   "id": "d16fdc79",
   "metadata": {
    "papermill": {
     "duration": 0.009752,
     "end_time": "2024-10-12T05:45:52.894316",
     "exception": false,
     "start_time": "2024-10-12T05:45:52.884564",
     "status": "completed"
    },
    "tags": []
   },
   "source": [
    "Use the next code cell to define the function `get_actual_cost()`.  You'll need to use the `math.ceil()` function to do this.\n",
    "\n",
    "When answering this question, note that it's completely valid to define a function that makes use of another function.  For instance, we can define a function `round_up_and_divide_by_three` that makes use of the `math.ceil` function:\n",
    "```\n",
    "def round_up_and_divide_by_three(num):\n",
    "    new_value = math.ceil(num)\n",
    "    final_value = new_value / 3\n",
    "    return final_value\n",
    "```"
   ]
  },
  {
   "cell_type": "code",
   "execution_count": 11,
   "id": "3614a755",
   "metadata": {
    "execution": {
     "iopub.execute_input": "2024-10-12T05:45:52.916547Z",
     "iopub.status.busy": "2024-10-12T05:45:52.916089Z",
     "iopub.status.idle": "2024-10-12T05:45:52.927966Z",
     "shell.execute_reply": "2024-10-12T05:45:52.926520Z"
    },
    "papermill": {
     "duration": 0.026354,
     "end_time": "2024-10-12T05:45:52.930781",
     "exception": false,
     "start_time": "2024-10-12T05:45:52.904427",
     "status": "completed"
    },
    "tags": []
   },
   "outputs": [
    {
     "data": {
      "application/javascript": [
       "parent.postMessage({\"jupyterEvent\": \"custom.exercise_interaction\", \"data\": {\"outcomeType\": 2, \"failureMessage\": \"Expected return value of `30` given `sqft_walls=432`, `sqft_ceiling=144`, `sqft_per_gallon=400`, `cost_per_gallon=15`, but got `<learntools.core.constants.PlaceholderValue object at 0x79f197b8caf0>` instead.\", \"interactionType\": 1, \"questionType\": 2, \"questionId\": \"5_NoMoreFractions\", \"learnToolsVersion\": \"0.3.4\", \"valueTowardsCompletion\": 0.0, \"exceptionClass\": \"\", \"trace\": \"\"}}, \"*\")"
      ],
      "text/plain": [
       "<IPython.core.display.Javascript object>"
      ]
     },
     "metadata": {},
     "output_type": "display_data"
    },
    {
     "data": {
      "text/markdown": [
       "<span style=\"color:#cc3333\">Incorrect:</span> Expected return value of `30` given `sqft_walls=432`, `sqft_ceiling=144`, `sqft_per_gallon=400`, `cost_per_gallon=15`, but got `<learntools.core.constants.PlaceholderValue object at 0x79f197b8caf0>` instead."
      ],
      "text/plain": [
       "Incorrect: Expected return value of `30` given `sqft_walls=432`, `sqft_ceiling=144`, `sqft_per_gallon=400`, `cost_per_gallon=15`, but got `<learntools.core.constants.PlaceholderValue object at 0x79f197b8caf0>` instead."
      ]
     },
     "metadata": {},
     "output_type": "display_data"
    }
   ],
   "source": [
    "def get_actual_cost(sqft_walls, sqft_ceiling, sqft_per_gallon, cost_per_gallon):\n",
    "    cost = ____\n",
    "    return cost\n",
    "\n",
    "# Check your answer\n",
    "q5.check()"
   ]
  },
  {
   "cell_type": "code",
   "execution_count": 12,
   "id": "5a04fd49",
   "metadata": {
    "execution": {
     "iopub.execute_input": "2024-10-12T05:45:52.953875Z",
     "iopub.status.busy": "2024-10-12T05:45:52.953329Z",
     "iopub.status.idle": "2024-10-12T05:45:52.959462Z",
     "shell.execute_reply": "2024-10-12T05:45:52.957883Z"
    },
    "papermill": {
     "duration": 0.021532,
     "end_time": "2024-10-12T05:45:52.962593",
     "exception": false,
     "start_time": "2024-10-12T05:45:52.941061",
     "status": "completed"
    },
    "tags": []
   },
   "outputs": [],
   "source": [
    "# Uncomment to see a hint\n",
    "#q5.hint()\n",
    "\n",
    "# Uncomment to view the solution\n",
    "#q5.solution()"
   ]
  },
  {
   "cell_type": "markdown",
   "id": "dccbe8b4",
   "metadata": {
    "papermill": {
     "duration": 0.009463,
     "end_time": "2024-10-12T05:45:52.982069",
     "exception": false,
     "start_time": "2024-10-12T05:45:52.972606",
     "status": "completed"
    },
    "tags": []
   },
   "source": [
    "Once your function is verified as correct, run the next code cell to calculate the updated cost of your project."
   ]
  },
  {
   "cell_type": "code",
   "execution_count": 13,
   "id": "f77b43f4",
   "metadata": {
    "execution": {
     "iopub.execute_input": "2024-10-12T05:45:53.004558Z",
     "iopub.status.busy": "2024-10-12T05:45:53.003998Z",
     "iopub.status.idle": "2024-10-12T05:45:53.013255Z",
     "shell.execute_reply": "2024-10-12T05:45:53.011939Z"
    },
    "papermill": {
     "duration": 0.024548,
     "end_time": "2024-10-12T05:45:53.016513",
     "exception": false,
     "start_time": "2024-10-12T05:45:52.991965",
     "status": "completed"
    },
    "tags": []
   },
   "outputs": [
    {
     "data": {
      "text/markdown": [],
      "text/plain": [
       "<learntools.core.constants.PlaceholderValue at 0x79f197b8caf0>"
      ]
     },
     "execution_count": 13,
     "metadata": {},
     "output_type": "execute_result"
    }
   ],
   "source": [
    "get_actual_cost(432, 144, 400, 15) "
   ]
  },
  {
   "cell_type": "markdown",
   "id": "ac549dee",
   "metadata": {
    "papermill": {
     "duration": 0.010385,
     "end_time": "2024-10-12T05:45:53.037583",
     "exception": false,
     "start_time": "2024-10-12T05:45:53.027198",
     "status": "completed"
    },
    "tags": []
   },
   "source": [
    "Say you're working with a slightly larger room.  Run the next code cell to calculate the cost of the project."
   ]
  },
  {
   "cell_type": "code",
   "execution_count": 14,
   "id": "537db886",
   "metadata": {
    "execution": {
     "iopub.execute_input": "2024-10-12T05:45:53.061869Z",
     "iopub.status.busy": "2024-10-12T05:45:53.060327Z",
     "iopub.status.idle": "2024-10-12T05:45:53.069563Z",
     "shell.execute_reply": "2024-10-12T05:45:53.068119Z"
    },
    "papermill": {
     "duration": 0.024457,
     "end_time": "2024-10-12T05:45:53.072480",
     "exception": false,
     "start_time": "2024-10-12T05:45:53.048023",
     "status": "completed"
    },
    "tags": []
   },
   "outputs": [
    {
     "data": {
      "text/markdown": [],
      "text/plain": [
       "<learntools.core.constants.PlaceholderValue at 0x79f197b8caf0>"
      ]
     },
     "execution_count": 14,
     "metadata": {},
     "output_type": "execute_result"
    }
   ],
   "source": [
    "get_actual_cost(594, 288, 400, 15) "
   ]
  },
  {
   "cell_type": "markdown",
   "id": "26af4fa7",
   "metadata": {
    "papermill": {
     "duration": 0.00999,
     "end_time": "2024-10-12T05:45:53.093354",
     "exception": false,
     "start_time": "2024-10-12T05:45:53.083364",
     "status": "completed"
    },
    "tags": []
   },
   "source": [
    "# Keep going\n",
    "\n",
    "Continue to learn about **[data types](https://www.kaggle.com/alexisbcook/data-types)**."
   ]
  },
  {
   "cell_type": "markdown",
   "id": "aa9531f7",
   "metadata": {
    "papermill": {
     "duration": 0.009964,
     "end_time": "2024-10-12T05:45:53.113500",
     "exception": false,
     "start_time": "2024-10-12T05:45:53.103536",
     "status": "completed"
    },
    "tags": []
   },
   "source": [
    "---\n",
    "\n",
    "\n",
    "\n",
    "\n",
    "*Have questions or comments? Visit the [course discussion forum](https://www.kaggle.com/learn/intro-to-programming/discussion) to chat with other learners.*"
   ]
  }
 ],
 "metadata": {
  "kaggle": {
   "accelerator": "none",
   "dataSources": [],
   "isGpuEnabled": false,
   "isInternetEnabled": false,
   "language": "python",
   "sourceType": "notebook"
  },
  "kernelspec": {
   "display_name": "Python 3",
   "language": "python",
   "name": "python3"
  },
  "language_info": {
   "codemirror_mode": {
    "name": "ipython",
    "version": 3
   },
   "file_extension": ".py",
   "mimetype": "text/x-python",
   "name": "python",
   "nbconvert_exporter": "python",
   "pygments_lexer": "ipython3",
   "version": "3.10.14"
  },
  "papermill": {
   "default_parameters": {},
   "duration": 5.759152,
   "end_time": "2024-10-12T05:45:53.847728",
   "environment_variables": {},
   "exception": null,
   "input_path": "__notebook__.ipynb",
   "output_path": "__notebook__.ipynb",
   "parameters": {},
   "start_time": "2024-10-12T05:45:48.088576",
   "version": "2.6.0"
  }
 },
 "nbformat": 4,
 "nbformat_minor": 5
}
