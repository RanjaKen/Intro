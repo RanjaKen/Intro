{
 "cells": [
  {
   "cell_type": "markdown",
   "id": "fcf2b372",
   "metadata": {
    "papermill": {
     "duration": 0.008241,
     "end_time": "2024-10-30T18:29:22.664189",
     "exception": false,
     "start_time": "2024-10-30T18:29:22.655948",
     "status": "completed"
    },
    "tags": []
   },
   "source": [
    "**This notebook is an exercise in the [Intro to Programming](https://www.kaggle.com/learn/intro-to-programming) course.  You can reference the tutorial at [this link](https://www.kaggle.com/alexisbcook/functions).**\n",
    "\n",
    "---\n"
   ]
  },
  {
   "cell_type": "markdown",
   "id": "361a6bb2",
   "metadata": {
    "papermill": {
     "duration": 0.007413,
     "end_time": "2024-10-30T18:29:22.680185",
     "exception": false,
     "start_time": "2024-10-30T18:29:22.672772",
     "status": "completed"
    },
    "tags": []
   },
   "source": [
    "In the tutorial, you learned about functions. In this exercise, you'll write some of your own!\n",
    "\n",
    "# Set up the notebook\n",
    "\n",
    "Run the next code cell without changes to set up the notebook."
   ]
  },
  {
   "cell_type": "code",
   "execution_count": 1,
   "id": "d0f91766",
   "metadata": {
    "execution": {
     "iopub.execute_input": "2024-10-30T18:29:22.698173Z",
     "iopub.status.busy": "2024-10-30T18:29:22.697481Z",
     "iopub.status.idle": "2024-10-30T18:29:24.207525Z",
     "shell.execute_reply": "2024-10-30T18:29:24.204928Z"
    },
    "papermill": {
     "duration": 1.524214,
     "end_time": "2024-10-30T18:29:24.211979",
     "exception": false,
     "start_time": "2024-10-30T18:29:22.687765",
     "status": "completed"
    },
    "tags": []
   },
   "outputs": [
    {
     "name": "stdout",
     "output_type": "stream",
     "text": [
      "Setup complete.\n"
     ]
    }
   ],
   "source": [
    "# Set up the exercise\n",
    "import math\n",
    "from learntools.core import binder\n",
    "binder.bind(globals())\n",
    "from learntools.intro_to_programming.ex2 import *\n",
    "print('Setup complete.')"
   ]
  },
  {
   "cell_type": "markdown",
   "id": "aca69081",
   "metadata": {
    "papermill": {
     "duration": 0.013303,
     "end_time": "2024-10-30T18:29:24.237229",
     "exception": false,
     "start_time": "2024-10-30T18:29:24.223926",
     "status": "completed"
    },
    "tags": []
   },
   "source": [
    "# Question 1\n",
    "\n",
    "In the [House Prices - Advanced Regression Techniques competition](https://www.kaggle.com/c/house-prices-advanced-regression-techniques/overview), you need to use information like the number of bedrooms and bathrooms to predict the price of a house.  Inspired by this competition, you'll write your own function to do this.\n",
    "\n",
    "In the next code cell, create a function `get_expected_cost()` that has two arguments:\n",
    "- `beds` - number of bedrooms \n",
    "- `baths` - number of bathrooms\n",
    "\n",
    "It should return the expected cost of a house with that number of bedrooms and bathrooms.  Assume that:\n",
    "- the expected cost for a house with 0 bedrooms and 0 bathrooms is `80000`.  \n",
    "- each bedroom adds `30000` to the expected cost\n",
    "- each bathroom adds `10000` to the expected cost.\n",
    "\n",
    "For instance, \n",
    "- a house with 1 bedroom and 1 bathroom has an expected cost of `120000`, and \n",
    "- a house with 2 bedrooms and 1 bathroom has an expected cost of `150000`."
   ]
  },
  {
   "cell_type": "code",
   "execution_count": 2,
   "id": "1e827bb0",
   "metadata": {
    "execution": {
     "iopub.execute_input": "2024-10-30T18:29:24.258724Z",
     "iopub.status.busy": "2024-10-30T18:29:24.257785Z",
     "iopub.status.idle": "2024-10-30T18:29:24.277768Z",
     "shell.execute_reply": "2024-10-30T18:29:24.275304Z"
    },
    "papermill": {
     "duration": 0.03607,
     "end_time": "2024-10-30T18:29:24.281889",
     "exception": false,
     "start_time": "2024-10-30T18:29:24.245819",
     "status": "completed"
    },
    "tags": []
   },
   "outputs": [
    {
     "data": {
      "application/javascript": [
       "parent.postMessage({\"jupyterEvent\": \"custom.exercise_interaction\", \"data\": {\"outcomeType\": 1, \"valueTowardsCompletion\": 0.2, \"interactionType\": 1, \"questionType\": 2, \"questionId\": \"1_GetExpectedCost\", \"learnToolsVersion\": \"0.3.4\", \"failureMessage\": \"\", \"exceptionClass\": \"\", \"trace\": \"\"}}, \"*\")"
      ],
      "text/plain": [
       "<IPython.core.display.Javascript object>"
      ]
     },
     "metadata": {},
     "output_type": "display_data"
    },
    {
     "data": {
      "text/markdown": [
       "<span style=\"color:#33cc33\">Correct</span>"
      ],
      "text/plain": [
       "Correct"
      ]
     },
     "metadata": {},
     "output_type": "display_data"
    }
   ],
   "source": [
    "# TODO: Complete the function\n",
    "def get_expected_cost(beds, baths):\n",
    "    \n",
    "    value = 80000 + 30000 * beds + 10000 * baths\n",
    "    return value\n",
    "\n",
    "# Check your answer \n",
    "q1.check()"
   ]
  },
  {
   "cell_type": "code",
   "execution_count": 3,
   "id": "225bc786",
   "metadata": {
    "execution": {
     "iopub.execute_input": "2024-10-30T18:29:24.311147Z",
     "iopub.status.busy": "2024-10-30T18:29:24.310508Z",
     "iopub.status.idle": "2024-10-30T18:29:24.317631Z",
     "shell.execute_reply": "2024-10-30T18:29:24.315586Z"
    },
    "papermill": {
     "duration": 0.024539,
     "end_time": "2024-10-30T18:29:24.321350",
     "exception": false,
     "start_time": "2024-10-30T18:29:24.296811",
     "status": "completed"
    },
    "tags": []
   },
   "outputs": [],
   "source": [
    "# Uncomment to see a hint\n",
    "#q1.hint()\n",
    "\n",
    "# Uncomment to view the solution\n",
    "#q1.solution()"
   ]
  },
  {
   "cell_type": "markdown",
   "id": "7e878ed5",
   "metadata": {
    "papermill": {
     "duration": 0.008127,
     "end_time": "2024-10-30T18:29:24.338186",
     "exception": false,
     "start_time": "2024-10-30T18:29:24.330059",
     "status": "completed"
    },
    "tags": []
   },
   "source": [
    "# Question 2\n",
    "\n",
    "You are thinking about buying a home and want to get an idea of how much you will spend, based on the number of bedrooms and bathrooms.  You are trying to decide between four different options:\n",
    "- Option 1: house with two bedrooms and three bathrooms\n",
    "- Option 2: house with three bedrooms and two bathrooms\n",
    "- Option 3: house with three bedrooms and three bathrooms\n",
    "- Option 4: house with three bedrooms and four bathrooms\n",
    "\n",
    "Use the `get_expected_cost()` function you defined in question 1 to set `option_1`, `option_2`, `option_3`, and `option_4` to the expected cost of each option."
   ]
  },
  {
   "cell_type": "code",
   "execution_count": 4,
   "id": "9c702300",
   "metadata": {
    "execution": {
     "iopub.execute_input": "2024-10-30T18:29:24.358693Z",
     "iopub.status.busy": "2024-10-30T18:29:24.358035Z",
     "iopub.status.idle": "2024-10-30T18:29:24.376070Z",
     "shell.execute_reply": "2024-10-30T18:29:24.374307Z"
    },
    "papermill": {
     "duration": 0.032584,
     "end_time": "2024-10-30T18:29:24.380196",
     "exception": false,
     "start_time": "2024-10-30T18:29:24.347612",
     "status": "completed"
    },
    "tags": []
   },
   "outputs": [
    {
     "name": "stdout",
     "output_type": "stream",
     "text": [
      "170000\n",
      "190000\n",
      "200000\n",
      "210000\n"
     ]
    },
    {
     "data": {
      "application/javascript": [
       "parent.postMessage({\"jupyterEvent\": \"custom.exercise_interaction\", \"data\": {\"outcomeType\": 1, \"valueTowardsCompletion\": 0.2, \"interactionType\": 1, \"questionType\": 1, \"questionId\": \"2_RunGetExpectedCost\", \"learnToolsVersion\": \"0.3.4\", \"failureMessage\": \"\", \"exceptionClass\": \"\", \"trace\": \"\"}}, \"*\")"
      ],
      "text/plain": [
       "<IPython.core.display.Javascript object>"
      ]
     },
     "metadata": {},
     "output_type": "display_data"
    },
    {
     "data": {
      "text/markdown": [
       "<span style=\"color:#33cc33\">Correct</span>"
      ],
      "text/plain": [
       "Correct"
      ]
     },
     "metadata": {},
     "output_type": "display_data"
    }
   ],
   "source": [
    "# TODO: Use the get_expected_cost function to fill in each value\n",
    "option_one = get_expected_cost(2,3)\n",
    "option_two = get_expected_cost(3,2)\n",
    "option_three = get_expected_cost(3,3)\n",
    "option_four = get_expected_cost(3,4)\n",
    "\n",
    "print(option_one)\n",
    "print(option_two)\n",
    "print(option_three)\n",
    "print(option_four)\n",
    "\n",
    "# Check your answer\n",
    "q2.check()"
   ]
  },
  {
   "cell_type": "code",
   "execution_count": 5,
   "id": "64925cd1",
   "metadata": {
    "execution": {
     "iopub.execute_input": "2024-10-30T18:29:24.401327Z",
     "iopub.status.busy": "2024-10-30T18:29:24.400774Z",
     "iopub.status.idle": "2024-10-30T18:29:24.408182Z",
     "shell.execute_reply": "2024-10-30T18:29:24.406079Z"
    },
    "papermill": {
     "duration": 0.021598,
     "end_time": "2024-10-30T18:29:24.411710",
     "exception": false,
     "start_time": "2024-10-30T18:29:24.390112",
     "status": "completed"
    },
    "tags": []
   },
   "outputs": [],
   "source": [
    "# Uncomment to see a hint\n",
    "#q2.hint()\n",
    "\n",
    "# Uncomment to view the solution\n",
    "#q2.solution()"
   ]
  },
  {
   "cell_type": "markdown",
   "id": "4227439e",
   "metadata": {
    "papermill": {
     "duration": 0.00868,
     "end_time": "2024-10-30T18:29:24.429543",
     "exception": false,
     "start_time": "2024-10-30T18:29:24.420863",
     "status": "completed"
    },
    "tags": []
   },
   "source": [
    "# Question 3\n",
    "\n",
    "You're a home decorator, and you'd like to use Python to streamline some of your work.  Specifically, you're creating a tool that you intend to use to calculate the cost of painting a room.\n",
    "\n",
    "As a first step, define a function `get_cost()` that takes as input:\n",
    "- `sqft_walls` = total square feet of walls to be painted\n",
    "- `sqft_ceiling` = square feet of ceiling to be painted\n",
    "- `sqft_per_gallon` = number of square feet that you can cover with one gallon of paint\n",
    "- `cost_per_gallon` = cost (in dollars) of one gallon of paint\n",
    "\n",
    "It should return the cost (in dollars) of putting one coat of paint on all walls and the ceiling.  Assume you can buy the exact amount of paint that you need, so you can buy partial gallons (e.g., if you need 7.523 gallons, you can buy that exact amount, instead of needing to buy 8 gallons and waste some paint).  Do not round your answer."
   ]
  },
  {
   "cell_type": "code",
   "execution_count": 6,
   "id": "a8423337",
   "metadata": {
    "execution": {
     "iopub.execute_input": "2024-10-30T18:29:24.451579Z",
     "iopub.status.busy": "2024-10-30T18:29:24.448942Z",
     "iopub.status.idle": "2024-10-30T18:29:24.463598Z",
     "shell.execute_reply": "2024-10-30T18:29:24.461833Z"
    },
    "papermill": {
     "duration": 0.029544,
     "end_time": "2024-10-30T18:29:24.467531",
     "exception": false,
     "start_time": "2024-10-30T18:29:24.437987",
     "status": "completed"
    },
    "tags": []
   },
   "outputs": [
    {
     "data": {
      "application/javascript": [
       "parent.postMessage({\"jupyterEvent\": \"custom.exercise_interaction\", \"data\": {\"outcomeType\": 1, \"valueTowardsCompletion\": 0.2, \"interactionType\": 1, \"questionType\": 2, \"questionId\": \"3_GetCostPaint\", \"learnToolsVersion\": \"0.3.4\", \"failureMessage\": \"\", \"exceptionClass\": \"\", \"trace\": \"\"}}, \"*\")"
      ],
      "text/plain": [
       "<IPython.core.display.Javascript object>"
      ]
     },
     "metadata": {},
     "output_type": "display_data"
    },
    {
     "data": {
      "text/markdown": [
       "<span style=\"color:#33cc33\">Correct</span>"
      ],
      "text/plain": [
       "Correct"
      ]
     },
     "metadata": {},
     "output_type": "display_data"
    }
   ],
   "source": [
    "# TODO: Finish defining the function\n",
    "def get_cost(sqft_walls, sqft_ceiling, sqft_per_gallon, cost_per_gallon):\n",
    "    total = sqft_walls + sqft_ceiling\n",
    "    needed = total / sqft_per_gallon\n",
    "\n",
    "    \n",
    "    \n",
    "    cost = needed * cost_per_gallon\n",
    "    return cost\n",
    "\n",
    "# Check your answer\n",
    "q3.check()"
   ]
  },
  {
   "cell_type": "code",
   "execution_count": 7,
   "id": "882c5585",
   "metadata": {
    "execution": {
     "iopub.execute_input": "2024-10-30T18:29:24.489759Z",
     "iopub.status.busy": "2024-10-30T18:29:24.489095Z",
     "iopub.status.idle": "2024-10-30T18:29:24.498471Z",
     "shell.execute_reply": "2024-10-30T18:29:24.495319Z"
    },
    "papermill": {
     "duration": 0.025087,
     "end_time": "2024-10-30T18:29:24.502030",
     "exception": false,
     "start_time": "2024-10-30T18:29:24.476943",
     "status": "completed"
    },
    "tags": []
   },
   "outputs": [],
   "source": [
    "# Uncomment to see a hint\n",
    "#q3.hint()\n",
    "\n",
    "# Uncomment to view the solution\n",
    "#q3.solution()"
   ]
  },
  {
   "cell_type": "markdown",
   "id": "88e00cb4",
   "metadata": {
    "papermill": {
     "duration": 0.008381,
     "end_time": "2024-10-30T18:29:24.519478",
     "exception": false,
     "start_time": "2024-10-30T18:29:24.511097",
     "status": "completed"
    },
    "tags": []
   },
   "source": [
    "# Question 4\n",
    "\n",
    "Use the `get_cost()` function you defined in Question 3 to calculate the cost of applying one coat of paint to a room with:\n",
    "- 432 square feet of walls, and\n",
    "- 144 square feet of ceiling.\n",
    "\n",
    "Assume that one gallon of paint covers 400 square feet and costs $15.  As in Question 3, assume you can buy partial gallons of paint.  Do not round your answer."
   ]
  },
  {
   "cell_type": "code",
   "execution_count": 8,
   "id": "b7bbb234",
   "metadata": {
    "execution": {
     "iopub.execute_input": "2024-10-30T18:29:24.544412Z",
     "iopub.status.busy": "2024-10-30T18:29:24.543133Z",
     "iopub.status.idle": "2024-10-30T18:29:24.559845Z",
     "shell.execute_reply": "2024-10-30T18:29:24.557895Z"
    },
    "papermill": {
     "duration": 0.031427,
     "end_time": "2024-10-30T18:29:24.563286",
     "exception": false,
     "start_time": "2024-10-30T18:29:24.531859",
     "status": "completed"
    },
    "tags": []
   },
   "outputs": [
    {
     "data": {
      "application/javascript": [
       "parent.postMessage({\"jupyterEvent\": \"custom.exercise_interaction\", \"data\": {\"outcomeType\": 1, \"valueTowardsCompletion\": 0.2, \"interactionType\": 1, \"questionType\": 1, \"questionId\": \"4_GetCostPaintExample\", \"learnToolsVersion\": \"0.3.4\", \"failureMessage\": \"\", \"exceptionClass\": \"\", \"trace\": \"\"}}, \"*\")"
      ],
      "text/plain": [
       "<IPython.core.display.Javascript object>"
      ]
     },
     "metadata": {},
     "output_type": "display_data"
    },
    {
     "data": {
      "text/markdown": [
       "<span style=\"color:#33cc33\">Correct</span>"
      ],
      "text/plain": [
       "Correct"
      ]
     },
     "metadata": {},
     "output_type": "display_data"
    }
   ],
   "source": [
    "# TODO: Set the project_cost variable to the cost of the project\n",
    "project_cost = get_cost(432, 144, 400, 15)\n",
    "\n",
    "# Check your answer\n",
    "q4.check()"
   ]
  },
  {
   "cell_type": "code",
   "execution_count": 9,
   "id": "5842631f",
   "metadata": {
    "execution": {
     "iopub.execute_input": "2024-10-30T18:29:24.584580Z",
     "iopub.status.busy": "2024-10-30T18:29:24.583911Z",
     "iopub.status.idle": "2024-10-30T18:29:24.592873Z",
     "shell.execute_reply": "2024-10-30T18:29:24.590374Z"
    },
    "papermill": {
     "duration": 0.023757,
     "end_time": "2024-10-30T18:29:24.596601",
     "exception": false,
     "start_time": "2024-10-30T18:29:24.572844",
     "status": "completed"
    },
    "tags": []
   },
   "outputs": [],
   "source": [
    "# Uncomment to see a hint\n",
    "#q4.hint()\n",
    "\n",
    "# Uncomment to view the solution\n",
    "#q4.solution()"
   ]
  },
  {
   "cell_type": "markdown",
   "id": "c4be665c",
   "metadata": {
    "papermill": {
     "duration": 0.009051,
     "end_time": "2024-10-30T18:29:24.615512",
     "exception": false,
     "start_time": "2024-10-30T18:29:24.606461",
     "status": "completed"
    },
    "tags": []
   },
   "source": [
    "# 🌶️ Question 5\n",
    "\n",
    "Now say you can no longer buy fractions of a gallon.  (For instance, if you need 4.3 gallons to do a project, then you have to buy 5 gallons of paint.)\n",
    "\n",
    "With this new scenario, you will create a new function `get_actual_cost` that uses the same inputs and calculates the cost of your project.\n",
    "\n",
    "One function that you'll need to use to do this is `math.ceil()`.  We demonstrate usage of this function in the code cell below.  It takes as a number as input and rounds the number up to the nearest integer.  \n",
    "\n",
    "Run the next code cell to test this function for yourself.  Feel free to change the value of `test_value` and make sure `math.ceil()` returns the number you expect."
   ]
  },
  {
   "cell_type": "code",
   "execution_count": 10,
   "id": "6523cdd2",
   "metadata": {
    "execution": {
     "iopub.execute_input": "2024-10-30T18:29:24.635543Z",
     "iopub.status.busy": "2024-10-30T18:29:24.634998Z",
     "iopub.status.idle": "2024-10-30T18:29:24.642849Z",
     "shell.execute_reply": "2024-10-30T18:29:24.641259Z"
    },
    "papermill": {
     "duration": 0.02218,
     "end_time": "2024-10-30T18:29:24.646545",
     "exception": false,
     "start_time": "2024-10-30T18:29:24.624365",
     "status": "completed"
    },
    "tags": []
   },
   "outputs": [
    {
     "name": "stdout",
     "output_type": "stream",
     "text": [
      "3\n"
     ]
    }
   ],
   "source": [
    "test_value = 2.17\n",
    "\n",
    "rounded_value = math.ceil(test_value)\n",
    "print(rounded_value)"
   ]
  },
  {
   "cell_type": "markdown",
   "id": "b8289c0e",
   "metadata": {
    "papermill": {
     "duration": 0.010219,
     "end_time": "2024-10-30T18:29:24.670498",
     "exception": false,
     "start_time": "2024-10-30T18:29:24.660279",
     "status": "completed"
    },
    "tags": []
   },
   "source": [
    "Use the next code cell to define the function `get_actual_cost()`.  You'll need to use the `math.ceil()` function to do this.\n",
    "\n",
    "When answering this question, note that it's completely valid to define a function that makes use of another function.  For instance, we can define a function `round_up_and_divide_by_three` that makes use of the `math.ceil` function:\n",
    "```\n",
    "def round_up_and_divide_by_three(num):\n",
    "    new_value = math.ceil(num)\n",
    "    final_value = new_value / 3\n",
    "    return final_value\n",
    "```"
   ]
  },
  {
   "cell_type": "code",
   "execution_count": 11,
   "id": "d1605f70",
   "metadata": {
    "execution": {
     "iopub.execute_input": "2024-10-30T18:29:24.692095Z",
     "iopub.status.busy": "2024-10-30T18:29:24.691249Z",
     "iopub.status.idle": "2024-10-30T18:29:24.707554Z",
     "shell.execute_reply": "2024-10-30T18:29:24.705892Z"
    },
    "papermill": {
     "duration": 0.030614,
     "end_time": "2024-10-30T18:29:24.710832",
     "exception": false,
     "start_time": "2024-10-30T18:29:24.680218",
     "status": "completed"
    },
    "tags": []
   },
   "outputs": [
    {
     "data": {
      "application/javascript": [
       "parent.postMessage({\"jupyterEvent\": \"custom.exercise_interaction\", \"data\": {\"outcomeType\": 1, \"valueTowardsCompletion\": 0.2, \"interactionType\": 1, \"questionType\": 2, \"questionId\": \"5_NoMoreFractions\", \"learnToolsVersion\": \"0.3.4\", \"failureMessage\": \"\", \"exceptionClass\": \"\", \"trace\": \"\"}}, \"*\")"
      ],
      "text/plain": [
       "<IPython.core.display.Javascript object>"
      ]
     },
     "metadata": {},
     "output_type": "display_data"
    },
    {
     "data": {
      "text/markdown": [
       "<span style=\"color:#33cc33\">Correct</span>"
      ],
      "text/plain": [
       "Correct"
      ]
     },
     "metadata": {},
     "output_type": "display_data"
    }
   ],
   "source": [
    "def get_actual_cost(sqft_walls, sqft_ceiling, sqft_per_gallon, cost_per_gallon):\n",
    "    total=sqft_walls + sqft_ceiling\n",
    "    gal= total/sqft_per_gallon\n",
    "    galto = math.ceil(gal)\n",
    "    \n",
    "    cost =galto*cost_per_gallon\n",
    "    return cost\n",
    "\n",
    "# Check your answer\n",
    "q5.check()"
   ]
  },
  {
   "cell_type": "code",
   "execution_count": 12,
   "id": "8ae3428d",
   "metadata": {
    "execution": {
     "iopub.execute_input": "2024-10-30T18:29:24.732763Z",
     "iopub.status.busy": "2024-10-30T18:29:24.732114Z",
     "iopub.status.idle": "2024-10-30T18:29:24.751408Z",
     "shell.execute_reply": "2024-10-30T18:29:24.749809Z"
    },
    "papermill": {
     "duration": 0.035062,
     "end_time": "2024-10-30T18:29:24.755129",
     "exception": false,
     "start_time": "2024-10-30T18:29:24.720067",
     "status": "completed"
    },
    "tags": []
   },
   "outputs": [
    {
     "data": {
      "application/javascript": [
       "parent.postMessage({\"jupyterEvent\": \"custom.exercise_interaction\", \"data\": {\"interactionType\": 2, \"questionType\": 2, \"questionId\": \"5_NoMoreFractions\", \"learnToolsVersion\": \"0.3.4\", \"valueTowardsCompletion\": 0.0, \"failureMessage\": \"\", \"exceptionClass\": \"\", \"trace\": \"\", \"outcomeType\": 4}}, \"*\")"
      ],
      "text/plain": [
       "<IPython.core.display.Javascript object>"
      ]
     },
     "metadata": {},
     "output_type": "display_data"
    },
    {
     "data": {
      "text/markdown": [
       "<span style=\"color:#3366cc\">Hint:</span> Begin with the `get_cost()` function as a starting point.  The only change you need to make is to add `math.ceil()` to round up the number of gallons that need to be purchased. Can you figure out where to add it to the function?"
      ],
      "text/plain": [
       "Hint: Begin with the `get_cost()` function as a starting point.  The only change you need to make is to add `math.ceil()` to round up the number of gallons that need to be purchased. Can you figure out where to add it to the function?"
      ]
     },
     "metadata": {},
     "output_type": "display_data"
    },
    {
     "data": {
      "application/javascript": [
       "parent.postMessage({\"jupyterEvent\": \"custom.exercise_interaction\", \"data\": {\"interactionType\": 3, \"questionType\": 2, \"questionId\": \"5_NoMoreFractions\", \"learnToolsVersion\": \"0.3.4\", \"valueTowardsCompletion\": 0.0, \"failureMessage\": \"\", \"exceptionClass\": \"\", \"trace\": \"\", \"outcomeType\": 4}}, \"*\")"
      ],
      "text/plain": [
       "<IPython.core.display.Javascript object>"
      ]
     },
     "metadata": {},
     "output_type": "display_data"
    },
    {
     "data": {
      "text/markdown": [
       "<span style=\"color:#33cc99\">Solution:</span> \n",
       "```python\n",
       "def get_actual_cost(sqft_walls, sqft_ceiling, sqft_per_gallon, cost_per_gallon):\n",
       "    total_sqft = sqft_walls + sqft_ceiling\n",
       "    gallons_needed = total_sqft / sqft_per_gallon\n",
       "    gallons_to_buy = math.ceil(gallons_needed)\n",
       "    cost = cost_per_gallon * gallons_to_buy\n",
       "    return cost\n",
       "\n",
       "```"
      ],
      "text/plain": [
       "Solution: \n",
       "```python\n",
       "def get_actual_cost(sqft_walls, sqft_ceiling, sqft_per_gallon, cost_per_gallon):\n",
       "    total_sqft = sqft_walls + sqft_ceiling\n",
       "    gallons_needed = total_sqft / sqft_per_gallon\n",
       "    gallons_to_buy = math.ceil(gallons_needed)\n",
       "    cost = cost_per_gallon * gallons_to_buy\n",
       "    return cost\n",
       "\n",
       "```"
      ]
     },
     "metadata": {},
     "output_type": "display_data"
    }
   ],
   "source": [
    "# Uncomment to see a hint\n",
    "q5.hint()\n",
    "\n",
    "# Uncomment to view the solution\n",
    "q5.solution()"
   ]
  },
  {
   "cell_type": "markdown",
   "id": "696cb852",
   "metadata": {
    "papermill": {
     "duration": 0.009701,
     "end_time": "2024-10-30T18:29:24.779201",
     "exception": false,
     "start_time": "2024-10-30T18:29:24.769500",
     "status": "completed"
    },
    "tags": []
   },
   "source": [
    "Once your function is verified as correct, run the next code cell to calculate the updated cost of your project."
   ]
  },
  {
   "cell_type": "code",
   "execution_count": 13,
   "id": "6db4ba27",
   "metadata": {
    "execution": {
     "iopub.execute_input": "2024-10-30T18:29:24.801686Z",
     "iopub.status.busy": "2024-10-30T18:29:24.801013Z",
     "iopub.status.idle": "2024-10-30T18:29:24.811678Z",
     "shell.execute_reply": "2024-10-30T18:29:24.810022Z"
    },
    "papermill": {
     "duration": 0.025878,
     "end_time": "2024-10-30T18:29:24.814943",
     "exception": false,
     "start_time": "2024-10-30T18:29:24.789065",
     "status": "completed"
    },
    "tags": []
   },
   "outputs": [
    {
     "data": {
      "text/plain": [
       "30"
      ]
     },
     "execution_count": 13,
     "metadata": {},
     "output_type": "execute_result"
    }
   ],
   "source": [
    "get_actual_cost(432, 144, 400, 15) "
   ]
  },
  {
   "cell_type": "markdown",
   "id": "6a9f7648",
   "metadata": {
    "papermill": {
     "duration": 0.010726,
     "end_time": "2024-10-30T18:29:24.835966",
     "exception": false,
     "start_time": "2024-10-30T18:29:24.825240",
     "status": "completed"
    },
    "tags": []
   },
   "source": [
    "Say you're working with a slightly larger room.  Run the next code cell to calculate the cost of the project."
   ]
  },
  {
   "cell_type": "code",
   "execution_count": 14,
   "id": "e0470583",
   "metadata": {
    "execution": {
     "iopub.execute_input": "2024-10-30T18:29:24.861351Z",
     "iopub.status.busy": "2024-10-30T18:29:24.859593Z",
     "iopub.status.idle": "2024-10-30T18:29:24.870313Z",
     "shell.execute_reply": "2024-10-30T18:29:24.868753Z"
    },
    "papermill": {
     "duration": 0.027865,
     "end_time": "2024-10-30T18:29:24.874095",
     "exception": false,
     "start_time": "2024-10-30T18:29:24.846230",
     "status": "completed"
    },
    "tags": []
   },
   "outputs": [
    {
     "data": {
      "text/plain": [
       "45"
      ]
     },
     "execution_count": 14,
     "metadata": {},
     "output_type": "execute_result"
    }
   ],
   "source": [
    "get_actual_cost(594, 288, 400, 15) "
   ]
  },
  {
   "cell_type": "markdown",
   "id": "9641a0cb",
   "metadata": {
    "papermill": {
     "duration": 0.011858,
     "end_time": "2024-10-30T18:29:24.900998",
     "exception": false,
     "start_time": "2024-10-30T18:29:24.889140",
     "status": "completed"
    },
    "tags": []
   },
   "source": [
    "# Keep going\n",
    "\n",
    "Continue to learn about **[data types](https://www.kaggle.com/alexisbcook/data-types)**."
   ]
  },
  {
   "cell_type": "markdown",
   "id": "ba34fbf6",
   "metadata": {
    "papermill": {
     "duration": 0.010422,
     "end_time": "2024-10-30T18:29:24.923987",
     "exception": false,
     "start_time": "2024-10-30T18:29:24.913565",
     "status": "completed"
    },
    "tags": []
   },
   "source": [
    "---\n",
    "\n",
    "\n",
    "\n",
    "\n",
    "*Have questions or comments? Visit the [course discussion forum](https://www.kaggle.com/learn/intro-to-programming/discussion) to chat with other learners.*"
   ]
  }
 ],
 "metadata": {
  "kaggle": {
   "accelerator": "none",
   "dataSources": [],
   "isGpuEnabled": false,
   "isInternetEnabled": false,
   "language": "python",
   "sourceType": "notebook"
  },
  "kernelspec": {
   "display_name": "Python 3",
   "language": "python",
   "name": "python3"
  },
  "language_info": {
   "codemirror_mode": {
    "name": "ipython",
    "version": 3
   },
   "file_extension": ".py",
   "mimetype": "text/x-python",
   "name": "python",
   "nbconvert_exporter": "python",
   "pygments_lexer": "ipython3",
   "version": "3.10.14"
  },
  "papermill": {
   "default_parameters": {},
   "duration": 6.748304,
   "end_time": "2024-10-30T18:29:25.663798",
   "environment_variables": {},
   "exception": null,
   "input_path": "__notebook__.ipynb",
   "output_path": "__notebook__.ipynb",
   "parameters": {},
   "start_time": "2024-10-30T18:29:18.915494",
   "version": "2.6.0"
  }
 },
 "nbformat": 4,
 "nbformat_minor": 5
}
