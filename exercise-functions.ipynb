{
 "cells": [
  {
   "cell_type": "markdown",
   "id": "adb835b6",
   "metadata": {
    "papermill": {
     "duration": 0.006281,
     "end_time": "2024-10-10T12:07:50.825659",
     "exception": false,
     "start_time": "2024-10-10T12:07:50.819378",
     "status": "completed"
    },
    "tags": []
   },
   "source": [
    "**This notebook is an exercise in the [Intro to Programming](https://www.kaggle.com/learn/intro-to-programming) course.  You can reference the tutorial at [this link](https://www.kaggle.com/alexisbcook/functions).**\n",
    "\n",
    "---\n"
   ]
  },
  {
   "cell_type": "markdown",
   "id": "928672a7",
   "metadata": {
    "papermill": {
     "duration": 0.005408,
     "end_time": "2024-10-10T12:07:50.837266",
     "exception": false,
     "start_time": "2024-10-10T12:07:50.831858",
     "status": "completed"
    },
    "tags": []
   },
   "source": [
    "In the tutorial, you learned about functions. In this exercise, you'll write some of your own!\n",
    "\n",
    "# Set up the notebook\n",
    "\n",
    "Run the next code cell without changes to set up the notebook."
   ]
  },
  {
   "cell_type": "code",
   "execution_count": 1,
   "id": "f9777bb9",
   "metadata": {
    "execution": {
     "iopub.execute_input": "2024-10-10T12:07:50.850267Z",
     "iopub.status.busy": "2024-10-10T12:07:50.849849Z",
     "iopub.status.idle": "2024-10-10T12:07:51.773737Z",
     "shell.execute_reply": "2024-10-10T12:07:51.772564Z"
    },
    "papermill": {
     "duration": 0.933378,
     "end_time": "2024-10-10T12:07:51.776274",
     "exception": false,
     "start_time": "2024-10-10T12:07:50.842896",
     "status": "completed"
    },
    "tags": []
   },
   "outputs": [
    {
     "name": "stdout",
     "output_type": "stream",
     "text": [
      "Setup complete.\n"
     ]
    }
   ],
   "source": [
    "# Set up the exercise\n",
    "import math\n",
    "from learntools.core import binder\n",
    "binder.bind(globals())\n",
    "from learntools.intro_to_programming.ex2 import *\n",
    "print('Setup complete.')"
   ]
  },
  {
   "cell_type": "markdown",
   "id": "c5d4d713",
   "metadata": {
    "papermill": {
     "duration": 0.005468,
     "end_time": "2024-10-10T12:07:51.787615",
     "exception": false,
     "start_time": "2024-10-10T12:07:51.782147",
     "status": "completed"
    },
    "tags": []
   },
   "source": [
    "# Question 1\n",
    "\n",
    "In the [House Prices - Advanced Regression Techniques competition](https://www.kaggle.com/c/house-prices-advanced-regression-techniques/overview), you need to use information like the number of bedrooms and bathrooms to predict the price of a house.  Inspired by this competition, you'll write your own function to do this.\n",
    "\n",
    "In the next code cell, create a function `get_expected_cost()` that has two arguments:\n",
    "- `beds` - number of bedrooms \n",
    "- `baths` - number of bathrooms\n",
    "\n",
    "It should return the expected cost of a house with that number of bedrooms and bathrooms.  Assume that:\n",
    "- the expected cost for a house with 0 bedrooms and 0 bathrooms is `80000`.  \n",
    "- each bedroom adds `30000` to the expected cost\n",
    "- each bathroom adds `10000` to the expected cost.\n",
    "\n",
    "For instance, \n",
    "- a house with 1 bedroom and 1 bathroom has an expected cost of `120000`, and \n",
    "- a house with 2 bedrooms and 1 bathroom has an expected cost of `150000`."
   ]
  },
  {
   "cell_type": "code",
   "execution_count": 2,
   "id": "4540b6fb",
   "metadata": {
    "execution": {
     "iopub.execute_input": "2024-10-10T12:07:51.801002Z",
     "iopub.status.busy": "2024-10-10T12:07:51.800433Z",
     "iopub.status.idle": "2024-10-10T12:07:51.811320Z",
     "shell.execute_reply": "2024-10-10T12:07:51.810255Z"
    },
    "papermill": {
     "duration": 0.020016,
     "end_time": "2024-10-10T12:07:51.813449",
     "exception": false,
     "start_time": "2024-10-10T12:07:51.793433",
     "status": "completed"
    },
    "tags": []
   },
   "outputs": [
    {
     "data": {
      "application/javascript": [
       "parent.postMessage({\"jupyterEvent\": \"custom.exercise_interaction\", \"data\": {\"outcomeType\": 2, \"failureMessage\": \"Expected return value of `80000` given `beds=0`, `baths=0`, but got `<learntools.core.constants.PlaceholderValue object at 0x786f8202cb20>` instead.\", \"interactionType\": 1, \"questionType\": 2, \"questionId\": \"1_GetExpectedCost\", \"learnToolsVersion\": \"0.3.4\", \"valueTowardsCompletion\": 0.0, \"exceptionClass\": \"\", \"trace\": \"\"}}, \"*\")"
      ],
      "text/plain": [
       "<IPython.core.display.Javascript object>"
      ]
     },
     "metadata": {},
     "output_type": "display_data"
    },
    {
     "data": {
      "text/markdown": [
       "<span style=\"color:#cc3333\">Incorrect:</span> Expected return value of `80000` given `beds=0`, `baths=0`, but got `<learntools.core.constants.PlaceholderValue object at 0x786f8202cb20>` instead."
      ],
      "text/plain": [
       "Incorrect: Expected return value of `80000` given `beds=0`, `baths=0`, but got `<learntools.core.constants.PlaceholderValue object at 0x786f8202cb20>` instead."
      ]
     },
     "metadata": {},
     "output_type": "display_data"
    }
   ],
   "source": [
    "# TODO: Complete the function\n",
    "def get_expected_cost(beds, baths):\n",
    "    value = ____\n",
    "    return value\n",
    "\n",
    "# Check your answer \n",
    "q1.check()"
   ]
  },
  {
   "cell_type": "code",
   "execution_count": 3,
   "id": "5a2cb368",
   "metadata": {
    "execution": {
     "iopub.execute_input": "2024-10-10T12:07:51.828381Z",
     "iopub.status.busy": "2024-10-10T12:07:51.827465Z",
     "iopub.status.idle": "2024-10-10T12:07:51.832229Z",
     "shell.execute_reply": "2024-10-10T12:07:51.831102Z"
    },
    "papermill": {
     "duration": 0.01402,
     "end_time": "2024-10-10T12:07:51.834339",
     "exception": false,
     "start_time": "2024-10-10T12:07:51.820319",
     "status": "completed"
    },
    "tags": []
   },
   "outputs": [],
   "source": [
    "# Uncomment to see a hint\n",
    "#q1.hint()\n",
    "\n",
    "# Uncomment to view the solution\n",
    "#q1.solution()"
   ]
  },
  {
   "cell_type": "markdown",
   "id": "ae351b4d",
   "metadata": {
    "papermill": {
     "duration": 0.005817,
     "end_time": "2024-10-10T12:07:51.846268",
     "exception": false,
     "start_time": "2024-10-10T12:07:51.840451",
     "status": "completed"
    },
    "tags": []
   },
   "source": [
    "# Question 2\n",
    "\n",
    "You are thinking about buying a home and want to get an idea of how much you will spend, based on the number of bedrooms and bathrooms.  You are trying to decide between four different options:\n",
    "- Option 1: house with two bedrooms and three bathrooms\n",
    "- Option 2: house with three bedrooms and two bathrooms\n",
    "- Option 3: house with three bedrooms and three bathrooms\n",
    "- Option 4: house with three bedrooms and four bathrooms\n",
    "\n",
    "Use the `get_expected_cost()` function you defined in question 1 to set `option_1`, `option_2`, `option_3`, and `option_4` to the expected cost of each option."
   ]
  },
  {
   "cell_type": "code",
   "execution_count": 4,
   "id": "4092646b",
   "metadata": {
    "execution": {
     "iopub.execute_input": "2024-10-10T12:07:51.860549Z",
     "iopub.status.busy": "2024-10-10T12:07:51.859646Z",
     "iopub.status.idle": "2024-10-10T12:07:51.869989Z",
     "shell.execute_reply": "2024-10-10T12:07:51.868858Z"
    },
    "papermill": {
     "duration": 0.020401,
     "end_time": "2024-10-10T12:07:51.872695",
     "exception": false,
     "start_time": "2024-10-10T12:07:51.852294",
     "status": "completed"
    },
    "tags": []
   },
   "outputs": [
    {
     "name": "stdout",
     "output_type": "stream",
     "text": [
      "<learntools.core.constants.PlaceholderValue object at 0x786f8202cb20>\n",
      "<learntools.core.constants.PlaceholderValue object at 0x786f8202cb20>\n",
      "<learntools.core.constants.PlaceholderValue object at 0x786f8202cb20>\n",
      "<learntools.core.constants.PlaceholderValue object at 0x786f8202cb20>\n"
     ]
    },
    {
     "data": {
      "application/javascript": [
       "parent.postMessage({\"jupyterEvent\": \"custom.exercise_interaction\", \"data\": {\"outcomeType\": 4, \"interactionType\": 1, \"questionType\": 1, \"questionId\": \"2_RunGetExpectedCost\", \"learnToolsVersion\": \"0.3.4\", \"valueTowardsCompletion\": 0.0, \"failureMessage\": \"\", \"exceptionClass\": \"\", \"trace\": \"\"}}, \"*\")"
      ],
      "text/plain": [
       "<IPython.core.display.Javascript object>"
      ]
     },
     "metadata": {},
     "output_type": "display_data"
    },
    {
     "data": {
      "text/markdown": [
       "<span style=\"color:#ccaa33\">Check:</span> When you've updated the starter code, `check()` will tell you whether your code is correct. You need to update the code that creates variables `option_one`, `option_two`, `option_three`, `option_four`"
      ],
      "text/plain": [
       "Check: When you've updated the starter code, `check()` will tell you whether your code is correct. You need to update the code that creates variables `option_one`, `option_two`, `option_three`, `option_four`"
      ]
     },
     "metadata": {},
     "output_type": "display_data"
    }
   ],
   "source": [
    "# TODO: Use the get_expected_cost function to fill in each value\n",
    "option_one = ____\n",
    "option_two = ____\n",
    "option_three = ____\n",
    "option_four = ____\n",
    "\n",
    "print(option_one)\n",
    "print(option_two)\n",
    "print(option_three)\n",
    "print(option_four)\n",
    "\n",
    "# Check your answer\n",
    "q2.check()"
   ]
  },
  {
   "cell_type": "code",
   "execution_count": 5,
   "id": "2bdfddb5",
   "metadata": {
    "execution": {
     "iopub.execute_input": "2024-10-10T12:07:51.887282Z",
     "iopub.status.busy": "2024-10-10T12:07:51.886899Z",
     "iopub.status.idle": "2024-10-10T12:07:51.891234Z",
     "shell.execute_reply": "2024-10-10T12:07:51.890232Z"
    },
    "papermill": {
     "duration": 0.014175,
     "end_time": "2024-10-10T12:07:51.893448",
     "exception": false,
     "start_time": "2024-10-10T12:07:51.879273",
     "status": "completed"
    },
    "tags": []
   },
   "outputs": [],
   "source": [
    "# Uncomment to see a hint\n",
    "#q2.hint()\n",
    "\n",
    "# Uncomment to view the solution\n",
    "#q2.solution()"
   ]
  },
  {
   "cell_type": "markdown",
   "id": "f95b666a",
   "metadata": {
    "papermill": {
     "duration": 0.006275,
     "end_time": "2024-10-10T12:07:51.906220",
     "exception": false,
     "start_time": "2024-10-10T12:07:51.899945",
     "status": "completed"
    },
    "tags": []
   },
   "source": [
    "# Question 3\n",
    "\n",
    "You're a home decorator, and you'd like to use Python to streamline some of your work.  Specifically, you're creating a tool that you intend to use to calculate the cost of painting a room.\n",
    "\n",
    "As a first step, define a function `get_cost()` that takes as input:\n",
    "- `sqft_walls` = total square feet of walls to be painted\n",
    "- `sqft_ceiling` = square feet of ceiling to be painted\n",
    "- `sqft_per_gallon` = number of square feet that you can cover with one gallon of paint\n",
    "- `cost_per_gallon` = cost (in dollars) of one gallon of paint\n",
    "\n",
    "It should return the cost (in dollars) of putting one coat of paint on all walls and the ceiling.  Assume you can buy the exact amount of paint that you need, so you can buy partial gallons (e.g., if you need 7.523 gallons, you can buy that exact amount, instead of needing to buy 8 gallons and waste some paint).  Do not round your answer."
   ]
  },
  {
   "cell_type": "code",
   "execution_count": 6,
   "id": "be3da154",
   "metadata": {
    "execution": {
     "iopub.execute_input": "2024-10-10T12:07:51.920988Z",
     "iopub.status.busy": "2024-10-10T12:07:51.920145Z",
     "iopub.status.idle": "2024-10-10T12:07:51.928744Z",
     "shell.execute_reply": "2024-10-10T12:07:51.927815Z"
    },
    "papermill": {
     "duration": 0.018558,
     "end_time": "2024-10-10T12:07:51.931079",
     "exception": false,
     "start_time": "2024-10-10T12:07:51.912521",
     "status": "completed"
    },
    "tags": []
   },
   "outputs": [
    {
     "data": {
      "application/javascript": [
       "parent.postMessage({\"jupyterEvent\": \"custom.exercise_interaction\", \"data\": {\"outcomeType\": 2, \"failureMessage\": \"Expected return value of `21.599999999999998` given `sqft_walls=432`, `sqft_ceiling=144`, `sqft_per_gallon=400`, `cost_per_gallon=15`, but got `<learntools.core.constants.PlaceholderValue object at 0x786f8202cb20>` instead.\", \"interactionType\": 1, \"questionType\": 2, \"questionId\": \"3_GetCostPaint\", \"learnToolsVersion\": \"0.3.4\", \"valueTowardsCompletion\": 0.0, \"exceptionClass\": \"\", \"trace\": \"\"}}, \"*\")"
      ],
      "text/plain": [
       "<IPython.core.display.Javascript object>"
      ]
     },
     "metadata": {},
     "output_type": "display_data"
    },
    {
     "data": {
      "text/markdown": [
       "<span style=\"color:#cc3333\">Incorrect:</span> Expected return value of `21.599999999999998` given `sqft_walls=432`, `sqft_ceiling=144`, `sqft_per_gallon=400`, `cost_per_gallon=15`, but got `<learntools.core.constants.PlaceholderValue object at 0x786f8202cb20>` instead."
      ],
      "text/plain": [
       "Incorrect: Expected return value of `21.599999999999998` given `sqft_walls=432`, `sqft_ceiling=144`, `sqft_per_gallon=400`, `cost_per_gallon=15`, but got `<learntools.core.constants.PlaceholderValue object at 0x786f8202cb20>` instead."
      ]
     },
     "metadata": {},
     "output_type": "display_data"
    }
   ],
   "source": [
    "# TODO: Finish defining the function\n",
    "def get_cost(sqft_walls, sqft_ceiling, sqft_per_gallon, cost_per_gallon):\n",
    "    cost = ____\n",
    "    return cost\n",
    "\n",
    "# Check your answer\n",
    "q3.check()"
   ]
  },
  {
   "cell_type": "code",
   "execution_count": 7,
   "id": "06daf535",
   "metadata": {
    "execution": {
     "iopub.execute_input": "2024-10-10T12:07:51.946027Z",
     "iopub.status.busy": "2024-10-10T12:07:51.945509Z",
     "iopub.status.idle": "2024-10-10T12:07:51.950110Z",
     "shell.execute_reply": "2024-10-10T12:07:51.949055Z"
    },
    "papermill": {
     "duration": 0.014618,
     "end_time": "2024-10-10T12:07:51.952255",
     "exception": false,
     "start_time": "2024-10-10T12:07:51.937637",
     "status": "completed"
    },
    "tags": []
   },
   "outputs": [],
   "source": [
    "# Uncomment to see a hint\n",
    "#q3.hint()\n",
    "\n",
    "# Uncomment to view the solution\n",
    "#q3.solution()"
   ]
  },
  {
   "cell_type": "markdown",
   "id": "6bbae0eb",
   "metadata": {
    "papermill": {
     "duration": 0.006341,
     "end_time": "2024-10-10T12:07:51.965206",
     "exception": false,
     "start_time": "2024-10-10T12:07:51.958865",
     "status": "completed"
    },
    "tags": []
   },
   "source": [
    "# Question 4\n",
    "\n",
    "Use the `get_cost()` function you defined in Question 3 to calculate the cost of applying one coat of paint to a room with:\n",
    "- 432 square feet of walls, and\n",
    "- 144 square feet of ceiling.\n",
    "\n",
    "Assume that one gallon of paint covers 400 square feet and costs $15.  As in Question 3, assume you can buy partial gallons of paint.  Do not round your answer."
   ]
  },
  {
   "cell_type": "code",
   "execution_count": 8,
   "id": "3acc60c5",
   "metadata": {
    "execution": {
     "iopub.execute_input": "2024-10-10T12:07:51.980655Z",
     "iopub.status.busy": "2024-10-10T12:07:51.979696Z",
     "iopub.status.idle": "2024-10-10T12:07:51.988630Z",
     "shell.execute_reply": "2024-10-10T12:07:51.987541Z"
    },
    "papermill": {
     "duration": 0.019105,
     "end_time": "2024-10-10T12:07:51.990962",
     "exception": false,
     "start_time": "2024-10-10T12:07:51.971857",
     "status": "completed"
    },
    "tags": []
   },
   "outputs": [
    {
     "data": {
      "application/javascript": [
       "parent.postMessage({\"jupyterEvent\": \"custom.exercise_interaction\", \"data\": {\"outcomeType\": 4, \"interactionType\": 1, \"questionType\": 1, \"questionId\": \"4_GetCostPaintExample\", \"learnToolsVersion\": \"0.3.4\", \"valueTowardsCompletion\": 0.0, \"failureMessage\": \"\", \"exceptionClass\": \"\", \"trace\": \"\"}}, \"*\")"
      ],
      "text/plain": [
       "<IPython.core.display.Javascript object>"
      ]
     },
     "metadata": {},
     "output_type": "display_data"
    },
    {
     "data": {
      "text/markdown": [
       "<span style=\"color:#ccaa33\">Check:</span> When you've updated the starter code, `check()` will tell you whether your code is correct. You need to update the code that creates variable `project_cost`"
      ],
      "text/plain": [
       "Check: When you've updated the starter code, `check()` will tell you whether your code is correct. You need to update the code that creates variable `project_cost`"
      ]
     },
     "metadata": {},
     "output_type": "display_data"
    }
   ],
   "source": [
    "# TODO: Set the project_cost variable to the cost of the project\n",
    "project_cost = ____\n",
    "\n",
    "# Check your answer\n",
    "q4.check()"
   ]
  },
  {
   "cell_type": "code",
   "execution_count": 9,
   "id": "e399609f",
   "metadata": {
    "execution": {
     "iopub.execute_input": "2024-10-10T12:07:52.006331Z",
     "iopub.status.busy": "2024-10-10T12:07:52.005952Z",
     "iopub.status.idle": "2024-10-10T12:07:52.010638Z",
     "shell.execute_reply": "2024-10-10T12:07:52.009624Z"
    },
    "papermill": {
     "duration": 0.014973,
     "end_time": "2024-10-10T12:07:52.012795",
     "exception": false,
     "start_time": "2024-10-10T12:07:51.997822",
     "status": "completed"
    },
    "tags": []
   },
   "outputs": [],
   "source": [
    "# Uncomment to see a hint\n",
    "#q4.hint()\n",
    "\n",
    "# Uncomment to view the solution\n",
    "#q4.solution()"
   ]
  },
  {
   "cell_type": "markdown",
   "id": "a0d8858c",
   "metadata": {
    "papermill": {
     "duration": 0.006636,
     "end_time": "2024-10-10T12:07:52.026252",
     "exception": false,
     "start_time": "2024-10-10T12:07:52.019616",
     "status": "completed"
    },
    "tags": []
   },
   "source": [
    "# 🌶️ Question 5\n",
    "\n",
    "Now say you can no longer buy fractions of a gallon.  (For instance, if you need 4.3 gallons to do a project, then you have to buy 5 gallons of paint.)\n",
    "\n",
    "With this new scenario, you will create a new function `get_actual_cost` that uses the same inputs and calculates the cost of your project.\n",
    "\n",
    "One function that you'll need to use to do this is `math.ceil()`.  We demonstrate usage of this function in the code cell below.  It takes as a number as input and rounds the number up to the nearest integer.  \n",
    "\n",
    "Run the next code cell to test this function for yourself.  Feel free to change the value of `test_value` and make sure `math.ceil()` returns the number you expect."
   ]
  },
  {
   "cell_type": "code",
   "execution_count": 10,
   "id": "3d71f2d3",
   "metadata": {
    "execution": {
     "iopub.execute_input": "2024-10-10T12:07:52.041326Z",
     "iopub.status.busy": "2024-10-10T12:07:52.040935Z",
     "iopub.status.idle": "2024-10-10T12:07:52.046425Z",
     "shell.execute_reply": "2024-10-10T12:07:52.045298Z"
    },
    "papermill": {
     "duration": 0.016176,
     "end_time": "2024-10-10T12:07:52.049129",
     "exception": false,
     "start_time": "2024-10-10T12:07:52.032953",
     "status": "completed"
    },
    "tags": []
   },
   "outputs": [
    {
     "name": "stdout",
     "output_type": "stream",
     "text": [
      "3\n"
     ]
    }
   ],
   "source": [
    "test_value = 2.17\n",
    "\n",
    "rounded_value = math.ceil(test_value)\n",
    "print(rounded_value)"
   ]
  },
  {
   "cell_type": "markdown",
   "id": "4a3ee7cd",
   "metadata": {
    "papermill": {
     "duration": 0.006736,
     "end_time": "2024-10-10T12:07:52.063271",
     "exception": false,
     "start_time": "2024-10-10T12:07:52.056535",
     "status": "completed"
    },
    "tags": []
   },
   "source": [
    "Use the next code cell to define the function `get_actual_cost()`.  You'll need to use the `math.ceil()` function to do this.\n",
    "\n",
    "When answering this question, note that it's completely valid to define a function that makes use of another function.  For instance, we can define a function `round_up_and_divide_by_three` that makes use of the `math.ceil` function:\n",
    "```\n",
    "def round_up_and_divide_by_three(num):\n",
    "    new_value = math.ceil(num)\n",
    "    final_value = new_value / 3\n",
    "    return final_value\n",
    "```"
   ]
  },
  {
   "cell_type": "code",
   "execution_count": 11,
   "id": "9a587d6c",
   "metadata": {
    "execution": {
     "iopub.execute_input": "2024-10-10T12:07:52.078845Z",
     "iopub.status.busy": "2024-10-10T12:07:52.078447Z",
     "iopub.status.idle": "2024-10-10T12:07:52.087564Z",
     "shell.execute_reply": "2024-10-10T12:07:52.086595Z"
    },
    "papermill": {
     "duration": 0.019504,
     "end_time": "2024-10-10T12:07:52.089699",
     "exception": false,
     "start_time": "2024-10-10T12:07:52.070195",
     "status": "completed"
    },
    "tags": []
   },
   "outputs": [
    {
     "data": {
      "application/javascript": [
       "parent.postMessage({\"jupyterEvent\": \"custom.exercise_interaction\", \"data\": {\"outcomeType\": 2, \"failureMessage\": \"Expected return value of `30` given `sqft_walls=432`, `sqft_ceiling=144`, `sqft_per_gallon=400`, `cost_per_gallon=15`, but got `<learntools.core.constants.PlaceholderValue object at 0x786f8202cb20>` instead.\", \"interactionType\": 1, \"questionType\": 2, \"questionId\": \"5_NoMoreFractions\", \"learnToolsVersion\": \"0.3.4\", \"valueTowardsCompletion\": 0.0, \"exceptionClass\": \"\", \"trace\": \"\"}}, \"*\")"
      ],
      "text/plain": [
       "<IPython.core.display.Javascript object>"
      ]
     },
     "metadata": {},
     "output_type": "display_data"
    },
    {
     "data": {
      "text/markdown": [
       "<span style=\"color:#cc3333\">Incorrect:</span> Expected return value of `30` given `sqft_walls=432`, `sqft_ceiling=144`, `sqft_per_gallon=400`, `cost_per_gallon=15`, but got `<learntools.core.constants.PlaceholderValue object at 0x786f8202cb20>` instead."
      ],
      "text/plain": [
       "Incorrect: Expected return value of `30` given `sqft_walls=432`, `sqft_ceiling=144`, `sqft_per_gallon=400`, `cost_per_gallon=15`, but got `<learntools.core.constants.PlaceholderValue object at 0x786f8202cb20>` instead."
      ]
     },
     "metadata": {},
     "output_type": "display_data"
    }
   ],
   "source": [
    "def get_actual_cost(sqft_walls, sqft_ceiling, sqft_per_gallon, cost_per_gallon):\n",
    "    cost = ____\n",
    "    return cost\n",
    "\n",
    "# Check your answer\n",
    "q5.check()"
   ]
  },
  {
   "cell_type": "code",
   "execution_count": 12,
   "id": "191c6315",
   "metadata": {
    "execution": {
     "iopub.execute_input": "2024-10-10T12:07:52.105708Z",
     "iopub.status.busy": "2024-10-10T12:07:52.105323Z",
     "iopub.status.idle": "2024-10-10T12:07:52.110084Z",
     "shell.execute_reply": "2024-10-10T12:07:52.108849Z"
    },
    "papermill": {
     "duration": 0.015428,
     "end_time": "2024-10-10T12:07:52.112259",
     "exception": false,
     "start_time": "2024-10-10T12:07:52.096831",
     "status": "completed"
    },
    "tags": []
   },
   "outputs": [],
   "source": [
    "# Uncomment to see a hint\n",
    "#q5.hint()\n",
    "\n",
    "# Uncomment to view the solution\n",
    "#q5.solution()"
   ]
  },
  {
   "cell_type": "markdown",
   "id": "b5465653",
   "metadata": {
    "papermill": {
     "duration": 0.006954,
     "end_time": "2024-10-10T12:07:52.126542",
     "exception": false,
     "start_time": "2024-10-10T12:07:52.119588",
     "status": "completed"
    },
    "tags": []
   },
   "source": [
    "Once your function is verified as correct, run the next code cell to calculate the updated cost of your project."
   ]
  },
  {
   "cell_type": "code",
   "execution_count": 13,
   "id": "6d7b93d4",
   "metadata": {
    "execution": {
     "iopub.execute_input": "2024-10-10T12:07:52.143580Z",
     "iopub.status.busy": "2024-10-10T12:07:52.142365Z",
     "iopub.status.idle": "2024-10-10T12:07:52.149414Z",
     "shell.execute_reply": "2024-10-10T12:07:52.148415Z"
    },
    "papermill": {
     "duration": 0.017829,
     "end_time": "2024-10-10T12:07:52.151622",
     "exception": false,
     "start_time": "2024-10-10T12:07:52.133793",
     "status": "completed"
    },
    "tags": []
   },
   "outputs": [
    {
     "data": {
      "text/markdown": [],
      "text/plain": [
       "<learntools.core.constants.PlaceholderValue at 0x786f8202cb20>"
      ]
     },
     "execution_count": 13,
     "metadata": {},
     "output_type": "execute_result"
    }
   ],
   "source": [
    "get_actual_cost(432, 144, 400, 15) "
   ]
  },
  {
   "cell_type": "markdown",
   "id": "2df1c8da",
   "metadata": {
    "papermill": {
     "duration": 0.006965,
     "end_time": "2024-10-10T12:07:52.165969",
     "exception": false,
     "start_time": "2024-10-10T12:07:52.159004",
     "status": "completed"
    },
    "tags": []
   },
   "source": [
    "Say you're working with a slightly larger room.  Run the next code cell to calculate the cost of the project."
   ]
  },
  {
   "cell_type": "code",
   "execution_count": 14,
   "id": "71ac1f86",
   "metadata": {
    "execution": {
     "iopub.execute_input": "2024-10-10T12:07:52.182703Z",
     "iopub.status.busy": "2024-10-10T12:07:52.181738Z",
     "iopub.status.idle": "2024-10-10T12:07:52.188577Z",
     "shell.execute_reply": "2024-10-10T12:07:52.187335Z"
    },
    "papermill": {
     "duration": 0.01751,
     "end_time": "2024-10-10T12:07:52.190673",
     "exception": false,
     "start_time": "2024-10-10T12:07:52.173163",
     "status": "completed"
    },
    "tags": []
   },
   "outputs": [
    {
     "data": {
      "text/markdown": [],
      "text/plain": [
       "<learntools.core.constants.PlaceholderValue at 0x786f8202cb20>"
      ]
     },
     "execution_count": 14,
     "metadata": {},
     "output_type": "execute_result"
    }
   ],
   "source": [
    "get_actual_cost(594, 288, 400, 15) "
   ]
  },
  {
   "cell_type": "markdown",
   "id": "db37ec90",
   "metadata": {
    "papermill": {
     "duration": 0.00717,
     "end_time": "2024-10-10T12:07:52.205210",
     "exception": false,
     "start_time": "2024-10-10T12:07:52.198040",
     "status": "completed"
    },
    "tags": []
   },
   "source": [
    "# Keep going\n",
    "\n",
    "Continue to learn about **[data types](https://www.kaggle.com/alexisbcook/data-types)**."
   ]
  },
  {
   "cell_type": "markdown",
   "id": "f7075566",
   "metadata": {
    "papermill": {
     "duration": 0.007138,
     "end_time": "2024-10-10T12:07:52.219731",
     "exception": false,
     "start_time": "2024-10-10T12:07:52.212593",
     "status": "completed"
    },
    "tags": []
   },
   "source": [
    "---\n",
    "\n",
    "\n",
    "\n",
    "\n",
    "*Have questions or comments? Visit the [course discussion forum](https://www.kaggle.com/learn/intro-to-programming/discussion) to chat with other learners.*"
   ]
  }
 ],
 "metadata": {
  "kaggle": {
   "accelerator": "none",
   "dataSources": [],
   "isGpuEnabled": false,
   "isInternetEnabled": false,
   "language": "python",
   "sourceType": "notebook"
  },
  "kernelspec": {
   "display_name": "Python 3",
   "language": "python",
   "name": "python3"
  },
  "language_info": {
   "codemirror_mode": {
    "name": "ipython",
    "version": 3
   },
   "file_extension": ".py",
   "mimetype": "text/x-python",
   "name": "python",
   "nbconvert_exporter": "python",
   "pygments_lexer": "ipython3",
   "version": "3.10.14"
  },
  "papermill": {
   "default_parameters": {},
   "duration": 4.522018,
   "end_time": "2024-10-10T12:07:52.647678",
   "environment_variables": {},
   "exception": null,
   "input_path": "__notebook__.ipynb",
   "output_path": "__notebook__.ipynb",
   "parameters": {},
   "start_time": "2024-10-10T12:07:48.125660",
   "version": "2.6.0"
  }
 },
 "nbformat": 4,
 "nbformat_minor": 5
}
