{
 "cells": [
  {
   "cell_type": "markdown",
   "id": "4fbfd061",
   "metadata": {
    "papermill": {
     "duration": 0.008933,
     "end_time": "2024-10-30T18:24:19.823382",
     "exception": false,
     "start_time": "2024-10-30T18:24:19.814449",
     "status": "completed"
    },
    "tags": []
   },
   "source": [
    "**This notebook is an exercise in the [Intro to Programming](https://www.kaggle.com/learn/intro-to-programming) course.  You can reference the tutorial at [this link](https://www.kaggle.com/alexisbcook/functions).**\n",
    "\n",
    "---\n"
   ]
  },
  {
   "cell_type": "markdown",
   "id": "adaf5508",
   "metadata": {
    "papermill": {
     "duration": 0.007686,
     "end_time": "2024-10-30T18:24:19.839627",
     "exception": false,
     "start_time": "2024-10-30T18:24:19.831941",
     "status": "completed"
    },
    "tags": []
   },
   "source": [
    "In the tutorial, you learned about functions. In this exercise, you'll write some of your own!\n",
    "\n",
    "# Set up the notebook\n",
    "\n",
    "Run the next code cell without changes to set up the notebook."
   ]
  },
  {
   "cell_type": "code",
   "execution_count": 1,
   "id": "ac7a8638",
   "metadata": {
    "execution": {
     "iopub.execute_input": "2024-10-30T18:24:19.857270Z",
     "iopub.status.busy": "2024-10-30T18:24:19.856809Z",
     "iopub.status.idle": "2024-10-30T18:24:20.910053Z",
     "shell.execute_reply": "2024-10-30T18:24:20.908733Z"
    },
    "papermill": {
     "duration": 1.065393,
     "end_time": "2024-10-30T18:24:20.912897",
     "exception": false,
     "start_time": "2024-10-30T18:24:19.847504",
     "status": "completed"
    },
    "tags": []
   },
   "outputs": [
    {
     "name": "stdout",
     "output_type": "stream",
     "text": [
      "Setup complete.\n"
     ]
    }
   ],
   "source": [
    "# Set up the exercise\n",
    "import math\n",
    "from learntools.core import binder\n",
    "binder.bind(globals())\n",
    "from learntools.intro_to_programming.ex2 import *\n",
    "print('Setup complete.')"
   ]
  },
  {
   "cell_type": "markdown",
   "id": "7bc0d22e",
   "metadata": {
    "papermill": {
     "duration": 0.008449,
     "end_time": "2024-10-30T18:24:20.929592",
     "exception": false,
     "start_time": "2024-10-30T18:24:20.921143",
     "status": "completed"
    },
    "tags": []
   },
   "source": [
    "# Question 1\n",
    "\n",
    "In the [House Prices - Advanced Regression Techniques competition](https://www.kaggle.com/c/house-prices-advanced-regression-techniques/overview), you need to use information like the number of bedrooms and bathrooms to predict the price of a house.  Inspired by this competition, you'll write your own function to do this.\n",
    "\n",
    "In the next code cell, create a function `get_expected_cost()` that has two arguments:\n",
    "- `beds` - number of bedrooms \n",
    "- `baths` - number of bathrooms\n",
    "\n",
    "It should return the expected cost of a house with that number of bedrooms and bathrooms.  Assume that:\n",
    "- the expected cost for a house with 0 bedrooms and 0 bathrooms is `80000`.  \n",
    "- each bedroom adds `30000` to the expected cost\n",
    "- each bathroom adds `10000` to the expected cost.\n",
    "\n",
    "For instance, \n",
    "- a house with 1 bedroom and 1 bathroom has an expected cost of `120000`, and \n",
    "- a house with 2 bedrooms and 1 bathroom has an expected cost of `150000`."
   ]
  },
  {
   "cell_type": "code",
   "execution_count": 2,
   "id": "1927b276",
   "metadata": {
    "execution": {
     "iopub.execute_input": "2024-10-30T18:24:20.948423Z",
     "iopub.status.busy": "2024-10-30T18:24:20.947832Z",
     "iopub.status.idle": "2024-10-30T18:24:20.961280Z",
     "shell.execute_reply": "2024-10-30T18:24:20.959622Z"
    },
    "papermill": {
     "duration": 0.025846,
     "end_time": "2024-10-30T18:24:20.964007",
     "exception": false,
     "start_time": "2024-10-30T18:24:20.938161",
     "status": "completed"
    },
    "tags": []
   },
   "outputs": [
    {
     "data": {
      "application/javascript": [
       "parent.postMessage({\"jupyterEvent\": \"custom.exercise_interaction\", \"data\": {\"outcomeType\": 1, \"valueTowardsCompletion\": 0.2, \"interactionType\": 1, \"questionType\": 2, \"questionId\": \"1_GetExpectedCost\", \"learnToolsVersion\": \"0.3.4\", \"failureMessage\": \"\", \"exceptionClass\": \"\", \"trace\": \"\"}}, \"*\")"
      ],
      "text/plain": [
       "<IPython.core.display.Javascript object>"
      ]
     },
     "metadata": {},
     "output_type": "display_data"
    },
    {
     "data": {
      "text/markdown": [
       "<span style=\"color:#33cc33\">Correct</span>"
      ],
      "text/plain": [
       "Correct"
      ]
     },
     "metadata": {},
     "output_type": "display_data"
    }
   ],
   "source": [
    "# TODO: Complete the function\n",
    "def get_expected_cost(beds, baths):\n",
    "    \n",
    "    value = 80000 + 30000 * beds + 10000 * baths\n",
    "    return value\n",
    "\n",
    "# Check your answer \n",
    "q1.check()"
   ]
  },
  {
   "cell_type": "code",
   "execution_count": 3,
   "id": "7228569d",
   "metadata": {
    "execution": {
     "iopub.execute_input": "2024-10-30T18:24:20.985701Z",
     "iopub.status.busy": "2024-10-30T18:24:20.985248Z",
     "iopub.status.idle": "2024-10-30T18:24:20.990453Z",
     "shell.execute_reply": "2024-10-30T18:24:20.989224Z"
    },
    "papermill": {
     "duration": 0.019533,
     "end_time": "2024-10-30T18:24:20.994000",
     "exception": false,
     "start_time": "2024-10-30T18:24:20.974467",
     "status": "completed"
    },
    "tags": []
   },
   "outputs": [],
   "source": [
    "# Uncomment to see a hint\n",
    "#q1.hint()\n",
    "\n",
    "# Uncomment to view the solution\n",
    "#q1.solution()"
   ]
  },
  {
   "cell_type": "markdown",
   "id": "0fbfb7c2",
   "metadata": {
    "papermill": {
     "duration": 0.01015,
     "end_time": "2024-10-30T18:24:21.013376",
     "exception": false,
     "start_time": "2024-10-30T18:24:21.003226",
     "status": "completed"
    },
    "tags": []
   },
   "source": [
    "# Question 2\n",
    "\n",
    "You are thinking about buying a home and want to get an idea of how much you will spend, based on the number of bedrooms and bathrooms.  You are trying to decide between four different options:\n",
    "- Option 1: house with two bedrooms and three bathrooms\n",
    "- Option 2: house with three bedrooms and two bathrooms\n",
    "- Option 3: house with three bedrooms and three bathrooms\n",
    "- Option 4: house with three bedrooms and four bathrooms\n",
    "\n",
    "Use the `get_expected_cost()` function you defined in question 1 to set `option_1`, `option_2`, `option_3`, and `option_4` to the expected cost of each option."
   ]
  },
  {
   "cell_type": "code",
   "execution_count": 4,
   "id": "d407ea60",
   "metadata": {
    "execution": {
     "iopub.execute_input": "2024-10-30T18:24:21.033244Z",
     "iopub.status.busy": "2024-10-30T18:24:21.032303Z",
     "iopub.status.idle": "2024-10-30T18:24:21.046232Z",
     "shell.execute_reply": "2024-10-30T18:24:21.044823Z"
    },
    "papermill": {
     "duration": 0.028432,
     "end_time": "2024-10-30T18:24:21.050415",
     "exception": false,
     "start_time": "2024-10-30T18:24:21.021983",
     "status": "completed"
    },
    "tags": []
   },
   "outputs": [
    {
     "name": "stdout",
     "output_type": "stream",
     "text": [
      "170000\n",
      "190000\n",
      "200000\n",
      "210000\n"
     ]
    },
    {
     "data": {
      "application/javascript": [
       "parent.postMessage({\"jupyterEvent\": \"custom.exercise_interaction\", \"data\": {\"outcomeType\": 1, \"valueTowardsCompletion\": 0.2, \"interactionType\": 1, \"questionType\": 1, \"questionId\": \"2_RunGetExpectedCost\", \"learnToolsVersion\": \"0.3.4\", \"failureMessage\": \"\", \"exceptionClass\": \"\", \"trace\": \"\"}}, \"*\")"
      ],
      "text/plain": [
       "<IPython.core.display.Javascript object>"
      ]
     },
     "metadata": {},
     "output_type": "display_data"
    },
    {
     "data": {
      "text/markdown": [
       "<span style=\"color:#33cc33\">Correct</span>"
      ],
      "text/plain": [
       "Correct"
      ]
     },
     "metadata": {},
     "output_type": "display_data"
    }
   ],
   "source": [
    "# TODO: Use the get_expected_cost function to fill in each value\n",
    "option_one = get_expected_cost(2,3)\n",
    "option_two = get_expected_cost(3,2)\n",
    "option_three = get_expected_cost(3,3)\n",
    "option_four = get_expected_cost(3,4)\n",
    "\n",
    "print(option_one)\n",
    "print(option_two)\n",
    "print(option_three)\n",
    "print(option_four)\n",
    "\n",
    "# Check your answer\n",
    "q2.check()"
   ]
  },
  {
   "cell_type": "code",
   "execution_count": 5,
   "id": "987dfcd6",
   "metadata": {
    "execution": {
     "iopub.execute_input": "2024-10-30T18:24:21.073175Z",
     "iopub.status.busy": "2024-10-30T18:24:21.071792Z",
     "iopub.status.idle": "2024-10-30T18:24:21.078008Z",
     "shell.execute_reply": "2024-10-30T18:24:21.076516Z"
    },
    "papermill": {
     "duration": 0.022124,
     "end_time": "2024-10-30T18:24:21.081786",
     "exception": false,
     "start_time": "2024-10-30T18:24:21.059662",
     "status": "completed"
    },
    "tags": []
   },
   "outputs": [],
   "source": [
    "# Uncomment to see a hint\n",
    "#q2.hint()\n",
    "\n",
    "# Uncomment to view the solution\n",
    "#q2.solution()"
   ]
  },
  {
   "cell_type": "markdown",
   "id": "ddd27c25",
   "metadata": {
    "papermill": {
     "duration": 0.008758,
     "end_time": "2024-10-30T18:24:21.101122",
     "exception": false,
     "start_time": "2024-10-30T18:24:21.092364",
     "status": "completed"
    },
    "tags": []
   },
   "source": [
    "# Question 3\n",
    "\n",
    "You're a home decorator, and you'd like to use Python to streamline some of your work.  Specifically, you're creating a tool that you intend to use to calculate the cost of painting a room.\n",
    "\n",
    "As a first step, define a function `get_cost()` that takes as input:\n",
    "- `sqft_walls` = total square feet of walls to be painted\n",
    "- `sqft_ceiling` = square feet of ceiling to be painted\n",
    "- `sqft_per_gallon` = number of square feet that you can cover with one gallon of paint\n",
    "- `cost_per_gallon` = cost (in dollars) of one gallon of paint\n",
    "\n",
    "It should return the cost (in dollars) of putting one coat of paint on all walls and the ceiling.  Assume you can buy the exact amount of paint that you need, so you can buy partial gallons (e.g., if you need 7.523 gallons, you can buy that exact amount, instead of needing to buy 8 gallons and waste some paint).  Do not round your answer."
   ]
  },
  {
   "cell_type": "code",
   "execution_count": 6,
   "id": "20db239a",
   "metadata": {
    "execution": {
     "iopub.execute_input": "2024-10-30T18:24:21.121848Z",
     "iopub.status.busy": "2024-10-30T18:24:21.121415Z",
     "iopub.status.idle": "2024-10-30T18:24:21.133123Z",
     "shell.execute_reply": "2024-10-30T18:24:21.131921Z"
    },
    "papermill": {
     "duration": 0.024928,
     "end_time": "2024-10-30T18:24:21.135763",
     "exception": false,
     "start_time": "2024-10-30T18:24:21.110835",
     "status": "completed"
    },
    "tags": []
   },
   "outputs": [
    {
     "data": {
      "application/javascript": [
       "parent.postMessage({\"jupyterEvent\": \"custom.exercise_interaction\", \"data\": {\"outcomeType\": 1, \"valueTowardsCompletion\": 0.2, \"interactionType\": 1, \"questionType\": 2, \"questionId\": \"3_GetCostPaint\", \"learnToolsVersion\": \"0.3.4\", \"failureMessage\": \"\", \"exceptionClass\": \"\", \"trace\": \"\"}}, \"*\")"
      ],
      "text/plain": [
       "<IPython.core.display.Javascript object>"
      ]
     },
     "metadata": {},
     "output_type": "display_data"
    },
    {
     "data": {
      "text/markdown": [
       "<span style=\"color:#33cc33\">Correct</span>"
      ],
      "text/plain": [
       "Correct"
      ]
     },
     "metadata": {},
     "output_type": "display_data"
    }
   ],
   "source": [
    "# TODO: Finish defining the function\n",
    "def get_cost(sqft_walls, sqft_ceiling, sqft_per_gallon, cost_per_gallon):\n",
    "    total = sqft_walls + sqft_ceiling\n",
    "    needed = total / sqft_per_gallon\n",
    "\n",
    "    \n",
    "    \n",
    "    cost = needed * cost_per_gallon\n",
    "    return cost\n",
    "\n",
    "# Check your answer\n",
    "q3.check()"
   ]
  },
  {
   "cell_type": "code",
   "execution_count": 7,
   "id": "d15c7974",
   "metadata": {
    "execution": {
     "iopub.execute_input": "2024-10-30T18:24:21.156660Z",
     "iopub.status.busy": "2024-10-30T18:24:21.156205Z",
     "iopub.status.idle": "2024-10-30T18:24:21.161276Z",
     "shell.execute_reply": "2024-10-30T18:24:21.160015Z"
    },
    "papermill": {
     "duration": 0.019031,
     "end_time": "2024-10-30T18:24:21.164168",
     "exception": false,
     "start_time": "2024-10-30T18:24:21.145137",
     "status": "completed"
    },
    "tags": []
   },
   "outputs": [],
   "source": [
    "# Uncomment to see a hint\n",
    "#q3.hint()\n",
    "\n",
    "# Uncomment to view the solution\n",
    "#q3.solution()"
   ]
  },
  {
   "cell_type": "markdown",
   "id": "509d7009",
   "metadata": {
    "papermill": {
     "duration": 0.009405,
     "end_time": "2024-10-30T18:24:21.183703",
     "exception": false,
     "start_time": "2024-10-30T18:24:21.174298",
     "status": "completed"
    },
    "tags": []
   },
   "source": [
    "# Question 4\n",
    "\n",
    "Use the `get_cost()` function you defined in Question 3 to calculate the cost of applying one coat of paint to a room with:\n",
    "- 432 square feet of walls, and\n",
    "- 144 square feet of ceiling.\n",
    "\n",
    "Assume that one gallon of paint covers 400 square feet and costs $15.  As in Question 3, assume you can buy partial gallons of paint.  Do not round your answer."
   ]
  },
  {
   "cell_type": "code",
   "execution_count": 8,
   "id": "7ab7b22d",
   "metadata": {
    "execution": {
     "iopub.execute_input": "2024-10-30T18:24:21.204948Z",
     "iopub.status.busy": "2024-10-30T18:24:21.204489Z",
     "iopub.status.idle": "2024-10-30T18:24:21.214455Z",
     "shell.execute_reply": "2024-10-30T18:24:21.213179Z"
    },
    "papermill": {
     "duration": 0.02347,
     "end_time": "2024-10-30T18:24:21.216896",
     "exception": false,
     "start_time": "2024-10-30T18:24:21.193426",
     "status": "completed"
    },
    "tags": []
   },
   "outputs": [
    {
     "data": {
      "application/javascript": [
       "parent.postMessage({\"jupyterEvent\": \"custom.exercise_interaction\", \"data\": {\"outcomeType\": 1, \"valueTowardsCompletion\": 0.2, \"interactionType\": 1, \"questionType\": 1, \"questionId\": \"4_GetCostPaintExample\", \"learnToolsVersion\": \"0.3.4\", \"failureMessage\": \"\", \"exceptionClass\": \"\", \"trace\": \"\"}}, \"*\")"
      ],
      "text/plain": [
       "<IPython.core.display.Javascript object>"
      ]
     },
     "metadata": {},
     "output_type": "display_data"
    },
    {
     "data": {
      "text/markdown": [
       "<span style=\"color:#33cc33\">Correct</span>"
      ],
      "text/plain": [
       "Correct"
      ]
     },
     "metadata": {},
     "output_type": "display_data"
    }
   ],
   "source": [
    "# TODO: Set the project_cost variable to the cost of the project\n",
    "project_cost = get_cost(432, 144, 400, 15)\n",
    "\n",
    "# Check your answer\n",
    "q4.check()"
   ]
  },
  {
   "cell_type": "code",
   "execution_count": 9,
   "id": "0355b45d",
   "metadata": {
    "execution": {
     "iopub.execute_input": "2024-10-30T18:24:21.237732Z",
     "iopub.status.busy": "2024-10-30T18:24:21.237299Z",
     "iopub.status.idle": "2024-10-30T18:24:21.242083Z",
     "shell.execute_reply": "2024-10-30T18:24:21.240877Z"
    },
    "papermill": {
     "duration": 0.018035,
     "end_time": "2024-10-30T18:24:21.244462",
     "exception": false,
     "start_time": "2024-10-30T18:24:21.226427",
     "status": "completed"
    },
    "tags": []
   },
   "outputs": [],
   "source": [
    "# Uncomment to see a hint\n",
    "#q4.hint()\n",
    "\n",
    "# Uncomment to view the solution\n",
    "#q4.solution()"
   ]
  },
  {
   "cell_type": "markdown",
   "id": "f5271289",
   "metadata": {
    "papermill": {
     "duration": 0.010603,
     "end_time": "2024-10-30T18:24:21.264706",
     "exception": false,
     "start_time": "2024-10-30T18:24:21.254103",
     "status": "completed"
    },
    "tags": []
   },
   "source": [
    "# 🌶️ Question 5\n",
    "\n",
    "Now say you can no longer buy fractions of a gallon.  (For instance, if you need 4.3 gallons to do a project, then you have to buy 5 gallons of paint.)\n",
    "\n",
    "With this new scenario, you will create a new function `get_actual_cost` that uses the same inputs and calculates the cost of your project.\n",
    "\n",
    "One function that you'll need to use to do this is `math.ceil()`.  We demonstrate usage of this function in the code cell below.  It takes as a number as input and rounds the number up to the nearest integer.  \n",
    "\n",
    "Run the next code cell to test this function for yourself.  Feel free to change the value of `test_value` and make sure `math.ceil()` returns the number you expect."
   ]
  },
  {
   "cell_type": "code",
   "execution_count": 10,
   "id": "bd8fe386",
   "metadata": {
    "execution": {
     "iopub.execute_input": "2024-10-30T18:24:21.287343Z",
     "iopub.status.busy": "2024-10-30T18:24:21.286887Z",
     "iopub.status.idle": "2024-10-30T18:24:21.294664Z",
     "shell.execute_reply": "2024-10-30T18:24:21.293349Z"
    },
    "papermill": {
     "duration": 0.023186,
     "end_time": "2024-10-30T18:24:21.298084",
     "exception": false,
     "start_time": "2024-10-30T18:24:21.274898",
     "status": "completed"
    },
    "tags": []
   },
   "outputs": [
    {
     "name": "stdout",
     "output_type": "stream",
     "text": [
      "3\n"
     ]
    }
   ],
   "source": [
    "test_value = 2.17\n",
    "\n",
    "rounded_value = math.ceil(test_value)\n",
    "print(rounded_value)"
   ]
  },
  {
   "cell_type": "markdown",
   "id": "3c019f2b",
   "metadata": {
    "papermill": {
     "duration": 0.01007,
     "end_time": "2024-10-30T18:24:21.318237",
     "exception": false,
     "start_time": "2024-10-30T18:24:21.308167",
     "status": "completed"
    },
    "tags": []
   },
   "source": [
    "Use the next code cell to define the function `get_actual_cost()`.  You'll need to use the `math.ceil()` function to do this.\n",
    "\n",
    "When answering this question, note that it's completely valid to define a function that makes use of another function.  For instance, we can define a function `round_up_and_divide_by_three` that makes use of the `math.ceil` function:\n",
    "```\n",
    "def round_up_and_divide_by_three(num):\n",
    "    new_value = math.ceil(num)\n",
    "    final_value = new_value / 3\n",
    "    return final_value\n",
    "```"
   ]
  },
  {
   "cell_type": "code",
   "execution_count": 11,
   "id": "7876d379",
   "metadata": {
    "execution": {
     "iopub.execute_input": "2024-10-30T18:24:21.339403Z",
     "iopub.status.busy": "2024-10-30T18:24:21.338934Z",
     "iopub.status.idle": "2024-10-30T18:24:21.349609Z",
     "shell.execute_reply": "2024-10-30T18:24:21.348430Z"
    },
    "papermill": {
     "duration": 0.024355,
     "end_time": "2024-10-30T18:24:21.352252",
     "exception": false,
     "start_time": "2024-10-30T18:24:21.327897",
     "status": "completed"
    },
    "tags": []
   },
   "outputs": [
    {
     "data": {
      "application/javascript": [
       "parent.postMessage({\"jupyterEvent\": \"custom.exercise_interaction\", \"data\": {\"outcomeType\": 2, \"failureMessage\": \"Expected return value of `30` given `sqft_walls=432`, `sqft_ceiling=144`, `sqft_per_gallon=400`, `cost_per_gallon=15`, but got `<learntools.core.constants.PlaceholderValue object at 0x7e5353d4caf0>` instead.\", \"interactionType\": 1, \"questionType\": 2, \"questionId\": \"5_NoMoreFractions\", \"learnToolsVersion\": \"0.3.4\", \"valueTowardsCompletion\": 0.0, \"exceptionClass\": \"\", \"trace\": \"\"}}, \"*\")"
      ],
      "text/plain": [
       "<IPython.core.display.Javascript object>"
      ]
     },
     "metadata": {},
     "output_type": "display_data"
    },
    {
     "data": {
      "text/markdown": [
       "<span style=\"color:#cc3333\">Incorrect:</span> Expected return value of `30` given `sqft_walls=432`, `sqft_ceiling=144`, `sqft_per_gallon=400`, `cost_per_gallon=15`, but got `<learntools.core.constants.PlaceholderValue object at 0x7e5353d4caf0>` instead."
      ],
      "text/plain": [
       "Incorrect: Expected return value of `30` given `sqft_walls=432`, `sqft_ceiling=144`, `sqft_per_gallon=400`, `cost_per_gallon=15`, but got `<learntools.core.constants.PlaceholderValue object at 0x7e5353d4caf0>` instead."
      ]
     },
     "metadata": {},
     "output_type": "display_data"
    }
   ],
   "source": [
    "def get_actual_cost(sqft_walls, sqft_ceiling, sqft_per_gallon, cost_per_gallon):\n",
    "    cost = ____\n",
    "    return cost\n",
    "\n",
    "# Check your answer\n",
    "q5.check()"
   ]
  },
  {
   "cell_type": "code",
   "execution_count": 12,
   "id": "04caa6bb",
   "metadata": {
    "execution": {
     "iopub.execute_input": "2024-10-30T18:24:21.374913Z",
     "iopub.status.busy": "2024-10-30T18:24:21.374470Z",
     "iopub.status.idle": "2024-10-30T18:24:21.384123Z",
     "shell.execute_reply": "2024-10-30T18:24:21.382895Z"
    },
    "papermill": {
     "duration": 0.024208,
     "end_time": "2024-10-30T18:24:21.386606",
     "exception": false,
     "start_time": "2024-10-30T18:24:21.362398",
     "status": "completed"
    },
    "tags": []
   },
   "outputs": [
    {
     "data": {
      "application/javascript": [
       "parent.postMessage({\"jupyterEvent\": \"custom.exercise_interaction\", \"data\": {\"interactionType\": 2, \"questionType\": 2, \"questionId\": \"5_NoMoreFractions\", \"learnToolsVersion\": \"0.3.4\", \"valueTowardsCompletion\": 0.0, \"failureMessage\": \"\", \"exceptionClass\": \"\", \"trace\": \"\", \"outcomeType\": 4}}, \"*\")"
      ],
      "text/plain": [
       "<IPython.core.display.Javascript object>"
      ]
     },
     "metadata": {},
     "output_type": "display_data"
    },
    {
     "data": {
      "text/markdown": [
       "<span style=\"color:#3366cc\">Hint:</span> Begin with the `get_cost()` function as a starting point.  The only change you need to make is to add `math.ceil()` to round up the number of gallons that need to be purchased. Can you figure out where to add it to the function?"
      ],
      "text/plain": [
       "Hint: Begin with the `get_cost()` function as a starting point.  The only change you need to make is to add `math.ceil()` to round up the number of gallons that need to be purchased. Can you figure out where to add it to the function?"
      ]
     },
     "metadata": {},
     "output_type": "display_data"
    }
   ],
   "source": [
    "# Uncomment to see a hint\n",
    "q5.hint()\n",
    "\n",
    "# Uncomment to view the solution\n",
    "#q5.solution()"
   ]
  },
  {
   "cell_type": "markdown",
   "id": "36ab6347",
   "metadata": {
    "papermill": {
     "duration": 0.011863,
     "end_time": "2024-10-30T18:24:21.409244",
     "exception": false,
     "start_time": "2024-10-30T18:24:21.397381",
     "status": "completed"
    },
    "tags": []
   },
   "source": [
    "Once your function is verified as correct, run the next code cell to calculate the updated cost of your project."
   ]
  },
  {
   "cell_type": "code",
   "execution_count": 13,
   "id": "e209c809",
   "metadata": {
    "execution": {
     "iopub.execute_input": "2024-10-30T18:24:21.433173Z",
     "iopub.status.busy": "2024-10-30T18:24:21.432749Z",
     "iopub.status.idle": "2024-10-30T18:24:21.440888Z",
     "shell.execute_reply": "2024-10-30T18:24:21.439633Z"
    },
    "papermill": {
     "duration": 0.024012,
     "end_time": "2024-10-30T18:24:21.443685",
     "exception": false,
     "start_time": "2024-10-30T18:24:21.419673",
     "status": "completed"
    },
    "tags": []
   },
   "outputs": [
    {
     "data": {
      "text/markdown": [],
      "text/plain": [
       "<learntools.core.constants.PlaceholderValue at 0x7e5353d4caf0>"
      ]
     },
     "execution_count": 13,
     "metadata": {},
     "output_type": "execute_result"
    }
   ],
   "source": [
    "get_actual_cost(432, 144, 400, 15) "
   ]
  },
  {
   "cell_type": "markdown",
   "id": "5905edb8",
   "metadata": {
    "papermill": {
     "duration": 0.010836,
     "end_time": "2024-10-30T18:24:21.466315",
     "exception": false,
     "start_time": "2024-10-30T18:24:21.455479",
     "status": "completed"
    },
    "tags": []
   },
   "source": [
    "Say you're working with a slightly larger room.  Run the next code cell to calculate the cost of the project."
   ]
  },
  {
   "cell_type": "code",
   "execution_count": 14,
   "id": "68c8d056",
   "metadata": {
    "execution": {
     "iopub.execute_input": "2024-10-30T18:24:21.491486Z",
     "iopub.status.busy": "2024-10-30T18:24:21.490886Z",
     "iopub.status.idle": "2024-10-30T18:24:21.499394Z",
     "shell.execute_reply": "2024-10-30T18:24:21.498045Z"
    },
    "papermill": {
     "duration": 0.024058,
     "end_time": "2024-10-30T18:24:21.502046",
     "exception": false,
     "start_time": "2024-10-30T18:24:21.477988",
     "status": "completed"
    },
    "tags": []
   },
   "outputs": [
    {
     "data": {
      "text/markdown": [],
      "text/plain": [
       "<learntools.core.constants.PlaceholderValue at 0x7e5353d4caf0>"
      ]
     },
     "execution_count": 14,
     "metadata": {},
     "output_type": "execute_result"
    }
   ],
   "source": [
    "get_actual_cost(594, 288, 400, 15) "
   ]
  },
  {
   "cell_type": "markdown",
   "id": "6e2b9d49",
   "metadata": {
    "papermill": {
     "duration": 0.011201,
     "end_time": "2024-10-30T18:24:21.524375",
     "exception": false,
     "start_time": "2024-10-30T18:24:21.513174",
     "status": "completed"
    },
    "tags": []
   },
   "source": [
    "# Keep going\n",
    "\n",
    "Continue to learn about **[data types](https://www.kaggle.com/alexisbcook/data-types)**."
   ]
  },
  {
   "cell_type": "markdown",
   "id": "48ebd895",
   "metadata": {
    "papermill": {
     "duration": 0.011031,
     "end_time": "2024-10-30T18:24:21.546662",
     "exception": false,
     "start_time": "2024-10-30T18:24:21.535631",
     "status": "completed"
    },
    "tags": []
   },
   "source": [
    "---\n",
    "\n",
    "\n",
    "\n",
    "\n",
    "*Have questions or comments? Visit the [course discussion forum](https://www.kaggle.com/learn/intro-to-programming/discussion) to chat with other learners.*"
   ]
  }
 ],
 "metadata": {
  "kaggle": {
   "accelerator": "none",
   "dataSources": [],
   "isGpuEnabled": false,
   "isInternetEnabled": false,
   "language": "python",
   "sourceType": "notebook"
  },
  "kernelspec": {
   "display_name": "Python 3",
   "language": "python",
   "name": "python3"
  },
  "language_info": {
   "codemirror_mode": {
    "name": "ipython",
    "version": 3
   },
   "file_extension": ".py",
   "mimetype": "text/x-python",
   "name": "python",
   "nbconvert_exporter": "python",
   "pygments_lexer": "ipython3",
   "version": "3.10.14"
  },
  "papermill": {
   "default_parameters": {},
   "duration": 5.594417,
   "end_time": "2024-10-30T18:24:22.081613",
   "environment_variables": {},
   "exception": null,
   "input_path": "__notebook__.ipynb",
   "output_path": "__notebook__.ipynb",
   "parameters": {},
   "start_time": "2024-10-30T18:24:16.487196",
   "version": "2.6.0"
  }
 },
 "nbformat": 4,
 "nbformat_minor": 5
}
