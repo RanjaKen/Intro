{
 "cells": [
  {
   "cell_type": "markdown",
   "id": "16a8ffe8",
   "metadata": {
    "papermill": {
     "duration": 0.008907,
     "end_time": "2024-10-30T18:22:10.943046",
     "exception": false,
     "start_time": "2024-10-30T18:22:10.934139",
     "status": "completed"
    },
    "tags": []
   },
   "source": [
    "**This notebook is an exercise in the [Intro to Programming](https://www.kaggle.com/learn/intro-to-programming) course.  You can reference the tutorial at [this link](https://www.kaggle.com/alexisbcook/functions).**\n",
    "\n",
    "---\n"
   ]
  },
  {
   "cell_type": "markdown",
   "id": "a5ce2d08",
   "metadata": {
    "papermill": {
     "duration": 0.007653,
     "end_time": "2024-10-30T18:22:10.959078",
     "exception": false,
     "start_time": "2024-10-30T18:22:10.951425",
     "status": "completed"
    },
    "tags": []
   },
   "source": [
    "In the tutorial, you learned about functions. In this exercise, you'll write some of your own!\n",
    "\n",
    "# Set up the notebook\n",
    "\n",
    "Run the next code cell without changes to set up the notebook."
   ]
  },
  {
   "cell_type": "code",
   "execution_count": 1,
   "id": "5fed2d98",
   "metadata": {
    "execution": {
     "iopub.execute_input": "2024-10-30T18:22:10.977098Z",
     "iopub.status.busy": "2024-10-30T18:22:10.976649Z",
     "iopub.status.idle": "2024-10-30T18:22:12.120505Z",
     "shell.execute_reply": "2024-10-30T18:22:12.119170Z"
    },
    "papermill": {
     "duration": 1.156278,
     "end_time": "2024-10-30T18:22:12.123433",
     "exception": false,
     "start_time": "2024-10-30T18:22:10.967155",
     "status": "completed"
    },
    "tags": []
   },
   "outputs": [
    {
     "name": "stdout",
     "output_type": "stream",
     "text": [
      "Setup complete.\n"
     ]
    }
   ],
   "source": [
    "# Set up the exercise\n",
    "import math\n",
    "from learntools.core import binder\n",
    "binder.bind(globals())\n",
    "from learntools.intro_to_programming.ex2 import *\n",
    "print('Setup complete.')"
   ]
  },
  {
   "cell_type": "markdown",
   "id": "da10218f",
   "metadata": {
    "papermill": {
     "duration": 0.007887,
     "end_time": "2024-10-30T18:22:12.139642",
     "exception": false,
     "start_time": "2024-10-30T18:22:12.131755",
     "status": "completed"
    },
    "tags": []
   },
   "source": [
    "# Question 1\n",
    "\n",
    "In the [House Prices - Advanced Regression Techniques competition](https://www.kaggle.com/c/house-prices-advanced-regression-techniques/overview), you need to use information like the number of bedrooms and bathrooms to predict the price of a house.  Inspired by this competition, you'll write your own function to do this.\n",
    "\n",
    "In the next code cell, create a function `get_expected_cost()` that has two arguments:\n",
    "- `beds` - number of bedrooms \n",
    "- `baths` - number of bathrooms\n",
    "\n",
    "It should return the expected cost of a house with that number of bedrooms and bathrooms.  Assume that:\n",
    "- the expected cost for a house with 0 bedrooms and 0 bathrooms is `80000`.  \n",
    "- each bedroom adds `30000` to the expected cost\n",
    "- each bathroom adds `10000` to the expected cost.\n",
    "\n",
    "For instance, \n",
    "- a house with 1 bedroom and 1 bathroom has an expected cost of `120000`, and \n",
    "- a house with 2 bedrooms and 1 bathroom has an expected cost of `150000`."
   ]
  },
  {
   "cell_type": "code",
   "execution_count": 2,
   "id": "fb132061",
   "metadata": {
    "execution": {
     "iopub.execute_input": "2024-10-30T18:22:12.158892Z",
     "iopub.status.busy": "2024-10-30T18:22:12.158310Z",
     "iopub.status.idle": "2024-10-30T18:22:12.170657Z",
     "shell.execute_reply": "2024-10-30T18:22:12.169538Z"
    },
    "papermill": {
     "duration": 0.024668,
     "end_time": "2024-10-30T18:22:12.173225",
     "exception": false,
     "start_time": "2024-10-30T18:22:12.148557",
     "status": "completed"
    },
    "tags": []
   },
   "outputs": [
    {
     "data": {
      "application/javascript": [
       "parent.postMessage({\"jupyterEvent\": \"custom.exercise_interaction\", \"data\": {\"outcomeType\": 1, \"valueTowardsCompletion\": 0.2, \"interactionType\": 1, \"questionType\": 2, \"questionId\": \"1_GetExpectedCost\", \"learnToolsVersion\": \"0.3.4\", \"failureMessage\": \"\", \"exceptionClass\": \"\", \"trace\": \"\"}}, \"*\")"
      ],
      "text/plain": [
       "<IPython.core.display.Javascript object>"
      ]
     },
     "metadata": {},
     "output_type": "display_data"
    },
    {
     "data": {
      "text/markdown": [
       "<span style=\"color:#33cc33\">Correct</span>"
      ],
      "text/plain": [
       "Correct"
      ]
     },
     "metadata": {},
     "output_type": "display_data"
    }
   ],
   "source": [
    "# TODO: Complete the function\n",
    "def get_expected_cost(beds, baths):\n",
    "    \n",
    "    value = 80000 + 30000 * beds + 10000 * baths\n",
    "    return value\n",
    "\n",
    "# Check your answer \n",
    "q1.check()"
   ]
  },
  {
   "cell_type": "code",
   "execution_count": 3,
   "id": "8c5d60ae",
   "metadata": {
    "execution": {
     "iopub.execute_input": "2024-10-30T18:22:12.193895Z",
     "iopub.status.busy": "2024-10-30T18:22:12.193486Z",
     "iopub.status.idle": "2024-10-30T18:22:12.198321Z",
     "shell.execute_reply": "2024-10-30T18:22:12.197150Z"
    },
    "papermill": {
     "duration": 0.01764,
     "end_time": "2024-10-30T18:22:12.200764",
     "exception": false,
     "start_time": "2024-10-30T18:22:12.183124",
     "status": "completed"
    },
    "tags": []
   },
   "outputs": [],
   "source": [
    "# Uncomment to see a hint\n",
    "#q1.hint()\n",
    "\n",
    "# Uncomment to view the solution\n",
    "#q1.solution()"
   ]
  },
  {
   "cell_type": "markdown",
   "id": "1bcd2097",
   "metadata": {
    "papermill": {
     "duration": 0.008212,
     "end_time": "2024-10-30T18:22:12.217494",
     "exception": false,
     "start_time": "2024-10-30T18:22:12.209282",
     "status": "completed"
    },
    "tags": []
   },
   "source": [
    "# Question 2\n",
    "\n",
    "You are thinking about buying a home and want to get an idea of how much you will spend, based on the number of bedrooms and bathrooms.  You are trying to decide between four different options:\n",
    "- Option 1: house with two bedrooms and three bathrooms\n",
    "- Option 2: house with three bedrooms and two bathrooms\n",
    "- Option 3: house with three bedrooms and three bathrooms\n",
    "- Option 4: house with three bedrooms and four bathrooms\n",
    "\n",
    "Use the `get_expected_cost()` function you defined in question 1 to set `option_1`, `option_2`, `option_3`, and `option_4` to the expected cost of each option."
   ]
  },
  {
   "cell_type": "code",
   "execution_count": 4,
   "id": "3e656704",
   "metadata": {
    "execution": {
     "iopub.execute_input": "2024-10-30T18:22:12.236756Z",
     "iopub.status.busy": "2024-10-30T18:22:12.235653Z",
     "iopub.status.idle": "2024-10-30T18:22:12.248811Z",
     "shell.execute_reply": "2024-10-30T18:22:12.247573Z"
    },
    "papermill": {
     "duration": 0.025731,
     "end_time": "2024-10-30T18:22:12.251568",
     "exception": false,
     "start_time": "2024-10-30T18:22:12.225837",
     "status": "completed"
    },
    "tags": []
   },
   "outputs": [
    {
     "name": "stdout",
     "output_type": "stream",
     "text": [
      "170000\n",
      "190000\n",
      "200000\n",
      "210000\n"
     ]
    },
    {
     "data": {
      "application/javascript": [
       "parent.postMessage({\"jupyterEvent\": \"custom.exercise_interaction\", \"data\": {\"outcomeType\": 1, \"valueTowardsCompletion\": 0.2, \"interactionType\": 1, \"questionType\": 1, \"questionId\": \"2_RunGetExpectedCost\", \"learnToolsVersion\": \"0.3.4\", \"failureMessage\": \"\", \"exceptionClass\": \"\", \"trace\": \"\"}}, \"*\")"
      ],
      "text/plain": [
       "<IPython.core.display.Javascript object>"
      ]
     },
     "metadata": {},
     "output_type": "display_data"
    },
    {
     "data": {
      "text/markdown": [
       "<span style=\"color:#33cc33\">Correct</span>"
      ],
      "text/plain": [
       "Correct"
      ]
     },
     "metadata": {},
     "output_type": "display_data"
    }
   ],
   "source": [
    "# TODO: Use the get_expected_cost function to fill in each value\n",
    "option_one = get_expected_cost(2,3)\n",
    "option_two = get_expected_cost(3,2)\n",
    "option_three = get_expected_cost(3,3)\n",
    "option_four = get_expected_cost(3,4)\n",
    "\n",
    "print(option_one)\n",
    "print(option_two)\n",
    "print(option_three)\n",
    "print(option_four)\n",
    "\n",
    "# Check your answer\n",
    "q2.check()"
   ]
  },
  {
   "cell_type": "code",
   "execution_count": 5,
   "id": "e08836e5",
   "metadata": {
    "execution": {
     "iopub.execute_input": "2024-10-30T18:22:12.271511Z",
     "iopub.status.busy": "2024-10-30T18:22:12.271047Z",
     "iopub.status.idle": "2024-10-30T18:22:12.276172Z",
     "shell.execute_reply": "2024-10-30T18:22:12.275006Z"
    },
    "papermill": {
     "duration": 0.018218,
     "end_time": "2024-10-30T18:22:12.278823",
     "exception": false,
     "start_time": "2024-10-30T18:22:12.260605",
     "status": "completed"
    },
    "tags": []
   },
   "outputs": [],
   "source": [
    "# Uncomment to see a hint\n",
    "#q2.hint()\n",
    "\n",
    "# Uncomment to view the solution\n",
    "#q2.solution()"
   ]
  },
  {
   "cell_type": "markdown",
   "id": "7be477e6",
   "metadata": {
    "papermill": {
     "duration": 0.008756,
     "end_time": "2024-10-30T18:22:12.296537",
     "exception": false,
     "start_time": "2024-10-30T18:22:12.287781",
     "status": "completed"
    },
    "tags": []
   },
   "source": [
    "# Question 3\n",
    "\n",
    "You're a home decorator, and you'd like to use Python to streamline some of your work.  Specifically, you're creating a tool that you intend to use to calculate the cost of painting a room.\n",
    "\n",
    "As a first step, define a function `get_cost()` that takes as input:\n",
    "- `sqft_walls` = total square feet of walls to be painted\n",
    "- `sqft_ceiling` = square feet of ceiling to be painted\n",
    "- `sqft_per_gallon` = number of square feet that you can cover with one gallon of paint\n",
    "- `cost_per_gallon` = cost (in dollars) of one gallon of paint\n",
    "\n",
    "It should return the cost (in dollars) of putting one coat of paint on all walls and the ceiling.  Assume you can buy the exact amount of paint that you need, so you can buy partial gallons (e.g., if you need 7.523 gallons, you can buy that exact amount, instead of needing to buy 8 gallons and waste some paint).  Do not round your answer."
   ]
  },
  {
   "cell_type": "code",
   "execution_count": 6,
   "id": "812b9b4d",
   "metadata": {
    "execution": {
     "iopub.execute_input": "2024-10-30T18:22:12.316257Z",
     "iopub.status.busy": "2024-10-30T18:22:12.315820Z",
     "iopub.status.idle": "2024-10-30T18:22:12.326867Z",
     "shell.execute_reply": "2024-10-30T18:22:12.325787Z"
    },
    "papermill": {
     "duration": 0.023961,
     "end_time": "2024-10-30T18:22:12.329392",
     "exception": false,
     "start_time": "2024-10-30T18:22:12.305431",
     "status": "completed"
    },
    "tags": []
   },
   "outputs": [
    {
     "data": {
      "application/javascript": [
       "parent.postMessage({\"jupyterEvent\": \"custom.exercise_interaction\", \"data\": {\"outcomeType\": 1, \"valueTowardsCompletion\": 0.2, \"interactionType\": 1, \"questionType\": 2, \"questionId\": \"3_GetCostPaint\", \"learnToolsVersion\": \"0.3.4\", \"failureMessage\": \"\", \"exceptionClass\": \"\", \"trace\": \"\"}}, \"*\")"
      ],
      "text/plain": [
       "<IPython.core.display.Javascript object>"
      ]
     },
     "metadata": {},
     "output_type": "display_data"
    },
    {
     "data": {
      "text/markdown": [
       "<span style=\"color:#33cc33\">Correct</span>"
      ],
      "text/plain": [
       "Correct"
      ]
     },
     "metadata": {},
     "output_type": "display_data"
    }
   ],
   "source": [
    "# TODO: Finish defining the function\n",
    "def get_cost(sqft_walls, sqft_ceiling, sqft_per_gallon, cost_per_gallon):\n",
    "    total = sqft_walls + sqft_ceiling\n",
    "    needed = total / sqft_per_gallon\n",
    "\n",
    "    \n",
    "    \n",
    "    cost = needed * cost_per_gallon\n",
    "    return cost\n",
    "\n",
    "# Check your answer\n",
    "q3.check()"
   ]
  },
  {
   "cell_type": "code",
   "execution_count": 7,
   "id": "1bc9582f",
   "metadata": {
    "execution": {
     "iopub.execute_input": "2024-10-30T18:22:12.350558Z",
     "iopub.status.busy": "2024-10-30T18:22:12.350130Z",
     "iopub.status.idle": "2024-10-30T18:22:12.355209Z",
     "shell.execute_reply": "2024-10-30T18:22:12.354085Z"
    },
    "papermill": {
     "duration": 0.018975,
     "end_time": "2024-10-30T18:22:12.357901",
     "exception": false,
     "start_time": "2024-10-30T18:22:12.338926",
     "status": "completed"
    },
    "tags": []
   },
   "outputs": [],
   "source": [
    "# Uncomment to see a hint\n",
    "#q3.hint()\n",
    "\n",
    "# Uncomment to view the solution\n",
    "#q3.solution()"
   ]
  },
  {
   "cell_type": "markdown",
   "id": "4a92951e",
   "metadata": {
    "papermill": {
     "duration": 0.008969,
     "end_time": "2024-10-30T18:22:12.376127",
     "exception": false,
     "start_time": "2024-10-30T18:22:12.367158",
     "status": "completed"
    },
    "tags": []
   },
   "source": [
    "# Question 4\n",
    "\n",
    "Use the `get_cost()` function you defined in Question 3 to calculate the cost of applying one coat of paint to a room with:\n",
    "- 432 square feet of walls, and\n",
    "- 144 square feet of ceiling.\n",
    "\n",
    "Assume that one gallon of paint covers 400 square feet and costs $15.  As in Question 3, assume you can buy partial gallons of paint.  Do not round your answer."
   ]
  },
  {
   "cell_type": "code",
   "execution_count": 8,
   "id": "35a999ed",
   "metadata": {
    "execution": {
     "iopub.execute_input": "2024-10-30T18:22:12.396843Z",
     "iopub.status.busy": "2024-10-30T18:22:12.396366Z",
     "iopub.status.idle": "2024-10-30T18:22:12.406584Z",
     "shell.execute_reply": "2024-10-30T18:22:12.405410Z"
    },
    "papermill": {
     "duration": 0.023674,
     "end_time": "2024-10-30T18:22:12.409170",
     "exception": false,
     "start_time": "2024-10-30T18:22:12.385496",
     "status": "completed"
    },
    "tags": []
   },
   "outputs": [
    {
     "data": {
      "application/javascript": [
       "parent.postMessage({\"jupyterEvent\": \"custom.exercise_interaction\", \"data\": {\"outcomeType\": 1, \"valueTowardsCompletion\": 0.2, \"interactionType\": 1, \"questionType\": 1, \"questionId\": \"4_GetCostPaintExample\", \"learnToolsVersion\": \"0.3.4\", \"failureMessage\": \"\", \"exceptionClass\": \"\", \"trace\": \"\"}}, \"*\")"
      ],
      "text/plain": [
       "<IPython.core.display.Javascript object>"
      ]
     },
     "metadata": {},
     "output_type": "display_data"
    },
    {
     "data": {
      "text/markdown": [
       "<span style=\"color:#33cc33\">Correct</span>"
      ],
      "text/plain": [
       "Correct"
      ]
     },
     "metadata": {},
     "output_type": "display_data"
    }
   ],
   "source": [
    "# TODO: Set the project_cost variable to the cost of the project\n",
    "project_cost = get_cost(432, 144, 400, 15)\n",
    "\n",
    "# Check your answer\n",
    "q4.check()"
   ]
  },
  {
   "cell_type": "code",
   "execution_count": 9,
   "id": "a74883f5",
   "metadata": {
    "execution": {
     "iopub.execute_input": "2024-10-30T18:22:12.430230Z",
     "iopub.status.busy": "2024-10-30T18:22:12.429819Z",
     "iopub.status.idle": "2024-10-30T18:22:12.435076Z",
     "shell.execute_reply": "2024-10-30T18:22:12.433833Z"
    },
    "papermill": {
     "duration": 0.018928,
     "end_time": "2024-10-30T18:22:12.437811",
     "exception": false,
     "start_time": "2024-10-30T18:22:12.418883",
     "status": "completed"
    },
    "tags": []
   },
   "outputs": [],
   "source": [
    "# Uncomment to see a hint\n",
    "#q4.hint()\n",
    "\n",
    "# Uncomment to view the solution\n",
    "#q4.solution()"
   ]
  },
  {
   "cell_type": "markdown",
   "id": "bc952653",
   "metadata": {
    "papermill": {
     "duration": 0.009279,
     "end_time": "2024-10-30T18:22:12.456736",
     "exception": false,
     "start_time": "2024-10-30T18:22:12.447457",
     "status": "completed"
    },
    "tags": []
   },
   "source": [
    "# 🌶️ Question 5\n",
    "\n",
    "Now say you can no longer buy fractions of a gallon.  (For instance, if you need 4.3 gallons to do a project, then you have to buy 5 gallons of paint.)\n",
    "\n",
    "With this new scenario, you will create a new function `get_actual_cost` that uses the same inputs and calculates the cost of your project.\n",
    "\n",
    "One function that you'll need to use to do this is `math.ceil()`.  We demonstrate usage of this function in the code cell below.  It takes as a number as input and rounds the number up to the nearest integer.  \n",
    "\n",
    "Run the next code cell to test this function for yourself.  Feel free to change the value of `test_value` and make sure `math.ceil()` returns the number you expect."
   ]
  },
  {
   "cell_type": "code",
   "execution_count": 10,
   "id": "00625ca6",
   "metadata": {
    "execution": {
     "iopub.execute_input": "2024-10-30T18:22:12.477479Z",
     "iopub.status.busy": "2024-10-30T18:22:12.477009Z",
     "iopub.status.idle": "2024-10-30T18:22:12.483159Z",
     "shell.execute_reply": "2024-10-30T18:22:12.481992Z"
    },
    "papermill": {
     "duration": 0.019998,
     "end_time": "2024-10-30T18:22:12.486159",
     "exception": false,
     "start_time": "2024-10-30T18:22:12.466161",
     "status": "completed"
    },
    "tags": []
   },
   "outputs": [
    {
     "name": "stdout",
     "output_type": "stream",
     "text": [
      "3\n"
     ]
    }
   ],
   "source": [
    "test_value = 2.17\n",
    "\n",
    "rounded_value = math.ceil(test_value)\n",
    "print(rounded_value)"
   ]
  },
  {
   "cell_type": "markdown",
   "id": "e312c7d4",
   "metadata": {
    "papermill": {
     "duration": 0.009345,
     "end_time": "2024-10-30T18:22:12.505209",
     "exception": false,
     "start_time": "2024-10-30T18:22:12.495864",
     "status": "completed"
    },
    "tags": []
   },
   "source": [
    "Use the next code cell to define the function `get_actual_cost()`.  You'll need to use the `math.ceil()` function to do this.\n",
    "\n",
    "When answering this question, note that it's completely valid to define a function that makes use of another function.  For instance, we can define a function `round_up_and_divide_by_three` that makes use of the `math.ceil` function:\n",
    "```\n",
    "def round_up_and_divide_by_three(num):\n",
    "    new_value = math.ceil(num)\n",
    "    final_value = new_value / 3\n",
    "    return final_value\n",
    "```"
   ]
  },
  {
   "cell_type": "code",
   "execution_count": 11,
   "id": "81d68f3d",
   "metadata": {
    "execution": {
     "iopub.execute_input": "2024-10-30T18:22:12.526393Z",
     "iopub.status.busy": "2024-10-30T18:22:12.525914Z",
     "iopub.status.idle": "2024-10-30T18:22:12.536767Z",
     "shell.execute_reply": "2024-10-30T18:22:12.535420Z"
    },
    "papermill": {
     "duration": 0.024503,
     "end_time": "2024-10-30T18:22:12.539485",
     "exception": false,
     "start_time": "2024-10-30T18:22:12.514982",
     "status": "completed"
    },
    "tags": []
   },
   "outputs": [
    {
     "data": {
      "application/javascript": [
       "parent.postMessage({\"jupyterEvent\": \"custom.exercise_interaction\", \"data\": {\"outcomeType\": 2, \"failureMessage\": \"Expected return value of `30` given `sqft_walls=432`, `sqft_ceiling=144`, `sqft_per_gallon=400`, `cost_per_gallon=15`, but got `<learntools.core.constants.PlaceholderValue object at 0x7c2882834af0>` instead.\", \"interactionType\": 1, \"questionType\": 2, \"questionId\": \"5_NoMoreFractions\", \"learnToolsVersion\": \"0.3.4\", \"valueTowardsCompletion\": 0.0, \"exceptionClass\": \"\", \"trace\": \"\"}}, \"*\")"
      ],
      "text/plain": [
       "<IPython.core.display.Javascript object>"
      ]
     },
     "metadata": {},
     "output_type": "display_data"
    },
    {
     "data": {
      "text/markdown": [
       "<span style=\"color:#cc3333\">Incorrect:</span> Expected return value of `30` given `sqft_walls=432`, `sqft_ceiling=144`, `sqft_per_gallon=400`, `cost_per_gallon=15`, but got `<learntools.core.constants.PlaceholderValue object at 0x7c2882834af0>` instead."
      ],
      "text/plain": [
       "Incorrect: Expected return value of `30` given `sqft_walls=432`, `sqft_ceiling=144`, `sqft_per_gallon=400`, `cost_per_gallon=15`, but got `<learntools.core.constants.PlaceholderValue object at 0x7c2882834af0>` instead."
      ]
     },
     "metadata": {},
     "output_type": "display_data"
    }
   ],
   "source": [
    "def get_actual_cost(sqft_walls, sqft_ceiling, sqft_per_gallon, cost_per_gallon):\n",
    "    cost = ____\n",
    "    return cost\n",
    "\n",
    "# Check your answer\n",
    "q5.check()"
   ]
  },
  {
   "cell_type": "code",
   "execution_count": 12,
   "id": "44d8c76d",
   "metadata": {
    "execution": {
     "iopub.execute_input": "2024-10-30T18:22:12.562216Z",
     "iopub.status.busy": "2024-10-30T18:22:12.561177Z",
     "iopub.status.idle": "2024-10-30T18:22:12.566678Z",
     "shell.execute_reply": "2024-10-30T18:22:12.565458Z"
    },
    "papermill": {
     "duration": 0.019662,
     "end_time": "2024-10-30T18:22:12.569245",
     "exception": false,
     "start_time": "2024-10-30T18:22:12.549583",
     "status": "completed"
    },
    "tags": []
   },
   "outputs": [],
   "source": [
    "# Uncomment to see a hint\n",
    "#q5.hint()\n",
    "\n",
    "# Uncomment to view the solution\n",
    "#q5.solution()"
   ]
  },
  {
   "cell_type": "markdown",
   "id": "afdc613c",
   "metadata": {
    "papermill": {
     "duration": 0.009649,
     "end_time": "2024-10-30T18:22:12.588937",
     "exception": false,
     "start_time": "2024-10-30T18:22:12.579288",
     "status": "completed"
    },
    "tags": []
   },
   "source": [
    "Once your function is verified as correct, run the next code cell to calculate the updated cost of your project."
   ]
  },
  {
   "cell_type": "code",
   "execution_count": 13,
   "id": "6b885815",
   "metadata": {
    "execution": {
     "iopub.execute_input": "2024-10-30T18:22:12.612561Z",
     "iopub.status.busy": "2024-10-30T18:22:12.612107Z",
     "iopub.status.idle": "2024-10-30T18:22:12.619818Z",
     "shell.execute_reply": "2024-10-30T18:22:12.618526Z"
    },
    "papermill": {
     "duration": 0.022546,
     "end_time": "2024-10-30T18:22:12.622409",
     "exception": false,
     "start_time": "2024-10-30T18:22:12.599863",
     "status": "completed"
    },
    "tags": []
   },
   "outputs": [
    {
     "data": {
      "text/markdown": [],
      "text/plain": [
       "<learntools.core.constants.PlaceholderValue at 0x7c2882834af0>"
      ]
     },
     "execution_count": 13,
     "metadata": {},
     "output_type": "execute_result"
    }
   ],
   "source": [
    "get_actual_cost(432, 144, 400, 15) "
   ]
  },
  {
   "cell_type": "markdown",
   "id": "1c75e31f",
   "metadata": {
    "papermill": {
     "duration": 0.009741,
     "end_time": "2024-10-30T18:22:12.642353",
     "exception": false,
     "start_time": "2024-10-30T18:22:12.632612",
     "status": "completed"
    },
    "tags": []
   },
   "source": [
    "Say you're working with a slightly larger room.  Run the next code cell to calculate the cost of the project."
   ]
  },
  {
   "cell_type": "code",
   "execution_count": 14,
   "id": "37835a46",
   "metadata": {
    "execution": {
     "iopub.execute_input": "2024-10-30T18:22:12.664290Z",
     "iopub.status.busy": "2024-10-30T18:22:12.663861Z",
     "iopub.status.idle": "2024-10-30T18:22:12.671541Z",
     "shell.execute_reply": "2024-10-30T18:22:12.670439Z"
    },
    "papermill": {
     "duration": 0.021728,
     "end_time": "2024-10-30T18:22:12.674049",
     "exception": false,
     "start_time": "2024-10-30T18:22:12.652321",
     "status": "completed"
    },
    "tags": []
   },
   "outputs": [
    {
     "data": {
      "text/markdown": [],
      "text/plain": [
       "<learntools.core.constants.PlaceholderValue at 0x7c2882834af0>"
      ]
     },
     "execution_count": 14,
     "metadata": {},
     "output_type": "execute_result"
    }
   ],
   "source": [
    "get_actual_cost(594, 288, 400, 15) "
   ]
  },
  {
   "cell_type": "markdown",
   "id": "0a0ab984",
   "metadata": {
    "papermill": {
     "duration": 0.009888,
     "end_time": "2024-10-30T18:22:12.694439",
     "exception": false,
     "start_time": "2024-10-30T18:22:12.684551",
     "status": "completed"
    },
    "tags": []
   },
   "source": [
    "# Keep going\n",
    "\n",
    "Continue to learn about **[data types](https://www.kaggle.com/alexisbcook/data-types)**."
   ]
  },
  {
   "cell_type": "markdown",
   "id": "7afc1f22",
   "metadata": {
    "papermill": {
     "duration": 0.009927,
     "end_time": "2024-10-30T18:22:12.714532",
     "exception": false,
     "start_time": "2024-10-30T18:22:12.704605",
     "status": "completed"
    },
    "tags": []
   },
   "source": [
    "---\n",
    "\n",
    "\n",
    "\n",
    "\n",
    "*Have questions or comments? Visit the [course discussion forum](https://www.kaggle.com/learn/intro-to-programming/discussion) to chat with other learners.*"
   ]
  }
 ],
 "metadata": {
  "kaggle": {
   "accelerator": "none",
   "dataSources": [],
   "isGpuEnabled": false,
   "isInternetEnabled": false,
   "language": "python",
   "sourceType": "notebook"
  },
  "kernelspec": {
   "display_name": "Python 3",
   "language": "python",
   "name": "python3"
  },
  "language_info": {
   "codemirror_mode": {
    "name": "ipython",
    "version": 3
   },
   "file_extension": ".py",
   "mimetype": "text/x-python",
   "name": "python",
   "nbconvert_exporter": "python",
   "pygments_lexer": "ipython3",
   "version": "3.10.14"
  },
  "papermill": {
   "default_parameters": {},
   "duration": 5.656429,
   "end_time": "2024-10-30T18:22:13.246543",
   "environment_variables": {},
   "exception": null,
   "input_path": "__notebook__.ipynb",
   "output_path": "__notebook__.ipynb",
   "parameters": {},
   "start_time": "2024-10-30T18:22:07.590114",
   "version": "2.6.0"
  }
 },
 "nbformat": 4,
 "nbformat_minor": 5
}
