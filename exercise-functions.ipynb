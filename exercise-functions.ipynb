{
 "cells": [
  {
   "cell_type": "markdown",
   "id": "ab61a7a8",
   "metadata": {
    "papermill": {
     "duration": 0.009644,
     "end_time": "2024-10-30T18:31:23.475467",
     "exception": false,
     "start_time": "2024-10-30T18:31:23.465823",
     "status": "completed"
    },
    "tags": []
   },
   "source": [
    "**This notebook is an exercise in the [Intro to Programming](https://www.kaggle.com/learn/intro-to-programming) course.  You can reference the tutorial at [this link](https://www.kaggle.com/alexisbcook/functions).**\n",
    "\n",
    "---\n"
   ]
  },
  {
   "cell_type": "markdown",
   "id": "66b5dff9",
   "metadata": {
    "papermill": {
     "duration": 0.007636,
     "end_time": "2024-10-30T18:31:23.491883",
     "exception": false,
     "start_time": "2024-10-30T18:31:23.484247",
     "status": "completed"
    },
    "tags": []
   },
   "source": [
    "In the tutorial, you learned about functions. In this exercise, you'll write some of your own!\n",
    "\n",
    "# Set up the notebook\n",
    "\n",
    "Run the next code cell without changes to set up the notebook."
   ]
  },
  {
   "cell_type": "code",
   "execution_count": 1,
   "id": "394b9d1c",
   "metadata": {
    "execution": {
     "iopub.execute_input": "2024-10-30T18:31:23.509268Z",
     "iopub.status.busy": "2024-10-30T18:31:23.508827Z",
     "iopub.status.idle": "2024-10-30T18:31:24.517479Z",
     "shell.execute_reply": "2024-10-30T18:31:24.515986Z"
    },
    "papermill": {
     "duration": 1.020256,
     "end_time": "2024-10-30T18:31:24.519904",
     "exception": false,
     "start_time": "2024-10-30T18:31:23.499648",
     "status": "completed"
    },
    "tags": []
   },
   "outputs": [
    {
     "name": "stdout",
     "output_type": "stream",
     "text": [
      "Setup complete.\n"
     ]
    }
   ],
   "source": [
    "# Set up the exercise\n",
    "import math\n",
    "from learntools.core import binder\n",
    "binder.bind(globals())\n",
    "from learntools.intro_to_programming.ex2 import *\n",
    "print('Setup complete.')"
   ]
  },
  {
   "cell_type": "markdown",
   "id": "5369e95c",
   "metadata": {
    "papermill": {
     "duration": 0.007757,
     "end_time": "2024-10-30T18:31:24.535737",
     "exception": false,
     "start_time": "2024-10-30T18:31:24.527980",
     "status": "completed"
    },
    "tags": []
   },
   "source": [
    "# Question 1\n",
    "\n",
    "In the [House Prices - Advanced Regression Techniques competition](https://www.kaggle.com/c/house-prices-advanced-regression-techniques/overview), you need to use information like the number of bedrooms and bathrooms to predict the price of a house.  Inspired by this competition, you'll write your own function to do this.\n",
    "\n",
    "In the next code cell, create a function `get_expected_cost()` that has two arguments:\n",
    "- `beds` - number of bedrooms \n",
    "- `baths` - number of bathrooms\n",
    "\n",
    "It should return the expected cost of a house with that number of bedrooms and bathrooms.  Assume that:\n",
    "- the expected cost for a house with 0 bedrooms and 0 bathrooms is `80000`.  \n",
    "- each bedroom adds `30000` to the expected cost\n",
    "- each bathroom adds `10000` to the expected cost.\n",
    "\n",
    "For instance, \n",
    "- a house with 1 bedroom and 1 bathroom has an expected cost of `120000`, and \n",
    "- a house with 2 bedrooms and 1 bathroom has an expected cost of `150000`."
   ]
  },
  {
   "cell_type": "code",
   "execution_count": 2,
   "id": "4eb9226d",
   "metadata": {
    "execution": {
     "iopub.execute_input": "2024-10-30T18:31:24.553709Z",
     "iopub.status.busy": "2024-10-30T18:31:24.553162Z",
     "iopub.status.idle": "2024-10-30T18:31:24.565352Z",
     "shell.execute_reply": "2024-10-30T18:31:24.564249Z"
    },
    "papermill": {
     "duration": 0.024144,
     "end_time": "2024-10-30T18:31:24.567906",
     "exception": false,
     "start_time": "2024-10-30T18:31:24.543762",
     "status": "completed"
    },
    "tags": []
   },
   "outputs": [
    {
     "data": {
      "application/javascript": [
       "parent.postMessage({\"jupyterEvent\": \"custom.exercise_interaction\", \"data\": {\"outcomeType\": 1, \"valueTowardsCompletion\": 0.2, \"interactionType\": 1, \"questionType\": 2, \"questionId\": \"1_GetExpectedCost\", \"learnToolsVersion\": \"0.3.4\", \"failureMessage\": \"\", \"exceptionClass\": \"\", \"trace\": \"\"}}, \"*\")"
      ],
      "text/plain": [
       "<IPython.core.display.Javascript object>"
      ]
     },
     "metadata": {},
     "output_type": "display_data"
    },
    {
     "data": {
      "text/markdown": [
       "<span style=\"color:#33cc33\">Correct</span>"
      ],
      "text/plain": [
       "Correct"
      ]
     },
     "metadata": {},
     "output_type": "display_data"
    }
   ],
   "source": [
    "# TODO: Complete the function\n",
    "def get_expected_cost(beds, baths):\n",
    "    \n",
    "    value = 80000 + 30000 * beds + 10000 * baths\n",
    "    return value\n",
    "\n",
    "# Check your answer \n",
    "q1.check()"
   ]
  },
  {
   "cell_type": "code",
   "execution_count": 3,
   "id": "9504b319",
   "metadata": {
    "execution": {
     "iopub.execute_input": "2024-10-30T18:31:24.587618Z",
     "iopub.status.busy": "2024-10-30T18:31:24.587197Z",
     "iopub.status.idle": "2024-10-30T18:31:24.592352Z",
     "shell.execute_reply": "2024-10-30T18:31:24.591222Z"
    },
    "papermill": {
     "duration": 0.017198,
     "end_time": "2024-10-30T18:31:24.594674",
     "exception": false,
     "start_time": "2024-10-30T18:31:24.577476",
     "status": "completed"
    },
    "tags": []
   },
   "outputs": [],
   "source": [
    "# Uncomment to see a hint\n",
    "#q1.hint()\n",
    "\n",
    "# Uncomment to view the solution\n",
    "#q1.solution()"
   ]
  },
  {
   "cell_type": "markdown",
   "id": "4d103b65",
   "metadata": {
    "papermill": {
     "duration": 0.008135,
     "end_time": "2024-10-30T18:31:24.611189",
     "exception": false,
     "start_time": "2024-10-30T18:31:24.603054",
     "status": "completed"
    },
    "tags": []
   },
   "source": [
    "# Question 2\n",
    "\n",
    "You are thinking about buying a home and want to get an idea of how much you will spend, based on the number of bedrooms and bathrooms.  You are trying to decide between four different options:\n",
    "- Option 1: house with two bedrooms and three bathrooms\n",
    "- Option 2: house with three bedrooms and two bathrooms\n",
    "- Option 3: house with three bedrooms and three bathrooms\n",
    "- Option 4: house with three bedrooms and four bathrooms\n",
    "\n",
    "Use the `get_expected_cost()` function you defined in question 1 to set `option_1`, `option_2`, `option_3`, and `option_4` to the expected cost of each option."
   ]
  },
  {
   "cell_type": "code",
   "execution_count": 4,
   "id": "98f9f2f7",
   "metadata": {
    "execution": {
     "iopub.execute_input": "2024-10-30T18:31:24.629551Z",
     "iopub.status.busy": "2024-10-30T18:31:24.629116Z",
     "iopub.status.idle": "2024-10-30T18:31:24.640813Z",
     "shell.execute_reply": "2024-10-30T18:31:24.639748Z"
    },
    "papermill": {
     "duration": 0.023693,
     "end_time": "2024-10-30T18:31:24.643184",
     "exception": false,
     "start_time": "2024-10-30T18:31:24.619491",
     "status": "completed"
    },
    "tags": []
   },
   "outputs": [
    {
     "name": "stdout",
     "output_type": "stream",
     "text": [
      "170000\n",
      "190000\n",
      "200000\n",
      "210000\n"
     ]
    },
    {
     "data": {
      "application/javascript": [
       "parent.postMessage({\"jupyterEvent\": \"custom.exercise_interaction\", \"data\": {\"outcomeType\": 1, \"valueTowardsCompletion\": 0.2, \"interactionType\": 1, \"questionType\": 1, \"questionId\": \"2_RunGetExpectedCost\", \"learnToolsVersion\": \"0.3.4\", \"failureMessage\": \"\", \"exceptionClass\": \"\", \"trace\": \"\"}}, \"*\")"
      ],
      "text/plain": [
       "<IPython.core.display.Javascript object>"
      ]
     },
     "metadata": {},
     "output_type": "display_data"
    },
    {
     "data": {
      "text/markdown": [
       "<span style=\"color:#33cc33\">Correct</span>"
      ],
      "text/plain": [
       "Correct"
      ]
     },
     "metadata": {},
     "output_type": "display_data"
    }
   ],
   "source": [
    "# TODO: Use the get_expected_cost function to fill in each value\n",
    "option_one = get_expected_cost(2,3)\n",
    "option_two = get_expected_cost(3,2)\n",
    "option_three = get_expected_cost(3,3)\n",
    "option_four = get_expected_cost(3,4)\n",
    "\n",
    "print(option_one)\n",
    "print(option_two)\n",
    "print(option_three)\n",
    "print(option_four)\n",
    "\n",
    "# Check your answer\n",
    "q2.check()"
   ]
  },
  {
   "cell_type": "code",
   "execution_count": 5,
   "id": "3cc76951",
   "metadata": {
    "execution": {
     "iopub.execute_input": "2024-10-30T18:31:24.662644Z",
     "iopub.status.busy": "2024-10-30T18:31:24.661725Z",
     "iopub.status.idle": "2024-10-30T18:31:24.666567Z",
     "shell.execute_reply": "2024-10-30T18:31:24.665689Z"
    },
    "papermill": {
     "duration": 0.017028,
     "end_time": "2024-10-30T18:31:24.668855",
     "exception": false,
     "start_time": "2024-10-30T18:31:24.651827",
     "status": "completed"
    },
    "tags": []
   },
   "outputs": [],
   "source": [
    "# Uncomment to see a hint\n",
    "#q2.hint()\n",
    "\n",
    "# Uncomment to view the solution\n",
    "#q2.solution()"
   ]
  },
  {
   "cell_type": "markdown",
   "id": "e3edfd73",
   "metadata": {
    "papermill": {
     "duration": 0.008495,
     "end_time": "2024-10-30T18:31:24.686017",
     "exception": false,
     "start_time": "2024-10-30T18:31:24.677522",
     "status": "completed"
    },
    "tags": []
   },
   "source": [
    "# Question 3\n",
    "\n",
    "You're a home decorator, and you'd like to use Python to streamline some of your work.  Specifically, you're creating a tool that you intend to use to calculate the cost of painting a room.\n",
    "\n",
    "As a first step, define a function `get_cost()` that takes as input:\n",
    "- `sqft_walls` = total square feet of walls to be painted\n",
    "- `sqft_ceiling` = square feet of ceiling to be painted\n",
    "- `sqft_per_gallon` = number of square feet that you can cover with one gallon of paint\n",
    "- `cost_per_gallon` = cost (in dollars) of one gallon of paint\n",
    "\n",
    "It should return the cost (in dollars) of putting one coat of paint on all walls and the ceiling.  Assume you can buy the exact amount of paint that you need, so you can buy partial gallons (e.g., if you need 7.523 gallons, you can buy that exact amount, instead of needing to buy 8 gallons and waste some paint).  Do not round your answer."
   ]
  },
  {
   "cell_type": "code",
   "execution_count": 6,
   "id": "9aa8b27b",
   "metadata": {
    "execution": {
     "iopub.execute_input": "2024-10-30T18:31:24.705570Z",
     "iopub.status.busy": "2024-10-30T18:31:24.704808Z",
     "iopub.status.idle": "2024-10-30T18:31:24.715344Z",
     "shell.execute_reply": "2024-10-30T18:31:24.714188Z"
    },
    "papermill": {
     "duration": 0.023129,
     "end_time": "2024-10-30T18:31:24.717956",
     "exception": false,
     "start_time": "2024-10-30T18:31:24.694827",
     "status": "completed"
    },
    "tags": []
   },
   "outputs": [
    {
     "data": {
      "application/javascript": [
       "parent.postMessage({\"jupyterEvent\": \"custom.exercise_interaction\", \"data\": {\"outcomeType\": 1, \"valueTowardsCompletion\": 0.2, \"interactionType\": 1, \"questionType\": 2, \"questionId\": \"3_GetCostPaint\", \"learnToolsVersion\": \"0.3.4\", \"failureMessage\": \"\", \"exceptionClass\": \"\", \"trace\": \"\"}}, \"*\")"
      ],
      "text/plain": [
       "<IPython.core.display.Javascript object>"
      ]
     },
     "metadata": {},
     "output_type": "display_data"
    },
    {
     "data": {
      "text/markdown": [
       "<span style=\"color:#33cc33\">Correct</span>"
      ],
      "text/plain": [
       "Correct"
      ]
     },
     "metadata": {},
     "output_type": "display_data"
    }
   ],
   "source": [
    "# TODO: Finish defining the function\n",
    "def get_cost(sqft_walls, sqft_ceiling, sqft_per_gallon, cost_per_gallon):\n",
    "    total = sqft_walls + sqft_ceiling\n",
    "    needed = total / sqft_per_gallon\n",
    "\n",
    "    \n",
    "    \n",
    "    cost = needed * cost_per_gallon\n",
    "    return cost\n",
    "\n",
    "# Check your answer\n",
    "q3.check()"
   ]
  },
  {
   "cell_type": "code",
   "execution_count": 7,
   "id": "a1efc3f4",
   "metadata": {
    "execution": {
     "iopub.execute_input": "2024-10-30T18:31:24.737974Z",
     "iopub.status.busy": "2024-10-30T18:31:24.737581Z",
     "iopub.status.idle": "2024-10-30T18:31:24.742875Z",
     "shell.execute_reply": "2024-10-30T18:31:24.741488Z"
    },
    "papermill": {
     "duration": 0.01828,
     "end_time": "2024-10-30T18:31:24.745380",
     "exception": false,
     "start_time": "2024-10-30T18:31:24.727100",
     "status": "completed"
    },
    "tags": []
   },
   "outputs": [],
   "source": [
    "# Uncomment to see a hint\n",
    "#q3.hint()\n",
    "\n",
    "# Uncomment to view the solution\n",
    "#q3.solution()"
   ]
  },
  {
   "cell_type": "markdown",
   "id": "64944f10",
   "metadata": {
    "papermill": {
     "duration": 0.008732,
     "end_time": "2024-10-30T18:31:24.763187",
     "exception": false,
     "start_time": "2024-10-30T18:31:24.754455",
     "status": "completed"
    },
    "tags": []
   },
   "source": [
    "# Question 4\n",
    "\n",
    "Use the `get_cost()` function you defined in Question 3 to calculate the cost of applying one coat of paint to a room with:\n",
    "- 432 square feet of walls, and\n",
    "- 144 square feet of ceiling.\n",
    "\n",
    "Assume that one gallon of paint covers 400 square feet and costs $15.  As in Question 3, assume you can buy partial gallons of paint.  Do not round your answer."
   ]
  },
  {
   "cell_type": "code",
   "execution_count": 8,
   "id": "80928e45",
   "metadata": {
    "execution": {
     "iopub.execute_input": "2024-10-30T18:31:24.783649Z",
     "iopub.status.busy": "2024-10-30T18:31:24.782785Z",
     "iopub.status.idle": "2024-10-30T18:31:24.792381Z",
     "shell.execute_reply": "2024-10-30T18:31:24.791309Z"
    },
    "papermill": {
     "duration": 0.022453,
     "end_time": "2024-10-30T18:31:24.794722",
     "exception": false,
     "start_time": "2024-10-30T18:31:24.772269",
     "status": "completed"
    },
    "tags": []
   },
   "outputs": [
    {
     "data": {
      "application/javascript": [
       "parent.postMessage({\"jupyterEvent\": \"custom.exercise_interaction\", \"data\": {\"outcomeType\": 1, \"valueTowardsCompletion\": 0.2, \"interactionType\": 1, \"questionType\": 1, \"questionId\": \"4_GetCostPaintExample\", \"learnToolsVersion\": \"0.3.4\", \"failureMessage\": \"\", \"exceptionClass\": \"\", \"trace\": \"\"}}, \"*\")"
      ],
      "text/plain": [
       "<IPython.core.display.Javascript object>"
      ]
     },
     "metadata": {},
     "output_type": "display_data"
    },
    {
     "data": {
      "text/markdown": [
       "<span style=\"color:#33cc33\">Correct</span>"
      ],
      "text/plain": [
       "Correct"
      ]
     },
     "metadata": {},
     "output_type": "display_data"
    }
   ],
   "source": [
    "# TODO: Set the project_cost variable to the cost of the project\n",
    "project_cost = get_cost(432, 144, 400, 15)\n",
    "\n",
    "# Check your answer\n",
    "q4.check()"
   ]
  },
  {
   "cell_type": "code",
   "execution_count": 9,
   "id": "380603b7",
   "metadata": {
    "execution": {
     "iopub.execute_input": "2024-10-30T18:31:24.815152Z",
     "iopub.status.busy": "2024-10-30T18:31:24.814723Z",
     "iopub.status.idle": "2024-10-30T18:31:24.819402Z",
     "shell.execute_reply": "2024-10-30T18:31:24.818453Z"
    },
    "papermill": {
     "duration": 0.017561,
     "end_time": "2024-10-30T18:31:24.821676",
     "exception": false,
     "start_time": "2024-10-30T18:31:24.804115",
     "status": "completed"
    },
    "tags": []
   },
   "outputs": [],
   "source": [
    "# Uncomment to see a hint\n",
    "#q4.hint()\n",
    "\n",
    "# Uncomment to view the solution\n",
    "#q4.solution()"
   ]
  },
  {
   "cell_type": "markdown",
   "id": "e4bbe51f",
   "metadata": {
    "papermill": {
     "duration": 0.009361,
     "end_time": "2024-10-30T18:31:24.840302",
     "exception": false,
     "start_time": "2024-10-30T18:31:24.830941",
     "status": "completed"
    },
    "tags": []
   },
   "source": [
    "# 🌶️ Question 5\n",
    "\n",
    "Now say you can no longer buy fractions of a gallon.  (For instance, if you need 4.3 gallons to do a project, then you have to buy 5 gallons of paint.)\n",
    "\n",
    "With this new scenario, you will create a new function `get_actual_cost` that uses the same inputs and calculates the cost of your project.\n",
    "\n",
    "One function that you'll need to use to do this is `math.ceil()`.  We demonstrate usage of this function in the code cell below.  It takes as a number as input and rounds the number up to the nearest integer.  \n",
    "\n",
    "Run the next code cell to test this function for yourself.  Feel free to change the value of `test_value` and make sure `math.ceil()` returns the number you expect."
   ]
  },
  {
   "cell_type": "code",
   "execution_count": 10,
   "id": "3f30c145",
   "metadata": {
    "execution": {
     "iopub.execute_input": "2024-10-30T18:31:24.861502Z",
     "iopub.status.busy": "2024-10-30T18:31:24.860634Z",
     "iopub.status.idle": "2024-10-30T18:31:24.868228Z",
     "shell.execute_reply": "2024-10-30T18:31:24.867098Z"
    },
    "papermill": {
     "duration": 0.021107,
     "end_time": "2024-10-30T18:31:24.870837",
     "exception": false,
     "start_time": "2024-10-30T18:31:24.849730",
     "status": "completed"
    },
    "tags": []
   },
   "outputs": [
    {
     "name": "stdout",
     "output_type": "stream",
     "text": [
      "3\n"
     ]
    }
   ],
   "source": [
    "test_value = 2.17\n",
    "\n",
    "rounded_value = math.ceil(test_value)\n",
    "print(rounded_value)"
   ]
  },
  {
   "cell_type": "markdown",
   "id": "85c6bcb7",
   "metadata": {
    "papermill": {
     "duration": 0.009158,
     "end_time": "2024-10-30T18:31:24.889434",
     "exception": false,
     "start_time": "2024-10-30T18:31:24.880276",
     "status": "completed"
    },
    "tags": []
   },
   "source": [
    "Use the next code cell to define the function `get_actual_cost()`.  You'll need to use the `math.ceil()` function to do this.\n",
    "\n",
    "When answering this question, note that it's completely valid to define a function that makes use of another function.  For instance, we can define a function `round_up_and_divide_by_three` that makes use of the `math.ceil` function:\n",
    "```\n",
    "def round_up_and_divide_by_three(num):\n",
    "    new_value = math.ceil(num)\n",
    "    final_value = new_value / 3\n",
    "    return final_value\n",
    "```"
   ]
  },
  {
   "cell_type": "code",
   "execution_count": 11,
   "id": "0b3df3d4",
   "metadata": {
    "execution": {
     "iopub.execute_input": "2024-10-30T18:31:24.910461Z",
     "iopub.status.busy": "2024-10-30T18:31:24.910019Z",
     "iopub.status.idle": "2024-10-30T18:31:24.919938Z",
     "shell.execute_reply": "2024-10-30T18:31:24.918921Z"
    },
    "papermill": {
     "duration": 0.023141,
     "end_time": "2024-10-30T18:31:24.922396",
     "exception": false,
     "start_time": "2024-10-30T18:31:24.899255",
     "status": "completed"
    },
    "tags": []
   },
   "outputs": [
    {
     "data": {
      "application/javascript": [
       "parent.postMessage({\"jupyterEvent\": \"custom.exercise_interaction\", \"data\": {\"outcomeType\": 1, \"valueTowardsCompletion\": 0.2, \"interactionType\": 1, \"questionType\": 2, \"questionId\": \"5_NoMoreFractions\", \"learnToolsVersion\": \"0.3.4\", \"failureMessage\": \"\", \"exceptionClass\": \"\", \"trace\": \"\"}}, \"*\")"
      ],
      "text/plain": [
       "<IPython.core.display.Javascript object>"
      ]
     },
     "metadata": {},
     "output_type": "display_data"
    },
    {
     "data": {
      "text/markdown": [
       "<span style=\"color:#33cc33\">Correct</span>"
      ],
      "text/plain": [
       "Correct"
      ]
     },
     "metadata": {},
     "output_type": "display_data"
    }
   ],
   "source": [
    "def get_actual_cost(sqft_walls, sqft_ceiling, sqft_per_gallon, cost_per_gallon):\n",
    "    total=sqft_walls + sqft_ceiling\n",
    "    gal= total/sqft_per_gallon\n",
    "    galto = math.ceil(gal)\n",
    "    \n",
    "    cost =galto*cost_per_gallon\n",
    "    return cost\n",
    "\n",
    "# Check your answer\n",
    "q5.check()"
   ]
  },
  {
   "cell_type": "code",
   "execution_count": 12,
   "id": "83c02e31",
   "metadata": {
    "execution": {
     "iopub.execute_input": "2024-10-30T18:31:24.944540Z",
     "iopub.status.busy": "2024-10-30T18:31:24.943690Z",
     "iopub.status.idle": "2024-10-30T18:31:24.953215Z",
     "shell.execute_reply": "2024-10-30T18:31:24.952134Z"
    },
    "papermill": {
     "duration": 0.023386,
     "end_time": "2024-10-30T18:31:24.955699",
     "exception": false,
     "start_time": "2024-10-30T18:31:24.932313",
     "status": "completed"
    },
    "tags": []
   },
   "outputs": [
    {
     "data": {
      "application/javascript": [
       "parent.postMessage({\"jupyterEvent\": \"custom.exercise_interaction\", \"data\": {\"interactionType\": 2, \"questionType\": 2, \"questionId\": \"5_NoMoreFractions\", \"learnToolsVersion\": \"0.3.4\", \"valueTowardsCompletion\": 0.0, \"failureMessage\": \"\", \"exceptionClass\": \"\", \"trace\": \"\", \"outcomeType\": 4}}, \"*\")"
      ],
      "text/plain": [
       "<IPython.core.display.Javascript object>"
      ]
     },
     "metadata": {},
     "output_type": "display_data"
    },
    {
     "data": {
      "text/markdown": [
       "<span style=\"color:#3366cc\">Hint:</span> Begin with the `get_cost()` function as a starting point.  The only change you need to make is to add `math.ceil()` to round up the number of gallons that need to be purchased. Can you figure out where to add it to the function?"
      ],
      "text/plain": [
       "Hint: Begin with the `get_cost()` function as a starting point.  The only change you need to make is to add `math.ceil()` to round up the number of gallons that need to be purchased. Can you figure out where to add it to the function?"
      ]
     },
     "metadata": {},
     "output_type": "display_data"
    }
   ],
   "source": [
    "# Uncomment to see a hint\n",
    "q5.hint()\n",
    "\n",
    "# Uncomment to view the solution\n",
    "#q5.solution()"
   ]
  },
  {
   "cell_type": "markdown",
   "id": "f23d356b",
   "metadata": {
    "papermill": {
     "duration": 0.01,
     "end_time": "2024-10-30T18:31:24.976208",
     "exception": false,
     "start_time": "2024-10-30T18:31:24.966208",
     "status": "completed"
    },
    "tags": []
   },
   "source": [
    "Once your function is verified as correct, run the next code cell to calculate the updated cost of your project."
   ]
  },
  {
   "cell_type": "code",
   "execution_count": 13,
   "id": "f051d203",
   "metadata": {
    "execution": {
     "iopub.execute_input": "2024-10-30T18:31:24.998447Z",
     "iopub.status.busy": "2024-10-30T18:31:24.998000Z",
     "iopub.status.idle": "2024-10-30T18:31:25.006093Z",
     "shell.execute_reply": "2024-10-30T18:31:25.004730Z"
    },
    "papermill": {
     "duration": 0.022383,
     "end_time": "2024-10-30T18:31:25.008775",
     "exception": false,
     "start_time": "2024-10-30T18:31:24.986392",
     "status": "completed"
    },
    "tags": []
   },
   "outputs": [
    {
     "data": {
      "text/plain": [
       "30"
      ]
     },
     "execution_count": 13,
     "metadata": {},
     "output_type": "execute_result"
    }
   ],
   "source": [
    "get_actual_cost(432, 144, 400, 15) "
   ]
  },
  {
   "cell_type": "markdown",
   "id": "84a29307",
   "metadata": {
    "papermill": {
     "duration": 0.009964,
     "end_time": "2024-10-30T18:31:25.029191",
     "exception": false,
     "start_time": "2024-10-30T18:31:25.019227",
     "status": "completed"
    },
    "tags": []
   },
   "source": [
    "Say you're working with a slightly larger room.  Run the next code cell to calculate the cost of the project."
   ]
  },
  {
   "cell_type": "code",
   "execution_count": 14,
   "id": "4f8aacb1",
   "metadata": {
    "execution": {
     "iopub.execute_input": "2024-10-30T18:31:25.051890Z",
     "iopub.status.busy": "2024-10-30T18:31:25.051428Z",
     "iopub.status.idle": "2024-10-30T18:31:25.059197Z",
     "shell.execute_reply": "2024-10-30T18:31:25.057980Z"
    },
    "papermill": {
     "duration": 0.021993,
     "end_time": "2024-10-30T18:31:25.061571",
     "exception": false,
     "start_time": "2024-10-30T18:31:25.039578",
     "status": "completed"
    },
    "tags": []
   },
   "outputs": [
    {
     "data": {
      "text/plain": [
       "45"
      ]
     },
     "execution_count": 14,
     "metadata": {},
     "output_type": "execute_result"
    }
   ],
   "source": [
    "get_actual_cost(594, 288, 400, 15) "
   ]
  },
  {
   "cell_type": "markdown",
   "id": "fc8485fc",
   "metadata": {
    "papermill": {
     "duration": 0.010299,
     "end_time": "2024-10-30T18:31:25.082579",
     "exception": false,
     "start_time": "2024-10-30T18:31:25.072280",
     "status": "completed"
    },
    "tags": []
   },
   "source": [
    "# Keep going\n",
    "\n",
    "Continue to learn about **[data types](https://www.kaggle.com/alexisbcook/data-types)**."
   ]
  },
  {
   "cell_type": "markdown",
   "id": "45f0c1a0",
   "metadata": {
    "papermill": {
     "duration": 0.010195,
     "end_time": "2024-10-30T18:31:25.103186",
     "exception": false,
     "start_time": "2024-10-30T18:31:25.092991",
     "status": "completed"
    },
    "tags": []
   },
   "source": [
    "---\n",
    "\n",
    "\n",
    "\n",
    "\n",
    "*Have questions or comments? Visit the [course discussion forum](https://www.kaggle.com/learn/intro-to-programming/discussion) to chat with other learners.*"
   ]
  }
 ],
 "metadata": {
  "kaggle": {
   "accelerator": "none",
   "dataSources": [],
   "isGpuEnabled": false,
   "isInternetEnabled": false,
   "language": "python",
   "sourceType": "notebook"
  },
  "kernelspec": {
   "display_name": "Python 3",
   "language": "python",
   "name": "python3"
  },
  "language_info": {
   "codemirror_mode": {
    "name": "ipython",
    "version": 3
   },
   "file_extension": ".py",
   "mimetype": "text/x-python",
   "name": "python",
   "nbconvert_exporter": "python",
   "pygments_lexer": "ipython3",
   "version": "3.10.14"
  },
  "papermill": {
   "default_parameters": {},
   "duration": 5.246831,
   "end_time": "2024-10-30T18:31:25.634878",
   "environment_variables": {},
   "exception": null,
   "input_path": "__notebook__.ipynb",
   "output_path": "__notebook__.ipynb",
   "parameters": {},
   "start_time": "2024-10-30T18:31:20.388047",
   "version": "2.6.0"
  }
 },
 "nbformat": 4,
 "nbformat_minor": 5
}
