{
 "cells": [
  {
   "cell_type": "markdown",
   "id": "80d03435",
   "metadata": {
    "papermill": {
     "duration": 0.006454,
     "end_time": "2024-10-30T18:30:53.122145",
     "exception": false,
     "start_time": "2024-10-30T18:30:53.115691",
     "status": "completed"
    },
    "tags": []
   },
   "source": [
    "**This notebook is an exercise in the [Intro to Programming](https://www.kaggle.com/learn/intro-to-programming) course.  You can reference the tutorial at [this link](https://www.kaggle.com/alexisbcook/functions).**\n",
    "\n",
    "---\n"
   ]
  },
  {
   "cell_type": "markdown",
   "id": "cfa5c221",
   "metadata": {
    "papermill": {
     "duration": 0.005376,
     "end_time": "2024-10-30T18:30:53.133358",
     "exception": false,
     "start_time": "2024-10-30T18:30:53.127982",
     "status": "completed"
    },
    "tags": []
   },
   "source": [
    "In the tutorial, you learned about functions. In this exercise, you'll write some of your own!\n",
    "\n",
    "# Set up the notebook\n",
    "\n",
    "Run the next code cell without changes to set up the notebook."
   ]
  },
  {
   "cell_type": "code",
   "execution_count": 1,
   "id": "bcfe0b8d",
   "metadata": {
    "execution": {
     "iopub.execute_input": "2024-10-30T18:30:53.147239Z",
     "iopub.status.busy": "2024-10-30T18:30:53.146122Z",
     "iopub.status.idle": "2024-10-30T18:30:54.102394Z",
     "shell.execute_reply": "2024-10-30T18:30:54.101114Z"
    },
    "papermill": {
     "duration": 0.965697,
     "end_time": "2024-10-30T18:30:54.104657",
     "exception": false,
     "start_time": "2024-10-30T18:30:53.138960",
     "status": "completed"
    },
    "tags": []
   },
   "outputs": [
    {
     "name": "stdout",
     "output_type": "stream",
     "text": [
      "Setup complete.\n"
     ]
    }
   ],
   "source": [
    "# Set up the exercise\n",
    "import math\n",
    "from learntools.core import binder\n",
    "binder.bind(globals())\n",
    "from learntools.intro_to_programming.ex2 import *\n",
    "print('Setup complete.')"
   ]
  },
  {
   "cell_type": "markdown",
   "id": "96f65a59",
   "metadata": {
    "papermill": {
     "duration": 0.005625,
     "end_time": "2024-10-30T18:30:54.116149",
     "exception": false,
     "start_time": "2024-10-30T18:30:54.110524",
     "status": "completed"
    },
    "tags": []
   },
   "source": [
    "# Question 1\n",
    "\n",
    "In the [House Prices - Advanced Regression Techniques competition](https://www.kaggle.com/c/house-prices-advanced-regression-techniques/overview), you need to use information like the number of bedrooms and bathrooms to predict the price of a house.  Inspired by this competition, you'll write your own function to do this.\n",
    "\n",
    "In the next code cell, create a function `get_expected_cost()` that has two arguments:\n",
    "- `beds` - number of bedrooms \n",
    "- `baths` - number of bathrooms\n",
    "\n",
    "It should return the expected cost of a house with that number of bedrooms and bathrooms.  Assume that:\n",
    "- the expected cost for a house with 0 bedrooms and 0 bathrooms is `80000`.  \n",
    "- each bedroom adds `30000` to the expected cost\n",
    "- each bathroom adds `10000` to the expected cost.\n",
    "\n",
    "For instance, \n",
    "- a house with 1 bedroom and 1 bathroom has an expected cost of `120000`, and \n",
    "- a house with 2 bedrooms and 1 bathroom has an expected cost of `150000`."
   ]
  },
  {
   "cell_type": "code",
   "execution_count": 2,
   "id": "cb954719",
   "metadata": {
    "execution": {
     "iopub.execute_input": "2024-10-30T18:30:54.130059Z",
     "iopub.status.busy": "2024-10-30T18:30:54.128957Z",
     "iopub.status.idle": "2024-10-30T18:30:54.140152Z",
     "shell.execute_reply": "2024-10-30T18:30:54.139155Z"
    },
    "papermill": {
     "duration": 0.020674,
     "end_time": "2024-10-30T18:30:54.142523",
     "exception": false,
     "start_time": "2024-10-30T18:30:54.121849",
     "status": "completed"
    },
    "tags": []
   },
   "outputs": [
    {
     "data": {
      "application/javascript": [
       "parent.postMessage({\"jupyterEvent\": \"custom.exercise_interaction\", \"data\": {\"outcomeType\": 1, \"valueTowardsCompletion\": 0.2, \"interactionType\": 1, \"questionType\": 2, \"questionId\": \"1_GetExpectedCost\", \"learnToolsVersion\": \"0.3.4\", \"failureMessage\": \"\", \"exceptionClass\": \"\", \"trace\": \"\"}}, \"*\")"
      ],
      "text/plain": [
       "<IPython.core.display.Javascript object>"
      ]
     },
     "metadata": {},
     "output_type": "display_data"
    },
    {
     "data": {
      "text/markdown": [
       "<span style=\"color:#33cc33\">Correct</span>"
      ],
      "text/plain": [
       "Correct"
      ]
     },
     "metadata": {},
     "output_type": "display_data"
    }
   ],
   "source": [
    "# TODO: Complete the function\n",
    "def get_expected_cost(beds, baths):\n",
    "    \n",
    "    value = 80000 + 30000 * beds + 10000 * baths\n",
    "    return value\n",
    "\n",
    "# Check your answer \n",
    "q1.check()"
   ]
  },
  {
   "cell_type": "code",
   "execution_count": 3,
   "id": "570645b1",
   "metadata": {
    "execution": {
     "iopub.execute_input": "2024-10-30T18:30:54.158130Z",
     "iopub.status.busy": "2024-10-30T18:30:54.157180Z",
     "iopub.status.idle": "2024-10-30T18:30:54.161772Z",
     "shell.execute_reply": "2024-10-30T18:30:54.160747Z"
    },
    "papermill": {
     "duration": 0.014395,
     "end_time": "2024-10-30T18:30:54.164053",
     "exception": false,
     "start_time": "2024-10-30T18:30:54.149658",
     "status": "completed"
    },
    "tags": []
   },
   "outputs": [],
   "source": [
    "# Uncomment to see a hint\n",
    "#q1.hint()\n",
    "\n",
    "# Uncomment to view the solution\n",
    "#q1.solution()"
   ]
  },
  {
   "cell_type": "markdown",
   "id": "db80ed09",
   "metadata": {
    "papermill": {
     "duration": 0.005786,
     "end_time": "2024-10-30T18:30:54.175977",
     "exception": false,
     "start_time": "2024-10-30T18:30:54.170191",
     "status": "completed"
    },
    "tags": []
   },
   "source": [
    "# Question 2\n",
    "\n",
    "You are thinking about buying a home and want to get an idea of how much you will spend, based on the number of bedrooms and bathrooms.  You are trying to decide between four different options:\n",
    "- Option 1: house with two bedrooms and three bathrooms\n",
    "- Option 2: house with three bedrooms and two bathrooms\n",
    "- Option 3: house with three bedrooms and three bathrooms\n",
    "- Option 4: house with three bedrooms and four bathrooms\n",
    "\n",
    "Use the `get_expected_cost()` function you defined in question 1 to set `option_1`, `option_2`, `option_3`, and `option_4` to the expected cost of each option."
   ]
  },
  {
   "cell_type": "code",
   "execution_count": 4,
   "id": "9abe396f",
   "metadata": {
    "execution": {
     "iopub.execute_input": "2024-10-30T18:30:54.190173Z",
     "iopub.status.busy": "2024-10-30T18:30:54.189202Z",
     "iopub.status.idle": "2024-10-30T18:30:54.199506Z",
     "shell.execute_reply": "2024-10-30T18:30:54.198488Z"
    },
    "papermill": {
     "duration": 0.019967,
     "end_time": "2024-10-30T18:30:54.201930",
     "exception": false,
     "start_time": "2024-10-30T18:30:54.181963",
     "status": "completed"
    },
    "tags": []
   },
   "outputs": [
    {
     "name": "stdout",
     "output_type": "stream",
     "text": [
      "170000\n",
      "190000\n",
      "200000\n",
      "210000\n"
     ]
    },
    {
     "data": {
      "application/javascript": [
       "parent.postMessage({\"jupyterEvent\": \"custom.exercise_interaction\", \"data\": {\"outcomeType\": 1, \"valueTowardsCompletion\": 0.2, \"interactionType\": 1, \"questionType\": 1, \"questionId\": \"2_RunGetExpectedCost\", \"learnToolsVersion\": \"0.3.4\", \"failureMessage\": \"\", \"exceptionClass\": \"\", \"trace\": \"\"}}, \"*\")"
      ],
      "text/plain": [
       "<IPython.core.display.Javascript object>"
      ]
     },
     "metadata": {},
     "output_type": "display_data"
    },
    {
     "data": {
      "text/markdown": [
       "<span style=\"color:#33cc33\">Correct</span>"
      ],
      "text/plain": [
       "Correct"
      ]
     },
     "metadata": {},
     "output_type": "display_data"
    }
   ],
   "source": [
    "# TODO: Use the get_expected_cost function to fill in each value\n",
    "option_one = get_expected_cost(2,3)\n",
    "option_two = get_expected_cost(3,2)\n",
    "option_three = get_expected_cost(3,3)\n",
    "option_four = get_expected_cost(3,4)\n",
    "\n",
    "print(option_one)\n",
    "print(option_two)\n",
    "print(option_three)\n",
    "print(option_four)\n",
    "\n",
    "# Check your answer\n",
    "q2.check()"
   ]
  },
  {
   "cell_type": "code",
   "execution_count": 5,
   "id": "d8ff4a7d",
   "metadata": {
    "execution": {
     "iopub.execute_input": "2024-10-30T18:30:54.216229Z",
     "iopub.status.busy": "2024-10-30T18:30:54.215822Z",
     "iopub.status.idle": "2024-10-30T18:30:54.220331Z",
     "shell.execute_reply": "2024-10-30T18:30:54.219291Z"
    },
    "papermill": {
     "duration": 0.014141,
     "end_time": "2024-10-30T18:30:54.222439",
     "exception": false,
     "start_time": "2024-10-30T18:30:54.208298",
     "status": "completed"
    },
    "tags": []
   },
   "outputs": [],
   "source": [
    "# Uncomment to see a hint\n",
    "#q2.hint()\n",
    "\n",
    "# Uncomment to view the solution\n",
    "#q2.solution()"
   ]
  },
  {
   "cell_type": "markdown",
   "id": "c3e0be12",
   "metadata": {
    "papermill": {
     "duration": 0.006115,
     "end_time": "2024-10-30T18:30:54.234983",
     "exception": false,
     "start_time": "2024-10-30T18:30:54.228868",
     "status": "completed"
    },
    "tags": []
   },
   "source": [
    "# Question 3\n",
    "\n",
    "You're a home decorator, and you'd like to use Python to streamline some of your work.  Specifically, you're creating a tool that you intend to use to calculate the cost of painting a room.\n",
    "\n",
    "As a first step, define a function `get_cost()` that takes as input:\n",
    "- `sqft_walls` = total square feet of walls to be painted\n",
    "- `sqft_ceiling` = square feet of ceiling to be painted\n",
    "- `sqft_per_gallon` = number of square feet that you can cover with one gallon of paint\n",
    "- `cost_per_gallon` = cost (in dollars) of one gallon of paint\n",
    "\n",
    "It should return the cost (in dollars) of putting one coat of paint on all walls and the ceiling.  Assume you can buy the exact amount of paint that you need, so you can buy partial gallons (e.g., if you need 7.523 gallons, you can buy that exact amount, instead of needing to buy 8 gallons and waste some paint).  Do not round your answer."
   ]
  },
  {
   "cell_type": "code",
   "execution_count": 6,
   "id": "2b2d00da",
   "metadata": {
    "execution": {
     "iopub.execute_input": "2024-10-30T18:30:54.249906Z",
     "iopub.status.busy": "2024-10-30T18:30:54.248921Z",
     "iopub.status.idle": "2024-10-30T18:30:54.258466Z",
     "shell.execute_reply": "2024-10-30T18:30:54.257497Z"
    },
    "papermill": {
     "duration": 0.019438,
     "end_time": "2024-10-30T18:30:54.260757",
     "exception": false,
     "start_time": "2024-10-30T18:30:54.241319",
     "status": "completed"
    },
    "tags": []
   },
   "outputs": [
    {
     "data": {
      "application/javascript": [
       "parent.postMessage({\"jupyterEvent\": \"custom.exercise_interaction\", \"data\": {\"outcomeType\": 1, \"valueTowardsCompletion\": 0.2, \"interactionType\": 1, \"questionType\": 2, \"questionId\": \"3_GetCostPaint\", \"learnToolsVersion\": \"0.3.4\", \"failureMessage\": \"\", \"exceptionClass\": \"\", \"trace\": \"\"}}, \"*\")"
      ],
      "text/plain": [
       "<IPython.core.display.Javascript object>"
      ]
     },
     "metadata": {},
     "output_type": "display_data"
    },
    {
     "data": {
      "text/markdown": [
       "<span style=\"color:#33cc33\">Correct</span>"
      ],
      "text/plain": [
       "Correct"
      ]
     },
     "metadata": {},
     "output_type": "display_data"
    }
   ],
   "source": [
    "# TODO: Finish defining the function\n",
    "def get_cost(sqft_walls, sqft_ceiling, sqft_per_gallon, cost_per_gallon):\n",
    "    total = sqft_walls + sqft_ceiling\n",
    "    needed = total / sqft_per_gallon\n",
    "\n",
    "    \n",
    "    \n",
    "    cost = needed * cost_per_gallon\n",
    "    return cost\n",
    "\n",
    "# Check your answer\n",
    "q3.check()"
   ]
  },
  {
   "cell_type": "code",
   "execution_count": 7,
   "id": "f8bfdc50",
   "metadata": {
    "execution": {
     "iopub.execute_input": "2024-10-30T18:30:54.276032Z",
     "iopub.status.busy": "2024-10-30T18:30:54.275092Z",
     "iopub.status.idle": "2024-10-30T18:30:54.279726Z",
     "shell.execute_reply": "2024-10-30T18:30:54.278584Z"
    },
    "papermill": {
     "duration": 0.014637,
     "end_time": "2024-10-30T18:30:54.281962",
     "exception": false,
     "start_time": "2024-10-30T18:30:54.267325",
     "status": "completed"
    },
    "tags": []
   },
   "outputs": [],
   "source": [
    "# Uncomment to see a hint\n",
    "#q3.hint()\n",
    "\n",
    "# Uncomment to view the solution\n",
    "#q3.solution()"
   ]
  },
  {
   "cell_type": "markdown",
   "id": "e18da41a",
   "metadata": {
    "papermill": {
     "duration": 0.006135,
     "end_time": "2024-10-30T18:30:54.294754",
     "exception": false,
     "start_time": "2024-10-30T18:30:54.288619",
     "status": "completed"
    },
    "tags": []
   },
   "source": [
    "# Question 4\n",
    "\n",
    "Use the `get_cost()` function you defined in Question 3 to calculate the cost of applying one coat of paint to a room with:\n",
    "- 432 square feet of walls, and\n",
    "- 144 square feet of ceiling.\n",
    "\n",
    "Assume that one gallon of paint covers 400 square feet and costs $15.  As in Question 3, assume you can buy partial gallons of paint.  Do not round your answer."
   ]
  },
  {
   "cell_type": "code",
   "execution_count": 8,
   "id": "a9f051c5",
   "metadata": {
    "execution": {
     "iopub.execute_input": "2024-10-30T18:30:54.309381Z",
     "iopub.status.busy": "2024-10-30T18:30:54.308952Z",
     "iopub.status.idle": "2024-10-30T18:30:54.317588Z",
     "shell.execute_reply": "2024-10-30T18:30:54.316622Z"
    },
    "papermill": {
     "duration": 0.018408,
     "end_time": "2024-10-30T18:30:54.319711",
     "exception": false,
     "start_time": "2024-10-30T18:30:54.301303",
     "status": "completed"
    },
    "tags": []
   },
   "outputs": [
    {
     "data": {
      "application/javascript": [
       "parent.postMessage({\"jupyterEvent\": \"custom.exercise_interaction\", \"data\": {\"outcomeType\": 1, \"valueTowardsCompletion\": 0.2, \"interactionType\": 1, \"questionType\": 1, \"questionId\": \"4_GetCostPaintExample\", \"learnToolsVersion\": \"0.3.4\", \"failureMessage\": \"\", \"exceptionClass\": \"\", \"trace\": \"\"}}, \"*\")"
      ],
      "text/plain": [
       "<IPython.core.display.Javascript object>"
      ]
     },
     "metadata": {},
     "output_type": "display_data"
    },
    {
     "data": {
      "text/markdown": [
       "<span style=\"color:#33cc33\">Correct</span>"
      ],
      "text/plain": [
       "Correct"
      ]
     },
     "metadata": {},
     "output_type": "display_data"
    }
   ],
   "source": [
    "# TODO: Set the project_cost variable to the cost of the project\n",
    "project_cost = get_cost(432, 144, 400, 15)\n",
    "\n",
    "# Check your answer\n",
    "q4.check()"
   ]
  },
  {
   "cell_type": "code",
   "execution_count": 9,
   "id": "d551232e",
   "metadata": {
    "execution": {
     "iopub.execute_input": "2024-10-30T18:30:54.335249Z",
     "iopub.status.busy": "2024-10-30T18:30:54.334820Z",
     "iopub.status.idle": "2024-10-30T18:30:54.339416Z",
     "shell.execute_reply": "2024-10-30T18:30:54.338432Z"
    },
    "papermill": {
     "duration": 0.01501,
     "end_time": "2024-10-30T18:30:54.341643",
     "exception": false,
     "start_time": "2024-10-30T18:30:54.326633",
     "status": "completed"
    },
    "tags": []
   },
   "outputs": [],
   "source": [
    "# Uncomment to see a hint\n",
    "#q4.hint()\n",
    "\n",
    "# Uncomment to view the solution\n",
    "#q4.solution()"
   ]
  },
  {
   "cell_type": "markdown",
   "id": "76e9c941",
   "metadata": {
    "papermill": {
     "duration": 0.006655,
     "end_time": "2024-10-30T18:30:54.355195",
     "exception": false,
     "start_time": "2024-10-30T18:30:54.348540",
     "status": "completed"
    },
    "tags": []
   },
   "source": [
    "# 🌶️ Question 5\n",
    "\n",
    "Now say you can no longer buy fractions of a gallon.  (For instance, if you need 4.3 gallons to do a project, then you have to buy 5 gallons of paint.)\n",
    "\n",
    "With this new scenario, you will create a new function `get_actual_cost` that uses the same inputs and calculates the cost of your project.\n",
    "\n",
    "One function that you'll need to use to do this is `math.ceil()`.  We demonstrate usage of this function in the code cell below.  It takes as a number as input and rounds the number up to the nearest integer.  \n",
    "\n",
    "Run the next code cell to test this function for yourself.  Feel free to change the value of `test_value` and make sure `math.ceil()` returns the number you expect."
   ]
  },
  {
   "cell_type": "code",
   "execution_count": 10,
   "id": "f80234c1",
   "metadata": {
    "execution": {
     "iopub.execute_input": "2024-10-30T18:30:54.370828Z",
     "iopub.status.busy": "2024-10-30T18:30:54.369894Z",
     "iopub.status.idle": "2024-10-30T18:30:54.375506Z",
     "shell.execute_reply": "2024-10-30T18:30:54.374530Z"
    },
    "papermill": {
     "duration": 0.015757,
     "end_time": "2024-10-30T18:30:54.377739",
     "exception": false,
     "start_time": "2024-10-30T18:30:54.361982",
     "status": "completed"
    },
    "tags": []
   },
   "outputs": [
    {
     "name": "stdout",
     "output_type": "stream",
     "text": [
      "3\n"
     ]
    }
   ],
   "source": [
    "test_value = 2.17\n",
    "\n",
    "rounded_value = math.ceil(test_value)\n",
    "print(rounded_value)"
   ]
  },
  {
   "cell_type": "markdown",
   "id": "4a0ddb64",
   "metadata": {
    "papermill": {
     "duration": 0.006596,
     "end_time": "2024-10-30T18:30:54.391302",
     "exception": false,
     "start_time": "2024-10-30T18:30:54.384706",
     "status": "completed"
    },
    "tags": []
   },
   "source": [
    "Use the next code cell to define the function `get_actual_cost()`.  You'll need to use the `math.ceil()` function to do this.\n",
    "\n",
    "When answering this question, note that it's completely valid to define a function that makes use of another function.  For instance, we can define a function `round_up_and_divide_by_three` that makes use of the `math.ceil` function:\n",
    "```\n",
    "def round_up_and_divide_by_three(num):\n",
    "    new_value = math.ceil(num)\n",
    "    final_value = new_value / 3\n",
    "    return final_value\n",
    "```"
   ]
  },
  {
   "cell_type": "code",
   "execution_count": 11,
   "id": "379d5bac",
   "metadata": {
    "execution": {
     "iopub.execute_input": "2024-10-30T18:30:54.406322Z",
     "iopub.status.busy": "2024-10-30T18:30:54.405900Z",
     "iopub.status.idle": "2024-10-30T18:30:54.415092Z",
     "shell.execute_reply": "2024-10-30T18:30:54.414144Z"
    },
    "papermill": {
     "duration": 0.019157,
     "end_time": "2024-10-30T18:30:54.417184",
     "exception": false,
     "start_time": "2024-10-30T18:30:54.398027",
     "status": "completed"
    },
    "tags": []
   },
   "outputs": [
    {
     "data": {
      "application/javascript": [
       "parent.postMessage({\"jupyterEvent\": \"custom.exercise_interaction\", \"data\": {\"outcomeType\": 1, \"valueTowardsCompletion\": 0.2, \"interactionType\": 1, \"questionType\": 2, \"questionId\": \"5_NoMoreFractions\", \"learnToolsVersion\": \"0.3.4\", \"failureMessage\": \"\", \"exceptionClass\": \"\", \"trace\": \"\"}}, \"*\")"
      ],
      "text/plain": [
       "<IPython.core.display.Javascript object>"
      ]
     },
     "metadata": {},
     "output_type": "display_data"
    },
    {
     "data": {
      "text/markdown": [
       "<span style=\"color:#33cc33\">Correct</span>"
      ],
      "text/plain": [
       "Correct"
      ]
     },
     "metadata": {},
     "output_type": "display_data"
    }
   ],
   "source": [
    "def get_actual_cost(sqft_walls, sqft_ceiling, sqft_per_gallon, cost_per_gallon):\n",
    "    total=sqft_walls + sqft_ceiling\n",
    "    gal= total/sqft_per_gallon\n",
    "    galto = math.ceil(gal)\n",
    "    \n",
    "    cost =galto*cost_per_gallon\n",
    "    return cost\n",
    "\n",
    "# Check your answer\n",
    "q5.check()"
   ]
  },
  {
   "cell_type": "code",
   "execution_count": 12,
   "id": "9147a398",
   "metadata": {
    "execution": {
     "iopub.execute_input": "2024-10-30T18:30:54.433299Z",
     "iopub.status.busy": "2024-10-30T18:30:54.432865Z",
     "iopub.status.idle": "2024-10-30T18:30:54.440995Z",
     "shell.execute_reply": "2024-10-30T18:30:54.440065Z"
    },
    "papermill": {
     "duration": 0.019047,
     "end_time": "2024-10-30T18:30:54.443403",
     "exception": false,
     "start_time": "2024-10-30T18:30:54.424356",
     "status": "completed"
    },
    "tags": []
   },
   "outputs": [
    {
     "data": {
      "application/javascript": [
       "parent.postMessage({\"jupyterEvent\": \"custom.exercise_interaction\", \"data\": {\"interactionType\": 2, \"questionType\": 2, \"questionId\": \"5_NoMoreFractions\", \"learnToolsVersion\": \"0.3.4\", \"valueTowardsCompletion\": 0.0, \"failureMessage\": \"\", \"exceptionClass\": \"\", \"trace\": \"\", \"outcomeType\": 4}}, \"*\")"
      ],
      "text/plain": [
       "<IPython.core.display.Javascript object>"
      ]
     },
     "metadata": {},
     "output_type": "display_data"
    },
    {
     "data": {
      "text/markdown": [
       "<span style=\"color:#3366cc\">Hint:</span> Begin with the `get_cost()` function as a starting point.  The only change you need to make is to add `math.ceil()` to round up the number of gallons that need to be purchased. Can you figure out where to add it to the function?"
      ],
      "text/plain": [
       "Hint: Begin with the `get_cost()` function as a starting point.  The only change you need to make is to add `math.ceil()` to round up the number of gallons that need to be purchased. Can you figure out where to add it to the function?"
      ]
     },
     "metadata": {},
     "output_type": "display_data"
    }
   ],
   "source": [
    "# Uncomment to see a hint\n",
    "q5.hint()\n",
    "\n",
    "# Uncomment to view the solution\n",
    "#q5.solution()"
   ]
  },
  {
   "cell_type": "markdown",
   "id": "59de5452",
   "metadata": {
    "papermill": {
     "duration": 0.007006,
     "end_time": "2024-10-30T18:30:54.457758",
     "exception": false,
     "start_time": "2024-10-30T18:30:54.450752",
     "status": "completed"
    },
    "tags": []
   },
   "source": [
    "Once your function is verified as correct, run the next code cell to calculate the updated cost of your project."
   ]
  },
  {
   "cell_type": "code",
   "execution_count": 13,
   "id": "821a2e1a",
   "metadata": {
    "execution": {
     "iopub.execute_input": "2024-10-30T18:30:54.474230Z",
     "iopub.status.busy": "2024-10-30T18:30:54.473818Z",
     "iopub.status.idle": "2024-10-30T18:30:54.480639Z",
     "shell.execute_reply": "2024-10-30T18:30:54.479522Z"
    },
    "papermill": {
     "duration": 0.017734,
     "end_time": "2024-10-30T18:30:54.482765",
     "exception": false,
     "start_time": "2024-10-30T18:30:54.465031",
     "status": "completed"
    },
    "tags": []
   },
   "outputs": [
    {
     "data": {
      "text/plain": [
       "30"
      ]
     },
     "execution_count": 13,
     "metadata": {},
     "output_type": "execute_result"
    }
   ],
   "source": [
    "get_actual_cost(432, 144, 400, 15) "
   ]
  },
  {
   "cell_type": "markdown",
   "id": "add3a40c",
   "metadata": {
    "papermill": {
     "duration": 0.007164,
     "end_time": "2024-10-30T18:30:54.497520",
     "exception": false,
     "start_time": "2024-10-30T18:30:54.490356",
     "status": "completed"
    },
    "tags": []
   },
   "source": [
    "Say you're working with a slightly larger room.  Run the next code cell to calculate the cost of the project."
   ]
  },
  {
   "cell_type": "code",
   "execution_count": 14,
   "id": "abe71633",
   "metadata": {
    "execution": {
     "iopub.execute_input": "2024-10-30T18:30:54.514162Z",
     "iopub.status.busy": "2024-10-30T18:30:54.513746Z",
     "iopub.status.idle": "2024-10-30T18:30:54.520319Z",
     "shell.execute_reply": "2024-10-30T18:30:54.519017Z"
    },
    "papermill": {
     "duration": 0.017498,
     "end_time": "2024-10-30T18:30:54.522596",
     "exception": false,
     "start_time": "2024-10-30T18:30:54.505098",
     "status": "completed"
    },
    "tags": []
   },
   "outputs": [
    {
     "data": {
      "text/plain": [
       "45"
      ]
     },
     "execution_count": 14,
     "metadata": {},
     "output_type": "execute_result"
    }
   ],
   "source": [
    "get_actual_cost(594, 288, 400, 15) "
   ]
  },
  {
   "cell_type": "markdown",
   "id": "d5313bcc",
   "metadata": {
    "papermill": {
     "duration": 0.007309,
     "end_time": "2024-10-30T18:30:54.537552",
     "exception": false,
     "start_time": "2024-10-30T18:30:54.530243",
     "status": "completed"
    },
    "tags": []
   },
   "source": [
    "# Keep going\n",
    "\n",
    "Continue to learn about **[data types](https://www.kaggle.com/alexisbcook/data-types)**."
   ]
  },
  {
   "cell_type": "markdown",
   "id": "dd5d42fc",
   "metadata": {
    "papermill": {
     "duration": 0.007224,
     "end_time": "2024-10-30T18:30:54.552322",
     "exception": false,
     "start_time": "2024-10-30T18:30:54.545098",
     "status": "completed"
    },
    "tags": []
   },
   "source": [
    "---\n",
    "\n",
    "\n",
    "\n",
    "\n",
    "*Have questions or comments? Visit the [course discussion forum](https://www.kaggle.com/learn/intro-to-programming/discussion) to chat with other learners.*"
   ]
  }
 ],
 "metadata": {
  "kaggle": {
   "accelerator": "none",
   "dataSources": [],
   "isGpuEnabled": false,
   "isInternetEnabled": false,
   "language": "python",
   "sourceType": "notebook"
  },
  "kernelspec": {
   "display_name": "Python 3",
   "language": "python",
   "name": "python3"
  },
  "language_info": {
   "codemirror_mode": {
    "name": "ipython",
    "version": 3
   },
   "file_extension": ".py",
   "mimetype": "text/x-python",
   "name": "python",
   "nbconvert_exporter": "python",
   "pygments_lexer": "ipython3",
   "version": "3.10.14"
  },
  "papermill": {
   "default_parameters": {},
   "duration": 4.772247,
   "end_time": "2024-10-30T18:30:55.080069",
   "environment_variables": {},
   "exception": null,
   "input_path": "__notebook__.ipynb",
   "output_path": "__notebook__.ipynb",
   "parameters": {},
   "start_time": "2024-10-30T18:30:50.307822",
   "version": "2.6.0"
  }
 },
 "nbformat": 4,
 "nbformat_minor": 5
}
