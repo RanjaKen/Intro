{
 "cells": [
  {
   "cell_type": "markdown",
   "id": "26c7908f",
   "metadata": {
    "papermill": {
     "duration": 0.008841,
     "end_time": "2024-10-22T11:22:40.568628",
     "exception": false,
     "start_time": "2024-10-22T11:22:40.559787",
     "status": "completed"
    },
    "tags": []
   },
   "source": [
    "**This notebook is an exercise in the [Intro to Programming](https://www.kaggle.com/learn/intro-to-programming) course.  You can reference the tutorial at [this link](https://www.kaggle.com/alexisbcook/functions).**\n",
    "\n",
    "---\n"
   ]
  },
  {
   "cell_type": "markdown",
   "id": "249ca905",
   "metadata": {
    "papermill": {
     "duration": 0.007684,
     "end_time": "2024-10-22T11:22:40.584643",
     "exception": false,
     "start_time": "2024-10-22T11:22:40.576959",
     "status": "completed"
    },
    "tags": []
   },
   "source": [
    "In the tutorial, you learned about functions. In this exercise, you'll write some of your own!\n",
    "\n",
    "# Set up the notebook\n",
    "\n",
    "Run the next code cell without changes to set up the notebook."
   ]
  },
  {
   "cell_type": "code",
   "execution_count": 1,
   "id": "2793b5eb",
   "metadata": {
    "execution": {
     "iopub.execute_input": "2024-10-22T11:22:40.601976Z",
     "iopub.status.busy": "2024-10-22T11:22:40.601560Z",
     "iopub.status.idle": "2024-10-22T11:22:41.461096Z",
     "shell.execute_reply": "2024-10-22T11:22:41.459976Z"
    },
    "papermill": {
     "duration": 0.871242,
     "end_time": "2024-10-22T11:22:41.463687",
     "exception": false,
     "start_time": "2024-10-22T11:22:40.592445",
     "status": "completed"
    },
    "tags": []
   },
   "outputs": [
    {
     "name": "stdout",
     "output_type": "stream",
     "text": [
      "Setup complete.\n"
     ]
    }
   ],
   "source": [
    "# Set up the exercise\n",
    "import math\n",
    "from learntools.core import binder\n",
    "binder.bind(globals())\n",
    "from learntools.intro_to_programming.ex2 import *\n",
    "print('Setup complete.')"
   ]
  },
  {
   "cell_type": "markdown",
   "id": "ab0ef0b0",
   "metadata": {
    "papermill": {
     "duration": 0.007552,
     "end_time": "2024-10-22T11:22:41.479155",
     "exception": false,
     "start_time": "2024-10-22T11:22:41.471603",
     "status": "completed"
    },
    "tags": []
   },
   "source": [
    "# Question 1\n",
    "\n",
    "In the [House Prices - Advanced Regression Techniques competition](https://www.kaggle.com/c/house-prices-advanced-regression-techniques/overview), you need to use information like the number of bedrooms and bathrooms to predict the price of a house.  Inspired by this competition, you'll write your own function to do this.\n",
    "\n",
    "In the next code cell, create a function `get_expected_cost()` that has two arguments:\n",
    "- `beds` - number of bedrooms \n",
    "- `baths` - number of bathrooms\n",
    "\n",
    "It should return the expected cost of a house with that number of bedrooms and bathrooms.  Assume that:\n",
    "- the expected cost for a house with 0 bedrooms and 0 bathrooms is `80000`.  \n",
    "- each bedroom adds `30000` to the expected cost\n",
    "- each bathroom adds `10000` to the expected cost.\n",
    "\n",
    "For instance, \n",
    "- a house with 1 bedroom and 1 bathroom has an expected cost of `120000`, and \n",
    "- a house with 2 bedrooms and 1 bathroom has an expected cost of `150000`."
   ]
  },
  {
   "cell_type": "code",
   "execution_count": 2,
   "id": "c6bfeaea",
   "metadata": {
    "execution": {
     "iopub.execute_input": "2024-10-22T11:22:41.496472Z",
     "iopub.status.busy": "2024-10-22T11:22:41.495901Z",
     "iopub.status.idle": "2024-10-22T11:22:41.506945Z",
     "shell.execute_reply": "2024-10-22T11:22:41.505992Z"
    },
    "papermill": {
     "duration": 0.02253,
     "end_time": "2024-10-22T11:22:41.509334",
     "exception": false,
     "start_time": "2024-10-22T11:22:41.486804",
     "status": "completed"
    },
    "tags": []
   },
   "outputs": [
    {
     "data": {
      "application/javascript": [
       "parent.postMessage({\"jupyterEvent\": \"custom.exercise_interaction\", \"data\": {\"outcomeType\": 1, \"valueTowardsCompletion\": 0.2, \"interactionType\": 1, \"questionType\": 2, \"questionId\": \"1_GetExpectedCost\", \"learnToolsVersion\": \"0.3.4\", \"failureMessage\": \"\", \"exceptionClass\": \"\", \"trace\": \"\"}}, \"*\")"
      ],
      "text/plain": [
       "<IPython.core.display.Javascript object>"
      ]
     },
     "metadata": {},
     "output_type": "display_data"
    },
    {
     "data": {
      "text/markdown": [
       "<span style=\"color:#33cc33\">Correct</span>"
      ],
      "text/plain": [
       "Correct"
      ]
     },
     "metadata": {},
     "output_type": "display_data"
    }
   ],
   "source": [
    "# TODO: Complete the function\n",
    "def get_expected_cost(beds, baths):\n",
    "    \n",
    "    value = 80000 + 30000 * beds + 10000 * baths\n",
    "    return value\n",
    "\n",
    "# Check your answer \n",
    "q1.check()"
   ]
  },
  {
   "cell_type": "code",
   "execution_count": 3,
   "id": "8106e979",
   "metadata": {
    "execution": {
     "iopub.execute_input": "2024-10-22T11:22:41.528286Z",
     "iopub.status.busy": "2024-10-22T11:22:41.527882Z",
     "iopub.status.idle": "2024-10-22T11:22:41.532354Z",
     "shell.execute_reply": "2024-10-22T11:22:41.531315Z"
    },
    "papermill": {
     "duration": 0.015932,
     "end_time": "2024-10-22T11:22:41.534524",
     "exception": false,
     "start_time": "2024-10-22T11:22:41.518592",
     "status": "completed"
    },
    "tags": []
   },
   "outputs": [],
   "source": [
    "# Uncomment to see a hint\n",
    "#q1.hint()\n",
    "\n",
    "# Uncomment to view the solution\n",
    "#q1.solution()"
   ]
  },
  {
   "cell_type": "markdown",
   "id": "bcb78a48",
   "metadata": {
    "papermill": {
     "duration": 0.007953,
     "end_time": "2024-10-22T11:22:41.550651",
     "exception": false,
     "start_time": "2024-10-22T11:22:41.542698",
     "status": "completed"
    },
    "tags": []
   },
   "source": [
    "# Question 2\n",
    "\n",
    "You are thinking about buying a home and want to get an idea of how much you will spend, based on the number of bedrooms and bathrooms.  You are trying to decide between four different options:\n",
    "- Option 1: house with two bedrooms and three bathrooms\n",
    "- Option 2: house with three bedrooms and two bathrooms\n",
    "- Option 3: house with three bedrooms and three bathrooms\n",
    "- Option 4: house with three bedrooms and four bathrooms\n",
    "\n",
    "Use the `get_expected_cost()` function you defined in question 1 to set `option_1`, `option_2`, `option_3`, and `option_4` to the expected cost of each option."
   ]
  },
  {
   "cell_type": "code",
   "execution_count": 4,
   "id": "2f88e652",
   "metadata": {
    "execution": {
     "iopub.execute_input": "2024-10-22T11:22:41.568773Z",
     "iopub.status.busy": "2024-10-22T11:22:41.568375Z",
     "iopub.status.idle": "2024-10-22T11:22:41.579491Z",
     "shell.execute_reply": "2024-10-22T11:22:41.578461Z"
    },
    "papermill": {
     "duration": 0.022951,
     "end_time": "2024-10-22T11:22:41.581793",
     "exception": false,
     "start_time": "2024-10-22T11:22:41.558842",
     "status": "completed"
    },
    "tags": []
   },
   "outputs": [
    {
     "name": "stdout",
     "output_type": "stream",
     "text": [
      "170000\n",
      "190000\n",
      "200000\n",
      "210000\n"
     ]
    },
    {
     "data": {
      "application/javascript": [
       "parent.postMessage({\"jupyterEvent\": \"custom.exercise_interaction\", \"data\": {\"outcomeType\": 1, \"valueTowardsCompletion\": 0.2, \"interactionType\": 1, \"questionType\": 1, \"questionId\": \"2_RunGetExpectedCost\", \"learnToolsVersion\": \"0.3.4\", \"failureMessage\": \"\", \"exceptionClass\": \"\", \"trace\": \"\"}}, \"*\")"
      ],
      "text/plain": [
       "<IPython.core.display.Javascript object>"
      ]
     },
     "metadata": {},
     "output_type": "display_data"
    },
    {
     "data": {
      "text/markdown": [
       "<span style=\"color:#33cc33\">Correct</span>"
      ],
      "text/plain": [
       "Correct"
      ]
     },
     "metadata": {},
     "output_type": "display_data"
    }
   ],
   "source": [
    "# TODO: Use the get_expected_cost function to fill in each value\n",
    "option_one = get_expected_cost(2,3)\n",
    "option_two = get_expected_cost(3,2)\n",
    "option_three = get_expected_cost(3,3)\n",
    "option_four = get_expected_cost(3,4)\n",
    "\n",
    "print(option_one)\n",
    "print(option_two)\n",
    "print(option_three)\n",
    "print(option_four)\n",
    "\n",
    "# Check your answer\n",
    "q2.check()"
   ]
  },
  {
   "cell_type": "code",
   "execution_count": 5,
   "id": "f664f2c4",
   "metadata": {
    "execution": {
     "iopub.execute_input": "2024-10-22T11:22:41.601692Z",
     "iopub.status.busy": "2024-10-22T11:22:41.600629Z",
     "iopub.status.idle": "2024-10-22T11:22:41.605735Z",
     "shell.execute_reply": "2024-10-22T11:22:41.604595Z"
    },
    "papermill": {
     "duration": 0.017636,
     "end_time": "2024-10-22T11:22:41.608227",
     "exception": false,
     "start_time": "2024-10-22T11:22:41.590591",
     "status": "completed"
    },
    "tags": []
   },
   "outputs": [],
   "source": [
    "# Uncomment to see a hint\n",
    "#q2.hint()\n",
    "\n",
    "# Uncomment to view the solution\n",
    "#q2.solution()"
   ]
  },
  {
   "cell_type": "markdown",
   "id": "25b09812",
   "metadata": {
    "papermill": {
     "duration": 0.008535,
     "end_time": "2024-10-22T11:22:41.625597",
     "exception": false,
     "start_time": "2024-10-22T11:22:41.617062",
     "status": "completed"
    },
    "tags": []
   },
   "source": [
    "# Question 3\n",
    "\n",
    "You're a home decorator, and you'd like to use Python to streamline some of your work.  Specifically, you're creating a tool that you intend to use to calculate the cost of painting a room.\n",
    "\n",
    "As a first step, define a function `get_cost()` that takes as input:\n",
    "- `sqft_walls` = total square feet of walls to be painted\n",
    "- `sqft_ceiling` = square feet of ceiling to be painted\n",
    "- `sqft_per_gallon` = number of square feet that you can cover with one gallon of paint\n",
    "- `cost_per_gallon` = cost (in dollars) of one gallon of paint\n",
    "\n",
    "It should return the cost (in dollars) of putting one coat of paint on all walls and the ceiling.  Assume you can buy the exact amount of paint that you need, so you can buy partial gallons (e.g., if you need 7.523 gallons, you can buy that exact amount, instead of needing to buy 8 gallons and waste some paint).  Do not round your answer."
   ]
  },
  {
   "cell_type": "code",
   "execution_count": 6,
   "id": "ea86b6d4",
   "metadata": {
    "execution": {
     "iopub.execute_input": "2024-10-22T11:22:41.644665Z",
     "iopub.status.busy": "2024-10-22T11:22:41.644208Z",
     "iopub.status.idle": "2024-10-22T11:22:41.653639Z",
     "shell.execute_reply": "2024-10-22T11:22:41.652700Z"
    },
    "papermill": {
     "duration": 0.021725,
     "end_time": "2024-10-22T11:22:41.656070",
     "exception": false,
     "start_time": "2024-10-22T11:22:41.634345",
     "status": "completed"
    },
    "tags": []
   },
   "outputs": [
    {
     "data": {
      "application/javascript": [
       "parent.postMessage({\"jupyterEvent\": \"custom.exercise_interaction\", \"data\": {\"outcomeType\": 1, \"valueTowardsCompletion\": 0.2, \"interactionType\": 1, \"questionType\": 2, \"questionId\": \"3_GetCostPaint\", \"learnToolsVersion\": \"0.3.4\", \"failureMessage\": \"\", \"exceptionClass\": \"\", \"trace\": \"\"}}, \"*\")"
      ],
      "text/plain": [
       "<IPython.core.display.Javascript object>"
      ]
     },
     "metadata": {},
     "output_type": "display_data"
    },
    {
     "data": {
      "text/markdown": [
       "<span style=\"color:#33cc33\">Correct</span>"
      ],
      "text/plain": [
       "Correct"
      ]
     },
     "metadata": {},
     "output_type": "display_data"
    }
   ],
   "source": [
    "# TODO: Finish defining the function\n",
    "def get_cost(sqft_walls, sqft_ceiling, sqft_per_gallon, cost_per_gallon):\n",
    "    total = sqft_walls + sqft_ceiling\n",
    "    needed = total / sqft_per_gallon\n",
    "\n",
    "    \n",
    "    \n",
    "    cost = needed * cost_per_gallon\n",
    "    return cost\n",
    "\n",
    "# Check your answer\n",
    "q3.check()"
   ]
  },
  {
   "cell_type": "code",
   "execution_count": 7,
   "id": "75d3f4e0",
   "metadata": {
    "execution": {
     "iopub.execute_input": "2024-10-22T11:22:41.676348Z",
     "iopub.status.busy": "2024-10-22T11:22:41.675937Z",
     "iopub.status.idle": "2024-10-22T11:22:41.680691Z",
     "shell.execute_reply": "2024-10-22T11:22:41.679614Z"
    },
    "papermill": {
     "duration": 0.017746,
     "end_time": "2024-10-22T11:22:41.683001",
     "exception": false,
     "start_time": "2024-10-22T11:22:41.665255",
     "status": "completed"
    },
    "tags": []
   },
   "outputs": [],
   "source": [
    "# Uncomment to see a hint\n",
    "#q3.hint()\n",
    "\n",
    "# Uncomment to view the solution\n",
    "#q3.solution()"
   ]
  },
  {
   "cell_type": "markdown",
   "id": "4c6cccf5",
   "metadata": {
    "papermill": {
     "duration": 0.008642,
     "end_time": "2024-10-22T11:22:41.700773",
     "exception": false,
     "start_time": "2024-10-22T11:22:41.692131",
     "status": "completed"
    },
    "tags": []
   },
   "source": [
    "# Question 4\n",
    "\n",
    "Use the `get_cost()` function you defined in Question 3 to calculate the cost of applying one coat of paint to a room with:\n",
    "- 432 square feet of walls, and\n",
    "- 144 square feet of ceiling.\n",
    "\n",
    "Assume that one gallon of paint covers 400 square feet and costs $15.  As in Question 3, assume you can buy partial gallons of paint.  Do not round your answer."
   ]
  },
  {
   "cell_type": "code",
   "execution_count": 8,
   "id": "a39da6a3",
   "metadata": {
    "execution": {
     "iopub.execute_input": "2024-10-22T11:22:41.720853Z",
     "iopub.status.busy": "2024-10-22T11:22:41.720104Z",
     "iopub.status.idle": "2024-10-22T11:22:41.729211Z",
     "shell.execute_reply": "2024-10-22T11:22:41.728250Z"
    },
    "papermill": {
     "duration": 0.021857,
     "end_time": "2024-10-22T11:22:41.731666",
     "exception": false,
     "start_time": "2024-10-22T11:22:41.709809",
     "status": "completed"
    },
    "tags": []
   },
   "outputs": [
    {
     "data": {
      "application/javascript": [
       "parent.postMessage({\"jupyterEvent\": \"custom.exercise_interaction\", \"data\": {\"outcomeType\": 1, \"valueTowardsCompletion\": 0.2, \"interactionType\": 1, \"questionType\": 1, \"questionId\": \"4_GetCostPaintExample\", \"learnToolsVersion\": \"0.3.4\", \"failureMessage\": \"\", \"exceptionClass\": \"\", \"trace\": \"\"}}, \"*\")"
      ],
      "text/plain": [
       "<IPython.core.display.Javascript object>"
      ]
     },
     "metadata": {},
     "output_type": "display_data"
    },
    {
     "data": {
      "text/markdown": [
       "<span style=\"color:#33cc33\">Correct</span>"
      ],
      "text/plain": [
       "Correct"
      ]
     },
     "metadata": {},
     "output_type": "display_data"
    }
   ],
   "source": [
    "# TODO: Set the project_cost variable to the cost of the project\n",
    "project_cost = get_cost(432, 144, 400, 15)\n",
    "\n",
    "# Check your answer\n",
    "q4.check()"
   ]
  },
  {
   "cell_type": "code",
   "execution_count": 9,
   "id": "c2eb4938",
   "metadata": {
    "execution": {
     "iopub.execute_input": "2024-10-22T11:22:41.752098Z",
     "iopub.status.busy": "2024-10-22T11:22:41.751675Z",
     "iopub.status.idle": "2024-10-22T11:22:41.756160Z",
     "shell.execute_reply": "2024-10-22T11:22:41.755191Z"
    },
    "papermill": {
     "duration": 0.017282,
     "end_time": "2024-10-22T11:22:41.758324",
     "exception": false,
     "start_time": "2024-10-22T11:22:41.741042",
     "status": "completed"
    },
    "tags": []
   },
   "outputs": [],
   "source": [
    "# Uncomment to see a hint\n",
    "#q4.hint()\n",
    "\n",
    "# Uncomment to view the solution\n",
    "#q4.solution()"
   ]
  },
  {
   "cell_type": "markdown",
   "id": "e2e6d532",
   "metadata": {
    "papermill": {
     "duration": 0.009284,
     "end_time": "2024-10-22T11:22:41.776993",
     "exception": false,
     "start_time": "2024-10-22T11:22:41.767709",
     "status": "completed"
    },
    "tags": []
   },
   "source": [
    "# 🌶️ Question 5\n",
    "\n",
    "Now say you can no longer buy fractions of a gallon.  (For instance, if you need 4.3 gallons to do a project, then you have to buy 5 gallons of paint.)\n",
    "\n",
    "With this new scenario, you will create a new function `get_actual_cost` that uses the same inputs and calculates the cost of your project.\n",
    "\n",
    "One function that you'll need to use to do this is `math.ceil()`.  We demonstrate usage of this function in the code cell below.  It takes as a number as input and rounds the number up to the nearest integer.  \n",
    "\n",
    "Run the next code cell to test this function for yourself.  Feel free to change the value of `test_value` and make sure `math.ceil()` returns the number you expect."
   ]
  },
  {
   "cell_type": "code",
   "execution_count": 10,
   "id": "a9516286",
   "metadata": {
    "execution": {
     "iopub.execute_input": "2024-10-22T11:22:41.798439Z",
     "iopub.status.busy": "2024-10-22T11:22:41.798010Z",
     "iopub.status.idle": "2024-10-22T11:22:41.803487Z",
     "shell.execute_reply": "2024-10-22T11:22:41.802459Z"
    },
    "papermill": {
     "duration": 0.020679,
     "end_time": "2024-10-22T11:22:41.806865",
     "exception": false,
     "start_time": "2024-10-22T11:22:41.786186",
     "status": "completed"
    },
    "tags": []
   },
   "outputs": [
    {
     "name": "stdout",
     "output_type": "stream",
     "text": [
      "3\n"
     ]
    }
   ],
   "source": [
    "test_value = 2.17\n",
    "\n",
    "rounded_value = math.ceil(test_value)\n",
    "print(rounded_value)"
   ]
  },
  {
   "cell_type": "markdown",
   "id": "d0792e97",
   "metadata": {
    "papermill": {
     "duration": 0.009596,
     "end_time": "2024-10-22T11:22:41.826370",
     "exception": false,
     "start_time": "2024-10-22T11:22:41.816774",
     "status": "completed"
    },
    "tags": []
   },
   "source": [
    "Use the next code cell to define the function `get_actual_cost()`.  You'll need to use the `math.ceil()` function to do this.\n",
    "\n",
    "When answering this question, note that it's completely valid to define a function that makes use of another function.  For instance, we can define a function `round_up_and_divide_by_three` that makes use of the `math.ceil` function:\n",
    "```\n",
    "def round_up_and_divide_by_three(num):\n",
    "    new_value = math.ceil(num)\n",
    "    final_value = new_value / 3\n",
    "    return final_value\n",
    "```"
   ]
  },
  {
   "cell_type": "code",
   "execution_count": 11,
   "id": "d14cd7e7",
   "metadata": {
    "execution": {
     "iopub.execute_input": "2024-10-22T11:22:41.847148Z",
     "iopub.status.busy": "2024-10-22T11:22:41.846738Z",
     "iopub.status.idle": "2024-10-22T11:22:41.856256Z",
     "shell.execute_reply": "2024-10-22T11:22:41.855138Z"
    },
    "papermill": {
     "duration": 0.02256,
     "end_time": "2024-10-22T11:22:41.858605",
     "exception": false,
     "start_time": "2024-10-22T11:22:41.836045",
     "status": "completed"
    },
    "tags": []
   },
   "outputs": [
    {
     "data": {
      "application/javascript": [
       "parent.postMessage({\"jupyterEvent\": \"custom.exercise_interaction\", \"data\": {\"outcomeType\": 2, \"failureMessage\": \"Expected return value of `30` given `sqft_walls=432`, `sqft_ceiling=144`, `sqft_per_gallon=400`, `cost_per_gallon=15`, but got `<learntools.core.constants.PlaceholderValue object at 0x7caae06c0af0>` instead.\", \"interactionType\": 1, \"questionType\": 2, \"questionId\": \"5_NoMoreFractions\", \"learnToolsVersion\": \"0.3.4\", \"valueTowardsCompletion\": 0.0, \"exceptionClass\": \"\", \"trace\": \"\"}}, \"*\")"
      ],
      "text/plain": [
       "<IPython.core.display.Javascript object>"
      ]
     },
     "metadata": {},
     "output_type": "display_data"
    },
    {
     "data": {
      "text/markdown": [
       "<span style=\"color:#cc3333\">Incorrect:</span> Expected return value of `30` given `sqft_walls=432`, `sqft_ceiling=144`, `sqft_per_gallon=400`, `cost_per_gallon=15`, but got `<learntools.core.constants.PlaceholderValue object at 0x7caae06c0af0>` instead."
      ],
      "text/plain": [
       "Incorrect: Expected return value of `30` given `sqft_walls=432`, `sqft_ceiling=144`, `sqft_per_gallon=400`, `cost_per_gallon=15`, but got `<learntools.core.constants.PlaceholderValue object at 0x7caae06c0af0>` instead."
      ]
     },
     "metadata": {},
     "output_type": "display_data"
    }
   ],
   "source": [
    "def get_actual_cost(sqft_walls, sqft_ceiling, sqft_per_gallon, cost_per_gallon):\n",
    "    cost = ____\n",
    "    return cost\n",
    "\n",
    "# Check your answer\n",
    "q5.check()"
   ]
  },
  {
   "cell_type": "code",
   "execution_count": 12,
   "id": "cd5f85c4",
   "metadata": {
    "execution": {
     "iopub.execute_input": "2024-10-22T11:22:41.879845Z",
     "iopub.status.busy": "2024-10-22T11:22:41.879127Z",
     "iopub.status.idle": "2024-10-22T11:22:41.883472Z",
     "shell.execute_reply": "2024-10-22T11:22:41.882479Z"
    },
    "papermill": {
     "duration": 0.017535,
     "end_time": "2024-10-22T11:22:41.885744",
     "exception": false,
     "start_time": "2024-10-22T11:22:41.868209",
     "status": "completed"
    },
    "tags": []
   },
   "outputs": [],
   "source": [
    "# Uncomment to see a hint\n",
    "#q5.hint()\n",
    "\n",
    "# Uncomment to view the solution\n",
    "#q5.solution()"
   ]
  },
  {
   "cell_type": "markdown",
   "id": "607d1820",
   "metadata": {
    "papermill": {
     "duration": 0.009339,
     "end_time": "2024-10-22T11:22:41.904860",
     "exception": false,
     "start_time": "2024-10-22T11:22:41.895521",
     "status": "completed"
    },
    "tags": []
   },
   "source": [
    "Once your function is verified as correct, run the next code cell to calculate the updated cost of your project."
   ]
  },
  {
   "cell_type": "code",
   "execution_count": 13,
   "id": "6fff39b7",
   "metadata": {
    "execution": {
     "iopub.execute_input": "2024-10-22T11:22:41.926184Z",
     "iopub.status.busy": "2024-10-22T11:22:41.925351Z",
     "iopub.status.idle": "2024-10-22T11:22:41.932366Z",
     "shell.execute_reply": "2024-10-22T11:22:41.931345Z"
    },
    "papermill": {
     "duration": 0.020321,
     "end_time": "2024-10-22T11:22:41.934822",
     "exception": false,
     "start_time": "2024-10-22T11:22:41.914501",
     "status": "completed"
    },
    "tags": []
   },
   "outputs": [
    {
     "data": {
      "text/markdown": [],
      "text/plain": [
       "<learntools.core.constants.PlaceholderValue at 0x7caae06c0af0>"
      ]
     },
     "execution_count": 13,
     "metadata": {},
     "output_type": "execute_result"
    }
   ],
   "source": [
    "get_actual_cost(432, 144, 400, 15) "
   ]
  },
  {
   "cell_type": "markdown",
   "id": "0a8aa1a0",
   "metadata": {
    "papermill": {
     "duration": 0.009717,
     "end_time": "2024-10-22T11:22:41.954515",
     "exception": false,
     "start_time": "2024-10-22T11:22:41.944798",
     "status": "completed"
    },
    "tags": []
   },
   "source": [
    "Say you're working with a slightly larger room.  Run the next code cell to calculate the cost of the project."
   ]
  },
  {
   "cell_type": "code",
   "execution_count": 14,
   "id": "555c7f91",
   "metadata": {
    "execution": {
     "iopub.execute_input": "2024-10-22T11:22:41.976020Z",
     "iopub.status.busy": "2024-10-22T11:22:41.975567Z",
     "iopub.status.idle": "2024-10-22T11:22:41.995138Z",
     "shell.execute_reply": "2024-10-22T11:22:41.994038Z"
    },
    "papermill": {
     "duration": 0.033503,
     "end_time": "2024-10-22T11:22:41.997929",
     "exception": false,
     "start_time": "2024-10-22T11:22:41.964426",
     "status": "completed"
    },
    "tags": []
   },
   "outputs": [
    {
     "data": {
      "text/markdown": [],
      "text/plain": [
       "<learntools.core.constants.PlaceholderValue at 0x7caae06c0af0>"
      ]
     },
     "execution_count": 14,
     "metadata": {},
     "output_type": "execute_result"
    }
   ],
   "source": [
    "get_actual_cost(594, 288, 400, 15) "
   ]
  },
  {
   "cell_type": "markdown",
   "id": "1f440d88",
   "metadata": {
    "papermill": {
     "duration": 0.009828,
     "end_time": "2024-10-22T11:22:42.017713",
     "exception": false,
     "start_time": "2024-10-22T11:22:42.007885",
     "status": "completed"
    },
    "tags": []
   },
   "source": [
    "# Keep going\n",
    "\n",
    "Continue to learn about **[data types](https://www.kaggle.com/alexisbcook/data-types)**."
   ]
  },
  {
   "cell_type": "markdown",
   "id": "7194ec4d",
   "metadata": {
    "papermill": {
     "duration": 0.009905,
     "end_time": "2024-10-22T11:22:42.037611",
     "exception": false,
     "start_time": "2024-10-22T11:22:42.027706",
     "status": "completed"
    },
    "tags": []
   },
   "source": [
    "---\n",
    "\n",
    "\n",
    "\n",
    "\n",
    "*Have questions or comments? Visit the [course discussion forum](https://www.kaggle.com/learn/intro-to-programming/discussion) to chat with other learners.*"
   ]
  }
 ],
 "metadata": {
  "kaggle": {
   "accelerator": "none",
   "dataSources": [],
   "isGpuEnabled": false,
   "isInternetEnabled": false,
   "language": "python",
   "sourceType": "notebook"
  },
  "kernelspec": {
   "display_name": "Python 3",
   "language": "python",
   "name": "python3"
  },
  "language_info": {
   "codemirror_mode": {
    "name": "ipython",
    "version": 3
   },
   "file_extension": ".py",
   "mimetype": "text/x-python",
   "name": "python",
   "nbconvert_exporter": "python",
   "pygments_lexer": "ipython3",
   "version": "3.10.14"
  },
  "papermill": {
   "default_parameters": {},
   "duration": 4.810811,
   "end_time": "2024-10-22T11:22:42.467288",
   "environment_variables": {},
   "exception": null,
   "input_path": "__notebook__.ipynb",
   "output_path": "__notebook__.ipynb",
   "parameters": {},
   "start_time": "2024-10-22T11:22:37.656477",
   "version": "2.6.0"
  }
 },
 "nbformat": 4,
 "nbformat_minor": 5
}
