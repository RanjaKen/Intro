{
 "cells": [
  {
   "cell_type": "markdown",
   "id": "8ab8f3eb",
   "metadata": {
    "papermill": {
     "duration": 0.008706,
     "end_time": "2024-10-30T18:26:00.596893",
     "exception": false,
     "start_time": "2024-10-30T18:26:00.588187",
     "status": "completed"
    },
    "tags": []
   },
   "source": [
    "**This notebook is an exercise in the [Intro to Programming](https://www.kaggle.com/learn/intro-to-programming) course.  You can reference the tutorial at [this link](https://www.kaggle.com/alexisbcook/functions).**\n",
    "\n",
    "---\n"
   ]
  },
  {
   "cell_type": "markdown",
   "id": "09d89bde",
   "metadata": {
    "papermill": {
     "duration": 0.007432,
     "end_time": "2024-10-30T18:26:00.612397",
     "exception": false,
     "start_time": "2024-10-30T18:26:00.604965",
     "status": "completed"
    },
    "tags": []
   },
   "source": [
    "In the tutorial, you learned about functions. In this exercise, you'll write some of your own!\n",
    "\n",
    "# Set up the notebook\n",
    "\n",
    "Run the next code cell without changes to set up the notebook."
   ]
  },
  {
   "cell_type": "code",
   "execution_count": 1,
   "id": "2a2f10b0",
   "metadata": {
    "execution": {
     "iopub.execute_input": "2024-10-30T18:26:00.629540Z",
     "iopub.status.busy": "2024-10-30T18:26:00.629109Z",
     "iopub.status.idle": "2024-10-30T18:26:01.542029Z",
     "shell.execute_reply": "2024-10-30T18:26:01.540871Z"
    },
    "papermill": {
     "duration": 0.924351,
     "end_time": "2024-10-30T18:26:01.544495",
     "exception": false,
     "start_time": "2024-10-30T18:26:00.620144",
     "status": "completed"
    },
    "tags": []
   },
   "outputs": [
    {
     "name": "stdout",
     "output_type": "stream",
     "text": [
      "Setup complete.\n"
     ]
    }
   ],
   "source": [
    "# Set up the exercise\n",
    "import math\n",
    "from learntools.core import binder\n",
    "binder.bind(globals())\n",
    "from learntools.intro_to_programming.ex2 import *\n",
    "print('Setup complete.')"
   ]
  },
  {
   "cell_type": "markdown",
   "id": "0b153a3a",
   "metadata": {
    "papermill": {
     "duration": 0.007655,
     "end_time": "2024-10-30T18:26:01.560161",
     "exception": false,
     "start_time": "2024-10-30T18:26:01.552506",
     "status": "completed"
    },
    "tags": []
   },
   "source": [
    "# Question 1\n",
    "\n",
    "In the [House Prices - Advanced Regression Techniques competition](https://www.kaggle.com/c/house-prices-advanced-regression-techniques/overview), you need to use information like the number of bedrooms and bathrooms to predict the price of a house.  Inspired by this competition, you'll write your own function to do this.\n",
    "\n",
    "In the next code cell, create a function `get_expected_cost()` that has two arguments:\n",
    "- `beds` - number of bedrooms \n",
    "- `baths` - number of bathrooms\n",
    "\n",
    "It should return the expected cost of a house with that number of bedrooms and bathrooms.  Assume that:\n",
    "- the expected cost for a house with 0 bedrooms and 0 bathrooms is `80000`.  \n",
    "- each bedroom adds `30000` to the expected cost\n",
    "- each bathroom adds `10000` to the expected cost.\n",
    "\n",
    "For instance, \n",
    "- a house with 1 bedroom and 1 bathroom has an expected cost of `120000`, and \n",
    "- a house with 2 bedrooms and 1 bathroom has an expected cost of `150000`."
   ]
  },
  {
   "cell_type": "code",
   "execution_count": 2,
   "id": "4a29423f",
   "metadata": {
    "execution": {
     "iopub.execute_input": "2024-10-30T18:26:01.577555Z",
     "iopub.status.busy": "2024-10-30T18:26:01.577028Z",
     "iopub.status.idle": "2024-10-30T18:26:01.588313Z",
     "shell.execute_reply": "2024-10-30T18:26:01.587335Z"
    },
    "papermill": {
     "duration": 0.022674,
     "end_time": "2024-10-30T18:26:01.590578",
     "exception": false,
     "start_time": "2024-10-30T18:26:01.567904",
     "status": "completed"
    },
    "tags": []
   },
   "outputs": [
    {
     "data": {
      "application/javascript": [
       "parent.postMessage({\"jupyterEvent\": \"custom.exercise_interaction\", \"data\": {\"outcomeType\": 1, \"valueTowardsCompletion\": 0.2, \"interactionType\": 1, \"questionType\": 2, \"questionId\": \"1_GetExpectedCost\", \"learnToolsVersion\": \"0.3.4\", \"failureMessage\": \"\", \"exceptionClass\": \"\", \"trace\": \"\"}}, \"*\")"
      ],
      "text/plain": [
       "<IPython.core.display.Javascript object>"
      ]
     },
     "metadata": {},
     "output_type": "display_data"
    },
    {
     "data": {
      "text/markdown": [
       "<span style=\"color:#33cc33\">Correct</span>"
      ],
      "text/plain": [
       "Correct"
      ]
     },
     "metadata": {},
     "output_type": "display_data"
    }
   ],
   "source": [
    "# TODO: Complete the function\n",
    "def get_expected_cost(beds, baths):\n",
    "    \n",
    "    value = 80000 + 30000 * beds + 10000 * baths\n",
    "    return value\n",
    "\n",
    "# Check your answer \n",
    "q1.check()"
   ]
  },
  {
   "cell_type": "code",
   "execution_count": 3,
   "id": "8539cac9",
   "metadata": {
    "execution": {
     "iopub.execute_input": "2024-10-30T18:26:01.609638Z",
     "iopub.status.busy": "2024-10-30T18:26:01.609230Z",
     "iopub.status.idle": "2024-10-30T18:26:01.613884Z",
     "shell.execute_reply": "2024-10-30T18:26:01.612876Z"
    },
    "papermill": {
     "duration": 0.016515,
     "end_time": "2024-10-30T18:26:01.616265",
     "exception": false,
     "start_time": "2024-10-30T18:26:01.599750",
     "status": "completed"
    },
    "tags": []
   },
   "outputs": [],
   "source": [
    "# Uncomment to see a hint\n",
    "#q1.hint()\n",
    "\n",
    "# Uncomment to view the solution\n",
    "#q1.solution()"
   ]
  },
  {
   "cell_type": "markdown",
   "id": "172b7670",
   "metadata": {
    "papermill": {
     "duration": 0.008072,
     "end_time": "2024-10-30T18:26:01.632679",
     "exception": false,
     "start_time": "2024-10-30T18:26:01.624607",
     "status": "completed"
    },
    "tags": []
   },
   "source": [
    "# Question 2\n",
    "\n",
    "You are thinking about buying a home and want to get an idea of how much you will spend, based on the number of bedrooms and bathrooms.  You are trying to decide between four different options:\n",
    "- Option 1: house with two bedrooms and three bathrooms\n",
    "- Option 2: house with three bedrooms and two bathrooms\n",
    "- Option 3: house with three bedrooms and three bathrooms\n",
    "- Option 4: house with three bedrooms and four bathrooms\n",
    "\n",
    "Use the `get_expected_cost()` function you defined in question 1 to set `option_1`, `option_2`, `option_3`, and `option_4` to the expected cost of each option."
   ]
  },
  {
   "cell_type": "code",
   "execution_count": 4,
   "id": "290a5b66",
   "metadata": {
    "execution": {
     "iopub.execute_input": "2024-10-30T18:26:01.651330Z",
     "iopub.status.busy": "2024-10-30T18:26:01.650371Z",
     "iopub.status.idle": "2024-10-30T18:26:01.661746Z",
     "shell.execute_reply": "2024-10-30T18:26:01.660581Z"
    },
    "papermill": {
     "duration": 0.023683,
     "end_time": "2024-10-30T18:26:01.664590",
     "exception": false,
     "start_time": "2024-10-30T18:26:01.640907",
     "status": "completed"
    },
    "tags": []
   },
   "outputs": [
    {
     "name": "stdout",
     "output_type": "stream",
     "text": [
      "170000\n",
      "190000\n",
      "200000\n",
      "210000\n"
     ]
    },
    {
     "data": {
      "application/javascript": [
       "parent.postMessage({\"jupyterEvent\": \"custom.exercise_interaction\", \"data\": {\"outcomeType\": 1, \"valueTowardsCompletion\": 0.2, \"interactionType\": 1, \"questionType\": 1, \"questionId\": \"2_RunGetExpectedCost\", \"learnToolsVersion\": \"0.3.4\", \"failureMessage\": \"\", \"exceptionClass\": \"\", \"trace\": \"\"}}, \"*\")"
      ],
      "text/plain": [
       "<IPython.core.display.Javascript object>"
      ]
     },
     "metadata": {},
     "output_type": "display_data"
    },
    {
     "data": {
      "text/markdown": [
       "<span style=\"color:#33cc33\">Correct</span>"
      ],
      "text/plain": [
       "Correct"
      ]
     },
     "metadata": {},
     "output_type": "display_data"
    }
   ],
   "source": [
    "# TODO: Use the get_expected_cost function to fill in each value\n",
    "option_one = get_expected_cost(2,3)\n",
    "option_two = get_expected_cost(3,2)\n",
    "option_three = get_expected_cost(3,3)\n",
    "option_four = get_expected_cost(3,4)\n",
    "\n",
    "print(option_one)\n",
    "print(option_two)\n",
    "print(option_three)\n",
    "print(option_four)\n",
    "\n",
    "# Check your answer\n",
    "q2.check()"
   ]
  },
  {
   "cell_type": "code",
   "execution_count": 5,
   "id": "69df3c54",
   "metadata": {
    "execution": {
     "iopub.execute_input": "2024-10-30T18:26:01.683400Z",
     "iopub.status.busy": "2024-10-30T18:26:01.682994Z",
     "iopub.status.idle": "2024-10-30T18:26:01.687749Z",
     "shell.execute_reply": "2024-10-30T18:26:01.686669Z"
    },
    "papermill": {
     "duration": 0.016965,
     "end_time": "2024-10-30T18:26:01.690127",
     "exception": false,
     "start_time": "2024-10-30T18:26:01.673162",
     "status": "completed"
    },
    "tags": []
   },
   "outputs": [],
   "source": [
    "# Uncomment to see a hint\n",
    "#q2.hint()\n",
    "\n",
    "# Uncomment to view the solution\n",
    "#q2.solution()"
   ]
  },
  {
   "cell_type": "markdown",
   "id": "7b66e3e7",
   "metadata": {
    "papermill": {
     "duration": 0.008283,
     "end_time": "2024-10-30T18:26:01.707113",
     "exception": false,
     "start_time": "2024-10-30T18:26:01.698830",
     "status": "completed"
    },
    "tags": []
   },
   "source": [
    "# Question 3\n",
    "\n",
    "You're a home decorator, and you'd like to use Python to streamline some of your work.  Specifically, you're creating a tool that you intend to use to calculate the cost of painting a room.\n",
    "\n",
    "As a first step, define a function `get_cost()` that takes as input:\n",
    "- `sqft_walls` = total square feet of walls to be painted\n",
    "- `sqft_ceiling` = square feet of ceiling to be painted\n",
    "- `sqft_per_gallon` = number of square feet that you can cover with one gallon of paint\n",
    "- `cost_per_gallon` = cost (in dollars) of one gallon of paint\n",
    "\n",
    "It should return the cost (in dollars) of putting one coat of paint on all walls and the ceiling.  Assume you can buy the exact amount of paint that you need, so you can buy partial gallons (e.g., if you need 7.523 gallons, you can buy that exact amount, instead of needing to buy 8 gallons and waste some paint).  Do not round your answer."
   ]
  },
  {
   "cell_type": "code",
   "execution_count": 6,
   "id": "3093f6bb",
   "metadata": {
    "execution": {
     "iopub.execute_input": "2024-10-30T18:26:01.725760Z",
     "iopub.status.busy": "2024-10-30T18:26:01.725345Z",
     "iopub.status.idle": "2024-10-30T18:26:01.735114Z",
     "shell.execute_reply": "2024-10-30T18:26:01.734146Z"
    },
    "papermill": {
     "duration": 0.022101,
     "end_time": "2024-10-30T18:26:01.737658",
     "exception": false,
     "start_time": "2024-10-30T18:26:01.715557",
     "status": "completed"
    },
    "tags": []
   },
   "outputs": [
    {
     "data": {
      "application/javascript": [
       "parent.postMessage({\"jupyterEvent\": \"custom.exercise_interaction\", \"data\": {\"outcomeType\": 1, \"valueTowardsCompletion\": 0.2, \"interactionType\": 1, \"questionType\": 2, \"questionId\": \"3_GetCostPaint\", \"learnToolsVersion\": \"0.3.4\", \"failureMessage\": \"\", \"exceptionClass\": \"\", \"trace\": \"\"}}, \"*\")"
      ],
      "text/plain": [
       "<IPython.core.display.Javascript object>"
      ]
     },
     "metadata": {},
     "output_type": "display_data"
    },
    {
     "data": {
      "text/markdown": [
       "<span style=\"color:#33cc33\">Correct</span>"
      ],
      "text/plain": [
       "Correct"
      ]
     },
     "metadata": {},
     "output_type": "display_data"
    }
   ],
   "source": [
    "# TODO: Finish defining the function\n",
    "def get_cost(sqft_walls, sqft_ceiling, sqft_per_gallon, cost_per_gallon):\n",
    "    total = sqft_walls + sqft_ceiling\n",
    "    needed = total / sqft_per_gallon\n",
    "\n",
    "    \n",
    "    \n",
    "    cost = needed * cost_per_gallon\n",
    "    return cost\n",
    "\n",
    "# Check your answer\n",
    "q3.check()"
   ]
  },
  {
   "cell_type": "code",
   "execution_count": 7,
   "id": "4ab5b184",
   "metadata": {
    "execution": {
     "iopub.execute_input": "2024-10-30T18:26:01.757469Z",
     "iopub.status.busy": "2024-10-30T18:26:01.757048Z",
     "iopub.status.idle": "2024-10-30T18:26:01.761906Z",
     "shell.execute_reply": "2024-10-30T18:26:01.760766Z"
    },
    "papermill": {
     "duration": 0.017592,
     "end_time": "2024-10-30T18:26:01.764325",
     "exception": false,
     "start_time": "2024-10-30T18:26:01.746733",
     "status": "completed"
    },
    "tags": []
   },
   "outputs": [],
   "source": [
    "# Uncomment to see a hint\n",
    "#q3.hint()\n",
    "\n",
    "# Uncomment to view the solution\n",
    "#q3.solution()"
   ]
  },
  {
   "cell_type": "markdown",
   "id": "a3ed9b94",
   "metadata": {
    "papermill": {
     "duration": 0.008756,
     "end_time": "2024-10-30T18:26:01.781910",
     "exception": false,
     "start_time": "2024-10-30T18:26:01.773154",
     "status": "completed"
    },
    "tags": []
   },
   "source": [
    "# Question 4\n",
    "\n",
    "Use the `get_cost()` function you defined in Question 3 to calculate the cost of applying one coat of paint to a room with:\n",
    "- 432 square feet of walls, and\n",
    "- 144 square feet of ceiling.\n",
    "\n",
    "Assume that one gallon of paint covers 400 square feet and costs $15.  As in Question 3, assume you can buy partial gallons of paint.  Do not round your answer."
   ]
  },
  {
   "cell_type": "code",
   "execution_count": 8,
   "id": "77e68228",
   "metadata": {
    "execution": {
     "iopub.execute_input": "2024-10-30T18:26:01.801909Z",
     "iopub.status.busy": "2024-10-30T18:26:01.801447Z",
     "iopub.status.idle": "2024-10-30T18:26:01.811223Z",
     "shell.execute_reply": "2024-10-30T18:26:01.809894Z"
    },
    "papermill": {
     "duration": 0.02285,
     "end_time": "2024-10-30T18:26:01.813776",
     "exception": false,
     "start_time": "2024-10-30T18:26:01.790926",
     "status": "completed"
    },
    "tags": []
   },
   "outputs": [
    {
     "data": {
      "application/javascript": [
       "parent.postMessage({\"jupyterEvent\": \"custom.exercise_interaction\", \"data\": {\"outcomeType\": 1, \"valueTowardsCompletion\": 0.2, \"interactionType\": 1, \"questionType\": 1, \"questionId\": \"4_GetCostPaintExample\", \"learnToolsVersion\": \"0.3.4\", \"failureMessage\": \"\", \"exceptionClass\": \"\", \"trace\": \"\"}}, \"*\")"
      ],
      "text/plain": [
       "<IPython.core.display.Javascript object>"
      ]
     },
     "metadata": {},
     "output_type": "display_data"
    },
    {
     "data": {
      "text/markdown": [
       "<span style=\"color:#33cc33\">Correct</span>"
      ],
      "text/plain": [
       "Correct"
      ]
     },
     "metadata": {},
     "output_type": "display_data"
    }
   ],
   "source": [
    "# TODO: Set the project_cost variable to the cost of the project\n",
    "project_cost = get_cost(432, 144, 400, 15)\n",
    "\n",
    "# Check your answer\n",
    "q4.check()"
   ]
  },
  {
   "cell_type": "code",
   "execution_count": 9,
   "id": "2499fbde",
   "metadata": {
    "execution": {
     "iopub.execute_input": "2024-10-30T18:26:01.835002Z",
     "iopub.status.busy": "2024-10-30T18:26:01.834529Z",
     "iopub.status.idle": "2024-10-30T18:26:01.839605Z",
     "shell.execute_reply": "2024-10-30T18:26:01.838362Z"
    },
    "papermill": {
     "duration": 0.018737,
     "end_time": "2024-10-30T18:26:01.842038",
     "exception": false,
     "start_time": "2024-10-30T18:26:01.823301",
     "status": "completed"
    },
    "tags": []
   },
   "outputs": [],
   "source": [
    "# Uncomment to see a hint\n",
    "#q4.hint()\n",
    "\n",
    "# Uncomment to view the solution\n",
    "#q4.solution()"
   ]
  },
  {
   "cell_type": "markdown",
   "id": "783e4084",
   "metadata": {
    "papermill": {
     "duration": 0.009349,
     "end_time": "2024-10-30T18:26:01.861104",
     "exception": false,
     "start_time": "2024-10-30T18:26:01.851755",
     "status": "completed"
    },
    "tags": []
   },
   "source": [
    "# 🌶️ Question 5\n",
    "\n",
    "Now say you can no longer buy fractions of a gallon.  (For instance, if you need 4.3 gallons to do a project, then you have to buy 5 gallons of paint.)\n",
    "\n",
    "With this new scenario, you will create a new function `get_actual_cost` that uses the same inputs and calculates the cost of your project.\n",
    "\n",
    "One function that you'll need to use to do this is `math.ceil()`.  We demonstrate usage of this function in the code cell below.  It takes as a number as input and rounds the number up to the nearest integer.  \n",
    "\n",
    "Run the next code cell to test this function for yourself.  Feel free to change the value of `test_value` and make sure `math.ceil()` returns the number you expect."
   ]
  },
  {
   "cell_type": "code",
   "execution_count": 10,
   "id": "8205b5aa",
   "metadata": {
    "execution": {
     "iopub.execute_input": "2024-10-30T18:26:01.882287Z",
     "iopub.status.busy": "2024-10-30T18:26:01.881191Z",
     "iopub.status.idle": "2024-10-30T18:26:01.887043Z",
     "shell.execute_reply": "2024-10-30T18:26:01.886030Z"
    },
    "papermill": {
     "duration": 0.019062,
     "end_time": "2024-10-30T18:26:01.889558",
     "exception": false,
     "start_time": "2024-10-30T18:26:01.870496",
     "status": "completed"
    },
    "tags": []
   },
   "outputs": [
    {
     "name": "stdout",
     "output_type": "stream",
     "text": [
      "3\n"
     ]
    }
   ],
   "source": [
    "test_value = 2.17\n",
    "\n",
    "rounded_value = math.ceil(test_value)\n",
    "print(rounded_value)"
   ]
  },
  {
   "cell_type": "markdown",
   "id": "039a1b63",
   "metadata": {
    "papermill": {
     "duration": 0.009112,
     "end_time": "2024-10-30T18:26:01.908071",
     "exception": false,
     "start_time": "2024-10-30T18:26:01.898959",
     "status": "completed"
    },
    "tags": []
   },
   "source": [
    "Use the next code cell to define the function `get_actual_cost()`.  You'll need to use the `math.ceil()` function to do this.\n",
    "\n",
    "When answering this question, note that it's completely valid to define a function that makes use of another function.  For instance, we can define a function `round_up_and_divide_by_three` that makes use of the `math.ceil` function:\n",
    "```\n",
    "def round_up_and_divide_by_three(num):\n",
    "    new_value = math.ceil(num)\n",
    "    final_value = new_value / 3\n",
    "    return final_value\n",
    "```"
   ]
  },
  {
   "cell_type": "code",
   "execution_count": 11,
   "id": "0717a7cf",
   "metadata": {
    "execution": {
     "iopub.execute_input": "2024-10-30T18:26:01.928241Z",
     "iopub.status.busy": "2024-10-30T18:26:01.927830Z",
     "iopub.status.idle": "2024-10-30T18:26:01.937536Z",
     "shell.execute_reply": "2024-10-30T18:26:01.936559Z"
    },
    "papermill": {
     "duration": 0.022674,
     "end_time": "2024-10-30T18:26:01.939982",
     "exception": false,
     "start_time": "2024-10-30T18:26:01.917308",
     "status": "completed"
    },
    "tags": []
   },
   "outputs": [
    {
     "data": {
      "application/javascript": [
       "parent.postMessage({\"jupyterEvent\": \"custom.exercise_interaction\", \"data\": {\"outcomeType\": 2, \"failureMessage\": \"Expected return value of `30` given `sqft_walls=432`, `sqft_ceiling=144`, `sqft_per_gallon=400`, `cost_per_gallon=15`, but got `<learntools.core.constants.PlaceholderValue object at 0x7cd19b040af0>` instead.\", \"interactionType\": 1, \"questionType\": 2, \"questionId\": \"5_NoMoreFractions\", \"learnToolsVersion\": \"0.3.4\", \"valueTowardsCompletion\": 0.0, \"exceptionClass\": \"\", \"trace\": \"\"}}, \"*\")"
      ],
      "text/plain": [
       "<IPython.core.display.Javascript object>"
      ]
     },
     "metadata": {},
     "output_type": "display_data"
    },
    {
     "data": {
      "text/markdown": [
       "<span style=\"color:#cc3333\">Incorrect:</span> Expected return value of `30` given `sqft_walls=432`, `sqft_ceiling=144`, `sqft_per_gallon=400`, `cost_per_gallon=15`, but got `<learntools.core.constants.PlaceholderValue object at 0x7cd19b040af0>` instead."
      ],
      "text/plain": [
       "Incorrect: Expected return value of `30` given `sqft_walls=432`, `sqft_ceiling=144`, `sqft_per_gallon=400`, `cost_per_gallon=15`, but got `<learntools.core.constants.PlaceholderValue object at 0x7cd19b040af0>` instead."
      ]
     },
     "metadata": {},
     "output_type": "display_data"
    }
   ],
   "source": [
    "def get_actual_cost(sqft_walls, sqft_ceiling, sqft_per_gallon, cost_per_gallon):\n",
    "    total=sqft_walls + sqft_ceiling\n",
    "    gal= total/sqft_per_gallon\n",
    "    cost = ____\n",
    "    return cost\n",
    "\n",
    "# Check your answer\n",
    "q5.check()"
   ]
  },
  {
   "cell_type": "code",
   "execution_count": 12,
   "id": "ed3913a1",
   "metadata": {
    "execution": {
     "iopub.execute_input": "2024-10-30T18:26:01.962364Z",
     "iopub.status.busy": "2024-10-30T18:26:01.961580Z",
     "iopub.status.idle": "2024-10-30T18:26:01.975156Z",
     "shell.execute_reply": "2024-10-30T18:26:01.974054Z"
    },
    "papermill": {
     "duration": 0.027752,
     "end_time": "2024-10-30T18:26:01.977513",
     "exception": false,
     "start_time": "2024-10-30T18:26:01.949761",
     "status": "completed"
    },
    "tags": []
   },
   "outputs": [
    {
     "data": {
      "application/javascript": [
       "parent.postMessage({\"jupyterEvent\": \"custom.exercise_interaction\", \"data\": {\"interactionType\": 2, \"questionType\": 2, \"questionId\": \"5_NoMoreFractions\", \"learnToolsVersion\": \"0.3.4\", \"valueTowardsCompletion\": 0.0, \"failureMessage\": \"\", \"exceptionClass\": \"\", \"trace\": \"\", \"outcomeType\": 4}}, \"*\")"
      ],
      "text/plain": [
       "<IPython.core.display.Javascript object>"
      ]
     },
     "metadata": {},
     "output_type": "display_data"
    },
    {
     "data": {
      "text/markdown": [
       "<span style=\"color:#3366cc\">Hint:</span> Begin with the `get_cost()` function as a starting point.  The only change you need to make is to add `math.ceil()` to round up the number of gallons that need to be purchased. Can you figure out where to add it to the function?"
      ],
      "text/plain": [
       "Hint: Begin with the `get_cost()` function as a starting point.  The only change you need to make is to add `math.ceil()` to round up the number of gallons that need to be purchased. Can you figure out where to add it to the function?"
      ]
     },
     "metadata": {},
     "output_type": "display_data"
    },
    {
     "data": {
      "application/javascript": [
       "parent.postMessage({\"jupyterEvent\": \"custom.exercise_interaction\", \"data\": {\"interactionType\": 3, \"questionType\": 2, \"questionId\": \"5_NoMoreFractions\", \"learnToolsVersion\": \"0.3.4\", \"valueTowardsCompletion\": 0.0, \"failureMessage\": \"\", \"exceptionClass\": \"\", \"trace\": \"\", \"outcomeType\": 4}}, \"*\")"
      ],
      "text/plain": [
       "<IPython.core.display.Javascript object>"
      ]
     },
     "metadata": {},
     "output_type": "display_data"
    },
    {
     "data": {
      "text/markdown": [
       "<span style=\"color:#33cc99\">Solution:</span> \n",
       "```python\n",
       "def get_actual_cost(sqft_walls, sqft_ceiling, sqft_per_gallon, cost_per_gallon):\n",
       "    total_sqft = sqft_walls + sqft_ceiling\n",
       "    gallons_needed = total_sqft / sqft_per_gallon\n",
       "    gallons_to_buy = math.ceil(gallons_needed)\n",
       "    cost = cost_per_gallon * gallons_to_buy\n",
       "    return cost\n",
       "\n",
       "```"
      ],
      "text/plain": [
       "Solution: \n",
       "```python\n",
       "def get_actual_cost(sqft_walls, sqft_ceiling, sqft_per_gallon, cost_per_gallon):\n",
       "    total_sqft = sqft_walls + sqft_ceiling\n",
       "    gallons_needed = total_sqft / sqft_per_gallon\n",
       "    gallons_to_buy = math.ceil(gallons_needed)\n",
       "    cost = cost_per_gallon * gallons_to_buy\n",
       "    return cost\n",
       "\n",
       "```"
      ]
     },
     "metadata": {},
     "output_type": "display_data"
    }
   ],
   "source": [
    "# Uncomment to see a hint\n",
    "q5.hint()\n",
    "\n",
    "# Uncomment to view the solution\n",
    "q5.solution()"
   ]
  },
  {
   "cell_type": "markdown",
   "id": "c5df2fa7",
   "metadata": {
    "papermill": {
     "duration": 0.009996,
     "end_time": "2024-10-30T18:26:01.998016",
     "exception": false,
     "start_time": "2024-10-30T18:26:01.988020",
     "status": "completed"
    },
    "tags": []
   },
   "source": [
    "Once your function is verified as correct, run the next code cell to calculate the updated cost of your project."
   ]
  },
  {
   "cell_type": "code",
   "execution_count": 13,
   "id": "3a2b8c8a",
   "metadata": {
    "execution": {
     "iopub.execute_input": "2024-10-30T18:26:02.020332Z",
     "iopub.status.busy": "2024-10-30T18:26:02.019925Z",
     "iopub.status.idle": "2024-10-30T18:26:02.026891Z",
     "shell.execute_reply": "2024-10-30T18:26:02.025895Z"
    },
    "papermill": {
     "duration": 0.020861,
     "end_time": "2024-10-30T18:26:02.029167",
     "exception": false,
     "start_time": "2024-10-30T18:26:02.008306",
     "status": "completed"
    },
    "tags": []
   },
   "outputs": [
    {
     "data": {
      "text/markdown": [],
      "text/plain": [
       "<learntools.core.constants.PlaceholderValue at 0x7cd19b040af0>"
      ]
     },
     "execution_count": 13,
     "metadata": {},
     "output_type": "execute_result"
    }
   ],
   "source": [
    "get_actual_cost(432, 144, 400, 15) "
   ]
  },
  {
   "cell_type": "markdown",
   "id": "9f370212",
   "metadata": {
    "papermill": {
     "duration": 0.010345,
     "end_time": "2024-10-30T18:26:02.050068",
     "exception": false,
     "start_time": "2024-10-30T18:26:02.039723",
     "status": "completed"
    },
    "tags": []
   },
   "source": [
    "Say you're working with a slightly larger room.  Run the next code cell to calculate the cost of the project."
   ]
  },
  {
   "cell_type": "code",
   "execution_count": 14,
   "id": "61df157b",
   "metadata": {
    "execution": {
     "iopub.execute_input": "2024-10-30T18:26:02.072862Z",
     "iopub.status.busy": "2024-10-30T18:26:02.072413Z",
     "iopub.status.idle": "2024-10-30T18:26:02.079432Z",
     "shell.execute_reply": "2024-10-30T18:26:02.078417Z"
    },
    "papermill": {
     "duration": 0.021357,
     "end_time": "2024-10-30T18:26:02.081994",
     "exception": false,
     "start_time": "2024-10-30T18:26:02.060637",
     "status": "completed"
    },
    "tags": []
   },
   "outputs": [
    {
     "data": {
      "text/markdown": [],
      "text/plain": [
       "<learntools.core.constants.PlaceholderValue at 0x7cd19b040af0>"
      ]
     },
     "execution_count": 14,
     "metadata": {},
     "output_type": "execute_result"
    }
   ],
   "source": [
    "get_actual_cost(594, 288, 400, 15) "
   ]
  },
  {
   "cell_type": "markdown",
   "id": "30f1a49c",
   "metadata": {
    "papermill": {
     "duration": 0.010475,
     "end_time": "2024-10-30T18:26:02.103490",
     "exception": false,
     "start_time": "2024-10-30T18:26:02.093015",
     "status": "completed"
    },
    "tags": []
   },
   "source": [
    "# Keep going\n",
    "\n",
    "Continue to learn about **[data types](https://www.kaggle.com/alexisbcook/data-types)**."
   ]
  },
  {
   "cell_type": "markdown",
   "id": "1ad6f844",
   "metadata": {
    "papermill": {
     "duration": 0.010577,
     "end_time": "2024-10-30T18:26:02.124872",
     "exception": false,
     "start_time": "2024-10-30T18:26:02.114295",
     "status": "completed"
    },
    "tags": []
   },
   "source": [
    "---\n",
    "\n",
    "\n",
    "\n",
    "\n",
    "*Have questions or comments? Visit the [course discussion forum](https://www.kaggle.com/learn/intro-to-programming/discussion) to chat with other learners.*"
   ]
  }
 ],
 "metadata": {
  "kaggle": {
   "accelerator": "none",
   "dataSources": [],
   "isGpuEnabled": false,
   "isInternetEnabled": false,
   "language": "python",
   "sourceType": "notebook"
  },
  "kernelspec": {
   "display_name": "Python 3",
   "language": "python",
   "name": "python3"
  },
  "language_info": {
   "codemirror_mode": {
    "name": "ipython",
    "version": 3
   },
   "file_extension": ".py",
   "mimetype": "text/x-python",
   "name": "python",
   "nbconvert_exporter": "python",
   "pygments_lexer": "ipython3",
   "version": "3.10.14"
  },
  "papermill": {
   "default_parameters": {},
   "duration": 4.888829,
   "end_time": "2024-10-30T18:26:02.556333",
   "environment_variables": {},
   "exception": null,
   "input_path": "__notebook__.ipynb",
   "output_path": "__notebook__.ipynb",
   "parameters": {},
   "start_time": "2024-10-30T18:25:57.667504",
   "version": "2.6.0"
  }
 },
 "nbformat": 4,
 "nbformat_minor": 5
}
