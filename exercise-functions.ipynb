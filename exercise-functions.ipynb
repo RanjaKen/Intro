{
 "cells": [
  {
   "cell_type": "markdown",
   "id": "89e227dc",
   "metadata": {
    "papermill": {
     "duration": 0.006423,
     "end_time": "2024-10-12T05:42:41.405508",
     "exception": false,
     "start_time": "2024-10-12T05:42:41.399085",
     "status": "completed"
    },
    "tags": []
   },
   "source": [
    "**This notebook is an exercise in the [Intro to Programming](https://www.kaggle.com/learn/intro-to-programming) course.  You can reference the tutorial at [this link](https://www.kaggle.com/alexisbcook/functions).**\n",
    "\n",
    "---\n"
   ]
  },
  {
   "cell_type": "markdown",
   "id": "742f4fe4",
   "metadata": {
    "papermill": {
     "duration": 0.005587,
     "end_time": "2024-10-12T05:42:41.417106",
     "exception": false,
     "start_time": "2024-10-12T05:42:41.411519",
     "status": "completed"
    },
    "tags": []
   },
   "source": [
    "In the tutorial, you learned about functions. In this exercise, you'll write some of your own!\n",
    "\n",
    "# Set up the notebook\n",
    "\n",
    "Run the next code cell without changes to set up the notebook."
   ]
  },
  {
   "cell_type": "code",
   "execution_count": 1,
   "id": "816e17d0",
   "metadata": {
    "execution": {
     "iopub.execute_input": "2024-10-12T05:42:41.430318Z",
     "iopub.status.busy": "2024-10-12T05:42:41.429891Z",
     "iopub.status.idle": "2024-10-12T05:42:42.396077Z",
     "shell.execute_reply": "2024-10-12T05:42:42.394783Z"
    },
    "papermill": {
     "duration": 0.975845,
     "end_time": "2024-10-12T05:42:42.398613",
     "exception": false,
     "start_time": "2024-10-12T05:42:41.422768",
     "status": "completed"
    },
    "tags": []
   },
   "outputs": [
    {
     "name": "stdout",
     "output_type": "stream",
     "text": [
      "Setup complete.\n"
     ]
    }
   ],
   "source": [
    "# Set up the exercise\n",
    "import math\n",
    "from learntools.core import binder\n",
    "binder.bind(globals())\n",
    "from learntools.intro_to_programming.ex2 import *\n",
    "print('Setup complete.')"
   ]
  },
  {
   "cell_type": "markdown",
   "id": "d2e99258",
   "metadata": {
    "papermill": {
     "duration": 0.005631,
     "end_time": "2024-10-12T05:42:42.410203",
     "exception": false,
     "start_time": "2024-10-12T05:42:42.404572",
     "status": "completed"
    },
    "tags": []
   },
   "source": [
    "# Question 1\n",
    "\n",
    "In the [House Prices - Advanced Regression Techniques competition](https://www.kaggle.com/c/house-prices-advanced-regression-techniques/overview), you need to use information like the number of bedrooms and bathrooms to predict the price of a house.  Inspired by this competition, you'll write your own function to do this.\n",
    "\n",
    "In the next code cell, create a function `get_expected_cost()` that has two arguments:\n",
    "- `beds` - number of bedrooms \n",
    "- `baths` - number of bathrooms\n",
    "\n",
    "It should return the expected cost of a house with that number of bedrooms and bathrooms.  Assume that:\n",
    "- the expected cost for a house with 0 bedrooms and 0 bathrooms is `80000`.  \n",
    "- each bedroom adds `30000` to the expected cost\n",
    "- each bathroom adds `10000` to the expected cost.\n",
    "\n",
    "For instance, \n",
    "- a house with 1 bedroom and 1 bathroom has an expected cost of `120000`, and \n",
    "- a house with 2 bedrooms and 1 bathroom has an expected cost of `150000`."
   ]
  },
  {
   "cell_type": "code",
   "execution_count": 2,
   "id": "ccde65c5",
   "metadata": {
    "execution": {
     "iopub.execute_input": "2024-10-12T05:42:42.423794Z",
     "iopub.status.busy": "2024-10-12T05:42:42.423216Z",
     "iopub.status.idle": "2024-10-12T05:42:42.434812Z",
     "shell.execute_reply": "2024-10-12T05:42:42.433548Z"
    },
    "papermill": {
     "duration": 0.021359,
     "end_time": "2024-10-12T05:42:42.437377",
     "exception": false,
     "start_time": "2024-10-12T05:42:42.416018",
     "status": "completed"
    },
    "tags": []
   },
   "outputs": [
    {
     "data": {
      "application/javascript": [
       "parent.postMessage({\"jupyterEvent\": \"custom.exercise_interaction\", \"data\": {\"outcomeType\": 1, \"valueTowardsCompletion\": 0.2, \"interactionType\": 1, \"questionType\": 2, \"questionId\": \"1_GetExpectedCost\", \"learnToolsVersion\": \"0.3.4\", \"failureMessage\": \"\", \"exceptionClass\": \"\", \"trace\": \"\"}}, \"*\")"
      ],
      "text/plain": [
       "<IPython.core.display.Javascript object>"
      ]
     },
     "metadata": {},
     "output_type": "display_data"
    },
    {
     "data": {
      "text/markdown": [
       "<span style=\"color:#33cc33\">Correct</span>"
      ],
      "text/plain": [
       "Correct"
      ]
     },
     "metadata": {},
     "output_type": "display_data"
    }
   ],
   "source": [
    "# TODO: Complete the function\n",
    "def get_expected_cost(beds, baths):\n",
    "    \n",
    "    value = 80000 + 30000 * beds + 10000 * baths\n",
    "    return value\n",
    "\n",
    "# Check your answer \n",
    "q1.check()"
   ]
  },
  {
   "cell_type": "code",
   "execution_count": 3,
   "id": "6df029dd",
   "metadata": {
    "execution": {
     "iopub.execute_input": "2024-10-12T05:42:42.452696Z",
     "iopub.status.busy": "2024-10-12T05:42:42.452298Z",
     "iopub.status.idle": "2024-10-12T05:42:42.457060Z",
     "shell.execute_reply": "2024-10-12T05:42:42.455791Z"
    },
    "papermill": {
     "duration": 0.014652,
     "end_time": "2024-10-12T05:42:42.459272",
     "exception": false,
     "start_time": "2024-10-12T05:42:42.444620",
     "status": "completed"
    },
    "tags": []
   },
   "outputs": [],
   "source": [
    "# Uncomment to see a hint\n",
    "#q1.hint()\n",
    "\n",
    "# Uncomment to view the solution\n",
    "#q1.solution()"
   ]
  },
  {
   "cell_type": "markdown",
   "id": "15d6f175",
   "metadata": {
    "papermill": {
     "duration": 0.005822,
     "end_time": "2024-10-12T05:42:42.471354",
     "exception": false,
     "start_time": "2024-10-12T05:42:42.465532",
     "status": "completed"
    },
    "tags": []
   },
   "source": [
    "# Question 2\n",
    "\n",
    "You are thinking about buying a home and want to get an idea of how much you will spend, based on the number of bedrooms and bathrooms.  You are trying to decide between four different options:\n",
    "- Option 1: house with two bedrooms and three bathrooms\n",
    "- Option 2: house with three bedrooms and two bathrooms\n",
    "- Option 3: house with three bedrooms and three bathrooms\n",
    "- Option 4: house with three bedrooms and four bathrooms\n",
    "\n",
    "Use the `get_expected_cost()` function you defined in question 1 to set `option_1`, `option_2`, `option_3`, and `option_4` to the expected cost of each option."
   ]
  },
  {
   "cell_type": "code",
   "execution_count": 4,
   "id": "ae084f29",
   "metadata": {
    "execution": {
     "iopub.execute_input": "2024-10-12T05:42:42.485764Z",
     "iopub.status.busy": "2024-10-12T05:42:42.484722Z",
     "iopub.status.idle": "2024-10-12T05:42:42.496035Z",
     "shell.execute_reply": "2024-10-12T05:42:42.494872Z"
    },
    "papermill": {
     "duration": 0.021234,
     "end_time": "2024-10-12T05:42:42.498626",
     "exception": false,
     "start_time": "2024-10-12T05:42:42.477392",
     "status": "completed"
    },
    "tags": []
   },
   "outputs": [
    {
     "name": "stdout",
     "output_type": "stream",
     "text": [
      "170000\n",
      "190000\n",
      "200000\n",
      "210000\n"
     ]
    },
    {
     "data": {
      "application/javascript": [
       "parent.postMessage({\"jupyterEvent\": \"custom.exercise_interaction\", \"data\": {\"outcomeType\": 1, \"valueTowardsCompletion\": 0.2, \"interactionType\": 1, \"questionType\": 1, \"questionId\": \"2_RunGetExpectedCost\", \"learnToolsVersion\": \"0.3.4\", \"failureMessage\": \"\", \"exceptionClass\": \"\", \"trace\": \"\"}}, \"*\")"
      ],
      "text/plain": [
       "<IPython.core.display.Javascript object>"
      ]
     },
     "metadata": {},
     "output_type": "display_data"
    },
    {
     "data": {
      "text/markdown": [
       "<span style=\"color:#33cc33\">Correct</span>"
      ],
      "text/plain": [
       "Correct"
      ]
     },
     "metadata": {},
     "output_type": "display_data"
    }
   ],
   "source": [
    "# TODO: Use the get_expected_cost function to fill in each value\n",
    "option_one = get_expected_cost(2,3)\n",
    "option_two = get_expected_cost(3,2)\n",
    "option_three = get_expected_cost(3,3)\n",
    "option_four = get_expected_cost(3,4)\n",
    "\n",
    "print(option_one)\n",
    "print(option_two)\n",
    "print(option_three)\n",
    "print(option_four)\n",
    "\n",
    "# Check your answer\n",
    "q2.check()"
   ]
  },
  {
   "cell_type": "code",
   "execution_count": 5,
   "id": "24b8c444",
   "metadata": {
    "execution": {
     "iopub.execute_input": "2024-10-12T05:42:42.513687Z",
     "iopub.status.busy": "2024-10-12T05:42:42.512730Z",
     "iopub.status.idle": "2024-10-12T05:42:42.517376Z",
     "shell.execute_reply": "2024-10-12T05:42:42.516314Z"
    },
    "papermill": {
     "duration": 0.014446,
     "end_time": "2024-10-12T05:42:42.519603",
     "exception": false,
     "start_time": "2024-10-12T05:42:42.505157",
     "status": "completed"
    },
    "tags": []
   },
   "outputs": [],
   "source": [
    "# Uncomment to see a hint\n",
    "#q2.hint()\n",
    "\n",
    "# Uncomment to view the solution\n",
    "#q2.solution()"
   ]
  },
  {
   "cell_type": "markdown",
   "id": "b52010dc",
   "metadata": {
    "papermill": {
     "duration": 0.006332,
     "end_time": "2024-10-12T05:42:42.532363",
     "exception": false,
     "start_time": "2024-10-12T05:42:42.526031",
     "status": "completed"
    },
    "tags": []
   },
   "source": [
    "# Question 3\n",
    "\n",
    "You're a home decorator, and you'd like to use Python to streamline some of your work.  Specifically, you're creating a tool that you intend to use to calculate the cost of painting a room.\n",
    "\n",
    "As a first step, define a function `get_cost()` that takes as input:\n",
    "- `sqft_walls` = total square feet of walls to be painted\n",
    "- `sqft_ceiling` = square feet of ceiling to be painted\n",
    "- `sqft_per_gallon` = number of square feet that you can cover with one gallon of paint\n",
    "- `cost_per_gallon` = cost (in dollars) of one gallon of paint\n",
    "\n",
    "It should return the cost (in dollars) of putting one coat of paint on all walls and the ceiling.  Assume you can buy the exact amount of paint that you need, so you can buy partial gallons (e.g., if you need 7.523 gallons, you can buy that exact amount, instead of needing to buy 8 gallons and waste some paint).  Do not round your answer."
   ]
  },
  {
   "cell_type": "code",
   "execution_count": 6,
   "id": "be710dac",
   "metadata": {
    "execution": {
     "iopub.execute_input": "2024-10-12T05:42:42.547280Z",
     "iopub.status.busy": "2024-10-12T05:42:42.546844Z",
     "iopub.status.idle": "2024-10-12T05:42:42.556315Z",
     "shell.execute_reply": "2024-10-12T05:42:42.555123Z"
    },
    "papermill": {
     "duration": 0.019651,
     "end_time": "2024-10-12T05:42:42.558517",
     "exception": false,
     "start_time": "2024-10-12T05:42:42.538866",
     "status": "completed"
    },
    "tags": []
   },
   "outputs": [
    {
     "data": {
      "application/javascript": [
       "parent.postMessage({\"jupyterEvent\": \"custom.exercise_interaction\", \"data\": {\"outcomeType\": 2, \"failureMessage\": \"Expected return value of `21.599999999999998` given `sqft_walls=432`, `sqft_ceiling=144`, `sqft_per_gallon=400`, `cost_per_gallon=15`, but got `<learntools.core.constants.PlaceholderValue object at 0x7f3676d0caf0>` instead.\", \"interactionType\": 1, \"questionType\": 2, \"questionId\": \"3_GetCostPaint\", \"learnToolsVersion\": \"0.3.4\", \"valueTowardsCompletion\": 0.0, \"exceptionClass\": \"\", \"trace\": \"\"}}, \"*\")"
      ],
      "text/plain": [
       "<IPython.core.display.Javascript object>"
      ]
     },
     "metadata": {},
     "output_type": "display_data"
    },
    {
     "data": {
      "text/markdown": [
       "<span style=\"color:#cc3333\">Incorrect:</span> Expected return value of `21.599999999999998` given `sqft_walls=432`, `sqft_ceiling=144`, `sqft_per_gallon=400`, `cost_per_gallon=15`, but got `<learntools.core.constants.PlaceholderValue object at 0x7f3676d0caf0>` instead."
      ],
      "text/plain": [
       "Incorrect: Expected return value of `21.599999999999998` given `sqft_walls=432`, `sqft_ceiling=144`, `sqft_per_gallon=400`, `cost_per_gallon=15`, but got `<learntools.core.constants.PlaceholderValue object at 0x7f3676d0caf0>` instead."
      ]
     },
     "metadata": {},
     "output_type": "display_data"
    }
   ],
   "source": [
    "# TODO: Finish defining the function\n",
    "def get_cost(sqft_walls, sqft_ceiling, sqft_per_gallon, cost_per_gallon):\n",
    "    cost = ____\n",
    "    return cost\n",
    "\n",
    "# Check your answer\n",
    "q3.check()"
   ]
  },
  {
   "cell_type": "code",
   "execution_count": 7,
   "id": "d242d926",
   "metadata": {
    "execution": {
     "iopub.execute_input": "2024-10-12T05:42:42.573797Z",
     "iopub.status.busy": "2024-10-12T05:42:42.573347Z",
     "iopub.status.idle": "2024-10-12T05:42:42.578591Z",
     "shell.execute_reply": "2024-10-12T05:42:42.577341Z"
    },
    "papermill": {
     "duration": 0.01561,
     "end_time": "2024-10-12T05:42:42.580856",
     "exception": false,
     "start_time": "2024-10-12T05:42:42.565246",
     "status": "completed"
    },
    "tags": []
   },
   "outputs": [],
   "source": [
    "# Uncomment to see a hint\n",
    "#q3.hint()\n",
    "\n",
    "# Uncomment to view the solution\n",
    "#q3.solution()"
   ]
  },
  {
   "cell_type": "markdown",
   "id": "511e8053",
   "metadata": {
    "papermill": {
     "duration": 0.006246,
     "end_time": "2024-10-12T05:42:42.593874",
     "exception": false,
     "start_time": "2024-10-12T05:42:42.587628",
     "status": "completed"
    },
    "tags": []
   },
   "source": [
    "# Question 4\n",
    "\n",
    "Use the `get_cost()` function you defined in Question 3 to calculate the cost of applying one coat of paint to a room with:\n",
    "- 432 square feet of walls, and\n",
    "- 144 square feet of ceiling.\n",
    "\n",
    "Assume that one gallon of paint covers 400 square feet and costs $15.  As in Question 3, assume you can buy partial gallons of paint.  Do not round your answer."
   ]
  },
  {
   "cell_type": "code",
   "execution_count": 8,
   "id": "09f29de0",
   "metadata": {
    "execution": {
     "iopub.execute_input": "2024-10-12T05:42:42.608993Z",
     "iopub.status.busy": "2024-10-12T05:42:42.608565Z",
     "iopub.status.idle": "2024-10-12T05:42:42.617529Z",
     "shell.execute_reply": "2024-10-12T05:42:42.616387Z"
    },
    "papermill": {
     "duration": 0.019301,
     "end_time": "2024-10-12T05:42:42.619745",
     "exception": false,
     "start_time": "2024-10-12T05:42:42.600444",
     "status": "completed"
    },
    "tags": []
   },
   "outputs": [
    {
     "data": {
      "application/javascript": [
       "parent.postMessage({\"jupyterEvent\": \"custom.exercise_interaction\", \"data\": {\"outcomeType\": 4, \"interactionType\": 1, \"questionType\": 1, \"questionId\": \"4_GetCostPaintExample\", \"learnToolsVersion\": \"0.3.4\", \"valueTowardsCompletion\": 0.0, \"failureMessage\": \"\", \"exceptionClass\": \"\", \"trace\": \"\"}}, \"*\")"
      ],
      "text/plain": [
       "<IPython.core.display.Javascript object>"
      ]
     },
     "metadata": {},
     "output_type": "display_data"
    },
    {
     "data": {
      "text/markdown": [
       "<span style=\"color:#ccaa33\">Check:</span> When you've updated the starter code, `check()` will tell you whether your code is correct. You need to update the code that creates variable `project_cost`"
      ],
      "text/plain": [
       "Check: When you've updated the starter code, `check()` will tell you whether your code is correct. You need to update the code that creates variable `project_cost`"
      ]
     },
     "metadata": {},
     "output_type": "display_data"
    }
   ],
   "source": [
    "# TODO: Set the project_cost variable to the cost of the project\n",
    "project_cost = ____\n",
    "\n",
    "# Check your answer\n",
    "q4.check()"
   ]
  },
  {
   "cell_type": "code",
   "execution_count": 9,
   "id": "6237bf24",
   "metadata": {
    "execution": {
     "iopub.execute_input": "2024-10-12T05:42:42.635760Z",
     "iopub.status.busy": "2024-10-12T05:42:42.634895Z",
     "iopub.status.idle": "2024-10-12T05:42:42.640300Z",
     "shell.execute_reply": "2024-10-12T05:42:42.639010Z"
    },
    "papermill": {
     "duration": 0.016013,
     "end_time": "2024-10-12T05:42:42.642772",
     "exception": false,
     "start_time": "2024-10-12T05:42:42.626759",
     "status": "completed"
    },
    "tags": []
   },
   "outputs": [],
   "source": [
    "# Uncomment to see a hint\n",
    "#q4.hint()\n",
    "\n",
    "# Uncomment to view the solution\n",
    "#q4.solution()"
   ]
  },
  {
   "cell_type": "markdown",
   "id": "abc2e342",
   "metadata": {
    "papermill": {
     "duration": 0.006646,
     "end_time": "2024-10-12T05:42:42.656544",
     "exception": false,
     "start_time": "2024-10-12T05:42:42.649898",
     "status": "completed"
    },
    "tags": []
   },
   "source": [
    "# 🌶️ Question 5\n",
    "\n",
    "Now say you can no longer buy fractions of a gallon.  (For instance, if you need 4.3 gallons to do a project, then you have to buy 5 gallons of paint.)\n",
    "\n",
    "With this new scenario, you will create a new function `get_actual_cost` that uses the same inputs and calculates the cost of your project.\n",
    "\n",
    "One function that you'll need to use to do this is `math.ceil()`.  We demonstrate usage of this function in the code cell below.  It takes as a number as input and rounds the number up to the nearest integer.  \n",
    "\n",
    "Run the next code cell to test this function for yourself.  Feel free to change the value of `test_value` and make sure `math.ceil()` returns the number you expect."
   ]
  },
  {
   "cell_type": "code",
   "execution_count": 10,
   "id": "9254a922",
   "metadata": {
    "execution": {
     "iopub.execute_input": "2024-10-12T05:42:42.672871Z",
     "iopub.status.busy": "2024-10-12T05:42:42.671858Z",
     "iopub.status.idle": "2024-10-12T05:42:42.677648Z",
     "shell.execute_reply": "2024-10-12T05:42:42.676383Z"
    },
    "papermill": {
     "duration": 0.016561,
     "end_time": "2024-10-12T05:42:42.680226",
     "exception": false,
     "start_time": "2024-10-12T05:42:42.663665",
     "status": "completed"
    },
    "tags": []
   },
   "outputs": [
    {
     "name": "stdout",
     "output_type": "stream",
     "text": [
      "3\n"
     ]
    }
   ],
   "source": [
    "test_value = 2.17\n",
    "\n",
    "rounded_value = math.ceil(test_value)\n",
    "print(rounded_value)"
   ]
  },
  {
   "cell_type": "markdown",
   "id": "f8f9df4f",
   "metadata": {
    "papermill": {
     "duration": 0.00679,
     "end_time": "2024-10-12T05:42:42.694079",
     "exception": false,
     "start_time": "2024-10-12T05:42:42.687289",
     "status": "completed"
    },
    "tags": []
   },
   "source": [
    "Use the next code cell to define the function `get_actual_cost()`.  You'll need to use the `math.ceil()` function to do this.\n",
    "\n",
    "When answering this question, note that it's completely valid to define a function that makes use of another function.  For instance, we can define a function `round_up_and_divide_by_three` that makes use of the `math.ceil` function:\n",
    "```\n",
    "def round_up_and_divide_by_three(num):\n",
    "    new_value = math.ceil(num)\n",
    "    final_value = new_value / 3\n",
    "    return final_value\n",
    "```"
   ]
  },
  {
   "cell_type": "code",
   "execution_count": 11,
   "id": "eed173d7",
   "metadata": {
    "execution": {
     "iopub.execute_input": "2024-10-12T05:42:42.709658Z",
     "iopub.status.busy": "2024-10-12T05:42:42.709276Z",
     "iopub.status.idle": "2024-10-12T05:42:42.719136Z",
     "shell.execute_reply": "2024-10-12T05:42:42.717990Z"
    },
    "papermill": {
     "duration": 0.020532,
     "end_time": "2024-10-12T05:42:42.721517",
     "exception": false,
     "start_time": "2024-10-12T05:42:42.700985",
     "status": "completed"
    },
    "tags": []
   },
   "outputs": [
    {
     "data": {
      "application/javascript": [
       "parent.postMessage({\"jupyterEvent\": \"custom.exercise_interaction\", \"data\": {\"outcomeType\": 2, \"failureMessage\": \"Expected return value of `30` given `sqft_walls=432`, `sqft_ceiling=144`, `sqft_per_gallon=400`, `cost_per_gallon=15`, but got `<learntools.core.constants.PlaceholderValue object at 0x7f3676d0caf0>` instead.\", \"interactionType\": 1, \"questionType\": 2, \"questionId\": \"5_NoMoreFractions\", \"learnToolsVersion\": \"0.3.4\", \"valueTowardsCompletion\": 0.0, \"exceptionClass\": \"\", \"trace\": \"\"}}, \"*\")"
      ],
      "text/plain": [
       "<IPython.core.display.Javascript object>"
      ]
     },
     "metadata": {},
     "output_type": "display_data"
    },
    {
     "data": {
      "text/markdown": [
       "<span style=\"color:#cc3333\">Incorrect:</span> Expected return value of `30` given `sqft_walls=432`, `sqft_ceiling=144`, `sqft_per_gallon=400`, `cost_per_gallon=15`, but got `<learntools.core.constants.PlaceholderValue object at 0x7f3676d0caf0>` instead."
      ],
      "text/plain": [
       "Incorrect: Expected return value of `30` given `sqft_walls=432`, `sqft_ceiling=144`, `sqft_per_gallon=400`, `cost_per_gallon=15`, but got `<learntools.core.constants.PlaceholderValue object at 0x7f3676d0caf0>` instead."
      ]
     },
     "metadata": {},
     "output_type": "display_data"
    }
   ],
   "source": [
    "def get_actual_cost(sqft_walls, sqft_ceiling, sqft_per_gallon, cost_per_gallon):\n",
    "    cost = ____\n",
    "    return cost\n",
    "\n",
    "# Check your answer\n",
    "q5.check()"
   ]
  },
  {
   "cell_type": "code",
   "execution_count": 12,
   "id": "3424d862",
   "metadata": {
    "execution": {
     "iopub.execute_input": "2024-10-12T05:42:42.738234Z",
     "iopub.status.busy": "2024-10-12T05:42:42.737798Z",
     "iopub.status.idle": "2024-10-12T05:42:42.742741Z",
     "shell.execute_reply": "2024-10-12T05:42:42.741504Z"
    },
    "papermill": {
     "duration": 0.016098,
     "end_time": "2024-10-12T05:42:42.745155",
     "exception": false,
     "start_time": "2024-10-12T05:42:42.729057",
     "status": "completed"
    },
    "tags": []
   },
   "outputs": [],
   "source": [
    "# Uncomment to see a hint\n",
    "#q5.hint()\n",
    "\n",
    "# Uncomment to view the solution\n",
    "#q5.solution()"
   ]
  },
  {
   "cell_type": "markdown",
   "id": "a9487435",
   "metadata": {
    "papermill": {
     "duration": 0.007032,
     "end_time": "2024-10-12T05:42:42.759542",
     "exception": false,
     "start_time": "2024-10-12T05:42:42.752510",
     "status": "completed"
    },
    "tags": []
   },
   "source": [
    "Once your function is verified as correct, run the next code cell to calculate the updated cost of your project."
   ]
  },
  {
   "cell_type": "code",
   "execution_count": 13,
   "id": "c3570478",
   "metadata": {
    "execution": {
     "iopub.execute_input": "2024-10-12T05:42:42.775863Z",
     "iopub.status.busy": "2024-10-12T05:42:42.775426Z",
     "iopub.status.idle": "2024-10-12T05:42:42.783415Z",
     "shell.execute_reply": "2024-10-12T05:42:42.782304Z"
    },
    "papermill": {
     "duration": 0.018753,
     "end_time": "2024-10-12T05:42:42.785658",
     "exception": false,
     "start_time": "2024-10-12T05:42:42.766905",
     "status": "completed"
    },
    "tags": []
   },
   "outputs": [
    {
     "data": {
      "text/markdown": [],
      "text/plain": [
       "<learntools.core.constants.PlaceholderValue at 0x7f3676d0caf0>"
      ]
     },
     "execution_count": 13,
     "metadata": {},
     "output_type": "execute_result"
    }
   ],
   "source": [
    "get_actual_cost(432, 144, 400, 15) "
   ]
  },
  {
   "cell_type": "markdown",
   "id": "d7d5121d",
   "metadata": {
    "papermill": {
     "duration": 0.007054,
     "end_time": "2024-10-12T05:42:42.800185",
     "exception": false,
     "start_time": "2024-10-12T05:42:42.793131",
     "status": "completed"
    },
    "tags": []
   },
   "source": [
    "Say you're working with a slightly larger room.  Run the next code cell to calculate the cost of the project."
   ]
  },
  {
   "cell_type": "code",
   "execution_count": 14,
   "id": "88bc6bcf",
   "metadata": {
    "execution": {
     "iopub.execute_input": "2024-10-12T05:42:42.816744Z",
     "iopub.status.busy": "2024-10-12T05:42:42.816310Z",
     "iopub.status.idle": "2024-10-12T05:42:42.823572Z",
     "shell.execute_reply": "2024-10-12T05:42:42.822380Z"
    },
    "papermill": {
     "duration": 0.01868,
     "end_time": "2024-10-12T05:42:42.826264",
     "exception": false,
     "start_time": "2024-10-12T05:42:42.807584",
     "status": "completed"
    },
    "tags": []
   },
   "outputs": [
    {
     "data": {
      "text/markdown": [],
      "text/plain": [
       "<learntools.core.constants.PlaceholderValue at 0x7f3676d0caf0>"
      ]
     },
     "execution_count": 14,
     "metadata": {},
     "output_type": "execute_result"
    }
   ],
   "source": [
    "get_actual_cost(594, 288, 400, 15) "
   ]
  },
  {
   "cell_type": "markdown",
   "id": "a55da7e3",
   "metadata": {
    "papermill": {
     "duration": 0.007479,
     "end_time": "2024-10-12T05:42:42.841522",
     "exception": false,
     "start_time": "2024-10-12T05:42:42.834043",
     "status": "completed"
    },
    "tags": []
   },
   "source": [
    "# Keep going\n",
    "\n",
    "Continue to learn about **[data types](https://www.kaggle.com/alexisbcook/data-types)**."
   ]
  },
  {
   "cell_type": "markdown",
   "id": "f9eca826",
   "metadata": {
    "papermill": {
     "duration": 0.007754,
     "end_time": "2024-10-12T05:42:42.857508",
     "exception": false,
     "start_time": "2024-10-12T05:42:42.849754",
     "status": "completed"
    },
    "tags": []
   },
   "source": [
    "---\n",
    "\n",
    "\n",
    "\n",
    "\n",
    "*Have questions or comments? Visit the [course discussion forum](https://www.kaggle.com/learn/intro-to-programming/discussion) to chat with other learners.*"
   ]
  }
 ],
 "metadata": {
  "kaggle": {
   "accelerator": "none",
   "dataSources": [],
   "isGpuEnabled": false,
   "isInternetEnabled": false,
   "language": "python",
   "sourceType": "notebook"
  },
  "kernelspec": {
   "display_name": "Python 3",
   "language": "python",
   "name": "python3"
  },
  "language_info": {
   "codemirror_mode": {
    "name": "ipython",
    "version": 3
   },
   "file_extension": ".py",
   "mimetype": "text/x-python",
   "name": "python",
   "nbconvert_exporter": "python",
   "pygments_lexer": "ipython3",
   "version": "3.10.14"
  },
  "papermill": {
   "default_parameters": {},
   "duration": 5.280907,
   "end_time": "2024-10-12T05:42:43.386379",
   "environment_variables": {},
   "exception": null,
   "input_path": "__notebook__.ipynb",
   "output_path": "__notebook__.ipynb",
   "parameters": {},
   "start_time": "2024-10-12T05:42:38.105472",
   "version": "2.6.0"
  }
 },
 "nbformat": 4,
 "nbformat_minor": 5
}
