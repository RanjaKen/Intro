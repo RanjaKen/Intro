{
 "cells": [
  {
   "cell_type": "markdown",
   "id": "8c61ac43",
   "metadata": {
    "papermill": {
     "duration": 0.008455,
     "end_time": "2024-10-11T03:16:59.614983",
     "exception": false,
     "start_time": "2024-10-11T03:16:59.606528",
     "status": "completed"
    },
    "tags": []
   },
   "source": [
    "**This notebook is an exercise in the [Intro to Programming](https://www.kaggle.com/learn/intro-to-programming) course.  You can reference the tutorial at [this link](https://www.kaggle.com/alexisbcook/functions).**\n",
    "\n",
    "---\n"
   ]
  },
  {
   "cell_type": "markdown",
   "id": "aabe4a49",
   "metadata": {
    "papermill": {
     "duration": 0.007486,
     "end_time": "2024-10-11T03:16:59.630433",
     "exception": false,
     "start_time": "2024-10-11T03:16:59.622947",
     "status": "completed"
    },
    "tags": []
   },
   "source": [
    "In the tutorial, you learned about functions. In this exercise, you'll write some of your own!\n",
    "\n",
    "# Set up the notebook\n",
    "\n",
    "Run the next code cell without changes to set up the notebook."
   ]
  },
  {
   "cell_type": "code",
   "execution_count": 1,
   "id": "b7c42861",
   "metadata": {
    "execution": {
     "iopub.execute_input": "2024-10-11T03:16:59.647387Z",
     "iopub.status.busy": "2024-10-11T03:16:59.646958Z",
     "iopub.status.idle": "2024-10-11T03:17:00.511060Z",
     "shell.execute_reply": "2024-10-11T03:17:00.509959Z"
    },
    "papermill": {
     "duration": 0.876003,
     "end_time": "2024-10-11T03:17:00.513978",
     "exception": false,
     "start_time": "2024-10-11T03:16:59.637975",
     "status": "completed"
    },
    "tags": []
   },
   "outputs": [
    {
     "name": "stdout",
     "output_type": "stream",
     "text": [
      "Setup complete.\n"
     ]
    }
   ],
   "source": [
    "# Set up the exercise\n",
    "import math\n",
    "from learntools.core import binder\n",
    "binder.bind(globals())\n",
    "from learntools.intro_to_programming.ex2 import *\n",
    "print('Setup complete.')"
   ]
  },
  {
   "cell_type": "markdown",
   "id": "23387a68",
   "metadata": {
    "papermill": {
     "duration": 0.008408,
     "end_time": "2024-10-11T03:17:00.531453",
     "exception": false,
     "start_time": "2024-10-11T03:17:00.523045",
     "status": "completed"
    },
    "tags": []
   },
   "source": [
    "# Question 1\n",
    "\n",
    "In the [House Prices - Advanced Regression Techniques competition](https://www.kaggle.com/c/house-prices-advanced-regression-techniques/overview), you need to use information like the number of bedrooms and bathrooms to predict the price of a house.  Inspired by this competition, you'll write your own function to do this.\n",
    "\n",
    "In the next code cell, create a function `get_expected_cost()` that has two arguments:\n",
    "- `beds` - number of bedrooms \n",
    "- `baths` - number of bathrooms\n",
    "\n",
    "It should return the expected cost of a house with that number of bedrooms and bathrooms.  Assume that:\n",
    "- the expected cost for a house with 0 bedrooms and 0 bathrooms is `80000`.  \n",
    "- each bedroom adds `30000` to the expected cost\n",
    "- each bathroom adds `10000` to the expected cost.\n",
    "\n",
    "For instance, \n",
    "- a house with 1 bedroom and 1 bathroom has an expected cost of `120000`, and \n",
    "- a house with 2 bedrooms and 1 bathroom has an expected cost of `150000`."
   ]
  },
  {
   "cell_type": "code",
   "execution_count": 2,
   "id": "a0076e2b",
   "metadata": {
    "execution": {
     "iopub.execute_input": "2024-10-11T03:17:00.549031Z",
     "iopub.status.busy": "2024-10-11T03:17:00.548487Z",
     "iopub.status.idle": "2024-10-11T03:17:00.559929Z",
     "shell.execute_reply": "2024-10-11T03:17:00.558803Z"
    },
    "papermill": {
     "duration": 0.022886,
     "end_time": "2024-10-11T03:17:00.562246",
     "exception": false,
     "start_time": "2024-10-11T03:17:00.539360",
     "status": "completed"
    },
    "tags": []
   },
   "outputs": [
    {
     "data": {
      "application/javascript": [
       "parent.postMessage({\"jupyterEvent\": \"custom.exercise_interaction\", \"data\": {\"outcomeType\": 1, \"valueTowardsCompletion\": 0.2, \"interactionType\": 1, \"questionType\": 2, \"questionId\": \"1_GetExpectedCost\", \"learnToolsVersion\": \"0.3.4\", \"failureMessage\": \"\", \"exceptionClass\": \"\", \"trace\": \"\"}}, \"*\")"
      ],
      "text/plain": [
       "<IPython.core.display.Javascript object>"
      ]
     },
     "metadata": {},
     "output_type": "display_data"
    },
    {
     "data": {
      "text/markdown": [
       "<span style=\"color:#33cc33\">Correct</span>"
      ],
      "text/plain": [
       "Correct"
      ]
     },
     "metadata": {},
     "output_type": "display_data"
    }
   ],
   "source": [
    "# TODO: Complete the function\n",
    "def get_expected_cost(beds, baths):\n",
    "    \n",
    "    value = 80000 + 30000 * beds + 10000 * baths\n",
    "    return value\n",
    "\n",
    "# Check your answer \n",
    "q1.check()"
   ]
  },
  {
   "cell_type": "code",
   "execution_count": 3,
   "id": "37cd5a3c",
   "metadata": {
    "execution": {
     "iopub.execute_input": "2024-10-11T03:17:00.581134Z",
     "iopub.status.busy": "2024-10-11T03:17:00.580762Z",
     "iopub.status.idle": "2024-10-11T03:17:00.585138Z",
     "shell.execute_reply": "2024-10-11T03:17:00.584222Z"
    },
    "papermill": {
     "duration": 0.016006,
     "end_time": "2024-10-11T03:17:00.587342",
     "exception": false,
     "start_time": "2024-10-11T03:17:00.571336",
     "status": "completed"
    },
    "tags": []
   },
   "outputs": [],
   "source": [
    "# Uncomment to see a hint\n",
    "#q1.hint()\n",
    "\n",
    "# Uncomment to view the solution\n",
    "#q1.solution()"
   ]
  },
  {
   "cell_type": "markdown",
   "id": "ad5b68d5",
   "metadata": {
    "papermill": {
     "duration": 0.007744,
     "end_time": "2024-10-11T03:17:00.603088",
     "exception": false,
     "start_time": "2024-10-11T03:17:00.595344",
     "status": "completed"
    },
    "tags": []
   },
   "source": [
    "# Question 2\n",
    "\n",
    "You are thinking about buying a home and want to get an idea of how much you will spend, based on the number of bedrooms and bathrooms.  You are trying to decide between four different options:\n",
    "- Option 1: house with two bedrooms and three bathrooms\n",
    "- Option 2: house with three bedrooms and two bathrooms\n",
    "- Option 3: house with three bedrooms and three bathrooms\n",
    "- Option 4: house with three bedrooms and four bathrooms\n",
    "\n",
    "Use the `get_expected_cost()` function you defined in question 1 to set `option_1`, `option_2`, `option_3`, and `option_4` to the expected cost of each option."
   ]
  },
  {
   "cell_type": "code",
   "execution_count": 4,
   "id": "f577f11f",
   "metadata": {
    "execution": {
     "iopub.execute_input": "2024-10-11T03:17:00.621058Z",
     "iopub.status.busy": "2024-10-11T03:17:00.620371Z",
     "iopub.status.idle": "2024-10-11T03:17:00.631440Z",
     "shell.execute_reply": "2024-10-11T03:17:00.630412Z"
    },
    "papermill": {
     "duration": 0.023562,
     "end_time": "2024-10-11T03:17:00.634640",
     "exception": false,
     "start_time": "2024-10-11T03:17:00.611078",
     "status": "completed"
    },
    "tags": []
   },
   "outputs": [
    {
     "name": "stdout",
     "output_type": "stream",
     "text": [
      "170000\n",
      "190000\n",
      "200000\n",
      "210000\n"
     ]
    },
    {
     "data": {
      "application/javascript": [
       "parent.postMessage({\"jupyterEvent\": \"custom.exercise_interaction\", \"data\": {\"outcomeType\": 1, \"valueTowardsCompletion\": 0.2, \"interactionType\": 1, \"questionType\": 1, \"questionId\": \"2_RunGetExpectedCost\", \"learnToolsVersion\": \"0.3.4\", \"failureMessage\": \"\", \"exceptionClass\": \"\", \"trace\": \"\"}}, \"*\")"
      ],
      "text/plain": [
       "<IPython.core.display.Javascript object>"
      ]
     },
     "metadata": {},
     "output_type": "display_data"
    },
    {
     "data": {
      "text/markdown": [
       "<span style=\"color:#33cc33\">Correct</span>"
      ],
      "text/plain": [
       "Correct"
      ]
     },
     "metadata": {},
     "output_type": "display_data"
    }
   ],
   "source": [
    "# TODO: Use the get_expected_cost function to fill in each value\n",
    "option_one = get_expected_cost(2,3)\n",
    "option_two = get_expected_cost(3,2)\n",
    "option_three = get_expected_cost(3,3)\n",
    "option_four = get_expected_cost(3,4)\n",
    "\n",
    "print(option_one)\n",
    "print(option_two)\n",
    "print(option_three)\n",
    "print(option_four)\n",
    "\n",
    "# Check your answer\n",
    "q2.check()"
   ]
  },
  {
   "cell_type": "code",
   "execution_count": 5,
   "id": "3faff787",
   "metadata": {
    "execution": {
     "iopub.execute_input": "2024-10-11T03:17:00.653034Z",
     "iopub.status.busy": "2024-10-11T03:17:00.652679Z",
     "iopub.status.idle": "2024-10-11T03:17:00.657046Z",
     "shell.execute_reply": "2024-10-11T03:17:00.656062Z"
    },
    "papermill": {
     "duration": 0.016268,
     "end_time": "2024-10-11T03:17:00.659303",
     "exception": false,
     "start_time": "2024-10-11T03:17:00.643035",
     "status": "completed"
    },
    "tags": []
   },
   "outputs": [],
   "source": [
    "# Uncomment to see a hint\n",
    "#q2.hint()\n",
    "\n",
    "# Uncomment to view the solution\n",
    "#q2.solution()"
   ]
  },
  {
   "cell_type": "markdown",
   "id": "7dbead9d",
   "metadata": {
    "papermill": {
     "duration": 0.00834,
     "end_time": "2024-10-11T03:17:00.676152",
     "exception": false,
     "start_time": "2024-10-11T03:17:00.667812",
     "status": "completed"
    },
    "tags": []
   },
   "source": [
    "# Question 3\n",
    "\n",
    "You're a home decorator, and you'd like to use Python to streamline some of your work.  Specifically, you're creating a tool that you intend to use to calculate the cost of painting a room.\n",
    "\n",
    "As a first step, define a function `get_cost()` that takes as input:\n",
    "- `sqft_walls` = total square feet of walls to be painted\n",
    "- `sqft_ceiling` = square feet of ceiling to be painted\n",
    "- `sqft_per_gallon` = number of square feet that you can cover with one gallon of paint\n",
    "- `cost_per_gallon` = cost (in dollars) of one gallon of paint\n",
    "\n",
    "It should return the cost (in dollars) of putting one coat of paint on all walls and the ceiling.  Assume you can buy the exact amount of paint that you need, so you can buy partial gallons (e.g., if you need 7.523 gallons, you can buy that exact amount, instead of needing to buy 8 gallons and waste some paint).  Do not round your answer."
   ]
  },
  {
   "cell_type": "code",
   "execution_count": 6,
   "id": "07d10990",
   "metadata": {
    "execution": {
     "iopub.execute_input": "2024-10-11T03:17:00.694563Z",
     "iopub.status.busy": "2024-10-11T03:17:00.694122Z",
     "iopub.status.idle": "2024-10-11T03:17:00.703882Z",
     "shell.execute_reply": "2024-10-11T03:17:00.702849Z"
    },
    "papermill": {
     "duration": 0.021744,
     "end_time": "2024-10-11T03:17:00.706254",
     "exception": false,
     "start_time": "2024-10-11T03:17:00.684510",
     "status": "completed"
    },
    "tags": []
   },
   "outputs": [
    {
     "data": {
      "application/javascript": [
       "parent.postMessage({\"jupyterEvent\": \"custom.exercise_interaction\", \"data\": {\"outcomeType\": 2, \"failureMessage\": \"Expected return value of `21.599999999999998` given `sqft_walls=432`, `sqft_ceiling=144`, `sqft_per_gallon=400`, `cost_per_gallon=15`, but got `<learntools.core.constants.PlaceholderValue object at 0x7b10be1c8af0>` instead.\", \"interactionType\": 1, \"questionType\": 2, \"questionId\": \"3_GetCostPaint\", \"learnToolsVersion\": \"0.3.4\", \"valueTowardsCompletion\": 0.0, \"exceptionClass\": \"\", \"trace\": \"\"}}, \"*\")"
      ],
      "text/plain": [
       "<IPython.core.display.Javascript object>"
      ]
     },
     "metadata": {},
     "output_type": "display_data"
    },
    {
     "data": {
      "text/markdown": [
       "<span style=\"color:#cc3333\">Incorrect:</span> Expected return value of `21.599999999999998` given `sqft_walls=432`, `sqft_ceiling=144`, `sqft_per_gallon=400`, `cost_per_gallon=15`, but got `<learntools.core.constants.PlaceholderValue object at 0x7b10be1c8af0>` instead."
      ],
      "text/plain": [
       "Incorrect: Expected return value of `21.599999999999998` given `sqft_walls=432`, `sqft_ceiling=144`, `sqft_per_gallon=400`, `cost_per_gallon=15`, but got `<learntools.core.constants.PlaceholderValue object at 0x7b10be1c8af0>` instead."
      ]
     },
     "metadata": {},
     "output_type": "display_data"
    }
   ],
   "source": [
    "# TODO: Finish defining the function\n",
    "def get_cost(sqft_walls, sqft_ceiling, sqft_per_gallon, cost_per_gallon):\n",
    "    cost = ____\n",
    "    return cost\n",
    "\n",
    "# Check your answer\n",
    "q3.check()"
   ]
  },
  {
   "cell_type": "code",
   "execution_count": 7,
   "id": "6674a67c",
   "metadata": {
    "execution": {
     "iopub.execute_input": "2024-10-11T03:17:00.726339Z",
     "iopub.status.busy": "2024-10-11T03:17:00.725260Z",
     "iopub.status.idle": "2024-10-11T03:17:00.730293Z",
     "shell.execute_reply": "2024-10-11T03:17:00.729234Z"
    },
    "papermill": {
     "duration": 0.017724,
     "end_time": "2024-10-11T03:17:00.732706",
     "exception": false,
     "start_time": "2024-10-11T03:17:00.714982",
     "status": "completed"
    },
    "tags": []
   },
   "outputs": [],
   "source": [
    "# Uncomment to see a hint\n",
    "#q3.hint()\n",
    "\n",
    "# Uncomment to view the solution\n",
    "#q3.solution()"
   ]
  },
  {
   "cell_type": "markdown",
   "id": "58244ba6",
   "metadata": {
    "papermill": {
     "duration": 0.008304,
     "end_time": "2024-10-11T03:17:00.749809",
     "exception": false,
     "start_time": "2024-10-11T03:17:00.741505",
     "status": "completed"
    },
    "tags": []
   },
   "source": [
    "# Question 4\n",
    "\n",
    "Use the `get_cost()` function you defined in Question 3 to calculate the cost of applying one coat of paint to a room with:\n",
    "- 432 square feet of walls, and\n",
    "- 144 square feet of ceiling.\n",
    "\n",
    "Assume that one gallon of paint covers 400 square feet and costs $15.  As in Question 3, assume you can buy partial gallons of paint.  Do not round your answer."
   ]
  },
  {
   "cell_type": "code",
   "execution_count": 8,
   "id": "98491655",
   "metadata": {
    "execution": {
     "iopub.execute_input": "2024-10-11T03:17:00.769667Z",
     "iopub.status.busy": "2024-10-11T03:17:00.768850Z",
     "iopub.status.idle": "2024-10-11T03:17:00.778010Z",
     "shell.execute_reply": "2024-10-11T03:17:00.776977Z"
    },
    "papermill": {
     "duration": 0.022141,
     "end_time": "2024-10-11T03:17:00.780545",
     "exception": false,
     "start_time": "2024-10-11T03:17:00.758404",
     "status": "completed"
    },
    "tags": []
   },
   "outputs": [
    {
     "data": {
      "application/javascript": [
       "parent.postMessage({\"jupyterEvent\": \"custom.exercise_interaction\", \"data\": {\"outcomeType\": 4, \"interactionType\": 1, \"questionType\": 1, \"questionId\": \"4_GetCostPaintExample\", \"learnToolsVersion\": \"0.3.4\", \"valueTowardsCompletion\": 0.0, \"failureMessage\": \"\", \"exceptionClass\": \"\", \"trace\": \"\"}}, \"*\")"
      ],
      "text/plain": [
       "<IPython.core.display.Javascript object>"
      ]
     },
     "metadata": {},
     "output_type": "display_data"
    },
    {
     "data": {
      "text/markdown": [
       "<span style=\"color:#ccaa33\">Check:</span> When you've updated the starter code, `check()` will tell you whether your code is correct. You need to update the code that creates variable `project_cost`"
      ],
      "text/plain": [
       "Check: When you've updated the starter code, `check()` will tell you whether your code is correct. You need to update the code that creates variable `project_cost`"
      ]
     },
     "metadata": {},
     "output_type": "display_data"
    }
   ],
   "source": [
    "# TODO: Set the project_cost variable to the cost of the project\n",
    "project_cost = ____\n",
    "\n",
    "# Check your answer\n",
    "q4.check()"
   ]
  },
  {
   "cell_type": "code",
   "execution_count": 9,
   "id": "93803732",
   "metadata": {
    "execution": {
     "iopub.execute_input": "2024-10-11T03:17:00.800673Z",
     "iopub.status.busy": "2024-10-11T03:17:00.799828Z",
     "iopub.status.idle": "2024-10-11T03:17:00.804160Z",
     "shell.execute_reply": "2024-10-11T03:17:00.803224Z"
    },
    "papermill": {
     "duration": 0.01675,
     "end_time": "2024-10-11T03:17:00.806328",
     "exception": false,
     "start_time": "2024-10-11T03:17:00.789578",
     "status": "completed"
    },
    "tags": []
   },
   "outputs": [],
   "source": [
    "# Uncomment to see a hint\n",
    "#q4.hint()\n",
    "\n",
    "# Uncomment to view the solution\n",
    "#q4.solution()"
   ]
  },
  {
   "cell_type": "markdown",
   "id": "718becce",
   "metadata": {
    "papermill": {
     "duration": 0.008826,
     "end_time": "2024-10-11T03:17:00.824417",
     "exception": false,
     "start_time": "2024-10-11T03:17:00.815591",
     "status": "completed"
    },
    "tags": []
   },
   "source": [
    "# 🌶️ Question 5\n",
    "\n",
    "Now say you can no longer buy fractions of a gallon.  (For instance, if you need 4.3 gallons to do a project, then you have to buy 5 gallons of paint.)\n",
    "\n",
    "With this new scenario, you will create a new function `get_actual_cost` that uses the same inputs and calculates the cost of your project.\n",
    "\n",
    "One function that you'll need to use to do this is `math.ceil()`.  We demonstrate usage of this function in the code cell below.  It takes as a number as input and rounds the number up to the nearest integer.  \n",
    "\n",
    "Run the next code cell to test this function for yourself.  Feel free to change the value of `test_value` and make sure `math.ceil()` returns the number you expect."
   ]
  },
  {
   "cell_type": "code",
   "execution_count": 10,
   "id": "5c9d495d",
   "metadata": {
    "execution": {
     "iopub.execute_input": "2024-10-11T03:17:00.844578Z",
     "iopub.status.busy": "2024-10-11T03:17:00.843788Z",
     "iopub.status.idle": "2024-10-11T03:17:00.849539Z",
     "shell.execute_reply": "2024-10-11T03:17:00.848523Z"
    },
    "papermill": {
     "duration": 0.018505,
     "end_time": "2024-10-11T03:17:00.851878",
     "exception": false,
     "start_time": "2024-10-11T03:17:00.833373",
     "status": "completed"
    },
    "tags": []
   },
   "outputs": [
    {
     "name": "stdout",
     "output_type": "stream",
     "text": [
      "3\n"
     ]
    }
   ],
   "source": [
    "test_value = 2.17\n",
    "\n",
    "rounded_value = math.ceil(test_value)\n",
    "print(rounded_value)"
   ]
  },
  {
   "cell_type": "markdown",
   "id": "d519dd4f",
   "metadata": {
    "papermill": {
     "duration": 0.009511,
     "end_time": "2024-10-11T03:17:00.870493",
     "exception": false,
     "start_time": "2024-10-11T03:17:00.860982",
     "status": "completed"
    },
    "tags": []
   },
   "source": [
    "Use the next code cell to define the function `get_actual_cost()`.  You'll need to use the `math.ceil()` function to do this.\n",
    "\n",
    "When answering this question, note that it's completely valid to define a function that makes use of another function.  For instance, we can define a function `round_up_and_divide_by_three` that makes use of the `math.ceil` function:\n",
    "```\n",
    "def round_up_and_divide_by_three(num):\n",
    "    new_value = math.ceil(num)\n",
    "    final_value = new_value / 3\n",
    "    return final_value\n",
    "```"
   ]
  },
  {
   "cell_type": "code",
   "execution_count": 11,
   "id": "46cccd48",
   "metadata": {
    "execution": {
     "iopub.execute_input": "2024-10-11T03:17:00.890817Z",
     "iopub.status.busy": "2024-10-11T03:17:00.890396Z",
     "iopub.status.idle": "2024-10-11T03:17:00.900334Z",
     "shell.execute_reply": "2024-10-11T03:17:00.899326Z"
    },
    "papermill": {
     "duration": 0.023156,
     "end_time": "2024-10-11T03:17:00.902810",
     "exception": false,
     "start_time": "2024-10-11T03:17:00.879654",
     "status": "completed"
    },
    "tags": []
   },
   "outputs": [
    {
     "data": {
      "application/javascript": [
       "parent.postMessage({\"jupyterEvent\": \"custom.exercise_interaction\", \"data\": {\"outcomeType\": 2, \"failureMessage\": \"Expected return value of `30` given `sqft_walls=432`, `sqft_ceiling=144`, `sqft_per_gallon=400`, `cost_per_gallon=15`, but got `<learntools.core.constants.PlaceholderValue object at 0x7b10be1c8af0>` instead.\", \"interactionType\": 1, \"questionType\": 2, \"questionId\": \"5_NoMoreFractions\", \"learnToolsVersion\": \"0.3.4\", \"valueTowardsCompletion\": 0.0, \"exceptionClass\": \"\", \"trace\": \"\"}}, \"*\")"
      ],
      "text/plain": [
       "<IPython.core.display.Javascript object>"
      ]
     },
     "metadata": {},
     "output_type": "display_data"
    },
    {
     "data": {
      "text/markdown": [
       "<span style=\"color:#cc3333\">Incorrect:</span> Expected return value of `30` given `sqft_walls=432`, `sqft_ceiling=144`, `sqft_per_gallon=400`, `cost_per_gallon=15`, but got `<learntools.core.constants.PlaceholderValue object at 0x7b10be1c8af0>` instead."
      ],
      "text/plain": [
       "Incorrect: Expected return value of `30` given `sqft_walls=432`, `sqft_ceiling=144`, `sqft_per_gallon=400`, `cost_per_gallon=15`, but got `<learntools.core.constants.PlaceholderValue object at 0x7b10be1c8af0>` instead."
      ]
     },
     "metadata": {},
     "output_type": "display_data"
    }
   ],
   "source": [
    "def get_actual_cost(sqft_walls, sqft_ceiling, sqft_per_gallon, cost_per_gallon):\n",
    "    cost = ____\n",
    "    return cost\n",
    "\n",
    "# Check your answer\n",
    "q5.check()"
   ]
  },
  {
   "cell_type": "code",
   "execution_count": 12,
   "id": "1ca20966",
   "metadata": {
    "execution": {
     "iopub.execute_input": "2024-10-11T03:17:00.924070Z",
     "iopub.status.busy": "2024-10-11T03:17:00.923330Z",
     "iopub.status.idle": "2024-10-11T03:17:00.927648Z",
     "shell.execute_reply": "2024-10-11T03:17:00.926690Z"
    },
    "papermill": {
     "duration": 0.017392,
     "end_time": "2024-10-11T03:17:00.929857",
     "exception": false,
     "start_time": "2024-10-11T03:17:00.912465",
     "status": "completed"
    },
    "tags": []
   },
   "outputs": [],
   "source": [
    "# Uncomment to see a hint\n",
    "#q5.hint()\n",
    "\n",
    "# Uncomment to view the solution\n",
    "#q5.solution()"
   ]
  },
  {
   "cell_type": "markdown",
   "id": "3b2a9d19",
   "metadata": {
    "papermill": {
     "duration": 0.009156,
     "end_time": "2024-10-11T03:17:00.948748",
     "exception": false,
     "start_time": "2024-10-11T03:17:00.939592",
     "status": "completed"
    },
    "tags": []
   },
   "source": [
    "Once your function is verified as correct, run the next code cell to calculate the updated cost of your project."
   ]
  },
  {
   "cell_type": "code",
   "execution_count": 13,
   "id": "c05543e9",
   "metadata": {
    "execution": {
     "iopub.execute_input": "2024-10-11T03:17:00.969935Z",
     "iopub.status.busy": "2024-10-11T03:17:00.969001Z",
     "iopub.status.idle": "2024-10-11T03:17:00.975851Z",
     "shell.execute_reply": "2024-10-11T03:17:00.974895Z"
    },
    "papermill": {
     "duration": 0.020091,
     "end_time": "2024-10-11T03:17:00.978341",
     "exception": false,
     "start_time": "2024-10-11T03:17:00.958250",
     "status": "completed"
    },
    "tags": []
   },
   "outputs": [
    {
     "data": {
      "text/markdown": [],
      "text/plain": [
       "<learntools.core.constants.PlaceholderValue at 0x7b10be1c8af0>"
      ]
     },
     "execution_count": 13,
     "metadata": {},
     "output_type": "execute_result"
    }
   ],
   "source": [
    "get_actual_cost(432, 144, 400, 15) "
   ]
  },
  {
   "cell_type": "markdown",
   "id": "2a7dad2d",
   "metadata": {
    "papermill": {
     "duration": 0.00941,
     "end_time": "2024-10-11T03:17:00.997326",
     "exception": false,
     "start_time": "2024-10-11T03:17:00.987916",
     "status": "completed"
    },
    "tags": []
   },
   "source": [
    "Say you're working with a slightly larger room.  Run the next code cell to calculate the cost of the project."
   ]
  },
  {
   "cell_type": "code",
   "execution_count": 14,
   "id": "a514b2ee",
   "metadata": {
    "execution": {
     "iopub.execute_input": "2024-10-11T03:17:01.018141Z",
     "iopub.status.busy": "2024-10-11T03:17:01.017737Z",
     "iopub.status.idle": "2024-10-11T03:17:01.024324Z",
     "shell.execute_reply": "2024-10-11T03:17:01.023352Z"
    },
    "papermill": {
     "duration": 0.019656,
     "end_time": "2024-10-11T03:17:01.026535",
     "exception": false,
     "start_time": "2024-10-11T03:17:01.006879",
     "status": "completed"
    },
    "tags": []
   },
   "outputs": [
    {
     "data": {
      "text/markdown": [],
      "text/plain": [
       "<learntools.core.constants.PlaceholderValue at 0x7b10be1c8af0>"
      ]
     },
     "execution_count": 14,
     "metadata": {},
     "output_type": "execute_result"
    }
   ],
   "source": [
    "get_actual_cost(594, 288, 400, 15) "
   ]
  },
  {
   "cell_type": "markdown",
   "id": "6cfd9b15",
   "metadata": {
    "papermill": {
     "duration": 0.00958,
     "end_time": "2024-10-11T03:17:01.046020",
     "exception": false,
     "start_time": "2024-10-11T03:17:01.036440",
     "status": "completed"
    },
    "tags": []
   },
   "source": [
    "# Keep going\n",
    "\n",
    "Continue to learn about **[data types](https://www.kaggle.com/alexisbcook/data-types)**."
   ]
  },
  {
   "cell_type": "markdown",
   "id": "942073e4",
   "metadata": {
    "papermill": {
     "duration": 0.009765,
     "end_time": "2024-10-11T03:17:01.065642",
     "exception": false,
     "start_time": "2024-10-11T03:17:01.055877",
     "status": "completed"
    },
    "tags": []
   },
   "source": [
    "---\n",
    "\n",
    "\n",
    "\n",
    "\n",
    "*Have questions or comments? Visit the [course discussion forum](https://www.kaggle.com/learn/intro-to-programming/discussion) to chat with other learners.*"
   ]
  }
 ],
 "metadata": {
  "kaggle": {
   "accelerator": "none",
   "dataSources": [],
   "isGpuEnabled": false,
   "isInternetEnabled": false,
   "language": "python",
   "sourceType": "notebook"
  },
  "kernelspec": {
   "display_name": "Python 3",
   "language": "python",
   "name": "python3"
  },
  "language_info": {
   "codemirror_mode": {
    "name": "ipython",
    "version": 3
   },
   "file_extension": ".py",
   "mimetype": "text/x-python",
   "name": "python",
   "nbconvert_exporter": "python",
   "pygments_lexer": "ipython3",
   "version": "3.10.14"
  },
  "papermill": {
   "default_parameters": {},
   "duration": 4.741672,
   "end_time": "2024-10-11T03:17:01.495649",
   "environment_variables": {},
   "exception": null,
   "input_path": "__notebook__.ipynb",
   "output_path": "__notebook__.ipynb",
   "parameters": {},
   "start_time": "2024-10-11T03:16:56.753977",
   "version": "2.6.0"
  }
 },
 "nbformat": 4,
 "nbformat_minor": 5
}
