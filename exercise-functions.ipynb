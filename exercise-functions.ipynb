{
 "cells": [
  {
   "cell_type": "markdown",
   "id": "7223d96d",
   "metadata": {
    "papermill": {
     "duration": 0.008167,
     "end_time": "2024-10-19T18:29:37.199705",
     "exception": false,
     "start_time": "2024-10-19T18:29:37.191538",
     "status": "completed"
    },
    "tags": []
   },
   "source": [
    "**This notebook is an exercise in the [Intro to Programming](https://www.kaggle.com/learn/intro-to-programming) course.  You can reference the tutorial at [this link](https://www.kaggle.com/alexisbcook/functions).**\n",
    "\n",
    "---\n"
   ]
  },
  {
   "cell_type": "markdown",
   "id": "9055b345",
   "metadata": {
    "papermill": {
     "duration": 0.005523,
     "end_time": "2024-10-19T18:29:37.211481",
     "exception": false,
     "start_time": "2024-10-19T18:29:37.205958",
     "status": "completed"
    },
    "tags": []
   },
   "source": [
    "In the tutorial, you learned about functions. In this exercise, you'll write some of your own!\n",
    "\n",
    "# Set up the notebook\n",
    "\n",
    "Run the next code cell without changes to set up the notebook."
   ]
  },
  {
   "cell_type": "code",
   "execution_count": 1,
   "id": "f16401f1",
   "metadata": {
    "execution": {
     "iopub.execute_input": "2024-10-19T18:29:37.225282Z",
     "iopub.status.busy": "2024-10-19T18:29:37.224698Z",
     "iopub.status.idle": "2024-10-19T18:29:38.190667Z",
     "shell.execute_reply": "2024-10-19T18:29:38.189389Z"
    },
    "papermill": {
     "duration": 0.976528,
     "end_time": "2024-10-19T18:29:38.193759",
     "exception": false,
     "start_time": "2024-10-19T18:29:37.217231",
     "status": "completed"
    },
    "tags": []
   },
   "outputs": [
    {
     "name": "stdout",
     "output_type": "stream",
     "text": [
      "Setup complete.\n"
     ]
    }
   ],
   "source": [
    "# Set up the exercise\n",
    "import math\n",
    "from learntools.core import binder\n",
    "binder.bind(globals())\n",
    "from learntools.intro_to_programming.ex2 import *\n",
    "print('Setup complete.')"
   ]
  },
  {
   "cell_type": "markdown",
   "id": "5a82c260",
   "metadata": {
    "papermill": {
     "duration": 0.005738,
     "end_time": "2024-10-19T18:29:38.205887",
     "exception": false,
     "start_time": "2024-10-19T18:29:38.200149",
     "status": "completed"
    },
    "tags": []
   },
   "source": [
    "# Question 1\n",
    "\n",
    "In the [House Prices - Advanced Regression Techniques competition](https://www.kaggle.com/c/house-prices-advanced-regression-techniques/overview), you need to use information like the number of bedrooms and bathrooms to predict the price of a house.  Inspired by this competition, you'll write your own function to do this.\n",
    "\n",
    "In the next code cell, create a function `get_expected_cost()` that has two arguments:\n",
    "- `beds` - number of bedrooms \n",
    "- `baths` - number of bathrooms\n",
    "\n",
    "It should return the expected cost of a house with that number of bedrooms and bathrooms.  Assume that:\n",
    "- the expected cost for a house with 0 bedrooms and 0 bathrooms is `80000`.  \n",
    "- each bedroom adds `30000` to the expected cost\n",
    "- each bathroom adds `10000` to the expected cost.\n",
    "\n",
    "For instance, \n",
    "- a house with 1 bedroom and 1 bathroom has an expected cost of `120000`, and \n",
    "- a house with 2 bedrooms and 1 bathroom has an expected cost of `150000`."
   ]
  },
  {
   "cell_type": "code",
   "execution_count": 2,
   "id": "d59ecc6b",
   "metadata": {
    "execution": {
     "iopub.execute_input": "2024-10-19T18:29:38.220210Z",
     "iopub.status.busy": "2024-10-19T18:29:38.219099Z",
     "iopub.status.idle": "2024-10-19T18:29:38.230366Z",
     "shell.execute_reply": "2024-10-19T18:29:38.229296Z"
    },
    "papermill": {
     "duration": 0.020751,
     "end_time": "2024-10-19T18:29:38.232570",
     "exception": false,
     "start_time": "2024-10-19T18:29:38.211819",
     "status": "completed"
    },
    "tags": []
   },
   "outputs": [
    {
     "data": {
      "application/javascript": [
       "parent.postMessage({\"jupyterEvent\": \"custom.exercise_interaction\", \"data\": {\"outcomeType\": 1, \"valueTowardsCompletion\": 0.2, \"interactionType\": 1, \"questionType\": 2, \"questionId\": \"1_GetExpectedCost\", \"learnToolsVersion\": \"0.3.4\", \"failureMessage\": \"\", \"exceptionClass\": \"\", \"trace\": \"\"}}, \"*\")"
      ],
      "text/plain": [
       "<IPython.core.display.Javascript object>"
      ]
     },
     "metadata": {},
     "output_type": "display_data"
    },
    {
     "data": {
      "text/markdown": [
       "<span style=\"color:#33cc33\">Correct</span>"
      ],
      "text/plain": [
       "Correct"
      ]
     },
     "metadata": {},
     "output_type": "display_data"
    }
   ],
   "source": [
    "# TODO: Complete the function\n",
    "def get_expected_cost(beds, baths):\n",
    "    \n",
    "    value = 80000 + 30000 * beds + 10000 * baths\n",
    "    return value\n",
    "\n",
    "# Check your answer \n",
    "q1.check()"
   ]
  },
  {
   "cell_type": "code",
   "execution_count": 3,
   "id": "2acdbd86",
   "metadata": {
    "execution": {
     "iopub.execute_input": "2024-10-19T18:29:38.247612Z",
     "iopub.status.busy": "2024-10-19T18:29:38.247176Z",
     "iopub.status.idle": "2024-10-19T18:29:38.252033Z",
     "shell.execute_reply": "2024-10-19T18:29:38.250956Z"
    },
    "papermill": {
     "duration": 0.014662,
     "end_time": "2024-10-19T18:29:38.254441",
     "exception": false,
     "start_time": "2024-10-19T18:29:38.239779",
     "status": "completed"
    },
    "tags": []
   },
   "outputs": [],
   "source": [
    "# Uncomment to see a hint\n",
    "#q1.hint()\n",
    "\n",
    "# Uncomment to view the solution\n",
    "#q1.solution()"
   ]
  },
  {
   "cell_type": "markdown",
   "id": "666ddb42",
   "metadata": {
    "papermill": {
     "duration": 0.006211,
     "end_time": "2024-10-19T18:29:38.267181",
     "exception": false,
     "start_time": "2024-10-19T18:29:38.260970",
     "status": "completed"
    },
    "tags": []
   },
   "source": [
    "# Question 2\n",
    "\n",
    "You are thinking about buying a home and want to get an idea of how much you will spend, based on the number of bedrooms and bathrooms.  You are trying to decide between four different options:\n",
    "- Option 1: house with two bedrooms and three bathrooms\n",
    "- Option 2: house with three bedrooms and two bathrooms\n",
    "- Option 3: house with three bedrooms and three bathrooms\n",
    "- Option 4: house with three bedrooms and four bathrooms\n",
    "\n",
    "Use the `get_expected_cost()` function you defined in question 1 to set `option_1`, `option_2`, `option_3`, and `option_4` to the expected cost of each option."
   ]
  },
  {
   "cell_type": "code",
   "execution_count": 4,
   "id": "7eb6c87a",
   "metadata": {
    "execution": {
     "iopub.execute_input": "2024-10-19T18:29:38.282315Z",
     "iopub.status.busy": "2024-10-19T18:29:38.280943Z",
     "iopub.status.idle": "2024-10-19T18:29:38.292909Z",
     "shell.execute_reply": "2024-10-19T18:29:38.291877Z"
    },
    "papermill": {
     "duration": 0.021859,
     "end_time": "2024-10-19T18:29:38.295228",
     "exception": false,
     "start_time": "2024-10-19T18:29:38.273369",
     "status": "completed"
    },
    "tags": []
   },
   "outputs": [
    {
     "name": "stdout",
     "output_type": "stream",
     "text": [
      "170000\n",
      "190000\n",
      "200000\n",
      "210000\n"
     ]
    },
    {
     "data": {
      "application/javascript": [
       "parent.postMessage({\"jupyterEvent\": \"custom.exercise_interaction\", \"data\": {\"outcomeType\": 1, \"valueTowardsCompletion\": 0.2, \"interactionType\": 1, \"questionType\": 1, \"questionId\": \"2_RunGetExpectedCost\", \"learnToolsVersion\": \"0.3.4\", \"failureMessage\": \"\", \"exceptionClass\": \"\", \"trace\": \"\"}}, \"*\")"
      ],
      "text/plain": [
       "<IPython.core.display.Javascript object>"
      ]
     },
     "metadata": {},
     "output_type": "display_data"
    },
    {
     "data": {
      "text/markdown": [
       "<span style=\"color:#33cc33\">Correct</span>"
      ],
      "text/plain": [
       "Correct"
      ]
     },
     "metadata": {},
     "output_type": "display_data"
    }
   ],
   "source": [
    "# TODO: Use the get_expected_cost function to fill in each value\n",
    "option_one = get_expected_cost(2,3)\n",
    "option_two = get_expected_cost(3,2)\n",
    "option_three = get_expected_cost(3,3)\n",
    "option_four = get_expected_cost(3,4)\n",
    "\n",
    "print(option_one)\n",
    "print(option_two)\n",
    "print(option_three)\n",
    "print(option_four)\n",
    "\n",
    "# Check your answer\n",
    "q2.check()"
   ]
  },
  {
   "cell_type": "code",
   "execution_count": 5,
   "id": "3b90abd9",
   "metadata": {
    "execution": {
     "iopub.execute_input": "2024-10-19T18:29:38.311376Z",
     "iopub.status.busy": "2024-10-19T18:29:38.310931Z",
     "iopub.status.idle": "2024-10-19T18:29:38.315975Z",
     "shell.execute_reply": "2024-10-19T18:29:38.314888Z"
    },
    "papermill": {
     "duration": 0.015225,
     "end_time": "2024-10-19T18:29:38.318380",
     "exception": false,
     "start_time": "2024-10-19T18:29:38.303155",
     "status": "completed"
    },
    "tags": []
   },
   "outputs": [],
   "source": [
    "# Uncomment to see a hint\n",
    "#q2.hint()\n",
    "\n",
    "# Uncomment to view the solution\n",
    "#q2.solution()"
   ]
  },
  {
   "cell_type": "markdown",
   "id": "5027e9a5",
   "metadata": {
    "papermill": {
     "duration": 0.006273,
     "end_time": "2024-10-19T18:29:38.331331",
     "exception": false,
     "start_time": "2024-10-19T18:29:38.325058",
     "status": "completed"
    },
    "tags": []
   },
   "source": [
    "# Question 3\n",
    "\n",
    "You're a home decorator, and you'd like to use Python to streamline some of your work.  Specifically, you're creating a tool that you intend to use to calculate the cost of painting a room.\n",
    "\n",
    "As a first step, define a function `get_cost()` that takes as input:\n",
    "- `sqft_walls` = total square feet of walls to be painted\n",
    "- `sqft_ceiling` = square feet of ceiling to be painted\n",
    "- `sqft_per_gallon` = number of square feet that you can cover with one gallon of paint\n",
    "- `cost_per_gallon` = cost (in dollars) of one gallon of paint\n",
    "\n",
    "It should return the cost (in dollars) of putting one coat of paint on all walls and the ceiling.  Assume you can buy the exact amount of paint that you need, so you can buy partial gallons (e.g., if you need 7.523 gallons, you can buy that exact amount, instead of needing to buy 8 gallons and waste some paint).  Do not round your answer."
   ]
  },
  {
   "cell_type": "code",
   "execution_count": 6,
   "id": "9ecb3985",
   "metadata": {
    "execution": {
     "iopub.execute_input": "2024-10-19T18:29:38.346328Z",
     "iopub.status.busy": "2024-10-19T18:29:38.345890Z",
     "iopub.status.idle": "2024-10-19T18:29:38.357165Z",
     "shell.execute_reply": "2024-10-19T18:29:38.355940Z"
    },
    "papermill": {
     "duration": 0.021459,
     "end_time": "2024-10-19T18:29:38.359589",
     "exception": false,
     "start_time": "2024-10-19T18:29:38.338130",
     "status": "completed"
    },
    "tags": []
   },
   "outputs": [
    {
     "data": {
      "application/javascript": [
       "parent.postMessage({\"jupyterEvent\": \"custom.exercise_interaction\", \"data\": {\"outcomeType\": 3, \"exceptionClass\": \"NameError\", \"trace\": \"  File \\\"/opt/conda/lib/python3.10/site-packages/learntools/core/problem.py\\\", line 239, in check\\n    actual = fn(*args)\\n\\n  File \\\"/tmp/ipykernel_17/173096842.py\\\", line 9, in get_cost\\n    return cost1\\n\", \"failureMessage\": \"When calling your function with arguments `[432, 144, 400, 15]`, Python raised the following exception... **`NameError: name 'cost1' is not defined`**\", \"interactionType\": 1, \"questionType\": 2, \"questionId\": \"3_GetCostPaint\", \"learnToolsVersion\": \"0.3.4\", \"valueTowardsCompletion\": 0.0}}, \"*\")"
      ],
      "text/plain": [
       "<IPython.core.display.Javascript object>"
      ]
     },
     "metadata": {},
     "output_type": "display_data"
    },
    {
     "data": {
      "text/markdown": [
       "<span style=\"color:#cc3333\">Incorrect:</span> When calling your function with arguments `[432, 144, 400, 15]`, Python raised the following exception... **`NameError: name 'cost1' is not defined`**"
      ],
      "text/plain": [
       "Incorrect: When calling your function with arguments `[432, 144, 400, 15]`, Python raised the following exception... **`NameError: name 'cost1' is not defined`**"
      ]
     },
     "metadata": {},
     "output_type": "display_data"
    }
   ],
   "source": [
    "# TODO: Finish defining the function\n",
    "def get_cost(sqft_walls, sqft_ceiling, sqft_per_gallon, cost_per_gallon):\n",
    "    total = sqft_walls + sqft_ceiling\n",
    "    needed = total / sqft_per_gallon\n",
    "\n",
    "    \n",
    "    \n",
    "    cost = needed * cost_per_gallon\n",
    "    return cost1\n",
    "\n",
    "# Check your answer\n",
    "q3.check()"
   ]
  },
  {
   "cell_type": "code",
   "execution_count": 7,
   "id": "ab323b3d",
   "metadata": {
    "execution": {
     "iopub.execute_input": "2024-10-19T18:29:38.374797Z",
     "iopub.status.busy": "2024-10-19T18:29:38.374408Z",
     "iopub.status.idle": "2024-10-19T18:29:38.379324Z",
     "shell.execute_reply": "2024-10-19T18:29:38.378078Z"
    },
    "papermill": {
     "duration": 0.015354,
     "end_time": "2024-10-19T18:29:38.381643",
     "exception": false,
     "start_time": "2024-10-19T18:29:38.366289",
     "status": "completed"
    },
    "tags": []
   },
   "outputs": [],
   "source": [
    "# Uncomment to see a hint\n",
    "#q3.hint()\n",
    "\n",
    "# Uncomment to view the solution\n",
    "#q3.solution()"
   ]
  },
  {
   "cell_type": "markdown",
   "id": "2249c497",
   "metadata": {
    "papermill": {
     "duration": 0.007085,
     "end_time": "2024-10-19T18:29:38.395939",
     "exception": false,
     "start_time": "2024-10-19T18:29:38.388854",
     "status": "completed"
    },
    "tags": []
   },
   "source": [
    "# Question 4\n",
    "\n",
    "Use the `get_cost()` function you defined in Question 3 to calculate the cost of applying one coat of paint to a room with:\n",
    "- 432 square feet of walls, and\n",
    "- 144 square feet of ceiling.\n",
    "\n",
    "Assume that one gallon of paint covers 400 square feet and costs $15.  As in Question 3, assume you can buy partial gallons of paint.  Do not round your answer."
   ]
  },
  {
   "cell_type": "code",
   "execution_count": 8,
   "id": "47f4ef84",
   "metadata": {
    "execution": {
     "iopub.execute_input": "2024-10-19T18:29:38.411451Z",
     "iopub.status.busy": "2024-10-19T18:29:38.411015Z",
     "iopub.status.idle": "2024-10-19T18:29:38.420595Z",
     "shell.execute_reply": "2024-10-19T18:29:38.419467Z"
    },
    "papermill": {
     "duration": 0.020101,
     "end_time": "2024-10-19T18:29:38.422970",
     "exception": false,
     "start_time": "2024-10-19T18:29:38.402869",
     "status": "completed"
    },
    "tags": []
   },
   "outputs": [
    {
     "data": {
      "application/javascript": [
       "parent.postMessage({\"jupyterEvent\": \"custom.exercise_interaction\", \"data\": {\"outcomeType\": 4, \"interactionType\": 1, \"questionType\": 1, \"questionId\": \"4_GetCostPaintExample\", \"learnToolsVersion\": \"0.3.4\", \"valueTowardsCompletion\": 0.0, \"failureMessage\": \"\", \"exceptionClass\": \"\", \"trace\": \"\"}}, \"*\")"
      ],
      "text/plain": [
       "<IPython.core.display.Javascript object>"
      ]
     },
     "metadata": {},
     "output_type": "display_data"
    },
    {
     "data": {
      "text/markdown": [
       "<span style=\"color:#ccaa33\">Check:</span> When you've updated the starter code, `check()` will tell you whether your code is correct. You need to update the code that creates variable `project_cost`"
      ],
      "text/plain": [
       "Check: When you've updated the starter code, `check()` will tell you whether your code is correct. You need to update the code that creates variable `project_cost`"
      ]
     },
     "metadata": {},
     "output_type": "display_data"
    }
   ],
   "source": [
    "# TODO: Set the project_cost variable to the cost of the project\n",
    "project_cost = ____\n",
    "\n",
    "# Check your answer\n",
    "q4.check()"
   ]
  },
  {
   "cell_type": "code",
   "execution_count": 9,
   "id": "fc57824d",
   "metadata": {
    "execution": {
     "iopub.execute_input": "2024-10-19T18:29:38.438996Z",
     "iopub.status.busy": "2024-10-19T18:29:38.438597Z",
     "iopub.status.idle": "2024-10-19T18:29:38.443232Z",
     "shell.execute_reply": "2024-10-19T18:29:38.442110Z"
    },
    "papermill": {
     "duration": 0.015408,
     "end_time": "2024-10-19T18:29:38.445450",
     "exception": false,
     "start_time": "2024-10-19T18:29:38.430042",
     "status": "completed"
    },
    "tags": []
   },
   "outputs": [],
   "source": [
    "# Uncomment to see a hint\n",
    "#q4.hint()\n",
    "\n",
    "# Uncomment to view the solution\n",
    "#q4.solution()"
   ]
  },
  {
   "cell_type": "markdown",
   "id": "d7009981",
   "metadata": {
    "papermill": {
     "duration": 0.006794,
     "end_time": "2024-10-19T18:29:38.459262",
     "exception": false,
     "start_time": "2024-10-19T18:29:38.452468",
     "status": "completed"
    },
    "tags": []
   },
   "source": [
    "# 🌶️ Question 5\n",
    "\n",
    "Now say you can no longer buy fractions of a gallon.  (For instance, if you need 4.3 gallons to do a project, then you have to buy 5 gallons of paint.)\n",
    "\n",
    "With this new scenario, you will create a new function `get_actual_cost` that uses the same inputs and calculates the cost of your project.\n",
    "\n",
    "One function that you'll need to use to do this is `math.ceil()`.  We demonstrate usage of this function in the code cell below.  It takes as a number as input and rounds the number up to the nearest integer.  \n",
    "\n",
    "Run the next code cell to test this function for yourself.  Feel free to change the value of `test_value` and make sure `math.ceil()` returns the number you expect."
   ]
  },
  {
   "cell_type": "code",
   "execution_count": 10,
   "id": "4f6779fe",
   "metadata": {
    "execution": {
     "iopub.execute_input": "2024-10-19T18:29:38.475208Z",
     "iopub.status.busy": "2024-10-19T18:29:38.474350Z",
     "iopub.status.idle": "2024-10-19T18:29:38.480388Z",
     "shell.execute_reply": "2024-10-19T18:29:38.479054Z"
    },
    "papermill": {
     "duration": 0.016996,
     "end_time": "2024-10-19T18:29:38.483125",
     "exception": false,
     "start_time": "2024-10-19T18:29:38.466129",
     "status": "completed"
    },
    "tags": []
   },
   "outputs": [
    {
     "name": "stdout",
     "output_type": "stream",
     "text": [
      "3\n"
     ]
    }
   ],
   "source": [
    "test_value = 2.17\n",
    "\n",
    "rounded_value = math.ceil(test_value)\n",
    "print(rounded_value)"
   ]
  },
  {
   "cell_type": "markdown",
   "id": "3de146df",
   "metadata": {
    "papermill": {
     "duration": 0.006827,
     "end_time": "2024-10-19T18:29:38.497045",
     "exception": false,
     "start_time": "2024-10-19T18:29:38.490218",
     "status": "completed"
    },
    "tags": []
   },
   "source": [
    "Use the next code cell to define the function `get_actual_cost()`.  You'll need to use the `math.ceil()` function to do this.\n",
    "\n",
    "When answering this question, note that it's completely valid to define a function that makes use of another function.  For instance, we can define a function `round_up_and_divide_by_three` that makes use of the `math.ceil` function:\n",
    "```\n",
    "def round_up_and_divide_by_three(num):\n",
    "    new_value = math.ceil(num)\n",
    "    final_value = new_value / 3\n",
    "    return final_value\n",
    "```"
   ]
  },
  {
   "cell_type": "code",
   "execution_count": 11,
   "id": "85c05da1",
   "metadata": {
    "execution": {
     "iopub.execute_input": "2024-10-19T18:29:38.513126Z",
     "iopub.status.busy": "2024-10-19T18:29:38.512213Z",
     "iopub.status.idle": "2024-10-19T18:29:38.521320Z",
     "shell.execute_reply": "2024-10-19T18:29:38.520260Z"
    },
    "papermill": {
     "duration": 0.019566,
     "end_time": "2024-10-19T18:29:38.523563",
     "exception": false,
     "start_time": "2024-10-19T18:29:38.503997",
     "status": "completed"
    },
    "tags": []
   },
   "outputs": [
    {
     "data": {
      "application/javascript": [
       "parent.postMessage({\"jupyterEvent\": \"custom.exercise_interaction\", \"data\": {\"outcomeType\": 2, \"failureMessage\": \"Expected return value of `30` given `sqft_walls=432`, `sqft_ceiling=144`, `sqft_per_gallon=400`, `cost_per_gallon=15`, but got `<learntools.core.constants.PlaceholderValue object at 0x7a2f8ee3caf0>` instead.\", \"interactionType\": 1, \"questionType\": 2, \"questionId\": \"5_NoMoreFractions\", \"learnToolsVersion\": \"0.3.4\", \"valueTowardsCompletion\": 0.0, \"exceptionClass\": \"\", \"trace\": \"\"}}, \"*\")"
      ],
      "text/plain": [
       "<IPython.core.display.Javascript object>"
      ]
     },
     "metadata": {},
     "output_type": "display_data"
    },
    {
     "data": {
      "text/markdown": [
       "<span style=\"color:#cc3333\">Incorrect:</span> Expected return value of `30` given `sqft_walls=432`, `sqft_ceiling=144`, `sqft_per_gallon=400`, `cost_per_gallon=15`, but got `<learntools.core.constants.PlaceholderValue object at 0x7a2f8ee3caf0>` instead."
      ],
      "text/plain": [
       "Incorrect: Expected return value of `30` given `sqft_walls=432`, `sqft_ceiling=144`, `sqft_per_gallon=400`, `cost_per_gallon=15`, but got `<learntools.core.constants.PlaceholderValue object at 0x7a2f8ee3caf0>` instead."
      ]
     },
     "metadata": {},
     "output_type": "display_data"
    }
   ],
   "source": [
    "def get_actual_cost(sqft_walls, sqft_ceiling, sqft_per_gallon, cost_per_gallon):\n",
    "    cost = ____\n",
    "    return cost\n",
    "\n",
    "# Check your answer\n",
    "q5.check()"
   ]
  },
  {
   "cell_type": "code",
   "execution_count": 12,
   "id": "1f7c4f8b",
   "metadata": {
    "execution": {
     "iopub.execute_input": "2024-10-19T18:29:38.540043Z",
     "iopub.status.busy": "2024-10-19T18:29:38.539631Z",
     "iopub.status.idle": "2024-10-19T18:29:38.544385Z",
     "shell.execute_reply": "2024-10-19T18:29:38.543188Z"
    },
    "papermill": {
     "duration": 0.016164,
     "end_time": "2024-10-19T18:29:38.546967",
     "exception": false,
     "start_time": "2024-10-19T18:29:38.530803",
     "status": "completed"
    },
    "tags": []
   },
   "outputs": [],
   "source": [
    "# Uncomment to see a hint\n",
    "#q5.hint()\n",
    "\n",
    "# Uncomment to view the solution\n",
    "#q5.solution()"
   ]
  },
  {
   "cell_type": "markdown",
   "id": "4f68a561",
   "metadata": {
    "papermill": {
     "duration": 0.006995,
     "end_time": "2024-10-19T18:29:38.561930",
     "exception": false,
     "start_time": "2024-10-19T18:29:38.554935",
     "status": "completed"
    },
    "tags": []
   },
   "source": [
    "Once your function is verified as correct, run the next code cell to calculate the updated cost of your project."
   ]
  },
  {
   "cell_type": "code",
   "execution_count": 13,
   "id": "a5507aca",
   "metadata": {
    "execution": {
     "iopub.execute_input": "2024-10-19T18:29:38.578966Z",
     "iopub.status.busy": "2024-10-19T18:29:38.577891Z",
     "iopub.status.idle": "2024-10-19T18:29:38.585270Z",
     "shell.execute_reply": "2024-10-19T18:29:38.584099Z"
    },
    "papermill": {
     "duration": 0.01843,
     "end_time": "2024-10-19T18:29:38.587631",
     "exception": false,
     "start_time": "2024-10-19T18:29:38.569201",
     "status": "completed"
    },
    "tags": []
   },
   "outputs": [
    {
     "data": {
      "text/markdown": [],
      "text/plain": [
       "<learntools.core.constants.PlaceholderValue at 0x7a2f8ee3caf0>"
      ]
     },
     "execution_count": 13,
     "metadata": {},
     "output_type": "execute_result"
    }
   ],
   "source": [
    "get_actual_cost(432, 144, 400, 15) "
   ]
  },
  {
   "cell_type": "markdown",
   "id": "ff79101e",
   "metadata": {
    "papermill": {
     "duration": 0.007277,
     "end_time": "2024-10-19T18:29:38.602872",
     "exception": false,
     "start_time": "2024-10-19T18:29:38.595595",
     "status": "completed"
    },
    "tags": []
   },
   "source": [
    "Say you're working with a slightly larger room.  Run the next code cell to calculate the cost of the project."
   ]
  },
  {
   "cell_type": "code",
   "execution_count": 14,
   "id": "40fb46b7",
   "metadata": {
    "execution": {
     "iopub.execute_input": "2024-10-19T18:29:38.619649Z",
     "iopub.status.busy": "2024-10-19T18:29:38.619243Z",
     "iopub.status.idle": "2024-10-19T18:29:38.626582Z",
     "shell.execute_reply": "2024-10-19T18:29:38.625537Z"
    },
    "papermill": {
     "duration": 0.0185,
     "end_time": "2024-10-19T18:29:38.628891",
     "exception": false,
     "start_time": "2024-10-19T18:29:38.610391",
     "status": "completed"
    },
    "tags": []
   },
   "outputs": [
    {
     "data": {
      "text/markdown": [],
      "text/plain": [
       "<learntools.core.constants.PlaceholderValue at 0x7a2f8ee3caf0>"
      ]
     },
     "execution_count": 14,
     "metadata": {},
     "output_type": "execute_result"
    }
   ],
   "source": [
    "get_actual_cost(594, 288, 400, 15) "
   ]
  },
  {
   "cell_type": "markdown",
   "id": "18a1b9e9",
   "metadata": {
    "papermill": {
     "duration": 0.007232,
     "end_time": "2024-10-19T18:29:38.643742",
     "exception": false,
     "start_time": "2024-10-19T18:29:38.636510",
     "status": "completed"
    },
    "tags": []
   },
   "source": [
    "# Keep going\n",
    "\n",
    "Continue to learn about **[data types](https://www.kaggle.com/alexisbcook/data-types)**."
   ]
  },
  {
   "cell_type": "markdown",
   "id": "d43f9b72",
   "metadata": {
    "papermill": {
     "duration": 0.008406,
     "end_time": "2024-10-19T18:29:38.660217",
     "exception": false,
     "start_time": "2024-10-19T18:29:38.651811",
     "status": "completed"
    },
    "tags": []
   },
   "source": [
    "---\n",
    "\n",
    "\n",
    "\n",
    "\n",
    "*Have questions or comments? Visit the [course discussion forum](https://www.kaggle.com/learn/intro-to-programming/discussion) to chat with other learners.*"
   ]
  }
 ],
 "metadata": {
  "kaggle": {
   "accelerator": "none",
   "dataSources": [],
   "isGpuEnabled": false,
   "isInternetEnabled": false,
   "language": "python",
   "sourceType": "notebook"
  },
  "kernelspec": {
   "display_name": "Python 3",
   "language": "python",
   "name": "python3"
  },
  "language_info": {
   "codemirror_mode": {
    "name": "ipython",
    "version": 3
   },
   "file_extension": ".py",
   "mimetype": "text/x-python",
   "name": "python",
   "nbconvert_exporter": "python",
   "pygments_lexer": "ipython3",
   "version": "3.10.14"
  },
  "papermill": {
   "default_parameters": {},
   "duration": 4.960634,
   "end_time": "2024-10-19T18:29:39.189273",
   "environment_variables": {},
   "exception": null,
   "input_path": "__notebook__.ipynb",
   "output_path": "__notebook__.ipynb",
   "parameters": {},
   "start_time": "2024-10-19T18:29:34.228639",
   "version": "2.6.0"
  }
 },
 "nbformat": 4,
 "nbformat_minor": 5
}
