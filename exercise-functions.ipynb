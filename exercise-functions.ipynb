{
 "cells": [
  {
   "cell_type": "markdown",
   "id": "4c7984c2",
   "metadata": {
    "papermill": {
     "duration": 0.008975,
     "end_time": "2024-10-19T18:30:05.217887",
     "exception": false,
     "start_time": "2024-10-19T18:30:05.208912",
     "status": "completed"
    },
    "tags": []
   },
   "source": [
    "**This notebook is an exercise in the [Intro to Programming](https://www.kaggle.com/learn/intro-to-programming) course.  You can reference the tutorial at [this link](https://www.kaggle.com/alexisbcook/functions).**\n",
    "\n",
    "---\n"
   ]
  },
  {
   "cell_type": "markdown",
   "id": "9d96a647",
   "metadata": {
    "papermill": {
     "duration": 0.008194,
     "end_time": "2024-10-19T18:30:05.234388",
     "exception": false,
     "start_time": "2024-10-19T18:30:05.226194",
     "status": "completed"
    },
    "tags": []
   },
   "source": [
    "In the tutorial, you learned about functions. In this exercise, you'll write some of your own!\n",
    "\n",
    "# Set up the notebook\n",
    "\n",
    "Run the next code cell without changes to set up the notebook."
   ]
  },
  {
   "cell_type": "code",
   "execution_count": 1,
   "id": "9c0f3a51",
   "metadata": {
    "execution": {
     "iopub.execute_input": "2024-10-19T18:30:05.252716Z",
     "iopub.status.busy": "2024-10-19T18:30:05.252131Z",
     "iopub.status.idle": "2024-10-19T18:30:06.189377Z",
     "shell.execute_reply": "2024-10-19T18:30:06.187653Z"
    },
    "papermill": {
     "duration": 0.949706,
     "end_time": "2024-10-19T18:30:06.192198",
     "exception": false,
     "start_time": "2024-10-19T18:30:05.242492",
     "status": "completed"
    },
    "tags": []
   },
   "outputs": [
    {
     "name": "stdout",
     "output_type": "stream",
     "text": [
      "Setup complete.\n"
     ]
    }
   ],
   "source": [
    "# Set up the exercise\n",
    "import math\n",
    "from learntools.core import binder\n",
    "binder.bind(globals())\n",
    "from learntools.intro_to_programming.ex2 import *\n",
    "print('Setup complete.')"
   ]
  },
  {
   "cell_type": "markdown",
   "id": "0274ce78",
   "metadata": {
    "papermill": {
     "duration": 0.008711,
     "end_time": "2024-10-19T18:30:06.209205",
     "exception": false,
     "start_time": "2024-10-19T18:30:06.200494",
     "status": "completed"
    },
    "tags": []
   },
   "source": [
    "# Question 1\n",
    "\n",
    "In the [House Prices - Advanced Regression Techniques competition](https://www.kaggle.com/c/house-prices-advanced-regression-techniques/overview), you need to use information like the number of bedrooms and bathrooms to predict the price of a house.  Inspired by this competition, you'll write your own function to do this.\n",
    "\n",
    "In the next code cell, create a function `get_expected_cost()` that has two arguments:\n",
    "- `beds` - number of bedrooms \n",
    "- `baths` - number of bathrooms\n",
    "\n",
    "It should return the expected cost of a house with that number of bedrooms and bathrooms.  Assume that:\n",
    "- the expected cost for a house with 0 bedrooms and 0 bathrooms is `80000`.  \n",
    "- each bedroom adds `30000` to the expected cost\n",
    "- each bathroom adds `10000` to the expected cost.\n",
    "\n",
    "For instance, \n",
    "- a house with 1 bedroom and 1 bathroom has an expected cost of `120000`, and \n",
    "- a house with 2 bedrooms and 1 bathroom has an expected cost of `150000`."
   ]
  },
  {
   "cell_type": "code",
   "execution_count": 2,
   "id": "770655d8",
   "metadata": {
    "execution": {
     "iopub.execute_input": "2024-10-19T18:30:06.228512Z",
     "iopub.status.busy": "2024-10-19T18:30:06.227930Z",
     "iopub.status.idle": "2024-10-19T18:30:06.239889Z",
     "shell.execute_reply": "2024-10-19T18:30:06.238815Z"
    },
    "papermill": {
     "duration": 0.024184,
     "end_time": "2024-10-19T18:30:06.242457",
     "exception": false,
     "start_time": "2024-10-19T18:30:06.218273",
     "status": "completed"
    },
    "tags": []
   },
   "outputs": [
    {
     "data": {
      "application/javascript": [
       "parent.postMessage({\"jupyterEvent\": \"custom.exercise_interaction\", \"data\": {\"outcomeType\": 1, \"valueTowardsCompletion\": 0.2, \"interactionType\": 1, \"questionType\": 2, \"questionId\": \"1_GetExpectedCost\", \"learnToolsVersion\": \"0.3.4\", \"failureMessage\": \"\", \"exceptionClass\": \"\", \"trace\": \"\"}}, \"*\")"
      ],
      "text/plain": [
       "<IPython.core.display.Javascript object>"
      ]
     },
     "metadata": {},
     "output_type": "display_data"
    },
    {
     "data": {
      "text/markdown": [
       "<span style=\"color:#33cc33\">Correct</span>"
      ],
      "text/plain": [
       "Correct"
      ]
     },
     "metadata": {},
     "output_type": "display_data"
    }
   ],
   "source": [
    "# TODO: Complete the function\n",
    "def get_expected_cost(beds, baths):\n",
    "    \n",
    "    value = 80000 + 30000 * beds + 10000 * baths\n",
    "    return value\n",
    "\n",
    "# Check your answer \n",
    "q1.check()"
   ]
  },
  {
   "cell_type": "code",
   "execution_count": 3,
   "id": "faaa1a7f",
   "metadata": {
    "execution": {
     "iopub.execute_input": "2024-10-19T18:30:06.262261Z",
     "iopub.status.busy": "2024-10-19T18:30:06.261812Z",
     "iopub.status.idle": "2024-10-19T18:30:06.266951Z",
     "shell.execute_reply": "2024-10-19T18:30:06.265831Z"
    },
    "papermill": {
     "duration": 0.017547,
     "end_time": "2024-10-19T18:30:06.269430",
     "exception": false,
     "start_time": "2024-10-19T18:30:06.251883",
     "status": "completed"
    },
    "tags": []
   },
   "outputs": [],
   "source": [
    "# Uncomment to see a hint\n",
    "#q1.hint()\n",
    "\n",
    "# Uncomment to view the solution\n",
    "#q1.solution()"
   ]
  },
  {
   "cell_type": "markdown",
   "id": "dde6b46b",
   "metadata": {
    "papermill": {
     "duration": 0.008255,
     "end_time": "2024-10-19T18:30:06.286043",
     "exception": false,
     "start_time": "2024-10-19T18:30:06.277788",
     "status": "completed"
    },
    "tags": []
   },
   "source": [
    "# Question 2\n",
    "\n",
    "You are thinking about buying a home and want to get an idea of how much you will spend, based on the number of bedrooms and bathrooms.  You are trying to decide between four different options:\n",
    "- Option 1: house with two bedrooms and three bathrooms\n",
    "- Option 2: house with three bedrooms and two bathrooms\n",
    "- Option 3: house with three bedrooms and three bathrooms\n",
    "- Option 4: house with three bedrooms and four bathrooms\n",
    "\n",
    "Use the `get_expected_cost()` function you defined in question 1 to set `option_1`, `option_2`, `option_3`, and `option_4` to the expected cost of each option."
   ]
  },
  {
   "cell_type": "code",
   "execution_count": 4,
   "id": "214b3a92",
   "metadata": {
    "execution": {
     "iopub.execute_input": "2024-10-19T18:30:06.304723Z",
     "iopub.status.busy": "2024-10-19T18:30:06.304253Z",
     "iopub.status.idle": "2024-10-19T18:30:06.315984Z",
     "shell.execute_reply": "2024-10-19T18:30:06.314773Z"
    },
    "papermill": {
     "duration": 0.024012,
     "end_time": "2024-10-19T18:30:06.318491",
     "exception": false,
     "start_time": "2024-10-19T18:30:06.294479",
     "status": "completed"
    },
    "tags": []
   },
   "outputs": [
    {
     "name": "stdout",
     "output_type": "stream",
     "text": [
      "170000\n",
      "190000\n",
      "200000\n",
      "210000\n"
     ]
    },
    {
     "data": {
      "application/javascript": [
       "parent.postMessage({\"jupyterEvent\": \"custom.exercise_interaction\", \"data\": {\"outcomeType\": 1, \"valueTowardsCompletion\": 0.2, \"interactionType\": 1, \"questionType\": 1, \"questionId\": \"2_RunGetExpectedCost\", \"learnToolsVersion\": \"0.3.4\", \"failureMessage\": \"\", \"exceptionClass\": \"\", \"trace\": \"\"}}, \"*\")"
      ],
      "text/plain": [
       "<IPython.core.display.Javascript object>"
      ]
     },
     "metadata": {},
     "output_type": "display_data"
    },
    {
     "data": {
      "text/markdown": [
       "<span style=\"color:#33cc33\">Correct</span>"
      ],
      "text/plain": [
       "Correct"
      ]
     },
     "metadata": {},
     "output_type": "display_data"
    }
   ],
   "source": [
    "# TODO: Use the get_expected_cost function to fill in each value\n",
    "option_one = get_expected_cost(2,3)\n",
    "option_two = get_expected_cost(3,2)\n",
    "option_three = get_expected_cost(3,3)\n",
    "option_four = get_expected_cost(3,4)\n",
    "\n",
    "print(option_one)\n",
    "print(option_two)\n",
    "print(option_three)\n",
    "print(option_four)\n",
    "\n",
    "# Check your answer\n",
    "q2.check()"
   ]
  },
  {
   "cell_type": "code",
   "execution_count": 5,
   "id": "14a8d14f",
   "metadata": {
    "execution": {
     "iopub.execute_input": "2024-10-19T18:30:06.338000Z",
     "iopub.status.busy": "2024-10-19T18:30:06.337586Z",
     "iopub.status.idle": "2024-10-19T18:30:06.342580Z",
     "shell.execute_reply": "2024-10-19T18:30:06.341409Z"
    },
    "papermill": {
     "duration": 0.017773,
     "end_time": "2024-10-19T18:30:06.345131",
     "exception": false,
     "start_time": "2024-10-19T18:30:06.327358",
     "status": "completed"
    },
    "tags": []
   },
   "outputs": [],
   "source": [
    "# Uncomment to see a hint\n",
    "#q2.hint()\n",
    "\n",
    "# Uncomment to view the solution\n",
    "#q2.solution()"
   ]
  },
  {
   "cell_type": "markdown",
   "id": "4dbbed95",
   "metadata": {
    "papermill": {
     "duration": 0.008701,
     "end_time": "2024-10-19T18:30:06.362740",
     "exception": false,
     "start_time": "2024-10-19T18:30:06.354039",
     "status": "completed"
    },
    "tags": []
   },
   "source": [
    "# Question 3\n",
    "\n",
    "You're a home decorator, and you'd like to use Python to streamline some of your work.  Specifically, you're creating a tool that you intend to use to calculate the cost of painting a room.\n",
    "\n",
    "As a first step, define a function `get_cost()` that takes as input:\n",
    "- `sqft_walls` = total square feet of walls to be painted\n",
    "- `sqft_ceiling` = square feet of ceiling to be painted\n",
    "- `sqft_per_gallon` = number of square feet that you can cover with one gallon of paint\n",
    "- `cost_per_gallon` = cost (in dollars) of one gallon of paint\n",
    "\n",
    "It should return the cost (in dollars) of putting one coat of paint on all walls and the ceiling.  Assume you can buy the exact amount of paint that you need, so you can buy partial gallons (e.g., if you need 7.523 gallons, you can buy that exact amount, instead of needing to buy 8 gallons and waste some paint).  Do not round your answer."
   ]
  },
  {
   "cell_type": "code",
   "execution_count": 6,
   "id": "6d0628fc",
   "metadata": {
    "execution": {
     "iopub.execute_input": "2024-10-19T18:30:06.382658Z",
     "iopub.status.busy": "2024-10-19T18:30:06.382239Z",
     "iopub.status.idle": "2024-10-19T18:30:06.394141Z",
     "shell.execute_reply": "2024-10-19T18:30:06.393054Z"
    },
    "papermill": {
     "duration": 0.025195,
     "end_time": "2024-10-19T18:30:06.396867",
     "exception": false,
     "start_time": "2024-10-19T18:30:06.371672",
     "status": "completed"
    },
    "tags": []
   },
   "outputs": [
    {
     "data": {
      "application/javascript": [
       "parent.postMessage({\"jupyterEvent\": \"custom.exercise_interaction\", \"data\": {\"outcomeType\": 1, \"valueTowardsCompletion\": 0.2, \"interactionType\": 1, \"questionType\": 2, \"questionId\": \"3_GetCostPaint\", \"learnToolsVersion\": \"0.3.4\", \"failureMessage\": \"\", \"exceptionClass\": \"\", \"trace\": \"\"}}, \"*\")"
      ],
      "text/plain": [
       "<IPython.core.display.Javascript object>"
      ]
     },
     "metadata": {},
     "output_type": "display_data"
    },
    {
     "data": {
      "text/markdown": [
       "<span style=\"color:#33cc33\">Correct</span>"
      ],
      "text/plain": [
       "Correct"
      ]
     },
     "metadata": {},
     "output_type": "display_data"
    }
   ],
   "source": [
    "# TODO: Finish defining the function\n",
    "def get_cost(sqft_walls, sqft_ceiling, sqft_per_gallon, cost_per_gallon):\n",
    "    total = sqft_walls + sqft_ceiling\n",
    "    needed = total / sqft_per_gallon\n",
    "\n",
    "    \n",
    "    \n",
    "    cost = needed * cost_per_gallon\n",
    "    return cost\n",
    "\n",
    "# Check your answer\n",
    "q3.check()"
   ]
  },
  {
   "cell_type": "code",
   "execution_count": 7,
   "id": "58909eb3",
   "metadata": {
    "execution": {
     "iopub.execute_input": "2024-10-19T18:30:06.417321Z",
     "iopub.status.busy": "2024-10-19T18:30:06.416880Z",
     "iopub.status.idle": "2024-10-19T18:30:06.421776Z",
     "shell.execute_reply": "2024-10-19T18:30:06.420740Z"
    },
    "papermill": {
     "duration": 0.018262,
     "end_time": "2024-10-19T18:30:06.424350",
     "exception": false,
     "start_time": "2024-10-19T18:30:06.406088",
     "status": "completed"
    },
    "tags": []
   },
   "outputs": [],
   "source": [
    "# Uncomment to see a hint\n",
    "#q3.hint()\n",
    "\n",
    "# Uncomment to view the solution\n",
    "#q3.solution()"
   ]
  },
  {
   "cell_type": "markdown",
   "id": "2c1f5bd1",
   "metadata": {
    "papermill": {
     "duration": 0.008972,
     "end_time": "2024-10-19T18:30:06.442682",
     "exception": false,
     "start_time": "2024-10-19T18:30:06.433710",
     "status": "completed"
    },
    "tags": []
   },
   "source": [
    "# Question 4\n",
    "\n",
    "Use the `get_cost()` function you defined in Question 3 to calculate the cost of applying one coat of paint to a room with:\n",
    "- 432 square feet of walls, and\n",
    "- 144 square feet of ceiling.\n",
    "\n",
    "Assume that one gallon of paint covers 400 square feet and costs $15.  As in Question 3, assume you can buy partial gallons of paint.  Do not round your answer."
   ]
  },
  {
   "cell_type": "code",
   "execution_count": 8,
   "id": "bb153f44",
   "metadata": {
    "execution": {
     "iopub.execute_input": "2024-10-19T18:30:06.463433Z",
     "iopub.status.busy": "2024-10-19T18:30:06.462956Z",
     "iopub.status.idle": "2024-10-19T18:30:06.472786Z",
     "shell.execute_reply": "2024-10-19T18:30:06.471609Z"
    },
    "papermill": {
     "duration": 0.023156,
     "end_time": "2024-10-19T18:30:06.475236",
     "exception": false,
     "start_time": "2024-10-19T18:30:06.452080",
     "status": "completed"
    },
    "tags": []
   },
   "outputs": [
    {
     "data": {
      "application/javascript": [
       "parent.postMessage({\"jupyterEvent\": \"custom.exercise_interaction\", \"data\": {\"outcomeType\": 4, \"interactionType\": 1, \"questionType\": 1, \"questionId\": \"4_GetCostPaintExample\", \"learnToolsVersion\": \"0.3.4\", \"valueTowardsCompletion\": 0.0, \"failureMessage\": \"\", \"exceptionClass\": \"\", \"trace\": \"\"}}, \"*\")"
      ],
      "text/plain": [
       "<IPython.core.display.Javascript object>"
      ]
     },
     "metadata": {},
     "output_type": "display_data"
    },
    {
     "data": {
      "text/markdown": [
       "<span style=\"color:#ccaa33\">Check:</span> When you've updated the starter code, `check()` will tell you whether your code is correct. You need to update the code that creates variable `project_cost`"
      ],
      "text/plain": [
       "Check: When you've updated the starter code, `check()` will tell you whether your code is correct. You need to update the code that creates variable `project_cost`"
      ]
     },
     "metadata": {},
     "output_type": "display_data"
    }
   ],
   "source": [
    "# TODO: Set the project_cost variable to the cost of the project\n",
    "project_cost = ____\n",
    "\n",
    "# Check your answer\n",
    "q4.check()"
   ]
  },
  {
   "cell_type": "code",
   "execution_count": 9,
   "id": "1a9ead68",
   "metadata": {
    "execution": {
     "iopub.execute_input": "2024-10-19T18:30:06.495994Z",
     "iopub.status.busy": "2024-10-19T18:30:06.495496Z",
     "iopub.status.idle": "2024-10-19T18:30:06.500657Z",
     "shell.execute_reply": "2024-10-19T18:30:06.499445Z"
    },
    "papermill": {
     "duration": 0.018445,
     "end_time": "2024-10-19T18:30:06.503205",
     "exception": false,
     "start_time": "2024-10-19T18:30:06.484760",
     "status": "completed"
    },
    "tags": []
   },
   "outputs": [],
   "source": [
    "# Uncomment to see a hint\n",
    "#q4.hint()\n",
    "\n",
    "# Uncomment to view the solution\n",
    "#q4.solution()"
   ]
  },
  {
   "cell_type": "markdown",
   "id": "395b7f38",
   "metadata": {
    "papermill": {
     "duration": 0.010069,
     "end_time": "2024-10-19T18:30:06.523136",
     "exception": false,
     "start_time": "2024-10-19T18:30:06.513067",
     "status": "completed"
    },
    "tags": []
   },
   "source": [
    "# 🌶️ Question 5\n",
    "\n",
    "Now say you can no longer buy fractions of a gallon.  (For instance, if you need 4.3 gallons to do a project, then you have to buy 5 gallons of paint.)\n",
    "\n",
    "With this new scenario, you will create a new function `get_actual_cost` that uses the same inputs and calculates the cost of your project.\n",
    "\n",
    "One function that you'll need to use to do this is `math.ceil()`.  We demonstrate usage of this function in the code cell below.  It takes as a number as input and rounds the number up to the nearest integer.  \n",
    "\n",
    "Run the next code cell to test this function for yourself.  Feel free to change the value of `test_value` and make sure `math.ceil()` returns the number you expect."
   ]
  },
  {
   "cell_type": "code",
   "execution_count": 10,
   "id": "c46b3210",
   "metadata": {
    "execution": {
     "iopub.execute_input": "2024-10-19T18:30:06.543744Z",
     "iopub.status.busy": "2024-10-19T18:30:06.543330Z",
     "iopub.status.idle": "2024-10-19T18:30:06.549384Z",
     "shell.execute_reply": "2024-10-19T18:30:06.548032Z"
    },
    "papermill": {
     "duration": 0.01989,
     "end_time": "2024-10-19T18:30:06.552491",
     "exception": false,
     "start_time": "2024-10-19T18:30:06.532601",
     "status": "completed"
    },
    "tags": []
   },
   "outputs": [
    {
     "name": "stdout",
     "output_type": "stream",
     "text": [
      "3\n"
     ]
    }
   ],
   "source": [
    "test_value = 2.17\n",
    "\n",
    "rounded_value = math.ceil(test_value)\n",
    "print(rounded_value)"
   ]
  },
  {
   "cell_type": "markdown",
   "id": "4a90ec27",
   "metadata": {
    "papermill": {
     "duration": 0.009509,
     "end_time": "2024-10-19T18:30:06.571757",
     "exception": false,
     "start_time": "2024-10-19T18:30:06.562248",
     "status": "completed"
    },
    "tags": []
   },
   "source": [
    "Use the next code cell to define the function `get_actual_cost()`.  You'll need to use the `math.ceil()` function to do this.\n",
    "\n",
    "When answering this question, note that it's completely valid to define a function that makes use of another function.  For instance, we can define a function `round_up_and_divide_by_three` that makes use of the `math.ceil` function:\n",
    "```\n",
    "def round_up_and_divide_by_three(num):\n",
    "    new_value = math.ceil(num)\n",
    "    final_value = new_value / 3\n",
    "    return final_value\n",
    "```"
   ]
  },
  {
   "cell_type": "code",
   "execution_count": 11,
   "id": "e6930c2b",
   "metadata": {
    "execution": {
     "iopub.execute_input": "2024-10-19T18:30:06.592568Z",
     "iopub.status.busy": "2024-10-19T18:30:06.592115Z",
     "iopub.status.idle": "2024-10-19T18:30:06.602321Z",
     "shell.execute_reply": "2024-10-19T18:30:06.601139Z"
    },
    "papermill": {
     "duration": 0.023583,
     "end_time": "2024-10-19T18:30:06.604883",
     "exception": false,
     "start_time": "2024-10-19T18:30:06.581300",
     "status": "completed"
    },
    "tags": []
   },
   "outputs": [
    {
     "data": {
      "application/javascript": [
       "parent.postMessage({\"jupyterEvent\": \"custom.exercise_interaction\", \"data\": {\"outcomeType\": 2, \"failureMessage\": \"Expected return value of `30` given `sqft_walls=432`, `sqft_ceiling=144`, `sqft_per_gallon=400`, `cost_per_gallon=15`, but got `<learntools.core.constants.PlaceholderValue object at 0x7d43def9caf0>` instead.\", \"interactionType\": 1, \"questionType\": 2, \"questionId\": \"5_NoMoreFractions\", \"learnToolsVersion\": \"0.3.4\", \"valueTowardsCompletion\": 0.0, \"exceptionClass\": \"\", \"trace\": \"\"}}, \"*\")"
      ],
      "text/plain": [
       "<IPython.core.display.Javascript object>"
      ]
     },
     "metadata": {},
     "output_type": "display_data"
    },
    {
     "data": {
      "text/markdown": [
       "<span style=\"color:#cc3333\">Incorrect:</span> Expected return value of `30` given `sqft_walls=432`, `sqft_ceiling=144`, `sqft_per_gallon=400`, `cost_per_gallon=15`, but got `<learntools.core.constants.PlaceholderValue object at 0x7d43def9caf0>` instead."
      ],
      "text/plain": [
       "Incorrect: Expected return value of `30` given `sqft_walls=432`, `sqft_ceiling=144`, `sqft_per_gallon=400`, `cost_per_gallon=15`, but got `<learntools.core.constants.PlaceholderValue object at 0x7d43def9caf0>` instead."
      ]
     },
     "metadata": {},
     "output_type": "display_data"
    }
   ],
   "source": [
    "def get_actual_cost(sqft_walls, sqft_ceiling, sqft_per_gallon, cost_per_gallon):\n",
    "    cost = ____\n",
    "    return cost\n",
    "\n",
    "# Check your answer\n",
    "q5.check()"
   ]
  },
  {
   "cell_type": "code",
   "execution_count": 12,
   "id": "63e4446c",
   "metadata": {
    "execution": {
     "iopub.execute_input": "2024-10-19T18:30:06.626889Z",
     "iopub.status.busy": "2024-10-19T18:30:06.626416Z",
     "iopub.status.idle": "2024-10-19T18:30:06.631541Z",
     "shell.execute_reply": "2024-10-19T18:30:06.630401Z"
    },
    "papermill": {
     "duration": 0.01949,
     "end_time": "2024-10-19T18:30:06.634331",
     "exception": false,
     "start_time": "2024-10-19T18:30:06.614841",
     "status": "completed"
    },
    "tags": []
   },
   "outputs": [],
   "source": [
    "# Uncomment to see a hint\n",
    "#q5.hint()\n",
    "\n",
    "# Uncomment to view the solution\n",
    "#q5.solution()"
   ]
  },
  {
   "cell_type": "markdown",
   "id": "d029cbe6",
   "metadata": {
    "papermill": {
     "duration": 0.009685,
     "end_time": "2024-10-19T18:30:06.654593",
     "exception": false,
     "start_time": "2024-10-19T18:30:06.644908",
     "status": "completed"
    },
    "tags": []
   },
   "source": [
    "Once your function is verified as correct, run the next code cell to calculate the updated cost of your project."
   ]
  },
  {
   "cell_type": "code",
   "execution_count": 13,
   "id": "b778f880",
   "metadata": {
    "execution": {
     "iopub.execute_input": "2024-10-19T18:30:06.676950Z",
     "iopub.status.busy": "2024-10-19T18:30:06.676491Z",
     "iopub.status.idle": "2024-10-19T18:30:06.684419Z",
     "shell.execute_reply": "2024-10-19T18:30:06.683172Z"
    },
    "papermill": {
     "duration": 0.022058,
     "end_time": "2024-10-19T18:30:06.687095",
     "exception": false,
     "start_time": "2024-10-19T18:30:06.665037",
     "status": "completed"
    },
    "tags": []
   },
   "outputs": [
    {
     "data": {
      "text/markdown": [],
      "text/plain": [
       "<learntools.core.constants.PlaceholderValue at 0x7d43def9caf0>"
      ]
     },
     "execution_count": 13,
     "metadata": {},
     "output_type": "execute_result"
    }
   ],
   "source": [
    "get_actual_cost(432, 144, 400, 15) "
   ]
  },
  {
   "cell_type": "markdown",
   "id": "c9ccd7ad",
   "metadata": {
    "papermill": {
     "duration": 0.009921,
     "end_time": "2024-10-19T18:30:06.707249",
     "exception": false,
     "start_time": "2024-10-19T18:30:06.697328",
     "status": "completed"
    },
    "tags": []
   },
   "source": [
    "Say you're working with a slightly larger room.  Run the next code cell to calculate the cost of the project."
   ]
  },
  {
   "cell_type": "code",
   "execution_count": 14,
   "id": "621dc57a",
   "metadata": {
    "execution": {
     "iopub.execute_input": "2024-10-19T18:30:06.729291Z",
     "iopub.status.busy": "2024-10-19T18:30:06.728902Z",
     "iopub.status.idle": "2024-10-19T18:30:06.736136Z",
     "shell.execute_reply": "2024-10-19T18:30:06.734959Z"
    },
    "papermill": {
     "duration": 0.02123,
     "end_time": "2024-10-19T18:30:06.738507",
     "exception": false,
     "start_time": "2024-10-19T18:30:06.717277",
     "status": "completed"
    },
    "tags": []
   },
   "outputs": [
    {
     "data": {
      "text/markdown": [],
      "text/plain": [
       "<learntools.core.constants.PlaceholderValue at 0x7d43def9caf0>"
      ]
     },
     "execution_count": 14,
     "metadata": {},
     "output_type": "execute_result"
    }
   ],
   "source": [
    "get_actual_cost(594, 288, 400, 15) "
   ]
  },
  {
   "cell_type": "markdown",
   "id": "7ff5a2f1",
   "metadata": {
    "papermill": {
     "duration": 0.009988,
     "end_time": "2024-10-19T18:30:06.758797",
     "exception": false,
     "start_time": "2024-10-19T18:30:06.748809",
     "status": "completed"
    },
    "tags": []
   },
   "source": [
    "# Keep going\n",
    "\n",
    "Continue to learn about **[data types](https://www.kaggle.com/alexisbcook/data-types)**."
   ]
  },
  {
   "cell_type": "markdown",
   "id": "3a2868d2",
   "metadata": {
    "papermill": {
     "duration": 0.010035,
     "end_time": "2024-10-19T18:30:06.779027",
     "exception": false,
     "start_time": "2024-10-19T18:30:06.768992",
     "status": "completed"
    },
    "tags": []
   },
   "source": [
    "---\n",
    "\n",
    "\n",
    "\n",
    "\n",
    "*Have questions or comments? Visit the [course discussion forum](https://www.kaggle.com/learn/intro-to-programming/discussion) to chat with other learners.*"
   ]
  }
 ],
 "metadata": {
  "kaggle": {
   "accelerator": "none",
   "dataSources": [],
   "isGpuEnabled": false,
   "isInternetEnabled": false,
   "language": "python",
   "sourceType": "notebook"
  },
  "kernelspec": {
   "display_name": "Python 3",
   "language": "python",
   "name": "python3"
  },
  "language_info": {
   "codemirror_mode": {
    "name": "ipython",
    "version": 3
   },
   "file_extension": ".py",
   "mimetype": "text/x-python",
   "name": "python",
   "nbconvert_exporter": "python",
   "pygments_lexer": "ipython3",
   "version": "3.10.14"
  },
  "papermill": {
   "default_parameters": {},
   "duration": 5.184071,
   "end_time": "2024-10-19T18:30:07.312158",
   "environment_variables": {},
   "exception": null,
   "input_path": "__notebook__.ipynb",
   "output_path": "__notebook__.ipynb",
   "parameters": {},
   "start_time": "2024-10-19T18:30:02.128087",
   "version": "2.6.0"
  }
 },
 "nbformat": 4,
 "nbformat_minor": 5
}
