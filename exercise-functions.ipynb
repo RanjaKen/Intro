{
 "cells": [
  {
   "cell_type": "markdown",
   "id": "8cda7159",
   "metadata": {
    "papermill": {
     "duration": 0.006551,
     "end_time": "2024-10-12T05:43:18.812499",
     "exception": false,
     "start_time": "2024-10-12T05:43:18.805948",
     "status": "completed"
    },
    "tags": []
   },
   "source": [
    "**This notebook is an exercise in the [Intro to Programming](https://www.kaggle.com/learn/intro-to-programming) course.  You can reference the tutorial at [this link](https://www.kaggle.com/alexisbcook/functions).**\n",
    "\n",
    "---\n"
   ]
  },
  {
   "cell_type": "markdown",
   "id": "251dfd7a",
   "metadata": {
    "papermill": {
     "duration": 0.005429,
     "end_time": "2024-10-12T05:43:18.823932",
     "exception": false,
     "start_time": "2024-10-12T05:43:18.818503",
     "status": "completed"
    },
    "tags": []
   },
   "source": [
    "In the tutorial, you learned about functions. In this exercise, you'll write some of your own!\n",
    "\n",
    "# Set up the notebook\n",
    "\n",
    "Run the next code cell without changes to set up the notebook."
   ]
  },
  {
   "cell_type": "code",
   "execution_count": 1,
   "id": "bd92c046",
   "metadata": {
    "execution": {
     "iopub.execute_input": "2024-10-12T05:43:18.837252Z",
     "iopub.status.busy": "2024-10-12T05:43:18.836696Z",
     "iopub.status.idle": "2024-10-12T05:43:19.816185Z",
     "shell.execute_reply": "2024-10-12T05:43:19.814823Z"
    },
    "papermill": {
     "duration": 0.989753,
     "end_time": "2024-10-12T05:43:19.819276",
     "exception": false,
     "start_time": "2024-10-12T05:43:18.829523",
     "status": "completed"
    },
    "tags": []
   },
   "outputs": [
    {
     "name": "stdout",
     "output_type": "stream",
     "text": [
      "Setup complete.\n"
     ]
    }
   ],
   "source": [
    "# Set up the exercise\n",
    "import math\n",
    "from learntools.core import binder\n",
    "binder.bind(globals())\n",
    "from learntools.intro_to_programming.ex2 import *\n",
    "print('Setup complete.')"
   ]
  },
  {
   "cell_type": "markdown",
   "id": "673f93b3",
   "metadata": {
    "papermill": {
     "duration": 0.005571,
     "end_time": "2024-10-12T05:43:19.830881",
     "exception": false,
     "start_time": "2024-10-12T05:43:19.825310",
     "status": "completed"
    },
    "tags": []
   },
   "source": [
    "# Question 1\n",
    "\n",
    "In the [House Prices - Advanced Regression Techniques competition](https://www.kaggle.com/c/house-prices-advanced-regression-techniques/overview), you need to use information like the number of bedrooms and bathrooms to predict the price of a house.  Inspired by this competition, you'll write your own function to do this.\n",
    "\n",
    "In the next code cell, create a function `get_expected_cost()` that has two arguments:\n",
    "- `beds` - number of bedrooms \n",
    "- `baths` - number of bathrooms\n",
    "\n",
    "It should return the expected cost of a house with that number of bedrooms and bathrooms.  Assume that:\n",
    "- the expected cost for a house with 0 bedrooms and 0 bathrooms is `80000`.  \n",
    "- each bedroom adds `30000` to the expected cost\n",
    "- each bathroom adds `10000` to the expected cost.\n",
    "\n",
    "For instance, \n",
    "- a house with 1 bedroom and 1 bathroom has an expected cost of `120000`, and \n",
    "- a house with 2 bedrooms and 1 bathroom has an expected cost of `150000`."
   ]
  },
  {
   "cell_type": "code",
   "execution_count": 2,
   "id": "505b88b9",
   "metadata": {
    "execution": {
     "iopub.execute_input": "2024-10-12T05:43:19.844177Z",
     "iopub.status.busy": "2024-10-12T05:43:19.843654Z",
     "iopub.status.idle": "2024-10-12T05:43:19.854575Z",
     "shell.execute_reply": "2024-10-12T05:43:19.853388Z"
    },
    "papermill": {
     "duration": 0.020339,
     "end_time": "2024-10-12T05:43:19.856948",
     "exception": false,
     "start_time": "2024-10-12T05:43:19.836609",
     "status": "completed"
    },
    "tags": []
   },
   "outputs": [
    {
     "data": {
      "application/javascript": [
       "parent.postMessage({\"jupyterEvent\": \"custom.exercise_interaction\", \"data\": {\"outcomeType\": 1, \"valueTowardsCompletion\": 0.2, \"interactionType\": 1, \"questionType\": 2, \"questionId\": \"1_GetExpectedCost\", \"learnToolsVersion\": \"0.3.4\", \"failureMessage\": \"\", \"exceptionClass\": \"\", \"trace\": \"\"}}, \"*\")"
      ],
      "text/plain": [
       "<IPython.core.display.Javascript object>"
      ]
     },
     "metadata": {},
     "output_type": "display_data"
    },
    {
     "data": {
      "text/markdown": [
       "<span style=\"color:#33cc33\">Correct</span>"
      ],
      "text/plain": [
       "Correct"
      ]
     },
     "metadata": {},
     "output_type": "display_data"
    }
   ],
   "source": [
    "# TODO: Complete the function\n",
    "def get_expected_cost(beds, baths):\n",
    "    \n",
    "    value = 80000 + 30000 * beds + 10000 * baths\n",
    "    return value\n",
    "\n",
    "# Check your answer \n",
    "q1.check()"
   ]
  },
  {
   "cell_type": "code",
   "execution_count": 3,
   "id": "bfd38da7",
   "metadata": {
    "execution": {
     "iopub.execute_input": "2024-10-12T05:43:19.871710Z",
     "iopub.status.busy": "2024-10-12T05:43:19.871235Z",
     "iopub.status.idle": "2024-10-12T05:43:19.875964Z",
     "shell.execute_reply": "2024-10-12T05:43:19.874864Z"
    },
    "papermill": {
     "duration": 0.014462,
     "end_time": "2024-10-12T05:43:19.878445",
     "exception": false,
     "start_time": "2024-10-12T05:43:19.863983",
     "status": "completed"
    },
    "tags": []
   },
   "outputs": [],
   "source": [
    "# Uncomment to see a hint\n",
    "#q1.hint()\n",
    "\n",
    "# Uncomment to view the solution\n",
    "#q1.solution()"
   ]
  },
  {
   "cell_type": "markdown",
   "id": "64d7ea22",
   "metadata": {
    "papermill": {
     "duration": 0.00581,
     "end_time": "2024-10-12T05:43:19.890563",
     "exception": false,
     "start_time": "2024-10-12T05:43:19.884753",
     "status": "completed"
    },
    "tags": []
   },
   "source": [
    "# Question 2\n",
    "\n",
    "You are thinking about buying a home and want to get an idea of how much you will spend, based on the number of bedrooms and bathrooms.  You are trying to decide between four different options:\n",
    "- Option 1: house with two bedrooms and three bathrooms\n",
    "- Option 2: house with three bedrooms and two bathrooms\n",
    "- Option 3: house with three bedrooms and three bathrooms\n",
    "- Option 4: house with three bedrooms and four bathrooms\n",
    "\n",
    "Use the `get_expected_cost()` function you defined in question 1 to set `option_1`, `option_2`, `option_3`, and `option_4` to the expected cost of each option."
   ]
  },
  {
   "cell_type": "code",
   "execution_count": 4,
   "id": "b00726e3",
   "metadata": {
    "execution": {
     "iopub.execute_input": "2024-10-12T05:43:19.904753Z",
     "iopub.status.busy": "2024-10-12T05:43:19.904294Z",
     "iopub.status.idle": "2024-10-12T05:43:19.916048Z",
     "shell.execute_reply": "2024-10-12T05:43:19.914797Z"
    },
    "papermill": {
     "duration": 0.021875,
     "end_time": "2024-10-12T05:43:19.918464",
     "exception": false,
     "start_time": "2024-10-12T05:43:19.896589",
     "status": "completed"
    },
    "tags": []
   },
   "outputs": [
    {
     "name": "stdout",
     "output_type": "stream",
     "text": [
      "170000\n",
      "190000\n",
      "200000\n",
      "210000\n"
     ]
    },
    {
     "data": {
      "application/javascript": [
       "parent.postMessage({\"jupyterEvent\": \"custom.exercise_interaction\", \"data\": {\"outcomeType\": 1, \"valueTowardsCompletion\": 0.2, \"interactionType\": 1, \"questionType\": 1, \"questionId\": \"2_RunGetExpectedCost\", \"learnToolsVersion\": \"0.3.4\", \"failureMessage\": \"\", \"exceptionClass\": \"\", \"trace\": \"\"}}, \"*\")"
      ],
      "text/plain": [
       "<IPython.core.display.Javascript object>"
      ]
     },
     "metadata": {},
     "output_type": "display_data"
    },
    {
     "data": {
      "text/markdown": [
       "<span style=\"color:#33cc33\">Correct</span>"
      ],
      "text/plain": [
       "Correct"
      ]
     },
     "metadata": {},
     "output_type": "display_data"
    }
   ],
   "source": [
    "# TODO: Use the get_expected_cost function to fill in each value\n",
    "option_one = get_expected_cost(2,3)\n",
    "option_two = get_expected_cost(3,2)\n",
    "option_three = get_expected_cost(3,3)\n",
    "option_four = get_expected_cost(3,4)\n",
    "\n",
    "print(option_one)\n",
    "print(option_two)\n",
    "print(option_three)\n",
    "print(option_four)\n",
    "\n",
    "# Check your answer\n",
    "q2.check()"
   ]
  },
  {
   "cell_type": "code",
   "execution_count": 5,
   "id": "310fd588",
   "metadata": {
    "execution": {
     "iopub.execute_input": "2024-10-12T05:43:19.934016Z",
     "iopub.status.busy": "2024-10-12T05:43:19.933485Z",
     "iopub.status.idle": "2024-10-12T05:43:19.938862Z",
     "shell.execute_reply": "2024-10-12T05:43:19.937502Z"
    },
    "papermill": {
     "duration": 0.016281,
     "end_time": "2024-10-12T05:43:19.941353",
     "exception": false,
     "start_time": "2024-10-12T05:43:19.925072",
     "status": "completed"
    },
    "tags": []
   },
   "outputs": [],
   "source": [
    "# Uncomment to see a hint\n",
    "#q2.hint()\n",
    "\n",
    "# Uncomment to view the solution\n",
    "#q2.solution()"
   ]
  },
  {
   "cell_type": "markdown",
   "id": "71827aef",
   "metadata": {
    "papermill": {
     "duration": 0.006552,
     "end_time": "2024-10-12T05:43:19.954378",
     "exception": false,
     "start_time": "2024-10-12T05:43:19.947826",
     "status": "completed"
    },
    "tags": []
   },
   "source": [
    "# Question 3\n",
    "\n",
    "You're a home decorator, and you'd like to use Python to streamline some of your work.  Specifically, you're creating a tool that you intend to use to calculate the cost of painting a room.\n",
    "\n",
    "As a first step, define a function `get_cost()` that takes as input:\n",
    "- `sqft_walls` = total square feet of walls to be painted\n",
    "- `sqft_ceiling` = square feet of ceiling to be painted\n",
    "- `sqft_per_gallon` = number of square feet that you can cover with one gallon of paint\n",
    "- `cost_per_gallon` = cost (in dollars) of one gallon of paint\n",
    "\n",
    "It should return the cost (in dollars) of putting one coat of paint on all walls and the ceiling.  Assume you can buy the exact amount of paint that you need, so you can buy partial gallons (e.g., if you need 7.523 gallons, you can buy that exact amount, instead of needing to buy 8 gallons and waste some paint).  Do not round your answer."
   ]
  },
  {
   "cell_type": "code",
   "execution_count": 6,
   "id": "eb3b0b8b",
   "metadata": {
    "execution": {
     "iopub.execute_input": "2024-10-12T05:43:19.970420Z",
     "iopub.status.busy": "2024-10-12T05:43:19.969327Z",
     "iopub.status.idle": "2024-10-12T05:43:19.984418Z",
     "shell.execute_reply": "2024-10-12T05:43:19.982991Z"
    },
    "papermill": {
     "duration": 0.026531,
     "end_time": "2024-10-12T05:43:19.987567",
     "exception": false,
     "start_time": "2024-10-12T05:43:19.961036",
     "status": "completed"
    },
    "tags": []
   },
   "outputs": [
    {
     "data": {
      "application/javascript": [
       "parent.postMessage({\"jupyterEvent\": \"custom.exercise_interaction\", \"data\": {\"outcomeType\": 3, \"exceptionClass\": \"NameError\", \"trace\": \"  File \\\"/opt/conda/lib/python3.10/site-packages/learntools/core/problem.py\\\", line 239, in check\\n    actual = fn(*args)\\n\\n  File \\\"/tmp/ipykernel_17/2781539536.py\\\", line 3, in get_cost\\n    cost = alefa\\n\", \"failureMessage\": \"When calling your function with arguments `[432, 144, 400, 15]`, Python raised the following exception... **`NameError: name 'alefa' is not defined`**\", \"interactionType\": 1, \"questionType\": 2, \"questionId\": \"3_GetCostPaint\", \"learnToolsVersion\": \"0.3.4\", \"valueTowardsCompletion\": 0.0}}, \"*\")"
      ],
      "text/plain": [
       "<IPython.core.display.Javascript object>"
      ]
     },
     "metadata": {},
     "output_type": "display_data"
    },
    {
     "data": {
      "text/markdown": [
       "<span style=\"color:#cc3333\">Incorrect:</span> When calling your function with arguments `[432, 144, 400, 15]`, Python raised the following exception... **`NameError: name 'alefa' is not defined`**"
      ],
      "text/plain": [
       "Incorrect: When calling your function with arguments `[432, 144, 400, 15]`, Python raised the following exception... **`NameError: name 'alefa' is not defined`**"
      ]
     },
     "metadata": {},
     "output_type": "display_data"
    }
   ],
   "source": [
    "# TODO: Finish defining the function\n",
    "def get_cost(sqft_walls, sqft_ceiling, sqft_per_gallon, cost_per_gallon):\n",
    "    cost = alefa\n",
    "    return cost\n",
    "\n",
    "# Check your answer\n",
    "q3.check()"
   ]
  },
  {
   "cell_type": "code",
   "execution_count": 7,
   "id": "9a2d18ae",
   "metadata": {
    "execution": {
     "iopub.execute_input": "2024-10-12T05:43:20.009853Z",
     "iopub.status.busy": "2024-10-12T05:43:20.009132Z",
     "iopub.status.idle": "2024-10-12T05:43:20.014979Z",
     "shell.execute_reply": "2024-10-12T05:43:20.013176Z"
    },
    "papermill": {
     "duration": 0.022032,
     "end_time": "2024-10-12T05:43:20.017906",
     "exception": false,
     "start_time": "2024-10-12T05:43:19.995874",
     "status": "completed"
    },
    "tags": []
   },
   "outputs": [],
   "source": [
    "# Uncomment to see a hint\n",
    "#q3.hint()\n",
    "\n",
    "# Uncomment to view the solution\n",
    "#q3.solution()"
   ]
  },
  {
   "cell_type": "markdown",
   "id": "1b41525a",
   "metadata": {
    "papermill": {
     "duration": 0.007107,
     "end_time": "2024-10-12T05:43:20.035087",
     "exception": false,
     "start_time": "2024-10-12T05:43:20.027980",
     "status": "completed"
    },
    "tags": []
   },
   "source": [
    "# Question 4\n",
    "\n",
    "Use the `get_cost()` function you defined in Question 3 to calculate the cost of applying one coat of paint to a room with:\n",
    "- 432 square feet of walls, and\n",
    "- 144 square feet of ceiling.\n",
    "\n",
    "Assume that one gallon of paint covers 400 square feet and costs $15.  As in Question 3, assume you can buy partial gallons of paint.  Do not round your answer."
   ]
  },
  {
   "cell_type": "code",
   "execution_count": 8,
   "id": "26875876",
   "metadata": {
    "execution": {
     "iopub.execute_input": "2024-10-12T05:43:20.051763Z",
     "iopub.status.busy": "2024-10-12T05:43:20.051205Z",
     "iopub.status.idle": "2024-10-12T05:43:20.062332Z",
     "shell.execute_reply": "2024-10-12T05:43:20.061160Z"
    },
    "papermill": {
     "duration": 0.023084,
     "end_time": "2024-10-12T05:43:20.065582",
     "exception": false,
     "start_time": "2024-10-12T05:43:20.042498",
     "status": "completed"
    },
    "tags": []
   },
   "outputs": [
    {
     "data": {
      "application/javascript": [
       "parent.postMessage({\"jupyterEvent\": \"custom.exercise_interaction\", \"data\": {\"outcomeType\": 4, \"interactionType\": 1, \"questionType\": 1, \"questionId\": \"4_GetCostPaintExample\", \"learnToolsVersion\": \"0.3.4\", \"valueTowardsCompletion\": 0.0, \"failureMessage\": \"\", \"exceptionClass\": \"\", \"trace\": \"\"}}, \"*\")"
      ],
      "text/plain": [
       "<IPython.core.display.Javascript object>"
      ]
     },
     "metadata": {},
     "output_type": "display_data"
    },
    {
     "data": {
      "text/markdown": [
       "<span style=\"color:#ccaa33\">Check:</span> When you've updated the starter code, `check()` will tell you whether your code is correct. You need to update the code that creates variable `project_cost`"
      ],
      "text/plain": [
       "Check: When you've updated the starter code, `check()` will tell you whether your code is correct. You need to update the code that creates variable `project_cost`"
      ]
     },
     "metadata": {},
     "output_type": "display_data"
    }
   ],
   "source": [
    "# TODO: Set the project_cost variable to the cost of the project\n",
    "project_cost = ____\n",
    "\n",
    "# Check your answer\n",
    "q4.check()"
   ]
  },
  {
   "cell_type": "code",
   "execution_count": 9,
   "id": "9889ee12",
   "metadata": {
    "execution": {
     "iopub.execute_input": "2024-10-12T05:43:20.083303Z",
     "iopub.status.busy": "2024-10-12T05:43:20.082877Z",
     "iopub.status.idle": "2024-10-12T05:43:20.087854Z",
     "shell.execute_reply": "2024-10-12T05:43:20.086659Z"
    },
    "papermill": {
     "duration": 0.017182,
     "end_time": "2024-10-12T05:43:20.091031",
     "exception": false,
     "start_time": "2024-10-12T05:43:20.073849",
     "status": "completed"
    },
    "tags": []
   },
   "outputs": [],
   "source": [
    "# Uncomment to see a hint\n",
    "#q4.hint()\n",
    "\n",
    "# Uncomment to view the solution\n",
    "#q4.solution()"
   ]
  },
  {
   "cell_type": "markdown",
   "id": "0559bcd0",
   "metadata": {
    "papermill": {
     "duration": 0.007353,
     "end_time": "2024-10-12T05:43:20.108934",
     "exception": false,
     "start_time": "2024-10-12T05:43:20.101581",
     "status": "completed"
    },
    "tags": []
   },
   "source": [
    "# 🌶️ Question 5\n",
    "\n",
    "Now say you can no longer buy fractions of a gallon.  (For instance, if you need 4.3 gallons to do a project, then you have to buy 5 gallons of paint.)\n",
    "\n",
    "With this new scenario, you will create a new function `get_actual_cost` that uses the same inputs and calculates the cost of your project.\n",
    "\n",
    "One function that you'll need to use to do this is `math.ceil()`.  We demonstrate usage of this function in the code cell below.  It takes as a number as input and rounds the number up to the nearest integer.  \n",
    "\n",
    "Run the next code cell to test this function for yourself.  Feel free to change the value of `test_value` and make sure `math.ceil()` returns the number you expect."
   ]
  },
  {
   "cell_type": "code",
   "execution_count": 10,
   "id": "8353544c",
   "metadata": {
    "execution": {
     "iopub.execute_input": "2024-10-12T05:43:20.126579Z",
     "iopub.status.busy": "2024-10-12T05:43:20.126024Z",
     "iopub.status.idle": "2024-10-12T05:43:20.133328Z",
     "shell.execute_reply": "2024-10-12T05:43:20.132028Z"
    },
    "papermill": {
     "duration": 0.029361,
     "end_time": "2024-10-12T05:43:20.145801",
     "exception": false,
     "start_time": "2024-10-12T05:43:20.116440",
     "status": "completed"
    },
    "tags": []
   },
   "outputs": [
    {
     "name": "stdout",
     "output_type": "stream",
     "text": [
      "3\n"
     ]
    }
   ],
   "source": [
    "test_value = 2.17\n",
    "\n",
    "rounded_value = math.ceil(test_value)\n",
    "print(rounded_value)"
   ]
  },
  {
   "cell_type": "markdown",
   "id": "5c0f3091",
   "metadata": {
    "papermill": {
     "duration": 0.008184,
     "end_time": "2024-10-12T05:43:20.162247",
     "exception": false,
     "start_time": "2024-10-12T05:43:20.154063",
     "status": "completed"
    },
    "tags": []
   },
   "source": [
    "Use the next code cell to define the function `get_actual_cost()`.  You'll need to use the `math.ceil()` function to do this.\n",
    "\n",
    "When answering this question, note that it's completely valid to define a function that makes use of another function.  For instance, we can define a function `round_up_and_divide_by_three` that makes use of the `math.ceil` function:\n",
    "```\n",
    "def round_up_and_divide_by_three(num):\n",
    "    new_value = math.ceil(num)\n",
    "    final_value = new_value / 3\n",
    "    return final_value\n",
    "```"
   ]
  },
  {
   "cell_type": "code",
   "execution_count": 11,
   "id": "503347d0",
   "metadata": {
    "execution": {
     "iopub.execute_input": "2024-10-12T05:43:20.179325Z",
     "iopub.status.busy": "2024-10-12T05:43:20.178248Z",
     "iopub.status.idle": "2024-10-12T05:43:20.190568Z",
     "shell.execute_reply": "2024-10-12T05:43:20.189317Z"
    },
    "papermill": {
     "duration": 0.02358,
     "end_time": "2024-10-12T05:43:20.193229",
     "exception": false,
     "start_time": "2024-10-12T05:43:20.169649",
     "status": "completed"
    },
    "tags": []
   },
   "outputs": [
    {
     "data": {
      "application/javascript": [
       "parent.postMessage({\"jupyterEvent\": \"custom.exercise_interaction\", \"data\": {\"outcomeType\": 2, \"failureMessage\": \"Expected return value of `30` given `sqft_walls=432`, `sqft_ceiling=144`, `sqft_per_gallon=400`, `cost_per_gallon=15`, but got `<learntools.core.constants.PlaceholderValue object at 0x7909768c0af0>` instead.\", \"interactionType\": 1, \"questionType\": 2, \"questionId\": \"5_NoMoreFractions\", \"learnToolsVersion\": \"0.3.4\", \"valueTowardsCompletion\": 0.0, \"exceptionClass\": \"\", \"trace\": \"\"}}, \"*\")"
      ],
      "text/plain": [
       "<IPython.core.display.Javascript object>"
      ]
     },
     "metadata": {},
     "output_type": "display_data"
    },
    {
     "data": {
      "text/markdown": [
       "<span style=\"color:#cc3333\">Incorrect:</span> Expected return value of `30` given `sqft_walls=432`, `sqft_ceiling=144`, `sqft_per_gallon=400`, `cost_per_gallon=15`, but got `<learntools.core.constants.PlaceholderValue object at 0x7909768c0af0>` instead."
      ],
      "text/plain": [
       "Incorrect: Expected return value of `30` given `sqft_walls=432`, `sqft_ceiling=144`, `sqft_per_gallon=400`, `cost_per_gallon=15`, but got `<learntools.core.constants.PlaceholderValue object at 0x7909768c0af0>` instead."
      ]
     },
     "metadata": {},
     "output_type": "display_data"
    }
   ],
   "source": [
    "def get_actual_cost(sqft_walls, sqft_ceiling, sqft_per_gallon, cost_per_gallon):\n",
    "    cost = ____\n",
    "    return cost\n",
    "\n",
    "# Check your answer\n",
    "q5.check()"
   ]
  },
  {
   "cell_type": "code",
   "execution_count": 12,
   "id": "d335a37a",
   "metadata": {
    "execution": {
     "iopub.execute_input": "2024-10-12T05:43:20.210930Z",
     "iopub.status.busy": "2024-10-12T05:43:20.210408Z",
     "iopub.status.idle": "2024-10-12T05:43:20.216555Z",
     "shell.execute_reply": "2024-10-12T05:43:20.215413Z"
    },
    "papermill": {
     "duration": 0.018206,
     "end_time": "2024-10-12T05:43:20.219465",
     "exception": false,
     "start_time": "2024-10-12T05:43:20.201259",
     "status": "completed"
    },
    "tags": []
   },
   "outputs": [],
   "source": [
    "# Uncomment to see a hint\n",
    "#q5.hint()\n",
    "\n",
    "# Uncomment to view the solution\n",
    "#q5.solution()"
   ]
  },
  {
   "cell_type": "markdown",
   "id": "5a17e6f1",
   "metadata": {
    "papermill": {
     "duration": 0.007682,
     "end_time": "2024-10-12T05:43:20.238387",
     "exception": false,
     "start_time": "2024-10-12T05:43:20.230705",
     "status": "completed"
    },
    "tags": []
   },
   "source": [
    "Once your function is verified as correct, run the next code cell to calculate the updated cost of your project."
   ]
  },
  {
   "cell_type": "code",
   "execution_count": 13,
   "id": "924c43e6",
   "metadata": {
    "execution": {
     "iopub.execute_input": "2024-10-12T05:43:20.256826Z",
     "iopub.status.busy": "2024-10-12T05:43:20.255565Z",
     "iopub.status.idle": "2024-10-12T05:43:20.264826Z",
     "shell.execute_reply": "2024-10-12T05:43:20.263461Z"
    },
    "papermill": {
     "duration": 0.021779,
     "end_time": "2024-10-12T05:43:20.267980",
     "exception": false,
     "start_time": "2024-10-12T05:43:20.246201",
     "status": "completed"
    },
    "tags": []
   },
   "outputs": [
    {
     "data": {
      "text/markdown": [],
      "text/plain": [
       "<learntools.core.constants.PlaceholderValue at 0x7909768c0af0>"
      ]
     },
     "execution_count": 13,
     "metadata": {},
     "output_type": "execute_result"
    }
   ],
   "source": [
    "get_actual_cost(432, 144, 400, 15) "
   ]
  },
  {
   "cell_type": "markdown",
   "id": "83564fcb",
   "metadata": {
    "papermill": {
     "duration": 0.00718,
     "end_time": "2024-10-12T05:43:20.282896",
     "exception": false,
     "start_time": "2024-10-12T05:43:20.275716",
     "status": "completed"
    },
    "tags": []
   },
   "source": [
    "Say you're working with a slightly larger room.  Run the next code cell to calculate the cost of the project."
   ]
  },
  {
   "cell_type": "code",
   "execution_count": 14,
   "id": "71f9c252",
   "metadata": {
    "execution": {
     "iopub.execute_input": "2024-10-12T05:43:20.300767Z",
     "iopub.status.busy": "2024-10-12T05:43:20.300336Z",
     "iopub.status.idle": "2024-10-12T05:43:20.314729Z",
     "shell.execute_reply": "2024-10-12T05:43:20.306752Z"
    },
    "papermill": {
     "duration": 0.028406,
     "end_time": "2024-10-12T05:43:20.319196",
     "exception": false,
     "start_time": "2024-10-12T05:43:20.290790",
     "status": "completed"
    },
    "tags": []
   },
   "outputs": [
    {
     "data": {
      "text/markdown": [],
      "text/plain": [
       "<learntools.core.constants.PlaceholderValue at 0x7909768c0af0>"
      ]
     },
     "execution_count": 14,
     "metadata": {},
     "output_type": "execute_result"
    }
   ],
   "source": [
    "get_actual_cost(594, 288, 400, 15) "
   ]
  },
  {
   "cell_type": "markdown",
   "id": "7e788eb7",
   "metadata": {
    "papermill": {
     "duration": 0.007516,
     "end_time": "2024-10-12T05:43:20.336153",
     "exception": false,
     "start_time": "2024-10-12T05:43:20.328637",
     "status": "completed"
    },
    "tags": []
   },
   "source": [
    "# Keep going\n",
    "\n",
    "Continue to learn about **[data types](https://www.kaggle.com/alexisbcook/data-types)**."
   ]
  },
  {
   "cell_type": "markdown",
   "id": "c1a021f5",
   "metadata": {
    "papermill": {
     "duration": 0.007319,
     "end_time": "2024-10-12T05:43:20.351473",
     "exception": false,
     "start_time": "2024-10-12T05:43:20.344154",
     "status": "completed"
    },
    "tags": []
   },
   "source": [
    "---\n",
    "\n",
    "\n",
    "\n",
    "\n",
    "*Have questions or comments? Visit the [course discussion forum](https://www.kaggle.com/learn/intro-to-programming/discussion) to chat with other learners.*"
   ]
  }
 ],
 "metadata": {
  "kaggle": {
   "accelerator": "none",
   "dataSources": [],
   "isGpuEnabled": false,
   "isInternetEnabled": false,
   "language": "python",
   "sourceType": "notebook"
  },
  "kernelspec": {
   "display_name": "Python 3",
   "language": "python",
   "name": "python3"
  },
  "language_info": {
   "codemirror_mode": {
    "name": "ipython",
    "version": 3
   },
   "file_extension": ".py",
   "mimetype": "text/x-python",
   "name": "python",
   "nbconvert_exporter": "python",
   "pygments_lexer": "ipython3",
   "version": "3.10.14"
  },
  "papermill": {
   "default_parameters": {},
   "duration": 5.252943,
   "end_time": "2024-10-12T05:43:20.882007",
   "environment_variables": {},
   "exception": null,
   "input_path": "__notebook__.ipynb",
   "output_path": "__notebook__.ipynb",
   "parameters": {},
   "start_time": "2024-10-12T05:43:15.629064",
   "version": "2.6.0"
  }
 },
 "nbformat": 4,
 "nbformat_minor": 5
}
