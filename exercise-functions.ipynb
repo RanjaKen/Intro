{
 "cells": [
  {
   "cell_type": "markdown",
   "id": "16417041",
   "metadata": {
    "papermill": {
     "duration": 0.007399,
     "end_time": "2024-10-12T05:43:41.864485",
     "exception": false,
     "start_time": "2024-10-12T05:43:41.857086",
     "status": "completed"
    },
    "tags": []
   },
   "source": [
    "**This notebook is an exercise in the [Intro to Programming](https://www.kaggle.com/learn/intro-to-programming) course.  You can reference the tutorial at [this link](https://www.kaggle.com/alexisbcook/functions).**\n",
    "\n",
    "---\n"
   ]
  },
  {
   "cell_type": "markdown",
   "id": "2b006a37",
   "metadata": {
    "papermill": {
     "duration": 0.006508,
     "end_time": "2024-10-12T05:43:41.878059",
     "exception": false,
     "start_time": "2024-10-12T05:43:41.871551",
     "status": "completed"
    },
    "tags": []
   },
   "source": [
    "In the tutorial, you learned about functions. In this exercise, you'll write some of your own!\n",
    "\n",
    "# Set up the notebook\n",
    "\n",
    "Run the next code cell without changes to set up the notebook."
   ]
  },
  {
   "cell_type": "code",
   "execution_count": 1,
   "id": "14ccd3b6",
   "metadata": {
    "execution": {
     "iopub.execute_input": "2024-10-12T05:43:41.893671Z",
     "iopub.status.busy": "2024-10-12T05:43:41.892645Z",
     "iopub.status.idle": "2024-10-12T05:43:42.742793Z",
     "shell.execute_reply": "2024-10-12T05:43:42.741337Z"
    },
    "papermill": {
     "duration": 0.861083,
     "end_time": "2024-10-12T05:43:42.745657",
     "exception": false,
     "start_time": "2024-10-12T05:43:41.884574",
     "status": "completed"
    },
    "tags": []
   },
   "outputs": [
    {
     "name": "stdout",
     "output_type": "stream",
     "text": [
      "Setup complete.\n"
     ]
    }
   ],
   "source": [
    "# Set up the exercise\n",
    "import math\n",
    "from learntools.core import binder\n",
    "binder.bind(globals())\n",
    "from learntools.intro_to_programming.ex2 import *\n",
    "print('Setup complete.')"
   ]
  },
  {
   "cell_type": "markdown",
   "id": "30f0b5b3",
   "metadata": {
    "papermill": {
     "duration": 0.006579,
     "end_time": "2024-10-12T05:43:42.759144",
     "exception": false,
     "start_time": "2024-10-12T05:43:42.752565",
     "status": "completed"
    },
    "tags": []
   },
   "source": [
    "# Question 1\n",
    "\n",
    "In the [House Prices - Advanced Regression Techniques competition](https://www.kaggle.com/c/house-prices-advanced-regression-techniques/overview), you need to use information like the number of bedrooms and bathrooms to predict the price of a house.  Inspired by this competition, you'll write your own function to do this.\n",
    "\n",
    "In the next code cell, create a function `get_expected_cost()` that has two arguments:\n",
    "- `beds` - number of bedrooms \n",
    "- `baths` - number of bathrooms\n",
    "\n",
    "It should return the expected cost of a house with that number of bedrooms and bathrooms.  Assume that:\n",
    "- the expected cost for a house with 0 bedrooms and 0 bathrooms is `80000`.  \n",
    "- each bedroom adds `30000` to the expected cost\n",
    "- each bathroom adds `10000` to the expected cost.\n",
    "\n",
    "For instance, \n",
    "- a house with 1 bedroom and 1 bathroom has an expected cost of `120000`, and \n",
    "- a house with 2 bedrooms and 1 bathroom has an expected cost of `150000`."
   ]
  },
  {
   "cell_type": "code",
   "execution_count": 2,
   "id": "859325ef",
   "metadata": {
    "execution": {
     "iopub.execute_input": "2024-10-12T05:43:42.774162Z",
     "iopub.status.busy": "2024-10-12T05:43:42.773610Z",
     "iopub.status.idle": "2024-10-12T05:43:42.784898Z",
     "shell.execute_reply": "2024-10-12T05:43:42.783851Z"
    },
    "papermill": {
     "duration": 0.021565,
     "end_time": "2024-10-12T05:43:42.787321",
     "exception": false,
     "start_time": "2024-10-12T05:43:42.765756",
     "status": "completed"
    },
    "tags": []
   },
   "outputs": [
    {
     "data": {
      "application/javascript": [
       "parent.postMessage({\"jupyterEvent\": \"custom.exercise_interaction\", \"data\": {\"outcomeType\": 1, \"valueTowardsCompletion\": 0.2, \"interactionType\": 1, \"questionType\": 2, \"questionId\": \"1_GetExpectedCost\", \"learnToolsVersion\": \"0.3.4\", \"failureMessage\": \"\", \"exceptionClass\": \"\", \"trace\": \"\"}}, \"*\")"
      ],
      "text/plain": [
       "<IPython.core.display.Javascript object>"
      ]
     },
     "metadata": {},
     "output_type": "display_data"
    },
    {
     "data": {
      "text/markdown": [
       "<span style=\"color:#33cc33\">Correct</span>"
      ],
      "text/plain": [
       "Correct"
      ]
     },
     "metadata": {},
     "output_type": "display_data"
    }
   ],
   "source": [
    "# TODO: Complete the function\n",
    "def get_expected_cost(beds, baths):\n",
    "    \n",
    "    value = 80000 + 30000 * beds + 10000 * baths\n",
    "    return value\n",
    "\n",
    "# Check your answer \n",
    "q1.check()"
   ]
  },
  {
   "cell_type": "code",
   "execution_count": 3,
   "id": "cc661946",
   "metadata": {
    "execution": {
     "iopub.execute_input": "2024-10-12T05:43:42.804599Z",
     "iopub.status.busy": "2024-10-12T05:43:42.803632Z",
     "iopub.status.idle": "2024-10-12T05:43:42.808690Z",
     "shell.execute_reply": "2024-10-12T05:43:42.807360Z"
    },
    "papermill": {
     "duration": 0.015868,
     "end_time": "2024-10-12T05:43:42.811164",
     "exception": false,
     "start_time": "2024-10-12T05:43:42.795296",
     "status": "completed"
    },
    "tags": []
   },
   "outputs": [],
   "source": [
    "# Uncomment to see a hint\n",
    "#q1.hint()\n",
    "\n",
    "# Uncomment to view the solution\n",
    "#q1.solution()"
   ]
  },
  {
   "cell_type": "markdown",
   "id": "ce7d33fc",
   "metadata": {
    "papermill": {
     "duration": 0.00692,
     "end_time": "2024-10-12T05:43:42.825238",
     "exception": false,
     "start_time": "2024-10-12T05:43:42.818318",
     "status": "completed"
    },
    "tags": []
   },
   "source": [
    "# Question 2\n",
    "\n",
    "You are thinking about buying a home and want to get an idea of how much you will spend, based on the number of bedrooms and bathrooms.  You are trying to decide between four different options:\n",
    "- Option 1: house with two bedrooms and three bathrooms\n",
    "- Option 2: house with three bedrooms and two bathrooms\n",
    "- Option 3: house with three bedrooms and three bathrooms\n",
    "- Option 4: house with three bedrooms and four bathrooms\n",
    "\n",
    "Use the `get_expected_cost()` function you defined in question 1 to set `option_1`, `option_2`, `option_3`, and `option_4` to the expected cost of each option."
   ]
  },
  {
   "cell_type": "code",
   "execution_count": 4,
   "id": "dd4c6850",
   "metadata": {
    "execution": {
     "iopub.execute_input": "2024-10-12T05:43:42.841372Z",
     "iopub.status.busy": "2024-10-12T05:43:42.840478Z",
     "iopub.status.idle": "2024-10-12T05:43:42.851613Z",
     "shell.execute_reply": "2024-10-12T05:43:42.850356Z"
    },
    "papermill": {
     "duration": 0.022523,
     "end_time": "2024-10-12T05:43:42.854682",
     "exception": false,
     "start_time": "2024-10-12T05:43:42.832159",
     "status": "completed"
    },
    "tags": []
   },
   "outputs": [
    {
     "name": "stdout",
     "output_type": "stream",
     "text": [
      "170000\n",
      "190000\n",
      "200000\n",
      "210000\n"
     ]
    },
    {
     "data": {
      "application/javascript": [
       "parent.postMessage({\"jupyterEvent\": \"custom.exercise_interaction\", \"data\": {\"outcomeType\": 1, \"valueTowardsCompletion\": 0.2, \"interactionType\": 1, \"questionType\": 1, \"questionId\": \"2_RunGetExpectedCost\", \"learnToolsVersion\": \"0.3.4\", \"failureMessage\": \"\", \"exceptionClass\": \"\", \"trace\": \"\"}}, \"*\")"
      ],
      "text/plain": [
       "<IPython.core.display.Javascript object>"
      ]
     },
     "metadata": {},
     "output_type": "display_data"
    },
    {
     "data": {
      "text/markdown": [
       "<span style=\"color:#33cc33\">Correct</span>"
      ],
      "text/plain": [
       "Correct"
      ]
     },
     "metadata": {},
     "output_type": "display_data"
    }
   ],
   "source": [
    "# TODO: Use the get_expected_cost function to fill in each value\n",
    "option_one = get_expected_cost(2,3)\n",
    "option_two = get_expected_cost(3,2)\n",
    "option_three = get_expected_cost(3,3)\n",
    "option_four = get_expected_cost(3,4)\n",
    "\n",
    "print(option_one)\n",
    "print(option_two)\n",
    "print(option_three)\n",
    "print(option_four)\n",
    "\n",
    "# Check your answer\n",
    "q2.check()"
   ]
  },
  {
   "cell_type": "code",
   "execution_count": 5,
   "id": "2b8e6dc1",
   "metadata": {
    "execution": {
     "iopub.execute_input": "2024-10-12T05:43:42.871928Z",
     "iopub.status.busy": "2024-10-12T05:43:42.870908Z",
     "iopub.status.idle": "2024-10-12T05:43:42.875870Z",
     "shell.execute_reply": "2024-10-12T05:43:42.874645Z"
    },
    "papermill": {
     "duration": 0.015843,
     "end_time": "2024-10-12T05:43:42.878087",
     "exception": false,
     "start_time": "2024-10-12T05:43:42.862244",
     "status": "completed"
    },
    "tags": []
   },
   "outputs": [],
   "source": [
    "# Uncomment to see a hint\n",
    "#q2.hint()\n",
    "\n",
    "# Uncomment to view the solution\n",
    "#q2.solution()"
   ]
  },
  {
   "cell_type": "markdown",
   "id": "2b6196fc",
   "metadata": {
    "papermill": {
     "duration": 0.007164,
     "end_time": "2024-10-12T05:43:42.892788",
     "exception": false,
     "start_time": "2024-10-12T05:43:42.885624",
     "status": "completed"
    },
    "tags": []
   },
   "source": [
    "# Question 3\n",
    "\n",
    "You're a home decorator, and you'd like to use Python to streamline some of your work.  Specifically, you're creating a tool that you intend to use to calculate the cost of painting a room.\n",
    "\n",
    "As a first step, define a function `get_cost()` that takes as input:\n",
    "- `sqft_walls` = total square feet of walls to be painted\n",
    "- `sqft_ceiling` = square feet of ceiling to be painted\n",
    "- `sqft_per_gallon` = number of square feet that you can cover with one gallon of paint\n",
    "- `cost_per_gallon` = cost (in dollars) of one gallon of paint\n",
    "\n",
    "It should return the cost (in dollars) of putting one coat of paint on all walls and the ceiling.  Assume you can buy the exact amount of paint that you need, so you can buy partial gallons (e.g., if you need 7.523 gallons, you can buy that exact amount, instead of needing to buy 8 gallons and waste some paint).  Do not round your answer."
   ]
  },
  {
   "cell_type": "code",
   "execution_count": 6,
   "id": "f06aac28",
   "metadata": {
    "execution": {
     "iopub.execute_input": "2024-10-12T05:43:42.909239Z",
     "iopub.status.busy": "2024-10-12T05:43:42.908785Z",
     "iopub.status.idle": "2024-10-12T05:43:42.919031Z",
     "shell.execute_reply": "2024-10-12T05:43:42.917891Z"
    },
    "papermill": {
     "duration": 0.021219,
     "end_time": "2024-10-12T05:43:42.921362",
     "exception": false,
     "start_time": "2024-10-12T05:43:42.900143",
     "status": "completed"
    },
    "tags": []
   },
   "outputs": [
    {
     "data": {
      "application/javascript": [
       "parent.postMessage({\"jupyterEvent\": \"custom.exercise_interaction\", \"data\": {\"outcomeType\": 3, \"exceptionClass\": \"NameError\", \"trace\": \"  File \\\"/opt/conda/lib/python3.10/site-packages/learntools/core/problem.py\\\", line 239, in check\\n    actual = fn(*args)\\n\\n  File \\\"/tmp/ipykernel_17/2781539536.py\\\", line 3, in get_cost\\n    cost = alefa\\n\", \"failureMessage\": \"When calling your function with arguments `[432, 144, 400, 15]`, Python raised the following exception... **`NameError: name 'alefa' is not defined`**\", \"interactionType\": 1, \"questionType\": 2, \"questionId\": \"3_GetCostPaint\", \"learnToolsVersion\": \"0.3.4\", \"valueTowardsCompletion\": 0.0}}, \"*\")"
      ],
      "text/plain": [
       "<IPython.core.display.Javascript object>"
      ]
     },
     "metadata": {},
     "output_type": "display_data"
    },
    {
     "data": {
      "text/markdown": [
       "<span style=\"color:#cc3333\">Incorrect:</span> When calling your function with arguments `[432, 144, 400, 15]`, Python raised the following exception... **`NameError: name 'alefa' is not defined`**"
      ],
      "text/plain": [
       "Incorrect: When calling your function with arguments `[432, 144, 400, 15]`, Python raised the following exception... **`NameError: name 'alefa' is not defined`**"
      ]
     },
     "metadata": {},
     "output_type": "display_data"
    }
   ],
   "source": [
    "# TODO: Finish defining the function\n",
    "def get_cost(sqft_walls, sqft_ceiling, sqft_per_gallon, cost_per_gallon):\n",
    "    cost = alefa\n",
    "    return cost\n",
    "\n",
    "# Check your answer\n",
    "q3.check()"
   ]
  },
  {
   "cell_type": "code",
   "execution_count": 7,
   "id": "3671782f",
   "metadata": {
    "execution": {
     "iopub.execute_input": "2024-10-12T05:43:42.939061Z",
     "iopub.status.busy": "2024-10-12T05:43:42.938369Z",
     "iopub.status.idle": "2024-10-12T05:43:42.947583Z",
     "shell.execute_reply": "2024-10-12T05:43:42.946451Z"
    },
    "papermill": {
     "duration": 0.020696,
     "end_time": "2024-10-12T05:43:42.949885",
     "exception": false,
     "start_time": "2024-10-12T05:43:42.929189",
     "status": "completed"
    },
    "tags": []
   },
   "outputs": [
    {
     "data": {
      "application/javascript": [
       "parent.postMessage({\"jupyterEvent\": \"custom.exercise_interaction\", \"data\": {\"interactionType\": 3, \"questionType\": 2, \"questionId\": \"3_GetCostPaint\", \"learnToolsVersion\": \"0.3.4\", \"valueTowardsCompletion\": 0.0, \"failureMessage\": \"\", \"exceptionClass\": \"\", \"trace\": \"\", \"outcomeType\": 4}}, \"*\")"
      ],
      "text/plain": [
       "<IPython.core.display.Javascript object>"
      ]
     },
     "metadata": {},
     "output_type": "display_data"
    },
    {
     "data": {
      "text/markdown": [
       "<span style=\"color:#33cc99\">Solution:</span> \n",
       "```python\n",
       "\n",
       "def get_cost(sqft_walls, sqft_ceiling, sqft_per_gallon, cost_per_gallon):\n",
       "    total_sqft = sqft_walls + sqft_ceiling\n",
       "    gallons_needed = total_sqft / sqft_per_gallon\n",
       "    cost = cost_per_gallon * gallons_needed\n",
       "    return cost\n",
       "\n",
       "```"
      ],
      "text/plain": [
       "Solution: \n",
       "```python\n",
       "\n",
       "def get_cost(sqft_walls, sqft_ceiling, sqft_per_gallon, cost_per_gallon):\n",
       "    total_sqft = sqft_walls + sqft_ceiling\n",
       "    gallons_needed = total_sqft / sqft_per_gallon\n",
       "    cost = cost_per_gallon * gallons_needed\n",
       "    return cost\n",
       "\n",
       "```"
      ]
     },
     "metadata": {},
     "output_type": "display_data"
    }
   ],
   "source": [
    "# Uncomment to see a hint\n",
    "#q3.hint()\n",
    "\n",
    "# Uncomment to view the solution\n",
    "q3.solution()"
   ]
  },
  {
   "cell_type": "markdown",
   "id": "9e1a0b2a",
   "metadata": {
    "papermill": {
     "duration": 0.007841,
     "end_time": "2024-10-12T05:43:42.966059",
     "exception": false,
     "start_time": "2024-10-12T05:43:42.958218",
     "status": "completed"
    },
    "tags": []
   },
   "source": [
    "# Question 4\n",
    "\n",
    "Use the `get_cost()` function you defined in Question 3 to calculate the cost of applying one coat of paint to a room with:\n",
    "- 432 square feet of walls, and\n",
    "- 144 square feet of ceiling.\n",
    "\n",
    "Assume that one gallon of paint covers 400 square feet and costs $15.  As in Question 3, assume you can buy partial gallons of paint.  Do not round your answer."
   ]
  },
  {
   "cell_type": "code",
   "execution_count": 8,
   "id": "03afed24",
   "metadata": {
    "execution": {
     "iopub.execute_input": "2024-10-12T05:43:42.984394Z",
     "iopub.status.busy": "2024-10-12T05:43:42.983974Z",
     "iopub.status.idle": "2024-10-12T05:43:42.993316Z",
     "shell.execute_reply": "2024-10-12T05:43:42.992222Z"
    },
    "papermill": {
     "duration": 0.02159,
     "end_time": "2024-10-12T05:43:42.995711",
     "exception": false,
     "start_time": "2024-10-12T05:43:42.974121",
     "status": "completed"
    },
    "tags": []
   },
   "outputs": [
    {
     "data": {
      "application/javascript": [
       "parent.postMessage({\"jupyterEvent\": \"custom.exercise_interaction\", \"data\": {\"outcomeType\": 4, \"interactionType\": 1, \"questionType\": 1, \"questionId\": \"4_GetCostPaintExample\", \"learnToolsVersion\": \"0.3.4\", \"valueTowardsCompletion\": 0.0, \"failureMessage\": \"\", \"exceptionClass\": \"\", \"trace\": \"\"}}, \"*\")"
      ],
      "text/plain": [
       "<IPython.core.display.Javascript object>"
      ]
     },
     "metadata": {},
     "output_type": "display_data"
    },
    {
     "data": {
      "text/markdown": [
       "<span style=\"color:#ccaa33\">Check:</span> When you've updated the starter code, `check()` will tell you whether your code is correct. You need to update the code that creates variable `project_cost`"
      ],
      "text/plain": [
       "Check: When you've updated the starter code, `check()` will tell you whether your code is correct. You need to update the code that creates variable `project_cost`"
      ]
     },
     "metadata": {},
     "output_type": "display_data"
    }
   ],
   "source": [
    "# TODO: Set the project_cost variable to the cost of the project\n",
    "project_cost = ____\n",
    "\n",
    "# Check your answer\n",
    "q4.check()"
   ]
  },
  {
   "cell_type": "code",
   "execution_count": 9,
   "id": "7b7593f4",
   "metadata": {
    "execution": {
     "iopub.execute_input": "2024-10-12T05:43:43.014882Z",
     "iopub.status.busy": "2024-10-12T05:43:43.013782Z",
     "iopub.status.idle": "2024-10-12T05:43:43.018685Z",
     "shell.execute_reply": "2024-10-12T05:43:43.017586Z"
    },
    "papermill": {
     "duration": 0.016913,
     "end_time": "2024-10-12T05:43:43.021004",
     "exception": false,
     "start_time": "2024-10-12T05:43:43.004091",
     "status": "completed"
    },
    "tags": []
   },
   "outputs": [],
   "source": [
    "# Uncomment to see a hint\n",
    "#q4.hint()\n",
    "\n",
    "# Uncomment to view the solution\n",
    "#q4.solution()"
   ]
  },
  {
   "cell_type": "markdown",
   "id": "75ba3097",
   "metadata": {
    "papermill": {
     "duration": 0.008118,
     "end_time": "2024-10-12T05:43:43.037619",
     "exception": false,
     "start_time": "2024-10-12T05:43:43.029501",
     "status": "completed"
    },
    "tags": []
   },
   "source": [
    "# 🌶️ Question 5\n",
    "\n",
    "Now say you can no longer buy fractions of a gallon.  (For instance, if you need 4.3 gallons to do a project, then you have to buy 5 gallons of paint.)\n",
    "\n",
    "With this new scenario, you will create a new function `get_actual_cost` that uses the same inputs and calculates the cost of your project.\n",
    "\n",
    "One function that you'll need to use to do this is `math.ceil()`.  We demonstrate usage of this function in the code cell below.  It takes as a number as input and rounds the number up to the nearest integer.  \n",
    "\n",
    "Run the next code cell to test this function for yourself.  Feel free to change the value of `test_value` and make sure `math.ceil()` returns the number you expect."
   ]
  },
  {
   "cell_type": "code",
   "execution_count": 10,
   "id": "bac7b090",
   "metadata": {
    "execution": {
     "iopub.execute_input": "2024-10-12T05:43:43.056571Z",
     "iopub.status.busy": "2024-10-12T05:43:43.056174Z",
     "iopub.status.idle": "2024-10-12T05:43:43.062095Z",
     "shell.execute_reply": "2024-10-12T05:43:43.060981Z"
    },
    "papermill": {
     "duration": 0.018252,
     "end_time": "2024-10-12T05:43:43.064568",
     "exception": false,
     "start_time": "2024-10-12T05:43:43.046316",
     "status": "completed"
    },
    "tags": []
   },
   "outputs": [
    {
     "name": "stdout",
     "output_type": "stream",
     "text": [
      "3\n"
     ]
    }
   ],
   "source": [
    "test_value = 2.17\n",
    "\n",
    "rounded_value = math.ceil(test_value)\n",
    "print(rounded_value)"
   ]
  },
  {
   "cell_type": "markdown",
   "id": "8e374af0",
   "metadata": {
    "papermill": {
     "duration": 0.008214,
     "end_time": "2024-10-12T05:43:43.081232",
     "exception": false,
     "start_time": "2024-10-12T05:43:43.073018",
     "status": "completed"
    },
    "tags": []
   },
   "source": [
    "Use the next code cell to define the function `get_actual_cost()`.  You'll need to use the `math.ceil()` function to do this.\n",
    "\n",
    "When answering this question, note that it's completely valid to define a function that makes use of another function.  For instance, we can define a function `round_up_and_divide_by_three` that makes use of the `math.ceil` function:\n",
    "```\n",
    "def round_up_and_divide_by_three(num):\n",
    "    new_value = math.ceil(num)\n",
    "    final_value = new_value / 3\n",
    "    return final_value\n",
    "```"
   ]
  },
  {
   "cell_type": "code",
   "execution_count": 11,
   "id": "0f67edf6",
   "metadata": {
    "execution": {
     "iopub.execute_input": "2024-10-12T05:43:43.100036Z",
     "iopub.status.busy": "2024-10-12T05:43:43.099064Z",
     "iopub.status.idle": "2024-10-12T05:43:43.109142Z",
     "shell.execute_reply": "2024-10-12T05:43:43.108100Z"
    },
    "papermill": {
     "duration": 0.021878,
     "end_time": "2024-10-12T05:43:43.111393",
     "exception": false,
     "start_time": "2024-10-12T05:43:43.089515",
     "status": "completed"
    },
    "tags": []
   },
   "outputs": [
    {
     "data": {
      "application/javascript": [
       "parent.postMessage({\"jupyterEvent\": \"custom.exercise_interaction\", \"data\": {\"outcomeType\": 2, \"failureMessage\": \"Expected return value of `30` given `sqft_walls=432`, `sqft_ceiling=144`, `sqft_per_gallon=400`, `cost_per_gallon=15`, but got `<learntools.core.constants.PlaceholderValue object at 0x7b0b91328af0>` instead.\", \"interactionType\": 1, \"questionType\": 2, \"questionId\": \"5_NoMoreFractions\", \"learnToolsVersion\": \"0.3.4\", \"valueTowardsCompletion\": 0.0, \"exceptionClass\": \"\", \"trace\": \"\"}}, \"*\")"
      ],
      "text/plain": [
       "<IPython.core.display.Javascript object>"
      ]
     },
     "metadata": {},
     "output_type": "display_data"
    },
    {
     "data": {
      "text/markdown": [
       "<span style=\"color:#cc3333\">Incorrect:</span> Expected return value of `30` given `sqft_walls=432`, `sqft_ceiling=144`, `sqft_per_gallon=400`, `cost_per_gallon=15`, but got `<learntools.core.constants.PlaceholderValue object at 0x7b0b91328af0>` instead."
      ],
      "text/plain": [
       "Incorrect: Expected return value of `30` given `sqft_walls=432`, `sqft_ceiling=144`, `sqft_per_gallon=400`, `cost_per_gallon=15`, but got `<learntools.core.constants.PlaceholderValue object at 0x7b0b91328af0>` instead."
      ]
     },
     "metadata": {},
     "output_type": "display_data"
    }
   ],
   "source": [
    "def get_actual_cost(sqft_walls, sqft_ceiling, sqft_per_gallon, cost_per_gallon):\n",
    "    cost = ____\n",
    "    return cost\n",
    "\n",
    "# Check your answer\n",
    "q5.check()"
   ]
  },
  {
   "cell_type": "code",
   "execution_count": 12,
   "id": "5e2bb114",
   "metadata": {
    "execution": {
     "iopub.execute_input": "2024-10-12T05:43:43.130761Z",
     "iopub.status.busy": "2024-10-12T05:43:43.130357Z",
     "iopub.status.idle": "2024-10-12T05:43:43.135059Z",
     "shell.execute_reply": "2024-10-12T05:43:43.133807Z"
    },
    "papermill": {
     "duration": 0.017355,
     "end_time": "2024-10-12T05:43:43.137512",
     "exception": false,
     "start_time": "2024-10-12T05:43:43.120157",
     "status": "completed"
    },
    "tags": []
   },
   "outputs": [],
   "source": [
    "# Uncomment to see a hint\n",
    "#q5.hint()\n",
    "\n",
    "# Uncomment to view the solution\n",
    "#q5.solution()"
   ]
  },
  {
   "cell_type": "markdown",
   "id": "0a8c2f47",
   "metadata": {
    "papermill": {
     "duration": 0.008442,
     "end_time": "2024-10-12T05:43:43.154898",
     "exception": false,
     "start_time": "2024-10-12T05:43:43.146456",
     "status": "completed"
    },
    "tags": []
   },
   "source": [
    "Once your function is verified as correct, run the next code cell to calculate the updated cost of your project."
   ]
  },
  {
   "cell_type": "code",
   "execution_count": 13,
   "id": "481c9f9a",
   "metadata": {
    "execution": {
     "iopub.execute_input": "2024-10-12T05:43:43.174581Z",
     "iopub.status.busy": "2024-10-12T05:43:43.174188Z",
     "iopub.status.idle": "2024-10-12T05:43:43.181352Z",
     "shell.execute_reply": "2024-10-12T05:43:43.180201Z"
    },
    "papermill": {
     "duration": 0.020142,
     "end_time": "2024-10-12T05:43:43.183738",
     "exception": false,
     "start_time": "2024-10-12T05:43:43.163596",
     "status": "completed"
    },
    "tags": []
   },
   "outputs": [
    {
     "data": {
      "text/markdown": [],
      "text/plain": [
       "<learntools.core.constants.PlaceholderValue at 0x7b0b91328af0>"
      ]
     },
     "execution_count": 13,
     "metadata": {},
     "output_type": "execute_result"
    }
   ],
   "source": [
    "get_actual_cost(432, 144, 400, 15) "
   ]
  },
  {
   "cell_type": "markdown",
   "id": "5adf5e66",
   "metadata": {
    "papermill": {
     "duration": 0.008686,
     "end_time": "2024-10-12T05:43:43.201431",
     "exception": false,
     "start_time": "2024-10-12T05:43:43.192745",
     "status": "completed"
    },
    "tags": []
   },
   "source": [
    "Say you're working with a slightly larger room.  Run the next code cell to calculate the cost of the project."
   ]
  },
  {
   "cell_type": "code",
   "execution_count": 14,
   "id": "23103e56",
   "metadata": {
    "execution": {
     "iopub.execute_input": "2024-10-12T05:43:43.221534Z",
     "iopub.status.busy": "2024-10-12T05:43:43.220525Z",
     "iopub.status.idle": "2024-10-12T05:43:43.227573Z",
     "shell.execute_reply": "2024-10-12T05:43:43.226555Z"
    },
    "papermill": {
     "duration": 0.019657,
     "end_time": "2024-10-12T05:43:43.230013",
     "exception": false,
     "start_time": "2024-10-12T05:43:43.210356",
     "status": "completed"
    },
    "tags": []
   },
   "outputs": [
    {
     "data": {
      "text/markdown": [],
      "text/plain": [
       "<learntools.core.constants.PlaceholderValue at 0x7b0b91328af0>"
      ]
     },
     "execution_count": 14,
     "metadata": {},
     "output_type": "execute_result"
    }
   ],
   "source": [
    "get_actual_cost(594, 288, 400, 15) "
   ]
  },
  {
   "cell_type": "markdown",
   "id": "12a43676",
   "metadata": {
    "papermill": {
     "duration": 0.008821,
     "end_time": "2024-10-12T05:43:43.247873",
     "exception": false,
     "start_time": "2024-10-12T05:43:43.239052",
     "status": "completed"
    },
    "tags": []
   },
   "source": [
    "# Keep going\n",
    "\n",
    "Continue to learn about **[data types](https://www.kaggle.com/alexisbcook/data-types)**."
   ]
  },
  {
   "cell_type": "markdown",
   "id": "8db9639c",
   "metadata": {
    "papermill": {
     "duration": 0.008704,
     "end_time": "2024-10-12T05:43:43.265482",
     "exception": false,
     "start_time": "2024-10-12T05:43:43.256778",
     "status": "completed"
    },
    "tags": []
   },
   "source": [
    "---\n",
    "\n",
    "\n",
    "\n",
    "\n",
    "*Have questions or comments? Visit the [course discussion forum](https://www.kaggle.com/learn/intro-to-programming/discussion) to chat with other learners.*"
   ]
  }
 ],
 "metadata": {
  "kaggle": {
   "accelerator": "none",
   "dataSources": [],
   "isGpuEnabled": false,
   "isInternetEnabled": false,
   "language": "python",
   "sourceType": "notebook"
  },
  "kernelspec": {
   "display_name": "Python 3",
   "language": "python",
   "name": "python3"
  },
  "language_info": {
   "codemirror_mode": {
    "name": "ipython",
    "version": 3
   },
   "file_extension": ".py",
   "mimetype": "text/x-python",
   "name": "python",
   "nbconvert_exporter": "python",
   "pygments_lexer": "ipython3",
   "version": "3.10.14"
  },
  "papermill": {
   "default_parameters": {},
   "duration": 4.886995,
   "end_time": "2024-10-12T05:43:43.694109",
   "environment_variables": {},
   "exception": null,
   "input_path": "__notebook__.ipynb",
   "output_path": "__notebook__.ipynb",
   "parameters": {},
   "start_time": "2024-10-12T05:43:38.807114",
   "version": "2.6.0"
  }
 },
 "nbformat": 4,
 "nbformat_minor": 5
}
