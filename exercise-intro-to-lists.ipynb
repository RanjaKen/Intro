{
 "cells": [
  {
   "cell_type": "markdown",
   "id": "b9a332c9",
   "metadata": {
    "papermill": {
     "duration": 0.01016,
     "end_time": "2024-10-28T17:12:08.351359",
     "exception": false,
     "start_time": "2024-10-28T17:12:08.341199",
     "status": "completed"
    },
    "tags": []
   },
   "source": [
    "**This notebook is an exercise in the [Intro to Programming](https://www.kaggle.com/learn/intro-to-programming) course.  You can reference the tutorial at [this link](https://www.kaggle.com/alexisbcook/intro-to-lists).**\n",
    "\n",
    "---\n"
   ]
  },
  {
   "cell_type": "markdown",
   "id": "0177da12",
   "metadata": {
    "papermill": {
     "duration": 0.008109,
     "end_time": "2024-10-28T17:12:08.368157",
     "exception": false,
     "start_time": "2024-10-28T17:12:08.360048",
     "status": "completed"
    },
    "tags": []
   },
   "source": [
    "In the tutorial, you learned how to define and modify Python lists.  In this exercise, you will use your new knowledge to solve several problems.\n",
    "\n",
    "# Set up the notebook\n",
    "\n",
    "Run the next code cell without changes to set up the notebook."
   ]
  },
  {
   "cell_type": "code",
   "execution_count": 1,
   "id": "23abba45",
   "metadata": {
    "execution": {
     "iopub.execute_input": "2024-10-28T17:12:08.386805Z",
     "iopub.status.busy": "2024-10-28T17:12:08.386343Z",
     "iopub.status.idle": "2024-10-28T17:12:09.356081Z",
     "shell.execute_reply": "2024-10-28T17:12:09.354878Z"
    },
    "papermill": {
     "duration": 0.982216,
     "end_time": "2024-10-28T17:12:09.358702",
     "exception": false,
     "start_time": "2024-10-28T17:12:08.376486",
     "status": "completed"
    },
    "tags": []
   },
   "outputs": [
    {
     "name": "stdout",
     "output_type": "stream",
     "text": [
      "Setup complete.\n"
     ]
    }
   ],
   "source": [
    "from learntools.core import binder\n",
    "binder.bind(globals())\n",
    "from learntools.intro_to_programming.ex5 import *\n",
    "print('Setup complete.')"
   ]
  },
  {
   "cell_type": "markdown",
   "id": "226123f4",
   "metadata": {
    "papermill": {
     "duration": 0.008418,
     "end_time": "2024-10-28T17:12:09.375819",
     "exception": false,
     "start_time": "2024-10-28T17:12:09.367401",
     "status": "completed"
    },
    "tags": []
   },
   "source": [
    "# Question 1\n",
    "\n",
    "You own a restaurant with five food dishes, organized in the Python list `menu` below.  One day, you decide to:\n",
    "- remove bean soup (`'bean soup'`) from the menu, and\n",
    "- add roasted beet salad (`'roasted beet salad'`) to the menu.\n",
    "\n",
    "Implement this change to the list below.  While completing this task, \n",
    "- do not change the line that creates the `menu` list.  \n",
    "- your answer should use `.remove()` and `.append()`.  "
   ]
  },
  {
   "cell_type": "code",
   "execution_count": 2,
   "id": "cf335033",
   "metadata": {
    "execution": {
     "iopub.execute_input": "2024-10-28T17:12:09.395641Z",
     "iopub.status.busy": "2024-10-28T17:12:09.394469Z",
     "iopub.status.idle": "2024-10-28T17:12:09.406915Z",
     "shell.execute_reply": "2024-10-28T17:12:09.405774Z"
    },
    "papermill": {
     "duration": 0.02492,
     "end_time": "2024-10-28T17:12:09.409402",
     "exception": false,
     "start_time": "2024-10-28T17:12:09.384482",
     "status": "completed"
    },
    "tags": []
   },
   "outputs": [
    {
     "data": {
      "application/javascript": [
       "parent.postMessage({\"jupyterEvent\": \"custom.exercise_interaction\", \"data\": {\"outcomeType\": 1, \"valueTowardsCompletion\": 0.2, \"interactionType\": 1, \"questionType\": 2, \"questionId\": \"1_FoodMenu\", \"learnToolsVersion\": \"0.3.4\", \"failureMessage\": \"\", \"exceptionClass\": \"\", \"trace\": \"\"}}, \"*\")"
      ],
      "text/plain": [
       "<IPython.core.display.Javascript object>"
      ]
     },
     "metadata": {},
     "output_type": "display_data"
    },
    {
     "data": {
      "text/markdown": [
       "<span style=\"color:#33cc33\">Correct</span>"
      ],
      "text/plain": [
       "Correct"
      ]
     },
     "metadata": {},
     "output_type": "display_data"
    }
   ],
   "source": [
    "# Do not change: Initial menu for your restaurant\n",
    "menu = ['stewed meat with onions', 'bean soup', 'risotto with trout and shrimp',\n",
    "       'fish soup with cream and onion', 'gyro']\n",
    "\n",
    "# TODO: remove 'bean soup', and add 'roasted beet salad' to the end of the menu\n",
    "menu.remove(\"bean soup\")\n",
    "menu.append(\"roasted beet salad\")\n",
    "\n",
    "# Do not change: Check your answer\n",
    "q1.check()"
   ]
  },
  {
   "cell_type": "code",
   "execution_count": 3,
   "id": "93809ecb",
   "metadata": {
    "execution": {
     "iopub.execute_input": "2024-10-28T17:12:09.430150Z",
     "iopub.status.busy": "2024-10-28T17:12:09.429725Z",
     "iopub.status.idle": "2024-10-28T17:12:09.434742Z",
     "shell.execute_reply": "2024-10-28T17:12:09.433595Z"
    },
    "papermill": {
     "duration": 0.017799,
     "end_time": "2024-10-28T17:12:09.437183",
     "exception": false,
     "start_time": "2024-10-28T17:12:09.419384",
     "status": "completed"
    },
    "tags": []
   },
   "outputs": [],
   "source": [
    "# Uncomment to see a hint\n",
    "#q1.hint()\n",
    "\n",
    "# Uncomment to see the solution\n",
    "#q1.solution()"
   ]
  },
  {
   "cell_type": "markdown",
   "id": "16a90473",
   "metadata": {
    "papermill": {
     "duration": 0.00868,
     "end_time": "2024-10-28T17:12:09.454807",
     "exception": false,
     "start_time": "2024-10-28T17:12:09.446127",
     "status": "completed"
    },
    "tags": []
   },
   "source": [
    "# Question 2\n",
    "\n",
    "The list `num_customers` contains the number of customers who came into your restaurant every day over the last month (which lasted thirty days).  Fill in values for each of the following:\n",
    "- `avg_first_seven` - average number of customers who visited in the first seven days\n",
    "- `avg_last_seven` - average number of customers who visited in the last seven days\n",
    "- `max_month` - number of customers on the day that got the most customers in the last month\n",
    "- `min_month` - number of customers on the day that got the least customers in the last month\n",
    "\n",
    "Answer this question by writing code.  For instance, if you have to find the minimum value in a list, use `min()` instead of scanning for the smallest value and directly filling in a number."
   ]
  },
  {
   "cell_type": "code",
   "execution_count": 4,
   "id": "87387750",
   "metadata": {
    "execution": {
     "iopub.execute_input": "2024-10-28T17:12:09.475774Z",
     "iopub.status.busy": "2024-10-28T17:12:09.474607Z",
     "iopub.status.idle": "2024-10-28T17:12:09.486063Z",
     "shell.execute_reply": "2024-10-28T17:12:09.484891Z"
    },
    "papermill": {
     "duration": 0.024088,
     "end_time": "2024-10-28T17:12:09.488515",
     "exception": false,
     "start_time": "2024-10-28T17:12:09.464427",
     "status": "completed"
    },
    "tags": []
   },
   "outputs": [
    {
     "data": {
      "application/javascript": [
       "parent.postMessage({\"jupyterEvent\": \"custom.exercise_interaction\", \"data\": {\"outcomeType\": 4, \"interactionType\": 1, \"questionType\": 1, \"questionId\": \"2_NumCustomers\", \"learnToolsVersion\": \"0.3.4\", \"valueTowardsCompletion\": 0.0, \"failureMessage\": \"\", \"exceptionClass\": \"\", \"trace\": \"\"}}, \"*\")"
      ],
      "text/plain": [
       "<IPython.core.display.Javascript object>"
      ]
     },
     "metadata": {},
     "output_type": "display_data"
    },
    {
     "data": {
      "text/markdown": [
       "<span style=\"color:#ccaa33\">Check:</span> When you've updated the starter code, `check()` will tell you whether your code is correct. You need to update the code that creates variables `avg_first_seven`, `avg_last_seven`, `max_month`, `min_month`"
      ],
      "text/plain": [
       "Check: When you've updated the starter code, `check()` will tell you whether your code is correct. You need to update the code that creates variables `avg_first_seven`, `avg_last_seven`, `max_month`, `min_month`"
      ]
     },
     "metadata": {},
     "output_type": "display_data"
    }
   ],
   "source": [
    "# Do not change: Number of customers each day for the last month\n",
    "num_customers = [137, 147, 135, 128, 170, 174, 165, 146, 126, 159,\n",
    "                 141, 148, 132, 147, 168, 153, 170, 161, 148, 152,\n",
    "                 141, 151, 131, 149, 164, 163, 143, 143, 166, 171]\n",
    "\n",
    "# TODO: Fill in values for the variables below\n",
    "avg_first_seven = ____ \n",
    "avg_last_seven = ____ \n",
    "max_month = ____\n",
    "min_month = ____\n",
    "\n",
    "# Do not change: Check your answer\n",
    "q2.check()"
   ]
  },
  {
   "cell_type": "code",
   "execution_count": 5,
   "id": "2543e9ec",
   "metadata": {
    "execution": {
     "iopub.execute_input": "2024-10-28T17:12:09.509378Z",
     "iopub.status.busy": "2024-10-28T17:12:09.508421Z",
     "iopub.status.idle": "2024-10-28T17:12:09.513258Z",
     "shell.execute_reply": "2024-10-28T17:12:09.512240Z"
    },
    "papermill": {
     "duration": 0.017838,
     "end_time": "2024-10-28T17:12:09.515743",
     "exception": false,
     "start_time": "2024-10-28T17:12:09.497905",
     "status": "completed"
    },
    "tags": []
   },
   "outputs": [],
   "source": [
    "# Uncomment to see a hint\n",
    "#q2.hint()\n",
    "\n",
    "# Uncomment to see the solution\n",
    "#q2.solution()"
   ]
  },
  {
   "cell_type": "markdown",
   "id": "4312c02d",
   "metadata": {
    "papermill": {
     "duration": 0.008935,
     "end_time": "2024-10-28T17:12:09.533955",
     "exception": false,
     "start_time": "2024-10-28T17:12:09.525020",
     "status": "completed"
    },
    "tags": []
   },
   "source": [
    "# Question 3\n",
    "\n",
    "In the tutorial, we gave an example of a Python string with information that was better as a list."
   ]
  },
  {
   "cell_type": "code",
   "execution_count": 6,
   "id": "6ef945f8",
   "metadata": {
    "execution": {
     "iopub.execute_input": "2024-10-28T17:12:09.554211Z",
     "iopub.status.busy": "2024-10-28T17:12:09.553793Z",
     "iopub.status.idle": "2024-10-28T17:12:09.559130Z",
     "shell.execute_reply": "2024-10-28T17:12:09.558000Z"
    },
    "papermill": {
     "duration": 0.01847,
     "end_time": "2024-10-28T17:12:09.561656",
     "exception": false,
     "start_time": "2024-10-28T17:12:09.543186",
     "status": "completed"
    },
    "tags": []
   },
   "outputs": [],
   "source": [
    "flowers = \"pink primrose,hard-leaved pocket orchid,canterbury bells,sweet pea,english marigold,tiger lily,moon orchid,bird of paradise,monkshood,globe thistle\""
   ]
  },
  {
   "cell_type": "markdown",
   "id": "82ecead0",
   "metadata": {
    "papermill": {
     "duration": 0.009255,
     "end_time": "2024-10-28T17:12:09.580641",
     "exception": false,
     "start_time": "2024-10-28T17:12:09.571386",
     "status": "completed"
    },
    "tags": []
   },
   "source": [
    "You can actually use Python to quickly turn this string into a list with `.split()`.  In the parentheses, we need to provide the character should be used to mark the end of one list item and the beginning of another, and enclose it in quotation marks.  In this case, that character is a comma."
   ]
  },
  {
   "cell_type": "code",
   "execution_count": 7,
   "id": "2e623320",
   "metadata": {
    "execution": {
     "iopub.execute_input": "2024-10-28T17:12:09.601802Z",
     "iopub.status.busy": "2024-10-28T17:12:09.600828Z",
     "iopub.status.idle": "2024-10-28T17:12:09.607500Z",
     "shell.execute_reply": "2024-10-28T17:12:09.606351Z"
    },
    "papermill": {
     "duration": 0.020215,
     "end_time": "2024-10-28T17:12:09.610206",
     "exception": false,
     "start_time": "2024-10-28T17:12:09.589991",
     "status": "completed"
    },
    "tags": []
   },
   "outputs": [
    {
     "name": "stdout",
     "output_type": "stream",
     "text": [
      "['pink primrose', 'hard-leaved pocket orchid', 'canterbury bells', 'sweet pea', 'english marigold', 'tiger lily', 'moon orchid', 'bird of paradise', 'monkshood', 'globe thistle']\n"
     ]
    }
   ],
   "source": [
    " print(flowers.split(\",\"))"
   ]
  },
  {
   "cell_type": "markdown",
   "id": "f00dcf1c",
   "metadata": {
    "papermill": {
     "duration": 0.00911,
     "end_time": "2024-10-28T17:12:09.628727",
     "exception": false,
     "start_time": "2024-10-28T17:12:09.619617",
     "status": "completed"
    },
    "tags": []
   },
   "source": [
    "Now it is your turn to try this out!  Create two Python lists:\n",
    "- `letters` should be a Python list where each entry is an uppercase letter of the English alphabet.  For instance, the first two entries should be `\"A\"` and `\"B\"`, and the final two entries should be `\"Y\"` and `\"Z\"`.  Use the string `alphabet` to create this list.\n",
    "- `address` should be a Python list where each row in `address` is a different item in the list.  Currently, each row in `address` is separated by a comma. "
   ]
  },
  {
   "cell_type": "code",
   "execution_count": 8,
   "id": "9988cfb1",
   "metadata": {
    "execution": {
     "iopub.execute_input": "2024-10-28T17:12:09.649825Z",
     "iopub.status.busy": "2024-10-28T17:12:09.648955Z",
     "iopub.status.idle": "2024-10-28T17:12:09.658724Z",
     "shell.execute_reply": "2024-10-28T17:12:09.657707Z"
    },
    "papermill": {
     "duration": 0.022984,
     "end_time": "2024-10-28T17:12:09.660993",
     "exception": false,
     "start_time": "2024-10-28T17:12:09.638009",
     "status": "completed"
    },
    "tags": []
   },
   "outputs": [
    {
     "data": {
      "application/javascript": [
       "parent.postMessage({\"jupyterEvent\": \"custom.exercise_interaction\", \"data\": {\"outcomeType\": 4, \"interactionType\": 1, \"questionType\": 1, \"questionId\": \"3_SplitString\", \"learnToolsVersion\": \"0.3.4\", \"valueTowardsCompletion\": 0.0, \"failureMessage\": \"\", \"exceptionClass\": \"\", \"trace\": \"\"}}, \"*\")"
      ],
      "text/plain": [
       "<IPython.core.display.Javascript object>"
      ]
     },
     "metadata": {},
     "output_type": "display_data"
    },
    {
     "data": {
      "text/markdown": [
       "<span style=\"color:#ccaa33\">Check:</span> When you've updated the starter code, `check()` will tell you whether your code is correct. You need to update the code that creates variables `letters`, `formatted_address`"
      ],
      "text/plain": [
       "Check: When you've updated the starter code, `check()` will tell you whether your code is correct. You need to update the code that creates variables `letters`, `formatted_address`"
      ]
     },
     "metadata": {},
     "output_type": "display_data"
    }
   ],
   "source": [
    "# DO not change: Define two Python strings\n",
    "alphabet = \"A.B.C.D.E.F.G.H.I.J.K.L.M.N.O.P.Q.R.S.T.U.V.W.X.Y.Z\"\n",
    "address = \"Mr. H. Potter,The cupboard under the Stairs,4 Privet Drive,Little Whinging,Surrey\"\n",
    "\n",
    "# TODO: Convert strings into Python lists\n",
    "letters = ____\n",
    "formatted_address = ____\n",
    "\n",
    "# Do not change: Check your answer\n",
    "q3.check()"
   ]
  },
  {
   "cell_type": "code",
   "execution_count": 9,
   "id": "54a9ce64",
   "metadata": {
    "execution": {
     "iopub.execute_input": "2024-10-28T17:12:09.682462Z",
     "iopub.status.busy": "2024-10-28T17:12:09.681710Z",
     "iopub.status.idle": "2024-10-28T17:12:09.686461Z",
     "shell.execute_reply": "2024-10-28T17:12:09.685331Z"
    },
    "papermill": {
     "duration": 0.018456,
     "end_time": "2024-10-28T17:12:09.688967",
     "exception": false,
     "start_time": "2024-10-28T17:12:09.670511",
     "status": "completed"
    },
    "tags": []
   },
   "outputs": [],
   "source": [
    "# Uncomment to see a hint\n",
    "#q3.hint()\n",
    "\n",
    "# Uncomment to see the solution\n",
    "#q3.solution()"
   ]
  },
  {
   "cell_type": "markdown",
   "id": "f3cecae5",
   "metadata": {
    "papermill": {
     "duration": 0.009781,
     "end_time": "2024-10-28T17:12:09.708509",
     "exception": false,
     "start_time": "2024-10-28T17:12:09.698728",
     "status": "completed"
    },
    "tags": []
   },
   "source": [
    "# Question 4\n",
    "\n",
    "In the Python course, you'll learn all about **list comprehensions**, which allow you to create a list based on the values in another list.  In this question, you'll get a brief preview of how they work.\n",
    "\n",
    "Say we're working with the list below."
   ]
  },
  {
   "cell_type": "code",
   "execution_count": 10,
   "id": "f6ac301a",
   "metadata": {
    "execution": {
     "iopub.execute_input": "2024-10-28T17:12:09.729722Z",
     "iopub.status.busy": "2024-10-28T17:12:09.729280Z",
     "iopub.status.idle": "2024-10-28T17:12:09.734494Z",
     "shell.execute_reply": "2024-10-28T17:12:09.733394Z"
    },
    "papermill": {
     "duration": 0.018798,
     "end_time": "2024-10-28T17:12:09.736941",
     "exception": false,
     "start_time": "2024-10-28T17:12:09.718143",
     "status": "completed"
    },
    "tags": []
   },
   "outputs": [],
   "source": [
    "test_ratings = [1, 2, 3, 4, 5]"
   ]
  },
  {
   "cell_type": "markdown",
   "id": "bfa367d8",
   "metadata": {
    "papermill": {
     "duration": 0.009158,
     "end_time": "2024-10-28T17:12:09.755643",
     "exception": false,
     "start_time": "2024-10-28T17:12:09.746485",
     "status": "completed"
    },
    "tags": []
   },
   "source": [
    "Then we can use this list (`test_ratings`) to create a new list (`test_liked`) where each item has been turned into a boolean, depending on whether or not the item is greater than or equal to four."
   ]
  },
  {
   "cell_type": "code",
   "execution_count": 11,
   "id": "2fd33487",
   "metadata": {
    "execution": {
     "iopub.execute_input": "2024-10-28T17:12:09.776521Z",
     "iopub.status.busy": "2024-10-28T17:12:09.776076Z",
     "iopub.status.idle": "2024-10-28T17:12:09.781853Z",
     "shell.execute_reply": "2024-10-28T17:12:09.780760Z"
    },
    "papermill": {
     "duration": 0.01973,
     "end_time": "2024-10-28T17:12:09.784793",
     "exception": false,
     "start_time": "2024-10-28T17:12:09.765063",
     "status": "completed"
    },
    "tags": []
   },
   "outputs": [
    {
     "name": "stdout",
     "output_type": "stream",
     "text": [
      "[False, False, False, True, True]\n"
     ]
    }
   ],
   "source": [
    "test_liked = [i>=4 for i in test_ratings]\n",
    "print(test_liked)"
   ]
  },
  {
   "cell_type": "markdown",
   "id": "5ec52749",
   "metadata": {
    "papermill": {
     "duration": 0.009377,
     "end_time": "2024-10-28T17:12:09.803749",
     "exception": false,
     "start_time": "2024-10-28T17:12:09.794372",
     "status": "completed"
    },
    "tags": []
   },
   "source": [
    "In this question, you'll use this list comprehension to define a function `percentage_liked()` that takes one argument as input:\n",
    "- `ratings`: list of ratings that people gave to a movie, where each rating is a number between 1-5, inclusive\n",
    "\n",
    "We say someone liked the movie, if they gave a rating of either 4 or 5.  Your function should return the percentage of people who liked the movie.\n",
    "\n",
    "For instance, if we supply a value of `[1, 2, 3, 4, 5, 4, 5, 1]`, then 50% (4/8) of the people liked the movie, and the function should return `0.5`.\n",
    "\n",
    "Part of the function has already been completed for you.  You need only use `list_liked` to calculate `percentage_liked`."
   ]
  },
  {
   "cell_type": "code",
   "execution_count": 12,
   "id": "9ac850ad",
   "metadata": {
    "execution": {
     "iopub.execute_input": "2024-10-28T17:12:09.825444Z",
     "iopub.status.busy": "2024-10-28T17:12:09.824434Z",
     "iopub.status.idle": "2024-10-28T17:12:09.835274Z",
     "shell.execute_reply": "2024-10-28T17:12:09.834211Z"
    },
    "papermill": {
     "duration": 0.024322,
     "end_time": "2024-10-28T17:12:09.837643",
     "exception": false,
     "start_time": "2024-10-28T17:12:09.813321",
     "status": "completed"
    },
    "tags": []
   },
   "outputs": [
    {
     "data": {
      "application/javascript": [
       "parent.postMessage({\"jupyterEvent\": \"custom.exercise_interaction\", \"data\": {\"outcomeType\": 2, \"failureMessage\": \"Expected return value of `0.5` given `ratings=[1, 2, 3, 4, 5, 4, 5, 1]`, but got `<learntools.core.constants.PlaceholderValue object at 0x7aa38a334a60>` instead.\", \"interactionType\": 1, \"questionType\": 2, \"questionId\": \"4_PercentageLiked\", \"learnToolsVersion\": \"0.3.4\", \"valueTowardsCompletion\": 0.0, \"exceptionClass\": \"\", \"trace\": \"\"}}, \"*\")"
      ],
      "text/plain": [
       "<IPython.core.display.Javascript object>"
      ]
     },
     "metadata": {},
     "output_type": "display_data"
    },
    {
     "data": {
      "text/markdown": [
       "<span style=\"color:#cc3333\">Incorrect:</span> Expected return value of `0.5` given `ratings=[1, 2, 3, 4, 5, 4, 5, 1]`, but got `<learntools.core.constants.PlaceholderValue object at 0x7aa38a334a60>` instead."
      ],
      "text/plain": [
       "Incorrect: Expected return value of `0.5` given `ratings=[1, 2, 3, 4, 5, 4, 5, 1]`, but got `<learntools.core.constants.PlaceholderValue object at 0x7aa38a334a60>` instead."
      ]
     },
     "metadata": {},
     "output_type": "display_data"
    }
   ],
   "source": [
    "\n",
    "def percentage_liked(ratings):\n",
    "    list_liked = [i>=4 for i in ratings]\n",
    "    # TODO: Complete the function\n",
    "    percentage_liked = ____\n",
    "    return percentage_liked\n",
    "\n",
    "# Do not change: should return 0.5\n",
    "percentage_liked([1, 2, 3, 4, 5, 4, 5, 1])\n",
    "\n",
    "# Do not change: Check your answer\n",
    "q4.check()"
   ]
  },
  {
   "cell_type": "code",
   "execution_count": 13,
   "id": "42bb944b",
   "metadata": {
    "execution": {
     "iopub.execute_input": "2024-10-28T17:12:09.859639Z",
     "iopub.status.busy": "2024-10-28T17:12:09.859162Z",
     "iopub.status.idle": "2024-10-28T17:12:09.864268Z",
     "shell.execute_reply": "2024-10-28T17:12:09.863045Z"
    },
    "papermill": {
     "duration": 0.019166,
     "end_time": "2024-10-28T17:12:09.866845",
     "exception": false,
     "start_time": "2024-10-28T17:12:09.847679",
     "status": "completed"
    },
    "tags": []
   },
   "outputs": [],
   "source": [
    "# Uncomment to see a hint\n",
    "#q4.hint()\n",
    "\n",
    "# Uncomment to see the solution\n",
    "#q4.solution()"
   ]
  },
  {
   "cell_type": "markdown",
   "id": "dd37b53e",
   "metadata": {
    "papermill": {
     "duration": 0.010326,
     "end_time": "2024-10-28T17:12:09.887679",
     "exception": false,
     "start_time": "2024-10-28T17:12:09.877353",
     "status": "completed"
    },
    "tags": []
   },
   "source": [
    "# 🌶️ Question 5\n",
    " \n",
    "Say you're doing analytics for a website.  You need to write a function that returns the percentage growth in the total number of users relative to a specified number of years ago.\n",
    "\n",
    "Your function `percentage_growth()` should take two arguments as input:\n",
    "- `num_users` = Python list with the total number of users each year.  So `num_users[0]` is the total number of users in the first year, `num_users[1]` is the total number of users in the second year, and so on.  The final entry in the list gives the total number of users in the most recently completed year.\n",
    "- `yrs_ago` = number of years to go back in time when calculating the growth percentage\n",
    "\n",
    "For instance, say `num_users = [920344, 1043553, 1204334, 1458996, 1503323, 1593432, 1623463, 1843064, 1930992, 2001078]`.\n",
    "- if `yrs_ago = 1`, we want the function to return a value of about `0.036`. This corresponds to a percentage growth of approximately 3.6%, calculated as (2001078 - 1930992)/1930992.\n",
    "- if `years_ago = 7`, we would want to return approximately `0.66`.  This corresponds to a percentage growth of approximately 66%, calculated as (2001078 - 1204334)/1204334.\n",
    "\n",
    "Your coworker sent you a draft of a function, but it doesn't seem to be doing the correct calculation.  Can you figure out what has gone wrong and make the needed changes?"
   ]
  },
  {
   "cell_type": "code",
   "execution_count": 14,
   "id": "28eba71a",
   "metadata": {
    "execution": {
     "iopub.execute_input": "2024-10-28T17:12:09.910211Z",
     "iopub.status.busy": "2024-10-28T17:12:09.909798Z",
     "iopub.status.idle": "2024-10-28T17:12:09.922693Z",
     "shell.execute_reply": "2024-10-28T17:12:09.921414Z"
    },
    "papermill": {
     "duration": 0.027227,
     "end_time": "2024-10-28T17:12:09.925318",
     "exception": false,
     "start_time": "2024-10-28T17:12:09.898091",
     "status": "completed"
    },
    "tags": []
   },
   "outputs": [
    {
     "name": "stdout",
     "output_type": "stream",
     "text": [
      "0.0\n",
      "0.2807272117129434\n"
     ]
    },
    {
     "data": {
      "application/javascript": [
       "parent.postMessage({\"jupyterEvent\": \"custom.exercise_interaction\", \"data\": {\"outcomeType\": 2, \"failureMessage\": \"Expected return value of `0.03629533421163837` given `num_users=[920344, 1043553, 1204334, 1458996, 1503323, 1593432, 1623463, 1843064, 1930992, 2001078]`, `yrs_ago=1`, but got `0.0` instead.\", \"interactionType\": 1, \"questionType\": 2, \"questionId\": \"5_WebsiteAnalytics\", \"learnToolsVersion\": \"0.3.4\", \"valueTowardsCompletion\": 0.0, \"exceptionClass\": \"\", \"trace\": \"\"}}, \"*\")"
      ],
      "text/plain": [
       "<IPython.core.display.Javascript object>"
      ]
     },
     "metadata": {},
     "output_type": "display_data"
    },
    {
     "data": {
      "text/markdown": [
       "<span style=\"color:#cc3333\">Incorrect:</span> Expected return value of `0.03629533421163837` given `num_users=[920344, 1043553, 1204334, 1458996, 1503323, 1593432, 1623463, 1843064, 1930992, 2001078]`, `yrs_ago=1`, but got `0.0` instead."
      ],
      "text/plain": [
       "Incorrect: Expected return value of `0.03629533421163837` given `num_users=[920344, 1043553, 1204334, 1458996, 1503323, 1593432, 1623463, 1843064, 1930992, 2001078]`, `yrs_ago=1`, but got `0.0` instead."
      ]
     },
     "metadata": {},
     "output_type": "display_data"
    }
   ],
   "source": [
    "# TODO: Edit the function\n",
    "def percentage_growth(num_users, yrs_ago):\n",
    "    growth = (num_users[len(num_users)-1] - num_users[len(num_users)-yrs_ago])/num_users[len(num_users)-2]\n",
    "    return growth\n",
    "\n",
    "# Do not change: Variable for calculating some test examples\n",
    "num_users_test = [920344, 1043553, 1204334, 1458996, 1503323, 1593432, 1623463, 1843064, 1930992, 2001078]\n",
    "\n",
    "# Do not change: Should return .036\n",
    "print(percentage_growth(num_users_test, 1))\n",
    "\n",
    "# Do not change: Should return 0.66\n",
    "print(percentage_growth(num_users_test, 7))\n",
    "\n",
    "# Do not change: Check your answer\n",
    "q5.check()"
   ]
  },
  {
   "cell_type": "code",
   "execution_count": 15,
   "id": "5e7787b3",
   "metadata": {
    "execution": {
     "iopub.execute_input": "2024-10-28T17:12:09.948202Z",
     "iopub.status.busy": "2024-10-28T17:12:09.947783Z",
     "iopub.status.idle": "2024-10-28T17:12:09.952484Z",
     "shell.execute_reply": "2024-10-28T17:12:09.951389Z"
    },
    "papermill": {
     "duration": 0.019244,
     "end_time": "2024-10-28T17:12:09.955172",
     "exception": false,
     "start_time": "2024-10-28T17:12:09.935928",
     "status": "completed"
    },
    "tags": []
   },
   "outputs": [],
   "source": [
    "# Uncomment to see a hint\n",
    "#q5.hint()\n",
    "\n",
    "# Uncomment to see the solution\n",
    "#q5.solution()"
   ]
  },
  {
   "cell_type": "markdown",
   "id": "0a73ce3f",
   "metadata": {
    "papermill": {
     "duration": 0.010334,
     "end_time": "2024-10-28T17:12:09.976322",
     "exception": false,
     "start_time": "2024-10-28T17:12:09.965988",
     "status": "completed"
    },
    "tags": []
   },
   "source": [
    "# Congratulations!\n",
    "\n",
    "Congratulations for finishing the Intro to Programming course!  You should be proud of your very first steps with learning programming.  As next steps, we recommend taking:\n",
    "- the **[Python course](http://www.kaggle.com/learn/python)**, and \n",
    "- the **[Intro to Machine Learning course](https://www.kaggle.com/learn/intro-to-machine-learning)**."
   ]
  },
  {
   "cell_type": "markdown",
   "id": "a664e20f",
   "metadata": {
    "papermill": {
     "duration": 0.01028,
     "end_time": "2024-10-28T17:12:09.997345",
     "exception": false,
     "start_time": "2024-10-28T17:12:09.987065",
     "status": "completed"
    },
    "tags": []
   },
   "source": [
    "---\n",
    "\n",
    "\n",
    "\n",
    "\n",
    "*Have questions or comments? Visit the [course discussion forum](https://www.kaggle.com/learn/intro-to-programming/discussion) to chat with other learners.*"
   ]
  }
 ],
 "metadata": {
  "kaggle": {
   "accelerator": "none",
   "dataSources": [],
   "isGpuEnabled": false,
   "isInternetEnabled": false,
   "language": "python",
   "sourceType": "notebook"
  },
  "kernelspec": {
   "display_name": "Python 3",
   "language": "python",
   "name": "python3"
  },
  "language_info": {
   "codemirror_mode": {
    "name": "ipython",
    "version": 3
   },
   "file_extension": ".py",
   "mimetype": "text/x-python",
   "name": "python",
   "nbconvert_exporter": "python",
   "pygments_lexer": "ipython3",
   "version": "3.10.14"
  },
  "papermill": {
   "default_parameters": {},
   "duration": 5.148417,
   "end_time": "2024-10-28T17:12:10.530742",
   "environment_variables": {},
   "exception": null,
   "input_path": "__notebook__.ipynb",
   "output_path": "__notebook__.ipynb",
   "parameters": {},
   "start_time": "2024-10-28T17:12:05.382325",
   "version": "2.6.0"
  }
 },
 "nbformat": 4,
 "nbformat_minor": 5
}
