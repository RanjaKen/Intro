{
 "cells": [
  {
   "cell_type": "markdown",
   "id": "eba4e93b",
   "metadata": {
    "papermill": {
     "duration": 0.009112,
     "end_time": "2024-10-28T17:14:13.881187",
     "exception": false,
     "start_time": "2024-10-28T17:14:13.872075",
     "status": "completed"
    },
    "tags": []
   },
   "source": [
    "**This notebook is an exercise in the [Intro to Programming](https://www.kaggle.com/learn/intro-to-programming) course.  You can reference the tutorial at [this link](https://www.kaggle.com/alexisbcook/intro-to-lists).**\n",
    "\n",
    "---\n"
   ]
  },
  {
   "cell_type": "markdown",
   "id": "1d59289d",
   "metadata": {
    "papermill": {
     "duration": 0.008078,
     "end_time": "2024-10-28T17:14:13.898007",
     "exception": false,
     "start_time": "2024-10-28T17:14:13.889929",
     "status": "completed"
    },
    "tags": []
   },
   "source": [
    "In the tutorial, you learned how to define and modify Python lists.  In this exercise, you will use your new knowledge to solve several problems.\n",
    "\n",
    "# Set up the notebook\n",
    "\n",
    "Run the next code cell without changes to set up the notebook."
   ]
  },
  {
   "cell_type": "code",
   "execution_count": 1,
   "id": "c2f686a0",
   "metadata": {
    "execution": {
     "iopub.execute_input": "2024-10-28T17:14:13.917714Z",
     "iopub.status.busy": "2024-10-28T17:14:13.916760Z",
     "iopub.status.idle": "2024-10-28T17:14:14.830549Z",
     "shell.execute_reply": "2024-10-28T17:14:14.829304Z"
    },
    "papermill": {
     "duration": 0.926144,
     "end_time": "2024-10-28T17:14:14.833022",
     "exception": false,
     "start_time": "2024-10-28T17:14:13.906878",
     "status": "completed"
    },
    "tags": []
   },
   "outputs": [
    {
     "name": "stdout",
     "output_type": "stream",
     "text": [
      "Setup complete.\n"
     ]
    }
   ],
   "source": [
    "from learntools.core import binder\n",
    "binder.bind(globals())\n",
    "from learntools.intro_to_programming.ex5 import *\n",
    "print('Setup complete.')"
   ]
  },
  {
   "cell_type": "markdown",
   "id": "4d17796e",
   "metadata": {
    "papermill": {
     "duration": 0.008119,
     "end_time": "2024-10-28T17:14:14.849875",
     "exception": false,
     "start_time": "2024-10-28T17:14:14.841756",
     "status": "completed"
    },
    "tags": []
   },
   "source": [
    "# Question 1\n",
    "\n",
    "You own a restaurant with five food dishes, organized in the Python list `menu` below.  One day, you decide to:\n",
    "- remove bean soup (`'bean soup'`) from the menu, and\n",
    "- add roasted beet salad (`'roasted beet salad'`) to the menu.\n",
    "\n",
    "Implement this change to the list below.  While completing this task, \n",
    "- do not change the line that creates the `menu` list.  \n",
    "- your answer should use `.remove()` and `.append()`.  "
   ]
  },
  {
   "cell_type": "code",
   "execution_count": 2,
   "id": "59ddc3fe",
   "metadata": {
    "execution": {
     "iopub.execute_input": "2024-10-28T17:14:14.868097Z",
     "iopub.status.busy": "2024-10-28T17:14:14.867237Z",
     "iopub.status.idle": "2024-10-28T17:14:14.878312Z",
     "shell.execute_reply": "2024-10-28T17:14:14.877287Z"
    },
    "papermill": {
     "duration": 0.022775,
     "end_time": "2024-10-28T17:14:14.880648",
     "exception": false,
     "start_time": "2024-10-28T17:14:14.857873",
     "status": "completed"
    },
    "tags": []
   },
   "outputs": [
    {
     "data": {
      "application/javascript": [
       "parent.postMessage({\"jupyterEvent\": \"custom.exercise_interaction\", \"data\": {\"outcomeType\": 1, \"valueTowardsCompletion\": 0.2, \"interactionType\": 1, \"questionType\": 2, \"questionId\": \"1_FoodMenu\", \"learnToolsVersion\": \"0.3.4\", \"failureMessage\": \"\", \"exceptionClass\": \"\", \"trace\": \"\"}}, \"*\")"
      ],
      "text/plain": [
       "<IPython.core.display.Javascript object>"
      ]
     },
     "metadata": {},
     "output_type": "display_data"
    },
    {
     "data": {
      "text/markdown": [
       "<span style=\"color:#33cc33\">Correct</span>"
      ],
      "text/plain": [
       "Correct"
      ]
     },
     "metadata": {},
     "output_type": "display_data"
    }
   ],
   "source": [
    "# Do not change: Initial menu for your restaurant\n",
    "menu = ['stewed meat with onions', 'bean soup', 'risotto with trout and shrimp',\n",
    "       'fish soup with cream and onion', 'gyro']\n",
    "\n",
    "# TODO: remove 'bean soup', and add 'roasted beet salad' to the end of the menu\n",
    "menu.remove(\"bean soup\")\n",
    "menu.append(\"roasted beet salad\")\n",
    "\n",
    "# Do not change: Check your answer\n",
    "q1.check()"
   ]
  },
  {
   "cell_type": "code",
   "execution_count": 3,
   "id": "4473110d",
   "metadata": {
    "execution": {
     "iopub.execute_input": "2024-10-28T17:14:14.900986Z",
     "iopub.status.busy": "2024-10-28T17:14:14.900202Z",
     "iopub.status.idle": "2024-10-28T17:14:14.905005Z",
     "shell.execute_reply": "2024-10-28T17:14:14.903808Z"
    },
    "papermill": {
     "duration": 0.017035,
     "end_time": "2024-10-28T17:14:14.907313",
     "exception": false,
     "start_time": "2024-10-28T17:14:14.890278",
     "status": "completed"
    },
    "tags": []
   },
   "outputs": [],
   "source": [
    "# Uncomment to see a hint\n",
    "#q1.hint()\n",
    "\n",
    "# Uncomment to see the solution\n",
    "#q1.solution()"
   ]
  },
  {
   "cell_type": "markdown",
   "id": "36676ea8",
   "metadata": {
    "papermill": {
     "duration": 0.008426,
     "end_time": "2024-10-28T17:14:14.924285",
     "exception": false,
     "start_time": "2024-10-28T17:14:14.915859",
     "status": "completed"
    },
    "tags": []
   },
   "source": [
    "# Question 2\n",
    "\n",
    "The list `num_customers` contains the number of customers who came into your restaurant every day over the last month (which lasted thirty days).  Fill in values for each of the following:\n",
    "- `avg_first_seven` - average number of customers who visited in the first seven days\n",
    "- `avg_last_seven` - average number of customers who visited in the last seven days\n",
    "- `max_month` - number of customers on the day that got the most customers in the last month\n",
    "- `min_month` - number of customers on the day that got the least customers in the last month\n",
    "\n",
    "Answer this question by writing code.  For instance, if you have to find the minimum value in a list, use `min()` instead of scanning for the smallest value and directly filling in a number."
   ]
  },
  {
   "cell_type": "code",
   "execution_count": 4,
   "id": "49d8ac0e",
   "metadata": {
    "execution": {
     "iopub.execute_input": "2024-10-28T17:14:14.943642Z",
     "iopub.status.busy": "2024-10-28T17:14:14.943198Z",
     "iopub.status.idle": "2024-10-28T17:14:14.955004Z",
     "shell.execute_reply": "2024-10-28T17:14:14.953998Z"
    },
    "papermill": {
     "duration": 0.024356,
     "end_time": "2024-10-28T17:14:14.957345",
     "exception": false,
     "start_time": "2024-10-28T17:14:14.932989",
     "status": "completed"
    },
    "tags": []
   },
   "outputs": [
    {
     "data": {
      "application/javascript": [
       "parent.postMessage({\"jupyterEvent\": \"custom.exercise_interaction\", \"data\": {\"outcomeType\": 4, \"interactionType\": 1, \"questionType\": 1, \"questionId\": \"2_NumCustomers\", \"learnToolsVersion\": \"0.3.4\", \"valueTowardsCompletion\": 0.0, \"failureMessage\": \"\", \"exceptionClass\": \"\", \"trace\": \"\"}}, \"*\")"
      ],
      "text/plain": [
       "<IPython.core.display.Javascript object>"
      ]
     },
     "metadata": {},
     "output_type": "display_data"
    },
    {
     "data": {
      "text/markdown": [
       "<span style=\"color:#ccaa33\">Check:</span> When you've updated the starter code, `check()` will tell you whether your code is correct. You need to update the code that creates variables `avg_first_seven`, `avg_last_seven`, `max_month`, `min_month`"
      ],
      "text/plain": [
       "Check: When you've updated the starter code, `check()` will tell you whether your code is correct. You need to update the code that creates variables `avg_first_seven`, `avg_last_seven`, `max_month`, `min_month`"
      ]
     },
     "metadata": {},
     "output_type": "display_data"
    }
   ],
   "source": [
    "# Do not change: Number of customers each day for the last month\n",
    "num_customers = [137, 147, 135, 128, 170, 174, 165, 146, 126, 159,\n",
    "                 141, 148, 132, 147, 168, 153, 170, 161, 148, 152,\n",
    "                 141, 151, 131, 149, 164, 163, 143, 143, 166, 171]\n",
    "\n",
    "# TODO: Fill in values for the variables below\n",
    "avg_first_seven = sum(num_customers[:7])/7\n",
    "avg_last_seven = sum(num_customers[-7:])/7\n",
    "max_month = ____\n",
    "min_month = ____\n",
    "\n",
    "# Do not change: Check your answer\n",
    "q2.check()"
   ]
  },
  {
   "cell_type": "code",
   "execution_count": 5,
   "id": "ae2d4ad8",
   "metadata": {
    "execution": {
     "iopub.execute_input": "2024-10-28T17:14:14.977729Z",
     "iopub.status.busy": "2024-10-28T17:14:14.976369Z",
     "iopub.status.idle": "2024-10-28T17:14:14.981277Z",
     "shell.execute_reply": "2024-10-28T17:14:14.980479Z"
    },
    "papermill": {
     "duration": 0.017358,
     "end_time": "2024-10-28T17:14:14.983518",
     "exception": false,
     "start_time": "2024-10-28T17:14:14.966160",
     "status": "completed"
    },
    "tags": []
   },
   "outputs": [],
   "source": [
    "# Uncomment to see a hint\n",
    "#q2.hint()\n",
    "\n",
    "# Uncomment to see the solution\n",
    "#q2.solution()"
   ]
  },
  {
   "cell_type": "markdown",
   "id": "cc42dad9",
   "metadata": {
    "papermill": {
     "duration": 0.008747,
     "end_time": "2024-10-28T17:14:15.001248",
     "exception": false,
     "start_time": "2024-10-28T17:14:14.992501",
     "status": "completed"
    },
    "tags": []
   },
   "source": [
    "# Question 3\n",
    "\n",
    "In the tutorial, we gave an example of a Python string with information that was better as a list."
   ]
  },
  {
   "cell_type": "code",
   "execution_count": 6,
   "id": "08a4f8bc",
   "metadata": {
    "execution": {
     "iopub.execute_input": "2024-10-28T17:14:15.021219Z",
     "iopub.status.busy": "2024-10-28T17:14:15.020299Z",
     "iopub.status.idle": "2024-10-28T17:14:15.025380Z",
     "shell.execute_reply": "2024-10-28T17:14:15.024290Z"
    },
    "papermill": {
     "duration": 0.017848,
     "end_time": "2024-10-28T17:14:15.027973",
     "exception": false,
     "start_time": "2024-10-28T17:14:15.010125",
     "status": "completed"
    },
    "tags": []
   },
   "outputs": [],
   "source": [
    "flowers = \"pink primrose,hard-leaved pocket orchid,canterbury bells,sweet pea,english marigold,tiger lily,moon orchid,bird of paradise,monkshood,globe thistle\""
   ]
  },
  {
   "cell_type": "markdown",
   "id": "1500a409",
   "metadata": {
    "papermill": {
     "duration": 0.008993,
     "end_time": "2024-10-28T17:14:15.046214",
     "exception": false,
     "start_time": "2024-10-28T17:14:15.037221",
     "status": "completed"
    },
    "tags": []
   },
   "source": [
    "You can actually use Python to quickly turn this string into a list with `.split()`.  In the parentheses, we need to provide the character should be used to mark the end of one list item and the beginning of another, and enclose it in quotation marks.  In this case, that character is a comma."
   ]
  },
  {
   "cell_type": "code",
   "execution_count": 7,
   "id": "81d050b0",
   "metadata": {
    "execution": {
     "iopub.execute_input": "2024-10-28T17:14:15.066289Z",
     "iopub.status.busy": "2024-10-28T17:14:15.065329Z",
     "iopub.status.idle": "2024-10-28T17:14:15.071286Z",
     "shell.execute_reply": "2024-10-28T17:14:15.070328Z"
    },
    "papermill": {
     "duration": 0.018892,
     "end_time": "2024-10-28T17:14:15.073816",
     "exception": false,
     "start_time": "2024-10-28T17:14:15.054924",
     "status": "completed"
    },
    "tags": []
   },
   "outputs": [
    {
     "name": "stdout",
     "output_type": "stream",
     "text": [
      "['pink primrose', 'hard-leaved pocket orchid', 'canterbury bells', 'sweet pea', 'english marigold', 'tiger lily', 'moon orchid', 'bird of paradise', 'monkshood', 'globe thistle']\n"
     ]
    }
   ],
   "source": [
    " print(flowers.split(\",\"))"
   ]
  },
  {
   "cell_type": "markdown",
   "id": "cf30482e",
   "metadata": {
    "papermill": {
     "duration": 0.008963,
     "end_time": "2024-10-28T17:14:15.091992",
     "exception": false,
     "start_time": "2024-10-28T17:14:15.083029",
     "status": "completed"
    },
    "tags": []
   },
   "source": [
    "Now it is your turn to try this out!  Create two Python lists:\n",
    "- `letters` should be a Python list where each entry is an uppercase letter of the English alphabet.  For instance, the first two entries should be `\"A\"` and `\"B\"`, and the final two entries should be `\"Y\"` and `\"Z\"`.  Use the string `alphabet` to create this list.\n",
    "- `address` should be a Python list where each row in `address` is a different item in the list.  Currently, each row in `address` is separated by a comma. "
   ]
  },
  {
   "cell_type": "code",
   "execution_count": 8,
   "id": "07a797e9",
   "metadata": {
    "execution": {
     "iopub.execute_input": "2024-10-28T17:14:15.113532Z",
     "iopub.status.busy": "2024-10-28T17:14:15.112668Z",
     "iopub.status.idle": "2024-10-28T17:14:15.121902Z",
     "shell.execute_reply": "2024-10-28T17:14:15.120936Z"
    },
    "papermill": {
     "duration": 0.02203,
     "end_time": "2024-10-28T17:14:15.124331",
     "exception": false,
     "start_time": "2024-10-28T17:14:15.102301",
     "status": "completed"
    },
    "tags": []
   },
   "outputs": [
    {
     "data": {
      "application/javascript": [
       "parent.postMessage({\"jupyterEvent\": \"custom.exercise_interaction\", \"data\": {\"outcomeType\": 4, \"interactionType\": 1, \"questionType\": 1, \"questionId\": \"3_SplitString\", \"learnToolsVersion\": \"0.3.4\", \"valueTowardsCompletion\": 0.0, \"failureMessage\": \"\", \"exceptionClass\": \"\", \"trace\": \"\"}}, \"*\")"
      ],
      "text/plain": [
       "<IPython.core.display.Javascript object>"
      ]
     },
     "metadata": {},
     "output_type": "display_data"
    },
    {
     "data": {
      "text/markdown": [
       "<span style=\"color:#ccaa33\">Check:</span> When you've updated the starter code, `check()` will tell you whether your code is correct. You need to update the code that creates variables `letters`, `formatted_address`"
      ],
      "text/plain": [
       "Check: When you've updated the starter code, `check()` will tell you whether your code is correct. You need to update the code that creates variables `letters`, `formatted_address`"
      ]
     },
     "metadata": {},
     "output_type": "display_data"
    }
   ],
   "source": [
    "# DO not change: Define two Python strings\n",
    "alphabet = \"A.B.C.D.E.F.G.H.I.J.K.L.M.N.O.P.Q.R.S.T.U.V.W.X.Y.Z\"\n",
    "address = \"Mr. H. Potter,The cupboard under the Stairs,4 Privet Drive,Little Whinging,Surrey\"\n",
    "\n",
    "# TODO: Convert strings into Python lists\n",
    "letters = ____\n",
    "formatted_address = ____\n",
    "\n",
    "# Do not change: Check your answer\n",
    "q3.check()"
   ]
  },
  {
   "cell_type": "code",
   "execution_count": 9,
   "id": "052bf103",
   "metadata": {
    "execution": {
     "iopub.execute_input": "2024-10-28T17:14:15.144941Z",
     "iopub.status.busy": "2024-10-28T17:14:15.144211Z",
     "iopub.status.idle": "2024-10-28T17:14:15.148595Z",
     "shell.execute_reply": "2024-10-28T17:14:15.147645Z"
    },
    "papermill": {
     "duration": 0.017281,
     "end_time": "2024-10-28T17:14:15.150843",
     "exception": false,
     "start_time": "2024-10-28T17:14:15.133562",
     "status": "completed"
    },
    "tags": []
   },
   "outputs": [],
   "source": [
    "# Uncomment to see a hint\n",
    "#q3.hint()\n",
    "\n",
    "# Uncomment to see the solution\n",
    "#q3.solution()"
   ]
  },
  {
   "cell_type": "markdown",
   "id": "088d4638",
   "metadata": {
    "papermill": {
     "duration": 0.009084,
     "end_time": "2024-10-28T17:14:15.169222",
     "exception": false,
     "start_time": "2024-10-28T17:14:15.160138",
     "status": "completed"
    },
    "tags": []
   },
   "source": [
    "# Question 4\n",
    "\n",
    "In the Python course, you'll learn all about **list comprehensions**, which allow you to create a list based on the values in another list.  In this question, you'll get a brief preview of how they work.\n",
    "\n",
    "Say we're working with the list below."
   ]
  },
  {
   "cell_type": "code",
   "execution_count": 10,
   "id": "4709f16d",
   "metadata": {
    "execution": {
     "iopub.execute_input": "2024-10-28T17:14:15.189907Z",
     "iopub.status.busy": "2024-10-28T17:14:15.189028Z",
     "iopub.status.idle": "2024-10-28T17:14:15.193910Z",
     "shell.execute_reply": "2024-10-28T17:14:15.192868Z"
    },
    "papermill": {
     "duration": 0.017842,
     "end_time": "2024-10-28T17:14:15.196231",
     "exception": false,
     "start_time": "2024-10-28T17:14:15.178389",
     "status": "completed"
    },
    "tags": []
   },
   "outputs": [],
   "source": [
    "test_ratings = [1, 2, 3, 4, 5]"
   ]
  },
  {
   "cell_type": "markdown",
   "id": "90ad3448",
   "metadata": {
    "papermill": {
     "duration": 0.008876,
     "end_time": "2024-10-28T17:14:15.214812",
     "exception": false,
     "start_time": "2024-10-28T17:14:15.205936",
     "status": "completed"
    },
    "tags": []
   },
   "source": [
    "Then we can use this list (`test_ratings`) to create a new list (`test_liked`) where each item has been turned into a boolean, depending on whether or not the item is greater than or equal to four."
   ]
  },
  {
   "cell_type": "code",
   "execution_count": 11,
   "id": "5288378a",
   "metadata": {
    "execution": {
     "iopub.execute_input": "2024-10-28T17:14:15.235892Z",
     "iopub.status.busy": "2024-10-28T17:14:15.234889Z",
     "iopub.status.idle": "2024-10-28T17:14:15.240675Z",
     "shell.execute_reply": "2024-10-28T17:14:15.239641Z"
    },
    "papermill": {
     "duration": 0.019518,
     "end_time": "2024-10-28T17:14:15.243495",
     "exception": false,
     "start_time": "2024-10-28T17:14:15.223977",
     "status": "completed"
    },
    "tags": []
   },
   "outputs": [
    {
     "name": "stdout",
     "output_type": "stream",
     "text": [
      "[False, False, False, True, True]\n"
     ]
    }
   ],
   "source": [
    "test_liked = [i>=4 for i in test_ratings]\n",
    "print(test_liked)"
   ]
  },
  {
   "cell_type": "markdown",
   "id": "668b9ff5",
   "metadata": {
    "papermill": {
     "duration": 0.009805,
     "end_time": "2024-10-28T17:14:15.262795",
     "exception": false,
     "start_time": "2024-10-28T17:14:15.252990",
     "status": "completed"
    },
    "tags": []
   },
   "source": [
    "In this question, you'll use this list comprehension to define a function `percentage_liked()` that takes one argument as input:\n",
    "- `ratings`: list of ratings that people gave to a movie, where each rating is a number between 1-5, inclusive\n",
    "\n",
    "We say someone liked the movie, if they gave a rating of either 4 or 5.  Your function should return the percentage of people who liked the movie.\n",
    "\n",
    "For instance, if we supply a value of `[1, 2, 3, 4, 5, 4, 5, 1]`, then 50% (4/8) of the people liked the movie, and the function should return `0.5`.\n",
    "\n",
    "Part of the function has already been completed for you.  You need only use `list_liked` to calculate `percentage_liked`."
   ]
  },
  {
   "cell_type": "code",
   "execution_count": 12,
   "id": "32828ed4",
   "metadata": {
    "execution": {
     "iopub.execute_input": "2024-10-28T17:14:15.283598Z",
     "iopub.status.busy": "2024-10-28T17:14:15.283175Z",
     "iopub.status.idle": "2024-10-28T17:14:15.293709Z",
     "shell.execute_reply": "2024-10-28T17:14:15.292737Z"
    },
    "papermill": {
     "duration": 0.023844,
     "end_time": "2024-10-28T17:14:15.296176",
     "exception": false,
     "start_time": "2024-10-28T17:14:15.272332",
     "status": "completed"
    },
    "tags": []
   },
   "outputs": [
    {
     "data": {
      "application/javascript": [
       "parent.postMessage({\"jupyterEvent\": \"custom.exercise_interaction\", \"data\": {\"outcomeType\": 2, \"failureMessage\": \"Expected return value of `0.5` given `ratings=[1, 2, 3, 4, 5, 4, 5, 1]`, but got `<learntools.core.constants.PlaceholderValue object at 0x7dadcd348a60>` instead.\", \"interactionType\": 1, \"questionType\": 2, \"questionId\": \"4_PercentageLiked\", \"learnToolsVersion\": \"0.3.4\", \"valueTowardsCompletion\": 0.0, \"exceptionClass\": \"\", \"trace\": \"\"}}, \"*\")"
      ],
      "text/plain": [
       "<IPython.core.display.Javascript object>"
      ]
     },
     "metadata": {},
     "output_type": "display_data"
    },
    {
     "data": {
      "text/markdown": [
       "<span style=\"color:#cc3333\">Incorrect:</span> Expected return value of `0.5` given `ratings=[1, 2, 3, 4, 5, 4, 5, 1]`, but got `<learntools.core.constants.PlaceholderValue object at 0x7dadcd348a60>` instead."
      ],
      "text/plain": [
       "Incorrect: Expected return value of `0.5` given `ratings=[1, 2, 3, 4, 5, 4, 5, 1]`, but got `<learntools.core.constants.PlaceholderValue object at 0x7dadcd348a60>` instead."
      ]
     },
     "metadata": {},
     "output_type": "display_data"
    }
   ],
   "source": [
    "\n",
    "def percentage_liked(ratings):\n",
    "    list_liked = [i>=4 for i in ratings]\n",
    "    # TODO: Complete the function\n",
    "    percentage_liked = ____\n",
    "    return percentage_liked\n",
    "\n",
    "# Do not change: should return 0.5\n",
    "percentage_liked([1, 2, 3, 4, 5, 4, 5, 1])\n",
    "\n",
    "# Do not change: Check your answer\n",
    "q4.check()"
   ]
  },
  {
   "cell_type": "code",
   "execution_count": 13,
   "id": "4aa40034",
   "metadata": {
    "execution": {
     "iopub.execute_input": "2024-10-28T17:14:15.317644Z",
     "iopub.status.busy": "2024-10-28T17:14:15.317210Z",
     "iopub.status.idle": "2024-10-28T17:14:15.322480Z",
     "shell.execute_reply": "2024-10-28T17:14:15.321448Z"
    },
    "papermill": {
     "duration": 0.018842,
     "end_time": "2024-10-28T17:14:15.324953",
     "exception": false,
     "start_time": "2024-10-28T17:14:15.306111",
     "status": "completed"
    },
    "tags": []
   },
   "outputs": [],
   "source": [
    "# Uncomment to see a hint\n",
    "#q4.hint()\n",
    "\n",
    "# Uncomment to see the solution\n",
    "#q4.solution()"
   ]
  },
  {
   "cell_type": "markdown",
   "id": "d2c6be95",
   "metadata": {
    "papermill": {
     "duration": 0.009994,
     "end_time": "2024-10-28T17:14:15.345017",
     "exception": false,
     "start_time": "2024-10-28T17:14:15.335023",
     "status": "completed"
    },
    "tags": []
   },
   "source": [
    "# 🌶️ Question 5\n",
    " \n",
    "Say you're doing analytics for a website.  You need to write a function that returns the percentage growth in the total number of users relative to a specified number of years ago.\n",
    "\n",
    "Your function `percentage_growth()` should take two arguments as input:\n",
    "- `num_users` = Python list with the total number of users each year.  So `num_users[0]` is the total number of users in the first year, `num_users[1]` is the total number of users in the second year, and so on.  The final entry in the list gives the total number of users in the most recently completed year.\n",
    "- `yrs_ago` = number of years to go back in time when calculating the growth percentage\n",
    "\n",
    "For instance, say `num_users = [920344, 1043553, 1204334, 1458996, 1503323, 1593432, 1623463, 1843064, 1930992, 2001078]`.\n",
    "- if `yrs_ago = 1`, we want the function to return a value of about `0.036`. This corresponds to a percentage growth of approximately 3.6%, calculated as (2001078 - 1930992)/1930992.\n",
    "- if `years_ago = 7`, we would want to return approximately `0.66`.  This corresponds to a percentage growth of approximately 66%, calculated as (2001078 - 1204334)/1204334.\n",
    "\n",
    "Your coworker sent you a draft of a function, but it doesn't seem to be doing the correct calculation.  Can you figure out what has gone wrong and make the needed changes?"
   ]
  },
  {
   "cell_type": "code",
   "execution_count": 14,
   "id": "12d1ceed",
   "metadata": {
    "execution": {
     "iopub.execute_input": "2024-10-28T17:14:15.367334Z",
     "iopub.status.busy": "2024-10-28T17:14:15.366335Z",
     "iopub.status.idle": "2024-10-28T17:14:15.378641Z",
     "shell.execute_reply": "2024-10-28T17:14:15.377668Z"
    },
    "papermill": {
     "duration": 0.026574,
     "end_time": "2024-10-28T17:14:15.381557",
     "exception": false,
     "start_time": "2024-10-28T17:14:15.354983",
     "status": "completed"
    },
    "tags": []
   },
   "outputs": [
    {
     "name": "stdout",
     "output_type": "stream",
     "text": [
      "0.0\n",
      "0.2807272117129434\n"
     ]
    },
    {
     "data": {
      "application/javascript": [
       "parent.postMessage({\"jupyterEvent\": \"custom.exercise_interaction\", \"data\": {\"outcomeType\": 2, \"failureMessage\": \"Expected return value of `0.03629533421163837` given `num_users=[920344, 1043553, 1204334, 1458996, 1503323, 1593432, 1623463, 1843064, 1930992, 2001078]`, `yrs_ago=1`, but got `0.0` instead.\", \"interactionType\": 1, \"questionType\": 2, \"questionId\": \"5_WebsiteAnalytics\", \"learnToolsVersion\": \"0.3.4\", \"valueTowardsCompletion\": 0.0, \"exceptionClass\": \"\", \"trace\": \"\"}}, \"*\")"
      ],
      "text/plain": [
       "<IPython.core.display.Javascript object>"
      ]
     },
     "metadata": {},
     "output_type": "display_data"
    },
    {
     "data": {
      "text/markdown": [
       "<span style=\"color:#cc3333\">Incorrect:</span> Expected return value of `0.03629533421163837` given `num_users=[920344, 1043553, 1204334, 1458996, 1503323, 1593432, 1623463, 1843064, 1930992, 2001078]`, `yrs_ago=1`, but got `0.0` instead."
      ],
      "text/plain": [
       "Incorrect: Expected return value of `0.03629533421163837` given `num_users=[920344, 1043553, 1204334, 1458996, 1503323, 1593432, 1623463, 1843064, 1930992, 2001078]`, `yrs_ago=1`, but got `0.0` instead."
      ]
     },
     "metadata": {},
     "output_type": "display_data"
    }
   ],
   "source": [
    "# TODO: Edit the function\n",
    "def percentage_growth(num_users, yrs_ago):\n",
    "    growth = (num_users[len(num_users)-1] - num_users[len(num_users)-yrs_ago])/num_users[len(num_users)-2]\n",
    "    return growth\n",
    "\n",
    "# Do not change: Variable for calculating some test examples\n",
    "num_users_test = [920344, 1043553, 1204334, 1458996, 1503323, 1593432, 1623463, 1843064, 1930992, 2001078]\n",
    "\n",
    "# Do not change: Should return .036\n",
    "print(percentage_growth(num_users_test, 1))\n",
    "\n",
    "# Do not change: Should return 0.66\n",
    "print(percentage_growth(num_users_test, 7))\n",
    "\n",
    "# Do not change: Check your answer\n",
    "q5.check()"
   ]
  },
  {
   "cell_type": "code",
   "execution_count": 15,
   "id": "e669239f",
   "metadata": {
    "execution": {
     "iopub.execute_input": "2024-10-28T17:14:15.404702Z",
     "iopub.status.busy": "2024-10-28T17:14:15.403639Z",
     "iopub.status.idle": "2024-10-28T17:14:15.408513Z",
     "shell.execute_reply": "2024-10-28T17:14:15.407468Z"
    },
    "papermill": {
     "duration": 0.018885,
     "end_time": "2024-10-28T17:14:15.410856",
     "exception": false,
     "start_time": "2024-10-28T17:14:15.391971",
     "status": "completed"
    },
    "tags": []
   },
   "outputs": [],
   "source": [
    "# Uncomment to see a hint\n",
    "#q5.hint()\n",
    "\n",
    "# Uncomment to see the solution\n",
    "#q5.solution()"
   ]
  },
  {
   "cell_type": "markdown",
   "id": "b0ec0174",
   "metadata": {
    "papermill": {
     "duration": 0.010257,
     "end_time": "2024-10-28T17:14:15.431453",
     "exception": false,
     "start_time": "2024-10-28T17:14:15.421196",
     "status": "completed"
    },
    "tags": []
   },
   "source": [
    "# Congratulations!\n",
    "\n",
    "Congratulations for finishing the Intro to Programming course!  You should be proud of your very first steps with learning programming.  As next steps, we recommend taking:\n",
    "- the **[Python course](http://www.kaggle.com/learn/python)**, and \n",
    "- the **[Intro to Machine Learning course](https://www.kaggle.com/learn/intro-to-machine-learning)**."
   ]
  },
  {
   "cell_type": "markdown",
   "id": "a1b530fe",
   "metadata": {
    "papermill": {
     "duration": 0.010165,
     "end_time": "2024-10-28T17:14:15.452104",
     "exception": false,
     "start_time": "2024-10-28T17:14:15.441939",
     "status": "completed"
    },
    "tags": []
   },
   "source": [
    "---\n",
    "\n",
    "\n",
    "\n",
    "\n",
    "*Have questions or comments? Visit the [course discussion forum](https://www.kaggle.com/learn/intro-to-programming/discussion) to chat with other learners.*"
   ]
  }
 ],
 "metadata": {
  "kaggle": {
   "accelerator": "none",
   "dataSources": [],
   "isGpuEnabled": false,
   "isInternetEnabled": false,
   "language": "python",
   "sourceType": "notebook"
  },
  "kernelspec": {
   "display_name": "Python 3",
   "language": "python",
   "name": "python3"
  },
  "language_info": {
   "codemirror_mode": {
    "name": "ipython",
    "version": 3
   },
   "file_extension": ".py",
   "mimetype": "text/x-python",
   "name": "python",
   "nbconvert_exporter": "python",
   "pygments_lexer": "ipython3",
   "version": "3.10.14"
  },
  "papermill": {
   "default_parameters": {},
   "duration": 4.896118,
   "end_time": "2024-10-28T17:14:15.883278",
   "environment_variables": {},
   "exception": null,
   "input_path": "__notebook__.ipynb",
   "output_path": "__notebook__.ipynb",
   "parameters": {},
   "start_time": "2024-10-28T17:14:10.987160",
   "version": "2.6.0"
  }
 },
 "nbformat": 4,
 "nbformat_minor": 5
}
