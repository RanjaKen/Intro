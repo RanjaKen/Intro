{
 "cells": [
  {
   "cell_type": "markdown",
   "id": "0a85a1c2",
   "metadata": {
    "papermill": {
     "duration": 0.006777,
     "end_time": "2024-10-28T17:16:47.687524",
     "exception": false,
     "start_time": "2024-10-28T17:16:47.680747",
     "status": "completed"
    },
    "tags": []
   },
   "source": [
    "**This notebook is an exercise in the [Intro to Programming](https://www.kaggle.com/learn/intro-to-programming) course.  You can reference the tutorial at [this link](https://www.kaggle.com/alexisbcook/intro-to-lists).**\n",
    "\n",
    "---\n"
   ]
  },
  {
   "cell_type": "markdown",
   "id": "74b1d606",
   "metadata": {
    "papermill": {
     "duration": 0.006056,
     "end_time": "2024-10-28T17:16:47.700639",
     "exception": false,
     "start_time": "2024-10-28T17:16:47.694583",
     "status": "completed"
    },
    "tags": []
   },
   "source": [
    "In the tutorial, you learned how to define and modify Python lists.  In this exercise, you will use your new knowledge to solve several problems.\n",
    "\n",
    "# Set up the notebook\n",
    "\n",
    "Run the next code cell without changes to set up the notebook."
   ]
  },
  {
   "cell_type": "code",
   "execution_count": 1,
   "id": "db11f4a6",
   "metadata": {
    "execution": {
     "iopub.execute_input": "2024-10-28T17:16:47.714976Z",
     "iopub.status.busy": "2024-10-28T17:16:47.714471Z",
     "iopub.status.idle": "2024-10-28T17:16:48.667153Z",
     "shell.execute_reply": "2024-10-28T17:16:48.665857Z"
    },
    "papermill": {
     "duration": 0.96292,
     "end_time": "2024-10-28T17:16:48.669738",
     "exception": false,
     "start_time": "2024-10-28T17:16:47.706818",
     "status": "completed"
    },
    "tags": []
   },
   "outputs": [
    {
     "name": "stdout",
     "output_type": "stream",
     "text": [
      "Setup complete.\n"
     ]
    }
   ],
   "source": [
    "from learntools.core import binder\n",
    "binder.bind(globals())\n",
    "from learntools.intro_to_programming.ex5 import *\n",
    "print('Setup complete.')"
   ]
  },
  {
   "cell_type": "markdown",
   "id": "66fdf23c",
   "metadata": {
    "papermill": {
     "duration": 0.006301,
     "end_time": "2024-10-28T17:16:48.682462",
     "exception": false,
     "start_time": "2024-10-28T17:16:48.676161",
     "status": "completed"
    },
    "tags": []
   },
   "source": [
    "# Question 1\n",
    "\n",
    "You own a restaurant with five food dishes, organized in the Python list `menu` below.  One day, you decide to:\n",
    "- remove bean soup (`'bean soup'`) from the menu, and\n",
    "- add roasted beet salad (`'roasted beet salad'`) to the menu.\n",
    "\n",
    "Implement this change to the list below.  While completing this task, \n",
    "- do not change the line that creates the `menu` list.  \n",
    "- your answer should use `.remove()` and `.append()`.  "
   ]
  },
  {
   "cell_type": "code",
   "execution_count": 2,
   "id": "fcde3076",
   "metadata": {
    "execution": {
     "iopub.execute_input": "2024-10-28T17:16:48.696733Z",
     "iopub.status.busy": "2024-10-28T17:16:48.696167Z",
     "iopub.status.idle": "2024-10-28T17:16:48.707708Z",
     "shell.execute_reply": "2024-10-28T17:16:48.706628Z"
    },
    "papermill": {
     "duration": 0.021385,
     "end_time": "2024-10-28T17:16:48.710072",
     "exception": false,
     "start_time": "2024-10-28T17:16:48.688687",
     "status": "completed"
    },
    "tags": []
   },
   "outputs": [
    {
     "data": {
      "application/javascript": [
       "parent.postMessage({\"jupyterEvent\": \"custom.exercise_interaction\", \"data\": {\"outcomeType\": 1, \"valueTowardsCompletion\": 0.2, \"interactionType\": 1, \"questionType\": 2, \"questionId\": \"1_FoodMenu\", \"learnToolsVersion\": \"0.3.4\", \"failureMessage\": \"\", \"exceptionClass\": \"\", \"trace\": \"\"}}, \"*\")"
      ],
      "text/plain": [
       "<IPython.core.display.Javascript object>"
      ]
     },
     "metadata": {},
     "output_type": "display_data"
    },
    {
     "data": {
      "text/markdown": [
       "<span style=\"color:#33cc33\">Correct</span>"
      ],
      "text/plain": [
       "Correct"
      ]
     },
     "metadata": {},
     "output_type": "display_data"
    }
   ],
   "source": [
    "# Do not change: Initial menu for your restaurant\n",
    "menu = ['stewed meat with onions', 'bean soup', 'risotto with trout and shrimp',\n",
    "       'fish soup with cream and onion', 'gyro']\n",
    "\n",
    "# TODO: remove 'bean soup', and add 'roasted beet salad' to the end of the menu\n",
    "menu.remove(\"bean soup\")\n",
    "menu.append(\"roasted beet salad\")\n",
    "\n",
    "# Do not change: Check your answer\n",
    "q1.check()"
   ]
  },
  {
   "cell_type": "code",
   "execution_count": 3,
   "id": "be254f57",
   "metadata": {
    "execution": {
     "iopub.execute_input": "2024-10-28T17:16:48.726522Z",
     "iopub.status.busy": "2024-10-28T17:16:48.726088Z",
     "iopub.status.idle": "2024-10-28T17:16:48.731689Z",
     "shell.execute_reply": "2024-10-28T17:16:48.730460Z"
    },
    "papermill": {
     "duration": 0.016317,
     "end_time": "2024-10-28T17:16:48.734091",
     "exception": false,
     "start_time": "2024-10-28T17:16:48.717774",
     "status": "completed"
    },
    "tags": []
   },
   "outputs": [],
   "source": [
    "# Uncomment to see a hint\n",
    "#q1.hint()\n",
    "\n",
    "# Uncomment to see the solution\n",
    "#q1.solution()"
   ]
  },
  {
   "cell_type": "markdown",
   "id": "0204eb6f",
   "metadata": {
    "papermill": {
     "duration": 0.00636,
     "end_time": "2024-10-28T17:16:48.747031",
     "exception": false,
     "start_time": "2024-10-28T17:16:48.740671",
     "status": "completed"
    },
    "tags": []
   },
   "source": [
    "# Question 2\n",
    "\n",
    "The list `num_customers` contains the number of customers who came into your restaurant every day over the last month (which lasted thirty days).  Fill in values for each of the following:\n",
    "- `avg_first_seven` - average number of customers who visited in the first seven days\n",
    "- `avg_last_seven` - average number of customers who visited in the last seven days\n",
    "- `max_month` - number of customers on the day that got the most customers in the last month\n",
    "- `min_month` - number of customers on the day that got the least customers in the last month\n",
    "\n",
    "Answer this question by writing code.  For instance, if you have to find the minimum value in a list, use `min()` instead of scanning for the smallest value and directly filling in a number."
   ]
  },
  {
   "cell_type": "code",
   "execution_count": 4,
   "id": "3779076d",
   "metadata": {
    "execution": {
     "iopub.execute_input": "2024-10-28T17:16:48.761586Z",
     "iopub.status.busy": "2024-10-28T17:16:48.761138Z",
     "iopub.status.idle": "2024-10-28T17:16:48.772545Z",
     "shell.execute_reply": "2024-10-28T17:16:48.771352Z"
    },
    "papermill": {
     "duration": 0.021505,
     "end_time": "2024-10-28T17:16:48.774909",
     "exception": false,
     "start_time": "2024-10-28T17:16:48.753404",
     "status": "completed"
    },
    "tags": []
   },
   "outputs": [
    {
     "data": {
      "application/javascript": [
       "parent.postMessage({\"jupyterEvent\": \"custom.exercise_interaction\", \"data\": {\"outcomeType\": 1, \"valueTowardsCompletion\": 0.2, \"interactionType\": 1, \"questionType\": 1, \"questionId\": \"2_NumCustomers\", \"learnToolsVersion\": \"0.3.4\", \"failureMessage\": \"\", \"exceptionClass\": \"\", \"trace\": \"\"}}, \"*\")"
      ],
      "text/plain": [
       "<IPython.core.display.Javascript object>"
      ]
     },
     "metadata": {},
     "output_type": "display_data"
    },
    {
     "data": {
      "text/markdown": [
       "<span style=\"color:#33cc33\">Correct</span>"
      ],
      "text/plain": [
       "Correct"
      ]
     },
     "metadata": {},
     "output_type": "display_data"
    }
   ],
   "source": [
    "# Do not change: Number of customers each day for the last month\n",
    "num_customers = [137, 147, 135, 128, 170, 174, 165, 146, 126, 159,\n",
    "                 141, 148, 132, 147, 168, 153, 170, 161, 148, 152,\n",
    "                 141, 151, 131, 149, 164, 163, 143, 143, 166, 171]\n",
    "\n",
    "# TODO: Fill in values for the variables below\n",
    "avg_first_seven = sum(num_customers[:7])/7\n",
    "avg_last_seven = sum(num_customers[-7:])/7\n",
    "max_month = max(num_customers)\n",
    "min_month = min(num_customers)\n",
    "\n",
    "# Do not change: Check your answer\n",
    "q2.check()"
   ]
  },
  {
   "cell_type": "code",
   "execution_count": 5,
   "id": "8eaea53c",
   "metadata": {
    "execution": {
     "iopub.execute_input": "2024-10-28T17:16:48.790532Z",
     "iopub.status.busy": "2024-10-28T17:16:48.790088Z",
     "iopub.status.idle": "2024-10-28T17:16:48.795593Z",
     "shell.execute_reply": "2024-10-28T17:16:48.794416Z"
    },
    "papermill": {
     "duration": 0.016428,
     "end_time": "2024-10-28T17:16:48.798221",
     "exception": false,
     "start_time": "2024-10-28T17:16:48.781793",
     "status": "completed"
    },
    "tags": []
   },
   "outputs": [],
   "source": [
    "# Uncomment to see a hint\n",
    "#q2.hint()\n",
    "\n",
    "# Uncomment to see the solution\n",
    "#q2.solution()"
   ]
  },
  {
   "cell_type": "markdown",
   "id": "39eb7c52",
   "metadata": {
    "papermill": {
     "duration": 0.006657,
     "end_time": "2024-10-28T17:16:48.812064",
     "exception": false,
     "start_time": "2024-10-28T17:16:48.805407",
     "status": "completed"
    },
    "tags": []
   },
   "source": [
    "# Question 3\n",
    "\n",
    "In the tutorial, we gave an example of a Python string with information that was better as a list."
   ]
  },
  {
   "cell_type": "code",
   "execution_count": 6,
   "id": "54ab99e9",
   "metadata": {
    "execution": {
     "iopub.execute_input": "2024-10-28T17:16:48.827688Z",
     "iopub.status.busy": "2024-10-28T17:16:48.827281Z",
     "iopub.status.idle": "2024-10-28T17:16:48.832577Z",
     "shell.execute_reply": "2024-10-28T17:16:48.831383Z"
    },
    "papermill": {
     "duration": 0.01575,
     "end_time": "2024-10-28T17:16:48.834925",
     "exception": false,
     "start_time": "2024-10-28T17:16:48.819175",
     "status": "completed"
    },
    "tags": []
   },
   "outputs": [],
   "source": [
    "flowers = \"pink primrose,hard-leaved pocket orchid,canterbury bells,sweet pea,english marigold,tiger lily,moon orchid,bird of paradise,monkshood,globe thistle\""
   ]
  },
  {
   "cell_type": "markdown",
   "id": "5a28f686",
   "metadata": {
    "papermill": {
     "duration": 0.006698,
     "end_time": "2024-10-28T17:16:48.848423",
     "exception": false,
     "start_time": "2024-10-28T17:16:48.841725",
     "status": "completed"
    },
    "tags": []
   },
   "source": [
    "You can actually use Python to quickly turn this string into a list with `.split()`.  In the parentheses, we need to provide the character should be used to mark the end of one list item and the beginning of another, and enclose it in quotation marks.  In this case, that character is a comma."
   ]
  },
  {
   "cell_type": "code",
   "execution_count": 7,
   "id": "3617ba67",
   "metadata": {
    "execution": {
     "iopub.execute_input": "2024-10-28T17:16:48.864090Z",
     "iopub.status.busy": "2024-10-28T17:16:48.863670Z",
     "iopub.status.idle": "2024-10-28T17:16:48.869721Z",
     "shell.execute_reply": "2024-10-28T17:16:48.868430Z"
    },
    "papermill": {
     "duration": 0.017053,
     "end_time": "2024-10-28T17:16:48.872135",
     "exception": false,
     "start_time": "2024-10-28T17:16:48.855082",
     "status": "completed"
    },
    "tags": []
   },
   "outputs": [
    {
     "name": "stdout",
     "output_type": "stream",
     "text": [
      "['pink primrose', 'hard-leaved pocket orchid', 'canterbury bells', 'sweet pea', 'english marigold', 'tiger lily', 'moon orchid', 'bird of paradise', 'monkshood', 'globe thistle']\n"
     ]
    }
   ],
   "source": [
    " print(flowers.split(\",\"))"
   ]
  },
  {
   "cell_type": "markdown",
   "id": "976fb9c1",
   "metadata": {
    "papermill": {
     "duration": 0.007403,
     "end_time": "2024-10-28T17:16:48.886418",
     "exception": false,
     "start_time": "2024-10-28T17:16:48.879015",
     "status": "completed"
    },
    "tags": []
   },
   "source": [
    "Now it is your turn to try this out!  Create two Python lists:\n",
    "- `letters` should be a Python list where each entry is an uppercase letter of the English alphabet.  For instance, the first two entries should be `\"A\"` and `\"B\"`, and the final two entries should be `\"Y\"` and `\"Z\"`.  Use the string `alphabet` to create this list.\n",
    "- `address` should be a Python list where each row in `address` is a different item in the list.  Currently, each row in `address` is separated by a comma. "
   ]
  },
  {
   "cell_type": "code",
   "execution_count": 8,
   "id": "463e411f",
   "metadata": {
    "execution": {
     "iopub.execute_input": "2024-10-28T17:16:48.902720Z",
     "iopub.status.busy": "2024-10-28T17:16:48.901888Z",
     "iopub.status.idle": "2024-10-28T17:16:48.912013Z",
     "shell.execute_reply": "2024-10-28T17:16:48.910785Z"
    },
    "papermill": {
     "duration": 0.020693,
     "end_time": "2024-10-28T17:16:48.914409",
     "exception": false,
     "start_time": "2024-10-28T17:16:48.893716",
     "status": "completed"
    },
    "tags": []
   },
   "outputs": [
    {
     "data": {
      "application/javascript": [
       "parent.postMessage({\"jupyterEvent\": \"custom.exercise_interaction\", \"data\": {\"outcomeType\": 4, \"interactionType\": 1, \"questionType\": 1, \"questionId\": \"3_SplitString\", \"learnToolsVersion\": \"0.3.4\", \"valueTowardsCompletion\": 0.0, \"failureMessage\": \"\", \"exceptionClass\": \"\", \"trace\": \"\"}}, \"*\")"
      ],
      "text/plain": [
       "<IPython.core.display.Javascript object>"
      ]
     },
     "metadata": {},
     "output_type": "display_data"
    },
    {
     "data": {
      "text/markdown": [
       "<span style=\"color:#ccaa33\">Check:</span> When you've updated the starter code, `check()` will tell you whether your code is correct. You need to update the code that creates variables `letters`, `formatted_address`"
      ],
      "text/plain": [
       "Check: When you've updated the starter code, `check()` will tell you whether your code is correct. You need to update the code that creates variables `letters`, `formatted_address`"
      ]
     },
     "metadata": {},
     "output_type": "display_data"
    }
   ],
   "source": [
    "# DO not change: Define two Python strings\n",
    "alphabet = \"A.B.C.D.E.F.G.H.I.J.K.L.M.N.O.P.Q.R.S.T.U.V.W.X.Y.Z\"\n",
    "address = \"Mr. H. Potter,The cupboard under the Stairs,4 Privet Drive,Little Whinging,Surrey\"\n",
    "\n",
    "# TODO: Convert strings into Python lists\n",
    "letters = alphabet.split(\".\")\n",
    "formatted_address = ____\n",
    "\n",
    "# Do not change: Check your answer\n",
    "q3.check()"
   ]
  },
  {
   "cell_type": "code",
   "execution_count": 9,
   "id": "4e1df672",
   "metadata": {
    "execution": {
     "iopub.execute_input": "2024-10-28T17:16:48.930461Z",
     "iopub.status.busy": "2024-10-28T17:16:48.930001Z",
     "iopub.status.idle": "2024-10-28T17:16:48.934858Z",
     "shell.execute_reply": "2024-10-28T17:16:48.933671Z"
    },
    "papermill": {
     "duration": 0.01586,
     "end_time": "2024-10-28T17:16:48.937401",
     "exception": false,
     "start_time": "2024-10-28T17:16:48.921541",
     "status": "completed"
    },
    "tags": []
   },
   "outputs": [],
   "source": [
    "# Uncomment to see a hint\n",
    "#q3.hint()\n",
    "\n",
    "# Uncomment to see the solution\n",
    "#q3.solution()"
   ]
  },
  {
   "cell_type": "markdown",
   "id": "e3aa3f73",
   "metadata": {
    "papermill": {
     "duration": 0.007109,
     "end_time": "2024-10-28T17:16:48.951703",
     "exception": false,
     "start_time": "2024-10-28T17:16:48.944594",
     "status": "completed"
    },
    "tags": []
   },
   "source": [
    "# Question 4\n",
    "\n",
    "In the Python course, you'll learn all about **list comprehensions**, which allow you to create a list based on the values in another list.  In this question, you'll get a brief preview of how they work.\n",
    "\n",
    "Say we're working with the list below."
   ]
  },
  {
   "cell_type": "code",
   "execution_count": 10,
   "id": "41146c9a",
   "metadata": {
    "execution": {
     "iopub.execute_input": "2024-10-28T17:16:48.968606Z",
     "iopub.status.busy": "2024-10-28T17:16:48.967149Z",
     "iopub.status.idle": "2024-10-28T17:16:48.973288Z",
     "shell.execute_reply": "2024-10-28T17:16:48.972149Z"
    },
    "papermill": {
     "duration": 0.017084,
     "end_time": "2024-10-28T17:16:48.975853",
     "exception": false,
     "start_time": "2024-10-28T17:16:48.958769",
     "status": "completed"
    },
    "tags": []
   },
   "outputs": [],
   "source": [
    "test_ratings = [1, 2, 3, 4, 5]"
   ]
  },
  {
   "cell_type": "markdown",
   "id": "136fe350",
   "metadata": {
    "papermill": {
     "duration": 0.006855,
     "end_time": "2024-10-28T17:16:48.989788",
     "exception": false,
     "start_time": "2024-10-28T17:16:48.982933",
     "status": "completed"
    },
    "tags": []
   },
   "source": [
    "Then we can use this list (`test_ratings`) to create a new list (`test_liked`) where each item has been turned into a boolean, depending on whether or not the item is greater than or equal to four."
   ]
  },
  {
   "cell_type": "code",
   "execution_count": 11,
   "id": "1fdd65d6",
   "metadata": {
    "execution": {
     "iopub.execute_input": "2024-10-28T17:16:49.006021Z",
     "iopub.status.busy": "2024-10-28T17:16:49.005542Z",
     "iopub.status.idle": "2024-10-28T17:16:49.012189Z",
     "shell.execute_reply": "2024-10-28T17:16:49.010886Z"
    },
    "papermill": {
     "duration": 0.017646,
     "end_time": "2024-10-28T17:16:49.014451",
     "exception": false,
     "start_time": "2024-10-28T17:16:48.996805",
     "status": "completed"
    },
    "tags": []
   },
   "outputs": [
    {
     "name": "stdout",
     "output_type": "stream",
     "text": [
      "[False, False, False, True, True]\n"
     ]
    }
   ],
   "source": [
    "test_liked = [i>=4 for i in test_ratings]\n",
    "print(test_liked)"
   ]
  },
  {
   "cell_type": "markdown",
   "id": "21fc2b50",
   "metadata": {
    "papermill": {
     "duration": 0.006746,
     "end_time": "2024-10-28T17:16:49.028393",
     "exception": false,
     "start_time": "2024-10-28T17:16:49.021647",
     "status": "completed"
    },
    "tags": []
   },
   "source": [
    "In this question, you'll use this list comprehension to define a function `percentage_liked()` that takes one argument as input:\n",
    "- `ratings`: list of ratings that people gave to a movie, where each rating is a number between 1-5, inclusive\n",
    "\n",
    "We say someone liked the movie, if they gave a rating of either 4 or 5.  Your function should return the percentage of people who liked the movie.\n",
    "\n",
    "For instance, if we supply a value of `[1, 2, 3, 4, 5, 4, 5, 1]`, then 50% (4/8) of the people liked the movie, and the function should return `0.5`.\n",
    "\n",
    "Part of the function has already been completed for you.  You need only use `list_liked` to calculate `percentage_liked`."
   ]
  },
  {
   "cell_type": "code",
   "execution_count": 12,
   "id": "78100be0",
   "metadata": {
    "execution": {
     "iopub.execute_input": "2024-10-28T17:16:49.044472Z",
     "iopub.status.busy": "2024-10-28T17:16:49.043953Z",
     "iopub.status.idle": "2024-10-28T17:16:49.055520Z",
     "shell.execute_reply": "2024-10-28T17:16:49.054359Z"
    },
    "papermill": {
     "duration": 0.022743,
     "end_time": "2024-10-28T17:16:49.058214",
     "exception": false,
     "start_time": "2024-10-28T17:16:49.035471",
     "status": "completed"
    },
    "tags": []
   },
   "outputs": [
    {
     "data": {
      "application/javascript": [
       "parent.postMessage({\"jupyterEvent\": \"custom.exercise_interaction\", \"data\": {\"outcomeType\": 2, \"failureMessage\": \"Expected return value of `0.5` given `ratings=[1, 2, 3, 4, 5, 4, 5, 1]`, but got `<learntools.core.constants.PlaceholderValue object at 0x7e134b940a30>` instead.\", \"interactionType\": 1, \"questionType\": 2, \"questionId\": \"4_PercentageLiked\", \"learnToolsVersion\": \"0.3.4\", \"valueTowardsCompletion\": 0.0, \"exceptionClass\": \"\", \"trace\": \"\"}}, \"*\")"
      ],
      "text/plain": [
       "<IPython.core.display.Javascript object>"
      ]
     },
     "metadata": {},
     "output_type": "display_data"
    },
    {
     "data": {
      "text/markdown": [
       "<span style=\"color:#cc3333\">Incorrect:</span> Expected return value of `0.5` given `ratings=[1, 2, 3, 4, 5, 4, 5, 1]`, but got `<learntools.core.constants.PlaceholderValue object at 0x7e134b940a30>` instead."
      ],
      "text/plain": [
       "Incorrect: Expected return value of `0.5` given `ratings=[1, 2, 3, 4, 5, 4, 5, 1]`, but got `<learntools.core.constants.PlaceholderValue object at 0x7e134b940a30>` instead."
      ]
     },
     "metadata": {},
     "output_type": "display_data"
    }
   ],
   "source": [
    "\n",
    "def percentage_liked(ratings):\n",
    "    list_liked = [i>=4 for i in ratings]\n",
    "    # TODO: Complete the function\n",
    "    percentage_liked = ____\n",
    "    return percentage_liked\n",
    "\n",
    "# Do not change: should return 0.5\n",
    "percentage_liked([1, 2, 3, 4, 5, 4, 5, 1])\n",
    "\n",
    "# Do not change: Check your answer\n",
    "q4.check()"
   ]
  },
  {
   "cell_type": "code",
   "execution_count": 13,
   "id": "92bd5322",
   "metadata": {
    "execution": {
     "iopub.execute_input": "2024-10-28T17:16:49.074996Z",
     "iopub.status.busy": "2024-10-28T17:16:49.074602Z",
     "iopub.status.idle": "2024-10-28T17:16:49.079525Z",
     "shell.execute_reply": "2024-10-28T17:16:49.078268Z"
    },
    "papermill": {
     "duration": 0.016351,
     "end_time": "2024-10-28T17:16:49.082133",
     "exception": false,
     "start_time": "2024-10-28T17:16:49.065782",
     "status": "completed"
    },
    "tags": []
   },
   "outputs": [],
   "source": [
    "# Uncomment to see a hint\n",
    "#q4.hint()\n",
    "\n",
    "# Uncomment to see the solution\n",
    "#q4.solution()"
   ]
  },
  {
   "cell_type": "markdown",
   "id": "5821261e",
   "metadata": {
    "papermill": {
     "duration": 0.007672,
     "end_time": "2024-10-28T17:16:49.097479",
     "exception": false,
     "start_time": "2024-10-28T17:16:49.089807",
     "status": "completed"
    },
    "tags": []
   },
   "source": [
    "# 🌶️ Question 5\n",
    " \n",
    "Say you're doing analytics for a website.  You need to write a function that returns the percentage growth in the total number of users relative to a specified number of years ago.\n",
    "\n",
    "Your function `percentage_growth()` should take two arguments as input:\n",
    "- `num_users` = Python list with the total number of users each year.  So `num_users[0]` is the total number of users in the first year, `num_users[1]` is the total number of users in the second year, and so on.  The final entry in the list gives the total number of users in the most recently completed year.\n",
    "- `yrs_ago` = number of years to go back in time when calculating the growth percentage\n",
    "\n",
    "For instance, say `num_users = [920344, 1043553, 1204334, 1458996, 1503323, 1593432, 1623463, 1843064, 1930992, 2001078]`.\n",
    "- if `yrs_ago = 1`, we want the function to return a value of about `0.036`. This corresponds to a percentage growth of approximately 3.6%, calculated as (2001078 - 1930992)/1930992.\n",
    "- if `years_ago = 7`, we would want to return approximately `0.66`.  This corresponds to a percentage growth of approximately 66%, calculated as (2001078 - 1204334)/1204334.\n",
    "\n",
    "Your coworker sent you a draft of a function, but it doesn't seem to be doing the correct calculation.  Can you figure out what has gone wrong and make the needed changes?"
   ]
  },
  {
   "cell_type": "code",
   "execution_count": 14,
   "id": "306d7b0b",
   "metadata": {
    "execution": {
     "iopub.execute_input": "2024-10-28T17:16:49.115432Z",
     "iopub.status.busy": "2024-10-28T17:16:49.114182Z",
     "iopub.status.idle": "2024-10-28T17:16:49.127666Z",
     "shell.execute_reply": "2024-10-28T17:16:49.126519Z"
    },
    "papermill": {
     "duration": 0.025095,
     "end_time": "2024-10-28T17:16:49.130011",
     "exception": false,
     "start_time": "2024-10-28T17:16:49.104916",
     "status": "completed"
    },
    "tags": []
   },
   "outputs": [
    {
     "name": "stdout",
     "output_type": "stream",
     "text": [
      "0.0\n",
      "0.2807272117129434\n"
     ]
    },
    {
     "data": {
      "application/javascript": [
       "parent.postMessage({\"jupyterEvent\": \"custom.exercise_interaction\", \"data\": {\"outcomeType\": 2, \"failureMessage\": \"Expected return value of `0.03629533421163837` given `num_users=[920344, 1043553, 1204334, 1458996, 1503323, 1593432, 1623463, 1843064, 1930992, 2001078]`, `yrs_ago=1`, but got `0.0` instead.\", \"interactionType\": 1, \"questionType\": 2, \"questionId\": \"5_WebsiteAnalytics\", \"learnToolsVersion\": \"0.3.4\", \"valueTowardsCompletion\": 0.0, \"exceptionClass\": \"\", \"trace\": \"\"}}, \"*\")"
      ],
      "text/plain": [
       "<IPython.core.display.Javascript object>"
      ]
     },
     "metadata": {},
     "output_type": "display_data"
    },
    {
     "data": {
      "text/markdown": [
       "<span style=\"color:#cc3333\">Incorrect:</span> Expected return value of `0.03629533421163837` given `num_users=[920344, 1043553, 1204334, 1458996, 1503323, 1593432, 1623463, 1843064, 1930992, 2001078]`, `yrs_ago=1`, but got `0.0` instead."
      ],
      "text/plain": [
       "Incorrect: Expected return value of `0.03629533421163837` given `num_users=[920344, 1043553, 1204334, 1458996, 1503323, 1593432, 1623463, 1843064, 1930992, 2001078]`, `yrs_ago=1`, but got `0.0` instead."
      ]
     },
     "metadata": {},
     "output_type": "display_data"
    }
   ],
   "source": [
    "# TODO: Edit the function\n",
    "def percentage_growth(num_users, yrs_ago):\n",
    "    growth = (num_users[len(num_users)-1] - num_users[len(num_users)-yrs_ago])/num_users[len(num_users)-2]\n",
    "    return growth\n",
    "\n",
    "# Do not change: Variable for calculating some test examples\n",
    "num_users_test = [920344, 1043553, 1204334, 1458996, 1503323, 1593432, 1623463, 1843064, 1930992, 2001078]\n",
    "\n",
    "# Do not change: Should return .036\n",
    "print(percentage_growth(num_users_test, 1))\n",
    "\n",
    "# Do not change: Should return 0.66\n",
    "print(percentage_growth(num_users_test, 7))\n",
    "\n",
    "# Do not change: Check your answer\n",
    "q5.check()"
   ]
  },
  {
   "cell_type": "code",
   "execution_count": 15,
   "id": "c8bde28e",
   "metadata": {
    "execution": {
     "iopub.execute_input": "2024-10-28T17:16:49.148683Z",
     "iopub.status.busy": "2024-10-28T17:16:49.148243Z",
     "iopub.status.idle": "2024-10-28T17:16:49.153410Z",
     "shell.execute_reply": "2024-10-28T17:16:49.152171Z"
    },
    "papermill": {
     "duration": 0.01792,
     "end_time": "2024-10-28T17:16:49.155747",
     "exception": false,
     "start_time": "2024-10-28T17:16:49.137827",
     "status": "completed"
    },
    "tags": []
   },
   "outputs": [],
   "source": [
    "# Uncomment to see a hint\n",
    "#q5.hint()\n",
    "\n",
    "# Uncomment to see the solution\n",
    "#q5.solution()"
   ]
  },
  {
   "cell_type": "markdown",
   "id": "75ac52a7",
   "metadata": {
    "papermill": {
     "duration": 0.007544,
     "end_time": "2024-10-28T17:16:49.171092",
     "exception": false,
     "start_time": "2024-10-28T17:16:49.163548",
     "status": "completed"
    },
    "tags": []
   },
   "source": [
    "# Congratulations!\n",
    "\n",
    "Congratulations for finishing the Intro to Programming course!  You should be proud of your very first steps with learning programming.  As next steps, we recommend taking:\n",
    "- the **[Python course](http://www.kaggle.com/learn/python)**, and \n",
    "- the **[Intro to Machine Learning course](https://www.kaggle.com/learn/intro-to-machine-learning)**."
   ]
  },
  {
   "cell_type": "markdown",
   "id": "7c7880fb",
   "metadata": {
    "papermill": {
     "duration": 0.008194,
     "end_time": "2024-10-28T17:16:49.188936",
     "exception": false,
     "start_time": "2024-10-28T17:16:49.180742",
     "status": "completed"
    },
    "tags": []
   },
   "source": [
    "---\n",
    "\n",
    "\n",
    "\n",
    "\n",
    "*Have questions or comments? Visit the [course discussion forum](https://www.kaggle.com/learn/intro-to-programming/discussion) to chat with other learners.*"
   ]
  }
 ],
 "metadata": {
  "kaggle": {
   "accelerator": "none",
   "dataSources": [],
   "isGpuEnabled": false,
   "isInternetEnabled": false,
   "language": "python",
   "sourceType": "notebook"
  },
  "kernelspec": {
   "display_name": "Python 3",
   "language": "python",
   "name": "python3"
  },
  "language_info": {
   "codemirror_mode": {
    "name": "ipython",
    "version": 3
   },
   "file_extension": ".py",
   "mimetype": "text/x-python",
   "name": "python",
   "nbconvert_exporter": "python",
   "pygments_lexer": "ipython3",
   "version": "3.10.14"
  },
  "papermill": {
   "default_parameters": {},
   "duration": 4.938643,
   "end_time": "2024-10-28T17:16:49.719320",
   "environment_variables": {},
   "exception": null,
   "input_path": "__notebook__.ipynb",
   "output_path": "__notebook__.ipynb",
   "parameters": {},
   "start_time": "2024-10-28T17:16:44.780677",
   "version": "2.6.0"
  }
 },
 "nbformat": 4,
 "nbformat_minor": 5
}
