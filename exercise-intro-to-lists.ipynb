{
 "cells": [
  {
   "cell_type": "markdown",
   "id": "7c39ce9d",
   "metadata": {
    "papermill": {
     "duration": 0.007021,
     "end_time": "2024-10-28T17:14:45.686474",
     "exception": false,
     "start_time": "2024-10-28T17:14:45.679453",
     "status": "completed"
    },
    "tags": []
   },
   "source": [
    "**This notebook is an exercise in the [Intro to Programming](https://www.kaggle.com/learn/intro-to-programming) course.  You can reference the tutorial at [this link](https://www.kaggle.com/alexisbcook/intro-to-lists).**\n",
    "\n",
    "---\n"
   ]
  },
  {
   "cell_type": "markdown",
   "id": "a9c37ccb",
   "metadata": {
    "papermill": {
     "duration": 0.005612,
     "end_time": "2024-10-28T17:14:45.698811",
     "exception": false,
     "start_time": "2024-10-28T17:14:45.693199",
     "status": "completed"
    },
    "tags": []
   },
   "source": [
    "In the tutorial, you learned how to define and modify Python lists.  In this exercise, you will use your new knowledge to solve several problems.\n",
    "\n",
    "# Set up the notebook\n",
    "\n",
    "Run the next code cell without changes to set up the notebook."
   ]
  },
  {
   "cell_type": "code",
   "execution_count": 1,
   "id": "b6e73da8",
   "metadata": {
    "execution": {
     "iopub.execute_input": "2024-10-28T17:14:45.713861Z",
     "iopub.status.busy": "2024-10-28T17:14:45.712659Z",
     "iopub.status.idle": "2024-10-28T17:14:46.571832Z",
     "shell.execute_reply": "2024-10-28T17:14:46.570139Z"
    },
    "papermill": {
     "duration": 0.86961,
     "end_time": "2024-10-28T17:14:46.574320",
     "exception": false,
     "start_time": "2024-10-28T17:14:45.704710",
     "status": "completed"
    },
    "tags": []
   },
   "outputs": [
    {
     "name": "stdout",
     "output_type": "stream",
     "text": [
      "Setup complete.\n"
     ]
    }
   ],
   "source": [
    "from learntools.core import binder\n",
    "binder.bind(globals())\n",
    "from learntools.intro_to_programming.ex5 import *\n",
    "print('Setup complete.')"
   ]
  },
  {
   "cell_type": "markdown",
   "id": "c3e5647c",
   "metadata": {
    "papermill": {
     "duration": 0.005531,
     "end_time": "2024-10-28T17:14:46.585747",
     "exception": false,
     "start_time": "2024-10-28T17:14:46.580216",
     "status": "completed"
    },
    "tags": []
   },
   "source": [
    "# Question 1\n",
    "\n",
    "You own a restaurant with five food dishes, organized in the Python list `menu` below.  One day, you decide to:\n",
    "- remove bean soup (`'bean soup'`) from the menu, and\n",
    "- add roasted beet salad (`'roasted beet salad'`) to the menu.\n",
    "\n",
    "Implement this change to the list below.  While completing this task, \n",
    "- do not change the line that creates the `menu` list.  \n",
    "- your answer should use `.remove()` and `.append()`.  "
   ]
  },
  {
   "cell_type": "code",
   "execution_count": 2,
   "id": "dc14b229",
   "metadata": {
    "execution": {
     "iopub.execute_input": "2024-10-28T17:14:46.600425Z",
     "iopub.status.busy": "2024-10-28T17:14:46.598773Z",
     "iopub.status.idle": "2024-10-28T17:14:46.612796Z",
     "shell.execute_reply": "2024-10-28T17:14:46.611533Z"
    },
    "papermill": {
     "duration": 0.023296,
     "end_time": "2024-10-28T17:14:46.614864",
     "exception": false,
     "start_time": "2024-10-28T17:14:46.591568",
     "status": "completed"
    },
    "tags": []
   },
   "outputs": [
    {
     "data": {
      "application/javascript": [
       "parent.postMessage({\"jupyterEvent\": \"custom.exercise_interaction\", \"data\": {\"outcomeType\": 1, \"valueTowardsCompletion\": 0.2, \"interactionType\": 1, \"questionType\": 2, \"questionId\": \"1_FoodMenu\", \"learnToolsVersion\": \"0.3.4\", \"failureMessage\": \"\", \"exceptionClass\": \"\", \"trace\": \"\"}}, \"*\")"
      ],
      "text/plain": [
       "<IPython.core.display.Javascript object>"
      ]
     },
     "metadata": {},
     "output_type": "display_data"
    },
    {
     "data": {
      "text/markdown": [
       "<span style=\"color:#33cc33\">Correct</span>"
      ],
      "text/plain": [
       "Correct"
      ]
     },
     "metadata": {},
     "output_type": "display_data"
    }
   ],
   "source": [
    "# Do not change: Initial menu for your restaurant\n",
    "menu = ['stewed meat with onions', 'bean soup', 'risotto with trout and shrimp',\n",
    "       'fish soup with cream and onion', 'gyro']\n",
    "\n",
    "# TODO: remove 'bean soup', and add 'roasted beet salad' to the end of the menu\n",
    "menu.remove(\"bean soup\")\n",
    "menu.append(\"roasted beet salad\")\n",
    "\n",
    "# Do not change: Check your answer\n",
    "q1.check()"
   ]
  },
  {
   "cell_type": "code",
   "execution_count": 3,
   "id": "00f19fe2",
   "metadata": {
    "execution": {
     "iopub.execute_input": "2024-10-28T17:14:46.630370Z",
     "iopub.status.busy": "2024-10-28T17:14:46.629922Z",
     "iopub.status.idle": "2024-10-28T17:14:46.635373Z",
     "shell.execute_reply": "2024-10-28T17:14:46.634231Z"
    },
    "papermill": {
     "duration": 0.015504,
     "end_time": "2024-10-28T17:14:46.637653",
     "exception": false,
     "start_time": "2024-10-28T17:14:46.622149",
     "status": "completed"
    },
    "tags": []
   },
   "outputs": [],
   "source": [
    "# Uncomment to see a hint\n",
    "#q1.hint()\n",
    "\n",
    "# Uncomment to see the solution\n",
    "#q1.solution()"
   ]
  },
  {
   "cell_type": "markdown",
   "id": "7c100749",
   "metadata": {
    "papermill": {
     "duration": 0.005808,
     "end_time": "2024-10-28T17:14:46.649572",
     "exception": false,
     "start_time": "2024-10-28T17:14:46.643764",
     "status": "completed"
    },
    "tags": []
   },
   "source": [
    "# Question 2\n",
    "\n",
    "The list `num_customers` contains the number of customers who came into your restaurant every day over the last month (which lasted thirty days).  Fill in values for each of the following:\n",
    "- `avg_first_seven` - average number of customers who visited in the first seven days\n",
    "- `avg_last_seven` - average number of customers who visited in the last seven days\n",
    "- `max_month` - number of customers on the day that got the most customers in the last month\n",
    "- `min_month` - number of customers on the day that got the least customers in the last month\n",
    "\n",
    "Answer this question by writing code.  For instance, if you have to find the minimum value in a list, use `min()` instead of scanning for the smallest value and directly filling in a number."
   ]
  },
  {
   "cell_type": "code",
   "execution_count": 4,
   "id": "702b330d",
   "metadata": {
    "execution": {
     "iopub.execute_input": "2024-10-28T17:14:46.663768Z",
     "iopub.status.busy": "2024-10-28T17:14:46.663407Z",
     "iopub.status.idle": "2024-10-28T17:14:46.675658Z",
     "shell.execute_reply": "2024-10-28T17:14:46.674369Z"
    },
    "papermill": {
     "duration": 0.021973,
     "end_time": "2024-10-28T17:14:46.677981",
     "exception": false,
     "start_time": "2024-10-28T17:14:46.656008",
     "status": "completed"
    },
    "tags": []
   },
   "outputs": [
    {
     "data": {
      "application/javascript": [
       "parent.postMessage({\"jupyterEvent\": \"custom.exercise_interaction\", \"data\": {\"outcomeType\": 4, \"interactionType\": 1, \"questionType\": 1, \"questionId\": \"2_NumCustomers\", \"learnToolsVersion\": \"0.3.4\", \"valueTowardsCompletion\": 0.0, \"failureMessage\": \"\", \"exceptionClass\": \"\", \"trace\": \"\"}}, \"*\")"
      ],
      "text/plain": [
       "<IPython.core.display.Javascript object>"
      ]
     },
     "metadata": {},
     "output_type": "display_data"
    },
    {
     "data": {
      "text/markdown": [
       "<span style=\"color:#ccaa33\">Check:</span> When you've updated the starter code, `check()` will tell you whether your code is correct. You need to update the code that creates variables `avg_first_seven`, `avg_last_seven`, `max_month`, `min_month`"
      ],
      "text/plain": [
       "Check: When you've updated the starter code, `check()` will tell you whether your code is correct. You need to update the code that creates variables `avg_first_seven`, `avg_last_seven`, `max_month`, `min_month`"
      ]
     },
     "metadata": {},
     "output_type": "display_data"
    }
   ],
   "source": [
    "# Do not change: Number of customers each day for the last month\n",
    "num_customers = [137, 147, 135, 128, 170, 174, 165, 146, 126, 159,\n",
    "                 141, 148, 132, 147, 168, 153, 170, 161, 148, 152,\n",
    "                 141, 151, 131, 149, 164, 163, 143, 143, 166, 171]\n",
    "\n",
    "# TODO: Fill in values for the variables below\n",
    "avg_first_seven = sum(num_customers[:7])/7\n",
    "avg_last_seven = sum(num_customers[-7:])/7\n",
    "max_month = max(num_customers)\n",
    "min_month = ____\n",
    "\n",
    "# Do not change: Check your answer\n",
    "q2.check()"
   ]
  },
  {
   "cell_type": "code",
   "execution_count": 5,
   "id": "223787d8",
   "metadata": {
    "execution": {
     "iopub.execute_input": "2024-10-28T17:14:46.692834Z",
     "iopub.status.busy": "2024-10-28T17:14:46.692464Z",
     "iopub.status.idle": "2024-10-28T17:14:46.697959Z",
     "shell.execute_reply": "2024-10-28T17:14:46.696558Z"
    },
    "papermill": {
     "duration": 0.015893,
     "end_time": "2024-10-28T17:14:46.700514",
     "exception": false,
     "start_time": "2024-10-28T17:14:46.684621",
     "status": "completed"
    },
    "tags": []
   },
   "outputs": [],
   "source": [
    "# Uncomment to see a hint\n",
    "#q2.hint()\n",
    "\n",
    "# Uncomment to see the solution\n",
    "#q2.solution()"
   ]
  },
  {
   "cell_type": "markdown",
   "id": "c9265d1c",
   "metadata": {
    "papermill": {
     "duration": 0.006451,
     "end_time": "2024-10-28T17:14:46.713596",
     "exception": false,
     "start_time": "2024-10-28T17:14:46.707145",
     "status": "completed"
    },
    "tags": []
   },
   "source": [
    "# Question 3\n",
    "\n",
    "In the tutorial, we gave an example of a Python string with information that was better as a list."
   ]
  },
  {
   "cell_type": "code",
   "execution_count": 6,
   "id": "131cf629",
   "metadata": {
    "execution": {
     "iopub.execute_input": "2024-10-28T17:14:46.728355Z",
     "iopub.status.busy": "2024-10-28T17:14:46.727955Z",
     "iopub.status.idle": "2024-10-28T17:14:46.732938Z",
     "shell.execute_reply": "2024-10-28T17:14:46.731963Z"
    },
    "papermill": {
     "duration": 0.01495,
     "end_time": "2024-10-28T17:14:46.735093",
     "exception": false,
     "start_time": "2024-10-28T17:14:46.720143",
     "status": "completed"
    },
    "tags": []
   },
   "outputs": [],
   "source": [
    "flowers = \"pink primrose,hard-leaved pocket orchid,canterbury bells,sweet pea,english marigold,tiger lily,moon orchid,bird of paradise,monkshood,globe thistle\""
   ]
  },
  {
   "cell_type": "markdown",
   "id": "554ba32b",
   "metadata": {
    "papermill": {
     "duration": 0.006246,
     "end_time": "2024-10-28T17:14:46.747913",
     "exception": false,
     "start_time": "2024-10-28T17:14:46.741667",
     "status": "completed"
    },
    "tags": []
   },
   "source": [
    "You can actually use Python to quickly turn this string into a list with `.split()`.  In the parentheses, we need to provide the character should be used to mark the end of one list item and the beginning of another, and enclose it in quotation marks.  In this case, that character is a comma."
   ]
  },
  {
   "cell_type": "code",
   "execution_count": 7,
   "id": "f5934106",
   "metadata": {
    "execution": {
     "iopub.execute_input": "2024-10-28T17:14:46.762541Z",
     "iopub.status.busy": "2024-10-28T17:14:46.762140Z",
     "iopub.status.idle": "2024-10-28T17:14:46.767303Z",
     "shell.execute_reply": "2024-10-28T17:14:46.766351Z"
    },
    "papermill": {
     "duration": 0.015313,
     "end_time": "2024-10-28T17:14:46.769744",
     "exception": false,
     "start_time": "2024-10-28T17:14:46.754431",
     "status": "completed"
    },
    "tags": []
   },
   "outputs": [
    {
     "name": "stdout",
     "output_type": "stream",
     "text": [
      "['pink primrose', 'hard-leaved pocket orchid', 'canterbury bells', 'sweet pea', 'english marigold', 'tiger lily', 'moon orchid', 'bird of paradise', 'monkshood', 'globe thistle']\n"
     ]
    }
   ],
   "source": [
    " print(flowers.split(\",\"))"
   ]
  },
  {
   "cell_type": "markdown",
   "id": "212061d3",
   "metadata": {
    "papermill": {
     "duration": 0.006355,
     "end_time": "2024-10-28T17:14:46.782774",
     "exception": false,
     "start_time": "2024-10-28T17:14:46.776419",
     "status": "completed"
    },
    "tags": []
   },
   "source": [
    "Now it is your turn to try this out!  Create two Python lists:\n",
    "- `letters` should be a Python list where each entry is an uppercase letter of the English alphabet.  For instance, the first two entries should be `\"A\"` and `\"B\"`, and the final two entries should be `\"Y\"` and `\"Z\"`.  Use the string `alphabet` to create this list.\n",
    "- `address` should be a Python list where each row in `address` is a different item in the list.  Currently, each row in `address` is separated by a comma. "
   ]
  },
  {
   "cell_type": "code",
   "execution_count": 8,
   "id": "d3500750",
   "metadata": {
    "execution": {
     "iopub.execute_input": "2024-10-28T17:14:46.798429Z",
     "iopub.status.busy": "2024-10-28T17:14:46.798012Z",
     "iopub.status.idle": "2024-10-28T17:14:46.808347Z",
     "shell.execute_reply": "2024-10-28T17:14:46.806900Z"
    },
    "papermill": {
     "duration": 0.021,
     "end_time": "2024-10-28T17:14:46.811006",
     "exception": false,
     "start_time": "2024-10-28T17:14:46.790006",
     "status": "completed"
    },
    "tags": []
   },
   "outputs": [
    {
     "data": {
      "application/javascript": [
       "parent.postMessage({\"jupyterEvent\": \"custom.exercise_interaction\", \"data\": {\"outcomeType\": 4, \"interactionType\": 1, \"questionType\": 1, \"questionId\": \"3_SplitString\", \"learnToolsVersion\": \"0.3.4\", \"valueTowardsCompletion\": 0.0, \"failureMessage\": \"\", \"exceptionClass\": \"\", \"trace\": \"\"}}, \"*\")"
      ],
      "text/plain": [
       "<IPython.core.display.Javascript object>"
      ]
     },
     "metadata": {},
     "output_type": "display_data"
    },
    {
     "data": {
      "text/markdown": [
       "<span style=\"color:#ccaa33\">Check:</span> When you've updated the starter code, `check()` will tell you whether your code is correct. You need to update the code that creates variables `letters`, `formatted_address`"
      ],
      "text/plain": [
       "Check: When you've updated the starter code, `check()` will tell you whether your code is correct. You need to update the code that creates variables `letters`, `formatted_address`"
      ]
     },
     "metadata": {},
     "output_type": "display_data"
    }
   ],
   "source": [
    "# DO not change: Define two Python strings\n",
    "alphabet = \"A.B.C.D.E.F.G.H.I.J.K.L.M.N.O.P.Q.R.S.T.U.V.W.X.Y.Z\"\n",
    "address = \"Mr. H. Potter,The cupboard under the Stairs,4 Privet Drive,Little Whinging,Surrey\"\n",
    "\n",
    "# TODO: Convert strings into Python lists\n",
    "letters = ____\n",
    "formatted_address = ____\n",
    "\n",
    "# Do not change: Check your answer\n",
    "q3.check()"
   ]
  },
  {
   "cell_type": "code",
   "execution_count": 9,
   "id": "d981a1da",
   "metadata": {
    "execution": {
     "iopub.execute_input": "2024-10-28T17:14:46.826376Z",
     "iopub.status.busy": "2024-10-28T17:14:46.825948Z",
     "iopub.status.idle": "2024-10-28T17:14:46.830976Z",
     "shell.execute_reply": "2024-10-28T17:14:46.829819Z"
    },
    "papermill": {
     "duration": 0.01555,
     "end_time": "2024-10-28T17:14:46.833332",
     "exception": false,
     "start_time": "2024-10-28T17:14:46.817782",
     "status": "completed"
    },
    "tags": []
   },
   "outputs": [],
   "source": [
    "# Uncomment to see a hint\n",
    "#q3.hint()\n",
    "\n",
    "# Uncomment to see the solution\n",
    "#q3.solution()"
   ]
  },
  {
   "cell_type": "markdown",
   "id": "86daa457",
   "metadata": {
    "papermill": {
     "duration": 0.006485,
     "end_time": "2024-10-28T17:14:46.846442",
     "exception": false,
     "start_time": "2024-10-28T17:14:46.839957",
     "status": "completed"
    },
    "tags": []
   },
   "source": [
    "# Question 4\n",
    "\n",
    "In the Python course, you'll learn all about **list comprehensions**, which allow you to create a list based on the values in another list.  In this question, you'll get a brief preview of how they work.\n",
    "\n",
    "Say we're working with the list below."
   ]
  },
  {
   "cell_type": "code",
   "execution_count": 10,
   "id": "a036114d",
   "metadata": {
    "execution": {
     "iopub.execute_input": "2024-10-28T17:14:46.861797Z",
     "iopub.status.busy": "2024-10-28T17:14:46.861370Z",
     "iopub.status.idle": "2024-10-28T17:14:46.866951Z",
     "shell.execute_reply": "2024-10-28T17:14:46.865833Z"
    },
    "papermill": {
     "duration": 0.016071,
     "end_time": "2024-10-28T17:14:46.869436",
     "exception": false,
     "start_time": "2024-10-28T17:14:46.853365",
     "status": "completed"
    },
    "tags": []
   },
   "outputs": [],
   "source": [
    "test_ratings = [1, 2, 3, 4, 5]"
   ]
  },
  {
   "cell_type": "markdown",
   "id": "5dd1b431",
   "metadata": {
    "papermill": {
     "duration": 0.00644,
     "end_time": "2024-10-28T17:14:46.882718",
     "exception": false,
     "start_time": "2024-10-28T17:14:46.876278",
     "status": "completed"
    },
    "tags": []
   },
   "source": [
    "Then we can use this list (`test_ratings`) to create a new list (`test_liked`) where each item has been turned into a boolean, depending on whether or not the item is greater than or equal to four."
   ]
  },
  {
   "cell_type": "code",
   "execution_count": 11,
   "id": "b0628f77",
   "metadata": {
    "execution": {
     "iopub.execute_input": "2024-10-28T17:14:46.898559Z",
     "iopub.status.busy": "2024-10-28T17:14:46.897457Z",
     "iopub.status.idle": "2024-10-28T17:14:46.903568Z",
     "shell.execute_reply": "2024-10-28T17:14:46.902155Z"
    },
    "papermill": {
     "duration": 0.016661,
     "end_time": "2024-10-28T17:14:46.906005",
     "exception": false,
     "start_time": "2024-10-28T17:14:46.889344",
     "status": "completed"
    },
    "tags": []
   },
   "outputs": [
    {
     "name": "stdout",
     "output_type": "stream",
     "text": [
      "[False, False, False, True, True]\n"
     ]
    }
   ],
   "source": [
    "test_liked = [i>=4 for i in test_ratings]\n",
    "print(test_liked)"
   ]
  },
  {
   "cell_type": "markdown",
   "id": "1819cf63",
   "metadata": {
    "papermill": {
     "duration": 0.00641,
     "end_time": "2024-10-28T17:14:46.919172",
     "exception": false,
     "start_time": "2024-10-28T17:14:46.912762",
     "status": "completed"
    },
    "tags": []
   },
   "source": [
    "In this question, you'll use this list comprehension to define a function `percentage_liked()` that takes one argument as input:\n",
    "- `ratings`: list of ratings that people gave to a movie, where each rating is a number between 1-5, inclusive\n",
    "\n",
    "We say someone liked the movie, if they gave a rating of either 4 or 5.  Your function should return the percentage of people who liked the movie.\n",
    "\n",
    "For instance, if we supply a value of `[1, 2, 3, 4, 5, 4, 5, 1]`, then 50% (4/8) of the people liked the movie, and the function should return `0.5`.\n",
    "\n",
    "Part of the function has already been completed for you.  You need only use `list_liked` to calculate `percentage_liked`."
   ]
  },
  {
   "cell_type": "code",
   "execution_count": 12,
   "id": "aec4b5e5",
   "metadata": {
    "execution": {
     "iopub.execute_input": "2024-10-28T17:14:46.934740Z",
     "iopub.status.busy": "2024-10-28T17:14:46.934337Z",
     "iopub.status.idle": "2024-10-28T17:14:46.945007Z",
     "shell.execute_reply": "2024-10-28T17:14:46.943990Z"
    },
    "papermill": {
     "duration": 0.021325,
     "end_time": "2024-10-28T17:14:46.947226",
     "exception": false,
     "start_time": "2024-10-28T17:14:46.925901",
     "status": "completed"
    },
    "tags": []
   },
   "outputs": [
    {
     "data": {
      "application/javascript": [
       "parent.postMessage({\"jupyterEvent\": \"custom.exercise_interaction\", \"data\": {\"outcomeType\": 2, \"failureMessage\": \"Expected return value of `0.5` given `ratings=[1, 2, 3, 4, 5, 4, 5, 1]`, but got `<learntools.core.constants.PlaceholderValue object at 0x7af0053b0a00>` instead.\", \"interactionType\": 1, \"questionType\": 2, \"questionId\": \"4_PercentageLiked\", \"learnToolsVersion\": \"0.3.4\", \"valueTowardsCompletion\": 0.0, \"exceptionClass\": \"\", \"trace\": \"\"}}, \"*\")"
      ],
      "text/plain": [
       "<IPython.core.display.Javascript object>"
      ]
     },
     "metadata": {},
     "output_type": "display_data"
    },
    {
     "data": {
      "text/markdown": [
       "<span style=\"color:#cc3333\">Incorrect:</span> Expected return value of `0.5` given `ratings=[1, 2, 3, 4, 5, 4, 5, 1]`, but got `<learntools.core.constants.PlaceholderValue object at 0x7af0053b0a00>` instead."
      ],
      "text/plain": [
       "Incorrect: Expected return value of `0.5` given `ratings=[1, 2, 3, 4, 5, 4, 5, 1]`, but got `<learntools.core.constants.PlaceholderValue object at 0x7af0053b0a00>` instead."
      ]
     },
     "metadata": {},
     "output_type": "display_data"
    }
   ],
   "source": [
    "\n",
    "def percentage_liked(ratings):\n",
    "    list_liked = [i>=4 for i in ratings]\n",
    "    # TODO: Complete the function\n",
    "    percentage_liked = ____\n",
    "    return percentage_liked\n",
    "\n",
    "# Do not change: should return 0.5\n",
    "percentage_liked([1, 2, 3, 4, 5, 4, 5, 1])\n",
    "\n",
    "# Do not change: Check your answer\n",
    "q4.check()"
   ]
  },
  {
   "cell_type": "code",
   "execution_count": 13,
   "id": "ce56aa80",
   "metadata": {
    "execution": {
     "iopub.execute_input": "2024-10-28T17:14:46.963378Z",
     "iopub.status.busy": "2024-10-28T17:14:46.962469Z",
     "iopub.status.idle": "2024-10-28T17:14:46.967623Z",
     "shell.execute_reply": "2024-10-28T17:14:46.966170Z"
    },
    "papermill": {
     "duration": 0.01601,
     "end_time": "2024-10-28T17:14:46.970217",
     "exception": false,
     "start_time": "2024-10-28T17:14:46.954207",
     "status": "completed"
    },
    "tags": []
   },
   "outputs": [],
   "source": [
    "# Uncomment to see a hint\n",
    "#q4.hint()\n",
    "\n",
    "# Uncomment to see the solution\n",
    "#q4.solution()"
   ]
  },
  {
   "cell_type": "markdown",
   "id": "9e7c1189",
   "metadata": {
    "papermill": {
     "duration": 0.007124,
     "end_time": "2024-10-28T17:14:46.984556",
     "exception": false,
     "start_time": "2024-10-28T17:14:46.977432",
     "status": "completed"
    },
    "tags": []
   },
   "source": [
    "# 🌶️ Question 5\n",
    " \n",
    "Say you're doing analytics for a website.  You need to write a function that returns the percentage growth in the total number of users relative to a specified number of years ago.\n",
    "\n",
    "Your function `percentage_growth()` should take two arguments as input:\n",
    "- `num_users` = Python list with the total number of users each year.  So `num_users[0]` is the total number of users in the first year, `num_users[1]` is the total number of users in the second year, and so on.  The final entry in the list gives the total number of users in the most recently completed year.\n",
    "- `yrs_ago` = number of years to go back in time when calculating the growth percentage\n",
    "\n",
    "For instance, say `num_users = [920344, 1043553, 1204334, 1458996, 1503323, 1593432, 1623463, 1843064, 1930992, 2001078]`.\n",
    "- if `yrs_ago = 1`, we want the function to return a value of about `0.036`. This corresponds to a percentage growth of approximately 3.6%, calculated as (2001078 - 1930992)/1930992.\n",
    "- if `years_ago = 7`, we would want to return approximately `0.66`.  This corresponds to a percentage growth of approximately 66%, calculated as (2001078 - 1204334)/1204334.\n",
    "\n",
    "Your coworker sent you a draft of a function, but it doesn't seem to be doing the correct calculation.  Can you figure out what has gone wrong and make the needed changes?"
   ]
  },
  {
   "cell_type": "code",
   "execution_count": 14,
   "id": "81a1992b",
   "metadata": {
    "execution": {
     "iopub.execute_input": "2024-10-28T17:14:47.001698Z",
     "iopub.status.busy": "2024-10-28T17:14:47.000490Z",
     "iopub.status.idle": "2024-10-28T17:14:47.012758Z",
     "shell.execute_reply": "2024-10-28T17:14:47.011474Z"
    },
    "papermill": {
     "duration": 0.023288,
     "end_time": "2024-10-28T17:14:47.015236",
     "exception": false,
     "start_time": "2024-10-28T17:14:46.991948",
     "status": "completed"
    },
    "tags": []
   },
   "outputs": [
    {
     "name": "stdout",
     "output_type": "stream",
     "text": [
      "0.0\n",
      "0.2807272117129434\n"
     ]
    },
    {
     "data": {
      "application/javascript": [
       "parent.postMessage({\"jupyterEvent\": \"custom.exercise_interaction\", \"data\": {\"outcomeType\": 2, \"failureMessage\": \"Expected return value of `0.03629533421163837` given `num_users=[920344, 1043553, 1204334, 1458996, 1503323, 1593432, 1623463, 1843064, 1930992, 2001078]`, `yrs_ago=1`, but got `0.0` instead.\", \"interactionType\": 1, \"questionType\": 2, \"questionId\": \"5_WebsiteAnalytics\", \"learnToolsVersion\": \"0.3.4\", \"valueTowardsCompletion\": 0.0, \"exceptionClass\": \"\", \"trace\": \"\"}}, \"*\")"
      ],
      "text/plain": [
       "<IPython.core.display.Javascript object>"
      ]
     },
     "metadata": {},
     "output_type": "display_data"
    },
    {
     "data": {
      "text/markdown": [
       "<span style=\"color:#cc3333\">Incorrect:</span> Expected return value of `0.03629533421163837` given `num_users=[920344, 1043553, 1204334, 1458996, 1503323, 1593432, 1623463, 1843064, 1930992, 2001078]`, `yrs_ago=1`, but got `0.0` instead."
      ],
      "text/plain": [
       "Incorrect: Expected return value of `0.03629533421163837` given `num_users=[920344, 1043553, 1204334, 1458996, 1503323, 1593432, 1623463, 1843064, 1930992, 2001078]`, `yrs_ago=1`, but got `0.0` instead."
      ]
     },
     "metadata": {},
     "output_type": "display_data"
    }
   ],
   "source": [
    "# TODO: Edit the function\n",
    "def percentage_growth(num_users, yrs_ago):\n",
    "    growth = (num_users[len(num_users)-1] - num_users[len(num_users)-yrs_ago])/num_users[len(num_users)-2]\n",
    "    return growth\n",
    "\n",
    "# Do not change: Variable for calculating some test examples\n",
    "num_users_test = [920344, 1043553, 1204334, 1458996, 1503323, 1593432, 1623463, 1843064, 1930992, 2001078]\n",
    "\n",
    "# Do not change: Should return .036\n",
    "print(percentage_growth(num_users_test, 1))\n",
    "\n",
    "# Do not change: Should return 0.66\n",
    "print(percentage_growth(num_users_test, 7))\n",
    "\n",
    "# Do not change: Check your answer\n",
    "q5.check()"
   ]
  },
  {
   "cell_type": "code",
   "execution_count": 15,
   "id": "3bb26b20",
   "metadata": {
    "execution": {
     "iopub.execute_input": "2024-10-28T17:14:47.031723Z",
     "iopub.status.busy": "2024-10-28T17:14:47.031369Z",
     "iopub.status.idle": "2024-10-28T17:14:47.036211Z",
     "shell.execute_reply": "2024-10-28T17:14:47.035085Z"
    },
    "papermill": {
     "duration": 0.015812,
     "end_time": "2024-10-28T17:14:47.038569",
     "exception": false,
     "start_time": "2024-10-28T17:14:47.022757",
     "status": "completed"
    },
    "tags": []
   },
   "outputs": [],
   "source": [
    "# Uncomment to see a hint\n",
    "#q5.hint()\n",
    "\n",
    "# Uncomment to see the solution\n",
    "#q5.solution()"
   ]
  },
  {
   "cell_type": "markdown",
   "id": "b5a3713c",
   "metadata": {
    "papermill": {
     "duration": 0.007253,
     "end_time": "2024-10-28T17:14:47.053261",
     "exception": false,
     "start_time": "2024-10-28T17:14:47.046008",
     "status": "completed"
    },
    "tags": []
   },
   "source": [
    "# Congratulations!\n",
    "\n",
    "Congratulations for finishing the Intro to Programming course!  You should be proud of your very first steps with learning programming.  As next steps, we recommend taking:\n",
    "- the **[Python course](http://www.kaggle.com/learn/python)**, and \n",
    "- the **[Intro to Machine Learning course](https://www.kaggle.com/learn/intro-to-machine-learning)**."
   ]
  },
  {
   "cell_type": "markdown",
   "id": "e1346184",
   "metadata": {
    "papermill": {
     "duration": 0.007027,
     "end_time": "2024-10-28T17:14:47.067731",
     "exception": false,
     "start_time": "2024-10-28T17:14:47.060704",
     "status": "completed"
    },
    "tags": []
   },
   "source": [
    "---\n",
    "\n",
    "\n",
    "\n",
    "\n",
    "*Have questions or comments? Visit the [course discussion forum](https://www.kaggle.com/learn/intro-to-programming/discussion) to chat with other learners.*"
   ]
  }
 ],
 "metadata": {
  "kaggle": {
   "accelerator": "none",
   "dataSources": [],
   "isGpuEnabled": false,
   "isInternetEnabled": false,
   "language": "python",
   "sourceType": "notebook"
  },
  "kernelspec": {
   "display_name": "Python 3",
   "language": "python",
   "name": "python3"
  },
  "language_info": {
   "codemirror_mode": {
    "name": "ipython",
    "version": 3
   },
   "file_extension": ".py",
   "mimetype": "text/x-python",
   "name": "python",
   "nbconvert_exporter": "python",
   "pygments_lexer": "ipython3",
   "version": "3.10.14"
  },
  "papermill": {
   "default_parameters": {},
   "duration": 4.458104,
   "end_time": "2024-10-28T17:14:47.497914",
   "environment_variables": {},
   "exception": null,
   "input_path": "__notebook__.ipynb",
   "output_path": "__notebook__.ipynb",
   "parameters": {},
   "start_time": "2024-10-28T17:14:43.039810",
   "version": "2.6.0"
  }
 },
 "nbformat": 4,
 "nbformat_minor": 5
}
