{
 "cells": [
  {
   "cell_type": "markdown",
   "id": "961045e4",
   "metadata": {
    "papermill": {
     "duration": 0.007498,
     "end_time": "2024-10-28T17:13:34.453896",
     "exception": false,
     "start_time": "2024-10-28T17:13:34.446398",
     "status": "completed"
    },
    "tags": []
   },
   "source": [
    "**This notebook is an exercise in the [Intro to Programming](https://www.kaggle.com/learn/intro-to-programming) course.  You can reference the tutorial at [this link](https://www.kaggle.com/alexisbcook/intro-to-lists).**\n",
    "\n",
    "---\n"
   ]
  },
  {
   "cell_type": "markdown",
   "id": "905aa0c6",
   "metadata": {
    "papermill": {
     "duration": 0.005963,
     "end_time": "2024-10-28T17:13:34.466361",
     "exception": false,
     "start_time": "2024-10-28T17:13:34.460398",
     "status": "completed"
    },
    "tags": []
   },
   "source": [
    "In the tutorial, you learned how to define and modify Python lists.  In this exercise, you will use your new knowledge to solve several problems.\n",
    "\n",
    "# Set up the notebook\n",
    "\n",
    "Run the next code cell without changes to set up the notebook."
   ]
  },
  {
   "cell_type": "code",
   "execution_count": 1,
   "id": "074f20a6",
   "metadata": {
    "execution": {
     "iopub.execute_input": "2024-10-28T17:13:34.480991Z",
     "iopub.status.busy": "2024-10-28T17:13:34.480567Z",
     "iopub.status.idle": "2024-10-28T17:13:35.504268Z",
     "shell.execute_reply": "2024-10-28T17:13:35.502869Z"
    },
    "papermill": {
     "duration": 1.034492,
     "end_time": "2024-10-28T17:13:35.507140",
     "exception": false,
     "start_time": "2024-10-28T17:13:34.472648",
     "status": "completed"
    },
    "tags": []
   },
   "outputs": [
    {
     "name": "stdout",
     "output_type": "stream",
     "text": [
      "Setup complete.\n"
     ]
    }
   ],
   "source": [
    "from learntools.core import binder\n",
    "binder.bind(globals())\n",
    "from learntools.intro_to_programming.ex5 import *\n",
    "print('Setup complete.')"
   ]
  },
  {
   "cell_type": "markdown",
   "id": "5800e692",
   "metadata": {
    "papermill": {
     "duration": 0.006036,
     "end_time": "2024-10-28T17:13:35.519699",
     "exception": false,
     "start_time": "2024-10-28T17:13:35.513663",
     "status": "completed"
    },
    "tags": []
   },
   "source": [
    "# Question 1\n",
    "\n",
    "You own a restaurant with five food dishes, organized in the Python list `menu` below.  One day, you decide to:\n",
    "- remove bean soup (`'bean soup'`) from the menu, and\n",
    "- add roasted beet salad (`'roasted beet salad'`) to the menu.\n",
    "\n",
    "Implement this change to the list below.  While completing this task, \n",
    "- do not change the line that creates the `menu` list.  \n",
    "- your answer should use `.remove()` and `.append()`.  "
   ]
  },
  {
   "cell_type": "code",
   "execution_count": 2,
   "id": "bba3c431",
   "metadata": {
    "execution": {
     "iopub.execute_input": "2024-10-28T17:13:35.534384Z",
     "iopub.status.busy": "2024-10-28T17:13:35.533802Z",
     "iopub.status.idle": "2024-10-28T17:13:35.546351Z",
     "shell.execute_reply": "2024-10-28T17:13:35.545144Z"
    },
    "papermill": {
     "duration": 0.023358,
     "end_time": "2024-10-28T17:13:35.549241",
     "exception": false,
     "start_time": "2024-10-28T17:13:35.525883",
     "status": "completed"
    },
    "tags": []
   },
   "outputs": [
    {
     "data": {
      "application/javascript": [
       "parent.postMessage({\"jupyterEvent\": \"custom.exercise_interaction\", \"data\": {\"outcomeType\": 1, \"valueTowardsCompletion\": 0.2, \"interactionType\": 1, \"questionType\": 2, \"questionId\": \"1_FoodMenu\", \"learnToolsVersion\": \"0.3.4\", \"failureMessage\": \"\", \"exceptionClass\": \"\", \"trace\": \"\"}}, \"*\")"
      ],
      "text/plain": [
       "<IPython.core.display.Javascript object>"
      ]
     },
     "metadata": {},
     "output_type": "display_data"
    },
    {
     "data": {
      "text/markdown": [
       "<span style=\"color:#33cc33\">Correct</span>"
      ],
      "text/plain": [
       "Correct"
      ]
     },
     "metadata": {},
     "output_type": "display_data"
    }
   ],
   "source": [
    "# Do not change: Initial menu for your restaurant\n",
    "menu = ['stewed meat with onions', 'bean soup', 'risotto with trout and shrimp',\n",
    "       'fish soup with cream and onion', 'gyro']\n",
    "\n",
    "# TODO: remove 'bean soup', and add 'roasted beet salad' to the end of the menu\n",
    "menu.remove(\"bean soup\")\n",
    "menu.append(\"roasted beet salad\")\n",
    "\n",
    "# Do not change: Check your answer\n",
    "q1.check()"
   ]
  },
  {
   "cell_type": "code",
   "execution_count": 3,
   "id": "db6bf868",
   "metadata": {
    "execution": {
     "iopub.execute_input": "2024-10-28T17:13:35.565975Z",
     "iopub.status.busy": "2024-10-28T17:13:35.565518Z",
     "iopub.status.idle": "2024-10-28T17:13:35.570573Z",
     "shell.execute_reply": "2024-10-28T17:13:35.569396Z"
    },
    "papermill": {
     "duration": 0.015949,
     "end_time": "2024-10-28T17:13:35.573179",
     "exception": false,
     "start_time": "2024-10-28T17:13:35.557230",
     "status": "completed"
    },
    "tags": []
   },
   "outputs": [],
   "source": [
    "# Uncomment to see a hint\n",
    "#q1.hint()\n",
    "\n",
    "# Uncomment to see the solution\n",
    "#q1.solution()"
   ]
  },
  {
   "cell_type": "markdown",
   "id": "aabf0e45",
   "metadata": {
    "papermill": {
     "duration": 0.006414,
     "end_time": "2024-10-28T17:13:35.586257",
     "exception": false,
     "start_time": "2024-10-28T17:13:35.579843",
     "status": "completed"
    },
    "tags": []
   },
   "source": [
    "# Question 2\n",
    "\n",
    "The list `num_customers` contains the number of customers who came into your restaurant every day over the last month (which lasted thirty days).  Fill in values for each of the following:\n",
    "- `avg_first_seven` - average number of customers who visited in the first seven days\n",
    "- `avg_last_seven` - average number of customers who visited in the last seven days\n",
    "- `max_month` - number of customers on the day that got the most customers in the last month\n",
    "- `min_month` - number of customers on the day that got the least customers in the last month\n",
    "\n",
    "Answer this question by writing code.  For instance, if you have to find the minimum value in a list, use `min()` instead of scanning for the smallest value and directly filling in a number."
   ]
  },
  {
   "cell_type": "code",
   "execution_count": 4,
   "id": "a6826186",
   "metadata": {
    "execution": {
     "iopub.execute_input": "2024-10-28T17:13:35.602030Z",
     "iopub.status.busy": "2024-10-28T17:13:35.600804Z",
     "iopub.status.idle": "2024-10-28T17:13:35.613503Z",
     "shell.execute_reply": "2024-10-28T17:13:35.612207Z"
    },
    "papermill": {
     "duration": 0.023595,
     "end_time": "2024-10-28T17:13:35.616457",
     "exception": false,
     "start_time": "2024-10-28T17:13:35.592862",
     "status": "completed"
    },
    "tags": []
   },
   "outputs": [
    {
     "data": {
      "application/javascript": [
       "parent.postMessage({\"jupyterEvent\": \"custom.exercise_interaction\", \"data\": {\"outcomeType\": 4, \"interactionType\": 1, \"questionType\": 1, \"questionId\": \"2_NumCustomers\", \"learnToolsVersion\": \"0.3.4\", \"valueTowardsCompletion\": 0.0, \"failureMessage\": \"\", \"exceptionClass\": \"\", \"trace\": \"\"}}, \"*\")"
      ],
      "text/plain": [
       "<IPython.core.display.Javascript object>"
      ]
     },
     "metadata": {},
     "output_type": "display_data"
    },
    {
     "data": {
      "text/markdown": [
       "<span style=\"color:#ccaa33\">Check:</span> When you've updated the starter code, `check()` will tell you whether your code is correct. You need to update the code that creates variables `avg_first_seven`, `avg_last_seven`, `max_month`, `min_month`"
      ],
      "text/plain": [
       "Check: When you've updated the starter code, `check()` will tell you whether your code is correct. You need to update the code that creates variables `avg_first_seven`, `avg_last_seven`, `max_month`, `min_month`"
      ]
     },
     "metadata": {},
     "output_type": "display_data"
    }
   ],
   "source": [
    "# Do not change: Number of customers each day for the last month\n",
    "num_customers = [137, 147, 135, 128, 170, 174, 165, 146, 126, 159,\n",
    "                 141, 148, 132, 147, 168, 153, 170, 161, 148, 152,\n",
    "                 141, 151, 131, 149, 164, 163, 143, 143, 166, 171]\n",
    "\n",
    "# TODO: Fill in values for the variables below\n",
    "avg_first_seven = sum(num_customers[:7])/7\n",
    "avg_last_seven = ____ \n",
    "max_month = ____\n",
    "min_month = ____\n",
    "\n",
    "# Do not change: Check your answer\n",
    "q2.check()"
   ]
  },
  {
   "cell_type": "code",
   "execution_count": 5,
   "id": "0ffe131e",
   "metadata": {
    "execution": {
     "iopub.execute_input": "2024-10-28T17:13:35.633297Z",
     "iopub.status.busy": "2024-10-28T17:13:35.632202Z",
     "iopub.status.idle": "2024-10-28T17:13:35.638103Z",
     "shell.execute_reply": "2024-10-28T17:13:35.636545Z"
    },
    "papermill": {
     "duration": 0.016757,
     "end_time": "2024-10-28T17:13:35.640589",
     "exception": false,
     "start_time": "2024-10-28T17:13:35.623832",
     "status": "completed"
    },
    "tags": []
   },
   "outputs": [],
   "source": [
    "# Uncomment to see a hint\n",
    "#q2.hint()\n",
    "\n",
    "# Uncomment to see the solution\n",
    "#q2.solution()"
   ]
  },
  {
   "cell_type": "markdown",
   "id": "775e1e8c",
   "metadata": {
    "papermill": {
     "duration": 0.006605,
     "end_time": "2024-10-28T17:13:35.654054",
     "exception": false,
     "start_time": "2024-10-28T17:13:35.647449",
     "status": "completed"
    },
    "tags": []
   },
   "source": [
    "# Question 3\n",
    "\n",
    "In the tutorial, we gave an example of a Python string with information that was better as a list."
   ]
  },
  {
   "cell_type": "code",
   "execution_count": 6,
   "id": "e62cd2bb",
   "metadata": {
    "execution": {
     "iopub.execute_input": "2024-10-28T17:13:35.669954Z",
     "iopub.status.busy": "2024-10-28T17:13:35.669542Z",
     "iopub.status.idle": "2024-10-28T17:13:35.674858Z",
     "shell.execute_reply": "2024-10-28T17:13:35.673550Z"
    },
    "papermill": {
     "duration": 0.016103,
     "end_time": "2024-10-28T17:13:35.677226",
     "exception": false,
     "start_time": "2024-10-28T17:13:35.661123",
     "status": "completed"
    },
    "tags": []
   },
   "outputs": [],
   "source": [
    "flowers = \"pink primrose,hard-leaved pocket orchid,canterbury bells,sweet pea,english marigold,tiger lily,moon orchid,bird of paradise,monkshood,globe thistle\""
   ]
  },
  {
   "cell_type": "markdown",
   "id": "747f1a34",
   "metadata": {
    "papermill": {
     "duration": 0.006552,
     "end_time": "2024-10-28T17:13:35.690630",
     "exception": false,
     "start_time": "2024-10-28T17:13:35.684078",
     "status": "completed"
    },
    "tags": []
   },
   "source": [
    "You can actually use Python to quickly turn this string into a list with `.split()`.  In the parentheses, we need to provide the character should be used to mark the end of one list item and the beginning of another, and enclose it in quotation marks.  In this case, that character is a comma."
   ]
  },
  {
   "cell_type": "code",
   "execution_count": 7,
   "id": "6a70c5a4",
   "metadata": {
    "execution": {
     "iopub.execute_input": "2024-10-28T17:13:35.706183Z",
     "iopub.status.busy": "2024-10-28T17:13:35.705621Z",
     "iopub.status.idle": "2024-10-28T17:13:35.711952Z",
     "shell.execute_reply": "2024-10-28T17:13:35.710571Z"
    },
    "papermill": {
     "duration": 0.017316,
     "end_time": "2024-10-28T17:13:35.714700",
     "exception": false,
     "start_time": "2024-10-28T17:13:35.697384",
     "status": "completed"
    },
    "tags": []
   },
   "outputs": [
    {
     "name": "stdout",
     "output_type": "stream",
     "text": [
      "['pink primrose', 'hard-leaved pocket orchid', 'canterbury bells', 'sweet pea', 'english marigold', 'tiger lily', 'moon orchid', 'bird of paradise', 'monkshood', 'globe thistle']\n"
     ]
    }
   ],
   "source": [
    " print(flowers.split(\",\"))"
   ]
  },
  {
   "cell_type": "markdown",
   "id": "235a547f",
   "metadata": {
    "papermill": {
     "duration": 0.006596,
     "end_time": "2024-10-28T17:13:35.728276",
     "exception": false,
     "start_time": "2024-10-28T17:13:35.721680",
     "status": "completed"
    },
    "tags": []
   },
   "source": [
    "Now it is your turn to try this out!  Create two Python lists:\n",
    "- `letters` should be a Python list where each entry is an uppercase letter of the English alphabet.  For instance, the first two entries should be `\"A\"` and `\"B\"`, and the final two entries should be `\"Y\"` and `\"Z\"`.  Use the string `alphabet` to create this list.\n",
    "- `address` should be a Python list where each row in `address` is a different item in the list.  Currently, each row in `address` is separated by a comma. "
   ]
  },
  {
   "cell_type": "code",
   "execution_count": 8,
   "id": "179fa6d9",
   "metadata": {
    "execution": {
     "iopub.execute_input": "2024-10-28T17:13:35.743924Z",
     "iopub.status.busy": "2024-10-28T17:13:35.743504Z",
     "iopub.status.idle": "2024-10-28T17:13:35.753770Z",
     "shell.execute_reply": "2024-10-28T17:13:35.752345Z"
    },
    "papermill": {
     "duration": 0.020943,
     "end_time": "2024-10-28T17:13:35.756095",
     "exception": false,
     "start_time": "2024-10-28T17:13:35.735152",
     "status": "completed"
    },
    "tags": []
   },
   "outputs": [
    {
     "data": {
      "application/javascript": [
       "parent.postMessage({\"jupyterEvent\": \"custom.exercise_interaction\", \"data\": {\"outcomeType\": 4, \"interactionType\": 1, \"questionType\": 1, \"questionId\": \"3_SplitString\", \"learnToolsVersion\": \"0.3.4\", \"valueTowardsCompletion\": 0.0, \"failureMessage\": \"\", \"exceptionClass\": \"\", \"trace\": \"\"}}, \"*\")"
      ],
      "text/plain": [
       "<IPython.core.display.Javascript object>"
      ]
     },
     "metadata": {},
     "output_type": "display_data"
    },
    {
     "data": {
      "text/markdown": [
       "<span style=\"color:#ccaa33\">Check:</span> When you've updated the starter code, `check()` will tell you whether your code is correct. You need to update the code that creates variables `letters`, `formatted_address`"
      ],
      "text/plain": [
       "Check: When you've updated the starter code, `check()` will tell you whether your code is correct. You need to update the code that creates variables `letters`, `formatted_address`"
      ]
     },
     "metadata": {},
     "output_type": "display_data"
    }
   ],
   "source": [
    "# DO not change: Define two Python strings\n",
    "alphabet = \"A.B.C.D.E.F.G.H.I.J.K.L.M.N.O.P.Q.R.S.T.U.V.W.X.Y.Z\"\n",
    "address = \"Mr. H. Potter,The cupboard under the Stairs,4 Privet Drive,Little Whinging,Surrey\"\n",
    "\n",
    "# TODO: Convert strings into Python lists\n",
    "letters = ____\n",
    "formatted_address = ____\n",
    "\n",
    "# Do not change: Check your answer\n",
    "q3.check()"
   ]
  },
  {
   "cell_type": "code",
   "execution_count": 9,
   "id": "02302ace",
   "metadata": {
    "execution": {
     "iopub.execute_input": "2024-10-28T17:13:35.772271Z",
     "iopub.status.busy": "2024-10-28T17:13:35.771829Z",
     "iopub.status.idle": "2024-10-28T17:13:35.777342Z",
     "shell.execute_reply": "2024-10-28T17:13:35.775785Z"
    },
    "papermill": {
     "duration": 0.016975,
     "end_time": "2024-10-28T17:13:35.780209",
     "exception": false,
     "start_time": "2024-10-28T17:13:35.763234",
     "status": "completed"
    },
    "tags": []
   },
   "outputs": [],
   "source": [
    "# Uncomment to see a hint\n",
    "#q3.hint()\n",
    "\n",
    "# Uncomment to see the solution\n",
    "#q3.solution()"
   ]
  },
  {
   "cell_type": "markdown",
   "id": "8ed22ff3",
   "metadata": {
    "papermill": {
     "duration": 0.006875,
     "end_time": "2024-10-28T17:13:35.794551",
     "exception": false,
     "start_time": "2024-10-28T17:13:35.787676",
     "status": "completed"
    },
    "tags": []
   },
   "source": [
    "# Question 4\n",
    "\n",
    "In the Python course, you'll learn all about **list comprehensions**, which allow you to create a list based on the values in another list.  In this question, you'll get a brief preview of how they work.\n",
    "\n",
    "Say we're working with the list below."
   ]
  },
  {
   "cell_type": "code",
   "execution_count": 10,
   "id": "e6a86ae0",
   "metadata": {
    "execution": {
     "iopub.execute_input": "2024-10-28T17:13:35.810915Z",
     "iopub.status.busy": "2024-10-28T17:13:35.810493Z",
     "iopub.status.idle": "2024-10-28T17:13:35.815715Z",
     "shell.execute_reply": "2024-10-28T17:13:35.814475Z"
    },
    "papermill": {
     "duration": 0.016373,
     "end_time": "2024-10-28T17:13:35.818112",
     "exception": false,
     "start_time": "2024-10-28T17:13:35.801739",
     "status": "completed"
    },
    "tags": []
   },
   "outputs": [],
   "source": [
    "test_ratings = [1, 2, 3, 4, 5]"
   ]
  },
  {
   "cell_type": "markdown",
   "id": "f38e77cf",
   "metadata": {
    "papermill": {
     "duration": 0.006684,
     "end_time": "2024-10-28T17:13:35.831907",
     "exception": false,
     "start_time": "2024-10-28T17:13:35.825223",
     "status": "completed"
    },
    "tags": []
   },
   "source": [
    "Then we can use this list (`test_ratings`) to create a new list (`test_liked`) where each item has been turned into a boolean, depending on whether or not the item is greater than or equal to four."
   ]
  },
  {
   "cell_type": "code",
   "execution_count": 11,
   "id": "2cd6938f",
   "metadata": {
    "execution": {
     "iopub.execute_input": "2024-10-28T17:13:35.848629Z",
     "iopub.status.busy": "2024-10-28T17:13:35.848183Z",
     "iopub.status.idle": "2024-10-28T17:13:35.854776Z",
     "shell.execute_reply": "2024-10-28T17:13:35.853431Z"
    },
    "papermill": {
     "duration": 0.018572,
     "end_time": "2024-10-28T17:13:35.857725",
     "exception": false,
     "start_time": "2024-10-28T17:13:35.839153",
     "status": "completed"
    },
    "tags": []
   },
   "outputs": [
    {
     "name": "stdout",
     "output_type": "stream",
     "text": [
      "[False, False, False, True, True]\n"
     ]
    }
   ],
   "source": [
    "test_liked = [i>=4 for i in test_ratings]\n",
    "print(test_liked)"
   ]
  },
  {
   "cell_type": "markdown",
   "id": "7fdef7ca",
   "metadata": {
    "papermill": {
     "duration": 0.006773,
     "end_time": "2024-10-28T17:13:35.871792",
     "exception": false,
     "start_time": "2024-10-28T17:13:35.865019",
     "status": "completed"
    },
    "tags": []
   },
   "source": [
    "In this question, you'll use this list comprehension to define a function `percentage_liked()` that takes one argument as input:\n",
    "- `ratings`: list of ratings that people gave to a movie, where each rating is a number between 1-5, inclusive\n",
    "\n",
    "We say someone liked the movie, if they gave a rating of either 4 or 5.  Your function should return the percentage of people who liked the movie.\n",
    "\n",
    "For instance, if we supply a value of `[1, 2, 3, 4, 5, 4, 5, 1]`, then 50% (4/8) of the people liked the movie, and the function should return `0.5`.\n",
    "\n",
    "Part of the function has already been completed for you.  You need only use `list_liked` to calculate `percentage_liked`."
   ]
  },
  {
   "cell_type": "code",
   "execution_count": 12,
   "id": "a054c8ce",
   "metadata": {
    "execution": {
     "iopub.execute_input": "2024-10-28T17:13:35.888626Z",
     "iopub.status.busy": "2024-10-28T17:13:35.888086Z",
     "iopub.status.idle": "2024-10-28T17:13:35.898957Z",
     "shell.execute_reply": "2024-10-28T17:13:35.897849Z"
    },
    "papermill": {
     "duration": 0.022276,
     "end_time": "2024-10-28T17:13:35.901415",
     "exception": false,
     "start_time": "2024-10-28T17:13:35.879139",
     "status": "completed"
    },
    "tags": []
   },
   "outputs": [
    {
     "data": {
      "application/javascript": [
       "parent.postMessage({\"jupyterEvent\": \"custom.exercise_interaction\", \"data\": {\"outcomeType\": 2, \"failureMessage\": \"Expected return value of `0.5` given `ratings=[1, 2, 3, 4, 5, 4, 5, 1]`, but got `<learntools.core.constants.PlaceholderValue object at 0x7c266ba34a00>` instead.\", \"interactionType\": 1, \"questionType\": 2, \"questionId\": \"4_PercentageLiked\", \"learnToolsVersion\": \"0.3.4\", \"valueTowardsCompletion\": 0.0, \"exceptionClass\": \"\", \"trace\": \"\"}}, \"*\")"
      ],
      "text/plain": [
       "<IPython.core.display.Javascript object>"
      ]
     },
     "metadata": {},
     "output_type": "display_data"
    },
    {
     "data": {
      "text/markdown": [
       "<span style=\"color:#cc3333\">Incorrect:</span> Expected return value of `0.5` given `ratings=[1, 2, 3, 4, 5, 4, 5, 1]`, but got `<learntools.core.constants.PlaceholderValue object at 0x7c266ba34a00>` instead."
      ],
      "text/plain": [
       "Incorrect: Expected return value of `0.5` given `ratings=[1, 2, 3, 4, 5, 4, 5, 1]`, but got `<learntools.core.constants.PlaceholderValue object at 0x7c266ba34a00>` instead."
      ]
     },
     "metadata": {},
     "output_type": "display_data"
    }
   ],
   "source": [
    "\n",
    "def percentage_liked(ratings):\n",
    "    list_liked = [i>=4 for i in ratings]\n",
    "    # TODO: Complete the function\n",
    "    percentage_liked = ____\n",
    "    return percentage_liked\n",
    "\n",
    "# Do not change: should return 0.5\n",
    "percentage_liked([1, 2, 3, 4, 5, 4, 5, 1])\n",
    "\n",
    "# Do not change: Check your answer\n",
    "q4.check()"
   ]
  },
  {
   "cell_type": "code",
   "execution_count": 13,
   "id": "09bdd2df",
   "metadata": {
    "execution": {
     "iopub.execute_input": "2024-10-28T17:13:35.919024Z",
     "iopub.status.busy": "2024-10-28T17:13:35.918617Z",
     "iopub.status.idle": "2024-10-28T17:13:35.924291Z",
     "shell.execute_reply": "2024-10-28T17:13:35.922720Z"
    },
    "papermill": {
     "duration": 0.017939,
     "end_time": "2024-10-28T17:13:35.926900",
     "exception": false,
     "start_time": "2024-10-28T17:13:35.908961",
     "status": "completed"
    },
    "tags": []
   },
   "outputs": [],
   "source": [
    "# Uncomment to see a hint\n",
    "#q4.hint()\n",
    "\n",
    "# Uncomment to see the solution\n",
    "#q4.solution()"
   ]
  },
  {
   "cell_type": "markdown",
   "id": "3c8391e9",
   "metadata": {
    "papermill": {
     "duration": 0.00835,
     "end_time": "2024-10-28T17:13:35.943173",
     "exception": false,
     "start_time": "2024-10-28T17:13:35.934823",
     "status": "completed"
    },
    "tags": []
   },
   "source": [
    "# 🌶️ Question 5\n",
    " \n",
    "Say you're doing analytics for a website.  You need to write a function that returns the percentage growth in the total number of users relative to a specified number of years ago.\n",
    "\n",
    "Your function `percentage_growth()` should take two arguments as input:\n",
    "- `num_users` = Python list with the total number of users each year.  So `num_users[0]` is the total number of users in the first year, `num_users[1]` is the total number of users in the second year, and so on.  The final entry in the list gives the total number of users in the most recently completed year.\n",
    "- `yrs_ago` = number of years to go back in time when calculating the growth percentage\n",
    "\n",
    "For instance, say `num_users = [920344, 1043553, 1204334, 1458996, 1503323, 1593432, 1623463, 1843064, 1930992, 2001078]`.\n",
    "- if `yrs_ago = 1`, we want the function to return a value of about `0.036`. This corresponds to a percentage growth of approximately 3.6%, calculated as (2001078 - 1930992)/1930992.\n",
    "- if `years_ago = 7`, we would want to return approximately `0.66`.  This corresponds to a percentage growth of approximately 66%, calculated as (2001078 - 1204334)/1204334.\n",
    "\n",
    "Your coworker sent you a draft of a function, but it doesn't seem to be doing the correct calculation.  Can you figure out what has gone wrong and make the needed changes?"
   ]
  },
  {
   "cell_type": "code",
   "execution_count": 14,
   "id": "692e1630",
   "metadata": {
    "execution": {
     "iopub.execute_input": "2024-10-28T17:13:35.960144Z",
     "iopub.status.busy": "2024-10-28T17:13:35.959696Z",
     "iopub.status.idle": "2024-10-28T17:13:35.972579Z",
     "shell.execute_reply": "2024-10-28T17:13:35.971359Z"
    },
    "papermill": {
     "duration": 0.024816,
     "end_time": "2024-10-28T17:13:35.975555",
     "exception": false,
     "start_time": "2024-10-28T17:13:35.950739",
     "status": "completed"
    },
    "tags": []
   },
   "outputs": [
    {
     "name": "stdout",
     "output_type": "stream",
     "text": [
      "0.0\n",
      "0.2807272117129434\n"
     ]
    },
    {
     "data": {
      "application/javascript": [
       "parent.postMessage({\"jupyterEvent\": \"custom.exercise_interaction\", \"data\": {\"outcomeType\": 2, \"failureMessage\": \"Expected return value of `0.03629533421163837` given `num_users=[920344, 1043553, 1204334, 1458996, 1503323, 1593432, 1623463, 1843064, 1930992, 2001078]`, `yrs_ago=1`, but got `0.0` instead.\", \"interactionType\": 1, \"questionType\": 2, \"questionId\": \"5_WebsiteAnalytics\", \"learnToolsVersion\": \"0.3.4\", \"valueTowardsCompletion\": 0.0, \"exceptionClass\": \"\", \"trace\": \"\"}}, \"*\")"
      ],
      "text/plain": [
       "<IPython.core.display.Javascript object>"
      ]
     },
     "metadata": {},
     "output_type": "display_data"
    },
    {
     "data": {
      "text/markdown": [
       "<span style=\"color:#cc3333\">Incorrect:</span> Expected return value of `0.03629533421163837` given `num_users=[920344, 1043553, 1204334, 1458996, 1503323, 1593432, 1623463, 1843064, 1930992, 2001078]`, `yrs_ago=1`, but got `0.0` instead."
      ],
      "text/plain": [
       "Incorrect: Expected return value of `0.03629533421163837` given `num_users=[920344, 1043553, 1204334, 1458996, 1503323, 1593432, 1623463, 1843064, 1930992, 2001078]`, `yrs_ago=1`, but got `0.0` instead."
      ]
     },
     "metadata": {},
     "output_type": "display_data"
    }
   ],
   "source": [
    "# TODO: Edit the function\n",
    "def percentage_growth(num_users, yrs_ago):\n",
    "    growth = (num_users[len(num_users)-1] - num_users[len(num_users)-yrs_ago])/num_users[len(num_users)-2]\n",
    "    return growth\n",
    "\n",
    "# Do not change: Variable for calculating some test examples\n",
    "num_users_test = [920344, 1043553, 1204334, 1458996, 1503323, 1593432, 1623463, 1843064, 1930992, 2001078]\n",
    "\n",
    "# Do not change: Should return .036\n",
    "print(percentage_growth(num_users_test, 1))\n",
    "\n",
    "# Do not change: Should return 0.66\n",
    "print(percentage_growth(num_users_test, 7))\n",
    "\n",
    "# Do not change: Check your answer\n",
    "q5.check()"
   ]
  },
  {
   "cell_type": "code",
   "execution_count": 15,
   "id": "47ae0449",
   "metadata": {
    "execution": {
     "iopub.execute_input": "2024-10-28T17:13:35.993419Z",
     "iopub.status.busy": "2024-10-28T17:13:35.992956Z",
     "iopub.status.idle": "2024-10-28T17:13:35.998584Z",
     "shell.execute_reply": "2024-10-28T17:13:35.997242Z"
    },
    "papermill": {
     "duration": 0.017597,
     "end_time": "2024-10-28T17:13:36.001436",
     "exception": false,
     "start_time": "2024-10-28T17:13:35.983839",
     "status": "completed"
    },
    "tags": []
   },
   "outputs": [],
   "source": [
    "# Uncomment to see a hint\n",
    "#q5.hint()\n",
    "\n",
    "# Uncomment to see the solution\n",
    "#q5.solution()"
   ]
  },
  {
   "cell_type": "markdown",
   "id": "340f292f",
   "metadata": {
    "papermill": {
     "duration": 0.007597,
     "end_time": "2024-10-28T17:13:36.017065",
     "exception": false,
     "start_time": "2024-10-28T17:13:36.009468",
     "status": "completed"
    },
    "tags": []
   },
   "source": [
    "# Congratulations!\n",
    "\n",
    "Congratulations for finishing the Intro to Programming course!  You should be proud of your very first steps with learning programming.  As next steps, we recommend taking:\n",
    "- the **[Python course](http://www.kaggle.com/learn/python)**, and \n",
    "- the **[Intro to Machine Learning course](https://www.kaggle.com/learn/intro-to-machine-learning)**."
   ]
  },
  {
   "cell_type": "markdown",
   "id": "8ac1305f",
   "metadata": {
    "papermill": {
     "duration": 0.007722,
     "end_time": "2024-10-28T17:13:36.032566",
     "exception": false,
     "start_time": "2024-10-28T17:13:36.024844",
     "status": "completed"
    },
    "tags": []
   },
   "source": [
    "---\n",
    "\n",
    "\n",
    "\n",
    "\n",
    "*Have questions or comments? Visit the [course discussion forum](https://www.kaggle.com/learn/intro-to-programming/discussion) to chat with other learners.*"
   ]
  }
 ],
 "metadata": {
  "kaggle": {
   "accelerator": "none",
   "dataSources": [],
   "isGpuEnabled": false,
   "isInternetEnabled": false,
   "language": "python",
   "sourceType": "notebook"
  },
  "kernelspec": {
   "display_name": "Python 3",
   "language": "python",
   "name": "python3"
  },
  "language_info": {
   "codemirror_mode": {
    "name": "ipython",
    "version": 3
   },
   "file_extension": ".py",
   "mimetype": "text/x-python",
   "name": "python",
   "nbconvert_exporter": "python",
   "pygments_lexer": "ipython3",
   "version": "3.10.14"
  },
  "papermill": {
   "default_parameters": {},
   "duration": 5.162895,
   "end_time": "2024-10-28T17:13:36.562457",
   "environment_variables": {},
   "exception": null,
   "input_path": "__notebook__.ipynb",
   "output_path": "__notebook__.ipynb",
   "parameters": {},
   "start_time": "2024-10-28T17:13:31.399562",
   "version": "2.6.0"
  }
 },
 "nbformat": 4,
 "nbformat_minor": 5
}
