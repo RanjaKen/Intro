{
 "cells": [
  {
   "cell_type": "markdown",
   "id": "4e2748f2",
   "metadata": {
    "papermill": {
     "duration": 0.006809,
     "end_time": "2024-10-29T08:34:15.363553",
     "exception": false,
     "start_time": "2024-10-29T08:34:15.356744",
     "status": "completed"
    },
    "tags": []
   },
   "source": [
    "**This notebook is an exercise in the [Intro to Programming](https://www.kaggle.com/learn/intro-to-programming) course.  You can reference the tutorial at [this link](https://www.kaggle.com/alexisbcook/intro-to-lists).**\n",
    "\n",
    "---\n"
   ]
  },
  {
   "cell_type": "markdown",
   "id": "4e867a62",
   "metadata": {
    "papermill": {
     "duration": 0.006278,
     "end_time": "2024-10-29T08:34:15.376094",
     "exception": false,
     "start_time": "2024-10-29T08:34:15.369816",
     "status": "completed"
    },
    "tags": []
   },
   "source": [
    "In the tutorial, you learned how to define and modify Python lists.  In this exercise, you will use your new knowledge to solve several problems.\n",
    "\n",
    "# Set up the notebook\n",
    "\n",
    "Run the next code cell without changes to set up the notebook."
   ]
  },
  {
   "cell_type": "code",
   "execution_count": 1,
   "id": "4581adf5",
   "metadata": {
    "execution": {
     "iopub.execute_input": "2024-10-29T08:34:15.390320Z",
     "iopub.status.busy": "2024-10-29T08:34:15.389825Z",
     "iopub.status.idle": "2024-10-29T08:34:16.317819Z",
     "shell.execute_reply": "2024-10-29T08:34:16.316130Z"
    },
    "papermill": {
     "duration": 0.938082,
     "end_time": "2024-10-29T08:34:16.320335",
     "exception": false,
     "start_time": "2024-10-29T08:34:15.382253",
     "status": "completed"
    },
    "tags": []
   },
   "outputs": [
    {
     "name": "stdout",
     "output_type": "stream",
     "text": [
      "Setup complete.\n"
     ]
    }
   ],
   "source": [
    "from learntools.core import binder\n",
    "binder.bind(globals())\n",
    "from learntools.intro_to_programming.ex5 import *\n",
    "print('Setup complete.')"
   ]
  },
  {
   "cell_type": "markdown",
   "id": "2f2921a7",
   "metadata": {
    "papermill": {
     "duration": 0.006469,
     "end_time": "2024-10-29T08:34:16.333412",
     "exception": false,
     "start_time": "2024-10-29T08:34:16.326943",
     "status": "completed"
    },
    "tags": []
   },
   "source": [
    "# Question 1\n",
    "\n",
    "You own a restaurant with five food dishes, organized in the Python list `menu` below.  One day, you decide to:\n",
    "- remove bean soup (`'bean soup'`) from the menu, and\n",
    "- add roasted beet salad (`'roasted beet salad'`) to the menu.\n",
    "\n",
    "Implement this change to the list below.  While completing this task, \n",
    "- do not change the line that creates the `menu` list.  \n",
    "- your answer should use `.remove()` and `.append()`.  "
   ]
  },
  {
   "cell_type": "code",
   "execution_count": 2,
   "id": "0301204c",
   "metadata": {
    "execution": {
     "iopub.execute_input": "2024-10-29T08:34:16.347901Z",
     "iopub.status.busy": "2024-10-29T08:34:16.347332Z",
     "iopub.status.idle": "2024-10-29T08:34:16.359011Z",
     "shell.execute_reply": "2024-10-29T08:34:16.357944Z"
    },
    "papermill": {
     "duration": 0.021416,
     "end_time": "2024-10-29T08:34:16.361181",
     "exception": false,
     "start_time": "2024-10-29T08:34:16.339765",
     "status": "completed"
    },
    "tags": []
   },
   "outputs": [
    {
     "data": {
      "application/javascript": [
       "parent.postMessage({\"jupyterEvent\": \"custom.exercise_interaction\", \"data\": {\"outcomeType\": 1, \"valueTowardsCompletion\": 0.2, \"interactionType\": 1, \"questionType\": 2, \"questionId\": \"1_FoodMenu\", \"learnToolsVersion\": \"0.3.4\", \"failureMessage\": \"\", \"exceptionClass\": \"\", \"trace\": \"\"}}, \"*\")"
      ],
      "text/plain": [
       "<IPython.core.display.Javascript object>"
      ]
     },
     "metadata": {},
     "output_type": "display_data"
    },
    {
     "data": {
      "text/markdown": [
       "<span style=\"color:#33cc33\">Correct</span>"
      ],
      "text/plain": [
       "Correct"
      ]
     },
     "metadata": {},
     "output_type": "display_data"
    }
   ],
   "source": [
    "# Do not change: Initial menu for your restaurant\n",
    "menu = ['stewed meat with onions', 'bean soup', 'risotto with trout and shrimp',\n",
    "       'fish soup with cream and onion', 'gyro']\n",
    "\n",
    "# TODO: remove 'bean soup', and add 'roasted beet salad' to the end of the menu\n",
    "menu.remove(\"bean soup\")\n",
    "menu.append(\"roasted beet salad\")\n",
    "\n",
    "# Do not change: Check your answer\n",
    "q1.check()"
   ]
  },
  {
   "cell_type": "code",
   "execution_count": 3,
   "id": "e8a02c79",
   "metadata": {
    "execution": {
     "iopub.execute_input": "2024-10-29T08:34:16.378680Z",
     "iopub.status.busy": "2024-10-29T08:34:16.377461Z",
     "iopub.status.idle": "2024-10-29T08:34:16.382769Z",
     "shell.execute_reply": "2024-10-29T08:34:16.381591Z"
    },
    "papermill": {
     "duration": 0.015961,
     "end_time": "2024-10-29T08:34:16.385097",
     "exception": false,
     "start_time": "2024-10-29T08:34:16.369136",
     "status": "completed"
    },
    "tags": []
   },
   "outputs": [],
   "source": [
    "# Uncomment to see a hint\n",
    "#q1.hint()\n",
    "\n",
    "# Uncomment to see the solution\n",
    "#q1.solution()"
   ]
  },
  {
   "cell_type": "markdown",
   "id": "69767e49",
   "metadata": {
    "papermill": {
     "duration": 0.006278,
     "end_time": "2024-10-29T08:34:16.398028",
     "exception": false,
     "start_time": "2024-10-29T08:34:16.391750",
     "status": "completed"
    },
    "tags": []
   },
   "source": [
    "# Question 2\n",
    "\n",
    "The list `num_customers` contains the number of customers who came into your restaurant every day over the last month (which lasted thirty days).  Fill in values for each of the following:\n",
    "- `avg_first_seven` - average number of customers who visited in the first seven days\n",
    "- `avg_last_seven` - average number of customers who visited in the last seven days\n",
    "- `max_month` - number of customers on the day that got the most customers in the last month\n",
    "- `min_month` - number of customers on the day that got the least customers in the last month\n",
    "\n",
    "Answer this question by writing code.  For instance, if you have to find the minimum value in a list, use `min()` instead of scanning for the smallest value and directly filling in a number."
   ]
  },
  {
   "cell_type": "code",
   "execution_count": 4,
   "id": "51c2ab0a",
   "metadata": {
    "execution": {
     "iopub.execute_input": "2024-10-29T08:34:16.412959Z",
     "iopub.status.busy": "2024-10-29T08:34:16.412541Z",
     "iopub.status.idle": "2024-10-29T08:34:16.423682Z",
     "shell.execute_reply": "2024-10-29T08:34:16.422470Z"
    },
    "papermill": {
     "duration": 0.02147,
     "end_time": "2024-10-29T08:34:16.426064",
     "exception": false,
     "start_time": "2024-10-29T08:34:16.404594",
     "status": "completed"
    },
    "tags": []
   },
   "outputs": [
    {
     "data": {
      "application/javascript": [
       "parent.postMessage({\"jupyterEvent\": \"custom.exercise_interaction\", \"data\": {\"outcomeType\": 1, \"valueTowardsCompletion\": 0.2, \"interactionType\": 1, \"questionType\": 1, \"questionId\": \"2_NumCustomers\", \"learnToolsVersion\": \"0.3.4\", \"failureMessage\": \"\", \"exceptionClass\": \"\", \"trace\": \"\"}}, \"*\")"
      ],
      "text/plain": [
       "<IPython.core.display.Javascript object>"
      ]
     },
     "metadata": {},
     "output_type": "display_data"
    },
    {
     "data": {
      "text/markdown": [
       "<span style=\"color:#33cc33\">Correct</span>"
      ],
      "text/plain": [
       "Correct"
      ]
     },
     "metadata": {},
     "output_type": "display_data"
    }
   ],
   "source": [
    "# Do not change: Number of customers each day for the last month\n",
    "num_customers = [137, 147, 135, 128, 170, 174, 165, 146, 126, 159,\n",
    "                 141, 148, 132, 147, 168, 153, 170, 161, 148, 152,\n",
    "                 141, 151, 131, 149, 164, 163, 143, 143, 166, 171]\n",
    "\n",
    "# TODO: Fill in values for the variables below\n",
    "avg_first_seven = sum(num_customers[:7])/7\n",
    "avg_last_seven = sum(num_customers[-7:])/7\n",
    "max_month = max(num_customers)\n",
    "min_month = min(num_customers)\n",
    "\n",
    "# Do not change: Check your answer\n",
    "q2.check()"
   ]
  },
  {
   "cell_type": "code",
   "execution_count": 5,
   "id": "c8f943f8",
   "metadata": {
    "execution": {
     "iopub.execute_input": "2024-10-29T08:34:16.441594Z",
     "iopub.status.busy": "2024-10-29T08:34:16.441157Z",
     "iopub.status.idle": "2024-10-29T08:34:16.446059Z",
     "shell.execute_reply": "2024-10-29T08:34:16.444864Z"
    },
    "papermill": {
     "duration": 0.01527,
     "end_time": "2024-10-29T08:34:16.448284",
     "exception": false,
     "start_time": "2024-10-29T08:34:16.433014",
     "status": "completed"
    },
    "tags": []
   },
   "outputs": [],
   "source": [
    "# Uncomment to see a hint\n",
    "#q2.hint()\n",
    "\n",
    "# Uncomment to see the solution\n",
    "#q2.solution()"
   ]
  },
  {
   "cell_type": "markdown",
   "id": "0737ac99",
   "metadata": {
    "papermill": {
     "duration": 0.006624,
     "end_time": "2024-10-29T08:34:16.461750",
     "exception": false,
     "start_time": "2024-10-29T08:34:16.455126",
     "status": "completed"
    },
    "tags": []
   },
   "source": [
    "# Question 3\n",
    "\n",
    "In the tutorial, we gave an example of a Python string with information that was better as a list."
   ]
  },
  {
   "cell_type": "code",
   "execution_count": 6,
   "id": "e607111e",
   "metadata": {
    "execution": {
     "iopub.execute_input": "2024-10-29T08:34:16.477027Z",
     "iopub.status.busy": "2024-10-29T08:34:16.476604Z",
     "iopub.status.idle": "2024-10-29T08:34:16.481473Z",
     "shell.execute_reply": "2024-10-29T08:34:16.480393Z"
    },
    "papermill": {
     "duration": 0.015295,
     "end_time": "2024-10-29T08:34:16.483787",
     "exception": false,
     "start_time": "2024-10-29T08:34:16.468492",
     "status": "completed"
    },
    "tags": []
   },
   "outputs": [],
   "source": [
    "flowers = \"pink primrose,hard-leaved pocket orchid,canterbury bells,sweet pea,english marigold,tiger lily,moon orchid,bird of paradise,monkshood,globe thistle\""
   ]
  },
  {
   "cell_type": "markdown",
   "id": "222b919b",
   "metadata": {
    "papermill": {
     "duration": 0.006544,
     "end_time": "2024-10-29T08:34:16.497197",
     "exception": false,
     "start_time": "2024-10-29T08:34:16.490653",
     "status": "completed"
    },
    "tags": []
   },
   "source": [
    "You can actually use Python to quickly turn this string into a list with `.split()`.  In the parentheses, we need to provide the character should be used to mark the end of one list item and the beginning of another, and enclose it in quotation marks.  In this case, that character is a comma."
   ]
  },
  {
   "cell_type": "code",
   "execution_count": 7,
   "id": "c0dc8925",
   "metadata": {
    "execution": {
     "iopub.execute_input": "2024-10-29T08:34:16.512946Z",
     "iopub.status.busy": "2024-10-29T08:34:16.512481Z",
     "iopub.status.idle": "2024-10-29T08:34:16.518606Z",
     "shell.execute_reply": "2024-10-29T08:34:16.517437Z"
    },
    "papermill": {
     "duration": 0.017059,
     "end_time": "2024-10-29T08:34:16.521069",
     "exception": false,
     "start_time": "2024-10-29T08:34:16.504010",
     "status": "completed"
    },
    "tags": []
   },
   "outputs": [
    {
     "name": "stdout",
     "output_type": "stream",
     "text": [
      "['pink primrose', 'hard-leaved pocket orchid', 'canterbury bells', 'sweet pea', 'english marigold', 'tiger lily', 'moon orchid', 'bird of paradise', 'monkshood', 'globe thistle']\n"
     ]
    }
   ],
   "source": [
    " print(flowers.split(\",\"))"
   ]
  },
  {
   "cell_type": "markdown",
   "id": "19cb7e67",
   "metadata": {
    "papermill": {
     "duration": 0.006731,
     "end_time": "2024-10-29T08:34:16.534828",
     "exception": false,
     "start_time": "2024-10-29T08:34:16.528097",
     "status": "completed"
    },
    "tags": []
   },
   "source": [
    "Now it is your turn to try this out!  Create two Python lists:\n",
    "- `letters` should be a Python list where each entry is an uppercase letter of the English alphabet.  For instance, the first two entries should be `\"A\"` and `\"B\"`, and the final two entries should be `\"Y\"` and `\"Z\"`.  Use the string `alphabet` to create this list.\n",
    "- `address` should be a Python list where each row in `address` is a different item in the list.  Currently, each row in `address` is separated by a comma. "
   ]
  },
  {
   "cell_type": "code",
   "execution_count": 8,
   "id": "9b5fbb40",
   "metadata": {
    "execution": {
     "iopub.execute_input": "2024-10-29T08:34:16.551073Z",
     "iopub.status.busy": "2024-10-29T08:34:16.550215Z",
     "iopub.status.idle": "2024-10-29T08:34:16.560210Z",
     "shell.execute_reply": "2024-10-29T08:34:16.559142Z"
    },
    "papermill": {
     "duration": 0.020387,
     "end_time": "2024-10-29T08:34:16.562558",
     "exception": false,
     "start_time": "2024-10-29T08:34:16.542171",
     "status": "completed"
    },
    "tags": []
   },
   "outputs": [
    {
     "data": {
      "application/javascript": [
       "parent.postMessage({\"jupyterEvent\": \"custom.exercise_interaction\", \"data\": {\"outcomeType\": 1, \"valueTowardsCompletion\": 0.2, \"interactionType\": 1, \"questionType\": 1, \"questionId\": \"3_SplitString\", \"learnToolsVersion\": \"0.3.4\", \"failureMessage\": \"\", \"exceptionClass\": \"\", \"trace\": \"\"}}, \"*\")"
      ],
      "text/plain": [
       "<IPython.core.display.Javascript object>"
      ]
     },
     "metadata": {},
     "output_type": "display_data"
    },
    {
     "data": {
      "text/markdown": [
       "<span style=\"color:#33cc33\">Correct</span>"
      ],
      "text/plain": [
       "Correct"
      ]
     },
     "metadata": {},
     "output_type": "display_data"
    }
   ],
   "source": [
    "# DO not change: Define two Python strings\n",
    "alphabet = \"A.B.C.D.E.F.G.H.I.J.K.L.M.N.O.P.Q.R.S.T.U.V.W.X.Y.Z\"\n",
    "address = \"Mr. H. Potter,The cupboard under the Stairs,4 Privet Drive,Little Whinging,Surrey\"\n",
    "\n",
    "# TODO: Convert strings into Python lists\n",
    "letters = alphabet.split(\".\")\n",
    "formatted_address = address.split(\",\")\n",
    "\n",
    "# Do not change: Check your answer\n",
    "q3.check()"
   ]
  },
  {
   "cell_type": "code",
   "execution_count": 9,
   "id": "cc6e78df",
   "metadata": {
    "execution": {
     "iopub.execute_input": "2024-10-29T08:34:16.578889Z",
     "iopub.status.busy": "2024-10-29T08:34:16.578499Z",
     "iopub.status.idle": "2024-10-29T08:34:16.583348Z",
     "shell.execute_reply": "2024-10-29T08:34:16.582076Z"
    },
    "papermill": {
     "duration": 0.015707,
     "end_time": "2024-10-29T08:34:16.585770",
     "exception": false,
     "start_time": "2024-10-29T08:34:16.570063",
     "status": "completed"
    },
    "tags": []
   },
   "outputs": [],
   "source": [
    "# Uncomment to see a hint\n",
    "#q3.hint()\n",
    "\n",
    "# Uncomment to see the solution\n",
    "#q3.solution()"
   ]
  },
  {
   "cell_type": "markdown",
   "id": "68546af3",
   "metadata": {
    "papermill": {
     "duration": 0.006712,
     "end_time": "2024-10-29T08:34:16.599576",
     "exception": false,
     "start_time": "2024-10-29T08:34:16.592864",
     "status": "completed"
    },
    "tags": []
   },
   "source": [
    "# Question 4\n",
    "\n",
    "In the Python course, you'll learn all about **list comprehensions**, which allow you to create a list based on the values in another list.  In this question, you'll get a brief preview of how they work.\n",
    "\n",
    "Say we're working with the list below."
   ]
  },
  {
   "cell_type": "code",
   "execution_count": 10,
   "id": "fe8f537f",
   "metadata": {
    "execution": {
     "iopub.execute_input": "2024-10-29T08:34:16.615326Z",
     "iopub.status.busy": "2024-10-29T08:34:16.614950Z",
     "iopub.status.idle": "2024-10-29T08:34:16.619997Z",
     "shell.execute_reply": "2024-10-29T08:34:16.618813Z"
    },
    "papermill": {
     "duration": 0.015708,
     "end_time": "2024-10-29T08:34:16.622312",
     "exception": false,
     "start_time": "2024-10-29T08:34:16.606604",
     "status": "completed"
    },
    "tags": []
   },
   "outputs": [],
   "source": [
    "test_ratings = [1, 2, 3, 4, 5]"
   ]
  },
  {
   "cell_type": "markdown",
   "id": "efa20e0f",
   "metadata": {
    "papermill": {
     "duration": 0.00664,
     "end_time": "2024-10-29T08:34:16.636111",
     "exception": false,
     "start_time": "2024-10-29T08:34:16.629471",
     "status": "completed"
    },
    "tags": []
   },
   "source": [
    "Then we can use this list (`test_ratings`) to create a new list (`test_liked`) where each item has been turned into a boolean, depending on whether or not the item is greater than or equal to four."
   ]
  },
  {
   "cell_type": "code",
   "execution_count": 11,
   "id": "0c8beaa4",
   "metadata": {
    "execution": {
     "iopub.execute_input": "2024-10-29T08:34:16.652173Z",
     "iopub.status.busy": "2024-10-29T08:34:16.651358Z",
     "iopub.status.idle": "2024-10-29T08:34:16.657117Z",
     "shell.execute_reply": "2024-10-29T08:34:16.655919Z"
    },
    "papermill": {
     "duration": 0.016626,
     "end_time": "2024-10-29T08:34:16.659606",
     "exception": false,
     "start_time": "2024-10-29T08:34:16.642980",
     "status": "completed"
    },
    "tags": []
   },
   "outputs": [
    {
     "name": "stdout",
     "output_type": "stream",
     "text": [
      "[False, False, False, True, True]\n"
     ]
    }
   ],
   "source": [
    "test_liked = [i>=4 for i in test_ratings]\n",
    "print(test_liked)"
   ]
  },
  {
   "cell_type": "markdown",
   "id": "cc848c65",
   "metadata": {
    "papermill": {
     "duration": 0.006644,
     "end_time": "2024-10-29T08:34:16.673218",
     "exception": false,
     "start_time": "2024-10-29T08:34:16.666574",
     "status": "completed"
    },
    "tags": []
   },
   "source": [
    "In this question, you'll use this list comprehension to define a function `percentage_liked()` that takes one argument as input:\n",
    "- `ratings`: list of ratings that people gave to a movie, where each rating is a number between 1-5, inclusive\n",
    "\n",
    "We say someone liked the movie, if they gave a rating of either 4 or 5.  Your function should return the percentage of people who liked the movie.\n",
    "\n",
    "For instance, if we supply a value of `[1, 2, 3, 4, 5, 4, 5, 1]`, then 50% (4/8) of the people liked the movie, and the function should return `0.5`.\n",
    "\n",
    "Part of the function has already been completed for you.  You need only use `list_liked` to calculate `percentage_liked`."
   ]
  },
  {
   "cell_type": "code",
   "execution_count": 12,
   "id": "8af0ca56",
   "metadata": {
    "execution": {
     "iopub.execute_input": "2024-10-29T08:34:16.688805Z",
     "iopub.status.busy": "2024-10-29T08:34:16.688430Z",
     "iopub.status.idle": "2024-10-29T08:34:16.698471Z",
     "shell.execute_reply": "2024-10-29T08:34:16.697421Z"
    },
    "papermill": {
     "duration": 0.020633,
     "end_time": "2024-10-29T08:34:16.700762",
     "exception": false,
     "start_time": "2024-10-29T08:34:16.680129",
     "status": "completed"
    },
    "tags": []
   },
   "outputs": [
    {
     "data": {
      "application/javascript": [
       "parent.postMessage({\"jupyterEvent\": \"custom.exercise_interaction\", \"data\": {\"outcomeType\": 2, \"failureMessage\": \"Expected return value of `0.5` given `ratings=[1, 2, 3, 4, 5, 4, 5, 1]`, but got `1.0` instead.\", \"interactionType\": 1, \"questionType\": 2, \"questionId\": \"4_PercentageLiked\", \"learnToolsVersion\": \"0.3.4\", \"valueTowardsCompletion\": 0.0, \"exceptionClass\": \"\", \"trace\": \"\"}}, \"*\")"
      ],
      "text/plain": [
       "<IPython.core.display.Javascript object>"
      ]
     },
     "metadata": {},
     "output_type": "display_data"
    },
    {
     "data": {
      "text/markdown": [
       "<span style=\"color:#cc3333\">Incorrect:</span> Expected return value of `0.5` given `ratings=[1, 2, 3, 4, 5, 4, 5, 1]`, but got `1.0` instead."
      ],
      "text/plain": [
       "Incorrect: Expected return value of `0.5` given `ratings=[1, 2, 3, 4, 5, 4, 5, 1]`, but got `1.0` instead."
      ]
     },
     "metadata": {},
     "output_type": "display_data"
    }
   ],
   "source": [
    "\n",
    "def percentage_liked(ratings):\n",
    "    list_liked = [i>=4 for i in ratings]\n",
    "    # TODO: Complete the function\n",
    "    percentage_liked = len(list_liked)/len(ratings)\n",
    "    return percentage_liked\n",
    "\n",
    "# Do not change: should return 0.5\n",
    "percentage_liked([1, 2, 3, 4, 5, 4, 5, 1])\n",
    "\n",
    "# Do not change: Check your answer\n",
    "q4.check()"
   ]
  },
  {
   "cell_type": "code",
   "execution_count": 13,
   "id": "de72353d",
   "metadata": {
    "execution": {
     "iopub.execute_input": "2024-10-29T08:34:16.717006Z",
     "iopub.status.busy": "2024-10-29T08:34:16.716612Z",
     "iopub.status.idle": "2024-10-29T08:34:16.721278Z",
     "shell.execute_reply": "2024-10-29T08:34:16.720107Z"
    },
    "papermill": {
     "duration": 0.015711,
     "end_time": "2024-10-29T08:34:16.723753",
     "exception": false,
     "start_time": "2024-10-29T08:34:16.708042",
     "status": "completed"
    },
    "tags": []
   },
   "outputs": [],
   "source": [
    "# Uncomment to see a hint\n",
    "#q4.hint()\n",
    "\n",
    "# Uncomment to see the solution\n",
    "#q4.solution()"
   ]
  },
  {
   "cell_type": "markdown",
   "id": "63a4ac3a",
   "metadata": {
    "papermill": {
     "duration": 0.007231,
     "end_time": "2024-10-29T08:34:16.738431",
     "exception": false,
     "start_time": "2024-10-29T08:34:16.731200",
     "status": "completed"
    },
    "tags": []
   },
   "source": [
    "# 🌶️ Question 5\n",
    " \n",
    "Say you're doing analytics for a website.  You need to write a function that returns the percentage growth in the total number of users relative to a specified number of years ago.\n",
    "\n",
    "Your function `percentage_growth()` should take two arguments as input:\n",
    "- `num_users` = Python list with the total number of users each year.  So `num_users[0]` is the total number of users in the first year, `num_users[1]` is the total number of users in the second year, and so on.  The final entry in the list gives the total number of users in the most recently completed year.\n",
    "- `yrs_ago` = number of years to go back in time when calculating the growth percentage\n",
    "\n",
    "For instance, say `num_users = [920344, 1043553, 1204334, 1458996, 1503323, 1593432, 1623463, 1843064, 1930992, 2001078]`.\n",
    "- if `yrs_ago = 1`, we want the function to return a value of about `0.036`. This corresponds to a percentage growth of approximately 3.6%, calculated as (2001078 - 1930992)/1930992.\n",
    "- if `years_ago = 7`, we would want to return approximately `0.66`.  This corresponds to a percentage growth of approximately 66%, calculated as (2001078 - 1204334)/1204334.\n",
    "\n",
    "Your coworker sent you a draft of a function, but it doesn't seem to be doing the correct calculation.  Can you figure out what has gone wrong and make the needed changes?"
   ]
  },
  {
   "cell_type": "code",
   "execution_count": 14,
   "id": "14620b11",
   "metadata": {
    "execution": {
     "iopub.execute_input": "2024-10-29T08:34:16.754704Z",
     "iopub.status.busy": "2024-10-29T08:34:16.754271Z",
     "iopub.status.idle": "2024-10-29T08:34:16.767874Z",
     "shell.execute_reply": "2024-10-29T08:34:16.766765Z"
    },
    "papermill": {
     "duration": 0.024366,
     "end_time": "2024-10-29T08:34:16.770115",
     "exception": false,
     "start_time": "2024-10-29T08:34:16.745749",
     "status": "completed"
    },
    "tags": []
   },
   "outputs": [
    {
     "name": "stdout",
     "output_type": "stream",
     "text": [
      "0.0\n",
      "0.2807272117129434\n"
     ]
    },
    {
     "data": {
      "application/javascript": [
       "parent.postMessage({\"jupyterEvent\": \"custom.exercise_interaction\", \"data\": {\"outcomeType\": 2, \"failureMessage\": \"Expected return value of `0.03629533421163837` given `num_users=[920344, 1043553, 1204334, 1458996, 1503323, 1593432, 1623463, 1843064, 1930992, 2001078]`, `yrs_ago=1`, but got `0.0` instead.\", \"interactionType\": 1, \"questionType\": 2, \"questionId\": \"5_WebsiteAnalytics\", \"learnToolsVersion\": \"0.3.4\", \"valueTowardsCompletion\": 0.0, \"exceptionClass\": \"\", \"trace\": \"\"}}, \"*\")"
      ],
      "text/plain": [
       "<IPython.core.display.Javascript object>"
      ]
     },
     "metadata": {},
     "output_type": "display_data"
    },
    {
     "data": {
      "text/markdown": [
       "<span style=\"color:#cc3333\">Incorrect:</span> Expected return value of `0.03629533421163837` given `num_users=[920344, 1043553, 1204334, 1458996, 1503323, 1593432, 1623463, 1843064, 1930992, 2001078]`, `yrs_ago=1`, but got `0.0` instead."
      ],
      "text/plain": [
       "Incorrect: Expected return value of `0.03629533421163837` given `num_users=[920344, 1043553, 1204334, 1458996, 1503323, 1593432, 1623463, 1843064, 1930992, 2001078]`, `yrs_ago=1`, but got `0.0` instead."
      ]
     },
     "metadata": {},
     "output_type": "display_data"
    }
   ],
   "source": [
    "# TODO: Edit the function\n",
    "def percentage_growth(num_users, yrs_ago):\n",
    "    growth = (num_users[len(num_users)-1] - num_users[len(num_users)-yrs_ago])/num_users[len(num_users)-2]\n",
    "    return growth\n",
    "\n",
    "# Do not change: Variable for calculating some test examples\n",
    "num_users_test = [920344, 1043553, 1204334, 1458996, 1503323, 1593432, 1623463, 1843064, 1930992, 2001078]\n",
    "\n",
    "# Do not change: Should return .036\n",
    "print(percentage_growth(num_users_test, 1))\n",
    "\n",
    "# Do not change: Should return 0.66\n",
    "print(percentage_growth(num_users_test, 7))\n",
    "\n",
    "# Do not change: Check your answer\n",
    "q5.check()"
   ]
  },
  {
   "cell_type": "code",
   "execution_count": 15,
   "id": "d14fcd4c",
   "metadata": {
    "execution": {
     "iopub.execute_input": "2024-10-29T08:34:16.787311Z",
     "iopub.status.busy": "2024-10-29T08:34:16.786928Z",
     "iopub.status.idle": "2024-10-29T08:34:16.791734Z",
     "shell.execute_reply": "2024-10-29T08:34:16.790453Z"
    },
    "papermill": {
     "duration": 0.015944,
     "end_time": "2024-10-29T08:34:16.794023",
     "exception": false,
     "start_time": "2024-10-29T08:34:16.778079",
     "status": "completed"
    },
    "tags": []
   },
   "outputs": [],
   "source": [
    "# Uncomment to see a hint\n",
    "#q5.hint()\n",
    "\n",
    "# Uncomment to see the solution\n",
    "#q5.solution()"
   ]
  },
  {
   "cell_type": "markdown",
   "id": "f7e07929",
   "metadata": {
    "papermill": {
     "duration": 0.007511,
     "end_time": "2024-10-29T08:34:16.809311",
     "exception": false,
     "start_time": "2024-10-29T08:34:16.801800",
     "status": "completed"
    },
    "tags": []
   },
   "source": [
    "# Congratulations!\n",
    "\n",
    "Congratulations for finishing the Intro to Programming course!  You should be proud of your very first steps with learning programming.  As next steps, we recommend taking:\n",
    "- the **[Python course](http://www.kaggle.com/learn/python)**, and \n",
    "- the **[Intro to Machine Learning course](https://www.kaggle.com/learn/intro-to-machine-learning)**."
   ]
  },
  {
   "cell_type": "markdown",
   "id": "050600ed",
   "metadata": {
    "papermill": {
     "duration": 0.007799,
     "end_time": "2024-10-29T08:34:16.824829",
     "exception": false,
     "start_time": "2024-10-29T08:34:16.817030",
     "status": "completed"
    },
    "tags": []
   },
   "source": [
    "---\n",
    "\n",
    "\n",
    "\n",
    "\n",
    "*Have questions or comments? Visit the [course discussion forum](https://www.kaggle.com/learn/intro-to-programming/discussion) to chat with other learners.*"
   ]
  }
 ],
 "metadata": {
  "kaggle": {
   "accelerator": "none",
   "dataSources": [],
   "isGpuEnabled": false,
   "isInternetEnabled": false,
   "language": "python",
   "sourceType": "notebook"
  },
  "kernelspec": {
   "display_name": "Python 3",
   "language": "python",
   "name": "python3"
  },
  "language_info": {
   "codemirror_mode": {
    "name": "ipython",
    "version": 3
   },
   "file_extension": ".py",
   "mimetype": "text/x-python",
   "name": "python",
   "nbconvert_exporter": "python",
   "pygments_lexer": "ipython3",
   "version": "3.10.14"
  },
  "papermill": {
   "default_parameters": {},
   "duration": 4.902689,
   "end_time": "2024-10-29T08:34:17.353075",
   "environment_variables": {},
   "exception": null,
   "input_path": "__notebook__.ipynb",
   "output_path": "__notebook__.ipynb",
   "parameters": {},
   "start_time": "2024-10-29T08:34:12.450386",
   "version": "2.6.0"
  }
 },
 "nbformat": 4,
 "nbformat_minor": 5
}
