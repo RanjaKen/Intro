{
 "cells": [
  {
   "cell_type": "markdown",
   "id": "3c2e2644",
   "metadata": {
    "papermill": {
     "duration": 0.006862,
     "end_time": "2024-10-29T08:39:26.983880",
     "exception": false,
     "start_time": "2024-10-29T08:39:26.977018",
     "status": "completed"
    },
    "tags": []
   },
   "source": [
    "**This notebook is an exercise in the [Intro to Programming](https://www.kaggle.com/learn/intro-to-programming) course.  You can reference the tutorial at [this link](https://www.kaggle.com/alexisbcook/intro-to-lists).**\n",
    "\n",
    "---\n"
   ]
  },
  {
   "cell_type": "markdown",
   "id": "8b1a6cc6",
   "metadata": {
    "papermill": {
     "duration": 0.005802,
     "end_time": "2024-10-29T08:39:26.997540",
     "exception": false,
     "start_time": "2024-10-29T08:39:26.991738",
     "status": "completed"
    },
    "tags": []
   },
   "source": [
    "In the tutorial, you learned how to define and modify Python lists.  In this exercise, you will use your new knowledge to solve several problems.\n",
    "\n",
    "# Set up the notebook\n",
    "\n",
    "Run the next code cell without changes to set up the notebook."
   ]
  },
  {
   "cell_type": "code",
   "execution_count": 1,
   "id": "6ef2b571",
   "metadata": {
    "execution": {
     "iopub.execute_input": "2024-10-29T08:39:27.011786Z",
     "iopub.status.busy": "2024-10-29T08:39:27.011310Z",
     "iopub.status.idle": "2024-10-29T08:39:27.994678Z",
     "shell.execute_reply": "2024-10-29T08:39:27.993341Z"
    },
    "papermill": {
     "duration": 0.99461,
     "end_time": "2024-10-29T08:39:27.998203",
     "exception": false,
     "start_time": "2024-10-29T08:39:27.003593",
     "status": "completed"
    },
    "tags": []
   },
   "outputs": [
    {
     "name": "stdout",
     "output_type": "stream",
     "text": [
      "Setup complete.\n"
     ]
    }
   ],
   "source": [
    "from learntools.core import binder\n",
    "binder.bind(globals())\n",
    "from learntools.intro_to_programming.ex5 import *\n",
    "print('Setup complete.')"
   ]
  },
  {
   "cell_type": "markdown",
   "id": "0eebd9cf",
   "metadata": {
    "papermill": {
     "duration": 0.006163,
     "end_time": "2024-10-29T08:39:28.011467",
     "exception": false,
     "start_time": "2024-10-29T08:39:28.005304",
     "status": "completed"
    },
    "tags": []
   },
   "source": [
    "# Question 1\n",
    "\n",
    "You own a restaurant with five food dishes, organized in the Python list `menu` below.  One day, you decide to:\n",
    "- remove bean soup (`'bean soup'`) from the menu, and\n",
    "- add roasted beet salad (`'roasted beet salad'`) to the menu.\n",
    "\n",
    "Implement this change to the list below.  While completing this task, \n",
    "- do not change the line that creates the `menu` list.  \n",
    "- your answer should use `.remove()` and `.append()`.  "
   ]
  },
  {
   "cell_type": "code",
   "execution_count": 2,
   "id": "968fb51a",
   "metadata": {
    "execution": {
     "iopub.execute_input": "2024-10-29T08:39:28.025756Z",
     "iopub.status.busy": "2024-10-29T08:39:28.025167Z",
     "iopub.status.idle": "2024-10-29T08:39:28.036974Z",
     "shell.execute_reply": "2024-10-29T08:39:28.035869Z"
    },
    "papermill": {
     "duration": 0.021921,
     "end_time": "2024-10-29T08:39:28.039533",
     "exception": false,
     "start_time": "2024-10-29T08:39:28.017612",
     "status": "completed"
    },
    "tags": []
   },
   "outputs": [
    {
     "data": {
      "application/javascript": [
       "parent.postMessage({\"jupyterEvent\": \"custom.exercise_interaction\", \"data\": {\"outcomeType\": 1, \"valueTowardsCompletion\": 0.2, \"interactionType\": 1, \"questionType\": 2, \"questionId\": \"1_FoodMenu\", \"learnToolsVersion\": \"0.3.4\", \"failureMessage\": \"\", \"exceptionClass\": \"\", \"trace\": \"\"}}, \"*\")"
      ],
      "text/plain": [
       "<IPython.core.display.Javascript object>"
      ]
     },
     "metadata": {},
     "output_type": "display_data"
    },
    {
     "data": {
      "text/markdown": [
       "<span style=\"color:#33cc33\">Correct</span>"
      ],
      "text/plain": [
       "Correct"
      ]
     },
     "metadata": {},
     "output_type": "display_data"
    }
   ],
   "source": [
    "# Do not change: Initial menu for your restaurant\n",
    "menu = ['stewed meat with onions', 'bean soup', 'risotto with trout and shrimp',\n",
    "       'fish soup with cream and onion', 'gyro']\n",
    "\n",
    "# TODO: remove 'bean soup', and add 'roasted beet salad' to the end of the menu\n",
    "menu.remove(\"bean soup\")\n",
    "menu.append(\"roasted beet salad\")\n",
    "\n",
    "# Do not change: Check your answer\n",
    "q1.check()"
   ]
  },
  {
   "cell_type": "code",
   "execution_count": 3,
   "id": "5b57d794",
   "metadata": {
    "execution": {
     "iopub.execute_input": "2024-10-29T08:39:28.055496Z",
     "iopub.status.busy": "2024-10-29T08:39:28.055084Z",
     "iopub.status.idle": "2024-10-29T08:39:28.060316Z",
     "shell.execute_reply": "2024-10-29T08:39:28.058982Z"
    },
    "papermill": {
     "duration": 0.015526,
     "end_time": "2024-10-29T08:39:28.062753",
     "exception": false,
     "start_time": "2024-10-29T08:39:28.047227",
     "status": "completed"
    },
    "tags": []
   },
   "outputs": [],
   "source": [
    "# Uncomment to see a hint\n",
    "#q1.hint()\n",
    "\n",
    "# Uncomment to see the solution\n",
    "#q1.solution()"
   ]
  },
  {
   "cell_type": "markdown",
   "id": "924b743d",
   "metadata": {
    "papermill": {
     "duration": 0.006345,
     "end_time": "2024-10-29T08:39:28.075703",
     "exception": false,
     "start_time": "2024-10-29T08:39:28.069358",
     "status": "completed"
    },
    "tags": []
   },
   "source": [
    "# Question 2\n",
    "\n",
    "The list `num_customers` contains the number of customers who came into your restaurant every day over the last month (which lasted thirty days).  Fill in values for each of the following:\n",
    "- `avg_first_seven` - average number of customers who visited in the first seven days\n",
    "- `avg_last_seven` - average number of customers who visited in the last seven days\n",
    "- `max_month` - number of customers on the day that got the most customers in the last month\n",
    "- `min_month` - number of customers on the day that got the least customers in the last month\n",
    "\n",
    "Answer this question by writing code.  For instance, if you have to find the minimum value in a list, use `min()` instead of scanning for the smallest value and directly filling in a number."
   ]
  },
  {
   "cell_type": "code",
   "execution_count": 4,
   "id": "1c7b51f8",
   "metadata": {
    "execution": {
     "iopub.execute_input": "2024-10-29T08:39:28.090553Z",
     "iopub.status.busy": "2024-10-29T08:39:28.090110Z",
     "iopub.status.idle": "2024-10-29T08:39:28.101853Z",
     "shell.execute_reply": "2024-10-29T08:39:28.100655Z"
    },
    "papermill": {
     "duration": 0.02194,
     "end_time": "2024-10-29T08:39:28.104173",
     "exception": false,
     "start_time": "2024-10-29T08:39:28.082233",
     "status": "completed"
    },
    "tags": []
   },
   "outputs": [
    {
     "data": {
      "application/javascript": [
       "parent.postMessage({\"jupyterEvent\": \"custom.exercise_interaction\", \"data\": {\"outcomeType\": 1, \"valueTowardsCompletion\": 0.2, \"interactionType\": 1, \"questionType\": 1, \"questionId\": \"2_NumCustomers\", \"learnToolsVersion\": \"0.3.4\", \"failureMessage\": \"\", \"exceptionClass\": \"\", \"trace\": \"\"}}, \"*\")"
      ],
      "text/plain": [
       "<IPython.core.display.Javascript object>"
      ]
     },
     "metadata": {},
     "output_type": "display_data"
    },
    {
     "data": {
      "text/markdown": [
       "<span style=\"color:#33cc33\">Correct</span>"
      ],
      "text/plain": [
       "Correct"
      ]
     },
     "metadata": {},
     "output_type": "display_data"
    }
   ],
   "source": [
    "# Do not change: Number of customers each day for the last month\n",
    "num_customers = [137, 147, 135, 128, 170, 174, 165, 146, 126, 159,\n",
    "                 141, 148, 132, 147, 168, 153, 170, 161, 148, 152,\n",
    "                 141, 151, 131, 149, 164, 163, 143, 143, 166, 171]\n",
    "\n",
    "# TODO: Fill in values for the variables below\n",
    "avg_first_seven = sum(num_customers[:7])/7\n",
    "avg_last_seven = sum(num_customers[-7:])/7\n",
    "max_month = max(num_customers)\n",
    "min_month = min(num_customers)\n",
    "\n",
    "# Do not change: Check your answer\n",
    "q2.check()"
   ]
  },
  {
   "cell_type": "code",
   "execution_count": 5,
   "id": "de114a0a",
   "metadata": {
    "execution": {
     "iopub.execute_input": "2024-10-29T08:39:28.120152Z",
     "iopub.status.busy": "2024-10-29T08:39:28.119245Z",
     "iopub.status.idle": "2024-10-29T08:39:28.124567Z",
     "shell.execute_reply": "2024-10-29T08:39:28.123345Z"
    },
    "papermill": {
     "duration": 0.016018,
     "end_time": "2024-10-29T08:39:28.127042",
     "exception": false,
     "start_time": "2024-10-29T08:39:28.111024",
     "status": "completed"
    },
    "tags": []
   },
   "outputs": [],
   "source": [
    "# Uncomment to see a hint\n",
    "#q2.hint()\n",
    "\n",
    "# Uncomment to see the solution\n",
    "#q2.solution()"
   ]
  },
  {
   "cell_type": "markdown",
   "id": "d1a73b45",
   "metadata": {
    "papermill": {
     "duration": 0.006457,
     "end_time": "2024-10-29T08:39:28.140290",
     "exception": false,
     "start_time": "2024-10-29T08:39:28.133833",
     "status": "completed"
    },
    "tags": []
   },
   "source": [
    "# Question 3\n",
    "\n",
    "In the tutorial, we gave an example of a Python string with information that was better as a list."
   ]
  },
  {
   "cell_type": "code",
   "execution_count": 6,
   "id": "4bb77d83",
   "metadata": {
    "execution": {
     "iopub.execute_input": "2024-10-29T08:39:28.155746Z",
     "iopub.status.busy": "2024-10-29T08:39:28.155315Z",
     "iopub.status.idle": "2024-10-29T08:39:28.160755Z",
     "shell.execute_reply": "2024-10-29T08:39:28.159601Z"
    },
    "papermill": {
     "duration": 0.016003,
     "end_time": "2024-10-29T08:39:28.163250",
     "exception": false,
     "start_time": "2024-10-29T08:39:28.147247",
     "status": "completed"
    },
    "tags": []
   },
   "outputs": [],
   "source": [
    "flowers = \"pink primrose,hard-leaved pocket orchid,canterbury bells,sweet pea,english marigold,tiger lily,moon orchid,bird of paradise,monkshood,globe thistle\""
   ]
  },
  {
   "cell_type": "markdown",
   "id": "77e68995",
   "metadata": {
    "papermill": {
     "duration": 0.006432,
     "end_time": "2024-10-29T08:39:28.176399",
     "exception": false,
     "start_time": "2024-10-29T08:39:28.169967",
     "status": "completed"
    },
    "tags": []
   },
   "source": [
    "You can actually use Python to quickly turn this string into a list with `.split()`.  In the parentheses, we need to provide the character should be used to mark the end of one list item and the beginning of another, and enclose it in quotation marks.  In this case, that character is a comma."
   ]
  },
  {
   "cell_type": "code",
   "execution_count": 7,
   "id": "66a95206",
   "metadata": {
    "execution": {
     "iopub.execute_input": "2024-10-29T08:39:28.191990Z",
     "iopub.status.busy": "2024-10-29T08:39:28.191574Z",
     "iopub.status.idle": "2024-10-29T08:39:28.197717Z",
     "shell.execute_reply": "2024-10-29T08:39:28.196576Z"
    },
    "papermill": {
     "duration": 0.016599,
     "end_time": "2024-10-29T08:39:28.200061",
     "exception": false,
     "start_time": "2024-10-29T08:39:28.183462",
     "status": "completed"
    },
    "tags": []
   },
   "outputs": [
    {
     "name": "stdout",
     "output_type": "stream",
     "text": [
      "['pink primrose', 'hard-leaved pocket orchid', 'canterbury bells', 'sweet pea', 'english marigold', 'tiger lily', 'moon orchid', 'bird of paradise', 'monkshood', 'globe thistle']\n"
     ]
    }
   ],
   "source": [
    " print(flowers.split(\",\"))"
   ]
  },
  {
   "cell_type": "markdown",
   "id": "9170dc82",
   "metadata": {
    "papermill": {
     "duration": 0.006611,
     "end_time": "2024-10-29T08:39:28.213526",
     "exception": false,
     "start_time": "2024-10-29T08:39:28.206915",
     "status": "completed"
    },
    "tags": []
   },
   "source": [
    "Now it is your turn to try this out!  Create two Python lists:\n",
    "- `letters` should be a Python list where each entry is an uppercase letter of the English alphabet.  For instance, the first two entries should be `\"A\"` and `\"B\"`, and the final two entries should be `\"Y\"` and `\"Z\"`.  Use the string `alphabet` to create this list.\n",
    "- `address` should be a Python list where each row in `address` is a different item in the list.  Currently, each row in `address` is separated by a comma. "
   ]
  },
  {
   "cell_type": "code",
   "execution_count": 8,
   "id": "182ef0a2",
   "metadata": {
    "execution": {
     "iopub.execute_input": "2024-10-29T08:39:28.229360Z",
     "iopub.status.busy": "2024-10-29T08:39:28.228936Z",
     "iopub.status.idle": "2024-10-29T08:39:28.240576Z",
     "shell.execute_reply": "2024-10-29T08:39:28.239235Z"
    },
    "papermill": {
     "duration": 0.022552,
     "end_time": "2024-10-29T08:39:28.243035",
     "exception": false,
     "start_time": "2024-10-29T08:39:28.220483",
     "status": "completed"
    },
    "tags": []
   },
   "outputs": [
    {
     "data": {
      "application/javascript": [
       "parent.postMessage({\"jupyterEvent\": \"custom.exercise_interaction\", \"data\": {\"outcomeType\": 1, \"valueTowardsCompletion\": 0.2, \"interactionType\": 1, \"questionType\": 1, \"questionId\": \"3_SplitString\", \"learnToolsVersion\": \"0.3.4\", \"failureMessage\": \"\", \"exceptionClass\": \"\", \"trace\": \"\"}}, \"*\")"
      ],
      "text/plain": [
       "<IPython.core.display.Javascript object>"
      ]
     },
     "metadata": {},
     "output_type": "display_data"
    },
    {
     "data": {
      "text/markdown": [
       "<span style=\"color:#33cc33\">Correct</span>"
      ],
      "text/plain": [
       "Correct"
      ]
     },
     "metadata": {},
     "output_type": "display_data"
    }
   ],
   "source": [
    "# DO not change: Define two Python strings\n",
    "alphabet = \"A.B.C.D.E.F.G.H.I.J.K.L.M.N.O.P.Q.R.S.T.U.V.W.X.Y.Z\"\n",
    "address = \"Mr. H. Potter,The cupboard under the Stairs,4 Privet Drive,Little Whinging,Surrey\"\n",
    "\n",
    "# TODO: Convert strings into Python lists\n",
    "letters = alphabet.split(\".\")\n",
    "formatted_address = address.split(\",\")\n",
    "\n",
    "# Do not change: Check your answer\n",
    "q3.check()"
   ]
  },
  {
   "cell_type": "code",
   "execution_count": 9,
   "id": "ed0e3e54",
   "metadata": {
    "execution": {
     "iopub.execute_input": "2024-10-29T08:39:28.259043Z",
     "iopub.status.busy": "2024-10-29T08:39:28.258656Z",
     "iopub.status.idle": "2024-10-29T08:39:28.263826Z",
     "shell.execute_reply": "2024-10-29T08:39:28.262497Z"
    },
    "papermill": {
     "duration": 0.016046,
     "end_time": "2024-10-29T08:39:28.266257",
     "exception": false,
     "start_time": "2024-10-29T08:39:28.250211",
     "status": "completed"
    },
    "tags": []
   },
   "outputs": [],
   "source": [
    "# Uncomment to see a hint\n",
    "#q3.hint()\n",
    "\n",
    "# Uncomment to see the solution\n",
    "#q3.solution()"
   ]
  },
  {
   "cell_type": "markdown",
   "id": "aac7422f",
   "metadata": {
    "papermill": {
     "duration": 0.007101,
     "end_time": "2024-10-29T08:39:28.280541",
     "exception": false,
     "start_time": "2024-10-29T08:39:28.273440",
     "status": "completed"
    },
    "tags": []
   },
   "source": [
    "# Question 4\n",
    "\n",
    "In the Python course, you'll learn all about **list comprehensions**, which allow you to create a list based on the values in another list.  In this question, you'll get a brief preview of how they work.\n",
    "\n",
    "Say we're working with the list below."
   ]
  },
  {
   "cell_type": "code",
   "execution_count": 10,
   "id": "6243dd22",
   "metadata": {
    "execution": {
     "iopub.execute_input": "2024-10-29T08:39:28.296399Z",
     "iopub.status.busy": "2024-10-29T08:39:28.296011Z",
     "iopub.status.idle": "2024-10-29T08:39:28.301408Z",
     "shell.execute_reply": "2024-10-29T08:39:28.300362Z"
    },
    "papermill": {
     "duration": 0.016487,
     "end_time": "2024-10-29T08:39:28.304001",
     "exception": false,
     "start_time": "2024-10-29T08:39:28.287514",
     "status": "completed"
    },
    "tags": []
   },
   "outputs": [],
   "source": [
    "test_ratings = [1, 2, 3, 4, 5]"
   ]
  },
  {
   "cell_type": "markdown",
   "id": "ca1c1586",
   "metadata": {
    "papermill": {
     "duration": 0.006757,
     "end_time": "2024-10-29T08:39:28.317824",
     "exception": false,
     "start_time": "2024-10-29T08:39:28.311067",
     "status": "completed"
    },
    "tags": []
   },
   "source": [
    "Then we can use this list (`test_ratings`) to create a new list (`test_liked`) where each item has been turned into a boolean, depending on whether or not the item is greater than or equal to four."
   ]
  },
  {
   "cell_type": "code",
   "execution_count": 11,
   "id": "a4024994",
   "metadata": {
    "execution": {
     "iopub.execute_input": "2024-10-29T08:39:28.333682Z",
     "iopub.status.busy": "2024-10-29T08:39:28.333200Z",
     "iopub.status.idle": "2024-10-29T08:39:28.338927Z",
     "shell.execute_reply": "2024-10-29T08:39:28.337881Z"
    },
    "papermill": {
     "duration": 0.01644,
     "end_time": "2024-10-29T08:39:28.341163",
     "exception": false,
     "start_time": "2024-10-29T08:39:28.324723",
     "status": "completed"
    },
    "tags": []
   },
   "outputs": [
    {
     "name": "stdout",
     "output_type": "stream",
     "text": [
      "[False, False, False, True, True]\n"
     ]
    }
   ],
   "source": [
    "test_liked = [i>=4 for i in test_ratings]\n",
    "print(test_liked)"
   ]
  },
  {
   "cell_type": "markdown",
   "id": "652c568f",
   "metadata": {
    "papermill": {
     "duration": 0.006926,
     "end_time": "2024-10-29T08:39:28.355258",
     "exception": false,
     "start_time": "2024-10-29T08:39:28.348332",
     "status": "completed"
    },
    "tags": []
   },
   "source": [
    "In this question, you'll use this list comprehension to define a function `percentage_liked()` that takes one argument as input:\n",
    "- `ratings`: list of ratings that people gave to a movie, where each rating is a number between 1-5, inclusive\n",
    "\n",
    "We say someone liked the movie, if they gave a rating of either 4 or 5.  Your function should return the percentage of people who liked the movie.\n",
    "\n",
    "For instance, if we supply a value of `[1, 2, 3, 4, 5, 4, 5, 1]`, then 50% (4/8) of the people liked the movie, and the function should return `0.5`.\n",
    "\n",
    "Part of the function has already been completed for you.  You need only use `list_liked` to calculate `percentage_liked`."
   ]
  },
  {
   "cell_type": "code",
   "execution_count": 12,
   "id": "2b9f024d",
   "metadata": {
    "execution": {
     "iopub.execute_input": "2024-10-29T08:39:28.371525Z",
     "iopub.status.busy": "2024-10-29T08:39:28.370963Z",
     "iopub.status.idle": "2024-10-29T08:39:28.383082Z",
     "shell.execute_reply": "2024-10-29T08:39:28.382014Z"
    },
    "papermill": {
     "duration": 0.023245,
     "end_time": "2024-10-29T08:39:28.385504",
     "exception": false,
     "start_time": "2024-10-29T08:39:28.362259",
     "status": "completed"
    },
    "tags": []
   },
   "outputs": [
    {
     "data": {
      "application/javascript": [
       "parent.postMessage({\"jupyterEvent\": \"custom.exercise_interaction\", \"data\": {\"outcomeType\": 1, \"valueTowardsCompletion\": 0.2, \"interactionType\": 1, \"questionType\": 2, \"questionId\": \"4_PercentageLiked\", \"learnToolsVersion\": \"0.3.4\", \"failureMessage\": \"\", \"exceptionClass\": \"\", \"trace\": \"\"}}, \"*\")"
      ],
      "text/plain": [
       "<IPython.core.display.Javascript object>"
      ]
     },
     "metadata": {},
     "output_type": "display_data"
    },
    {
     "data": {
      "text/markdown": [
       "<span style=\"color:#33cc33\">Correct</span>"
      ],
      "text/plain": [
       "Correct"
      ]
     },
     "metadata": {},
     "output_type": "display_data"
    }
   ],
   "source": [
    "\n",
    "def percentage_liked(ratings):\n",
    "    list_liked = [i>=4 for i in ratings]\n",
    "    # TODO: Complete the function\n",
    "   \n",
    "    percentage_liked = sum(list_liked)/len(ratings)\n",
    "    return percentage_liked\n",
    "\n",
    "# Do not change: should return 0.5\n",
    "percentage_liked([1, 2, 3, 4, 5, 4, 5, 1])\n",
    "\n",
    "# Do not change: Check your answer\n",
    "q4.check()"
   ]
  },
  {
   "cell_type": "code",
   "execution_count": 13,
   "id": "2a98efd0",
   "metadata": {
    "execution": {
     "iopub.execute_input": "2024-10-29T08:39:28.402372Z",
     "iopub.status.busy": "2024-10-29T08:39:28.401782Z",
     "iopub.status.idle": "2024-10-29T08:39:28.407183Z",
     "shell.execute_reply": "2024-10-29T08:39:28.406040Z"
    },
    "papermill": {
     "duration": 0.016966,
     "end_time": "2024-10-29T08:39:28.409916",
     "exception": false,
     "start_time": "2024-10-29T08:39:28.392950",
     "status": "completed"
    },
    "tags": []
   },
   "outputs": [],
   "source": [
    "# Uncomment to see a hint\n",
    "#q4.hint()\n",
    "\n",
    "# Uncomment to see the solution\n",
    "#q4.solution()"
   ]
  },
  {
   "cell_type": "markdown",
   "id": "1dafa339",
   "metadata": {
    "papermill": {
     "duration": 0.007148,
     "end_time": "2024-10-29T08:39:28.425182",
     "exception": false,
     "start_time": "2024-10-29T08:39:28.418034",
     "status": "completed"
    },
    "tags": []
   },
   "source": [
    "# 🌶️ Question 5\n",
    " \n",
    "Say you're doing analytics for a website.  You need to write a function that returns the percentage growth in the total number of users relative to a specified number of years ago.\n",
    "\n",
    "Your function `percentage_growth()` should take two arguments as input:\n",
    "- `num_users` = Python list with the total number of users each year.  So `num_users[0]` is the total number of users in the first year, `num_users[1]` is the total number of users in the second year, and so on.  The final entry in the list gives the total number of users in the most recently completed year.\n",
    "- `yrs_ago` = number of years to go back in time when calculating the growth percentage\n",
    "\n",
    "For instance, say `num_users = [920344, 1043553, 1204334, 1458996, 1503323, 1593432, 1623463, 1843064, 1930992, 2001078]`.\n",
    "- if `yrs_ago = 1`, we want the function to return a value of about `0.036`. This corresponds to a percentage growth of approximately 3.6%, calculated as (2001078 - 1930992)/1930992.\n",
    "- if `years_ago = 7`, we would want to return approximately `0.66`.  This corresponds to a percentage growth of approximately 66%, calculated as (2001078 - 1204334)/1204334.\n",
    "\n",
    "Your coworker sent you a draft of a function, but it doesn't seem to be doing the correct calculation.  Can you figure out what has gone wrong and make the needed changes?"
   ]
  },
  {
   "cell_type": "code",
   "execution_count": 14,
   "id": "51db5515",
   "metadata": {
    "execution": {
     "iopub.execute_input": "2024-10-29T08:39:28.442708Z",
     "iopub.status.busy": "2024-10-29T08:39:28.442186Z",
     "iopub.status.idle": "2024-10-29T08:39:28.454723Z",
     "shell.execute_reply": "2024-10-29T08:39:28.453480Z"
    },
    "papermill": {
     "duration": 0.024255,
     "end_time": "2024-10-29T08:39:28.456985",
     "exception": false,
     "start_time": "2024-10-29T08:39:28.432730",
     "status": "completed"
    },
    "tags": []
   },
   "outputs": [
    {
     "name": "stdout",
     "output_type": "stream",
     "text": [
      "0.0\n",
      "0.2807272117129434\n"
     ]
    },
    {
     "data": {
      "application/javascript": [
       "parent.postMessage({\"jupyterEvent\": \"custom.exercise_interaction\", \"data\": {\"outcomeType\": 2, \"failureMessage\": \"Expected return value of `0.03629533421163837` given `num_users=[920344, 1043553, 1204334, 1458996, 1503323, 1593432, 1623463, 1843064, 1930992, 2001078]`, `yrs_ago=1`, but got `0.0` instead.\", \"interactionType\": 1, \"questionType\": 2, \"questionId\": \"5_WebsiteAnalytics\", \"learnToolsVersion\": \"0.3.4\", \"valueTowardsCompletion\": 0.0, \"exceptionClass\": \"\", \"trace\": \"\"}}, \"*\")"
      ],
      "text/plain": [
       "<IPython.core.display.Javascript object>"
      ]
     },
     "metadata": {},
     "output_type": "display_data"
    },
    {
     "data": {
      "text/markdown": [
       "<span style=\"color:#cc3333\">Incorrect:</span> Expected return value of `0.03629533421163837` given `num_users=[920344, 1043553, 1204334, 1458996, 1503323, 1593432, 1623463, 1843064, 1930992, 2001078]`, `yrs_ago=1`, but got `0.0` instead."
      ],
      "text/plain": [
       "Incorrect: Expected return value of `0.03629533421163837` given `num_users=[920344, 1043553, 1204334, 1458996, 1503323, 1593432, 1623463, 1843064, 1930992, 2001078]`, `yrs_ago=1`, but got `0.0` instead."
      ]
     },
     "metadata": {},
     "output_type": "display_data"
    }
   ],
   "source": [
    "# TODO: Edit the function\n",
    "def percentage_growth(num_users, yrs_ago):\n",
    "    growth = (num_users[len(num_users)-1] - num_users[len(num_users)-yrs_ago])/num_users[len(num_users)-2]\n",
    "    return growth\n",
    "\n",
    "# Do not change: Variable for calculating some test examples\n",
    "num_users_test = [920344, 1043553, 1204334, 1458996, 1503323, 1593432, 1623463, 1843064, 1930992, 2001078]\n",
    "\n",
    "# Do not change: Should return .036\n",
    "print(percentage_growth(num_users_test, 1))\n",
    "\n",
    "# Do not change: Should return 0.66\n",
    "print(percentage_growth(num_users_test, 7))\n",
    "\n",
    "# Do not change: Check your answer\n",
    "q5.check()"
   ]
  },
  {
   "cell_type": "code",
   "execution_count": 15,
   "id": "8b583f02",
   "metadata": {
    "execution": {
     "iopub.execute_input": "2024-10-29T08:39:28.474397Z",
     "iopub.status.busy": "2024-10-29T08:39:28.473956Z",
     "iopub.status.idle": "2024-10-29T08:39:28.478780Z",
     "shell.execute_reply": "2024-10-29T08:39:28.477492Z"
    },
    "papermill": {
     "duration": 0.016534,
     "end_time": "2024-10-29T08:39:28.481229",
     "exception": false,
     "start_time": "2024-10-29T08:39:28.464695",
     "status": "completed"
    },
    "tags": []
   },
   "outputs": [],
   "source": [
    "# Uncomment to see a hint\n",
    "#q5.hint()\n",
    "\n",
    "# Uncomment to see the solution\n",
    "#q5.solution()"
   ]
  },
  {
   "cell_type": "markdown",
   "id": "a61f5363",
   "metadata": {
    "papermill": {
     "duration": 0.007377,
     "end_time": "2024-10-29T08:39:28.496292",
     "exception": false,
     "start_time": "2024-10-29T08:39:28.488915",
     "status": "completed"
    },
    "tags": []
   },
   "source": [
    "# Congratulations!\n",
    "\n",
    "Congratulations for finishing the Intro to Programming course!  You should be proud of your very first steps with learning programming.  As next steps, we recommend taking:\n",
    "- the **[Python course](http://www.kaggle.com/learn/python)**, and \n",
    "- the **[Intro to Machine Learning course](https://www.kaggle.com/learn/intro-to-machine-learning)**."
   ]
  },
  {
   "cell_type": "markdown",
   "id": "1378babd",
   "metadata": {
    "papermill": {
     "duration": 0.007447,
     "end_time": "2024-10-29T08:39:28.511289",
     "exception": false,
     "start_time": "2024-10-29T08:39:28.503842",
     "status": "completed"
    },
    "tags": []
   },
   "source": [
    "---\n",
    "\n",
    "\n",
    "\n",
    "\n",
    "*Have questions or comments? Visit the [course discussion forum](https://www.kaggle.com/learn/intro-to-programming/discussion) to chat with other learners.*"
   ]
  }
 ],
 "metadata": {
  "kaggle": {
   "accelerator": "none",
   "dataSources": [],
   "isGpuEnabled": false,
   "isInternetEnabled": false,
   "language": "python",
   "sourceType": "notebook"
  },
  "kernelspec": {
   "display_name": "Python 3",
   "language": "python",
   "name": "python3"
  },
  "language_info": {
   "codemirror_mode": {
    "name": "ipython",
    "version": 3
   },
   "file_extension": ".py",
   "mimetype": "text/x-python",
   "name": "python",
   "nbconvert_exporter": "python",
   "pygments_lexer": "ipython3",
   "version": "3.10.14"
  },
  "papermill": {
   "default_parameters": {},
   "duration": 4.992862,
   "end_time": "2024-10-29T08:39:29.040968",
   "environment_variables": {},
   "exception": null,
   "input_path": "__notebook__.ipynb",
   "output_path": "__notebook__.ipynb",
   "parameters": {},
   "start_time": "2024-10-29T08:39:24.048106",
   "version": "2.6.0"
  }
 },
 "nbformat": 4,
 "nbformat_minor": 5
}
