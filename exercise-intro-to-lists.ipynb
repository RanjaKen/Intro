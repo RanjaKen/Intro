{
 "cells": [
  {
   "cell_type": "markdown",
   "id": "70145a19",
   "metadata": {
    "papermill": {
     "duration": 0.009197,
     "end_time": "2024-10-29T11:08:05.240236",
     "exception": false,
     "start_time": "2024-10-29T11:08:05.231039",
     "status": "completed"
    },
    "tags": []
   },
   "source": [
    "**This notebook is an exercise in the [Intro to Programming](https://www.kaggle.com/learn/intro-to-programming) course.  You can reference the tutorial at [this link](https://www.kaggle.com/alexisbcook/intro-to-lists).**\n",
    "\n",
    "---\n"
   ]
  },
  {
   "cell_type": "markdown",
   "id": "1ed2caf0",
   "metadata": {
    "papermill": {
     "duration": 0.010149,
     "end_time": "2024-10-29T11:08:05.258981",
     "exception": false,
     "start_time": "2024-10-29T11:08:05.248832",
     "status": "completed"
    },
    "tags": []
   },
   "source": [
    "In the tutorial, you learned how to define and modify Python lists.  In this exercise, you will use your new knowledge to solve several problems.\n",
    "\n",
    "# Set up the notebook\n",
    "\n",
    "Run the next code cell without changes to set up the notebook."
   ]
  },
  {
   "cell_type": "code",
   "execution_count": 1,
   "id": "bf76e1ab",
   "metadata": {
    "execution": {
     "iopub.execute_input": "2024-10-29T11:08:05.277886Z",
     "iopub.status.busy": "2024-10-29T11:08:05.277423Z",
     "iopub.status.idle": "2024-10-29T11:08:06.568924Z",
     "shell.execute_reply": "2024-10-29T11:08:06.567444Z"
    },
    "papermill": {
     "duration": 1.304544,
     "end_time": "2024-10-29T11:08:06.572056",
     "exception": false,
     "start_time": "2024-10-29T11:08:05.267512",
     "status": "completed"
    },
    "tags": []
   },
   "outputs": [
    {
     "name": "stdout",
     "output_type": "stream",
     "text": [
      "Setup complete.\n"
     ]
    }
   ],
   "source": [
    "from learntools.core import binder\n",
    "binder.bind(globals())\n",
    "from learntools.intro_to_programming.ex5 import *\n",
    "print('Setup complete.')"
   ]
  },
  {
   "cell_type": "markdown",
   "id": "c9839910",
   "metadata": {
    "papermill": {
     "duration": 0.008402,
     "end_time": "2024-10-29T11:08:06.589790",
     "exception": false,
     "start_time": "2024-10-29T11:08:06.581388",
     "status": "completed"
    },
    "tags": []
   },
   "source": [
    "# Question 1\n",
    "\n",
    "You own a restaurant with five food dishes, organized in the Python list `menu` below.  One day, you decide to:\n",
    "- remove bean soup (`'bean soup'`) from the menu, and\n",
    "- add roasted beet salad (`'roasted beet salad'`) to the menu.\n",
    "\n",
    "Implement this change to the list below.  While completing this task, \n",
    "- do not change the line that creates the `menu` list.  \n",
    "- your answer should use `.remove()` and `.append()`.  "
   ]
  },
  {
   "cell_type": "code",
   "execution_count": 2,
   "id": "f6a2eeab",
   "metadata": {
    "execution": {
     "iopub.execute_input": "2024-10-29T11:08:06.609403Z",
     "iopub.status.busy": "2024-10-29T11:08:06.608766Z",
     "iopub.status.idle": "2024-10-29T11:08:06.622176Z",
     "shell.execute_reply": "2024-10-29T11:08:06.620742Z"
    },
    "papermill": {
     "duration": 0.026502,
     "end_time": "2024-10-29T11:08:06.624937",
     "exception": false,
     "start_time": "2024-10-29T11:08:06.598435",
     "status": "completed"
    },
    "tags": []
   },
   "outputs": [
    {
     "data": {
      "application/javascript": [
       "parent.postMessage({\"jupyterEvent\": \"custom.exercise_interaction\", \"data\": {\"outcomeType\": 1, \"valueTowardsCompletion\": 0.2, \"interactionType\": 1, \"questionType\": 2, \"questionId\": \"1_FoodMenu\", \"learnToolsVersion\": \"0.3.4\", \"failureMessage\": \"\", \"exceptionClass\": \"\", \"trace\": \"\"}}, \"*\")"
      ],
      "text/plain": [
       "<IPython.core.display.Javascript object>"
      ]
     },
     "metadata": {},
     "output_type": "display_data"
    },
    {
     "data": {
      "text/markdown": [
       "<span style=\"color:#33cc33\">Correct</span>"
      ],
      "text/plain": [
       "Correct"
      ]
     },
     "metadata": {},
     "output_type": "display_data"
    }
   ],
   "source": [
    "# Do not change: Initial menu for your restaurant\n",
    "menu = ['stewed meat with onions', 'bean soup', 'risotto with trout and shrimp',\n",
    "       'fish soup with cream and onion', 'gyro']\n",
    "\n",
    "# TODO: remove 'bean soup', and add 'roasted beet salad' to the end of the menu\n",
    "menu.remove(\"bean soup\")\n",
    "menu.append(\"roasted beet salad\")\n",
    "\n",
    "# Do not change: Check your answer\n",
    "q1.check()"
   ]
  },
  {
   "cell_type": "code",
   "execution_count": 3,
   "id": "92a50ecd",
   "metadata": {
    "execution": {
     "iopub.execute_input": "2024-10-29T11:08:06.646062Z",
     "iopub.status.busy": "2024-10-29T11:08:06.645565Z",
     "iopub.status.idle": "2024-10-29T11:08:06.650912Z",
     "shell.execute_reply": "2024-10-29T11:08:06.649703Z"
    },
    "papermill": {
     "duration": 0.018593,
     "end_time": "2024-10-29T11:08:06.653683",
     "exception": false,
     "start_time": "2024-10-29T11:08:06.635090",
     "status": "completed"
    },
    "tags": []
   },
   "outputs": [],
   "source": [
    "# Uncomment to see a hint\n",
    "#q1.hint()\n",
    "\n",
    "# Uncomment to see the solution\n",
    "#q1.solution()"
   ]
  },
  {
   "cell_type": "markdown",
   "id": "f8e168ca",
   "metadata": {
    "papermill": {
     "duration": 0.008716,
     "end_time": "2024-10-29T11:08:06.671715",
     "exception": false,
     "start_time": "2024-10-29T11:08:06.662999",
     "status": "completed"
    },
    "tags": []
   },
   "source": [
    "# Question 2\n",
    "\n",
    "The list `num_customers` contains the number of customers who came into your restaurant every day over the last month (which lasted thirty days).  Fill in values for each of the following:\n",
    "- `avg_first_seven` - average number of customers who visited in the first seven days\n",
    "- `avg_last_seven` - average number of customers who visited in the last seven days\n",
    "- `max_month` - number of customers on the day that got the most customers in the last month\n",
    "- `min_month` - number of customers on the day that got the least customers in the last month\n",
    "\n",
    "Answer this question by writing code.  For instance, if you have to find the minimum value in a list, use `min()` instead of scanning for the smallest value and directly filling in a number."
   ]
  },
  {
   "cell_type": "code",
   "execution_count": 4,
   "id": "51b42c85",
   "metadata": {
    "execution": {
     "iopub.execute_input": "2024-10-29T11:08:06.692395Z",
     "iopub.status.busy": "2024-10-29T11:08:06.691789Z",
     "iopub.status.idle": "2024-10-29T11:08:06.705102Z",
     "shell.execute_reply": "2024-10-29T11:08:06.703869Z"
    },
    "papermill": {
     "duration": 0.02734,
     "end_time": "2024-10-29T11:08:06.708245",
     "exception": false,
     "start_time": "2024-10-29T11:08:06.680905",
     "status": "completed"
    },
    "tags": []
   },
   "outputs": [
    {
     "data": {
      "application/javascript": [
       "parent.postMessage({\"jupyterEvent\": \"custom.exercise_interaction\", \"data\": {\"outcomeType\": 1, \"valueTowardsCompletion\": 0.2, \"interactionType\": 1, \"questionType\": 1, \"questionId\": \"2_NumCustomers\", \"learnToolsVersion\": \"0.3.4\", \"failureMessage\": \"\", \"exceptionClass\": \"\", \"trace\": \"\"}}, \"*\")"
      ],
      "text/plain": [
       "<IPython.core.display.Javascript object>"
      ]
     },
     "metadata": {},
     "output_type": "display_data"
    },
    {
     "data": {
      "text/markdown": [
       "<span style=\"color:#33cc33\">Correct</span>"
      ],
      "text/plain": [
       "Correct"
      ]
     },
     "metadata": {},
     "output_type": "display_data"
    }
   ],
   "source": [
    "# Do not change: Number of customers each day for the last month\n",
    "num_customers = [137, 147, 135, 128, 170, 174, 165, 146, 126, 159,\n",
    "                 141, 148, 132, 147, 168, 153, 170, 161, 148, 152,\n",
    "                 141, 151, 131, 149, 164, 163, 143, 143, 166, 171]\n",
    "\n",
    "# TODO: Fill in values for the variables below\n",
    "avg_first_seven = sum(num_customers[:7])/7\n",
    "avg_last_seven = sum(num_customers[-7:])/7\n",
    "max_month = max(num_customers)\n",
    "min_month = min(num_customers)\n",
    "\n",
    "# Do not change: Check your answer\n",
    "q2.check()"
   ]
  },
  {
   "cell_type": "code",
   "execution_count": 5,
   "id": "763701f5",
   "metadata": {
    "execution": {
     "iopub.execute_input": "2024-10-29T11:08:06.729934Z",
     "iopub.status.busy": "2024-10-29T11:08:06.729446Z",
     "iopub.status.idle": "2024-10-29T11:08:06.736116Z",
     "shell.execute_reply": "2024-10-29T11:08:06.734464Z"
    },
    "papermill": {
     "duration": 0.021183,
     "end_time": "2024-10-29T11:08:06.739758",
     "exception": false,
     "start_time": "2024-10-29T11:08:06.718575",
     "status": "completed"
    },
    "tags": []
   },
   "outputs": [],
   "source": [
    "# Uncomment to see a hint\n",
    "#q2.hint()\n",
    "\n",
    "# Uncomment to see the solution\n",
    "#q2.solution()"
   ]
  },
  {
   "cell_type": "markdown",
   "id": "07573f3d",
   "metadata": {
    "papermill": {
     "duration": 0.009683,
     "end_time": "2024-10-29T11:08:06.760434",
     "exception": false,
     "start_time": "2024-10-29T11:08:06.750751",
     "status": "completed"
    },
    "tags": []
   },
   "source": [
    "# Question 3\n",
    "\n",
    "In the tutorial, we gave an example of a Python string with information that was better as a list."
   ]
  },
  {
   "cell_type": "code",
   "execution_count": 6,
   "id": "a2cf260e",
   "metadata": {
    "execution": {
     "iopub.execute_input": "2024-10-29T11:08:06.781764Z",
     "iopub.status.busy": "2024-10-29T11:08:06.781256Z",
     "iopub.status.idle": "2024-10-29T11:08:06.787097Z",
     "shell.execute_reply": "2024-10-29T11:08:06.785911Z"
    },
    "papermill": {
     "duration": 0.019922,
     "end_time": "2024-10-29T11:08:06.789887",
     "exception": false,
     "start_time": "2024-10-29T11:08:06.769965",
     "status": "completed"
    },
    "tags": []
   },
   "outputs": [],
   "source": [
    "flowers = \"pink primrose,hard-leaved pocket orchid,canterbury bells,sweet pea,english marigold,tiger lily,moon orchid,bird of paradise,monkshood,globe thistle\""
   ]
  },
  {
   "cell_type": "markdown",
   "id": "34f2d4a4",
   "metadata": {
    "papermill": {
     "duration": 0.009244,
     "end_time": "2024-10-29T11:08:06.808570",
     "exception": false,
     "start_time": "2024-10-29T11:08:06.799326",
     "status": "completed"
    },
    "tags": []
   },
   "source": [
    "You can actually use Python to quickly turn this string into a list with `.split()`.  In the parentheses, we need to provide the character should be used to mark the end of one list item and the beginning of another, and enclose it in quotation marks.  In this case, that character is a comma."
   ]
  },
  {
   "cell_type": "code",
   "execution_count": 7,
   "id": "0c129209",
   "metadata": {
    "execution": {
     "iopub.execute_input": "2024-10-29T11:08:06.829422Z",
     "iopub.status.busy": "2024-10-29T11:08:06.828812Z",
     "iopub.status.idle": "2024-10-29T11:08:06.835606Z",
     "shell.execute_reply": "2024-10-29T11:08:06.834420Z"
    },
    "papermill": {
     "duration": 0.020212,
     "end_time": "2024-10-29T11:08:06.838299",
     "exception": false,
     "start_time": "2024-10-29T11:08:06.818087",
     "status": "completed"
    },
    "tags": []
   },
   "outputs": [
    {
     "name": "stdout",
     "output_type": "stream",
     "text": [
      "['pink primrose', 'hard-leaved pocket orchid', 'canterbury bells', 'sweet pea', 'english marigold', 'tiger lily', 'moon orchid', 'bird of paradise', 'monkshood', 'globe thistle']\n"
     ]
    }
   ],
   "source": [
    " print(flowers.split(\",\"))"
   ]
  },
  {
   "cell_type": "markdown",
   "id": "638af797",
   "metadata": {
    "papermill": {
     "duration": 0.009259,
     "end_time": "2024-10-29T11:08:06.857280",
     "exception": false,
     "start_time": "2024-10-29T11:08:06.848021",
     "status": "completed"
    },
    "tags": []
   },
   "source": [
    "Now it is your turn to try this out!  Create two Python lists:\n",
    "- `letters` should be a Python list where each entry is an uppercase letter of the English alphabet.  For instance, the first two entries should be `\"A\"` and `\"B\"`, and the final two entries should be `\"Y\"` and `\"Z\"`.  Use the string `alphabet` to create this list.\n",
    "- `address` should be a Python list where each row in `address` is a different item in the list.  Currently, each row in `address` is separated by a comma. "
   ]
  },
  {
   "cell_type": "code",
   "execution_count": 8,
   "id": "1531201a",
   "metadata": {
    "execution": {
     "iopub.execute_input": "2024-10-29T11:08:06.879701Z",
     "iopub.status.busy": "2024-10-29T11:08:06.878998Z",
     "iopub.status.idle": "2024-10-29T11:08:06.891470Z",
     "shell.execute_reply": "2024-10-29T11:08:06.889986Z"
    },
    "papermill": {
     "duration": 0.027299,
     "end_time": "2024-10-29T11:08:06.894105",
     "exception": false,
     "start_time": "2024-10-29T11:08:06.866806",
     "status": "completed"
    },
    "tags": []
   },
   "outputs": [
    {
     "data": {
      "application/javascript": [
       "parent.postMessage({\"jupyterEvent\": \"custom.exercise_interaction\", \"data\": {\"outcomeType\": 1, \"valueTowardsCompletion\": 0.2, \"interactionType\": 1, \"questionType\": 1, \"questionId\": \"3_SplitString\", \"learnToolsVersion\": \"0.3.4\", \"failureMessage\": \"\", \"exceptionClass\": \"\", \"trace\": \"\"}}, \"*\")"
      ],
      "text/plain": [
       "<IPython.core.display.Javascript object>"
      ]
     },
     "metadata": {},
     "output_type": "display_data"
    },
    {
     "data": {
      "text/markdown": [
       "<span style=\"color:#33cc33\">Correct</span>"
      ],
      "text/plain": [
       "Correct"
      ]
     },
     "metadata": {},
     "output_type": "display_data"
    }
   ],
   "source": [
    "# DO not change: Define two Python strings\n",
    "alphabet = \"A.B.C.D.E.F.G.H.I.J.K.L.M.N.O.P.Q.R.S.T.U.V.W.X.Y.Z\"\n",
    "address = \"Mr. H. Potter,The cupboard under the Stairs,4 Privet Drive,Little Whinging,Surrey\"\n",
    "\n",
    "# TODO: Convert strings into Python lists\n",
    "letters = alphabet.split(\".\")\n",
    "formatted_address = address.split(\",\")\n",
    "\n",
    "# Do not change: Check your answer\n",
    "q3.check()"
   ]
  },
  {
   "cell_type": "code",
   "execution_count": 9,
   "id": "c54cc553",
   "metadata": {
    "execution": {
     "iopub.execute_input": "2024-10-29T11:08:06.916281Z",
     "iopub.status.busy": "2024-10-29T11:08:06.915860Z",
     "iopub.status.idle": "2024-10-29T11:08:06.921707Z",
     "shell.execute_reply": "2024-10-29T11:08:06.920233Z"
    },
    "papermill": {
     "duration": 0.020583,
     "end_time": "2024-10-29T11:08:06.924729",
     "exception": false,
     "start_time": "2024-10-29T11:08:06.904146",
     "status": "completed"
    },
    "tags": []
   },
   "outputs": [],
   "source": [
    "# Uncomment to see a hint\n",
    "#q3.hint()\n",
    "\n",
    "# Uncomment to see the solution\n",
    "#q3.solution()"
   ]
  },
  {
   "cell_type": "markdown",
   "id": "375c6b91",
   "metadata": {
    "papermill": {
     "duration": 0.009422,
     "end_time": "2024-10-29T11:08:06.944038",
     "exception": false,
     "start_time": "2024-10-29T11:08:06.934616",
     "status": "completed"
    },
    "tags": []
   },
   "source": [
    "# Question 4\n",
    "\n",
    "In the Python course, you'll learn all about **list comprehensions**, which allow you to create a list based on the values in another list.  In this question, you'll get a brief preview of how they work.\n",
    "\n",
    "Say we're working with the list below."
   ]
  },
  {
   "cell_type": "code",
   "execution_count": 10,
   "id": "e56dd8b6",
   "metadata": {
    "execution": {
     "iopub.execute_input": "2024-10-29T11:08:06.965833Z",
     "iopub.status.busy": "2024-10-29T11:08:06.965400Z",
     "iopub.status.idle": "2024-10-29T11:08:06.971280Z",
     "shell.execute_reply": "2024-10-29T11:08:06.969912Z"
    },
    "papermill": {
     "duration": 0.020207,
     "end_time": "2024-10-29T11:08:06.974006",
     "exception": false,
     "start_time": "2024-10-29T11:08:06.953799",
     "status": "completed"
    },
    "tags": []
   },
   "outputs": [],
   "source": [
    "test_ratings = [1, 2, 3, 4, 5]"
   ]
  },
  {
   "cell_type": "markdown",
   "id": "8178ef67",
   "metadata": {
    "papermill": {
     "duration": 0.009374,
     "end_time": "2024-10-29T11:08:06.993222",
     "exception": false,
     "start_time": "2024-10-29T11:08:06.983848",
     "status": "completed"
    },
    "tags": []
   },
   "source": [
    "Then we can use this list (`test_ratings`) to create a new list (`test_liked`) where each item has been turned into a boolean, depending on whether or not the item is greater than or equal to four."
   ]
  },
  {
   "cell_type": "code",
   "execution_count": 11,
   "id": "769fafb9",
   "metadata": {
    "execution": {
     "iopub.execute_input": "2024-10-29T11:08:07.015404Z",
     "iopub.status.busy": "2024-10-29T11:08:07.014275Z",
     "iopub.status.idle": "2024-10-29T11:08:07.020793Z",
     "shell.execute_reply": "2024-10-29T11:08:07.019644Z"
    },
    "papermill": {
     "duration": 0.02096,
     "end_time": "2024-10-29T11:08:07.023987",
     "exception": false,
     "start_time": "2024-10-29T11:08:07.003027",
     "status": "completed"
    },
    "tags": []
   },
   "outputs": [
    {
     "name": "stdout",
     "output_type": "stream",
     "text": [
      "[False, False, False, True, True]\n"
     ]
    }
   ],
   "source": [
    "test_liked = [i>=4 for i in test_ratings]\n",
    "print(test_liked)"
   ]
  },
  {
   "cell_type": "markdown",
   "id": "579fe8e7",
   "metadata": {
    "papermill": {
     "duration": 0.009835,
     "end_time": "2024-10-29T11:08:07.043694",
     "exception": false,
     "start_time": "2024-10-29T11:08:07.033859",
     "status": "completed"
    },
    "tags": []
   },
   "source": [
    "In this question, you'll use this list comprehension to define a function `percentage_liked()` that takes one argument as input:\n",
    "- `ratings`: list of ratings that people gave to a movie, where each rating is a number between 1-5, inclusive\n",
    "\n",
    "We say someone liked the movie, if they gave a rating of either 4 or 5.  Your function should return the percentage of people who liked the movie.\n",
    "\n",
    "For instance, if we supply a value of `[1, 2, 3, 4, 5, 4, 5, 1]`, then 50% (4/8) of the people liked the movie, and the function should return `0.5`.\n",
    "\n",
    "Part of the function has already been completed for you.  You need only use `list_liked` to calculate `percentage_liked`."
   ]
  },
  {
   "cell_type": "code",
   "execution_count": 12,
   "id": "d787d319",
   "metadata": {
    "execution": {
     "iopub.execute_input": "2024-10-29T11:08:07.065025Z",
     "iopub.status.busy": "2024-10-29T11:08:07.064623Z",
     "iopub.status.idle": "2024-10-29T11:08:07.075831Z",
     "shell.execute_reply": "2024-10-29T11:08:07.074707Z"
    },
    "papermill": {
     "duration": 0.025135,
     "end_time": "2024-10-29T11:08:07.078480",
     "exception": false,
     "start_time": "2024-10-29T11:08:07.053345",
     "status": "completed"
    },
    "tags": []
   },
   "outputs": [
    {
     "data": {
      "application/javascript": [
       "parent.postMessage({\"jupyterEvent\": \"custom.exercise_interaction\", \"data\": {\"outcomeType\": 1, \"valueTowardsCompletion\": 0.2, \"interactionType\": 1, \"questionType\": 2, \"questionId\": \"4_PercentageLiked\", \"learnToolsVersion\": \"0.3.4\", \"failureMessage\": \"\", \"exceptionClass\": \"\", \"trace\": \"\"}}, \"*\")"
      ],
      "text/plain": [
       "<IPython.core.display.Javascript object>"
      ]
     },
     "metadata": {},
     "output_type": "display_data"
    },
    {
     "data": {
      "text/markdown": [
       "<span style=\"color:#33cc33\">Correct</span>"
      ],
      "text/plain": [
       "Correct"
      ]
     },
     "metadata": {},
     "output_type": "display_data"
    }
   ],
   "source": [
    "\n",
    "def percentage_liked(ratings):\n",
    "    list_liked = [i>=4 for i in ratings]\n",
    "    # TODO: Complete the function\n",
    "   \n",
    "    percentage_liked = sum(list_liked)/len(ratings)\n",
    "    return percentage_liked\n",
    "\n",
    "# Do not change: should return 0.5\n",
    "percentage_liked([1, 2, 3, 4, 5, 4, 5, 1])\n",
    "\n",
    "# Do not change: Check your answer\n",
    "q4.check()"
   ]
  },
  {
   "cell_type": "code",
   "execution_count": 13,
   "id": "f309a81b",
   "metadata": {
    "execution": {
     "iopub.execute_input": "2024-10-29T11:08:07.100873Z",
     "iopub.status.busy": "2024-10-29T11:08:07.100429Z",
     "iopub.status.idle": "2024-10-29T11:08:07.106009Z",
     "shell.execute_reply": "2024-10-29T11:08:07.104597Z"
    },
    "papermill": {
     "duration": 0.020571,
     "end_time": "2024-10-29T11:08:07.109096",
     "exception": false,
     "start_time": "2024-10-29T11:08:07.088525",
     "status": "completed"
    },
    "tags": []
   },
   "outputs": [],
   "source": [
    "# Uncomment to see a hint\n",
    "#q4.hint()\n",
    "\n",
    "# Uncomment to see the solution\n",
    "#q4.solution()"
   ]
  },
  {
   "cell_type": "markdown",
   "id": "15a40be9",
   "metadata": {
    "papermill": {
     "duration": 0.009845,
     "end_time": "2024-10-29T11:08:07.130127",
     "exception": false,
     "start_time": "2024-10-29T11:08:07.120282",
     "status": "completed"
    },
    "tags": []
   },
   "source": [
    "# 🌶️ Question 5\n",
    " \n",
    "Say you're doing analytics for a website.  You need to write a function that returns the percentage growth in the total number of users relative to a specified number of years ago.\n",
    "\n",
    "Your function `percentage_growth()` should take two arguments as input:\n",
    "- `num_users` = Python list with the total number of users each year.  So `num_users[0]` is the total number of users in the first year, `num_users[1]` is the total number of users in the second year, and so on.  The final entry in the list gives the total number of users in the most recently completed year.\n",
    "- `yrs_ago` = number of years to go back in time when calculating the growth percentage\n",
    "\n",
    "For instance, say `num_users = [920344, 1043553, 1204334, 1458996, 1503323, 1593432, 1623463, 1843064, 1930992, 2001078]`.\n",
    "- if `yrs_ago = 1`, we want the function to return a value of about `0.036`. This corresponds to a percentage growth of approximately 3.6%, calculated as (2001078 - 1930992)/1930992.\n",
    "- if `years_ago = 7`, we would want to return approximately `0.66`.  This corresponds to a percentage growth of approximately 66%, calculated as (2001078 - 1204334)/1204334.\n",
    "\n",
    "Your coworker sent you a draft of a function, but it doesn't seem to be doing the correct calculation.  Can you figure out what has gone wrong and make the needed changes?"
   ]
  },
  {
   "cell_type": "code",
   "execution_count": 14,
   "id": "bf03039b",
   "metadata": {
    "execution": {
     "iopub.execute_input": "2024-10-29T11:08:07.152689Z",
     "iopub.status.busy": "2024-10-29T11:08:07.152173Z",
     "iopub.status.idle": "2024-10-29T11:08:07.166319Z",
     "shell.execute_reply": "2024-10-29T11:08:07.164975Z"
    },
    "papermill": {
     "duration": 0.028993,
     "end_time": "2024-10-29T11:08:07.169663",
     "exception": false,
     "start_time": "2024-10-29T11:08:07.140670",
     "status": "completed"
    },
    "tags": []
   },
   "outputs": [
    {
     "name": "stdout",
     "output_type": "stream",
     "text": [
      "0.03629533421163837\n",
      "0.6615639847417742\n"
     ]
    },
    {
     "data": {
      "application/javascript": [
       "parent.postMessage({\"jupyterEvent\": \"custom.exercise_interaction\", \"data\": {\"outcomeType\": 1, \"valueTowardsCompletion\": 0.2, \"interactionType\": 1, \"questionType\": 2, \"questionId\": \"5_WebsiteAnalytics\", \"learnToolsVersion\": \"0.3.4\", \"failureMessage\": \"\", \"exceptionClass\": \"\", \"trace\": \"\"}}, \"*\")"
      ],
      "text/plain": [
       "<IPython.core.display.Javascript object>"
      ]
     },
     "metadata": {},
     "output_type": "display_data"
    },
    {
     "data": {
      "text/markdown": [
       "<span style=\"color:#33cc33\">Correct</span>"
      ],
      "text/plain": [
       "Correct"
      ]
     },
     "metadata": {},
     "output_type": "display_data"
    }
   ],
   "source": [
    "# TODO: Edit the function\n",
    "def percentage_growth(num_users, yrs_ago):\n",
    "    growth = (num_users[len(num_users)-1] - num_users[len(num_users)-yrs_ago-1])/num_users[len(num_users)-yrs_ago-1]\n",
    "    return growth\n",
    "\n",
    "# Do not change: Variable for calculating some test examples\n",
    "num_users_test = [920344, 1043553, 1204334, 1458996, 1503323, 1593432, 1623463, 1843064, 1930992, 2001078]\n",
    "\n",
    "# Do not change: Should return .036\n",
    "print(percentage_growth(num_users_test, 1))\n",
    "\n",
    "# Do not change: Should return 0.66\n",
    "print(percentage_growth(num_users_test, 7))\n",
    "\n",
    "# Do not change: Check your answer\n",
    "q5.check()"
   ]
  },
  {
   "cell_type": "code",
   "execution_count": 15,
   "id": "20675a5f",
   "metadata": {
    "execution": {
     "iopub.execute_input": "2024-10-29T11:08:07.193708Z",
     "iopub.status.busy": "2024-10-29T11:08:07.193235Z",
     "iopub.status.idle": "2024-10-29T11:08:07.198681Z",
     "shell.execute_reply": "2024-10-29T11:08:07.197442Z"
    },
    "papermill": {
     "duration": 0.020724,
     "end_time": "2024-10-29T11:08:07.201493",
     "exception": false,
     "start_time": "2024-10-29T11:08:07.180769",
     "status": "completed"
    },
    "tags": []
   },
   "outputs": [],
   "source": [
    "# Uncomment to see a hint\n",
    "#q5.hint()\n",
    "\n",
    "# Uncomment to see the solution\n",
    "#q5.solution()"
   ]
  },
  {
   "cell_type": "markdown",
   "id": "baae86ea",
   "metadata": {
    "papermill": {
     "duration": 0.010636,
     "end_time": "2024-10-29T11:08:07.223886",
     "exception": false,
     "start_time": "2024-10-29T11:08:07.213250",
     "status": "completed"
    },
    "tags": []
   },
   "source": [
    "# Congratulations!\n",
    "\n",
    "Congratulations for finishing the Intro to Programming course!  You should be proud of your very first steps with learning programming.  As next steps, we recommend taking:\n",
    "- the **[Python course](http://www.kaggle.com/learn/python)**, and \n",
    "- the **[Intro to Machine Learning course](https://www.kaggle.com/learn/intro-to-machine-learning)**."
   ]
  },
  {
   "cell_type": "markdown",
   "id": "2ac0750e",
   "metadata": {
    "papermill": {
     "duration": 0.010865,
     "end_time": "2024-10-29T11:08:07.245489",
     "exception": false,
     "start_time": "2024-10-29T11:08:07.234624",
     "status": "completed"
    },
    "tags": []
   },
   "source": [
    "---\n",
    "\n",
    "\n",
    "\n",
    "\n",
    "*Have questions or comments? Visit the [course discussion forum](https://www.kaggle.com/learn/intro-to-programming/discussion) to chat with other learners.*"
   ]
  }
 ],
 "metadata": {
  "kaggle": {
   "accelerator": "none",
   "dataSources": [],
   "isGpuEnabled": false,
   "isInternetEnabled": false,
   "language": "python",
   "sourceType": "notebook"
  },
  "kernelspec": {
   "display_name": "Python 3",
   "language": "python",
   "name": "python3"
  },
  "language_info": {
   "codemirror_mode": {
    "name": "ipython",
    "version": 3
   },
   "file_extension": ".py",
   "mimetype": "text/x-python",
   "name": "python",
   "nbconvert_exporter": "python",
   "pygments_lexer": "ipython3",
   "version": "3.10.14"
  },
  "papermill": {
   "default_parameters": {},
   "duration": 6.111361,
   "end_time": "2024-10-29T11:08:07.779930",
   "environment_variables": {},
   "exception": null,
   "input_path": "__notebook__.ipynb",
   "output_path": "__notebook__.ipynb",
   "parameters": {},
   "start_time": "2024-10-29T11:08:01.668569",
   "version": "2.6.0"
  }
 },
 "nbformat": 4,
 "nbformat_minor": 5
}
