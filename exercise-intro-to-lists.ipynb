{
 "cells": [
  {
   "cell_type": "markdown",
   "id": "f2a8bb5a",
   "metadata": {
    "papermill": {
     "duration": 0.009399,
     "end_time": "2024-10-29T11:10:07.883425",
     "exception": false,
     "start_time": "2024-10-29T11:10:07.874026",
     "status": "completed"
    },
    "tags": []
   },
   "source": [
    "**This notebook is an exercise in the [Intro to Programming](https://www.kaggle.com/learn/intro-to-programming) course.  You can reference the tutorial at [this link](https://www.kaggle.com/alexisbcook/intro-to-lists).**\n",
    "\n",
    "---\n"
   ]
  },
  {
   "cell_type": "markdown",
   "id": "a297fa81",
   "metadata": {
    "papermill": {
     "duration": 0.008228,
     "end_time": "2024-10-29T11:10:07.900546",
     "exception": false,
     "start_time": "2024-10-29T11:10:07.892318",
     "status": "completed"
    },
    "tags": []
   },
   "source": [
    "In the tutorial, you learned how to define and modify Python lists.  In this exercise, you will use your new knowledge to solve several problems.\n",
    "\n",
    "# Set up the notebook\n",
    "\n",
    "Run the next code cell without changes to set up the notebook."
   ]
  },
  {
   "cell_type": "code",
   "execution_count": 1,
   "id": "e43530d6",
   "metadata": {
    "execution": {
     "iopub.execute_input": "2024-10-29T11:10:07.919879Z",
     "iopub.status.busy": "2024-10-29T11:10:07.919298Z",
     "iopub.status.idle": "2024-10-29T11:10:08.852913Z",
     "shell.execute_reply": "2024-10-29T11:10:08.851813Z"
    },
    "papermill": {
     "duration": 0.946621,
     "end_time": "2024-10-29T11:10:08.855613",
     "exception": false,
     "start_time": "2024-10-29T11:10:07.908992",
     "status": "completed"
    },
    "tags": []
   },
   "outputs": [
    {
     "name": "stdout",
     "output_type": "stream",
     "text": [
      "Setup complete.\n"
     ]
    }
   ],
   "source": [
    "from learntools.core import binder\n",
    "binder.bind(globals())\n",
    "from learntools.intro_to_programming.ex5 import *\n",
    "print('Setup complete.')"
   ]
  },
  {
   "cell_type": "markdown",
   "id": "2d464a5e",
   "metadata": {
    "papermill": {
     "duration": 0.009031,
     "end_time": "2024-10-29T11:10:08.873368",
     "exception": false,
     "start_time": "2024-10-29T11:10:08.864337",
     "status": "completed"
    },
    "tags": []
   },
   "source": [
    "# Question 1\n",
    "\n",
    "You own a restaurant with five food dishes, organized in the Python list `menu` below.  One day, you decide to:\n",
    "- remove bean soup (`'bean soup'`) from the menu, and\n",
    "- add roasted beet salad (`'roasted beet salad'`) to the menu.\n",
    "\n",
    "Implement this change to the list below.  While completing this task, \n",
    "- do not change the line that creates the `menu` list.  \n",
    "- your answer should use `.remove()` and `.append()`.  "
   ]
  },
  {
   "cell_type": "code",
   "execution_count": 2,
   "id": "d388b561",
   "metadata": {
    "execution": {
     "iopub.execute_input": "2024-10-29T11:10:08.892675Z",
     "iopub.status.busy": "2024-10-29T11:10:08.892090Z",
     "iopub.status.idle": "2024-10-29T11:10:08.904294Z",
     "shell.execute_reply": "2024-10-29T11:10:08.903171Z"
    },
    "papermill": {
     "duration": 0.024492,
     "end_time": "2024-10-29T11:10:08.906679",
     "exception": false,
     "start_time": "2024-10-29T11:10:08.882187",
     "status": "completed"
    },
    "tags": []
   },
   "outputs": [
    {
     "data": {
      "application/javascript": [
       "parent.postMessage({\"jupyterEvent\": \"custom.exercise_interaction\", \"data\": {\"outcomeType\": 1, \"valueTowardsCompletion\": 0.2, \"interactionType\": 1, \"questionType\": 2, \"questionId\": \"1_FoodMenu\", \"learnToolsVersion\": \"0.3.4\", \"failureMessage\": \"\", \"exceptionClass\": \"\", \"trace\": \"\"}}, \"*\")"
      ],
      "text/plain": [
       "<IPython.core.display.Javascript object>"
      ]
     },
     "metadata": {},
     "output_type": "display_data"
    },
    {
     "data": {
      "text/markdown": [
       "<span style=\"color:#33cc33\">Correct</span>"
      ],
      "text/plain": [
       "Correct"
      ]
     },
     "metadata": {},
     "output_type": "display_data"
    }
   ],
   "source": [
    "# Do not change: Initial menu for your restaurant\n",
    "menu = ['stewed meat with onions', 'bean soup', 'risotto with trout and shrimp',\n",
    "       'fish soup with cream and onion', 'gyro']\n",
    "\n",
    "# TODO: remove 'bean soup', and add 'roasted beet salad' to the end of the menu\n",
    "menu.remove(\"bean soup\")\n",
    "menu.append(\"roasted beet salad\")\n",
    "\n",
    "# Do not change: Check your answer\n",
    "q1.check()"
   ]
  },
  {
   "cell_type": "code",
   "execution_count": 3,
   "id": "ed8057c5",
   "metadata": {
    "execution": {
     "iopub.execute_input": "2024-10-29T11:10:08.927029Z",
     "iopub.status.busy": "2024-10-29T11:10:08.926609Z",
     "iopub.status.idle": "2024-10-29T11:10:08.931233Z",
     "shell.execute_reply": "2024-10-29T11:10:08.930172Z"
    },
    "papermill": {
     "duration": 0.017134,
     "end_time": "2024-10-29T11:10:08.933707",
     "exception": false,
     "start_time": "2024-10-29T11:10:08.916573",
     "status": "completed"
    },
    "tags": []
   },
   "outputs": [],
   "source": [
    "# Uncomment to see a hint\n",
    "#q1.hint()\n",
    "\n",
    "# Uncomment to see the solution\n",
    "#q1.solution()"
   ]
  },
  {
   "cell_type": "markdown",
   "id": "8dd6a04e",
   "metadata": {
    "papermill": {
     "duration": 0.009066,
     "end_time": "2024-10-29T11:10:08.951613",
     "exception": false,
     "start_time": "2024-10-29T11:10:08.942547",
     "status": "completed"
    },
    "tags": []
   },
   "source": [
    "# Question 2\n",
    "\n",
    "The list `num_customers` contains the number of customers who came into your restaurant every day over the last month (which lasted thirty days).  Fill in values for each of the following:\n",
    "- `avg_first_seven` - average number of customers who visited in the first seven days\n",
    "- `avg_last_seven` - average number of customers who visited in the last seven days\n",
    "- `max_month` - number of customers on the day that got the most customers in the last month\n",
    "- `min_month` - number of customers on the day that got the least customers in the last month\n",
    "\n",
    "Answer this question by writing code.  For instance, if you have to find the minimum value in a list, use `min()` instead of scanning for the smallest value and directly filling in a number."
   ]
  },
  {
   "cell_type": "code",
   "execution_count": 4,
   "id": "18fd39da",
   "metadata": {
    "execution": {
     "iopub.execute_input": "2024-10-29T11:10:08.971847Z",
     "iopub.status.busy": "2024-10-29T11:10:08.970701Z",
     "iopub.status.idle": "2024-10-29T11:10:08.984042Z",
     "shell.execute_reply": "2024-10-29T11:10:08.982892Z"
    },
    "papermill": {
     "duration": 0.02614,
     "end_time": "2024-10-29T11:10:08.986508",
     "exception": false,
     "start_time": "2024-10-29T11:10:08.960368",
     "status": "completed"
    },
    "tags": []
   },
   "outputs": [
    {
     "data": {
      "application/javascript": [
       "parent.postMessage({\"jupyterEvent\": \"custom.exercise_interaction\", \"data\": {\"outcomeType\": 1, \"valueTowardsCompletion\": 0.2, \"interactionType\": 1, \"questionType\": 1, \"questionId\": \"2_NumCustomers\", \"learnToolsVersion\": \"0.3.4\", \"failureMessage\": \"\", \"exceptionClass\": \"\", \"trace\": \"\"}}, \"*\")"
      ],
      "text/plain": [
       "<IPython.core.display.Javascript object>"
      ]
     },
     "metadata": {},
     "output_type": "display_data"
    },
    {
     "data": {
      "text/markdown": [
       "<span style=\"color:#33cc33\">Correct</span>"
      ],
      "text/plain": [
       "Correct"
      ]
     },
     "metadata": {},
     "output_type": "display_data"
    }
   ],
   "source": [
    "# Do not change: Number of customers each day for the last month\n",
    "num_customers = [137, 147, 135, 128, 170, 174, 165, 146, 126, 159,\n",
    "                 141, 148, 132, 147, 168, 153, 170, 161, 148, 152,\n",
    "                 141, 151, 131, 149, 164, 163, 143, 143, 166, 171]\n",
    "\n",
    "# TODO: Fill in values for the variables below\n",
    "avg_first_seven = sum(num_customers[:7])/7\n",
    "avg_last_seven = sum(num_customers[-7:])/7\n",
    "max_month = max(num_customers)\n",
    "min_month = min(num_customers)\n",
    "\n",
    "# Do not change: Check your answer\n",
    "q2.check()"
   ]
  },
  {
   "cell_type": "code",
   "execution_count": 5,
   "id": "1400a9ca",
   "metadata": {
    "execution": {
     "iopub.execute_input": "2024-10-29T11:10:09.006804Z",
     "iopub.status.busy": "2024-10-29T11:10:09.006338Z",
     "iopub.status.idle": "2024-10-29T11:10:09.011811Z",
     "shell.execute_reply": "2024-10-29T11:10:09.010356Z"
    },
    "papermill": {
     "duration": 0.018541,
     "end_time": "2024-10-29T11:10:09.014231",
     "exception": false,
     "start_time": "2024-10-29T11:10:08.995690",
     "status": "completed"
    },
    "tags": []
   },
   "outputs": [],
   "source": [
    "# Uncomment to see a hint\n",
    "#q2.hint()\n",
    "\n",
    "# Uncomment to see the solution\n",
    "#q2.solution()"
   ]
  },
  {
   "cell_type": "markdown",
   "id": "b36fe382",
   "metadata": {
    "papermill": {
     "duration": 0.008886,
     "end_time": "2024-10-29T11:10:09.032311",
     "exception": false,
     "start_time": "2024-10-29T11:10:09.023425",
     "status": "completed"
    },
    "tags": []
   },
   "source": [
    "# Question 3\n",
    "\n",
    "In the tutorial, we gave an example of a Python string with information that was better as a list."
   ]
  },
  {
   "cell_type": "code",
   "execution_count": 6,
   "id": "1e479bdc",
   "metadata": {
    "execution": {
     "iopub.execute_input": "2024-10-29T11:10:09.053012Z",
     "iopub.status.busy": "2024-10-29T11:10:09.051938Z",
     "iopub.status.idle": "2024-10-29T11:10:09.057905Z",
     "shell.execute_reply": "2024-10-29T11:10:09.056443Z"
    },
    "papermill": {
     "duration": 0.018959,
     "end_time": "2024-10-29T11:10:09.060368",
     "exception": false,
     "start_time": "2024-10-29T11:10:09.041409",
     "status": "completed"
    },
    "tags": []
   },
   "outputs": [],
   "source": [
    "flowers = \"pink primrose,hard-leaved pocket orchid,canterbury bells,sweet pea,english marigold,tiger lily,moon orchid,bird of paradise,monkshood,globe thistle\""
   ]
  },
  {
   "cell_type": "markdown",
   "id": "eb913d9c",
   "metadata": {
    "papermill": {
     "duration": 0.010353,
     "end_time": "2024-10-29T11:10:09.080097",
     "exception": false,
     "start_time": "2024-10-29T11:10:09.069744",
     "status": "completed"
    },
    "tags": []
   },
   "source": [
    "You can actually use Python to quickly turn this string into a list with `.split()`.  In the parentheses, we need to provide the character should be used to mark the end of one list item and the beginning of another, and enclose it in quotation marks.  In this case, that character is a comma."
   ]
  },
  {
   "cell_type": "code",
   "execution_count": 7,
   "id": "a635e326",
   "metadata": {
    "execution": {
     "iopub.execute_input": "2024-10-29T11:10:09.101027Z",
     "iopub.status.busy": "2024-10-29T11:10:09.099976Z",
     "iopub.status.idle": "2024-10-29T11:10:09.106363Z",
     "shell.execute_reply": "2024-10-29T11:10:09.105193Z"
    },
    "papermill": {
     "duration": 0.01999,
     "end_time": "2024-10-29T11:10:09.109403",
     "exception": false,
     "start_time": "2024-10-29T11:10:09.089413",
     "status": "completed"
    },
    "tags": []
   },
   "outputs": [
    {
     "name": "stdout",
     "output_type": "stream",
     "text": [
      "['pink primrose', 'hard-leaved pocket orchid', 'canterbury bells', 'sweet pea', 'english marigold', 'tiger lily', 'moon orchid', 'bird of paradise', 'monkshood', 'globe thistle']\n"
     ]
    }
   ],
   "source": [
    " print(flowers.split(\",\"))"
   ]
  },
  {
   "cell_type": "markdown",
   "id": "4117bb8b",
   "metadata": {
    "papermill": {
     "duration": 0.009406,
     "end_time": "2024-10-29T11:10:09.128376",
     "exception": false,
     "start_time": "2024-10-29T11:10:09.118970",
     "status": "completed"
    },
    "tags": []
   },
   "source": [
    "Now it is your turn to try this out!  Create two Python lists:\n",
    "- `letters` should be a Python list where each entry is an uppercase letter of the English alphabet.  For instance, the first two entries should be `\"A\"` and `\"B\"`, and the final two entries should be `\"Y\"` and `\"Z\"`.  Use the string `alphabet` to create this list.\n",
    "- `address` should be a Python list where each row in `address` is a different item in the list.  Currently, each row in `address` is separated by a comma. "
   ]
  },
  {
   "cell_type": "code",
   "execution_count": 8,
   "id": "c2f25154",
   "metadata": {
    "execution": {
     "iopub.execute_input": "2024-10-29T11:10:09.148867Z",
     "iopub.status.busy": "2024-10-29T11:10:09.148412Z",
     "iopub.status.idle": "2024-10-29T11:10:09.159422Z",
     "shell.execute_reply": "2024-10-29T11:10:09.158168Z"
    },
    "papermill": {
     "duration": 0.024174,
     "end_time": "2024-10-29T11:10:09.161875",
     "exception": false,
     "start_time": "2024-10-29T11:10:09.137701",
     "status": "completed"
    },
    "tags": []
   },
   "outputs": [
    {
     "data": {
      "application/javascript": [
       "parent.postMessage({\"jupyterEvent\": \"custom.exercise_interaction\", \"data\": {\"outcomeType\": 1, \"valueTowardsCompletion\": 0.2, \"interactionType\": 1, \"questionType\": 1, \"questionId\": \"3_SplitString\", \"learnToolsVersion\": \"0.3.4\", \"failureMessage\": \"\", \"exceptionClass\": \"\", \"trace\": \"\"}}, \"*\")"
      ],
      "text/plain": [
       "<IPython.core.display.Javascript object>"
      ]
     },
     "metadata": {},
     "output_type": "display_data"
    },
    {
     "data": {
      "text/markdown": [
       "<span style=\"color:#33cc33\">Correct</span>"
      ],
      "text/plain": [
       "Correct"
      ]
     },
     "metadata": {},
     "output_type": "display_data"
    }
   ],
   "source": [
    "# DO not change: Define two Python strings\n",
    "alphabet = \"A.B.C.D.E.F.G.H.I.J.K.L.M.N.O.P.Q.R.S.T.U.V.W.X.Y.Z\"\n",
    "address = \"Mr. H. Potter,The cupboard under the Stairs,4 Privet Drive,Little Whinging,Surrey\"\n",
    "\n",
    "# TODO: Convert strings into Python lists\n",
    "letters = alphabet.split(\".\")\n",
    "formatted_address = address.split(\",\")\n",
    "\n",
    "# Do not change: Check your answer\n",
    "q3.check()"
   ]
  },
  {
   "cell_type": "code",
   "execution_count": 9,
   "id": "29a81b39",
   "metadata": {
    "execution": {
     "iopub.execute_input": "2024-10-29T11:10:09.183288Z",
     "iopub.status.busy": "2024-10-29T11:10:09.182849Z",
     "iopub.status.idle": "2024-10-29T11:10:09.188142Z",
     "shell.execute_reply": "2024-10-29T11:10:09.186975Z"
    },
    "papermill": {
     "duration": 0.018919,
     "end_time": "2024-10-29T11:10:09.190706",
     "exception": false,
     "start_time": "2024-10-29T11:10:09.171787",
     "status": "completed"
    },
    "tags": []
   },
   "outputs": [],
   "source": [
    "# Uncomment to see a hint\n",
    "#q3.hint()\n",
    "\n",
    "# Uncomment to see the solution\n",
    "#q3.solution()"
   ]
  },
  {
   "cell_type": "markdown",
   "id": "04d64b63",
   "metadata": {
    "papermill": {
     "duration": 0.00945,
     "end_time": "2024-10-29T11:10:09.209932",
     "exception": false,
     "start_time": "2024-10-29T11:10:09.200482",
     "status": "completed"
    },
    "tags": []
   },
   "source": [
    "# Question 4\n",
    "\n",
    "In the Python course, you'll learn all about **list comprehensions**, which allow you to create a list based on the values in another list.  In this question, you'll get a brief preview of how they work.\n",
    "\n",
    "Say we're working with the list below."
   ]
  },
  {
   "cell_type": "code",
   "execution_count": 10,
   "id": "97d5f108",
   "metadata": {
    "execution": {
     "iopub.execute_input": "2024-10-29T11:10:09.231166Z",
     "iopub.status.busy": "2024-10-29T11:10:09.230677Z",
     "iopub.status.idle": "2024-10-29T11:10:09.236065Z",
     "shell.execute_reply": "2024-10-29T11:10:09.234961Z"
    },
    "papermill": {
     "duration": 0.019111,
     "end_time": "2024-10-29T11:10:09.238648",
     "exception": false,
     "start_time": "2024-10-29T11:10:09.219537",
     "status": "completed"
    },
    "tags": []
   },
   "outputs": [],
   "source": [
    "test_ratings = [1, 2, 3, 4, 5]"
   ]
  },
  {
   "cell_type": "markdown",
   "id": "1d15b563",
   "metadata": {
    "papermill": {
     "duration": 0.009269,
     "end_time": "2024-10-29T11:10:09.257664",
     "exception": false,
     "start_time": "2024-10-29T11:10:09.248395",
     "status": "completed"
    },
    "tags": []
   },
   "source": [
    "Then we can use this list (`test_ratings`) to create a new list (`test_liked`) where each item has been turned into a boolean, depending on whether or not the item is greater than or equal to four."
   ]
  },
  {
   "cell_type": "code",
   "execution_count": 11,
   "id": "0f4edf67",
   "metadata": {
    "execution": {
     "iopub.execute_input": "2024-10-29T11:10:09.279039Z",
     "iopub.status.busy": "2024-10-29T11:10:09.278601Z",
     "iopub.status.idle": "2024-10-29T11:10:09.284753Z",
     "shell.execute_reply": "2024-10-29T11:10:09.283626Z"
    },
    "papermill": {
     "duration": 0.020714,
     "end_time": "2024-10-29T11:10:09.288163",
     "exception": false,
     "start_time": "2024-10-29T11:10:09.267449",
     "status": "completed"
    },
    "tags": []
   },
   "outputs": [
    {
     "name": "stdout",
     "output_type": "stream",
     "text": [
      "[False, False, False, True, True]\n"
     ]
    }
   ],
   "source": [
    "test_liked = [i>=4 for i in test_ratings]\n",
    "print(test_liked)"
   ]
  },
  {
   "cell_type": "markdown",
   "id": "a4c543d6",
   "metadata": {
    "papermill": {
     "duration": 0.009375,
     "end_time": "2024-10-29T11:10:09.307382",
     "exception": false,
     "start_time": "2024-10-29T11:10:09.298007",
     "status": "completed"
    },
    "tags": []
   },
   "source": [
    "In this question, you'll use this list comprehension to define a function `percentage_liked()` that takes one argument as input:\n",
    "- `ratings`: list of ratings that people gave to a movie, where each rating is a number between 1-5, inclusive\n",
    "\n",
    "We say someone liked the movie, if they gave a rating of either 4 or 5.  Your function should return the percentage of people who liked the movie.\n",
    "\n",
    "For instance, if we supply a value of `[1, 2, 3, 4, 5, 4, 5, 1]`, then 50% (4/8) of the people liked the movie, and the function should return `0.5`.\n",
    "\n",
    "Part of the function has already been completed for you.  You need only use `list_liked` to calculate `percentage_liked`."
   ]
  },
  {
   "cell_type": "code",
   "execution_count": 12,
   "id": "03a731b0",
   "metadata": {
    "execution": {
     "iopub.execute_input": "2024-10-29T11:10:09.328719Z",
     "iopub.status.busy": "2024-10-29T11:10:09.328285Z",
     "iopub.status.idle": "2024-10-29T11:10:09.339519Z",
     "shell.execute_reply": "2024-10-29T11:10:09.338356Z"
    },
    "papermill": {
     "duration": 0.025002,
     "end_time": "2024-10-29T11:10:09.341983",
     "exception": false,
     "start_time": "2024-10-29T11:10:09.316981",
     "status": "completed"
    },
    "tags": []
   },
   "outputs": [
    {
     "data": {
      "application/javascript": [
       "parent.postMessage({\"jupyterEvent\": \"custom.exercise_interaction\", \"data\": {\"outcomeType\": 1, \"valueTowardsCompletion\": 0.2, \"interactionType\": 1, \"questionType\": 2, \"questionId\": \"4_PercentageLiked\", \"learnToolsVersion\": \"0.3.4\", \"failureMessage\": \"\", \"exceptionClass\": \"\", \"trace\": \"\"}}, \"*\")"
      ],
      "text/plain": [
       "<IPython.core.display.Javascript object>"
      ]
     },
     "metadata": {},
     "output_type": "display_data"
    },
    {
     "data": {
      "text/markdown": [
       "<span style=\"color:#33cc33\">Correct</span>"
      ],
      "text/plain": [
       "Correct"
      ]
     },
     "metadata": {},
     "output_type": "display_data"
    }
   ],
   "source": [
    "\n",
    "def percentage_liked(ratings):\n",
    "    list_liked = [i>=4 for i in ratings]\n",
    "    # TODO: Complete the function\n",
    "   \n",
    "    percentage_liked = sum(list_liked)/len(ratings)\n",
    "    return percentage_liked\n",
    "\n",
    "# Do not change: should return 0.5\n",
    "percentage_liked([1, 2, 3, 4, 5, 4, 5, 1])\n",
    "\n",
    "# Do not change: Check your answer\n",
    "q4.check()"
   ]
  },
  {
   "cell_type": "code",
   "execution_count": 13,
   "id": "6639979e",
   "metadata": {
    "execution": {
     "iopub.execute_input": "2024-10-29T11:10:09.364779Z",
     "iopub.status.busy": "2024-10-29T11:10:09.363770Z",
     "iopub.status.idle": "2024-10-29T11:10:09.368850Z",
     "shell.execute_reply": "2024-10-29T11:10:09.367788Z"
    },
    "papermill": {
     "duration": 0.019043,
     "end_time": "2024-10-29T11:10:09.371266",
     "exception": false,
     "start_time": "2024-10-29T11:10:09.352223",
     "status": "completed"
    },
    "tags": []
   },
   "outputs": [],
   "source": [
    "# Uncomment to see a hint\n",
    "#q4.hint()\n",
    "\n",
    "# Uncomment to see the solution\n",
    "#q4.solution()"
   ]
  },
  {
   "cell_type": "markdown",
   "id": "be865b37",
   "metadata": {
    "papermill": {
     "duration": 0.009852,
     "end_time": "2024-10-29T11:10:09.391194",
     "exception": false,
     "start_time": "2024-10-29T11:10:09.381342",
     "status": "completed"
    },
    "tags": []
   },
   "source": [
    "# 🌶️ Question 5\n",
    " \n",
    "Say you're doing analytics for a website.  You need to write a function that returns the percentage growth in the total number of users relative to a specified number of years ago.\n",
    "\n",
    "Your function `percentage_growth()` should take two arguments as input:\n",
    "- `num_users` = Python list with the total number of users each year.  So `num_users[0]` is the total number of users in the first year, `num_users[1]` is the total number of users in the second year, and so on.  The final entry in the list gives the total number of users in the most recently completed year.\n",
    "- `yrs_ago` = number of years to go back in time when calculating the growth percentage\n",
    "\n",
    "For instance, say `num_users = [920344, 1043553, 1204334, 1458996, 1503323, 1593432, 1623463, 1843064, 1930992, 2001078]`.\n",
    "- if `yrs_ago = 1`, we want the function to return a value of about `0.036`. This corresponds to a percentage growth of approximately 3.6%, calculated as (2001078 - 1930992)/1930992.\n",
    "- if `years_ago = 7`, we would want to return approximately `0.66`.  This corresponds to a percentage growth of approximately 66%, calculated as (2001078 - 1204334)/1204334.\n",
    "\n",
    "Your coworker sent you a draft of a function, but it doesn't seem to be doing the correct calculation.  Can you figure out what has gone wrong and make the needed changes?"
   ]
  },
  {
   "cell_type": "code",
   "execution_count": 14,
   "id": "c62d29af",
   "metadata": {
    "execution": {
     "iopub.execute_input": "2024-10-29T11:10:09.413099Z",
     "iopub.status.busy": "2024-10-29T11:10:09.412656Z",
     "iopub.status.idle": "2024-10-29T11:10:09.426288Z",
     "shell.execute_reply": "2024-10-29T11:10:09.424898Z"
    },
    "papermill": {
     "duration": 0.027896,
     "end_time": "2024-10-29T11:10:09.429179",
     "exception": false,
     "start_time": "2024-10-29T11:10:09.401283",
     "status": "completed"
    },
    "tags": []
   },
   "outputs": [
    {
     "name": "stdout",
     "output_type": "stream",
     "text": [
      "0.03629533421163837\n",
      "0.6615639847417742\n"
     ]
    },
    {
     "data": {
      "application/javascript": [
       "parent.postMessage({\"jupyterEvent\": \"custom.exercise_interaction\", \"data\": {\"outcomeType\": 1, \"valueTowardsCompletion\": 0.2, \"interactionType\": 1, \"questionType\": 2, \"questionId\": \"5_WebsiteAnalytics\", \"learnToolsVersion\": \"0.3.4\", \"failureMessage\": \"\", \"exceptionClass\": \"\", \"trace\": \"\"}}, \"*\")"
      ],
      "text/plain": [
       "<IPython.core.display.Javascript object>"
      ]
     },
     "metadata": {},
     "output_type": "display_data"
    },
    {
     "data": {
      "text/markdown": [
       "<span style=\"color:#33cc33\">Correct</span>"
      ],
      "text/plain": [
       "Correct"
      ]
     },
     "metadata": {},
     "output_type": "display_data"
    }
   ],
   "source": [
    "# TODO: Edit the function\n",
    "def percentage_growth(num_users, yrs_ago):\n",
    "    growth = (num_users[-1] - num_users[len(num_users)-yrs_ago-1])/num_users[len(num_users)-yrs_ago-1]\n",
    "    return growth\n",
    "\n",
    "# Do not change: Variable for calculating some test examples\n",
    "num_users_test = [920344, 1043553, 1204334, 1458996, 1503323, 1593432, 1623463, 1843064, 1930992, 2001078]\n",
    "\n",
    "# Do not change: Should return .036\n",
    "print(percentage_growth(num_users_test, 1))\n",
    "\n",
    "# Do not change: Should return 0.66\n",
    "print(percentage_growth(num_users_test, 7))\n",
    "\n",
    "# Do not change: Check your answer\n",
    "q5.check()"
   ]
  },
  {
   "cell_type": "code",
   "execution_count": 15,
   "id": "adecd3e8",
   "metadata": {
    "execution": {
     "iopub.execute_input": "2024-10-29T11:10:09.454120Z",
     "iopub.status.busy": "2024-10-29T11:10:09.453259Z",
     "iopub.status.idle": "2024-10-29T11:10:09.458331Z",
     "shell.execute_reply": "2024-10-29T11:10:09.457176Z"
    },
    "papermill": {
     "duration": 0.020552,
     "end_time": "2024-10-29T11:10:09.460964",
     "exception": false,
     "start_time": "2024-10-29T11:10:09.440412",
     "status": "completed"
    },
    "tags": []
   },
   "outputs": [],
   "source": [
    "# Uncomment to see a hint\n",
    "#q5.hint()\n",
    "\n",
    "# Uncomment to see the solution\n",
    "#q5.solution()"
   ]
  },
  {
   "cell_type": "markdown",
   "id": "3f770a81",
   "metadata": {
    "papermill": {
     "duration": 0.010251,
     "end_time": "2024-10-29T11:10:09.482003",
     "exception": false,
     "start_time": "2024-10-29T11:10:09.471752",
     "status": "completed"
    },
    "tags": []
   },
   "source": [
    "# Congratulations!\n",
    "\n",
    "Congratulations for finishing the Intro to Programming course!  You should be proud of your very first steps with learning programming.  As next steps, we recommend taking:\n",
    "- the **[Python course](http://www.kaggle.com/learn/python)**, and \n",
    "- the **[Intro to Machine Learning course](https://www.kaggle.com/learn/intro-to-machine-learning)**."
   ]
  },
  {
   "cell_type": "markdown",
   "id": "7c257811",
   "metadata": {
    "papermill": {
     "duration": 0.010264,
     "end_time": "2024-10-29T11:10:09.503025",
     "exception": false,
     "start_time": "2024-10-29T11:10:09.492761",
     "status": "completed"
    },
    "tags": []
   },
   "source": [
    "---\n",
    "\n",
    "\n",
    "\n",
    "\n",
    "*Have questions or comments? Visit the [course discussion forum](https://www.kaggle.com/learn/intro-to-programming/discussion) to chat with other learners.*"
   ]
  }
 ],
 "metadata": {
  "kaggle": {
   "accelerator": "none",
   "dataSources": [],
   "isGpuEnabled": false,
   "isInternetEnabled": false,
   "language": "python",
   "sourceType": "notebook"
  },
  "kernelspec": {
   "display_name": "Python 3",
   "language": "python",
   "name": "python3"
  },
  "language_info": {
   "codemirror_mode": {
    "name": "ipython",
    "version": 3
   },
   "file_extension": ".py",
   "mimetype": "text/x-python",
   "name": "python",
   "nbconvert_exporter": "python",
   "pygments_lexer": "ipython3",
   "version": "3.10.14"
  },
  "papermill": {
   "default_parameters": {},
   "duration": 5.654689,
   "end_time": "2024-10-29T11:10:10.035333",
   "environment_variables": {},
   "exception": null,
   "input_path": "__notebook__.ipynb",
   "output_path": "__notebook__.ipynb",
   "parameters": {},
   "start_time": "2024-10-29T11:10:04.380644",
   "version": "2.6.0"
  }
 },
 "nbformat": 4,
 "nbformat_minor": 5
}
