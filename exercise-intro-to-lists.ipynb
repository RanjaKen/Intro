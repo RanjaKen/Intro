{
 "cells": [
  {
   "cell_type": "markdown",
   "id": "6ed20ab8",
   "metadata": {
    "papermill": {
     "duration": 0.008466,
     "end_time": "2024-10-29T08:38:29.507146",
     "exception": false,
     "start_time": "2024-10-29T08:38:29.498680",
     "status": "completed"
    },
    "tags": []
   },
   "source": [
    "**This notebook is an exercise in the [Intro to Programming](https://www.kaggle.com/learn/intro-to-programming) course.  You can reference the tutorial at [this link](https://www.kaggle.com/alexisbcook/intro-to-lists).**\n",
    "\n",
    "---\n"
   ]
  },
  {
   "cell_type": "markdown",
   "id": "fca9aef2",
   "metadata": {
    "papermill": {
     "duration": 0.007092,
     "end_time": "2024-10-29T08:38:29.521942",
     "exception": false,
     "start_time": "2024-10-29T08:38:29.514850",
     "status": "completed"
    },
    "tags": []
   },
   "source": [
    "In the tutorial, you learned how to define and modify Python lists.  In this exercise, you will use your new knowledge to solve several problems.\n",
    "\n",
    "# Set up the notebook\n",
    "\n",
    "Run the next code cell without changes to set up the notebook."
   ]
  },
  {
   "cell_type": "code",
   "execution_count": 1,
   "id": "3d94cc4f",
   "metadata": {
    "execution": {
     "iopub.execute_input": "2024-10-29T08:38:29.540570Z",
     "iopub.status.busy": "2024-10-29T08:38:29.539350Z",
     "iopub.status.idle": "2024-10-29T08:38:30.337148Z",
     "shell.execute_reply": "2024-10-29T08:38:30.335832Z"
    },
    "papermill": {
     "duration": 0.809259,
     "end_time": "2024-10-29T08:38:30.339425",
     "exception": false,
     "start_time": "2024-10-29T08:38:29.530166",
     "status": "completed"
    },
    "tags": []
   },
   "outputs": [
    {
     "name": "stdout",
     "output_type": "stream",
     "text": [
      "Setup complete.\n"
     ]
    }
   ],
   "source": [
    "from learntools.core import binder\n",
    "binder.bind(globals())\n",
    "from learntools.intro_to_programming.ex5 import *\n",
    "print('Setup complete.')"
   ]
  },
  {
   "cell_type": "markdown",
   "id": "18b3c7a4",
   "metadata": {
    "papermill": {
     "duration": 0.007734,
     "end_time": "2024-10-29T08:38:30.354911",
     "exception": false,
     "start_time": "2024-10-29T08:38:30.347177",
     "status": "completed"
    },
    "tags": []
   },
   "source": [
    "# Question 1\n",
    "\n",
    "You own a restaurant with five food dishes, organized in the Python list `menu` below.  One day, you decide to:\n",
    "- remove bean soup (`'bean soup'`) from the menu, and\n",
    "- add roasted beet salad (`'roasted beet salad'`) to the menu.\n",
    "\n",
    "Implement this change to the list below.  While completing this task, \n",
    "- do not change the line that creates the `menu` list.  \n",
    "- your answer should use `.remove()` and `.append()`.  "
   ]
  },
  {
   "cell_type": "code",
   "execution_count": 2,
   "id": "6b930400",
   "metadata": {
    "execution": {
     "iopub.execute_input": "2024-10-29T08:38:30.372049Z",
     "iopub.status.busy": "2024-10-29T08:38:30.371525Z",
     "iopub.status.idle": "2024-10-29T08:38:30.382607Z",
     "shell.execute_reply": "2024-10-29T08:38:30.381590Z"
    },
    "papermill": {
     "duration": 0.02244,
     "end_time": "2024-10-29T08:38:30.384966",
     "exception": false,
     "start_time": "2024-10-29T08:38:30.362526",
     "status": "completed"
    },
    "tags": []
   },
   "outputs": [
    {
     "data": {
      "application/javascript": [
       "parent.postMessage({\"jupyterEvent\": \"custom.exercise_interaction\", \"data\": {\"outcomeType\": 1, \"valueTowardsCompletion\": 0.2, \"interactionType\": 1, \"questionType\": 2, \"questionId\": \"1_FoodMenu\", \"learnToolsVersion\": \"0.3.4\", \"failureMessage\": \"\", \"exceptionClass\": \"\", \"trace\": \"\"}}, \"*\")"
      ],
      "text/plain": [
       "<IPython.core.display.Javascript object>"
      ]
     },
     "metadata": {},
     "output_type": "display_data"
    },
    {
     "data": {
      "text/markdown": [
       "<span style=\"color:#33cc33\">Correct</span>"
      ],
      "text/plain": [
       "Correct"
      ]
     },
     "metadata": {},
     "output_type": "display_data"
    }
   ],
   "source": [
    "# Do not change: Initial menu for your restaurant\n",
    "menu = ['stewed meat with onions', 'bean soup', 'risotto with trout and shrimp',\n",
    "       'fish soup with cream and onion', 'gyro']\n",
    "\n",
    "# TODO: remove 'bean soup', and add 'roasted beet salad' to the end of the menu\n",
    "menu.remove(\"bean soup\")\n",
    "menu.append(\"roasted beet salad\")\n",
    "\n",
    "# Do not change: Check your answer\n",
    "q1.check()"
   ]
  },
  {
   "cell_type": "code",
   "execution_count": 3,
   "id": "b98d5678",
   "metadata": {
    "execution": {
     "iopub.execute_input": "2024-10-29T08:38:30.404212Z",
     "iopub.status.busy": "2024-10-29T08:38:30.403819Z",
     "iopub.status.idle": "2024-10-29T08:38:30.408365Z",
     "shell.execute_reply": "2024-10-29T08:38:30.407417Z"
    },
    "papermill": {
     "duration": 0.016248,
     "end_time": "2024-10-29T08:38:30.410515",
     "exception": false,
     "start_time": "2024-10-29T08:38:30.394267",
     "status": "completed"
    },
    "tags": []
   },
   "outputs": [],
   "source": [
    "# Uncomment to see a hint\n",
    "#q1.hint()\n",
    "\n",
    "# Uncomment to see the solution\n",
    "#q1.solution()"
   ]
  },
  {
   "cell_type": "markdown",
   "id": "ecdd8669",
   "metadata": {
    "papermill": {
     "duration": 0.008192,
     "end_time": "2024-10-29T08:38:30.426567",
     "exception": false,
     "start_time": "2024-10-29T08:38:30.418375",
     "status": "completed"
    },
    "tags": []
   },
   "source": [
    "# Question 2\n",
    "\n",
    "The list `num_customers` contains the number of customers who came into your restaurant every day over the last month (which lasted thirty days).  Fill in values for each of the following:\n",
    "- `avg_first_seven` - average number of customers who visited in the first seven days\n",
    "- `avg_last_seven` - average number of customers who visited in the last seven days\n",
    "- `max_month` - number of customers on the day that got the most customers in the last month\n",
    "- `min_month` - number of customers on the day that got the least customers in the last month\n",
    "\n",
    "Answer this question by writing code.  For instance, if you have to find the minimum value in a list, use `min()` instead of scanning for the smallest value and directly filling in a number."
   ]
  },
  {
   "cell_type": "code",
   "execution_count": 4,
   "id": "70cd5ad7",
   "metadata": {
    "execution": {
     "iopub.execute_input": "2024-10-29T08:38:30.444324Z",
     "iopub.status.busy": "2024-10-29T08:38:30.443942Z",
     "iopub.status.idle": "2024-10-29T08:38:30.457556Z",
     "shell.execute_reply": "2024-10-29T08:38:30.456570Z"
    },
    "papermill": {
     "duration": 0.025404,
     "end_time": "2024-10-29T08:38:30.460038",
     "exception": false,
     "start_time": "2024-10-29T08:38:30.434634",
     "status": "completed"
    },
    "tags": []
   },
   "outputs": [
    {
     "data": {
      "application/javascript": [
       "parent.postMessage({\"jupyterEvent\": \"custom.exercise_interaction\", \"data\": {\"outcomeType\": 1, \"valueTowardsCompletion\": 0.2, \"interactionType\": 1, \"questionType\": 1, \"questionId\": \"2_NumCustomers\", \"learnToolsVersion\": \"0.3.4\", \"failureMessage\": \"\", \"exceptionClass\": \"\", \"trace\": \"\"}}, \"*\")"
      ],
      "text/plain": [
       "<IPython.core.display.Javascript object>"
      ]
     },
     "metadata": {},
     "output_type": "display_data"
    },
    {
     "data": {
      "text/markdown": [
       "<span style=\"color:#33cc33\">Correct</span>"
      ],
      "text/plain": [
       "Correct"
      ]
     },
     "metadata": {},
     "output_type": "display_data"
    }
   ],
   "source": [
    "# Do not change: Number of customers each day for the last month\n",
    "num_customers = [137, 147, 135, 128, 170, 174, 165, 146, 126, 159,\n",
    "                 141, 148, 132, 147, 168, 153, 170, 161, 148, 152,\n",
    "                 141, 151, 131, 149, 164, 163, 143, 143, 166, 171]\n",
    "\n",
    "# TODO: Fill in values for the variables below\n",
    "avg_first_seven = sum(num_customers[:7])/7\n",
    "avg_last_seven = sum(num_customers[-7:])/7\n",
    "max_month = max(num_customers)\n",
    "min_month = min(num_customers)\n",
    "\n",
    "# Do not change: Check your answer\n",
    "q2.check()"
   ]
  },
  {
   "cell_type": "code",
   "execution_count": 5,
   "id": "2b598a12",
   "metadata": {
    "execution": {
     "iopub.execute_input": "2024-10-29T08:38:30.478695Z",
     "iopub.status.busy": "2024-10-29T08:38:30.478308Z",
     "iopub.status.idle": "2024-10-29T08:38:30.482925Z",
     "shell.execute_reply": "2024-10-29T08:38:30.481734Z"
    },
    "papermill": {
     "duration": 0.016357,
     "end_time": "2024-10-29T08:38:30.485136",
     "exception": false,
     "start_time": "2024-10-29T08:38:30.468779",
     "status": "completed"
    },
    "tags": []
   },
   "outputs": [],
   "source": [
    "# Uncomment to see a hint\n",
    "#q2.hint()\n",
    "\n",
    "# Uncomment to see the solution\n",
    "#q2.solution()"
   ]
  },
  {
   "cell_type": "markdown",
   "id": "c6be50c9",
   "metadata": {
    "papermill": {
     "duration": 0.008547,
     "end_time": "2024-10-29T08:38:30.501724",
     "exception": false,
     "start_time": "2024-10-29T08:38:30.493177",
     "status": "completed"
    },
    "tags": []
   },
   "source": [
    "# Question 3\n",
    "\n",
    "In the tutorial, we gave an example of a Python string with information that was better as a list."
   ]
  },
  {
   "cell_type": "code",
   "execution_count": 6,
   "id": "8dedcf3b",
   "metadata": {
    "execution": {
     "iopub.execute_input": "2024-10-29T08:38:30.520740Z",
     "iopub.status.busy": "2024-10-29T08:38:30.520074Z",
     "iopub.status.idle": "2024-10-29T08:38:30.524777Z",
     "shell.execute_reply": "2024-10-29T08:38:30.523832Z"
    },
    "papermill": {
     "duration": 0.016867,
     "end_time": "2024-10-29T08:38:30.527138",
     "exception": false,
     "start_time": "2024-10-29T08:38:30.510271",
     "status": "completed"
    },
    "tags": []
   },
   "outputs": [],
   "source": [
    "flowers = \"pink primrose,hard-leaved pocket orchid,canterbury bells,sweet pea,english marigold,tiger lily,moon orchid,bird of paradise,monkshood,globe thistle\""
   ]
  },
  {
   "cell_type": "markdown",
   "id": "687a9675",
   "metadata": {
    "papermill": {
     "duration": 0.008235,
     "end_time": "2024-10-29T08:38:30.543763",
     "exception": false,
     "start_time": "2024-10-29T08:38:30.535528",
     "status": "completed"
    },
    "tags": []
   },
   "source": [
    "You can actually use Python to quickly turn this string into a list with `.split()`.  In the parentheses, we need to provide the character should be used to mark the end of one list item and the beginning of another, and enclose it in quotation marks.  In this case, that character is a comma."
   ]
  },
  {
   "cell_type": "code",
   "execution_count": 7,
   "id": "7ee6418d",
   "metadata": {
    "execution": {
     "iopub.execute_input": "2024-10-29T08:38:30.562918Z",
     "iopub.status.busy": "2024-10-29T08:38:30.562476Z",
     "iopub.status.idle": "2024-10-29T08:38:30.568079Z",
     "shell.execute_reply": "2024-10-29T08:38:30.566976Z"
    },
    "papermill": {
     "duration": 0.018293,
     "end_time": "2024-10-29T08:38:30.570814",
     "exception": false,
     "start_time": "2024-10-29T08:38:30.552521",
     "status": "completed"
    },
    "tags": []
   },
   "outputs": [
    {
     "name": "stdout",
     "output_type": "stream",
     "text": [
      "['pink primrose', 'hard-leaved pocket orchid', 'canterbury bells', 'sweet pea', 'english marigold', 'tiger lily', 'moon orchid', 'bird of paradise', 'monkshood', 'globe thistle']\n"
     ]
    }
   ],
   "source": [
    " print(flowers.split(\",\"))"
   ]
  },
  {
   "cell_type": "markdown",
   "id": "53f31064",
   "metadata": {
    "papermill": {
     "duration": 0.008524,
     "end_time": "2024-10-29T08:38:30.587650",
     "exception": false,
     "start_time": "2024-10-29T08:38:30.579126",
     "status": "completed"
    },
    "tags": []
   },
   "source": [
    "Now it is your turn to try this out!  Create two Python lists:\n",
    "- `letters` should be a Python list where each entry is an uppercase letter of the English alphabet.  For instance, the first two entries should be `\"A\"` and `\"B\"`, and the final two entries should be `\"Y\"` and `\"Z\"`.  Use the string `alphabet` to create this list.\n",
    "- `address` should be a Python list where each row in `address` is a different item in the list.  Currently, each row in `address` is separated by a comma. "
   ]
  },
  {
   "cell_type": "code",
   "execution_count": 8,
   "id": "6e12b377",
   "metadata": {
    "execution": {
     "iopub.execute_input": "2024-10-29T08:38:30.606347Z",
     "iopub.status.busy": "2024-10-29T08:38:30.605978Z",
     "iopub.status.idle": "2024-10-29T08:38:30.616360Z",
     "shell.execute_reply": "2024-10-29T08:38:30.615471Z"
    },
    "papermill": {
     "duration": 0.022459,
     "end_time": "2024-10-29T08:38:30.618589",
     "exception": false,
     "start_time": "2024-10-29T08:38:30.596130",
     "status": "completed"
    },
    "tags": []
   },
   "outputs": [
    {
     "data": {
      "application/javascript": [
       "parent.postMessage({\"jupyterEvent\": \"custom.exercise_interaction\", \"data\": {\"outcomeType\": 1, \"valueTowardsCompletion\": 0.2, \"interactionType\": 1, \"questionType\": 1, \"questionId\": \"3_SplitString\", \"learnToolsVersion\": \"0.3.4\", \"failureMessage\": \"\", \"exceptionClass\": \"\", \"trace\": \"\"}}, \"*\")"
      ],
      "text/plain": [
       "<IPython.core.display.Javascript object>"
      ]
     },
     "metadata": {},
     "output_type": "display_data"
    },
    {
     "data": {
      "text/markdown": [
       "<span style=\"color:#33cc33\">Correct</span>"
      ],
      "text/plain": [
       "Correct"
      ]
     },
     "metadata": {},
     "output_type": "display_data"
    }
   ],
   "source": [
    "# DO not change: Define two Python strings\n",
    "alphabet = \"A.B.C.D.E.F.G.H.I.J.K.L.M.N.O.P.Q.R.S.T.U.V.W.X.Y.Z\"\n",
    "address = \"Mr. H. Potter,The cupboard under the Stairs,4 Privet Drive,Little Whinging,Surrey\"\n",
    "\n",
    "# TODO: Convert strings into Python lists\n",
    "letters = alphabet.split(\".\")\n",
    "formatted_address = address.split(\",\")\n",
    "\n",
    "# Do not change: Check your answer\n",
    "q3.check()"
   ]
  },
  {
   "cell_type": "code",
   "execution_count": 9,
   "id": "47e7194a",
   "metadata": {
    "execution": {
     "iopub.execute_input": "2024-10-29T08:38:30.638632Z",
     "iopub.status.busy": "2024-10-29T08:38:30.637872Z",
     "iopub.status.idle": "2024-10-29T08:38:30.642606Z",
     "shell.execute_reply": "2024-10-29T08:38:30.641509Z"
    },
    "papermill": {
     "duration": 0.017338,
     "end_time": "2024-10-29T08:38:30.644713",
     "exception": false,
     "start_time": "2024-10-29T08:38:30.627375",
     "status": "completed"
    },
    "tags": []
   },
   "outputs": [],
   "source": [
    "# Uncomment to see a hint\n",
    "#q3.hint()\n",
    "\n",
    "# Uncomment to see the solution\n",
    "#q3.solution()"
   ]
  },
  {
   "cell_type": "markdown",
   "id": "4201f0a5",
   "metadata": {
    "papermill": {
     "duration": 0.008936,
     "end_time": "2024-10-29T08:38:30.663029",
     "exception": false,
     "start_time": "2024-10-29T08:38:30.654093",
     "status": "completed"
    },
    "tags": []
   },
   "source": [
    "# Question 4\n",
    "\n",
    "In the Python course, you'll learn all about **list comprehensions**, which allow you to create a list based on the values in another list.  In this question, you'll get a brief preview of how they work.\n",
    "\n",
    "Say we're working with the list below."
   ]
  },
  {
   "cell_type": "code",
   "execution_count": 10,
   "id": "933267c4",
   "metadata": {
    "execution": {
     "iopub.execute_input": "2024-10-29T08:38:30.683680Z",
     "iopub.status.busy": "2024-10-29T08:38:30.682955Z",
     "iopub.status.idle": "2024-10-29T08:38:30.688007Z",
     "shell.execute_reply": "2024-10-29T08:38:30.686977Z"
    },
    "papermill": {
     "duration": 0.018264,
     "end_time": "2024-10-29T08:38:30.690374",
     "exception": false,
     "start_time": "2024-10-29T08:38:30.672110",
     "status": "completed"
    },
    "tags": []
   },
   "outputs": [],
   "source": [
    "test_ratings = [1, 2, 3, 4, 5]"
   ]
  },
  {
   "cell_type": "markdown",
   "id": "4960ca9a",
   "metadata": {
    "papermill": {
     "duration": 0.009111,
     "end_time": "2024-10-29T08:38:30.709075",
     "exception": false,
     "start_time": "2024-10-29T08:38:30.699964",
     "status": "completed"
    },
    "tags": []
   },
   "source": [
    "Then we can use this list (`test_ratings`) to create a new list (`test_liked`) where each item has been turned into a boolean, depending on whether or not the item is greater than or equal to four."
   ]
  },
  {
   "cell_type": "code",
   "execution_count": 11,
   "id": "94d72432",
   "metadata": {
    "execution": {
     "iopub.execute_input": "2024-10-29T08:38:30.729618Z",
     "iopub.status.busy": "2024-10-29T08:38:30.729165Z",
     "iopub.status.idle": "2024-10-29T08:38:30.734587Z",
     "shell.execute_reply": "2024-10-29T08:38:30.733482Z"
    },
    "papermill": {
     "duration": 0.01907,
     "end_time": "2024-10-29T08:38:30.737360",
     "exception": false,
     "start_time": "2024-10-29T08:38:30.718290",
     "status": "completed"
    },
    "tags": []
   },
   "outputs": [
    {
     "name": "stdout",
     "output_type": "stream",
     "text": [
      "[False, False, False, True, True]\n"
     ]
    }
   ],
   "source": [
    "test_liked = [i>=4 for i in test_ratings]\n",
    "print(test_liked)"
   ]
  },
  {
   "cell_type": "markdown",
   "id": "99380e93",
   "metadata": {
    "papermill": {
     "duration": 0.008986,
     "end_time": "2024-10-29T08:38:30.755832",
     "exception": false,
     "start_time": "2024-10-29T08:38:30.746846",
     "status": "completed"
    },
    "tags": []
   },
   "source": [
    "In this question, you'll use this list comprehension to define a function `percentage_liked()` that takes one argument as input:\n",
    "- `ratings`: list of ratings that people gave to a movie, where each rating is a number between 1-5, inclusive\n",
    "\n",
    "We say someone liked the movie, if they gave a rating of either 4 or 5.  Your function should return the percentage of people who liked the movie.\n",
    "\n",
    "For instance, if we supply a value of `[1, 2, 3, 4, 5, 4, 5, 1]`, then 50% (4/8) of the people liked the movie, and the function should return `0.5`.\n",
    "\n",
    "Part of the function has already been completed for you.  You need only use `list_liked` to calculate `percentage_liked`."
   ]
  },
  {
   "cell_type": "code",
   "execution_count": 12,
   "id": "c99b607f",
   "metadata": {
    "execution": {
     "iopub.execute_input": "2024-10-29T08:38:30.776662Z",
     "iopub.status.busy": "2024-10-29T08:38:30.775986Z",
     "iopub.status.idle": "2024-10-29T08:38:30.786257Z",
     "shell.execute_reply": "2024-10-29T08:38:30.785273Z"
    },
    "papermill": {
     "duration": 0.023286,
     "end_time": "2024-10-29T08:38:30.788610",
     "exception": false,
     "start_time": "2024-10-29T08:38:30.765324",
     "status": "completed"
    },
    "tags": []
   },
   "outputs": [
    {
     "data": {
      "application/javascript": [
       "parent.postMessage({\"jupyterEvent\": \"custom.exercise_interaction\", \"data\": {\"outcomeType\": 1, \"valueTowardsCompletion\": 0.2, \"interactionType\": 1, \"questionType\": 2, \"questionId\": \"4_PercentageLiked\", \"learnToolsVersion\": \"0.3.4\", \"failureMessage\": \"\", \"exceptionClass\": \"\", \"trace\": \"\"}}, \"*\")"
      ],
      "text/plain": [
       "<IPython.core.display.Javascript object>"
      ]
     },
     "metadata": {},
     "output_type": "display_data"
    },
    {
     "data": {
      "text/markdown": [
       "<span style=\"color:#33cc33\">Correct</span>"
      ],
      "text/plain": [
       "Correct"
      ]
     },
     "metadata": {},
     "output_type": "display_data"
    }
   ],
   "source": [
    "\n",
    "def percentage_liked(ratings):\n",
    "    list_liked = [i>=4 for i in ratings]\n",
    "    # TODO: Complete the function\n",
    "   \n",
    "    percentage_liked = sum(list_liked)/len(ratings)\n",
    "    return percentage_liked\n",
    "\n",
    "# Do not change: should return 0.5\n",
    "percentage_liked([1, 2, 3, 4, 5, 4, 5, 1])\n",
    "\n",
    "# Do not change: Check your answer\n",
    "q4.check()"
   ]
  },
  {
   "cell_type": "code",
   "execution_count": 13,
   "id": "0bc52499",
   "metadata": {
    "execution": {
     "iopub.execute_input": "2024-10-29T08:38:30.808825Z",
     "iopub.status.busy": "2024-10-29T08:38:30.808369Z",
     "iopub.status.idle": "2024-10-29T08:38:30.816447Z",
     "shell.execute_reply": "2024-10-29T08:38:30.815479Z"
    },
    "papermill": {
     "duration": 0.020798,
     "end_time": "2024-10-29T08:38:30.818829",
     "exception": false,
     "start_time": "2024-10-29T08:38:30.798031",
     "status": "completed"
    },
    "tags": []
   },
   "outputs": [
    {
     "data": {
      "application/javascript": [
       "parent.postMessage({\"jupyterEvent\": \"custom.exercise_interaction\", \"data\": {\"interactionType\": 2, \"questionType\": 2, \"questionId\": \"4_PercentageLiked\", \"learnToolsVersion\": \"0.3.4\", \"valueTowardsCompletion\": 0.0, \"failureMessage\": \"\", \"exceptionClass\": \"\", \"trace\": \"\", \"outcomeType\": 4}}, \"*\")"
      ],
      "text/plain": [
       "<IPython.core.display.Javascript object>"
      ]
     },
     "metadata": {},
     "output_type": "display_data"
    },
    {
     "data": {
      "text/markdown": [
       "<span style=\"color:#3366cc\">Hint:</span> Remember that when we add booleans, it returns the total number of entries in the sum that are `True`."
      ],
      "text/plain": [
       "Hint: Remember that when we add booleans, it returns the total number of entries in the sum that are `True`."
      ]
     },
     "metadata": {},
     "output_type": "display_data"
    }
   ],
   "source": [
    "# Uncomment to see a hint\n",
    "q4.hint()\n",
    "\n",
    "# Uncomment to see the solution\n",
    "#q4.solution()"
   ]
  },
  {
   "cell_type": "markdown",
   "id": "4cff44a7",
   "metadata": {
    "papermill": {
     "duration": 0.008951,
     "end_time": "2024-10-29T08:38:30.837105",
     "exception": false,
     "start_time": "2024-10-29T08:38:30.828154",
     "status": "completed"
    },
    "tags": []
   },
   "source": [
    "# 🌶️ Question 5\n",
    " \n",
    "Say you're doing analytics for a website.  You need to write a function that returns the percentage growth in the total number of users relative to a specified number of years ago.\n",
    "\n",
    "Your function `percentage_growth()` should take two arguments as input:\n",
    "- `num_users` = Python list with the total number of users each year.  So `num_users[0]` is the total number of users in the first year, `num_users[1]` is the total number of users in the second year, and so on.  The final entry in the list gives the total number of users in the most recently completed year.\n",
    "- `yrs_ago` = number of years to go back in time when calculating the growth percentage\n",
    "\n",
    "For instance, say `num_users = [920344, 1043553, 1204334, 1458996, 1503323, 1593432, 1623463, 1843064, 1930992, 2001078]`.\n",
    "- if `yrs_ago = 1`, we want the function to return a value of about `0.036`. This corresponds to a percentage growth of approximately 3.6%, calculated as (2001078 - 1930992)/1930992.\n",
    "- if `years_ago = 7`, we would want to return approximately `0.66`.  This corresponds to a percentage growth of approximately 66%, calculated as (2001078 - 1204334)/1204334.\n",
    "\n",
    "Your coworker sent you a draft of a function, but it doesn't seem to be doing the correct calculation.  Can you figure out what has gone wrong and make the needed changes?"
   ]
  },
  {
   "cell_type": "code",
   "execution_count": 14,
   "id": "d6ccb031",
   "metadata": {
    "execution": {
     "iopub.execute_input": "2024-10-29T08:38:30.856627Z",
     "iopub.status.busy": "2024-10-29T08:38:30.856062Z",
     "iopub.status.idle": "2024-10-29T08:38:30.867925Z",
     "shell.execute_reply": "2024-10-29T08:38:30.866940Z"
    },
    "papermill": {
     "duration": 0.023977,
     "end_time": "2024-10-29T08:38:30.870020",
     "exception": false,
     "start_time": "2024-10-29T08:38:30.846043",
     "status": "completed"
    },
    "tags": []
   },
   "outputs": [
    {
     "name": "stdout",
     "output_type": "stream",
     "text": [
      "0.0\n",
      "0.2807272117129434\n"
     ]
    },
    {
     "data": {
      "application/javascript": [
       "parent.postMessage({\"jupyterEvent\": \"custom.exercise_interaction\", \"data\": {\"outcomeType\": 2, \"failureMessage\": \"Expected return value of `0.03629533421163837` given `num_users=[920344, 1043553, 1204334, 1458996, 1503323, 1593432, 1623463, 1843064, 1930992, 2001078]`, `yrs_ago=1`, but got `0.0` instead.\", \"interactionType\": 1, \"questionType\": 2, \"questionId\": \"5_WebsiteAnalytics\", \"learnToolsVersion\": \"0.3.4\", \"valueTowardsCompletion\": 0.0, \"exceptionClass\": \"\", \"trace\": \"\"}}, \"*\")"
      ],
      "text/plain": [
       "<IPython.core.display.Javascript object>"
      ]
     },
     "metadata": {},
     "output_type": "display_data"
    },
    {
     "data": {
      "text/markdown": [
       "<span style=\"color:#cc3333\">Incorrect:</span> Expected return value of `0.03629533421163837` given `num_users=[920344, 1043553, 1204334, 1458996, 1503323, 1593432, 1623463, 1843064, 1930992, 2001078]`, `yrs_ago=1`, but got `0.0` instead."
      ],
      "text/plain": [
       "Incorrect: Expected return value of `0.03629533421163837` given `num_users=[920344, 1043553, 1204334, 1458996, 1503323, 1593432, 1623463, 1843064, 1930992, 2001078]`, `yrs_ago=1`, but got `0.0` instead."
      ]
     },
     "metadata": {},
     "output_type": "display_data"
    }
   ],
   "source": [
    "# TODO: Edit the function\n",
    "def percentage_growth(num_users, yrs_ago):\n",
    "    growth = (num_users[len(num_users)-1] - num_users[len(num_users)-yrs_ago])/num_users[len(num_users)-2]\n",
    "    return growth\n",
    "\n",
    "# Do not change: Variable for calculating some test examples\n",
    "num_users_test = [920344, 1043553, 1204334, 1458996, 1503323, 1593432, 1623463, 1843064, 1930992, 2001078]\n",
    "\n",
    "# Do not change: Should return .036\n",
    "print(percentage_growth(num_users_test, 1))\n",
    "\n",
    "# Do not change: Should return 0.66\n",
    "print(percentage_growth(num_users_test, 7))\n",
    "\n",
    "# Do not change: Check your answer\n",
    "q5.check()"
   ]
  },
  {
   "cell_type": "code",
   "execution_count": 15,
   "id": "1fe29109",
   "metadata": {
    "execution": {
     "iopub.execute_input": "2024-10-29T08:38:30.891344Z",
     "iopub.status.busy": "2024-10-29T08:38:30.890920Z",
     "iopub.status.idle": "2024-10-29T08:38:30.895310Z",
     "shell.execute_reply": "2024-10-29T08:38:30.894382Z"
    },
    "papermill": {
     "duration": 0.017803,
     "end_time": "2024-10-29T08:38:30.897529",
     "exception": false,
     "start_time": "2024-10-29T08:38:30.879726",
     "status": "completed"
    },
    "tags": []
   },
   "outputs": [],
   "source": [
    "# Uncomment to see a hint\n",
    "#q5.hint()\n",
    "\n",
    "# Uncomment to see the solution\n",
    "#q5.solution()"
   ]
  },
  {
   "cell_type": "markdown",
   "id": "976e8e6a",
   "metadata": {
    "papermill": {
     "duration": 0.009229,
     "end_time": "2024-10-29T08:38:30.916843",
     "exception": false,
     "start_time": "2024-10-29T08:38:30.907614",
     "status": "completed"
    },
    "tags": []
   },
   "source": [
    "# Congratulations!\n",
    "\n",
    "Congratulations for finishing the Intro to Programming course!  You should be proud of your very first steps with learning programming.  As next steps, we recommend taking:\n",
    "- the **[Python course](http://www.kaggle.com/learn/python)**, and \n",
    "- the **[Intro to Machine Learning course](https://www.kaggle.com/learn/intro-to-machine-learning)**."
   ]
  },
  {
   "cell_type": "markdown",
   "id": "be789a3d",
   "metadata": {
    "papermill": {
     "duration": 0.009806,
     "end_time": "2024-10-29T08:38:30.936321",
     "exception": false,
     "start_time": "2024-10-29T08:38:30.926515",
     "status": "completed"
    },
    "tags": []
   },
   "source": [
    "---\n",
    "\n",
    "\n",
    "\n",
    "\n",
    "*Have questions or comments? Visit the [course discussion forum](https://www.kaggle.com/learn/intro-to-programming/discussion) to chat with other learners.*"
   ]
  }
 ],
 "metadata": {
  "kaggle": {
   "accelerator": "none",
   "dataSources": [],
   "isGpuEnabled": false,
   "isInternetEnabled": false,
   "language": "python",
   "sourceType": "notebook"
  },
  "kernelspec": {
   "display_name": "Python 3",
   "language": "python",
   "name": "python3"
  },
  "language_info": {
   "codemirror_mode": {
    "name": "ipython",
    "version": 3
   },
   "file_extension": ".py",
   "mimetype": "text/x-python",
   "name": "python",
   "nbconvert_exporter": "python",
   "pygments_lexer": "ipython3",
   "version": "3.10.14"
  },
  "papermill": {
   "default_parameters": {},
   "duration": 4.51259,
   "end_time": "2024-10-29T08:38:31.366131",
   "environment_variables": {},
   "exception": null,
   "input_path": "__notebook__.ipynb",
   "output_path": "__notebook__.ipynb",
   "parameters": {},
   "start_time": "2024-10-29T08:38:26.853541",
   "version": "2.6.0"
  }
 },
 "nbformat": 4,
 "nbformat_minor": 5
}
