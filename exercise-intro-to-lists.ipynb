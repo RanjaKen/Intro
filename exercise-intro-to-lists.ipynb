{
 "cells": [
  {
   "cell_type": "markdown",
   "id": "09f64eaf",
   "metadata": {
    "papermill": {
     "duration": 0.009082,
     "end_time": "2024-10-28T17:17:35.350552",
     "exception": false,
     "start_time": "2024-10-28T17:17:35.341470",
     "status": "completed"
    },
    "tags": []
   },
   "source": [
    "**This notebook is an exercise in the [Intro to Programming](https://www.kaggle.com/learn/intro-to-programming) course.  You can reference the tutorial at [this link](https://www.kaggle.com/alexisbcook/intro-to-lists).**\n",
    "\n",
    "---\n"
   ]
  },
  {
   "cell_type": "markdown",
   "id": "ee1934fd",
   "metadata": {
    "papermill": {
     "duration": 0.008548,
     "end_time": "2024-10-28T17:17:35.367725",
     "exception": false,
     "start_time": "2024-10-28T17:17:35.359177",
     "status": "completed"
    },
    "tags": []
   },
   "source": [
    "In the tutorial, you learned how to define and modify Python lists.  In this exercise, you will use your new knowledge to solve several problems.\n",
    "\n",
    "# Set up the notebook\n",
    "\n",
    "Run the next code cell without changes to set up the notebook."
   ]
  },
  {
   "cell_type": "code",
   "execution_count": 1,
   "id": "ac1a02b2",
   "metadata": {
    "execution": {
     "iopub.execute_input": "2024-10-28T17:17:35.386224Z",
     "iopub.status.busy": "2024-10-28T17:17:35.385803Z",
     "iopub.status.idle": "2024-10-28T17:17:36.400476Z",
     "shell.execute_reply": "2024-10-28T17:17:36.399193Z"
    },
    "papermill": {
     "duration": 1.027305,
     "end_time": "2024-10-28T17:17:36.403369",
     "exception": false,
     "start_time": "2024-10-28T17:17:35.376064",
     "status": "completed"
    },
    "tags": []
   },
   "outputs": [
    {
     "name": "stdout",
     "output_type": "stream",
     "text": [
      "Setup complete.\n"
     ]
    }
   ],
   "source": [
    "from learntools.core import binder\n",
    "binder.bind(globals())\n",
    "from learntools.intro_to_programming.ex5 import *\n",
    "print('Setup complete.')"
   ]
  },
  {
   "cell_type": "markdown",
   "id": "0de514a7",
   "metadata": {
    "papermill": {
     "duration": 0.008366,
     "end_time": "2024-10-28T17:17:36.420614",
     "exception": false,
     "start_time": "2024-10-28T17:17:36.412248",
     "status": "completed"
    },
    "tags": []
   },
   "source": [
    "# Question 1\n",
    "\n",
    "You own a restaurant with five food dishes, organized in the Python list `menu` below.  One day, you decide to:\n",
    "- remove bean soup (`'bean soup'`) from the menu, and\n",
    "- add roasted beet salad (`'roasted beet salad'`) to the menu.\n",
    "\n",
    "Implement this change to the list below.  While completing this task, \n",
    "- do not change the line that creates the `menu` list.  \n",
    "- your answer should use `.remove()` and `.append()`.  "
   ]
  },
  {
   "cell_type": "code",
   "execution_count": 2,
   "id": "4cb34aab",
   "metadata": {
    "execution": {
     "iopub.execute_input": "2024-10-28T17:17:36.440210Z",
     "iopub.status.busy": "2024-10-28T17:17:36.438997Z",
     "iopub.status.idle": "2024-10-28T17:17:36.452992Z",
     "shell.execute_reply": "2024-10-28T17:17:36.451772Z"
    },
    "papermill": {
     "duration": 0.026406,
     "end_time": "2024-10-28T17:17:36.455523",
     "exception": false,
     "start_time": "2024-10-28T17:17:36.429117",
     "status": "completed"
    },
    "tags": []
   },
   "outputs": [
    {
     "data": {
      "application/javascript": [
       "parent.postMessage({\"jupyterEvent\": \"custom.exercise_interaction\", \"data\": {\"outcomeType\": 1, \"valueTowardsCompletion\": 0.2, \"interactionType\": 1, \"questionType\": 2, \"questionId\": \"1_FoodMenu\", \"learnToolsVersion\": \"0.3.4\", \"failureMessage\": \"\", \"exceptionClass\": \"\", \"trace\": \"\"}}, \"*\")"
      ],
      "text/plain": [
       "<IPython.core.display.Javascript object>"
      ]
     },
     "metadata": {},
     "output_type": "display_data"
    },
    {
     "data": {
      "text/markdown": [
       "<span style=\"color:#33cc33\">Correct</span>"
      ],
      "text/plain": [
       "Correct"
      ]
     },
     "metadata": {},
     "output_type": "display_data"
    }
   ],
   "source": [
    "# Do not change: Initial menu for your restaurant\n",
    "menu = ['stewed meat with onions', 'bean soup', 'risotto with trout and shrimp',\n",
    "       'fish soup with cream and onion', 'gyro']\n",
    "\n",
    "# TODO: remove 'bean soup', and add 'roasted beet salad' to the end of the menu\n",
    "menu.remove(\"bean soup\")\n",
    "menu.append(\"roasted beet salad\")\n",
    "\n",
    "# Do not change: Check your answer\n",
    "q1.check()"
   ]
  },
  {
   "cell_type": "code",
   "execution_count": 3,
   "id": "26d24e77",
   "metadata": {
    "execution": {
     "iopub.execute_input": "2024-10-28T17:17:36.476301Z",
     "iopub.status.busy": "2024-10-28T17:17:36.475789Z",
     "iopub.status.idle": "2024-10-28T17:17:36.480880Z",
     "shell.execute_reply": "2024-10-28T17:17:36.479791Z"
    },
    "papermill": {
     "duration": 0.018207,
     "end_time": "2024-10-28T17:17:36.483725",
     "exception": false,
     "start_time": "2024-10-28T17:17:36.465518",
     "status": "completed"
    },
    "tags": []
   },
   "outputs": [],
   "source": [
    "# Uncomment to see a hint\n",
    "#q1.hint()\n",
    "\n",
    "# Uncomment to see the solution\n",
    "#q1.solution()"
   ]
  },
  {
   "cell_type": "markdown",
   "id": "406d79cc",
   "metadata": {
    "papermill": {
     "duration": 0.008811,
     "end_time": "2024-10-28T17:17:36.502697",
     "exception": false,
     "start_time": "2024-10-28T17:17:36.493886",
     "status": "completed"
    },
    "tags": []
   },
   "source": [
    "# Question 2\n",
    "\n",
    "The list `num_customers` contains the number of customers who came into your restaurant every day over the last month (which lasted thirty days).  Fill in values for each of the following:\n",
    "- `avg_first_seven` - average number of customers who visited in the first seven days\n",
    "- `avg_last_seven` - average number of customers who visited in the last seven days\n",
    "- `max_month` - number of customers on the day that got the most customers in the last month\n",
    "- `min_month` - number of customers on the day that got the least customers in the last month\n",
    "\n",
    "Answer this question by writing code.  For instance, if you have to find the minimum value in a list, use `min()` instead of scanning for the smallest value and directly filling in a number."
   ]
  },
  {
   "cell_type": "code",
   "execution_count": 4,
   "id": "6cd598a8",
   "metadata": {
    "execution": {
     "iopub.execute_input": "2024-10-28T17:17:36.524308Z",
     "iopub.status.busy": "2024-10-28T17:17:36.523398Z",
     "iopub.status.idle": "2024-10-28T17:17:36.542143Z",
     "shell.execute_reply": "2024-10-28T17:17:36.541010Z"
    },
    "papermill": {
     "duration": 0.033631,
     "end_time": "2024-10-28T17:17:36.545282",
     "exception": false,
     "start_time": "2024-10-28T17:17:36.511651",
     "status": "completed"
    },
    "tags": []
   },
   "outputs": [
    {
     "data": {
      "application/javascript": [
       "parent.postMessage({\"jupyterEvent\": \"custom.exercise_interaction\", \"data\": {\"outcomeType\": 1, \"valueTowardsCompletion\": 0.2, \"interactionType\": 1, \"questionType\": 1, \"questionId\": \"2_NumCustomers\", \"learnToolsVersion\": \"0.3.4\", \"failureMessage\": \"\", \"exceptionClass\": \"\", \"trace\": \"\"}}, \"*\")"
      ],
      "text/plain": [
       "<IPython.core.display.Javascript object>"
      ]
     },
     "metadata": {},
     "output_type": "display_data"
    },
    {
     "data": {
      "text/markdown": [
       "<span style=\"color:#33cc33\">Correct</span>"
      ],
      "text/plain": [
       "Correct"
      ]
     },
     "metadata": {},
     "output_type": "display_data"
    }
   ],
   "source": [
    "# Do not change: Number of customers each day for the last month\n",
    "num_customers = [137, 147, 135, 128, 170, 174, 165, 146, 126, 159,\n",
    "                 141, 148, 132, 147, 168, 153, 170, 161, 148, 152,\n",
    "                 141, 151, 131, 149, 164, 163, 143, 143, 166, 171]\n",
    "\n",
    "# TODO: Fill in values for the variables below\n",
    "avg_first_seven = sum(num_customers[:7])/7\n",
    "avg_last_seven = sum(num_customers[-7:])/7\n",
    "max_month = max(num_customers)\n",
    "min_month = min(num_customers)\n",
    "\n",
    "# Do not change: Check your answer\n",
    "q2.check()"
   ]
  },
  {
   "cell_type": "code",
   "execution_count": 5,
   "id": "f6a0ce9f",
   "metadata": {
    "execution": {
     "iopub.execute_input": "2024-10-28T17:17:36.568297Z",
     "iopub.status.busy": "2024-10-28T17:17:36.567856Z",
     "iopub.status.idle": "2024-10-28T17:17:36.572871Z",
     "shell.execute_reply": "2024-10-28T17:17:36.571692Z"
    },
    "papermill": {
     "duration": 0.019103,
     "end_time": "2024-10-28T17:17:36.575439",
     "exception": false,
     "start_time": "2024-10-28T17:17:36.556336",
     "status": "completed"
    },
    "tags": []
   },
   "outputs": [],
   "source": [
    "# Uncomment to see a hint\n",
    "#q2.hint()\n",
    "\n",
    "# Uncomment to see the solution\n",
    "#q2.solution()"
   ]
  },
  {
   "cell_type": "markdown",
   "id": "1f0649a8",
   "metadata": {
    "papermill": {
     "duration": 0.009248,
     "end_time": "2024-10-28T17:17:36.594740",
     "exception": false,
     "start_time": "2024-10-28T17:17:36.585492",
     "status": "completed"
    },
    "tags": []
   },
   "source": [
    "# Question 3\n",
    "\n",
    "In the tutorial, we gave an example of a Python string with information that was better as a list."
   ]
  },
  {
   "cell_type": "code",
   "execution_count": 6,
   "id": "5acfec4f",
   "metadata": {
    "execution": {
     "iopub.execute_input": "2024-10-28T17:17:36.615329Z",
     "iopub.status.busy": "2024-10-28T17:17:36.614893Z",
     "iopub.status.idle": "2024-10-28T17:17:36.619964Z",
     "shell.execute_reply": "2024-10-28T17:17:36.618779Z"
    },
    "papermill": {
     "duration": 0.018333,
     "end_time": "2024-10-28T17:17:36.622502",
     "exception": false,
     "start_time": "2024-10-28T17:17:36.604169",
     "status": "completed"
    },
    "tags": []
   },
   "outputs": [],
   "source": [
    "flowers = \"pink primrose,hard-leaved pocket orchid,canterbury bells,sweet pea,english marigold,tiger lily,moon orchid,bird of paradise,monkshood,globe thistle\""
   ]
  },
  {
   "cell_type": "markdown",
   "id": "867abd67",
   "metadata": {
    "papermill": {
     "duration": 0.009675,
     "end_time": "2024-10-28T17:17:36.642075",
     "exception": false,
     "start_time": "2024-10-28T17:17:36.632400",
     "status": "completed"
    },
    "tags": []
   },
   "source": [
    "You can actually use Python to quickly turn this string into a list with `.split()`.  In the parentheses, we need to provide the character should be used to mark the end of one list item and the beginning of another, and enclose it in quotation marks.  In this case, that character is a comma."
   ]
  },
  {
   "cell_type": "code",
   "execution_count": 7,
   "id": "19e3c864",
   "metadata": {
    "execution": {
     "iopub.execute_input": "2024-10-28T17:17:36.663090Z",
     "iopub.status.busy": "2024-10-28T17:17:36.662685Z",
     "iopub.status.idle": "2024-10-28T17:17:36.668553Z",
     "shell.execute_reply": "2024-10-28T17:17:36.667400Z"
    },
    "papermill": {
     "duration": 0.019551,
     "end_time": "2024-10-28T17:17:36.671083",
     "exception": false,
     "start_time": "2024-10-28T17:17:36.651532",
     "status": "completed"
    },
    "tags": []
   },
   "outputs": [
    {
     "name": "stdout",
     "output_type": "stream",
     "text": [
      "['pink primrose', 'hard-leaved pocket orchid', 'canterbury bells', 'sweet pea', 'english marigold', 'tiger lily', 'moon orchid', 'bird of paradise', 'monkshood', 'globe thistle']\n"
     ]
    }
   ],
   "source": [
    " print(flowers.split(\",\"))"
   ]
  },
  {
   "cell_type": "markdown",
   "id": "8ca075fb",
   "metadata": {
    "papermill": {
     "duration": 0.009243,
     "end_time": "2024-10-28T17:17:36.689740",
     "exception": false,
     "start_time": "2024-10-28T17:17:36.680497",
     "status": "completed"
    },
    "tags": []
   },
   "source": [
    "Now it is your turn to try this out!  Create two Python lists:\n",
    "- `letters` should be a Python list where each entry is an uppercase letter of the English alphabet.  For instance, the first two entries should be `\"A\"` and `\"B\"`, and the final two entries should be `\"Y\"` and `\"Z\"`.  Use the string `alphabet` to create this list.\n",
    "- `address` should be a Python list where each row in `address` is a different item in the list.  Currently, each row in `address` is separated by a comma. "
   ]
  },
  {
   "cell_type": "code",
   "execution_count": 8,
   "id": "7d8de71b",
   "metadata": {
    "execution": {
     "iopub.execute_input": "2024-10-28T17:17:36.710244Z",
     "iopub.status.busy": "2024-10-28T17:17:36.709827Z",
     "iopub.status.idle": "2024-10-28T17:17:36.720437Z",
     "shell.execute_reply": "2024-10-28T17:17:36.719376Z"
    },
    "papermill": {
     "duration": 0.024168,
     "end_time": "2024-10-28T17:17:36.723275",
     "exception": false,
     "start_time": "2024-10-28T17:17:36.699107",
     "status": "completed"
    },
    "tags": []
   },
   "outputs": [
    {
     "data": {
      "application/javascript": [
       "parent.postMessage({\"jupyterEvent\": \"custom.exercise_interaction\", \"data\": {\"outcomeType\": 1, \"valueTowardsCompletion\": 0.2, \"interactionType\": 1, \"questionType\": 1, \"questionId\": \"3_SplitString\", \"learnToolsVersion\": \"0.3.4\", \"failureMessage\": \"\", \"exceptionClass\": \"\", \"trace\": \"\"}}, \"*\")"
      ],
      "text/plain": [
       "<IPython.core.display.Javascript object>"
      ]
     },
     "metadata": {},
     "output_type": "display_data"
    },
    {
     "data": {
      "text/markdown": [
       "<span style=\"color:#33cc33\">Correct</span>"
      ],
      "text/plain": [
       "Correct"
      ]
     },
     "metadata": {},
     "output_type": "display_data"
    }
   ],
   "source": [
    "# DO not change: Define two Python strings\n",
    "alphabet = \"A.B.C.D.E.F.G.H.I.J.K.L.M.N.O.P.Q.R.S.T.U.V.W.X.Y.Z\"\n",
    "address = \"Mr. H. Potter,The cupboard under the Stairs,4 Privet Drive,Little Whinging,Surrey\"\n",
    "\n",
    "# TODO: Convert strings into Python lists\n",
    "letters = alphabet.split(\".\")\n",
    "formatted_address = address.split(\",\")\n",
    "\n",
    "# Do not change: Check your answer\n",
    "q3.check()"
   ]
  },
  {
   "cell_type": "code",
   "execution_count": 9,
   "id": "d90fafee",
   "metadata": {
    "execution": {
     "iopub.execute_input": "2024-10-28T17:17:36.746962Z",
     "iopub.status.busy": "2024-10-28T17:17:36.746047Z",
     "iopub.status.idle": "2024-10-28T17:17:36.751281Z",
     "shell.execute_reply": "2024-10-28T17:17:36.750112Z"
    },
    "papermill": {
     "duration": 0.019658,
     "end_time": "2024-10-28T17:17:36.753715",
     "exception": false,
     "start_time": "2024-10-28T17:17:36.734057",
     "status": "completed"
    },
    "tags": []
   },
   "outputs": [],
   "source": [
    "# Uncomment to see a hint\n",
    "#q3.hint()\n",
    "\n",
    "# Uncomment to see the solution\n",
    "#q3.solution()"
   ]
  },
  {
   "cell_type": "markdown",
   "id": "2ac94a16",
   "metadata": {
    "papermill": {
     "duration": 0.00935,
     "end_time": "2024-10-28T17:17:36.772840",
     "exception": false,
     "start_time": "2024-10-28T17:17:36.763490",
     "status": "completed"
    },
    "tags": []
   },
   "source": [
    "# Question 4\n",
    "\n",
    "In the Python course, you'll learn all about **list comprehensions**, which allow you to create a list based on the values in another list.  In this question, you'll get a brief preview of how they work.\n",
    "\n",
    "Say we're working with the list below."
   ]
  },
  {
   "cell_type": "code",
   "execution_count": 10,
   "id": "03647775",
   "metadata": {
    "execution": {
     "iopub.execute_input": "2024-10-28T17:17:36.794975Z",
     "iopub.status.busy": "2024-10-28T17:17:36.794462Z",
     "iopub.status.idle": "2024-10-28T17:17:36.800400Z",
     "shell.execute_reply": "2024-10-28T17:17:36.799104Z"
    },
    "papermill": {
     "duration": 0.020428,
     "end_time": "2024-10-28T17:17:36.802957",
     "exception": false,
     "start_time": "2024-10-28T17:17:36.782529",
     "status": "completed"
    },
    "tags": []
   },
   "outputs": [],
   "source": [
    "test_ratings = [1, 2, 3, 4, 5]"
   ]
  },
  {
   "cell_type": "markdown",
   "id": "d96ebd62",
   "metadata": {
    "papermill": {
     "duration": 0.009528,
     "end_time": "2024-10-28T17:17:36.822404",
     "exception": false,
     "start_time": "2024-10-28T17:17:36.812876",
     "status": "completed"
    },
    "tags": []
   },
   "source": [
    "Then we can use this list (`test_ratings`) to create a new list (`test_liked`) where each item has been turned into a boolean, depending on whether or not the item is greater than or equal to four."
   ]
  },
  {
   "cell_type": "code",
   "execution_count": 11,
   "id": "67abf33f",
   "metadata": {
    "execution": {
     "iopub.execute_input": "2024-10-28T17:17:36.845156Z",
     "iopub.status.busy": "2024-10-28T17:17:36.844076Z",
     "iopub.status.idle": "2024-10-28T17:17:36.850518Z",
     "shell.execute_reply": "2024-10-28T17:17:36.849219Z"
    },
    "papermill": {
     "duration": 0.020885,
     "end_time": "2024-10-28T17:17:36.853000",
     "exception": false,
     "start_time": "2024-10-28T17:17:36.832115",
     "status": "completed"
    },
    "tags": []
   },
   "outputs": [
    {
     "name": "stdout",
     "output_type": "stream",
     "text": [
      "[False, False, False, True, True]\n"
     ]
    }
   ],
   "source": [
    "test_liked = [i>=4 for i in test_ratings]\n",
    "print(test_liked)"
   ]
  },
  {
   "cell_type": "markdown",
   "id": "370e0192",
   "metadata": {
    "papermill": {
     "duration": 0.010115,
     "end_time": "2024-10-28T17:17:36.873230",
     "exception": false,
     "start_time": "2024-10-28T17:17:36.863115",
     "status": "completed"
    },
    "tags": []
   },
   "source": [
    "In this question, you'll use this list comprehension to define a function `percentage_liked()` that takes one argument as input:\n",
    "- `ratings`: list of ratings that people gave to a movie, where each rating is a number between 1-5, inclusive\n",
    "\n",
    "We say someone liked the movie, if they gave a rating of either 4 or 5.  Your function should return the percentage of people who liked the movie.\n",
    "\n",
    "For instance, if we supply a value of `[1, 2, 3, 4, 5, 4, 5, 1]`, then 50% (4/8) of the people liked the movie, and the function should return `0.5`.\n",
    "\n",
    "Part of the function has already been completed for you.  You need only use `list_liked` to calculate `percentage_liked`."
   ]
  },
  {
   "cell_type": "code",
   "execution_count": 12,
   "id": "5b696cb5",
   "metadata": {
    "execution": {
     "iopub.execute_input": "2024-10-28T17:17:36.895653Z",
     "iopub.status.busy": "2024-10-28T17:17:36.895137Z",
     "iopub.status.idle": "2024-10-28T17:17:36.907982Z",
     "shell.execute_reply": "2024-10-28T17:17:36.906853Z"
    },
    "papermill": {
     "duration": 0.027231,
     "end_time": "2024-10-28T17:17:36.910425",
     "exception": false,
     "start_time": "2024-10-28T17:17:36.883194",
     "status": "completed"
    },
    "tags": []
   },
   "outputs": [
    {
     "data": {
      "application/javascript": [
       "parent.postMessage({\"jupyterEvent\": \"custom.exercise_interaction\", \"data\": {\"outcomeType\": 2, \"failureMessage\": \"Expected return value of `0.5` given `ratings=[1, 2, 3, 4, 5, 4, 5, 1]`, but got `<learntools.core.constants.PlaceholderValue object at 0x7be0c5a0ca30>` instead.\", \"interactionType\": 1, \"questionType\": 2, \"questionId\": \"4_PercentageLiked\", \"learnToolsVersion\": \"0.3.4\", \"valueTowardsCompletion\": 0.0, \"exceptionClass\": \"\", \"trace\": \"\"}}, \"*\")"
      ],
      "text/plain": [
       "<IPython.core.display.Javascript object>"
      ]
     },
     "metadata": {},
     "output_type": "display_data"
    },
    {
     "data": {
      "text/markdown": [
       "<span style=\"color:#cc3333\">Incorrect:</span> Expected return value of `0.5` given `ratings=[1, 2, 3, 4, 5, 4, 5, 1]`, but got `<learntools.core.constants.PlaceholderValue object at 0x7be0c5a0ca30>` instead."
      ],
      "text/plain": [
       "Incorrect: Expected return value of `0.5` given `ratings=[1, 2, 3, 4, 5, 4, 5, 1]`, but got `<learntools.core.constants.PlaceholderValue object at 0x7be0c5a0ca30>` instead."
      ]
     },
     "metadata": {},
     "output_type": "display_data"
    }
   ],
   "source": [
    "\n",
    "def percentage_liked(ratings):\n",
    "    list_liked = [i>=4 for i in ratings]\n",
    "    # TODO: Complete the function\n",
    "    percentage_liked = ____\n",
    "    return percentage_liked\n",
    "\n",
    "# Do not change: should return 0.5\n",
    "percentage_liked([1, 2, 3, 4, 5, 4, 5, 1])\n",
    "\n",
    "# Do not change: Check your answer\n",
    "q4.check()"
   ]
  },
  {
   "cell_type": "code",
   "execution_count": 13,
   "id": "d93dd658",
   "metadata": {
    "execution": {
     "iopub.execute_input": "2024-10-28T17:17:36.933374Z",
     "iopub.status.busy": "2024-10-28T17:17:36.932862Z",
     "iopub.status.idle": "2024-10-28T17:17:36.938196Z",
     "shell.execute_reply": "2024-10-28T17:17:36.937042Z"
    },
    "papermill": {
     "duration": 0.019901,
     "end_time": "2024-10-28T17:17:36.940792",
     "exception": false,
     "start_time": "2024-10-28T17:17:36.920891",
     "status": "completed"
    },
    "tags": []
   },
   "outputs": [],
   "source": [
    "# Uncomment to see a hint\n",
    "#q4.hint()\n",
    "\n",
    "# Uncomment to see the solution\n",
    "#q4.solution()"
   ]
  },
  {
   "cell_type": "markdown",
   "id": "1634ef6e",
   "metadata": {
    "papermill": {
     "duration": 0.009977,
     "end_time": "2024-10-28T17:17:36.961388",
     "exception": false,
     "start_time": "2024-10-28T17:17:36.951411",
     "status": "completed"
    },
    "tags": []
   },
   "source": [
    "# 🌶️ Question 5\n",
    " \n",
    "Say you're doing analytics for a website.  You need to write a function that returns the percentage growth in the total number of users relative to a specified number of years ago.\n",
    "\n",
    "Your function `percentage_growth()` should take two arguments as input:\n",
    "- `num_users` = Python list with the total number of users each year.  So `num_users[0]` is the total number of users in the first year, `num_users[1]` is the total number of users in the second year, and so on.  The final entry in the list gives the total number of users in the most recently completed year.\n",
    "- `yrs_ago` = number of years to go back in time when calculating the growth percentage\n",
    "\n",
    "For instance, say `num_users = [920344, 1043553, 1204334, 1458996, 1503323, 1593432, 1623463, 1843064, 1930992, 2001078]`.\n",
    "- if `yrs_ago = 1`, we want the function to return a value of about `0.036`. This corresponds to a percentage growth of approximately 3.6%, calculated as (2001078 - 1930992)/1930992.\n",
    "- if `years_ago = 7`, we would want to return approximately `0.66`.  This corresponds to a percentage growth of approximately 66%, calculated as (2001078 - 1204334)/1204334.\n",
    "\n",
    "Your coworker sent you a draft of a function, but it doesn't seem to be doing the correct calculation.  Can you figure out what has gone wrong and make the needed changes?"
   ]
  },
  {
   "cell_type": "code",
   "execution_count": 14,
   "id": "f8c748b1",
   "metadata": {
    "execution": {
     "iopub.execute_input": "2024-10-28T17:17:36.984538Z",
     "iopub.status.busy": "2024-10-28T17:17:36.983452Z",
     "iopub.status.idle": "2024-10-28T17:17:36.999104Z",
     "shell.execute_reply": "2024-10-28T17:17:36.997793Z"
    },
    "papermill": {
     "duration": 0.029941,
     "end_time": "2024-10-28T17:17:37.001647",
     "exception": false,
     "start_time": "2024-10-28T17:17:36.971706",
     "status": "completed"
    },
    "tags": []
   },
   "outputs": [
    {
     "name": "stdout",
     "output_type": "stream",
     "text": [
      "0.0\n",
      "0.2807272117129434\n"
     ]
    },
    {
     "data": {
      "application/javascript": [
       "parent.postMessage({\"jupyterEvent\": \"custom.exercise_interaction\", \"data\": {\"outcomeType\": 2, \"failureMessage\": \"Expected return value of `0.03629533421163837` given `num_users=[920344, 1043553, 1204334, 1458996, 1503323, 1593432, 1623463, 1843064, 1930992, 2001078]`, `yrs_ago=1`, but got `0.0` instead.\", \"interactionType\": 1, \"questionType\": 2, \"questionId\": \"5_WebsiteAnalytics\", \"learnToolsVersion\": \"0.3.4\", \"valueTowardsCompletion\": 0.0, \"exceptionClass\": \"\", \"trace\": \"\"}}, \"*\")"
      ],
      "text/plain": [
       "<IPython.core.display.Javascript object>"
      ]
     },
     "metadata": {},
     "output_type": "display_data"
    },
    {
     "data": {
      "text/markdown": [
       "<span style=\"color:#cc3333\">Incorrect:</span> Expected return value of `0.03629533421163837` given `num_users=[920344, 1043553, 1204334, 1458996, 1503323, 1593432, 1623463, 1843064, 1930992, 2001078]`, `yrs_ago=1`, but got `0.0` instead."
      ],
      "text/plain": [
       "Incorrect: Expected return value of `0.03629533421163837` given `num_users=[920344, 1043553, 1204334, 1458996, 1503323, 1593432, 1623463, 1843064, 1930992, 2001078]`, `yrs_ago=1`, but got `0.0` instead."
      ]
     },
     "metadata": {},
     "output_type": "display_data"
    }
   ],
   "source": [
    "# TODO: Edit the function\n",
    "def percentage_growth(num_users, yrs_ago):\n",
    "    growth = (num_users[len(num_users)-1] - num_users[len(num_users)-yrs_ago])/num_users[len(num_users)-2]\n",
    "    return growth\n",
    "\n",
    "# Do not change: Variable for calculating some test examples\n",
    "num_users_test = [920344, 1043553, 1204334, 1458996, 1503323, 1593432, 1623463, 1843064, 1930992, 2001078]\n",
    "\n",
    "# Do not change: Should return .036\n",
    "print(percentage_growth(num_users_test, 1))\n",
    "\n",
    "# Do not change: Should return 0.66\n",
    "print(percentage_growth(num_users_test, 7))\n",
    "\n",
    "# Do not change: Check your answer\n",
    "q5.check()"
   ]
  },
  {
   "cell_type": "code",
   "execution_count": 15,
   "id": "c9fc7fb9",
   "metadata": {
    "execution": {
     "iopub.execute_input": "2024-10-28T17:17:37.026225Z",
     "iopub.status.busy": "2024-10-28T17:17:37.025128Z",
     "iopub.status.idle": "2024-10-28T17:17:37.030670Z",
     "shell.execute_reply": "2024-10-28T17:17:37.029438Z"
    },
    "papermill": {
     "duration": 0.020847,
     "end_time": "2024-10-28T17:17:37.033221",
     "exception": false,
     "start_time": "2024-10-28T17:17:37.012374",
     "status": "completed"
    },
    "tags": []
   },
   "outputs": [],
   "source": [
    "# Uncomment to see a hint\n",
    "#q5.hint()\n",
    "\n",
    "# Uncomment to see the solution\n",
    "#q5.solution()"
   ]
  },
  {
   "cell_type": "markdown",
   "id": "9ab2a5fb",
   "metadata": {
    "papermill": {
     "duration": 0.010653,
     "end_time": "2024-10-28T17:17:37.054924",
     "exception": false,
     "start_time": "2024-10-28T17:17:37.044271",
     "status": "completed"
    },
    "tags": []
   },
   "source": [
    "# Congratulations!\n",
    "\n",
    "Congratulations for finishing the Intro to Programming course!  You should be proud of your very first steps with learning programming.  As next steps, we recommend taking:\n",
    "- the **[Python course](http://www.kaggle.com/learn/python)**, and \n",
    "- the **[Intro to Machine Learning course](https://www.kaggle.com/learn/intro-to-machine-learning)**."
   ]
  },
  {
   "cell_type": "markdown",
   "id": "3d2349d9",
   "metadata": {
    "papermill": {
     "duration": 0.010481,
     "end_time": "2024-10-28T17:17:37.076005",
     "exception": false,
     "start_time": "2024-10-28T17:17:37.065524",
     "status": "completed"
    },
    "tags": []
   },
   "source": [
    "---\n",
    "\n",
    "\n",
    "\n",
    "\n",
    "*Have questions or comments? Visit the [course discussion forum](https://www.kaggle.com/learn/intro-to-programming/discussion) to chat with other learners.*"
   ]
  }
 ],
 "metadata": {
  "kaggle": {
   "accelerator": "none",
   "dataSources": [],
   "isGpuEnabled": false,
   "isInternetEnabled": false,
   "language": "python",
   "sourceType": "notebook"
  },
  "kernelspec": {
   "display_name": "Python 3",
   "language": "python",
   "name": "python3"
  },
  "language_info": {
   "codemirror_mode": {
    "name": "ipython",
    "version": 3
   },
   "file_extension": ".py",
   "mimetype": "text/x-python",
   "name": "python",
   "nbconvert_exporter": "python",
   "pygments_lexer": "ipython3",
   "version": "3.10.14"
  },
  "papermill": {
   "default_parameters": {},
   "duration": 5.272591,
   "end_time": "2024-10-28T17:17:37.609447",
   "environment_variables": {},
   "exception": null,
   "input_path": "__notebook__.ipynb",
   "output_path": "__notebook__.ipynb",
   "parameters": {},
   "start_time": "2024-10-28T17:17:32.336856",
   "version": "2.6.0"
  }
 },
 "nbformat": 4,
 "nbformat_minor": 5
}
