{
 "cells": [
  {
   "cell_type": "markdown",
   "id": "e7d13322",
   "metadata": {
    "papermill": {
     "duration": 0.00789,
     "end_time": "2024-10-28T17:15:14.909406",
     "exception": false,
     "start_time": "2024-10-28T17:15:14.901516",
     "status": "completed"
    },
    "tags": []
   },
   "source": [
    "**This notebook is an exercise in the [Intro to Programming](https://www.kaggle.com/learn/intro-to-programming) course.  You can reference the tutorial at [this link](https://www.kaggle.com/alexisbcook/intro-to-lists).**\n",
    "\n",
    "---\n"
   ]
  },
  {
   "cell_type": "markdown",
   "id": "1a8fdf18",
   "metadata": {
    "papermill": {
     "duration": 0.006265,
     "end_time": "2024-10-28T17:15:14.922188",
     "exception": false,
     "start_time": "2024-10-28T17:15:14.915923",
     "status": "completed"
    },
    "tags": []
   },
   "source": [
    "In the tutorial, you learned how to define and modify Python lists.  In this exercise, you will use your new knowledge to solve several problems.\n",
    "\n",
    "# Set up the notebook\n",
    "\n",
    "Run the next code cell without changes to set up the notebook."
   ]
  },
  {
   "cell_type": "code",
   "execution_count": 1,
   "id": "314bb6be",
   "metadata": {
    "execution": {
     "iopub.execute_input": "2024-10-28T17:15:14.937073Z",
     "iopub.status.busy": "2024-10-28T17:15:14.936514Z",
     "iopub.status.idle": "2024-10-28T17:15:16.058733Z",
     "shell.execute_reply": "2024-10-28T17:15:16.057445Z"
    },
    "papermill": {
     "duration": 1.132862,
     "end_time": "2024-10-28T17:15:16.061411",
     "exception": false,
     "start_time": "2024-10-28T17:15:14.928549",
     "status": "completed"
    },
    "tags": []
   },
   "outputs": [
    {
     "name": "stdout",
     "output_type": "stream",
     "text": [
      "Setup complete.\n"
     ]
    }
   ],
   "source": [
    "from learntools.core import binder\n",
    "binder.bind(globals())\n",
    "from learntools.intro_to_programming.ex5 import *\n",
    "print('Setup complete.')"
   ]
  },
  {
   "cell_type": "markdown",
   "id": "b84e0ba4",
   "metadata": {
    "papermill": {
     "duration": 0.006163,
     "end_time": "2024-10-28T17:15:16.074642",
     "exception": false,
     "start_time": "2024-10-28T17:15:16.068479",
     "status": "completed"
    },
    "tags": []
   },
   "source": [
    "# Question 1\n",
    "\n",
    "You own a restaurant with five food dishes, organized in the Python list `menu` below.  One day, you decide to:\n",
    "- remove bean soup (`'bean soup'`) from the menu, and\n",
    "- add roasted beet salad (`'roasted beet salad'`) to the menu.\n",
    "\n",
    "Implement this change to the list below.  While completing this task, \n",
    "- do not change the line that creates the `menu` list.  \n",
    "- your answer should use `.remove()` and `.append()`.  "
   ]
  },
  {
   "cell_type": "code",
   "execution_count": 2,
   "id": "0f8e352f",
   "metadata": {
    "execution": {
     "iopub.execute_input": "2024-10-28T17:15:16.089269Z",
     "iopub.status.busy": "2024-10-28T17:15:16.088701Z",
     "iopub.status.idle": "2024-10-28T17:15:16.102041Z",
     "shell.execute_reply": "2024-10-28T17:15:16.100851Z"
    },
    "papermill": {
     "duration": 0.023416,
     "end_time": "2024-10-28T17:15:16.104397",
     "exception": false,
     "start_time": "2024-10-28T17:15:16.080981",
     "status": "completed"
    },
    "tags": []
   },
   "outputs": [
    {
     "data": {
      "application/javascript": [
       "parent.postMessage({\"jupyterEvent\": \"custom.exercise_interaction\", \"data\": {\"outcomeType\": 1, \"valueTowardsCompletion\": 0.2, \"interactionType\": 1, \"questionType\": 2, \"questionId\": \"1_FoodMenu\", \"learnToolsVersion\": \"0.3.4\", \"failureMessage\": \"\", \"exceptionClass\": \"\", \"trace\": \"\"}}, \"*\")"
      ],
      "text/plain": [
       "<IPython.core.display.Javascript object>"
      ]
     },
     "metadata": {},
     "output_type": "display_data"
    },
    {
     "data": {
      "text/markdown": [
       "<span style=\"color:#33cc33\">Correct</span>"
      ],
      "text/plain": [
       "Correct"
      ]
     },
     "metadata": {},
     "output_type": "display_data"
    }
   ],
   "source": [
    "# Do not change: Initial menu for your restaurant\n",
    "menu = ['stewed meat with onions', 'bean soup', 'risotto with trout and shrimp',\n",
    "       'fish soup with cream and onion', 'gyro']\n",
    "\n",
    "# TODO: remove 'bean soup', and add 'roasted beet salad' to the end of the menu\n",
    "menu.remove(\"bean soup\")\n",
    "menu.append(\"roasted beet salad\")\n",
    "\n",
    "# Do not change: Check your answer\n",
    "q1.check()"
   ]
  },
  {
   "cell_type": "code",
   "execution_count": 3,
   "id": "89374bf0",
   "metadata": {
    "execution": {
     "iopub.execute_input": "2024-10-28T17:15:16.120916Z",
     "iopub.status.busy": "2024-10-28T17:15:16.119922Z",
     "iopub.status.idle": "2024-10-28T17:15:16.124696Z",
     "shell.execute_reply": "2024-10-28T17:15:16.123538Z"
    },
    "papermill": {
     "duration": 0.01509,
     "end_time": "2024-10-28T17:15:16.127125",
     "exception": false,
     "start_time": "2024-10-28T17:15:16.112035",
     "status": "completed"
    },
    "tags": []
   },
   "outputs": [],
   "source": [
    "# Uncomment to see a hint\n",
    "#q1.hint()\n",
    "\n",
    "# Uncomment to see the solution\n",
    "#q1.solution()"
   ]
  },
  {
   "cell_type": "markdown",
   "id": "614ed351",
   "metadata": {
    "papermill": {
     "duration": 0.006303,
     "end_time": "2024-10-28T17:15:16.140231",
     "exception": false,
     "start_time": "2024-10-28T17:15:16.133928",
     "status": "completed"
    },
    "tags": []
   },
   "source": [
    "# Question 2\n",
    "\n",
    "The list `num_customers` contains the number of customers who came into your restaurant every day over the last month (which lasted thirty days).  Fill in values for each of the following:\n",
    "- `avg_first_seven` - average number of customers who visited in the first seven days\n",
    "- `avg_last_seven` - average number of customers who visited in the last seven days\n",
    "- `max_month` - number of customers on the day that got the most customers in the last month\n",
    "- `min_month` - number of customers on the day that got the least customers in the last month\n",
    "\n",
    "Answer this question by writing code.  For instance, if you have to find the minimum value in a list, use `min()` instead of scanning for the smallest value and directly filling in a number."
   ]
  },
  {
   "cell_type": "code",
   "execution_count": 4,
   "id": "6ceaabf5",
   "metadata": {
    "execution": {
     "iopub.execute_input": "2024-10-28T17:15:16.155778Z",
     "iopub.status.busy": "2024-10-28T17:15:16.155365Z",
     "iopub.status.idle": "2024-10-28T17:15:16.169031Z",
     "shell.execute_reply": "2024-10-28T17:15:16.167221Z"
    },
    "papermill": {
     "duration": 0.024904,
     "end_time": "2024-10-28T17:15:16.171729",
     "exception": false,
     "start_time": "2024-10-28T17:15:16.146825",
     "status": "completed"
    },
    "tags": []
   },
   "outputs": [
    {
     "data": {
      "application/javascript": [
       "parent.postMessage({\"jupyterEvent\": \"custom.exercise_interaction\", \"data\": {\"outcomeType\": 1, \"valueTowardsCompletion\": 0.2, \"interactionType\": 1, \"questionType\": 1, \"questionId\": \"2_NumCustomers\", \"learnToolsVersion\": \"0.3.4\", \"failureMessage\": \"\", \"exceptionClass\": \"\", \"trace\": \"\"}}, \"*\")"
      ],
      "text/plain": [
       "<IPython.core.display.Javascript object>"
      ]
     },
     "metadata": {},
     "output_type": "display_data"
    },
    {
     "data": {
      "text/markdown": [
       "<span style=\"color:#33cc33\">Correct</span>"
      ],
      "text/plain": [
       "Correct"
      ]
     },
     "metadata": {},
     "output_type": "display_data"
    }
   ],
   "source": [
    "# Do not change: Number of customers each day for the last month\n",
    "num_customers = [137, 147, 135, 128, 170, 174, 165, 146, 126, 159,\n",
    "                 141, 148, 132, 147, 168, 153, 170, 161, 148, 152,\n",
    "                 141, 151, 131, 149, 164, 163, 143, 143, 166, 171]\n",
    "\n",
    "# TODO: Fill in values for the variables below\n",
    "avg_first_seven = sum(num_customers[:7])/7\n",
    "avg_last_seven = sum(num_customers[-7:])/7\n",
    "max_month = max(num_customers)\n",
    "min_month = min(num_customers)\n",
    "\n",
    "# Do not change: Check your answer\n",
    "q2.check()"
   ]
  },
  {
   "cell_type": "code",
   "execution_count": 5,
   "id": "598e1c35",
   "metadata": {
    "execution": {
     "iopub.execute_input": "2024-10-28T17:15:16.187561Z",
     "iopub.status.busy": "2024-10-28T17:15:16.187143Z",
     "iopub.status.idle": "2024-10-28T17:15:16.192556Z",
     "shell.execute_reply": "2024-10-28T17:15:16.190836Z"
    },
    "papermill": {
     "duration": 0.016913,
     "end_time": "2024-10-28T17:15:16.195698",
     "exception": false,
     "start_time": "2024-10-28T17:15:16.178785",
     "status": "completed"
    },
    "tags": []
   },
   "outputs": [],
   "source": [
    "# Uncomment to see a hint\n",
    "#q2.hint()\n",
    "\n",
    "# Uncomment to see the solution\n",
    "#q2.solution()"
   ]
  },
  {
   "cell_type": "markdown",
   "id": "cd15b747",
   "metadata": {
    "papermill": {
     "duration": 0.006556,
     "end_time": "2024-10-28T17:15:16.209434",
     "exception": false,
     "start_time": "2024-10-28T17:15:16.202878",
     "status": "completed"
    },
    "tags": []
   },
   "source": [
    "# Question 3\n",
    "\n",
    "In the tutorial, we gave an example of a Python string with information that was better as a list."
   ]
  },
  {
   "cell_type": "code",
   "execution_count": 6,
   "id": "b8e6b8d8",
   "metadata": {
    "execution": {
     "iopub.execute_input": "2024-10-28T17:15:16.227712Z",
     "iopub.status.busy": "2024-10-28T17:15:16.227309Z",
     "iopub.status.idle": "2024-10-28T17:15:16.232925Z",
     "shell.execute_reply": "2024-10-28T17:15:16.231640Z"
    },
    "papermill": {
     "duration": 0.018418,
     "end_time": "2024-10-28T17:15:16.235212",
     "exception": false,
     "start_time": "2024-10-28T17:15:16.216794",
     "status": "completed"
    },
    "tags": []
   },
   "outputs": [],
   "source": [
    "flowers = \"pink primrose,hard-leaved pocket orchid,canterbury bells,sweet pea,english marigold,tiger lily,moon orchid,bird of paradise,monkshood,globe thistle\""
   ]
  },
  {
   "cell_type": "markdown",
   "id": "88be0104",
   "metadata": {
    "papermill": {
     "duration": 0.006534,
     "end_time": "2024-10-28T17:15:16.248841",
     "exception": false,
     "start_time": "2024-10-28T17:15:16.242307",
     "status": "completed"
    },
    "tags": []
   },
   "source": [
    "You can actually use Python to quickly turn this string into a list with `.split()`.  In the parentheses, we need to provide the character should be used to mark the end of one list item and the beginning of another, and enclose it in quotation marks.  In this case, that character is a comma."
   ]
  },
  {
   "cell_type": "code",
   "execution_count": 7,
   "id": "109ed8e2",
   "metadata": {
    "execution": {
     "iopub.execute_input": "2024-10-28T17:15:16.265727Z",
     "iopub.status.busy": "2024-10-28T17:15:16.265331Z",
     "iopub.status.idle": "2024-10-28T17:15:16.271164Z",
     "shell.execute_reply": "2024-10-28T17:15:16.269939Z"
    },
    "papermill": {
     "duration": 0.017955,
     "end_time": "2024-10-28T17:15:16.274319",
     "exception": false,
     "start_time": "2024-10-28T17:15:16.256364",
     "status": "completed"
    },
    "tags": []
   },
   "outputs": [
    {
     "name": "stdout",
     "output_type": "stream",
     "text": [
      "['pink primrose', 'hard-leaved pocket orchid', 'canterbury bells', 'sweet pea', 'english marigold', 'tiger lily', 'moon orchid', 'bird of paradise', 'monkshood', 'globe thistle']\n"
     ]
    }
   ],
   "source": [
    " print(flowers.split(\",\"))"
   ]
  },
  {
   "cell_type": "markdown",
   "id": "fb0a7123",
   "metadata": {
    "papermill": {
     "duration": 0.006758,
     "end_time": "2024-10-28T17:15:16.288070",
     "exception": false,
     "start_time": "2024-10-28T17:15:16.281312",
     "status": "completed"
    },
    "tags": []
   },
   "source": [
    "Now it is your turn to try this out!  Create two Python lists:\n",
    "- `letters` should be a Python list where each entry is an uppercase letter of the English alphabet.  For instance, the first two entries should be `\"A\"` and `\"B\"`, and the final two entries should be `\"Y\"` and `\"Z\"`.  Use the string `alphabet` to create this list.\n",
    "- `address` should be a Python list where each row in `address` is a different item in the list.  Currently, each row in `address` is separated by a comma. "
   ]
  },
  {
   "cell_type": "code",
   "execution_count": 8,
   "id": "50f8fd9c",
   "metadata": {
    "execution": {
     "iopub.execute_input": "2024-10-28T17:15:16.303777Z",
     "iopub.status.busy": "2024-10-28T17:15:16.303389Z",
     "iopub.status.idle": "2024-10-28T17:15:16.312753Z",
     "shell.execute_reply": "2024-10-28T17:15:16.311540Z"
    },
    "papermill": {
     "duration": 0.020576,
     "end_time": "2024-10-28T17:15:16.315562",
     "exception": false,
     "start_time": "2024-10-28T17:15:16.294986",
     "status": "completed"
    },
    "tags": []
   },
   "outputs": [
    {
     "data": {
      "application/javascript": [
       "parent.postMessage({\"jupyterEvent\": \"custom.exercise_interaction\", \"data\": {\"outcomeType\": 4, \"interactionType\": 1, \"questionType\": 1, \"questionId\": \"3_SplitString\", \"learnToolsVersion\": \"0.3.4\", \"valueTowardsCompletion\": 0.0, \"failureMessage\": \"\", \"exceptionClass\": \"\", \"trace\": \"\"}}, \"*\")"
      ],
      "text/plain": [
       "<IPython.core.display.Javascript object>"
      ]
     },
     "metadata": {},
     "output_type": "display_data"
    },
    {
     "data": {
      "text/markdown": [
       "<span style=\"color:#ccaa33\">Check:</span> When you've updated the starter code, `check()` will tell you whether your code is correct. You need to update the code that creates variables `letters`, `formatted_address`"
      ],
      "text/plain": [
       "Check: When you've updated the starter code, `check()` will tell you whether your code is correct. You need to update the code that creates variables `letters`, `formatted_address`"
      ]
     },
     "metadata": {},
     "output_type": "display_data"
    }
   ],
   "source": [
    "# DO not change: Define two Python strings\n",
    "alphabet = \"A.B.C.D.E.F.G.H.I.J.K.L.M.N.O.P.Q.R.S.T.U.V.W.X.Y.Z\"\n",
    "address = \"Mr. H. Potter,The cupboard under the Stairs,4 Privet Drive,Little Whinging,Surrey\"\n",
    "\n",
    "# TODO: Convert strings into Python lists\n",
    "letters = ____\n",
    "formatted_address = ____\n",
    "\n",
    "# Do not change: Check your answer\n",
    "q3.check()"
   ]
  },
  {
   "cell_type": "code",
   "execution_count": 9,
   "id": "6a4a82dd",
   "metadata": {
    "execution": {
     "iopub.execute_input": "2024-10-28T17:15:16.332544Z",
     "iopub.status.busy": "2024-10-28T17:15:16.332131Z",
     "iopub.status.idle": "2024-10-28T17:15:16.337794Z",
     "shell.execute_reply": "2024-10-28T17:15:16.336213Z"
    },
    "papermill": {
     "duration": 0.016778,
     "end_time": "2024-10-28T17:15:16.340377",
     "exception": false,
     "start_time": "2024-10-28T17:15:16.323599",
     "status": "completed"
    },
    "tags": []
   },
   "outputs": [],
   "source": [
    "# Uncomment to see a hint\n",
    "#q3.hint()\n",
    "\n",
    "# Uncomment to see the solution\n",
    "#q3.solution()"
   ]
  },
  {
   "cell_type": "markdown",
   "id": "8ff6fc21",
   "metadata": {
    "papermill": {
     "duration": 0.006969,
     "end_time": "2024-10-28T17:15:16.354547",
     "exception": false,
     "start_time": "2024-10-28T17:15:16.347578",
     "status": "completed"
    },
    "tags": []
   },
   "source": [
    "# Question 4\n",
    "\n",
    "In the Python course, you'll learn all about **list comprehensions**, which allow you to create a list based on the values in another list.  In this question, you'll get a brief preview of how they work.\n",
    "\n",
    "Say we're working with the list below."
   ]
  },
  {
   "cell_type": "code",
   "execution_count": 10,
   "id": "e2f5e12f",
   "metadata": {
    "execution": {
     "iopub.execute_input": "2024-10-28T17:15:16.371368Z",
     "iopub.status.busy": "2024-10-28T17:15:16.370933Z",
     "iopub.status.idle": "2024-10-28T17:15:16.376608Z",
     "shell.execute_reply": "2024-10-28T17:15:16.375298Z"
    },
    "papermill": {
     "duration": 0.017106,
     "end_time": "2024-10-28T17:15:16.379265",
     "exception": false,
     "start_time": "2024-10-28T17:15:16.362159",
     "status": "completed"
    },
    "tags": []
   },
   "outputs": [],
   "source": [
    "test_ratings = [1, 2, 3, 4, 5]"
   ]
  },
  {
   "cell_type": "markdown",
   "id": "7212db38",
   "metadata": {
    "papermill": {
     "duration": 0.006836,
     "end_time": "2024-10-28T17:15:16.393329",
     "exception": false,
     "start_time": "2024-10-28T17:15:16.386493",
     "status": "completed"
    },
    "tags": []
   },
   "source": [
    "Then we can use this list (`test_ratings`) to create a new list (`test_liked`) where each item has been turned into a boolean, depending on whether or not the item is greater than or equal to four."
   ]
  },
  {
   "cell_type": "code",
   "execution_count": 11,
   "id": "49948998",
   "metadata": {
    "execution": {
     "iopub.execute_input": "2024-10-28T17:15:16.409976Z",
     "iopub.status.busy": "2024-10-28T17:15:16.409577Z",
     "iopub.status.idle": "2024-10-28T17:15:16.416462Z",
     "shell.execute_reply": "2024-10-28T17:15:16.415015Z"
    },
    "papermill": {
     "duration": 0.019252,
     "end_time": "2024-10-28T17:15:16.419721",
     "exception": false,
     "start_time": "2024-10-28T17:15:16.400469",
     "status": "completed"
    },
    "tags": []
   },
   "outputs": [
    {
     "name": "stdout",
     "output_type": "stream",
     "text": [
      "[False, False, False, True, True]\n"
     ]
    }
   ],
   "source": [
    "test_liked = [i>=4 for i in test_ratings]\n",
    "print(test_liked)"
   ]
  },
  {
   "cell_type": "markdown",
   "id": "e2a47954",
   "metadata": {
    "papermill": {
     "duration": 0.007052,
     "end_time": "2024-10-28T17:15:16.434364",
     "exception": false,
     "start_time": "2024-10-28T17:15:16.427312",
     "status": "completed"
    },
    "tags": []
   },
   "source": [
    "In this question, you'll use this list comprehension to define a function `percentage_liked()` that takes one argument as input:\n",
    "- `ratings`: list of ratings that people gave to a movie, where each rating is a number between 1-5, inclusive\n",
    "\n",
    "We say someone liked the movie, if they gave a rating of either 4 or 5.  Your function should return the percentage of people who liked the movie.\n",
    "\n",
    "For instance, if we supply a value of `[1, 2, 3, 4, 5, 4, 5, 1]`, then 50% (4/8) of the people liked the movie, and the function should return `0.5`.\n",
    "\n",
    "Part of the function has already been completed for you.  You need only use `list_liked` to calculate `percentage_liked`."
   ]
  },
  {
   "cell_type": "code",
   "execution_count": 12,
   "id": "53770b89",
   "metadata": {
    "execution": {
     "iopub.execute_input": "2024-10-28T17:15:16.453613Z",
     "iopub.status.busy": "2024-10-28T17:15:16.453208Z",
     "iopub.status.idle": "2024-10-28T17:15:16.464841Z",
     "shell.execute_reply": "2024-10-28T17:15:16.462697Z"
    },
    "papermill": {
     "duration": 0.024289,
     "end_time": "2024-10-28T17:15:16.467785",
     "exception": false,
     "start_time": "2024-10-28T17:15:16.443496",
     "status": "completed"
    },
    "tags": []
   },
   "outputs": [
    {
     "data": {
      "application/javascript": [
       "parent.postMessage({\"jupyterEvent\": \"custom.exercise_interaction\", \"data\": {\"outcomeType\": 2, \"failureMessage\": \"Expected return value of `0.5` given `ratings=[1, 2, 3, 4, 5, 4, 5, 1]`, but got `<learntools.core.constants.PlaceholderValue object at 0x7b6c3825ca30>` instead.\", \"interactionType\": 1, \"questionType\": 2, \"questionId\": \"4_PercentageLiked\", \"learnToolsVersion\": \"0.3.4\", \"valueTowardsCompletion\": 0.0, \"exceptionClass\": \"\", \"trace\": \"\"}}, \"*\")"
      ],
      "text/plain": [
       "<IPython.core.display.Javascript object>"
      ]
     },
     "metadata": {},
     "output_type": "display_data"
    },
    {
     "data": {
      "text/markdown": [
       "<span style=\"color:#cc3333\">Incorrect:</span> Expected return value of `0.5` given `ratings=[1, 2, 3, 4, 5, 4, 5, 1]`, but got `<learntools.core.constants.PlaceholderValue object at 0x7b6c3825ca30>` instead."
      ],
      "text/plain": [
       "Incorrect: Expected return value of `0.5` given `ratings=[1, 2, 3, 4, 5, 4, 5, 1]`, but got `<learntools.core.constants.PlaceholderValue object at 0x7b6c3825ca30>` instead."
      ]
     },
     "metadata": {},
     "output_type": "display_data"
    }
   ],
   "source": [
    "\n",
    "def percentage_liked(ratings):\n",
    "    list_liked = [i>=4 for i in ratings]\n",
    "    # TODO: Complete the function\n",
    "    percentage_liked = ____\n",
    "    return percentage_liked\n",
    "\n",
    "# Do not change: should return 0.5\n",
    "percentage_liked([1, 2, 3, 4, 5, 4, 5, 1])\n",
    "\n",
    "# Do not change: Check your answer\n",
    "q4.check()"
   ]
  },
  {
   "cell_type": "code",
   "execution_count": 13,
   "id": "c859f044",
   "metadata": {
    "execution": {
     "iopub.execute_input": "2024-10-28T17:15:16.484687Z",
     "iopub.status.busy": "2024-10-28T17:15:16.484274Z",
     "iopub.status.idle": "2024-10-28T17:15:16.490178Z",
     "shell.execute_reply": "2024-10-28T17:15:16.488286Z"
    },
    "papermill": {
     "duration": 0.017397,
     "end_time": "2024-10-28T17:15:16.492800",
     "exception": false,
     "start_time": "2024-10-28T17:15:16.475403",
     "status": "completed"
    },
    "tags": []
   },
   "outputs": [],
   "source": [
    "# Uncomment to see a hint\n",
    "#q4.hint()\n",
    "\n",
    "# Uncomment to see the solution\n",
    "#q4.solution()"
   ]
  },
  {
   "cell_type": "markdown",
   "id": "599ae60d",
   "metadata": {
    "papermill": {
     "duration": 0.007901,
     "end_time": "2024-10-28T17:15:16.509289",
     "exception": false,
     "start_time": "2024-10-28T17:15:16.501388",
     "status": "completed"
    },
    "tags": []
   },
   "source": [
    "# 🌶️ Question 5\n",
    " \n",
    "Say you're doing analytics for a website.  You need to write a function that returns the percentage growth in the total number of users relative to a specified number of years ago.\n",
    "\n",
    "Your function `percentage_growth()` should take two arguments as input:\n",
    "- `num_users` = Python list with the total number of users each year.  So `num_users[0]` is the total number of users in the first year, `num_users[1]` is the total number of users in the second year, and so on.  The final entry in the list gives the total number of users in the most recently completed year.\n",
    "- `yrs_ago` = number of years to go back in time when calculating the growth percentage\n",
    "\n",
    "For instance, say `num_users = [920344, 1043553, 1204334, 1458996, 1503323, 1593432, 1623463, 1843064, 1930992, 2001078]`.\n",
    "- if `yrs_ago = 1`, we want the function to return a value of about `0.036`. This corresponds to a percentage growth of approximately 3.6%, calculated as (2001078 - 1930992)/1930992.\n",
    "- if `years_ago = 7`, we would want to return approximately `0.66`.  This corresponds to a percentage growth of approximately 66%, calculated as (2001078 - 1204334)/1204334.\n",
    "\n",
    "Your coworker sent you a draft of a function, but it doesn't seem to be doing the correct calculation.  Can you figure out what has gone wrong and make the needed changes?"
   ]
  },
  {
   "cell_type": "code",
   "execution_count": 14,
   "id": "91e7add2",
   "metadata": {
    "execution": {
     "iopub.execute_input": "2024-10-28T17:15:16.526974Z",
     "iopub.status.busy": "2024-10-28T17:15:16.526555Z",
     "iopub.status.idle": "2024-10-28T17:15:16.538163Z",
     "shell.execute_reply": "2024-10-28T17:15:16.537038Z"
    },
    "papermill": {
     "duration": 0.023033,
     "end_time": "2024-10-28T17:15:16.540412",
     "exception": false,
     "start_time": "2024-10-28T17:15:16.517379",
     "status": "completed"
    },
    "tags": []
   },
   "outputs": [
    {
     "name": "stdout",
     "output_type": "stream",
     "text": [
      "0.0\n",
      "0.2807272117129434\n"
     ]
    },
    {
     "data": {
      "application/javascript": [
       "parent.postMessage({\"jupyterEvent\": \"custom.exercise_interaction\", \"data\": {\"outcomeType\": 2, \"failureMessage\": \"Expected return value of `0.03629533421163837` given `num_users=[920344, 1043553, 1204334, 1458996, 1503323, 1593432, 1623463, 1843064, 1930992, 2001078]`, `yrs_ago=1`, but got `0.0` instead.\", \"interactionType\": 1, \"questionType\": 2, \"questionId\": \"5_WebsiteAnalytics\", \"learnToolsVersion\": \"0.3.4\", \"valueTowardsCompletion\": 0.0, \"exceptionClass\": \"\", \"trace\": \"\"}}, \"*\")"
      ],
      "text/plain": [
       "<IPython.core.display.Javascript object>"
      ]
     },
     "metadata": {},
     "output_type": "display_data"
    },
    {
     "data": {
      "text/markdown": [
       "<span style=\"color:#cc3333\">Incorrect:</span> Expected return value of `0.03629533421163837` given `num_users=[920344, 1043553, 1204334, 1458996, 1503323, 1593432, 1623463, 1843064, 1930992, 2001078]`, `yrs_ago=1`, but got `0.0` instead."
      ],
      "text/plain": [
       "Incorrect: Expected return value of `0.03629533421163837` given `num_users=[920344, 1043553, 1204334, 1458996, 1503323, 1593432, 1623463, 1843064, 1930992, 2001078]`, `yrs_ago=1`, but got `0.0` instead."
      ]
     },
     "metadata": {},
     "output_type": "display_data"
    }
   ],
   "source": [
    "# TODO: Edit the function\n",
    "def percentage_growth(num_users, yrs_ago):\n",
    "    growth = (num_users[len(num_users)-1] - num_users[len(num_users)-yrs_ago])/num_users[len(num_users)-2]\n",
    "    return growth\n",
    "\n",
    "# Do not change: Variable for calculating some test examples\n",
    "num_users_test = [920344, 1043553, 1204334, 1458996, 1503323, 1593432, 1623463, 1843064, 1930992, 2001078]\n",
    "\n",
    "# Do not change: Should return .036\n",
    "print(percentage_growth(num_users_test, 1))\n",
    "\n",
    "# Do not change: Should return 0.66\n",
    "print(percentage_growth(num_users_test, 7))\n",
    "\n",
    "# Do not change: Check your answer\n",
    "q5.check()"
   ]
  },
  {
   "cell_type": "code",
   "execution_count": 15,
   "id": "a940c863",
   "metadata": {
    "execution": {
     "iopub.execute_input": "2024-10-28T17:15:16.558921Z",
     "iopub.status.busy": "2024-10-28T17:15:16.558502Z",
     "iopub.status.idle": "2024-10-28T17:15:16.563722Z",
     "shell.execute_reply": "2024-10-28T17:15:16.562397Z"
    },
    "papermill": {
     "duration": 0.01736,
     "end_time": "2024-10-28T17:15:16.566338",
     "exception": false,
     "start_time": "2024-10-28T17:15:16.548978",
     "status": "completed"
    },
    "tags": []
   },
   "outputs": [],
   "source": [
    "# Uncomment to see a hint\n",
    "#q5.hint()\n",
    "\n",
    "# Uncomment to see the solution\n",
    "#q5.solution()"
   ]
  },
  {
   "cell_type": "markdown",
   "id": "c01608f2",
   "metadata": {
    "papermill": {
     "duration": 0.008039,
     "end_time": "2024-10-28T17:15:16.582561",
     "exception": false,
     "start_time": "2024-10-28T17:15:16.574522",
     "status": "completed"
    },
    "tags": []
   },
   "source": [
    "# Congratulations!\n",
    "\n",
    "Congratulations for finishing the Intro to Programming course!  You should be proud of your very first steps with learning programming.  As next steps, we recommend taking:\n",
    "- the **[Python course](http://www.kaggle.com/learn/python)**, and \n",
    "- the **[Intro to Machine Learning course](https://www.kaggle.com/learn/intro-to-machine-learning)**."
   ]
  },
  {
   "cell_type": "markdown",
   "id": "357b41b7",
   "metadata": {
    "papermill": {
     "duration": 0.007721,
     "end_time": "2024-10-28T17:15:16.598275",
     "exception": false,
     "start_time": "2024-10-28T17:15:16.590554",
     "status": "completed"
    },
    "tags": []
   },
   "source": [
    "---\n",
    "\n",
    "\n",
    "\n",
    "\n",
    "*Have questions or comments? Visit the [course discussion forum](https://www.kaggle.com/learn/intro-to-programming/discussion) to chat with other learners.*"
   ]
  }
 ],
 "metadata": {
  "kaggle": {
   "accelerator": "none",
   "dataSources": [],
   "isGpuEnabled": false,
   "isInternetEnabled": false,
   "language": "python",
   "sourceType": "notebook"
  },
  "kernelspec": {
   "display_name": "Python 3",
   "language": "python",
   "name": "python3"
  },
  "language_info": {
   "codemirror_mode": {
    "name": "ipython",
    "version": 3
   },
   "file_extension": ".py",
   "mimetype": "text/x-python",
   "name": "python",
   "nbconvert_exporter": "python",
   "pygments_lexer": "ipython3",
   "version": "3.10.14"
  },
  "papermill": {
   "default_parameters": {},
   "duration": 5.31379,
   "end_time": "2024-10-28T17:15:17.128537",
   "environment_variables": {},
   "exception": null,
   "input_path": "__notebook__.ipynb",
   "output_path": "__notebook__.ipynb",
   "parameters": {},
   "start_time": "2024-10-28T17:15:11.814747",
   "version": "2.6.0"
  }
 },
 "nbformat": 4,
 "nbformat_minor": 5
}
