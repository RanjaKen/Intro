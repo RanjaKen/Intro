{
 "cells": [
  {
   "cell_type": "markdown",
   "id": "8724ac64",
   "metadata": {
    "papermill": {
     "duration": 0.00926,
     "end_time": "2024-10-28T17:15:03.943382",
     "exception": false,
     "start_time": "2024-10-28T17:15:03.934122",
     "status": "completed"
    },
    "tags": []
   },
   "source": [
    "**This notebook is an exercise in the [Intro to Programming](https://www.kaggle.com/learn/intro-to-programming) course.  You can reference the tutorial at [this link](https://www.kaggle.com/alexisbcook/intro-to-lists).**\n",
    "\n",
    "---\n"
   ]
  },
  {
   "cell_type": "markdown",
   "id": "13376e35",
   "metadata": {
    "papermill": {
     "duration": 0.008113,
     "end_time": "2024-10-28T17:15:03.960188",
     "exception": false,
     "start_time": "2024-10-28T17:15:03.952075",
     "status": "completed"
    },
    "tags": []
   },
   "source": [
    "In the tutorial, you learned how to define and modify Python lists.  In this exercise, you will use your new knowledge to solve several problems.\n",
    "\n",
    "# Set up the notebook\n",
    "\n",
    "Run the next code cell without changes to set up the notebook."
   ]
  },
  {
   "cell_type": "code",
   "execution_count": 1,
   "id": "4a8c73f3",
   "metadata": {
    "execution": {
     "iopub.execute_input": "2024-10-28T17:15:03.979211Z",
     "iopub.status.busy": "2024-10-28T17:15:03.978675Z",
     "iopub.status.idle": "2024-10-28T17:15:04.968488Z",
     "shell.execute_reply": "2024-10-28T17:15:04.967231Z"
    },
    "papermill": {
     "duration": 1.00243,
     "end_time": "2024-10-28T17:15:04.971126",
     "exception": false,
     "start_time": "2024-10-28T17:15:03.968696",
     "status": "completed"
    },
    "tags": []
   },
   "outputs": [
    {
     "name": "stdout",
     "output_type": "stream",
     "text": [
      "Setup complete.\n"
     ]
    }
   ],
   "source": [
    "from learntools.core import binder\n",
    "binder.bind(globals())\n",
    "from learntools.intro_to_programming.ex5 import *\n",
    "print('Setup complete.')"
   ]
  },
  {
   "cell_type": "markdown",
   "id": "e0c3d409",
   "metadata": {
    "papermill": {
     "duration": 0.008217,
     "end_time": "2024-10-28T17:15:04.987800",
     "exception": false,
     "start_time": "2024-10-28T17:15:04.979583",
     "status": "completed"
    },
    "tags": []
   },
   "source": [
    "# Question 1\n",
    "\n",
    "You own a restaurant with five food dishes, organized in the Python list `menu` below.  One day, you decide to:\n",
    "- remove bean soup (`'bean soup'`) from the menu, and\n",
    "- add roasted beet salad (`'roasted beet salad'`) to the menu.\n",
    "\n",
    "Implement this change to the list below.  While completing this task, \n",
    "- do not change the line that creates the `menu` list.  \n",
    "- your answer should use `.remove()` and `.append()`.  "
   ]
  },
  {
   "cell_type": "code",
   "execution_count": 2,
   "id": "3964d466",
   "metadata": {
    "execution": {
     "iopub.execute_input": "2024-10-28T17:15:05.006527Z",
     "iopub.status.busy": "2024-10-28T17:15:05.005931Z",
     "iopub.status.idle": "2024-10-28T17:15:05.017695Z",
     "shell.execute_reply": "2024-10-28T17:15:05.016581Z"
    },
    "papermill": {
     "duration": 0.024082,
     "end_time": "2024-10-28T17:15:05.020221",
     "exception": false,
     "start_time": "2024-10-28T17:15:04.996139",
     "status": "completed"
    },
    "tags": []
   },
   "outputs": [
    {
     "data": {
      "application/javascript": [
       "parent.postMessage({\"jupyterEvent\": \"custom.exercise_interaction\", \"data\": {\"outcomeType\": 1, \"valueTowardsCompletion\": 0.2, \"interactionType\": 1, \"questionType\": 2, \"questionId\": \"1_FoodMenu\", \"learnToolsVersion\": \"0.3.4\", \"failureMessage\": \"\", \"exceptionClass\": \"\", \"trace\": \"\"}}, \"*\")"
      ],
      "text/plain": [
       "<IPython.core.display.Javascript object>"
      ]
     },
     "metadata": {},
     "output_type": "display_data"
    },
    {
     "data": {
      "text/markdown": [
       "<span style=\"color:#33cc33\">Correct</span>"
      ],
      "text/plain": [
       "Correct"
      ]
     },
     "metadata": {},
     "output_type": "display_data"
    }
   ],
   "source": [
    "# Do not change: Initial menu for your restaurant\n",
    "menu = ['stewed meat with onions', 'bean soup', 'risotto with trout and shrimp',\n",
    "       'fish soup with cream and onion', 'gyro']\n",
    "\n",
    "# TODO: remove 'bean soup', and add 'roasted beet salad' to the end of the menu\n",
    "menu.remove(\"bean soup\")\n",
    "menu.append(\"roasted beet salad\")\n",
    "\n",
    "# Do not change: Check your answer\n",
    "q1.check()"
   ]
  },
  {
   "cell_type": "code",
   "execution_count": 3,
   "id": "c9980368",
   "metadata": {
    "execution": {
     "iopub.execute_input": "2024-10-28T17:15:05.041402Z",
     "iopub.status.busy": "2024-10-28T17:15:05.040412Z",
     "iopub.status.idle": "2024-10-28T17:15:05.045228Z",
     "shell.execute_reply": "2024-10-28T17:15:05.044200Z"
    },
    "papermill": {
     "duration": 0.017502,
     "end_time": "2024-10-28T17:15:05.047681",
     "exception": false,
     "start_time": "2024-10-28T17:15:05.030179",
     "status": "completed"
    },
    "tags": []
   },
   "outputs": [],
   "source": [
    "# Uncomment to see a hint\n",
    "#q1.hint()\n",
    "\n",
    "# Uncomment to see the solution\n",
    "#q1.solution()"
   ]
  },
  {
   "cell_type": "markdown",
   "id": "a7e327a3",
   "metadata": {
    "papermill": {
     "duration": 0.008542,
     "end_time": "2024-10-28T17:15:05.065056",
     "exception": false,
     "start_time": "2024-10-28T17:15:05.056514",
     "status": "completed"
    },
    "tags": []
   },
   "source": [
    "# Question 2\n",
    "\n",
    "The list `num_customers` contains the number of customers who came into your restaurant every day over the last month (which lasted thirty days).  Fill in values for each of the following:\n",
    "- `avg_first_seven` - average number of customers who visited in the first seven days\n",
    "- `avg_last_seven` - average number of customers who visited in the last seven days\n",
    "- `max_month` - number of customers on the day that got the most customers in the last month\n",
    "- `min_month` - number of customers on the day that got the least customers in the last month\n",
    "\n",
    "Answer this question by writing code.  For instance, if you have to find the minimum value in a list, use `min()` instead of scanning for the smallest value and directly filling in a number."
   ]
  },
  {
   "cell_type": "code",
   "execution_count": 4,
   "id": "228fae5c",
   "metadata": {
    "execution": {
     "iopub.execute_input": "2024-10-28T17:15:05.084508Z",
     "iopub.status.busy": "2024-10-28T17:15:05.084068Z",
     "iopub.status.idle": "2024-10-28T17:15:05.096608Z",
     "shell.execute_reply": "2024-10-28T17:15:05.095477Z"
    },
    "papermill": {
     "duration": 0.025213,
     "end_time": "2024-10-28T17:15:05.099152",
     "exception": false,
     "start_time": "2024-10-28T17:15:05.073939",
     "status": "completed"
    },
    "tags": []
   },
   "outputs": [
    {
     "data": {
      "application/javascript": [
       "parent.postMessage({\"jupyterEvent\": \"custom.exercise_interaction\", \"data\": {\"outcomeType\": 1, \"valueTowardsCompletion\": 0.2, \"interactionType\": 1, \"questionType\": 1, \"questionId\": \"2_NumCustomers\", \"learnToolsVersion\": \"0.3.4\", \"failureMessage\": \"\", \"exceptionClass\": \"\", \"trace\": \"\"}}, \"*\")"
      ],
      "text/plain": [
       "<IPython.core.display.Javascript object>"
      ]
     },
     "metadata": {},
     "output_type": "display_data"
    },
    {
     "data": {
      "text/markdown": [
       "<span style=\"color:#33cc33\">Correct</span>"
      ],
      "text/plain": [
       "Correct"
      ]
     },
     "metadata": {},
     "output_type": "display_data"
    }
   ],
   "source": [
    "# Do not change: Number of customers each day for the last month\n",
    "num_customers = [137, 147, 135, 128, 170, 174, 165, 146, 126, 159,\n",
    "                 141, 148, 132, 147, 168, 153, 170, 161, 148, 152,\n",
    "                 141, 151, 131, 149, 164, 163, 143, 143, 166, 171]\n",
    "\n",
    "# TODO: Fill in values for the variables below\n",
    "avg_first_seven = sum(num_customers[:7])/7\n",
    "avg_last_seven = sum(num_customers[-7:])/7\n",
    "max_month = max(num_customers)\n",
    "min_month = min(num_customers)\n",
    "\n",
    "# Do not change: Check your answer\n",
    "q2.check()"
   ]
  },
  {
   "cell_type": "code",
   "execution_count": 5,
   "id": "72ef2ae6",
   "metadata": {
    "execution": {
     "iopub.execute_input": "2024-10-28T17:15:05.119863Z",
     "iopub.status.busy": "2024-10-28T17:15:05.119413Z",
     "iopub.status.idle": "2024-10-28T17:15:05.124484Z",
     "shell.execute_reply": "2024-10-28T17:15:05.123235Z"
    },
    "papermill": {
     "duration": 0.018471,
     "end_time": "2024-10-28T17:15:05.127051",
     "exception": false,
     "start_time": "2024-10-28T17:15:05.108580",
     "status": "completed"
    },
    "tags": []
   },
   "outputs": [],
   "source": [
    "# Uncomment to see a hint\n",
    "#q2.hint()\n",
    "\n",
    "# Uncomment to see the solution\n",
    "#q2.solution()"
   ]
  },
  {
   "cell_type": "markdown",
   "id": "73bfb574",
   "metadata": {
    "papermill": {
     "duration": 0.009332,
     "end_time": "2024-10-28T17:15:05.146241",
     "exception": false,
     "start_time": "2024-10-28T17:15:05.136909",
     "status": "completed"
    },
    "tags": []
   },
   "source": [
    "# Question 3\n",
    "\n",
    "In the tutorial, we gave an example of a Python string with information that was better as a list."
   ]
  },
  {
   "cell_type": "code",
   "execution_count": 6,
   "id": "96ec4268",
   "metadata": {
    "execution": {
     "iopub.execute_input": "2024-10-28T17:15:05.166715Z",
     "iopub.status.busy": "2024-10-28T17:15:05.166215Z",
     "iopub.status.idle": "2024-10-28T17:15:05.171764Z",
     "shell.execute_reply": "2024-10-28T17:15:05.170565Z"
    },
    "papermill": {
     "duration": 0.018892,
     "end_time": "2024-10-28T17:15:05.174472",
     "exception": false,
     "start_time": "2024-10-28T17:15:05.155580",
     "status": "completed"
    },
    "tags": []
   },
   "outputs": [],
   "source": [
    "flowers = \"pink primrose,hard-leaved pocket orchid,canterbury bells,sweet pea,english marigold,tiger lily,moon orchid,bird of paradise,monkshood,globe thistle\""
   ]
  },
  {
   "cell_type": "markdown",
   "id": "cf7b9580",
   "metadata": {
    "papermill": {
     "duration": 0.009047,
     "end_time": "2024-10-28T17:15:05.194135",
     "exception": false,
     "start_time": "2024-10-28T17:15:05.185088",
     "status": "completed"
    },
    "tags": []
   },
   "source": [
    "You can actually use Python to quickly turn this string into a list with `.split()`.  In the parentheses, we need to provide the character should be used to mark the end of one list item and the beginning of another, and enclose it in quotation marks.  In this case, that character is a comma."
   ]
  },
  {
   "cell_type": "code",
   "execution_count": 7,
   "id": "e9974dd0",
   "metadata": {
    "execution": {
     "iopub.execute_input": "2024-10-28T17:15:05.214791Z",
     "iopub.status.busy": "2024-10-28T17:15:05.214327Z",
     "iopub.status.idle": "2024-10-28T17:15:05.220868Z",
     "shell.execute_reply": "2024-10-28T17:15:05.219247Z"
    },
    "papermill": {
     "duration": 0.019823,
     "end_time": "2024-10-28T17:15:05.223538",
     "exception": false,
     "start_time": "2024-10-28T17:15:05.203715",
     "status": "completed"
    },
    "tags": []
   },
   "outputs": [
    {
     "name": "stdout",
     "output_type": "stream",
     "text": [
      "['pink primrose', 'hard-leaved pocket orchid', 'canterbury bells', 'sweet pea', 'english marigold', 'tiger lily', 'moon orchid', 'bird of paradise', 'monkshood', 'globe thistle']\n"
     ]
    }
   ],
   "source": [
    " print(flowers.split(\",\"))"
   ]
  },
  {
   "cell_type": "markdown",
   "id": "2eb361bf",
   "metadata": {
    "papermill": {
     "duration": 0.009069,
     "end_time": "2024-10-28T17:15:05.241977",
     "exception": false,
     "start_time": "2024-10-28T17:15:05.232908",
     "status": "completed"
    },
    "tags": []
   },
   "source": [
    "Now it is your turn to try this out!  Create two Python lists:\n",
    "- `letters` should be a Python list where each entry is an uppercase letter of the English alphabet.  For instance, the first two entries should be `\"A\"` and `\"B\"`, and the final two entries should be `\"Y\"` and `\"Z\"`.  Use the string `alphabet` to create this list.\n",
    "- `address` should be a Python list where each row in `address` is a different item in the list.  Currently, each row in `address` is separated by a comma. "
   ]
  },
  {
   "cell_type": "code",
   "execution_count": 8,
   "id": "77b3af9d",
   "metadata": {
    "execution": {
     "iopub.execute_input": "2024-10-28T17:15:05.263199Z",
     "iopub.status.busy": "2024-10-28T17:15:05.262211Z",
     "iopub.status.idle": "2024-10-28T17:15:05.272476Z",
     "shell.execute_reply": "2024-10-28T17:15:05.271316Z"
    },
    "papermill": {
     "duration": 0.023643,
     "end_time": "2024-10-28T17:15:05.274883",
     "exception": false,
     "start_time": "2024-10-28T17:15:05.251240",
     "status": "completed"
    },
    "tags": []
   },
   "outputs": [
    {
     "data": {
      "application/javascript": [
       "parent.postMessage({\"jupyterEvent\": \"custom.exercise_interaction\", \"data\": {\"outcomeType\": 4, \"interactionType\": 1, \"questionType\": 1, \"questionId\": \"3_SplitString\", \"learnToolsVersion\": \"0.3.4\", \"valueTowardsCompletion\": 0.0, \"failureMessage\": \"\", \"exceptionClass\": \"\", \"trace\": \"\"}}, \"*\")"
      ],
      "text/plain": [
       "<IPython.core.display.Javascript object>"
      ]
     },
     "metadata": {},
     "output_type": "display_data"
    },
    {
     "data": {
      "text/markdown": [
       "<span style=\"color:#ccaa33\">Check:</span> When you've updated the starter code, `check()` will tell you whether your code is correct. You need to update the code that creates variables `letters`, `formatted_address`"
      ],
      "text/plain": [
       "Check: When you've updated the starter code, `check()` will tell you whether your code is correct. You need to update the code that creates variables `letters`, `formatted_address`"
      ]
     },
     "metadata": {},
     "output_type": "display_data"
    }
   ],
   "source": [
    "# DO not change: Define two Python strings\n",
    "alphabet = \"A.B.C.D.E.F.G.H.I.J.K.L.M.N.O.P.Q.R.S.T.U.V.W.X.Y.Z\"\n",
    "address = \"Mr. H. Potter,The cupboard under the Stairs,4 Privet Drive,Little Whinging,Surrey\"\n",
    "\n",
    "# TODO: Convert strings into Python lists\n",
    "letters = ____\n",
    "formatted_address = ____\n",
    "\n",
    "# Do not change: Check your answer\n",
    "q3.check()"
   ]
  },
  {
   "cell_type": "code",
   "execution_count": 9,
   "id": "cd39c9d7",
   "metadata": {
    "execution": {
     "iopub.execute_input": "2024-10-28T17:15:05.295943Z",
     "iopub.status.busy": "2024-10-28T17:15:05.295507Z",
     "iopub.status.idle": "2024-10-28T17:15:05.300410Z",
     "shell.execute_reply": "2024-10-28T17:15:05.299329Z"
    },
    "papermill": {
     "duration": 0.018244,
     "end_time": "2024-10-28T17:15:05.302798",
     "exception": false,
     "start_time": "2024-10-28T17:15:05.284554",
     "status": "completed"
    },
    "tags": []
   },
   "outputs": [],
   "source": [
    "# Uncomment to see a hint\n",
    "#q3.hint()\n",
    "\n",
    "# Uncomment to see the solution\n",
    "#q3.solution()"
   ]
  },
  {
   "cell_type": "markdown",
   "id": "021f17a4",
   "metadata": {
    "papermill": {
     "duration": 0.009162,
     "end_time": "2024-10-28T17:15:05.321628",
     "exception": false,
     "start_time": "2024-10-28T17:15:05.312466",
     "status": "completed"
    },
    "tags": []
   },
   "source": [
    "# Question 4\n",
    "\n",
    "In the Python course, you'll learn all about **list comprehensions**, which allow you to create a list based on the values in another list.  In this question, you'll get a brief preview of how they work.\n",
    "\n",
    "Say we're working with the list below."
   ]
  },
  {
   "cell_type": "code",
   "execution_count": 10,
   "id": "ceb73e9b",
   "metadata": {
    "execution": {
     "iopub.execute_input": "2024-10-28T17:15:05.342854Z",
     "iopub.status.busy": "2024-10-28T17:15:05.341979Z",
     "iopub.status.idle": "2024-10-28T17:15:05.347164Z",
     "shell.execute_reply": "2024-10-28T17:15:05.346024Z"
    },
    "papermill": {
     "duration": 0.018579,
     "end_time": "2024-10-28T17:15:05.349620",
     "exception": false,
     "start_time": "2024-10-28T17:15:05.331041",
     "status": "completed"
    },
    "tags": []
   },
   "outputs": [],
   "source": [
    "test_ratings = [1, 2, 3, 4, 5]"
   ]
  },
  {
   "cell_type": "markdown",
   "id": "857caf4f",
   "metadata": {
    "papermill": {
     "duration": 0.009413,
     "end_time": "2024-10-28T17:15:05.368738",
     "exception": false,
     "start_time": "2024-10-28T17:15:05.359325",
     "status": "completed"
    },
    "tags": []
   },
   "source": [
    "Then we can use this list (`test_ratings`) to create a new list (`test_liked`) where each item has been turned into a boolean, depending on whether or not the item is greater than or equal to four."
   ]
  },
  {
   "cell_type": "code",
   "execution_count": 11,
   "id": "60c7ca33",
   "metadata": {
    "execution": {
     "iopub.execute_input": "2024-10-28T17:15:05.389955Z",
     "iopub.status.busy": "2024-10-28T17:15:05.389149Z",
     "iopub.status.idle": "2024-10-28T17:15:05.395085Z",
     "shell.execute_reply": "2024-10-28T17:15:05.394054Z"
    },
    "papermill": {
     "duration": 0.018948,
     "end_time": "2024-10-28T17:15:05.397326",
     "exception": false,
     "start_time": "2024-10-28T17:15:05.378378",
     "status": "completed"
    },
    "tags": []
   },
   "outputs": [
    {
     "name": "stdout",
     "output_type": "stream",
     "text": [
      "[False, False, False, True, True]\n"
     ]
    }
   ],
   "source": [
    "test_liked = [i>=4 for i in test_ratings]\n",
    "print(test_liked)"
   ]
  },
  {
   "cell_type": "markdown",
   "id": "4c48e4c2",
   "metadata": {
    "papermill": {
     "duration": 0.009395,
     "end_time": "2024-10-28T17:15:05.416786",
     "exception": false,
     "start_time": "2024-10-28T17:15:05.407391",
     "status": "completed"
    },
    "tags": []
   },
   "source": [
    "In this question, you'll use this list comprehension to define a function `percentage_liked()` that takes one argument as input:\n",
    "- `ratings`: list of ratings that people gave to a movie, where each rating is a number between 1-5, inclusive\n",
    "\n",
    "We say someone liked the movie, if they gave a rating of either 4 or 5.  Your function should return the percentage of people who liked the movie.\n",
    "\n",
    "For instance, if we supply a value of `[1, 2, 3, 4, 5, 4, 5, 1]`, then 50% (4/8) of the people liked the movie, and the function should return `0.5`.\n",
    "\n",
    "Part of the function has already been completed for you.  You need only use `list_liked` to calculate `percentage_liked`."
   ]
  },
  {
   "cell_type": "code",
   "execution_count": 12,
   "id": "109c33d9",
   "metadata": {
    "execution": {
     "iopub.execute_input": "2024-10-28T17:15:05.438114Z",
     "iopub.status.busy": "2024-10-28T17:15:05.437437Z",
     "iopub.status.idle": "2024-10-28T17:15:05.448856Z",
     "shell.execute_reply": "2024-10-28T17:15:05.447778Z"
    },
    "papermill": {
     "duration": 0.02473,
     "end_time": "2024-10-28T17:15:05.451252",
     "exception": false,
     "start_time": "2024-10-28T17:15:05.426522",
     "status": "completed"
    },
    "tags": []
   },
   "outputs": [
    {
     "data": {
      "application/javascript": [
       "parent.postMessage({\"jupyterEvent\": \"custom.exercise_interaction\", \"data\": {\"outcomeType\": 2, \"failureMessage\": \"Expected return value of `0.5` given `ratings=[1, 2, 3, 4, 5, 4, 5, 1]`, but got `<learntools.core.constants.PlaceholderValue object at 0x7b44f744ca30>` instead.\", \"interactionType\": 1, \"questionType\": 2, \"questionId\": \"4_PercentageLiked\", \"learnToolsVersion\": \"0.3.4\", \"valueTowardsCompletion\": 0.0, \"exceptionClass\": \"\", \"trace\": \"\"}}, \"*\")"
      ],
      "text/plain": [
       "<IPython.core.display.Javascript object>"
      ]
     },
     "metadata": {},
     "output_type": "display_data"
    },
    {
     "data": {
      "text/markdown": [
       "<span style=\"color:#cc3333\">Incorrect:</span> Expected return value of `0.5` given `ratings=[1, 2, 3, 4, 5, 4, 5, 1]`, but got `<learntools.core.constants.PlaceholderValue object at 0x7b44f744ca30>` instead."
      ],
      "text/plain": [
       "Incorrect: Expected return value of `0.5` given `ratings=[1, 2, 3, 4, 5, 4, 5, 1]`, but got `<learntools.core.constants.PlaceholderValue object at 0x7b44f744ca30>` instead."
      ]
     },
     "metadata": {},
     "output_type": "display_data"
    }
   ],
   "source": [
    "\n",
    "def percentage_liked(ratings):\n",
    "    list_liked = [i>=4 for i in ratings]\n",
    "    # TODO: Complete the function\n",
    "    percentage_liked = ____\n",
    "    return percentage_liked\n",
    "\n",
    "# Do not change: should return 0.5\n",
    "percentage_liked([1, 2, 3, 4, 5, 4, 5, 1])\n",
    "\n",
    "# Do not change: Check your answer\n",
    "q4.check()"
   ]
  },
  {
   "cell_type": "code",
   "execution_count": 13,
   "id": "52bf5e34",
   "metadata": {
    "execution": {
     "iopub.execute_input": "2024-10-28T17:15:05.473115Z",
     "iopub.status.busy": "2024-10-28T17:15:05.472709Z",
     "iopub.status.idle": "2024-10-28T17:15:05.477810Z",
     "shell.execute_reply": "2024-10-28T17:15:05.476695Z"
    },
    "papermill": {
     "duration": 0.018744,
     "end_time": "2024-10-28T17:15:05.480086",
     "exception": false,
     "start_time": "2024-10-28T17:15:05.461342",
     "status": "completed"
    },
    "tags": []
   },
   "outputs": [],
   "source": [
    "# Uncomment to see a hint\n",
    "#q4.hint()\n",
    "\n",
    "# Uncomment to see the solution\n",
    "#q4.solution()"
   ]
  },
  {
   "cell_type": "markdown",
   "id": "51cc8d2c",
   "metadata": {
    "papermill": {
     "duration": 0.009919,
     "end_time": "2024-10-28T17:15:05.499936",
     "exception": false,
     "start_time": "2024-10-28T17:15:05.490017",
     "status": "completed"
    },
    "tags": []
   },
   "source": [
    "# 🌶️ Question 5\n",
    " \n",
    "Say you're doing analytics for a website.  You need to write a function that returns the percentage growth in the total number of users relative to a specified number of years ago.\n",
    "\n",
    "Your function `percentage_growth()` should take two arguments as input:\n",
    "- `num_users` = Python list with the total number of users each year.  So `num_users[0]` is the total number of users in the first year, `num_users[1]` is the total number of users in the second year, and so on.  The final entry in the list gives the total number of users in the most recently completed year.\n",
    "- `yrs_ago` = number of years to go back in time when calculating the growth percentage\n",
    "\n",
    "For instance, say `num_users = [920344, 1043553, 1204334, 1458996, 1503323, 1593432, 1623463, 1843064, 1930992, 2001078]`.\n",
    "- if `yrs_ago = 1`, we want the function to return a value of about `0.036`. This corresponds to a percentage growth of approximately 3.6%, calculated as (2001078 - 1930992)/1930992.\n",
    "- if `years_ago = 7`, we would want to return approximately `0.66`.  This corresponds to a percentage growth of approximately 66%, calculated as (2001078 - 1204334)/1204334.\n",
    "\n",
    "Your coworker sent you a draft of a function, but it doesn't seem to be doing the correct calculation.  Can you figure out what has gone wrong and make the needed changes?"
   ]
  },
  {
   "cell_type": "code",
   "execution_count": 14,
   "id": "252ef593",
   "metadata": {
    "execution": {
     "iopub.execute_input": "2024-10-28T17:15:05.522972Z",
     "iopub.status.busy": "2024-10-28T17:15:05.522554Z",
     "iopub.status.idle": "2024-10-28T17:15:05.535762Z",
     "shell.execute_reply": "2024-10-28T17:15:05.534682Z"
    },
    "papermill": {
     "duration": 0.027825,
     "end_time": "2024-10-28T17:15:05.538611",
     "exception": false,
     "start_time": "2024-10-28T17:15:05.510786",
     "status": "completed"
    },
    "tags": []
   },
   "outputs": [
    {
     "name": "stdout",
     "output_type": "stream",
     "text": [
      "0.0\n",
      "0.2807272117129434\n"
     ]
    },
    {
     "data": {
      "application/javascript": [
       "parent.postMessage({\"jupyterEvent\": \"custom.exercise_interaction\", \"data\": {\"outcomeType\": 2, \"failureMessage\": \"Expected return value of `0.03629533421163837` given `num_users=[920344, 1043553, 1204334, 1458996, 1503323, 1593432, 1623463, 1843064, 1930992, 2001078]`, `yrs_ago=1`, but got `0.0` instead.\", \"interactionType\": 1, \"questionType\": 2, \"questionId\": \"5_WebsiteAnalytics\", \"learnToolsVersion\": \"0.3.4\", \"valueTowardsCompletion\": 0.0, \"exceptionClass\": \"\", \"trace\": \"\"}}, \"*\")"
      ],
      "text/plain": [
       "<IPython.core.display.Javascript object>"
      ]
     },
     "metadata": {},
     "output_type": "display_data"
    },
    {
     "data": {
      "text/markdown": [
       "<span style=\"color:#cc3333\">Incorrect:</span> Expected return value of `0.03629533421163837` given `num_users=[920344, 1043553, 1204334, 1458996, 1503323, 1593432, 1623463, 1843064, 1930992, 2001078]`, `yrs_ago=1`, but got `0.0` instead."
      ],
      "text/plain": [
       "Incorrect: Expected return value of `0.03629533421163837` given `num_users=[920344, 1043553, 1204334, 1458996, 1503323, 1593432, 1623463, 1843064, 1930992, 2001078]`, `yrs_ago=1`, but got `0.0` instead."
      ]
     },
     "metadata": {},
     "output_type": "display_data"
    }
   ],
   "source": [
    "# TODO: Edit the function\n",
    "def percentage_growth(num_users, yrs_ago):\n",
    "    growth = (num_users[len(num_users)-1] - num_users[len(num_users)-yrs_ago])/num_users[len(num_users)-2]\n",
    "    return growth\n",
    "\n",
    "# Do not change: Variable for calculating some test examples\n",
    "num_users_test = [920344, 1043553, 1204334, 1458996, 1503323, 1593432, 1623463, 1843064, 1930992, 2001078]\n",
    "\n",
    "# Do not change: Should return .036\n",
    "print(percentage_growth(num_users_test, 1))\n",
    "\n",
    "# Do not change: Should return 0.66\n",
    "print(percentage_growth(num_users_test, 7))\n",
    "\n",
    "# Do not change: Check your answer\n",
    "q5.check()"
   ]
  },
  {
   "cell_type": "code",
   "execution_count": 15,
   "id": "123d3b80",
   "metadata": {
    "execution": {
     "iopub.execute_input": "2024-10-28T17:15:05.561499Z",
     "iopub.status.busy": "2024-10-28T17:15:05.560970Z",
     "iopub.status.idle": "2024-10-28T17:15:05.565855Z",
     "shell.execute_reply": "2024-10-28T17:15:05.564770Z"
    },
    "papermill": {
     "duration": 0.019189,
     "end_time": "2024-10-28T17:15:05.568332",
     "exception": false,
     "start_time": "2024-10-28T17:15:05.549143",
     "status": "completed"
    },
    "tags": []
   },
   "outputs": [],
   "source": [
    "# Uncomment to see a hint\n",
    "#q5.hint()\n",
    "\n",
    "# Uncomment to see the solution\n",
    "#q5.solution()"
   ]
  },
  {
   "cell_type": "markdown",
   "id": "d5aeeb4d",
   "metadata": {
    "papermill": {
     "duration": 0.010219,
     "end_time": "2024-10-28T17:15:05.589335",
     "exception": false,
     "start_time": "2024-10-28T17:15:05.579116",
     "status": "completed"
    },
    "tags": []
   },
   "source": [
    "# Congratulations!\n",
    "\n",
    "Congratulations for finishing the Intro to Programming course!  You should be proud of your very first steps with learning programming.  As next steps, we recommend taking:\n",
    "- the **[Python course](http://www.kaggle.com/learn/python)**, and \n",
    "- the **[Intro to Machine Learning course](https://www.kaggle.com/learn/intro-to-machine-learning)**."
   ]
  },
  {
   "cell_type": "markdown",
   "id": "3dcd0c48",
   "metadata": {
    "papermill": {
     "duration": 0.010077,
     "end_time": "2024-10-28T17:15:05.610141",
     "exception": false,
     "start_time": "2024-10-28T17:15:05.600064",
     "status": "completed"
    },
    "tags": []
   },
   "source": [
    "---\n",
    "\n",
    "\n",
    "\n",
    "\n",
    "*Have questions or comments? Visit the [course discussion forum](https://www.kaggle.com/learn/intro-to-programming/discussion) to chat with other learners.*"
   ]
  }
 ],
 "metadata": {
  "kaggle": {
   "accelerator": "none",
   "dataSources": [],
   "isGpuEnabled": false,
   "isInternetEnabled": false,
   "language": "python",
   "sourceType": "notebook"
  },
  "kernelspec": {
   "display_name": "Python 3",
   "language": "python",
   "name": "python3"
  },
  "language_info": {
   "codemirror_mode": {
    "name": "ipython",
    "version": 3
   },
   "file_extension": ".py",
   "mimetype": "text/x-python",
   "name": "python",
   "nbconvert_exporter": "python",
   "pygments_lexer": "ipython3",
   "version": "3.10.14"
  },
  "papermill": {
   "default_parameters": {},
   "duration": 5.161843,
   "end_time": "2024-10-28T17:15:06.041362",
   "environment_variables": {},
   "exception": null,
   "input_path": "__notebook__.ipynb",
   "output_path": "__notebook__.ipynb",
   "parameters": {},
   "start_time": "2024-10-28T17:15:00.879519",
   "version": "2.6.0"
  }
 },
 "nbformat": 4,
 "nbformat_minor": 5
}
