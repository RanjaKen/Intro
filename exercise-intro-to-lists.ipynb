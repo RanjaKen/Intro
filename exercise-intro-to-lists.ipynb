{
 "cells": [
  {
   "cell_type": "markdown",
   "id": "cd475f77",
   "metadata": {
    "papermill": {
     "duration": 0.007104,
     "end_time": "2024-10-28T17:10:44.793366",
     "exception": false,
     "start_time": "2024-10-28T17:10:44.786262",
     "status": "completed"
    },
    "tags": []
   },
   "source": [
    "**This notebook is an exercise in the [Intro to Programming](https://www.kaggle.com/learn/intro-to-programming) course.  You can reference the tutorial at [this link](https://www.kaggle.com/alexisbcook/intro-to-lists).**\n",
    "\n",
    "---\n"
   ]
  },
  {
   "cell_type": "markdown",
   "id": "d92c024f",
   "metadata": {
    "papermill": {
     "duration": 0.006127,
     "end_time": "2024-10-28T17:10:44.805882",
     "exception": false,
     "start_time": "2024-10-28T17:10:44.799755",
     "status": "completed"
    },
    "tags": []
   },
   "source": [
    "In the tutorial, you learned how to define and modify Python lists.  In this exercise, you will use your new knowledge to solve several problems.\n",
    "\n",
    "# Set up the notebook\n",
    "\n",
    "Run the next code cell without changes to set up the notebook."
   ]
  },
  {
   "cell_type": "code",
   "execution_count": 1,
   "id": "28f551d1",
   "metadata": {
    "execution": {
     "iopub.execute_input": "2024-10-28T17:10:44.819884Z",
     "iopub.status.busy": "2024-10-28T17:10:44.819444Z",
     "iopub.status.idle": "2024-10-28T17:10:45.735606Z",
     "shell.execute_reply": "2024-10-28T17:10:45.734239Z"
    },
    "papermill": {
     "duration": 0.926352,
     "end_time": "2024-10-28T17:10:45.738279",
     "exception": false,
     "start_time": "2024-10-28T17:10:44.811927",
     "status": "completed"
    },
    "tags": []
   },
   "outputs": [
    {
     "name": "stdout",
     "output_type": "stream",
     "text": [
      "Setup complete.\n"
     ]
    }
   ],
   "source": [
    "from learntools.core import binder\n",
    "binder.bind(globals())\n",
    "from learntools.intro_to_programming.ex5 import *\n",
    "print('Setup complete.')"
   ]
  },
  {
   "cell_type": "markdown",
   "id": "ae6f25b3",
   "metadata": {
    "papermill": {
     "duration": 0.006542,
     "end_time": "2024-10-28T17:10:45.751074",
     "exception": false,
     "start_time": "2024-10-28T17:10:45.744532",
     "status": "completed"
    },
    "tags": []
   },
   "source": [
    "# Question 1\n",
    "\n",
    "You own a restaurant with five food dishes, organized in the Python list `menu` below.  One day, you decide to:\n",
    "- remove bean soup (`'bean soup'`) from the menu, and\n",
    "- add roasted beet salad (`'roasted beet salad'`) to the menu.\n",
    "\n",
    "Implement this change to the list below.  While completing this task, \n",
    "- do not change the line that creates the `menu` list.  \n",
    "- your answer should use `.remove()` and `.append()`.  "
   ]
  },
  {
   "cell_type": "code",
   "execution_count": 2,
   "id": "90891714",
   "metadata": {
    "execution": {
     "iopub.execute_input": "2024-10-28T17:10:45.765982Z",
     "iopub.status.busy": "2024-10-28T17:10:45.764982Z",
     "iopub.status.idle": "2024-10-28T17:10:45.777237Z",
     "shell.execute_reply": "2024-10-28T17:10:45.776119Z"
    },
    "papermill": {
     "duration": 0.022287,
     "end_time": "2024-10-28T17:10:45.779606",
     "exception": false,
     "start_time": "2024-10-28T17:10:45.757319",
     "status": "completed"
    },
    "tags": []
   },
   "outputs": [
    {
     "data": {
      "application/javascript": [
       "parent.postMessage({\"jupyterEvent\": \"custom.exercise_interaction\", \"data\": {\"outcomeType\": 2, \"failureMessage\": \"These item(s) should be removed from `menu`: ['bean soup']\", \"interactionType\": 1, \"questionType\": 2, \"questionId\": \"1_FoodMenu\", \"learnToolsVersion\": \"0.3.4\", \"valueTowardsCompletion\": 0.0, \"exceptionClass\": \"\", \"trace\": \"\"}}, \"*\")"
      ],
      "text/plain": [
       "<IPython.core.display.Javascript object>"
      ]
     },
     "metadata": {},
     "output_type": "display_data"
    },
    {
     "data": {
      "text/markdown": [
       "<span style=\"color:#cc3333\">Incorrect:</span> These item(s) should be removed from `menu`: ['bean soup']"
      ],
      "text/plain": [
       "Incorrect: These item(s) should be removed from `menu`: ['bean soup']"
      ]
     },
     "metadata": {},
     "output_type": "display_data"
    }
   ],
   "source": [
    "# Do not change: Initial menu for your restaurant\n",
    "menu = ['stewed meat with onions', 'bean soup', 'risotto with trout and shrimp',\n",
    "       'fish soup with cream and onion', 'gyro']\n",
    "\n",
    "# TODO: remove 'bean soup', and add 'roasted beet salad' to the end of the menu\n",
    "____\n",
    "\n",
    "# Do not change: Check your answer\n",
    "q1.check()"
   ]
  },
  {
   "cell_type": "code",
   "execution_count": 3,
   "id": "e6c09d07",
   "metadata": {
    "execution": {
     "iopub.execute_input": "2024-10-28T17:10:45.795800Z",
     "iopub.status.busy": "2024-10-28T17:10:45.795404Z",
     "iopub.status.idle": "2024-10-28T17:10:45.800581Z",
     "shell.execute_reply": "2024-10-28T17:10:45.799202Z"
    },
    "papermill": {
     "duration": 0.016035,
     "end_time": "2024-10-28T17:10:45.803142",
     "exception": false,
     "start_time": "2024-10-28T17:10:45.787107",
     "status": "completed"
    },
    "tags": []
   },
   "outputs": [],
   "source": [
    "# Uncomment to see a hint\n",
    "#q1.hint()\n",
    "\n",
    "# Uncomment to see the solution\n",
    "#q1.solution()"
   ]
  },
  {
   "cell_type": "markdown",
   "id": "93aaf5c5",
   "metadata": {
    "papermill": {
     "duration": 0.006735,
     "end_time": "2024-10-28T17:10:45.816441",
     "exception": false,
     "start_time": "2024-10-28T17:10:45.809706",
     "status": "completed"
    },
    "tags": []
   },
   "source": [
    "# Question 2\n",
    "\n",
    "The list `num_customers` contains the number of customers who came into your restaurant every day over the last month (which lasted thirty days).  Fill in values for each of the following:\n",
    "- `avg_first_seven` - average number of customers who visited in the first seven days\n",
    "- `avg_last_seven` - average number of customers who visited in the last seven days\n",
    "- `max_month` - number of customers on the day that got the most customers in the last month\n",
    "- `min_month` - number of customers on the day that got the least customers in the last month\n",
    "\n",
    "Answer this question by writing code.  For instance, if you have to find the minimum value in a list, use `min()` instead of scanning for the smallest value and directly filling in a number."
   ]
  },
  {
   "cell_type": "code",
   "execution_count": 4,
   "id": "940f3920",
   "metadata": {
    "execution": {
     "iopub.execute_input": "2024-10-28T17:10:45.831152Z",
     "iopub.status.busy": "2024-10-28T17:10:45.830724Z",
     "iopub.status.idle": "2024-10-28T17:10:45.841621Z",
     "shell.execute_reply": "2024-10-28T17:10:45.840400Z"
    },
    "papermill": {
     "duration": 0.021097,
     "end_time": "2024-10-28T17:10:45.844135",
     "exception": false,
     "start_time": "2024-10-28T17:10:45.823038",
     "status": "completed"
    },
    "tags": []
   },
   "outputs": [
    {
     "data": {
      "application/javascript": [
       "parent.postMessage({\"jupyterEvent\": \"custom.exercise_interaction\", \"data\": {\"outcomeType\": 4, \"interactionType\": 1, \"questionType\": 1, \"questionId\": \"2_NumCustomers\", \"learnToolsVersion\": \"0.3.4\", \"valueTowardsCompletion\": 0.0, \"failureMessage\": \"\", \"exceptionClass\": \"\", \"trace\": \"\"}}, \"*\")"
      ],
      "text/plain": [
       "<IPython.core.display.Javascript object>"
      ]
     },
     "metadata": {},
     "output_type": "display_data"
    },
    {
     "data": {
      "text/markdown": [
       "<span style=\"color:#ccaa33\">Check:</span> When you've updated the starter code, `check()` will tell you whether your code is correct. You need to update the code that creates variables `avg_first_seven`, `avg_last_seven`, `max_month`, `min_month`"
      ],
      "text/plain": [
       "Check: When you've updated the starter code, `check()` will tell you whether your code is correct. You need to update the code that creates variables `avg_first_seven`, `avg_last_seven`, `max_month`, `min_month`"
      ]
     },
     "metadata": {},
     "output_type": "display_data"
    }
   ],
   "source": [
    "# Do not change: Number of customers each day for the last month\n",
    "num_customers = [137, 147, 135, 128, 170, 174, 165, 146, 126, 159,\n",
    "                 141, 148, 132, 147, 168, 153, 170, 161, 148, 152,\n",
    "                 141, 151, 131, 149, 164, 163, 143, 143, 166, 171]\n",
    "\n",
    "# TODO: Fill in values for the variables below\n",
    "avg_first_seven = ____ \n",
    "avg_last_seven = ____ \n",
    "max_month = ____\n",
    "min_month = ____\n",
    "\n",
    "# Do not change: Check your answer\n",
    "q2.check()"
   ]
  },
  {
   "cell_type": "code",
   "execution_count": 5,
   "id": "e08c1c83",
   "metadata": {
    "execution": {
     "iopub.execute_input": "2024-10-28T17:10:45.859552Z",
     "iopub.status.busy": "2024-10-28T17:10:45.859176Z",
     "iopub.status.idle": "2024-10-28T17:10:45.864125Z",
     "shell.execute_reply": "2024-10-28T17:10:45.862961Z"
    },
    "papermill": {
     "duration": 0.015446,
     "end_time": "2024-10-28T17:10:45.866566",
     "exception": false,
     "start_time": "2024-10-28T17:10:45.851120",
     "status": "completed"
    },
    "tags": []
   },
   "outputs": [],
   "source": [
    "# Uncomment to see a hint\n",
    "#q2.hint()\n",
    "\n",
    "# Uncomment to see the solution\n",
    "#q2.solution()"
   ]
  },
  {
   "cell_type": "markdown",
   "id": "bcabaa60",
   "metadata": {
    "papermill": {
     "duration": 0.006522,
     "end_time": "2024-10-28T17:10:45.879926",
     "exception": false,
     "start_time": "2024-10-28T17:10:45.873404",
     "status": "completed"
    },
    "tags": []
   },
   "source": [
    "# Question 3\n",
    "\n",
    "In the tutorial, we gave an example of a Python string with information that was better as a list."
   ]
  },
  {
   "cell_type": "code",
   "execution_count": 6,
   "id": "b9c3402f",
   "metadata": {
    "execution": {
     "iopub.execute_input": "2024-10-28T17:10:45.895632Z",
     "iopub.status.busy": "2024-10-28T17:10:45.895257Z",
     "iopub.status.idle": "2024-10-28T17:10:45.900169Z",
     "shell.execute_reply": "2024-10-28T17:10:45.899054Z"
    },
    "papermill": {
     "duration": 0.015636,
     "end_time": "2024-10-28T17:10:45.902402",
     "exception": false,
     "start_time": "2024-10-28T17:10:45.886766",
     "status": "completed"
    },
    "tags": []
   },
   "outputs": [],
   "source": [
    "flowers = \"pink primrose,hard-leaved pocket orchid,canterbury bells,sweet pea,english marigold,tiger lily,moon orchid,bird of paradise,monkshood,globe thistle\""
   ]
  },
  {
   "cell_type": "markdown",
   "id": "cfb7dff2",
   "metadata": {
    "papermill": {
     "duration": 0.006458,
     "end_time": "2024-10-28T17:10:45.915585",
     "exception": false,
     "start_time": "2024-10-28T17:10:45.909127",
     "status": "completed"
    },
    "tags": []
   },
   "source": [
    "You can actually use Python to quickly turn this string into a list with `.split()`.  In the parentheses, we need to provide the character should be used to mark the end of one list item and the beginning of another, and enclose it in quotation marks.  In this case, that character is a comma."
   ]
  },
  {
   "cell_type": "code",
   "execution_count": 7,
   "id": "51b4c23c",
   "metadata": {
    "execution": {
     "iopub.execute_input": "2024-10-28T17:10:45.930899Z",
     "iopub.status.busy": "2024-10-28T17:10:45.930493Z",
     "iopub.status.idle": "2024-10-28T17:10:45.936333Z",
     "shell.execute_reply": "2024-10-28T17:10:45.935163Z"
    },
    "papermill": {
     "duration": 0.017281,
     "end_time": "2024-10-28T17:10:45.939747",
     "exception": false,
     "start_time": "2024-10-28T17:10:45.922466",
     "status": "completed"
    },
    "tags": []
   },
   "outputs": [
    {
     "name": "stdout",
     "output_type": "stream",
     "text": [
      "['pink primrose', 'hard-leaved pocket orchid', 'canterbury bells', 'sweet pea', 'english marigold', 'tiger lily', 'moon orchid', 'bird of paradise', 'monkshood', 'globe thistle']\n"
     ]
    }
   ],
   "source": [
    " print(flowers.split(\",\"))"
   ]
  },
  {
   "cell_type": "markdown",
   "id": "ed9f15d3",
   "metadata": {
    "papermill": {
     "duration": 0.00657,
     "end_time": "2024-10-28T17:10:45.953218",
     "exception": false,
     "start_time": "2024-10-28T17:10:45.946648",
     "status": "completed"
    },
    "tags": []
   },
   "source": [
    "Now it is your turn to try this out!  Create two Python lists:\n",
    "- `letters` should be a Python list where each entry is an uppercase letter of the English alphabet.  For instance, the first two entries should be `\"A\"` and `\"B\"`, and the final two entries should be `\"Y\"` and `\"Z\"`.  Use the string `alphabet` to create this list.\n",
    "- `address` should be a Python list where each row in `address` is a different item in the list.  Currently, each row in `address` is separated by a comma. "
   ]
  },
  {
   "cell_type": "code",
   "execution_count": 8,
   "id": "972e38c4",
   "metadata": {
    "execution": {
     "iopub.execute_input": "2024-10-28T17:10:45.969097Z",
     "iopub.status.busy": "2024-10-28T17:10:45.968068Z",
     "iopub.status.idle": "2024-10-28T17:10:45.978056Z",
     "shell.execute_reply": "2024-10-28T17:10:45.976761Z"
    },
    "papermill": {
     "duration": 0.02073,
     "end_time": "2024-10-28T17:10:45.980593",
     "exception": false,
     "start_time": "2024-10-28T17:10:45.959863",
     "status": "completed"
    },
    "tags": []
   },
   "outputs": [
    {
     "data": {
      "application/javascript": [
       "parent.postMessage({\"jupyterEvent\": \"custom.exercise_interaction\", \"data\": {\"outcomeType\": 4, \"interactionType\": 1, \"questionType\": 1, \"questionId\": \"3_SplitString\", \"learnToolsVersion\": \"0.3.4\", \"valueTowardsCompletion\": 0.0, \"failureMessage\": \"\", \"exceptionClass\": \"\", \"trace\": \"\"}}, \"*\")"
      ],
      "text/plain": [
       "<IPython.core.display.Javascript object>"
      ]
     },
     "metadata": {},
     "output_type": "display_data"
    },
    {
     "data": {
      "text/markdown": [
       "<span style=\"color:#ccaa33\">Check:</span> When you've updated the starter code, `check()` will tell you whether your code is correct. You need to update the code that creates variables `letters`, `formatted_address`"
      ],
      "text/plain": [
       "Check: When you've updated the starter code, `check()` will tell you whether your code is correct. You need to update the code that creates variables `letters`, `formatted_address`"
      ]
     },
     "metadata": {},
     "output_type": "display_data"
    }
   ],
   "source": [
    "# DO not change: Define two Python strings\n",
    "alphabet = \"A.B.C.D.E.F.G.H.I.J.K.L.M.N.O.P.Q.R.S.T.U.V.W.X.Y.Z\"\n",
    "address = \"Mr. H. Potter,The cupboard under the Stairs,4 Privet Drive,Little Whinging,Surrey\"\n",
    "\n",
    "# TODO: Convert strings into Python lists\n",
    "letters = ____\n",
    "formatted_address = ____\n",
    "\n",
    "# Do not change: Check your answer\n",
    "q3.check()"
   ]
  },
  {
   "cell_type": "code",
   "execution_count": 9,
   "id": "f4f176f0",
   "metadata": {
    "execution": {
     "iopub.execute_input": "2024-10-28T17:10:45.997455Z",
     "iopub.status.busy": "2024-10-28T17:10:45.997062Z",
     "iopub.status.idle": "2024-10-28T17:10:46.002240Z",
     "shell.execute_reply": "2024-10-28T17:10:46.001139Z"
    },
    "papermill": {
     "duration": 0.016806,
     "end_time": "2024-10-28T17:10:46.004536",
     "exception": false,
     "start_time": "2024-10-28T17:10:45.987730",
     "status": "completed"
    },
    "tags": []
   },
   "outputs": [],
   "source": [
    "# Uncomment to see a hint\n",
    "#q3.hint()\n",
    "\n",
    "# Uncomment to see the solution\n",
    "#q3.solution()"
   ]
  },
  {
   "cell_type": "markdown",
   "id": "51f2001d",
   "metadata": {
    "papermill": {
     "duration": 0.006725,
     "end_time": "2024-10-28T17:10:46.018480",
     "exception": false,
     "start_time": "2024-10-28T17:10:46.011755",
     "status": "completed"
    },
    "tags": []
   },
   "source": [
    "# Question 4\n",
    "\n",
    "In the Python course, you'll learn all about **list comprehensions**, which allow you to create a list based on the values in another list.  In this question, you'll get a brief preview of how they work.\n",
    "\n",
    "Say we're working with the list below."
   ]
  },
  {
   "cell_type": "code",
   "execution_count": 10,
   "id": "95c1a424",
   "metadata": {
    "execution": {
     "iopub.execute_input": "2024-10-28T17:10:46.034348Z",
     "iopub.status.busy": "2024-10-28T17:10:46.033891Z",
     "iopub.status.idle": "2024-10-28T17:10:46.039173Z",
     "shell.execute_reply": "2024-10-28T17:10:46.038151Z"
    },
    "papermill": {
     "duration": 0.016061,
     "end_time": "2024-10-28T17:10:46.041524",
     "exception": false,
     "start_time": "2024-10-28T17:10:46.025463",
     "status": "completed"
    },
    "tags": []
   },
   "outputs": [],
   "source": [
    "test_ratings = [1, 2, 3, 4, 5]"
   ]
  },
  {
   "cell_type": "markdown",
   "id": "345306fe",
   "metadata": {
    "papermill": {
     "duration": 0.00718,
     "end_time": "2024-10-28T17:10:46.055932",
     "exception": false,
     "start_time": "2024-10-28T17:10:46.048752",
     "status": "completed"
    },
    "tags": []
   },
   "source": [
    "Then we can use this list (`test_ratings`) to create a new list (`test_liked`) where each item has been turned into a boolean, depending on whether or not the item is greater than or equal to four."
   ]
  },
  {
   "cell_type": "code",
   "execution_count": 11,
   "id": "71cd29ee",
   "metadata": {
    "execution": {
     "iopub.execute_input": "2024-10-28T17:10:46.072898Z",
     "iopub.status.busy": "2024-10-28T17:10:46.071861Z",
     "iopub.status.idle": "2024-10-28T17:10:46.078371Z",
     "shell.execute_reply": "2024-10-28T17:10:46.077272Z"
    },
    "papermill": {
     "duration": 0.018147,
     "end_time": "2024-10-28T17:10:46.081245",
     "exception": false,
     "start_time": "2024-10-28T17:10:46.063098",
     "status": "completed"
    },
    "tags": []
   },
   "outputs": [
    {
     "name": "stdout",
     "output_type": "stream",
     "text": [
      "[False, False, False, True, True]\n"
     ]
    }
   ],
   "source": [
    "test_liked = [i>=4 for i in test_ratings]\n",
    "print(test_liked)"
   ]
  },
  {
   "cell_type": "markdown",
   "id": "5605cc1c",
   "metadata": {
    "papermill": {
     "duration": 0.007636,
     "end_time": "2024-10-28T17:10:46.096121",
     "exception": false,
     "start_time": "2024-10-28T17:10:46.088485",
     "status": "completed"
    },
    "tags": []
   },
   "source": [
    "In this question, you'll use this list comprehension to define a function `percentage_liked()` that takes one argument as input:\n",
    "- `ratings`: list of ratings that people gave to a movie, where each rating is a number between 1-5, inclusive\n",
    "\n",
    "We say someone liked the movie, if they gave a rating of either 4 or 5.  Your function should return the percentage of people who liked the movie.\n",
    "\n",
    "For instance, if we supply a value of `[1, 2, 3, 4, 5, 4, 5, 1]`, then 50% (4/8) of the people liked the movie, and the function should return `0.5`.\n",
    "\n",
    "Part of the function has already been completed for you.  You need only use `list_liked` to calculate `percentage_liked`."
   ]
  },
  {
   "cell_type": "code",
   "execution_count": 12,
   "id": "91efb440",
   "metadata": {
    "execution": {
     "iopub.execute_input": "2024-10-28T17:10:46.113200Z",
     "iopub.status.busy": "2024-10-28T17:10:46.112360Z",
     "iopub.status.idle": "2024-10-28T17:10:46.124047Z",
     "shell.execute_reply": "2024-10-28T17:10:46.123011Z"
    },
    "papermill": {
     "duration": 0.023073,
     "end_time": "2024-10-28T17:10:46.126347",
     "exception": false,
     "start_time": "2024-10-28T17:10:46.103274",
     "status": "completed"
    },
    "tags": []
   },
   "outputs": [
    {
     "data": {
      "application/javascript": [
       "parent.postMessage({\"jupyterEvent\": \"custom.exercise_interaction\", \"data\": {\"outcomeType\": 2, \"failureMessage\": \"Expected return value of `0.5` given `ratings=[1, 2, 3, 4, 5, 4, 5, 1]`, but got `<learntools.core.constants.PlaceholderValue object at 0x7c52f8958a60>` instead.\", \"interactionType\": 1, \"questionType\": 2, \"questionId\": \"4_PercentageLiked\", \"learnToolsVersion\": \"0.3.4\", \"valueTowardsCompletion\": 0.0, \"exceptionClass\": \"\", \"trace\": \"\"}}, \"*\")"
      ],
      "text/plain": [
       "<IPython.core.display.Javascript object>"
      ]
     },
     "metadata": {},
     "output_type": "display_data"
    },
    {
     "data": {
      "text/markdown": [
       "<span style=\"color:#cc3333\">Incorrect:</span> Expected return value of `0.5` given `ratings=[1, 2, 3, 4, 5, 4, 5, 1]`, but got `<learntools.core.constants.PlaceholderValue object at 0x7c52f8958a60>` instead."
      ],
      "text/plain": [
       "Incorrect: Expected return value of `0.5` given `ratings=[1, 2, 3, 4, 5, 4, 5, 1]`, but got `<learntools.core.constants.PlaceholderValue object at 0x7c52f8958a60>` instead."
      ]
     },
     "metadata": {},
     "output_type": "display_data"
    }
   ],
   "source": [
    "\n",
    "def percentage_liked(ratings):\n",
    "    list_liked = [i>=4 for i in ratings]\n",
    "    # TODO: Complete the function\n",
    "    percentage_liked = ____\n",
    "    return percentage_liked\n",
    "\n",
    "# Do not change: should return 0.5\n",
    "percentage_liked([1, 2, 3, 4, 5, 4, 5, 1])\n",
    "\n",
    "# Do not change: Check your answer\n",
    "q4.check()"
   ]
  },
  {
   "cell_type": "code",
   "execution_count": 13,
   "id": "d42eb8be",
   "metadata": {
    "execution": {
     "iopub.execute_input": "2024-10-28T17:10:46.143885Z",
     "iopub.status.busy": "2024-10-28T17:10:46.143476Z",
     "iopub.status.idle": "2024-10-28T17:10:46.148464Z",
     "shell.execute_reply": "2024-10-28T17:10:46.147294Z"
    },
    "papermill": {
     "duration": 0.016569,
     "end_time": "2024-10-28T17:10:46.150871",
     "exception": false,
     "start_time": "2024-10-28T17:10:46.134302",
     "status": "completed"
    },
    "tags": []
   },
   "outputs": [],
   "source": [
    "# Uncomment to see a hint\n",
    "#q4.hint()\n",
    "\n",
    "# Uncomment to see the solution\n",
    "#q4.solution()"
   ]
  },
  {
   "cell_type": "markdown",
   "id": "cd5fd812",
   "metadata": {
    "papermill": {
     "duration": 0.008598,
     "end_time": "2024-10-28T17:10:46.167062",
     "exception": false,
     "start_time": "2024-10-28T17:10:46.158464",
     "status": "completed"
    },
    "tags": []
   },
   "source": [
    "# 🌶️ Question 5\n",
    " \n",
    "Say you're doing analytics for a website.  You need to write a function that returns the percentage growth in the total number of users relative to a specified number of years ago.\n",
    "\n",
    "Your function `percentage_growth()` should take two arguments as input:\n",
    "- `num_users` = Python list with the total number of users each year.  So `num_users[0]` is the total number of users in the first year, `num_users[1]` is the total number of users in the second year, and so on.  The final entry in the list gives the total number of users in the most recently completed year.\n",
    "- `yrs_ago` = number of years to go back in time when calculating the growth percentage\n",
    "\n",
    "For instance, say `num_users = [920344, 1043553, 1204334, 1458996, 1503323, 1593432, 1623463, 1843064, 1930992, 2001078]`.\n",
    "- if `yrs_ago = 1`, we want the function to return a value of about `0.036`. This corresponds to a percentage growth of approximately 3.6%, calculated as (2001078 - 1930992)/1930992.\n",
    "- if `years_ago = 7`, we would want to return approximately `0.66`.  This corresponds to a percentage growth of approximately 66%, calculated as (2001078 - 1204334)/1204334.\n",
    "\n",
    "Your coworker sent you a draft of a function, but it doesn't seem to be doing the correct calculation.  Can you figure out what has gone wrong and make the needed changes?"
   ]
  },
  {
   "cell_type": "code",
   "execution_count": 14,
   "id": "20fb3a5f",
   "metadata": {
    "execution": {
     "iopub.execute_input": "2024-10-28T17:10:46.183772Z",
     "iopub.status.busy": "2024-10-28T17:10:46.183357Z",
     "iopub.status.idle": "2024-10-28T17:10:46.196109Z",
     "shell.execute_reply": "2024-10-28T17:10:46.195036Z"
    },
    "papermill": {
     "duration": 0.023683,
     "end_time": "2024-10-28T17:10:46.198332",
     "exception": false,
     "start_time": "2024-10-28T17:10:46.174649",
     "status": "completed"
    },
    "tags": []
   },
   "outputs": [
    {
     "name": "stdout",
     "output_type": "stream",
     "text": [
      "0.0\n",
      "0.2807272117129434\n"
     ]
    },
    {
     "data": {
      "application/javascript": [
       "parent.postMessage({\"jupyterEvent\": \"custom.exercise_interaction\", \"data\": {\"outcomeType\": 2, \"failureMessage\": \"Expected return value of `0.03629533421163837` given `num_users=[920344, 1043553, 1204334, 1458996, 1503323, 1593432, 1623463, 1843064, 1930992, 2001078]`, `yrs_ago=1`, but got `0.0` instead.\", \"interactionType\": 1, \"questionType\": 2, \"questionId\": \"5_WebsiteAnalytics\", \"learnToolsVersion\": \"0.3.4\", \"valueTowardsCompletion\": 0.0, \"exceptionClass\": \"\", \"trace\": \"\"}}, \"*\")"
      ],
      "text/plain": [
       "<IPython.core.display.Javascript object>"
      ]
     },
     "metadata": {},
     "output_type": "display_data"
    },
    {
     "data": {
      "text/markdown": [
       "<span style=\"color:#cc3333\">Incorrect:</span> Expected return value of `0.03629533421163837` given `num_users=[920344, 1043553, 1204334, 1458996, 1503323, 1593432, 1623463, 1843064, 1930992, 2001078]`, `yrs_ago=1`, but got `0.0` instead."
      ],
      "text/plain": [
       "Incorrect: Expected return value of `0.03629533421163837` given `num_users=[920344, 1043553, 1204334, 1458996, 1503323, 1593432, 1623463, 1843064, 1930992, 2001078]`, `yrs_ago=1`, but got `0.0` instead."
      ]
     },
     "metadata": {},
     "output_type": "display_data"
    }
   ],
   "source": [
    "# TODO: Edit the function\n",
    "def percentage_growth(num_users, yrs_ago):\n",
    "    growth = (num_users[len(num_users)-1] - num_users[len(num_users)-yrs_ago])/num_users[len(num_users)-2]\n",
    "    return growth\n",
    "\n",
    "# Do not change: Variable for calculating some test examples\n",
    "num_users_test = [920344, 1043553, 1204334, 1458996, 1503323, 1593432, 1623463, 1843064, 1930992, 2001078]\n",
    "\n",
    "# Do not change: Should return .036\n",
    "print(percentage_growth(num_users_test, 1))\n",
    "\n",
    "# Do not change: Should return 0.66\n",
    "print(percentage_growth(num_users_test, 7))\n",
    "\n",
    "# Do not change: Check your answer\n",
    "q5.check()"
   ]
  },
  {
   "cell_type": "code",
   "execution_count": 15,
   "id": "4a109b96",
   "metadata": {
    "execution": {
     "iopub.execute_input": "2024-10-28T17:10:46.216188Z",
     "iopub.status.busy": "2024-10-28T17:10:46.215254Z",
     "iopub.status.idle": "2024-10-28T17:10:46.220557Z",
     "shell.execute_reply": "2024-10-28T17:10:46.219320Z"
    },
    "papermill": {
     "duration": 0.017152,
     "end_time": "2024-10-28T17:10:46.223285",
     "exception": false,
     "start_time": "2024-10-28T17:10:46.206133",
     "status": "completed"
    },
    "tags": []
   },
   "outputs": [],
   "source": [
    "# Uncomment to see a hint\n",
    "#q5.hint()\n",
    "\n",
    "# Uncomment to see the solution\n",
    "#q5.solution()"
   ]
  },
  {
   "cell_type": "markdown",
   "id": "a983c65e",
   "metadata": {
    "papermill": {
     "duration": 0.008037,
     "end_time": "2024-10-28T17:10:46.239283",
     "exception": false,
     "start_time": "2024-10-28T17:10:46.231246",
     "status": "completed"
    },
    "tags": []
   },
   "source": [
    "# Congratulations!\n",
    "\n",
    "Congratulations for finishing the Intro to Programming course!  You should be proud of your very first steps with learning programming.  As next steps, we recommend taking:\n",
    "- the **[Python course](http://www.kaggle.com/learn/python)**, and \n",
    "- the **[Intro to Machine Learning course](https://www.kaggle.com/learn/intro-to-machine-learning)**."
   ]
  },
  {
   "cell_type": "markdown",
   "id": "f0fca36f",
   "metadata": {
    "papermill": {
     "duration": 0.00744,
     "end_time": "2024-10-28T17:10:46.254571",
     "exception": false,
     "start_time": "2024-10-28T17:10:46.247131",
     "status": "completed"
    },
    "tags": []
   },
   "source": [
    "---\n",
    "\n",
    "\n",
    "\n",
    "\n",
    "*Have questions or comments? Visit the [course discussion forum](https://www.kaggle.com/learn/intro-to-programming/discussion) to chat with other learners.*"
   ]
  }
 ],
 "metadata": {
  "kaggle": {
   "accelerator": "none",
   "dataSources": [],
   "isGpuEnabled": false,
   "isInternetEnabled": false,
   "language": "python",
   "sourceType": "notebook"
  },
  "kernelspec": {
   "display_name": "Python 3",
   "language": "python",
   "name": "python3"
  },
  "language_info": {
   "codemirror_mode": {
    "name": "ipython",
    "version": 3
   },
   "file_extension": ".py",
   "mimetype": "text/x-python",
   "name": "python",
   "nbconvert_exporter": "python",
   "pygments_lexer": "ipython3",
   "version": "3.10.14"
  },
  "papermill": {
   "default_parameters": {},
   "duration": 4.830054,
   "end_time": "2024-10-28T17:10:46.783237",
   "environment_variables": {},
   "exception": null,
   "input_path": "__notebook__.ipynb",
   "output_path": "__notebook__.ipynb",
   "parameters": {},
   "start_time": "2024-10-28T17:10:41.953183",
   "version": "2.6.0"
  }
 },
 "nbformat": 4,
 "nbformat_minor": 5
}
