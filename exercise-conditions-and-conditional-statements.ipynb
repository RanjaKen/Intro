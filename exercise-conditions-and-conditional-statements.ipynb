{
 "cells": [
  {
   "cell_type": "markdown",
   "id": "998d56c9",
   "metadata": {
    "papermill": {
     "duration": 0.009952,
     "end_time": "2024-10-27T05:15:51.364268",
     "exception": false,
     "start_time": "2024-10-27T05:15:51.354316",
     "status": "completed"
    },
    "tags": []
   },
   "source": [
    "**This notebook is an exercise in the [Intro to Programming](https://www.kaggle.com/learn/intro-to-programming) course.  You can reference the tutorial at [this link](https://www.kaggle.com/alexisbcook/conditions-and-conditional-statements).**\n",
    "\n",
    "---\n"
   ]
  },
  {
   "cell_type": "markdown",
   "id": "833d1596",
   "metadata": {
    "papermill": {
     "duration": 0.008717,
     "end_time": "2024-10-27T05:15:51.382269",
     "exception": false,
     "start_time": "2024-10-27T05:15:51.373552",
     "status": "completed"
    },
    "tags": []
   },
   "source": [
    "In the tutorial, you learned about conditions and conditional statements. In this exercise, you will use what you learned to answer several questions.\n",
    "\n",
    "# Set up the notebook\n",
    "\n",
    "Run the next code cell without changes to set up the notebook."
   ]
  },
  {
   "cell_type": "code",
   "execution_count": 1,
   "id": "325bedcf",
   "metadata": {
    "execution": {
     "iopub.execute_input": "2024-10-27T05:15:51.402541Z",
     "iopub.status.busy": "2024-10-27T05:15:51.401939Z",
     "iopub.status.idle": "2024-10-27T05:15:52.388258Z",
     "shell.execute_reply": "2024-10-27T05:15:52.386737Z"
    },
    "papermill": {
     "duration": 0.999513,
     "end_time": "2024-10-27T05:15:52.390808",
     "exception": false,
     "start_time": "2024-10-27T05:15:51.391295",
     "status": "completed"
    },
    "tags": []
   },
   "outputs": [
    {
     "name": "stdout",
     "output_type": "stream",
     "text": [
      "Setup complete.\n"
     ]
    }
   ],
   "source": [
    "from learntools.core import binder\n",
    "binder.bind(globals())\n",
    "from learntools.intro_to_programming.ex4 import *\n",
    "print('Setup complete.')"
   ]
  },
  {
   "cell_type": "markdown",
   "id": "39d06773",
   "metadata": {
    "papermill": {
     "duration": 0.010258,
     "end_time": "2024-10-27T05:15:52.410736",
     "exception": false,
     "start_time": "2024-10-27T05:15:52.400478",
     "status": "completed"
    },
    "tags": []
   },
   "source": [
    "# Question 1\n",
    "\n",
    "You work at a college admissions office.  When inspecting a dataset of college applicants, you notice that some students have represented their grades with letters (`\"A\"`, `\"B\"`, `\"C\"`, `\"D\"`, `\"F\"`), whereas others have represented their grades with a number between 0 and 100.\n",
    "\n",
    "You realize that for consistency, all of the grades should be formatted in the same way, and you decide to format them all as letters.  For the conversion, you decide to assign:\n",
    "- `\"A\"` - any grade 90-100, inclusive\n",
    "- `\"B\"` - any grade 80-89, inclusive\n",
    "- `\"C\"` - any grade 70-79, inclusive\n",
    "- `\"D\"` - any grade 60-69, inclusive\n",
    "- `\"F\"` - any grade <60\n",
    "\n",
    "Write a function `get_grade()` that takes as input:\n",
    "- `score` - an integer 0-100 corresponding to a numerical grade\n",
    "\n",
    "It should return a Python string with the letter grade that it corresponds to.  For instance,\n",
    "- A score of 85 corresponds to a B grade.  In other words, `get_grade(85)` should return `\"B\"`.\n",
    "- A score of 49 corresponds to an F grade.  In other words, `get_grade(49)` should return `\"F\"`.\n",
    "\n",
    "Make sure that when supplying the grade that is returned by the function, it is enclosed in quotes.  (For instance, if you want to return `\"A\"`, you should write `return \"A\"` and not `return A`.)"
   ]
  },
  {
   "cell_type": "code",
   "execution_count": 2,
   "id": "1e1605f6",
   "metadata": {
    "execution": {
     "iopub.execute_input": "2024-10-27T05:15:52.431099Z",
     "iopub.status.busy": "2024-10-27T05:15:52.430476Z",
     "iopub.status.idle": "2024-10-27T05:15:52.444590Z",
     "shell.execute_reply": "2024-10-27T05:15:52.443398Z"
    },
    "papermill": {
     "duration": 0.027081,
     "end_time": "2024-10-27T05:15:52.447030",
     "exception": false,
     "start_time": "2024-10-27T05:15:52.419949",
     "status": "completed"
    },
    "tags": []
   },
   "outputs": [
    {
     "data": {
      "application/javascript": [
       "parent.postMessage({\"jupyterEvent\": \"custom.exercise_interaction\", \"data\": {\"outcomeType\": 1, \"valueTowardsCompletion\": 0.2, \"interactionType\": 1, \"questionType\": 2, \"questionId\": \"1_GetGrade\", \"learnToolsVersion\": \"0.3.4\", \"failureMessage\": \"\", \"exceptionClass\": \"\", \"trace\": \"\"}}, \"*\")"
      ],
      "text/plain": [
       "<IPython.core.display.Javascript object>"
      ]
     },
     "metadata": {},
     "output_type": "display_data"
    },
    {
     "data": {
      "text/markdown": [
       "<span style=\"color:#33cc33\">Correct</span>"
      ],
      "text/plain": [
       "Correct"
      ]
     },
     "metadata": {},
     "output_type": "display_data"
    }
   ],
   "source": [
    "# TODO: Edit the function to return the correct grade for different scores\n",
    "def get_grade(score):\n",
    "    if (score >= 90 and score <= 100) :\n",
    "        grade = \"A\"\n",
    "    elif (score >= 80 and score <= 89) :\n",
    "        grade = \"B\"\n",
    "    elif (score >= 70 and score <= 79) :\n",
    "        grade = \"C\"\n",
    "    elif (score >= 60 and score <= 69) :\n",
    "        grade = \"D\"\n",
    "    elif (score < 60 ) :\n",
    "        grade = \"F\"\n",
    "    return grade\n",
    "    \n",
    "# Check your answer\n",
    "q1.check()"
   ]
  },
  {
   "cell_type": "code",
   "execution_count": 3,
   "id": "4eb36b33",
   "metadata": {
    "execution": {
     "iopub.execute_input": "2024-10-27T05:15:52.469651Z",
     "iopub.status.busy": "2024-10-27T05:15:52.468682Z",
     "iopub.status.idle": "2024-10-27T05:15:52.473815Z",
     "shell.execute_reply": "2024-10-27T05:15:52.472672Z"
    },
    "papermill": {
     "duration": 0.018691,
     "end_time": "2024-10-27T05:15:52.476466",
     "exception": false,
     "start_time": "2024-10-27T05:15:52.457775",
     "status": "completed"
    },
    "tags": []
   },
   "outputs": [],
   "source": [
    "# Uncomment to see a hint\n",
    "#q1.hint()\n",
    "\n",
    "# Uncomment to see the solution\n",
    "#q1.solution()"
   ]
  },
  {
   "cell_type": "markdown",
   "id": "f034b458",
   "metadata": {
    "papermill": {
     "duration": 0.009114,
     "end_time": "2024-10-27T05:15:52.495241",
     "exception": false,
     "start_time": "2024-10-27T05:15:52.486127",
     "status": "completed"
    },
    "tags": []
   },
   "source": [
    "# Question 2\n",
    "\n",
    "In the exercise for the previous lesson, you wrote a function `cost_of_project()` that estimated the price of rings for an online shop that sells rings with custom engravings.  This function did not use conditional statements.  In this exercise, you will rewrite the function to use conditional statements.  Recall that the online shop has the following price structure:\n",
    "- Gold plated rings have a base cost of \\\\$50, and you charge \\\\$7 per engraved unit.  \n",
    "- Solid gold rings have a base cost of \\\\$100, and you charge \\\\$10 per engraved unit.\n",
    "- Spaces and punctuation are counted as engraved units.\n",
    "\n",
    "Your function `cost_of_project()` takes two arguments:\n",
    "- `engraving` - a Python string with the text of the engraving\n",
    "- `solid_gold` - a Boolean that indicates whether the ring is solid gold\n",
    "\n",
    "It should return the cost of the project.  \n",
    "\n",
    "The function has been partially completed for you, and you need to fill in the blanks to complete the function."
   ]
  },
  {
   "cell_type": "code",
   "execution_count": 4,
   "id": "38be2fe3",
   "metadata": {
    "execution": {
     "iopub.execute_input": "2024-10-27T05:15:52.516419Z",
     "iopub.status.busy": "2024-10-27T05:15:52.515625Z",
     "iopub.status.idle": "2024-10-27T05:15:52.526663Z",
     "shell.execute_reply": "2024-10-27T05:15:52.525464Z"
    },
    "papermill": {
     "duration": 0.024581,
     "end_time": "2024-10-27T05:15:52.529417",
     "exception": false,
     "start_time": "2024-10-27T05:15:52.504836",
     "status": "completed"
    },
    "tags": []
   },
   "outputs": [
    {
     "data": {
      "application/javascript": [
       "parent.postMessage({\"jupyterEvent\": \"custom.exercise_interaction\", \"data\": {\"outcomeType\": 1, \"valueTowardsCompletion\": 0.2, \"interactionType\": 1, \"questionType\": 2, \"questionId\": \"2_CostProjectPartDeux\", \"learnToolsVersion\": \"0.3.4\", \"failureMessage\": \"\", \"exceptionClass\": \"\", \"trace\": \"\"}}, \"*\")"
      ],
      "text/plain": [
       "<IPython.core.display.Javascript object>"
      ]
     },
     "metadata": {},
     "output_type": "display_data"
    },
    {
     "data": {
      "text/markdown": [
       "<span style=\"color:#33cc33\">Correct</span>"
      ],
      "text/plain": [
       "Correct"
      ]
     },
     "metadata": {},
     "output_type": "display_data"
    }
   ],
   "source": [
    "def cost_of_project(engraving, solid_gold):\n",
    "    if solid_gold == True:\n",
    "        cost = 100 + 10 * len(engraving)\n",
    "    else:\n",
    "        cost = 50 + 7 * len(engraving)\n",
    "    return cost\n",
    "\n",
    "# Check your answer\n",
    "q2.check()"
   ]
  },
  {
   "cell_type": "code",
   "execution_count": 5,
   "id": "278ee87d",
   "metadata": {
    "execution": {
     "iopub.execute_input": "2024-10-27T05:15:52.552085Z",
     "iopub.status.busy": "2024-10-27T05:15:52.551012Z",
     "iopub.status.idle": "2024-10-27T05:15:52.560654Z",
     "shell.execute_reply": "2024-10-27T05:15:52.559573Z"
    },
    "papermill": {
     "duration": 0.024132,
     "end_time": "2024-10-27T05:15:52.563527",
     "exception": false,
     "start_time": "2024-10-27T05:15:52.539395",
     "status": "completed"
    },
    "tags": []
   },
   "outputs": [
    {
     "data": {
      "application/javascript": [
       "parent.postMessage({\"jupyterEvent\": \"custom.exercise_interaction\", \"data\": {\"interactionType\": 2, \"questionType\": 2, \"questionId\": \"2_CostProjectPartDeux\", \"learnToolsVersion\": \"0.3.4\", \"valueTowardsCompletion\": 0.0, \"failureMessage\": \"\", \"exceptionClass\": \"\", \"trace\": \"\", \"outcomeType\": 4}}, \"*\")"
      ],
      "text/plain": [
       "<IPython.core.display.Javascript object>"
      ]
     },
     "metadata": {},
     "output_type": "display_data"
    },
    {
     "data": {
      "text/markdown": [
       "<span style=\"color:#3366cc\">Hint:</span> If `solid_gold = True`, then the cost of the ring is \\$100 (base cost), plus \\$10 times the length of the engraving.  You can get the length of the engraving with `len(engraving)`.  Otherwise, if `solid_gold = False`, then the cost of the ring is \\$50 (base cost), plus \\$7 times the length of the engraving."
      ],
      "text/plain": [
       "Hint: If `solid_gold = True`, then the cost of the ring is \\$100 (base cost), plus \\$10 times the length of the engraving.  You can get the length of the engraving with `len(engraving)`.  Otherwise, if `solid_gold = False`, then the cost of the ring is \\$50 (base cost), plus \\$7 times the length of the engraving."
      ]
     },
     "metadata": {},
     "output_type": "display_data"
    }
   ],
   "source": [
    "# Uncomment to see a hint\n",
    "q2.hint()\n",
    "\n",
    "# Uncomment to see the solution\n",
    "#q2.solution()"
   ]
  },
  {
   "cell_type": "markdown",
   "id": "bb0f46b5",
   "metadata": {
    "papermill": {
     "duration": 0.010173,
     "end_time": "2024-10-27T05:15:52.583948",
     "exception": false,
     "start_time": "2024-10-27T05:15:52.573775",
     "status": "completed"
    },
    "tags": []
   },
   "source": [
    "# Question 3\n",
    "\n",
    "You are a programmer at a water agency.  Recently, you have been tasked to write a function `get_water_bill()` that takes as input:\n",
    "- `num_gallons` = the number of gallons of water that a customer used that month.  (This will always be an integer with no decimal part.)\n",
    "\n",
    "It should output the water bill.  \n",
    "\n",
    "The water agency uses this pricing structure:\n",
    "<table style=\"width: 100%;\">\n",
    "<tbody>\n",
    "<tr><th><b>Tier</b></th><th><b>Amount in gallons</b></th><th><b>Price per 1000 gallons</b></th></tr>\n",
    "<tr>\n",
    "<td>Tier 1</td>\n",
    "<td>0 - 8,000</td>\n",
    "<td>\\$5</td>\n",
    "</tr>\n",
    "<tr>\n",
    "<td>Tier 2</td>\n",
    "<td>8,001 - 22,000</td>\n",
    "<td>\\$6</td>\n",
    "</tr>\n",
    "<tr>\n",
    "<td>Tier 3</td>\n",
    "<td>22,001 - 30,000</td>\n",
    "<td>\\$7</td>\n",
    "</tr>\n",
    "<tr>\n",
    "<td>Tier 4</td>\n",
    "<td>30,001+</td>\n",
    "<td>\\$10</td>\n",
    "</tr>\n",
    "</tbody>\n",
    "</table>\n",
    "\n",
    "For example: \n",
    "- Someone who uses 10,000 gallons of water in a month is placed in Tier 2, and needs to pay a water bill of \\\\$6 * 10 = \\\\$60.  In other words, `get_water_bill(10000)` should return `60.0`.\n",
    "- Someone who uses 25,000 gallons of water in a month is placed in Tier 3, and needs to pay a water bill of \\\\$7 * 25 = \\\\$175.  In other words, `get_water_bill(25000)` should return `175.0`.\n",
    "\n",
    "**Do not round your answer.**  So, your answer might return fractions of a penny."
   ]
  },
  {
   "cell_type": "code",
   "execution_count": 6,
   "id": "0ef3b601",
   "metadata": {
    "execution": {
     "iopub.execute_input": "2024-10-27T05:15:52.606327Z",
     "iopub.status.busy": "2024-10-27T05:15:52.605882Z",
     "iopub.status.idle": "2024-10-27T05:15:52.617496Z",
     "shell.execute_reply": "2024-10-27T05:15:52.616394Z"
    },
    "papermill": {
     "duration": 0.025792,
     "end_time": "2024-10-27T05:15:52.620095",
     "exception": false,
     "start_time": "2024-10-27T05:15:52.594303",
     "status": "completed"
    },
    "tags": []
   },
   "outputs": [
    {
     "data": {
      "application/javascript": [
       "parent.postMessage({\"jupyterEvent\": \"custom.exercise_interaction\", \"data\": {\"outcomeType\": 1, \"valueTowardsCompletion\": 0.2, \"interactionType\": 1, \"questionType\": 2, \"questionId\": \"3_GetWaterBill\", \"learnToolsVersion\": \"0.3.4\", \"failureMessage\": \"\", \"exceptionClass\": \"\", \"trace\": \"\"}}, \"*\")"
      ],
      "text/plain": [
       "<IPython.core.display.Javascript object>"
      ]
     },
     "metadata": {},
     "output_type": "display_data"
    },
    {
     "data": {
      "text/markdown": [
       "<span style=\"color:#33cc33\">Correct</span>"
      ],
      "text/plain": [
       "Correct"
      ]
     },
     "metadata": {},
     "output_type": "display_data"
    }
   ],
   "source": [
    "# TODO: Edit the function to return the correct bill for different\n",
    "# values of num_gallons\n",
    "def get_water_bill(num_gallons):\n",
    "    if (num_gallons > 0 and num_gallons <= 8000):\n",
    "        bill = 5 * num_gallons / 1000\n",
    "    elif (num_gallons<=22000):\n",
    "        bill = 6 * num_gallons / 1000\n",
    "    elif (num_gallons <= 30000):\n",
    "        bill = 7 * num_gallons / 1000\n",
    "    else: \n",
    "        bill = 10 * num_gallons / 1000\n",
    "    return bill\n",
    "\n",
    "# Check your answer\n",
    "q3.check()"
   ]
  },
  {
   "cell_type": "code",
   "execution_count": 7,
   "id": "4df154ad",
   "metadata": {
    "execution": {
     "iopub.execute_input": "2024-10-27T05:15:52.644062Z",
     "iopub.status.busy": "2024-10-27T05:15:52.643622Z",
     "iopub.status.idle": "2024-10-27T05:15:52.648529Z",
     "shell.execute_reply": "2024-10-27T05:15:52.647380Z"
    },
    "papermill": {
     "duration": 0.02014,
     "end_time": "2024-10-27T05:15:52.650942",
     "exception": false,
     "start_time": "2024-10-27T05:15:52.630802",
     "status": "completed"
    },
    "tags": []
   },
   "outputs": [],
   "source": [
    "# Uncomment to see a hint\n",
    "#q3.hint()\n",
    "\n",
    "# Uncomment to see the solution\n",
    "#q3.solution()"
   ]
  },
  {
   "cell_type": "markdown",
   "id": "58f8a488",
   "metadata": {
    "papermill": {
     "duration": 0.011089,
     "end_time": "2024-10-27T05:15:52.672585",
     "exception": false,
     "start_time": "2024-10-27T05:15:52.661496",
     "status": "completed"
    },
    "tags": []
   },
   "source": [
    "# Question 4\n",
    "\n",
    "You work for a company that provides data services.  For \\\\$100/month, your company provides 15 gigabytes (GB) of data.  Then, any additional data is billed at \\\\$0.10/MB (or \\\\$100/GB, since 1,000 MB are in 1 GB).\n",
    "\n",
    "Use the next code cell to write a function `get_phone_bill()` that takes as input:\n",
    "- `gb` = number of GB that the customer used in a month\n",
    "\n",
    "It should return the customer's total phone bill.\n",
    "\n",
    "For instance:\n",
    "- A customer who uses 10 GB of data in one month is billed only \\\\$100, since the usage stayed under 15 GB.  In other words, `get_phone_bill(10)` should return `100`.\n",
    "- A customer who uses 15.1 GB (or 15 GB + 100 MB) of data in one month has gone over by .1 GB, so they must pay \\\\$100 (cost of plan), plus \\\\$0.10 * 100 = \\\\$10, for a total bill of \\\\$110.  In other words, `get_phone_bill(15.1)` should return `110`.\n",
    "\n",
    "Do not round your answer."
   ]
  },
  {
   "cell_type": "code",
   "execution_count": 8,
   "id": "04366531",
   "metadata": {
    "execution": {
     "iopub.execute_input": "2024-10-27T05:15:52.695549Z",
     "iopub.status.busy": "2024-10-27T05:15:52.695124Z",
     "iopub.status.idle": "2024-10-27T05:15:52.706037Z",
     "shell.execute_reply": "2024-10-27T05:15:52.704883Z"
    },
    "papermill": {
     "duration": 0.025349,
     "end_time": "2024-10-27T05:15:52.708488",
     "exception": false,
     "start_time": "2024-10-27T05:15:52.683139",
     "status": "completed"
    },
    "tags": []
   },
   "outputs": [
    {
     "data": {
      "application/javascript": [
       "parent.postMessage({\"jupyterEvent\": \"custom.exercise_interaction\", \"data\": {\"outcomeType\": 1, \"valueTowardsCompletion\": 0.2, \"interactionType\": 1, \"questionType\": 2, \"questionId\": \"4_GetPhoneBill\", \"learnToolsVersion\": \"0.3.4\", \"failureMessage\": \"\", \"exceptionClass\": \"\", \"trace\": \"\"}}, \"*\")"
      ],
      "text/plain": [
       "<IPython.core.display.Javascript object>"
      ]
     },
     "metadata": {},
     "output_type": "display_data"
    },
    {
     "data": {
      "text/markdown": [
       "<span style=\"color:#33cc33\">Correct</span>"
      ],
      "text/plain": [
       "Correct"
      ]
     },
     "metadata": {},
     "output_type": "display_data"
    }
   ],
   "source": [
    "# TODO: Edit the function to return the correct bill for different\n",
    "# values of GB\n",
    "def get_phone_bill(gb):\n",
    "    \n",
    "    if (gb <= 15):\n",
    "        bill = 100\n",
    "    else:\n",
    "        bill = 100 + (gb-15)* 100\n",
    "    return bill\n",
    "\n",
    "# Check your answer\n",
    "q4.check()"
   ]
  },
  {
   "cell_type": "code",
   "execution_count": 9,
   "id": "30d75cb0",
   "metadata": {
    "execution": {
     "iopub.execute_input": "2024-10-27T05:15:52.733006Z",
     "iopub.status.busy": "2024-10-27T05:15:52.732579Z",
     "iopub.status.idle": "2024-10-27T05:15:52.743707Z",
     "shell.execute_reply": "2024-10-27T05:15:52.742537Z"
    },
    "papermill": {
     "duration": 0.026773,
     "end_time": "2024-10-27T05:15:52.746311",
     "exception": false,
     "start_time": "2024-10-27T05:15:52.719538",
     "status": "completed"
    },
    "tags": []
   },
   "outputs": [
    {
     "data": {
      "application/javascript": [
       "parent.postMessage({\"jupyterEvent\": \"custom.exercise_interaction\", \"data\": {\"interactionType\": 2, \"questionType\": 2, \"questionId\": \"4_GetPhoneBill\", \"learnToolsVersion\": \"0.3.4\", \"valueTowardsCompletion\": 0.0, \"failureMessage\": \"\", \"exceptionClass\": \"\", \"trace\": \"\", \"outcomeType\": 4}}, \"*\")"
      ],
      "text/plain": [
       "<IPython.core.display.Javascript object>"
      ]
     },
     "metadata": {},
     "output_type": "display_data"
    },
    {
     "data": {
      "text/markdown": [
       "<span style=\"color:#3366cc\">Hint:</span> \n",
       "Your solution should look something like:\n",
       "```python\n",
       "def get_phone_bill(gb):\n",
       "    if gb <= 15:\n",
       "        bill = ____\n",
       "    else:\n",
       "        bill = 100 + ____\n",
       "    return bill\n",
       "```\n"
      ],
      "text/plain": [
       "Hint: \n",
       "Your solution should look something like:\n",
       "```python\n",
       "def get_phone_bill(gb):\n",
       "    if gb <= 15:\n",
       "        bill = ____\n",
       "    else:\n",
       "        bill = 100 + ____\n",
       "    return bill\n",
       "```"
      ]
     },
     "metadata": {},
     "output_type": "display_data"
    }
   ],
   "source": [
    "# Uncomment to see a hint\n",
    "q4.hint()\n",
    "\n",
    "# Uncomment to see the solution\n",
    "#q4.solution()"
   ]
  },
  {
   "cell_type": "markdown",
   "id": "95bd0335",
   "metadata": {
    "papermill": {
     "duration": 0.011648,
     "end_time": "2024-10-27T05:15:52.769223",
     "exception": false,
     "start_time": "2024-10-27T05:15:52.757575",
     "status": "completed"
    },
    "tags": []
   },
   "source": [
    "# 🌶️ Question 5\n",
    "\n",
    "In Mexico, foods and beverages that are high in saturated fat, trans fat, sugar, sodium, and/or calories appear with warning labels that are designed to help consumers make healthy food choices.\n",
    "\n",
    "For instance, the [box of cookies](https://world.openfoodfacts.org/product/7501000673209/florentinas-gamesa) in the image below appears with two labels (in the upper right corner):\n",
    "- EXCESO CALORÍAS (in English, EXCESS CALORIES)\n",
    "- EXCESO AZÚCARES (in English, EXCESS SUGAR)\n",
    "\n",
    "<center><img src=\"https://storage.googleapis.com/kaggle-media/learn/images/VXYKHnM.png\" alt=\"drawing\" width=\"500\"/></center>\n",
    "\n",
    "In this question, you'll work with a function `get_labels()` that takes the nutritional details about a food item and prints the needed warning labels.  This function takes several inputs:\n",
    "- `food_type` = one of `\"solid\"` or `\"liquid\"`\n",
    "- `serving_size` = size of one serving (if solid, in grams; if liquid, in milliliters)\n",
    "- `calories_per_serving` = calories in one serving\n",
    "- `saturated_fat_g` = grams of saturated fat in one serving\n",
    "- `trans_fat_g` = grams of trans fat in one serving\n",
    "- `sodium_mg` = mg of sodium in one serving\n",
    "- `sugars_g` = grams of sugar in one serving\n",
    "\n",
    "Note that some of the code here should feel unfamiliar to you, since we have not shared the details of how some of the functions like `excess_sugar()` or `excess_saturated_fat()` work.  But at a high level, these are functions that return a value of `True` if the food is deemed to have an excess of sugar or saturated fat, respectively.  These functions are used within the `get_labels()` function, and whenever there is an excess (of sugar or saturated fat, but also of trans fat, sodium, or calories), it prints the corresponding label."
   ]
  },
  {
   "cell_type": "code",
   "execution_count": 10,
   "id": "d24c9ed7",
   "metadata": {
    "execution": {
     "iopub.execute_input": "2024-10-27T05:15:52.793537Z",
     "iopub.status.busy": "2024-10-27T05:15:52.793098Z",
     "iopub.status.idle": "2024-10-27T05:15:52.803275Z",
     "shell.execute_reply": "2024-10-27T05:15:52.802052Z"
    },
    "papermill": {
     "duration": 0.025566,
     "end_time": "2024-10-27T05:15:52.806042",
     "exception": false,
     "start_time": "2024-10-27T05:15:52.780476",
     "status": "completed"
    },
    "tags": []
   },
   "outputs": [],
   "source": [
    "# import functions needed to make get_labels work\n",
    "from learntools.intro_to_programming.ex4q5 import excess_sugar, excess_saturated_fat, excess_trans_fat, excess_sodium, excess_calories\n",
    "\n",
    "def get_labels(food_type, serving_size, calories_per_serving, saturated_fat_g, trans_fat_g, sodium_mg, sugars_g):\n",
    "    # Print messages based on findings\n",
    "    if excess_sugar(sugars_g, calories_per_serving) == True:\n",
    "        print(\"EXCESO AZÚCARES / EXCESS SUGAR\")\n",
    "    if excess_saturated_fat(saturated_fat_g, calories_per_serving) == True:\n",
    "        print(\"EXCESO GRASAS SATURADAS / EXCESS SATURATED FAT\")\n",
    "    if excess_trans_fat(trans_fat_g, calories_per_serving) == True:\n",
    "        print(\"EXCESO GRASAS TRANS / EXCESS TRANS FAT\")\n",
    "    if excess_sodium(calories_per_serving, sodium_mg) == True:\n",
    "        print(\"EXCESO SODIO / EXCESS SODIUM\")\n",
    "    if excess_calories(food_type, calories_per_serving, serving_size) == True:\n",
    "        print(\"EXCESO CALORÍAS / EXCESS CALORIES\")"
   ]
  },
  {
   "cell_type": "markdown",
   "id": "69e8975c",
   "metadata": {
    "papermill": {
     "duration": 0.011145,
     "end_time": "2024-10-27T05:15:52.828759",
     "exception": false,
     "start_time": "2024-10-27T05:15:52.817614",
     "status": "completed"
    },
    "tags": []
   },
   "source": [
    "The next code cell demonstrates how to use `get_labels()` to get the warning labels that the food item should contain.  We begin with [bologna](https://world.openfoodfacts.org/product/4099100179378/bologna).  Here is [an image](https://storage.googleapis.com/kaggle-media/learn/images/Cfcx72e.png) with all of the nutritional information.  Note that for this food,\n",
    "- `food_type = \"solid\"` (because bologna is a solid and not a liquid)\n",
    "- `serving_size = 32` (the serving size is 32 grams)\n",
    "- `calories_per_serving = 110` (there are 110 calories per serving)\n",
    "- `saturated_fat_g = 2.5` (there are 2.5 grams of saturated fat per serving)\n",
    "- `trans_fat_g = 0` (there are 0 grams of trans fat per serving)\n",
    "- `sodium_mg = 400` (there are 400 mg of sodium per serving)\n",
    "- `sugars_g = 1` (the nutrition facts say <1g, but we will round it up to 1 gram per serving to be safe)\n",
    "\n",
    "By supplying all of these values to the function, we can print the warning labels."
   ]
  },
  {
   "cell_type": "code",
   "execution_count": 11,
   "id": "616da569",
   "metadata": {
    "execution": {
     "iopub.execute_input": "2024-10-27T05:15:52.853223Z",
     "iopub.status.busy": "2024-10-27T05:15:52.852754Z",
     "iopub.status.idle": "2024-10-27T05:15:52.858604Z",
     "shell.execute_reply": "2024-10-27T05:15:52.857506Z"
    },
    "papermill": {
     "duration": 0.021926,
     "end_time": "2024-10-27T05:15:52.861931",
     "exception": false,
     "start_time": "2024-10-27T05:15:52.840005",
     "status": "completed"
    },
    "tags": []
   },
   "outputs": [
    {
     "name": "stdout",
     "output_type": "stream",
     "text": [
      "EXCESO GRASAS SATURADAS / EXCESS SATURATED FAT\n",
      "EXCESO SODIO / EXCESS SODIUM\n",
      "EXCESO CALORÍAS / EXCESS CALORIES\n"
     ]
    }
   ],
   "source": [
    "# bologna https://world.openfoodfacts.org/product/4099100179378/bologna\n",
    "get_labels(\"solid\", 32, 110, 2.5, 0, 400, 1)"
   ]
  },
  {
   "cell_type": "markdown",
   "id": "01d1aaca",
   "metadata": {
    "papermill": {
     "duration": 0.011106,
     "end_time": "2024-10-27T05:15:52.884399",
     "exception": false,
     "start_time": "2024-10-27T05:15:52.873293",
     "status": "completed"
    },
    "tags": []
   },
   "source": [
    "This bologna has three labels, printed in the output above.\n",
    "\n",
    "For the rest of this question, you will use the same `get_labels()` function to determine the labels for more foods.  This question is designed to help you get practice with feeling comfortable with code that other people have written, and where you don't have time to review every single line of code before interacting with it.  For instance, when you take the [Intro to Machine Learning course](http://www.kaggle.com/learn/intro-to-machine-learning), you'll work with a Python package called \"scikit-learn\", which is a large collection of code that you'll learn how to run without reviewing all of the code in detail (as it would take too long, and you can trust that it was implemented correctly).\n",
    "\n",
    "In general, as you continue coding in Python, you will often be running code that other people have written.  This is common practice for advanced programmers.\n",
    "\n",
    "In the next code cell, fill in the values for [this cereal](https://world.openfoodfacts.org/product/7501008023624/zucaritas-kellogg-s).  Here is [an image](https://storage.googleapis.com/kaggle-media/learn/images/MUxzHVU.png) with all of the nutritional information.\n",
    "\n",
    "**Note**: running the line of code below as-is will return an error.  You have to fill in the nutritional values first."
   ]
  },
  {
   "cell_type": "code",
   "execution_count": 12,
   "id": "db4e6c05",
   "metadata": {
    "execution": {
     "iopub.execute_input": "2024-10-27T05:15:52.910050Z",
     "iopub.status.busy": "2024-10-27T05:15:52.908988Z",
     "iopub.status.idle": "2024-10-27T05:15:52.914977Z",
     "shell.execute_reply": "2024-10-27T05:15:52.913811Z"
    },
    "papermill": {
     "duration": 0.021731,
     "end_time": "2024-10-27T05:15:52.917531",
     "exception": false,
     "start_time": "2024-10-27T05:15:52.895800",
     "status": "completed"
    },
    "tags": []
   },
   "outputs": [],
   "source": [
    "# zucaritas cereal https://world.openfoodfacts.org/product/7501008023624/zucaritas-kellogg-s\n",
    "# TODO: Uncomment the line below, fill in the values, and run the function\n",
    "#get_labels()"
   ]
  },
  {
   "cell_type": "markdown",
   "id": "acea9bee",
   "metadata": {
    "papermill": {
     "duration": 0.011501,
     "end_time": "2024-10-27T05:15:52.941348",
     "exception": false,
     "start_time": "2024-10-27T05:15:52.929847",
     "status": "completed"
    },
    "tags": []
   },
   "source": [
    "Next, try [these mozzarella sticks](https://world-es.openfoodfacts.org/producto/0062325540104/mozzarella-cheese-sticks).  Here is [an image](https://storage.googleapis.com/kaggle-media/learn/images/rcdB7VH.png) with all of the nutritional information."
   ]
  },
  {
   "cell_type": "code",
   "execution_count": 13,
   "id": "401f8461",
   "metadata": {
    "execution": {
     "iopub.execute_input": "2024-10-27T05:15:52.966528Z",
     "iopub.status.busy": "2024-10-27T05:15:52.965705Z",
     "iopub.status.idle": "2024-10-27T05:15:52.970969Z",
     "shell.execute_reply": "2024-10-27T05:15:52.969622Z"
    },
    "papermill": {
     "duration": 0.020718,
     "end_time": "2024-10-27T05:15:52.973400",
     "exception": false,
     "start_time": "2024-10-27T05:15:52.952682",
     "status": "completed"
    },
    "tags": []
   },
   "outputs": [],
   "source": [
    "# mozzarella sticks https://world-es.openfoodfacts.org/producto/0062325540104/mozzarella-cheese-sticks\n",
    "# TODO: Uncomment the line below, fill in the values, and run the function\n",
    "#get_labels()"
   ]
  },
  {
   "cell_type": "markdown",
   "id": "a3bf36fe",
   "metadata": {
    "papermill": {
     "duration": 0.011565,
     "end_time": "2024-10-27T05:15:52.996812",
     "exception": false,
     "start_time": "2024-10-27T05:15:52.985247",
     "status": "completed"
    },
    "tags": []
   },
   "source": [
    "Feel free to skip to the end of the notebook now and run `q5.check()` to complete the exercise.  If you want to try more foods, \n",
    "- try [these cookies](https://world.openfoodfacts.org/product/0069700118545/biscuits-au-sucre-pretraches).  Here is [an image](https://storage.googleapis.com/kaggle-media/learn/images/2Bc271o.png) with all of the nutritional information.\n",
    "- try [this soda](https://world-es.openfoodfacts.org/producto/0078000113464/orange-soda-sunkist).  Here is [an image](https://storage.googleapis.com/kaggle-media/learn/images/RsBYa8E.png) with all of the nutritional information.\n",
    "\n",
    "Use the two code cells below for this."
   ]
  },
  {
   "cell_type": "code",
   "execution_count": 14,
   "id": "5cb6d7b2",
   "metadata": {
    "execution": {
     "iopub.execute_input": "2024-10-27T05:15:53.023011Z",
     "iopub.status.busy": "2024-10-27T05:15:53.022560Z",
     "iopub.status.idle": "2024-10-27T05:15:53.028416Z",
     "shell.execute_reply": "2024-10-27T05:15:53.026522Z"
    },
    "papermill": {
     "duration": 0.022139,
     "end_time": "2024-10-27T05:15:53.031273",
     "exception": false,
     "start_time": "2024-10-27T05:15:53.009134",
     "status": "completed"
    },
    "tags": []
   },
   "outputs": [],
   "source": [
    "# pillsbury cookies https://world.openfoodfacts.org/product/0069700118545/biscuits-au-sucre-pretraches\n",
    "# TODO: Uncomment the line below, fill in the values, and run the function\n",
    "#get_labels()"
   ]
  },
  {
   "cell_type": "code",
   "execution_count": 15,
   "id": "eec54375",
   "metadata": {
    "execution": {
     "iopub.execute_input": "2024-10-27T05:15:53.055870Z",
     "iopub.status.busy": "2024-10-27T05:15:53.055454Z",
     "iopub.status.idle": "2024-10-27T05:15:53.060311Z",
     "shell.execute_reply": "2024-10-27T05:15:53.059171Z"
    },
    "papermill": {
     "duration": 0.019962,
     "end_time": "2024-10-27T05:15:53.062754",
     "exception": false,
     "start_time": "2024-10-27T05:15:53.042792",
     "status": "completed"
    },
    "tags": []
   },
   "outputs": [],
   "source": [
    "# sunkist orange soda https://world-es.openfoodfacts.org/producto/0078000113464/orange-soda-sunkist\n",
    "# TODO: Uncomment the line below, fill in the values, and run the function\n",
    "#get_labels()"
   ]
  },
  {
   "cell_type": "markdown",
   "id": "503be7c3",
   "metadata": {
    "papermill": {
     "duration": 0.011981,
     "end_time": "2024-10-27T05:15:53.086716",
     "exception": false,
     "start_time": "2024-10-27T05:15:53.074735",
     "status": "completed"
    },
    "tags": []
   },
   "source": [
    "Once you have finished investigating the food items in this question, run the final code cell to get credit for completing this problem."
   ]
  },
  {
   "cell_type": "code",
   "execution_count": 16,
   "id": "58b4aa79",
   "metadata": {
    "execution": {
     "iopub.execute_input": "2024-10-27T05:15:53.111816Z",
     "iopub.status.busy": "2024-10-27T05:15:53.111408Z",
     "iopub.status.idle": "2024-10-27T05:15:53.120593Z",
     "shell.execute_reply": "2024-10-27T05:15:53.119413Z"
    },
    "papermill": {
     "duration": 0.024446,
     "end_time": "2024-10-27T05:15:53.122943",
     "exception": false,
     "start_time": "2024-10-27T05:15:53.098497",
     "status": "completed"
    },
    "tags": []
   },
   "outputs": [
    {
     "data": {
      "application/javascript": [
       "parent.postMessage({\"jupyterEvent\": \"custom.exercise_interaction\", \"data\": {\"outcomeType\": 1, \"valueTowardsCompletion\": 0.2, \"interactionType\": 1, \"questionType\": 2, \"questionId\": \"5_GetLabels\", \"learnToolsVersion\": \"0.3.4\", \"failureMessage\": \"\", \"exceptionClass\": \"\", \"trace\": \"\"}}, \"*\")"
      ],
      "text/plain": [
       "<IPython.core.display.Javascript object>"
      ]
     },
     "metadata": {},
     "output_type": "display_data"
    },
    {
     "data": {
      "text/markdown": [
       "<span style=\"color:#33cc33\">Once you have determined the labels for all of the food items, you're ready to move on to the next lesson!</span>"
      ],
      "text/plain": [
       "Once you have determined the labels for all of the food items, you're ready to move on to the next lesson!"
      ]
     },
     "metadata": {},
     "output_type": "display_data"
    }
   ],
   "source": [
    "# Get credit for completing the problem\n",
    "q5.check()"
   ]
  },
  {
   "cell_type": "markdown",
   "id": "94216e48",
   "metadata": {
    "papermill": {
     "duration": 0.011235,
     "end_time": "2024-10-27T05:15:53.146167",
     "exception": false,
     "start_time": "2024-10-27T05:15:53.134932",
     "status": "completed"
    },
    "tags": []
   },
   "source": [
    "# Keep going\n",
    "\n",
    "Continue to the next lesson to **[learn about Python lists](https://www.kaggle.com/alexisbcook/intro-to-lists)**."
   ]
  },
  {
   "cell_type": "markdown",
   "id": "ac00d45a",
   "metadata": {
    "papermill": {
     "duration": 0.011314,
     "end_time": "2024-10-27T05:15:53.169457",
     "exception": false,
     "start_time": "2024-10-27T05:15:53.158143",
     "status": "completed"
    },
    "tags": []
   },
   "source": [
    "---\n",
    "\n",
    "\n",
    "\n",
    "\n",
    "*Have questions or comments? Visit the [course discussion forum](https://www.kaggle.com/learn/intro-to-programming/discussion) to chat with other learners.*"
   ]
  }
 ],
 "metadata": {
  "kaggle": {
   "accelerator": "none",
   "dataSources": [],
   "isGpuEnabled": false,
   "isInternetEnabled": true,
   "language": "python",
   "sourceType": "notebook"
  },
  "kernelspec": {
   "display_name": "Python 3",
   "language": "python",
   "name": "python3"
  },
  "language_info": {
   "codemirror_mode": {
    "name": "ipython",
    "version": 3
   },
   "file_extension": ".py",
   "mimetype": "text/x-python",
   "name": "python",
   "nbconvert_exporter": "python",
   "pygments_lexer": "ipython3",
   "version": "3.10.14"
  },
  "papermill": {
   "default_parameters": {},
   "duration": 5.427256,
   "end_time": "2024-10-27T05:15:53.701677",
   "environment_variables": {},
   "exception": null,
   "input_path": "__notebook__.ipynb",
   "output_path": "__notebook__.ipynb",
   "parameters": {},
   "start_time": "2024-10-27T05:15:48.274421",
   "version": "2.6.0"
  }
 },
 "nbformat": 4,
 "nbformat_minor": 5
}
