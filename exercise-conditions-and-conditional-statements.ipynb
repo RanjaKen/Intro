{
 "cells": [
  {
   "cell_type": "markdown",
   "id": "71747edb",
   "metadata": {
    "papermill": {
     "duration": 0.008656,
     "end_time": "2024-10-27T04:46:19.782211",
     "exception": false,
     "start_time": "2024-10-27T04:46:19.773555",
     "status": "completed"
    },
    "tags": []
   },
   "source": [
    "**This notebook is an exercise in the [Intro to Programming](https://www.kaggle.com/learn/intro-to-programming) course.  You can reference the tutorial at [this link](https://www.kaggle.com/alexisbcook/conditions-and-conditional-statements).**\n",
    "\n",
    "---\n"
   ]
  },
  {
   "cell_type": "markdown",
   "id": "1ebd1b3b",
   "metadata": {
    "papermill": {
     "duration": 0.006941,
     "end_time": "2024-10-27T04:46:19.796477",
     "exception": false,
     "start_time": "2024-10-27T04:46:19.789536",
     "status": "completed"
    },
    "tags": []
   },
   "source": [
    "In the tutorial, you learned about conditions and conditional statements. In this exercise, you will use what you learned to answer several questions.\n",
    "\n",
    "# Set up the notebook\n",
    "\n",
    "Run the next code cell without changes to set up the notebook."
   ]
  },
  {
   "cell_type": "code",
   "execution_count": 1,
   "id": "eef8c119",
   "metadata": {
    "execution": {
     "iopub.execute_input": "2024-10-27T04:46:19.812068Z",
     "iopub.status.busy": "2024-10-27T04:46:19.811513Z",
     "iopub.status.idle": "2024-10-27T04:46:20.842024Z",
     "shell.execute_reply": "2024-10-27T04:46:20.840415Z"
    },
    "papermill": {
     "duration": 1.041637,
     "end_time": "2024-10-27T04:46:20.844849",
     "exception": false,
     "start_time": "2024-10-27T04:46:19.803212",
     "status": "completed"
    },
    "tags": []
   },
   "outputs": [
    {
     "name": "stdout",
     "output_type": "stream",
     "text": [
      "Setup complete.\n"
     ]
    }
   ],
   "source": [
    "from learntools.core import binder\n",
    "binder.bind(globals())\n",
    "from learntools.intro_to_programming.ex4 import *\n",
    "print('Setup complete.')"
   ]
  },
  {
   "cell_type": "markdown",
   "id": "4eec76a5",
   "metadata": {
    "papermill": {
     "duration": 0.006568,
     "end_time": "2024-10-27T04:46:20.858401",
     "exception": false,
     "start_time": "2024-10-27T04:46:20.851833",
     "status": "completed"
    },
    "tags": []
   },
   "source": [
    "# Question 1\n",
    "\n",
    "You work at a college admissions office.  When inspecting a dataset of college applicants, you notice that some students have represented their grades with letters (`\"A\"`, `\"B\"`, `\"C\"`, `\"D\"`, `\"F\"`), whereas others have represented their grades with a number between 0 and 100.\n",
    "\n",
    "You realize that for consistency, all of the grades should be formatted in the same way, and you decide to format them all as letters.  For the conversion, you decide to assign:\n",
    "- `\"A\"` - any grade 90-100, inclusive\n",
    "- `\"B\"` - any grade 80-89, inclusive\n",
    "- `\"C\"` - any grade 70-79, inclusive\n",
    "- `\"D\"` - any grade 60-69, inclusive\n",
    "- `\"F\"` - any grade <60\n",
    "\n",
    "Write a function `get_grade()` that takes as input:\n",
    "- `score` - an integer 0-100 corresponding to a numerical grade\n",
    "\n",
    "It should return a Python string with the letter grade that it corresponds to.  For instance,\n",
    "- A score of 85 corresponds to a B grade.  In other words, `get_grade(85)` should return `\"B\"`.\n",
    "- A score of 49 corresponds to an F grade.  In other words, `get_grade(49)` should return `\"F\"`.\n",
    "\n",
    "Make sure that when supplying the grade that is returned by the function, it is enclosed in quotes.  (For instance, if you want to return `\"A\"`, you should write `return \"A\"` and not `return A`.)"
   ]
  },
  {
   "cell_type": "code",
   "execution_count": 2,
   "id": "6b9bfbef",
   "metadata": {
    "execution": {
     "iopub.execute_input": "2024-10-27T04:46:20.873951Z",
     "iopub.status.busy": "2024-10-27T04:46:20.873378Z",
     "iopub.status.idle": "2024-10-27T04:46:20.886420Z",
     "shell.execute_reply": "2024-10-27T04:46:20.885347Z"
    },
    "papermill": {
     "duration": 0.023939,
     "end_time": "2024-10-27T04:46:20.889050",
     "exception": false,
     "start_time": "2024-10-27T04:46:20.865111",
     "status": "completed"
    },
    "tags": []
   },
   "outputs": [
    {
     "data": {
      "application/javascript": [
       "parent.postMessage({\"jupyterEvent\": \"custom.exercise_interaction\", \"data\": {\"outcomeType\": 1, \"valueTowardsCompletion\": 0.2, \"interactionType\": 1, \"questionType\": 2, \"questionId\": \"1_GetGrade\", \"learnToolsVersion\": \"0.3.4\", \"failureMessage\": \"\", \"exceptionClass\": \"\", \"trace\": \"\"}}, \"*\")"
      ],
      "text/plain": [
       "<IPython.core.display.Javascript object>"
      ]
     },
     "metadata": {},
     "output_type": "display_data"
    },
    {
     "data": {
      "text/markdown": [
       "<span style=\"color:#33cc33\">Correct</span>"
      ],
      "text/plain": [
       "Correct"
      ]
     },
     "metadata": {},
     "output_type": "display_data"
    }
   ],
   "source": [
    "# TODO: Edit the function to return the correct grade for different scores\n",
    "def get_grade(score):\n",
    "    if (score >= 90 and score <= 100) :\n",
    "        grade = \"A\"\n",
    "    elif (score >= 80 and score <= 89) :\n",
    "        grade = \"B\"\n",
    "    elif (score >= 70 and score <= 79) :\n",
    "        grade = \"C\"\n",
    "    elif (score >= 60 and score <= 69) :\n",
    "        grade = \"D\"\n",
    "    elif (score < 60 ) :\n",
    "        grade = \"F\"\n",
    "    return grade\n",
    "    \n",
    "# Check your answer\n",
    "q1.check()"
   ]
  },
  {
   "cell_type": "code",
   "execution_count": 3,
   "id": "25981b5a",
   "metadata": {
    "execution": {
     "iopub.execute_input": "2024-10-27T04:46:20.906323Z",
     "iopub.status.busy": "2024-10-27T04:46:20.905907Z",
     "iopub.status.idle": "2024-10-27T04:46:20.910942Z",
     "shell.execute_reply": "2024-10-27T04:46:20.909744Z"
    },
    "papermill": {
     "duration": 0.016283,
     "end_time": "2024-10-27T04:46:20.913464",
     "exception": false,
     "start_time": "2024-10-27T04:46:20.897181",
     "status": "completed"
    },
    "tags": []
   },
   "outputs": [],
   "source": [
    "# Uncomment to see a hint\n",
    "#q1.hint()\n",
    "\n",
    "# Uncomment to see the solution\n",
    "#q1.solution()"
   ]
  },
  {
   "cell_type": "markdown",
   "id": "51f6a96d",
   "metadata": {
    "papermill": {
     "duration": 0.006687,
     "end_time": "2024-10-27T04:46:20.927438",
     "exception": false,
     "start_time": "2024-10-27T04:46:20.920751",
     "status": "completed"
    },
    "tags": []
   },
   "source": [
    "# Question 2\n",
    "\n",
    "In the exercise for the previous lesson, you wrote a function `cost_of_project()` that estimated the price of rings for an online shop that sells rings with custom engravings.  This function did not use conditional statements.  In this exercise, you will rewrite the function to use conditional statements.  Recall that the online shop has the following price structure:\n",
    "- Gold plated rings have a base cost of \\\\$50, and you charge \\\\$7 per engraved unit.  \n",
    "- Solid gold rings have a base cost of \\\\$100, and you charge \\\\$10 per engraved unit.\n",
    "- Spaces and punctuation are counted as engraved units.\n",
    "\n",
    "Your function `cost_of_project()` takes two arguments:\n",
    "- `engraving` - a Python string with the text of the engraving\n",
    "- `solid_gold` - a Boolean that indicates whether the ring is solid gold\n",
    "\n",
    "It should return the cost of the project.  \n",
    "\n",
    "The function has been partially completed for you, and you need to fill in the blanks to complete the function."
   ]
  },
  {
   "cell_type": "code",
   "execution_count": 4,
   "id": "244735b0",
   "metadata": {
    "execution": {
     "iopub.execute_input": "2024-10-27T04:46:20.943354Z",
     "iopub.status.busy": "2024-10-27T04:46:20.942931Z",
     "iopub.status.idle": "2024-10-27T04:46:20.952561Z",
     "shell.execute_reply": "2024-10-27T04:46:20.951468Z"
    },
    "papermill": {
     "duration": 0.020574,
     "end_time": "2024-10-27T04:46:20.955032",
     "exception": false,
     "start_time": "2024-10-27T04:46:20.934458",
     "status": "completed"
    },
    "tags": []
   },
   "outputs": [
    {
     "data": {
      "application/javascript": [
       "parent.postMessage({\"jupyterEvent\": \"custom.exercise_interaction\", \"data\": {\"outcomeType\": 2, \"failureMessage\": \"Expected return value of `240` given `engraving='Charlie+Denver'`, `solid_gold=True`, but got `50` instead.\", \"interactionType\": 1, \"questionType\": 2, \"questionId\": \"2_CostProjectPartDeux\", \"learnToolsVersion\": \"0.3.4\", \"valueTowardsCompletion\": 0.0, \"exceptionClass\": \"\", \"trace\": \"\"}}, \"*\")"
      ],
      "text/plain": [
       "<IPython.core.display.Javascript object>"
      ]
     },
     "metadata": {},
     "output_type": "display_data"
    },
    {
     "data": {
      "text/markdown": [
       "<span style=\"color:#cc3333\">Incorrect:</span> Expected return value of `240` given `engraving='Charlie+Denver'`, `solid_gold=True`, but got `50` instead."
      ],
      "text/plain": [
       "Incorrect: Expected return value of `240` given `engraving='Charlie+Denver'`, `solid_gold=True`, but got `50` instead."
      ]
     },
     "metadata": {},
     "output_type": "display_data"
    }
   ],
   "source": [
    "def cost_of_project(engraving, solid_gold):\n",
    "    if solid_gold == True:\n",
    "        cost = 50\n",
    "    else:\n",
    "        cost = 100\n",
    "    return cost\n",
    "\n",
    "# Check your answer\n",
    "q2.check()"
   ]
  },
  {
   "cell_type": "code",
   "execution_count": 5,
   "id": "86ab449b",
   "metadata": {
    "execution": {
     "iopub.execute_input": "2024-10-27T04:46:20.972503Z",
     "iopub.status.busy": "2024-10-27T04:46:20.972105Z",
     "iopub.status.idle": "2024-10-27T04:46:20.981153Z",
     "shell.execute_reply": "2024-10-27T04:46:20.980133Z"
    },
    "papermill": {
     "duration": 0.020554,
     "end_time": "2024-10-27T04:46:20.983631",
     "exception": false,
     "start_time": "2024-10-27T04:46:20.963077",
     "status": "completed"
    },
    "tags": []
   },
   "outputs": [
    {
     "data": {
      "application/javascript": [
       "parent.postMessage({\"jupyterEvent\": \"custom.exercise_interaction\", \"data\": {\"interactionType\": 2, \"questionType\": 2, \"questionId\": \"2_CostProjectPartDeux\", \"learnToolsVersion\": \"0.3.4\", \"valueTowardsCompletion\": 0.0, \"failureMessage\": \"\", \"exceptionClass\": \"\", \"trace\": \"\", \"outcomeType\": 4}}, \"*\")"
      ],
      "text/plain": [
       "<IPython.core.display.Javascript object>"
      ]
     },
     "metadata": {},
     "output_type": "display_data"
    },
    {
     "data": {
      "text/markdown": [
       "<span style=\"color:#3366cc\">Hint:</span> If `solid_gold = True`, then the cost of the ring is \\$100 (base cost), plus \\$10 times the length of the engraving.  You can get the length of the engraving with `len(engraving)`.  Otherwise, if `solid_gold = False`, then the cost of the ring is \\$50 (base cost), plus \\$7 times the length of the engraving."
      ],
      "text/plain": [
       "Hint: If `solid_gold = True`, then the cost of the ring is \\$100 (base cost), plus \\$10 times the length of the engraving.  You can get the length of the engraving with `len(engraving)`.  Otherwise, if `solid_gold = False`, then the cost of the ring is \\$50 (base cost), plus \\$7 times the length of the engraving."
      ]
     },
     "metadata": {},
     "output_type": "display_data"
    }
   ],
   "source": [
    "# Uncomment to see a hint\n",
    "q2.hint()\n",
    "\n",
    "# Uncomment to see the solution\n",
    "#q2.solution()"
   ]
  },
  {
   "cell_type": "markdown",
   "id": "3ab53e7b",
   "metadata": {
    "papermill": {
     "duration": 0.0079,
     "end_time": "2024-10-27T04:46:20.999174",
     "exception": false,
     "start_time": "2024-10-27T04:46:20.991274",
     "status": "completed"
    },
    "tags": []
   },
   "source": [
    "# Question 3\n",
    "\n",
    "You are a programmer at a water agency.  Recently, you have been tasked to write a function `get_water_bill()` that takes as input:\n",
    "- `num_gallons` = the number of gallons of water that a customer used that month.  (This will always be an integer with no decimal part.)\n",
    "\n",
    "It should output the water bill.  \n",
    "\n",
    "The water agency uses this pricing structure:\n",
    "<table style=\"width: 100%;\">\n",
    "<tbody>\n",
    "<tr><th><b>Tier</b></th><th><b>Amount in gallons</b></th><th><b>Price per 1000 gallons</b></th></tr>\n",
    "<tr>\n",
    "<td>Tier 1</td>\n",
    "<td>0 - 8,000</td>\n",
    "<td>\\$5</td>\n",
    "</tr>\n",
    "<tr>\n",
    "<td>Tier 2</td>\n",
    "<td>8,001 - 22,000</td>\n",
    "<td>\\$6</td>\n",
    "</tr>\n",
    "<tr>\n",
    "<td>Tier 3</td>\n",
    "<td>22,001 - 30,000</td>\n",
    "<td>\\$7</td>\n",
    "</tr>\n",
    "<tr>\n",
    "<td>Tier 4</td>\n",
    "<td>30,001+</td>\n",
    "<td>\\$10</td>\n",
    "</tr>\n",
    "</tbody>\n",
    "</table>\n",
    "\n",
    "For example: \n",
    "- Someone who uses 10,000 gallons of water in a month is placed in Tier 2, and needs to pay a water bill of \\\\$6 * 10 = \\\\$60.  In other words, `get_water_bill(10000)` should return `60.0`.\n",
    "- Someone who uses 25,000 gallons of water in a month is placed in Tier 3, and needs to pay a water bill of \\\\$7 * 25 = \\\\$175.  In other words, `get_water_bill(25000)` should return `175.0`.\n",
    "\n",
    "**Do not round your answer.**  So, your answer might return fractions of a penny."
   ]
  },
  {
   "cell_type": "code",
   "execution_count": 6,
   "id": "8709a094",
   "metadata": {
    "execution": {
     "iopub.execute_input": "2024-10-27T04:46:21.016660Z",
     "iopub.status.busy": "2024-10-27T04:46:21.016244Z",
     "iopub.status.idle": "2024-10-27T04:46:21.026169Z",
     "shell.execute_reply": "2024-10-27T04:46:21.025044Z"
    },
    "papermill": {
     "duration": 0.021761,
     "end_time": "2024-10-27T04:46:21.028702",
     "exception": false,
     "start_time": "2024-10-27T04:46:21.006941",
     "status": "completed"
    },
    "tags": []
   },
   "outputs": [
    {
     "data": {
      "application/javascript": [
       "parent.postMessage({\"jupyterEvent\": \"custom.exercise_interaction\", \"data\": {\"outcomeType\": 2, \"failureMessage\": \"Expected return value of `0.0` given `num_gallons=0`, but got `1000` instead.\", \"interactionType\": 1, \"questionType\": 2, \"questionId\": \"3_GetWaterBill\", \"learnToolsVersion\": \"0.3.4\", \"valueTowardsCompletion\": 0.0, \"exceptionClass\": \"\", \"trace\": \"\"}}, \"*\")"
      ],
      "text/plain": [
       "<IPython.core.display.Javascript object>"
      ]
     },
     "metadata": {},
     "output_type": "display_data"
    },
    {
     "data": {
      "text/markdown": [
       "<span style=\"color:#cc3333\">Incorrect:</span> Expected return value of `0.0` given `num_gallons=0`, but got `1000` instead."
      ],
      "text/plain": [
       "Incorrect: Expected return value of `0.0` given `num_gallons=0`, but got `1000` instead."
      ]
     },
     "metadata": {},
     "output_type": "display_data"
    }
   ],
   "source": [
    "# TODO: Edit the function to return the correct bill for different\n",
    "# values of num_gallons\n",
    "def get_water_bill(num_gallons):\n",
    "    bill = 1000\n",
    "    return bill\n",
    "\n",
    "# Check your answer\n",
    "q3.check()"
   ]
  },
  {
   "cell_type": "code",
   "execution_count": 7,
   "id": "9a9918b2",
   "metadata": {
    "execution": {
     "iopub.execute_input": "2024-10-27T04:46:21.046392Z",
     "iopub.status.busy": "2024-10-27T04:46:21.045976Z",
     "iopub.status.idle": "2024-10-27T04:46:21.050613Z",
     "shell.execute_reply": "2024-10-27T04:46:21.049510Z"
    },
    "papermill": {
     "duration": 0.016228,
     "end_time": "2024-10-27T04:46:21.053139",
     "exception": false,
     "start_time": "2024-10-27T04:46:21.036911",
     "status": "completed"
    },
    "tags": []
   },
   "outputs": [],
   "source": [
    "# Uncomment to see a hint\n",
    "#q3.hint()\n",
    "\n",
    "# Uncomment to see the solution\n",
    "#q3.solution()"
   ]
  },
  {
   "cell_type": "markdown",
   "id": "efba20a8",
   "metadata": {
    "papermill": {
     "duration": 0.007423,
     "end_time": "2024-10-27T04:46:21.068444",
     "exception": false,
     "start_time": "2024-10-27T04:46:21.061021",
     "status": "completed"
    },
    "tags": []
   },
   "source": [
    "# Question 4\n",
    "\n",
    "You work for a company that provides data services.  For \\\\$100/month, your company provides 15 gigabytes (GB) of data.  Then, any additional data is billed at \\\\$0.10/MB (or \\\\$100/GB, since 1,000 MB are in 1 GB).\n",
    "\n",
    "Use the next code cell to write a function `get_phone_bill()` that takes as input:\n",
    "- `gb` = number of GB that the customer used in a month\n",
    "\n",
    "It should return the customer's total phone bill.\n",
    "\n",
    "For instance:\n",
    "- A customer who uses 10 GB of data in one month is billed only \\\\$100, since the usage stayed under 15 GB.  In other words, `get_phone_bill(10)` should return `100`.\n",
    "- A customer who uses 15.1 GB (or 15 GB + 100 MB) of data in one month has gone over by .1 GB, so they must pay \\\\$100 (cost of plan), plus \\\\$0.10 * 100 = \\\\$10, for a total bill of \\\\$110.  In other words, `get_phone_bill(15.1)` should return `110`.\n",
    "\n",
    "Do not round your answer."
   ]
  },
  {
   "cell_type": "code",
   "execution_count": 8,
   "id": "c9977d2c",
   "metadata": {
    "execution": {
     "iopub.execute_input": "2024-10-27T04:46:21.085568Z",
     "iopub.status.busy": "2024-10-27T04:46:21.085139Z",
     "iopub.status.idle": "2024-10-27T04:46:21.094949Z",
     "shell.execute_reply": "2024-10-27T04:46:21.093755Z"
    },
    "papermill": {
     "duration": 0.02112,
     "end_time": "2024-10-27T04:46:21.097211",
     "exception": false,
     "start_time": "2024-10-27T04:46:21.076091",
     "status": "completed"
    },
    "tags": []
   },
   "outputs": [
    {
     "data": {
      "application/javascript": [
       "parent.postMessage({\"jupyterEvent\": \"custom.exercise_interaction\", \"data\": {\"outcomeType\": 2, \"failureMessage\": \"Expected return value of `150.0` given `gb=15.5`, but got `100` instead.\", \"interactionType\": 1, \"questionType\": 2, \"questionId\": \"4_GetPhoneBill\", \"learnToolsVersion\": \"0.3.4\", \"valueTowardsCompletion\": 0.0, \"exceptionClass\": \"\", \"trace\": \"\"}}, \"*\")"
      ],
      "text/plain": [
       "<IPython.core.display.Javascript object>"
      ]
     },
     "metadata": {},
     "output_type": "display_data"
    },
    {
     "data": {
      "text/markdown": [
       "<span style=\"color:#cc3333\">Incorrect:</span> Expected return value of `150.0` given `gb=15.5`, but got `100` instead."
      ],
      "text/plain": [
       "Incorrect: Expected return value of `150.0` given `gb=15.5`, but got `100` instead."
      ]
     },
     "metadata": {},
     "output_type": "display_data"
    }
   ],
   "source": [
    "# TODO: Edit the function to return the correct bill for different\n",
    "# values of GB\n",
    "def get_phone_bill(gb):\n",
    "    bill = 100\n",
    "    return bill\n",
    "\n",
    "# Check your answer\n",
    "q4.check()"
   ]
  },
  {
   "cell_type": "code",
   "execution_count": 9,
   "id": "8cc5a10f",
   "metadata": {
    "execution": {
     "iopub.execute_input": "2024-10-27T04:46:21.115133Z",
     "iopub.status.busy": "2024-10-27T04:46:21.114528Z",
     "iopub.status.idle": "2024-10-27T04:46:21.119891Z",
     "shell.execute_reply": "2024-10-27T04:46:21.118806Z"
    },
    "papermill": {
     "duration": 0.016863,
     "end_time": "2024-10-27T04:46:21.122155",
     "exception": false,
     "start_time": "2024-10-27T04:46:21.105292",
     "status": "completed"
    },
    "tags": []
   },
   "outputs": [],
   "source": [
    "# Uncomment to see a hint\n",
    "#q4.hint()\n",
    "\n",
    "# Uncomment to see the solution\n",
    "#q4.solution()"
   ]
  },
  {
   "cell_type": "markdown",
   "id": "369fd65b",
   "metadata": {
    "papermill": {
     "duration": 0.007795,
     "end_time": "2024-10-27T04:46:21.137953",
     "exception": false,
     "start_time": "2024-10-27T04:46:21.130158",
     "status": "completed"
    },
    "tags": []
   },
   "source": [
    "# 🌶️ Question 5\n",
    "\n",
    "In Mexico, foods and beverages that are high in saturated fat, trans fat, sugar, sodium, and/or calories appear with warning labels that are designed to help consumers make healthy food choices.\n",
    "\n",
    "For instance, the [box of cookies](https://world.openfoodfacts.org/product/7501000673209/florentinas-gamesa) in the image below appears with two labels (in the upper right corner):\n",
    "- EXCESO CALORÍAS (in English, EXCESS CALORIES)\n",
    "- EXCESO AZÚCARES (in English, EXCESS SUGAR)\n",
    "\n",
    "<center><img src=\"https://storage.googleapis.com/kaggle-media/learn/images/VXYKHnM.png\" alt=\"drawing\" width=\"500\"/></center>\n",
    "\n",
    "In this question, you'll work with a function `get_labels()` that takes the nutritional details about a food item and prints the needed warning labels.  This function takes several inputs:\n",
    "- `food_type` = one of `\"solid\"` or `\"liquid\"`\n",
    "- `serving_size` = size of one serving (if solid, in grams; if liquid, in milliliters)\n",
    "- `calories_per_serving` = calories in one serving\n",
    "- `saturated_fat_g` = grams of saturated fat in one serving\n",
    "- `trans_fat_g` = grams of trans fat in one serving\n",
    "- `sodium_mg` = mg of sodium in one serving\n",
    "- `sugars_g` = grams of sugar in one serving\n",
    "\n",
    "Note that some of the code here should feel unfamiliar to you, since we have not shared the details of how some of the functions like `excess_sugar()` or `excess_saturated_fat()` work.  But at a high level, these are functions that return a value of `True` if the food is deemed to have an excess of sugar or saturated fat, respectively.  These functions are used within the `get_labels()` function, and whenever there is an excess (of sugar or saturated fat, but also of trans fat, sodium, or calories), it prints the corresponding label."
   ]
  },
  {
   "cell_type": "code",
   "execution_count": 10,
   "id": "9df37396",
   "metadata": {
    "execution": {
     "iopub.execute_input": "2024-10-27T04:46:21.155792Z",
     "iopub.status.busy": "2024-10-27T04:46:21.155272Z",
     "iopub.status.idle": "2024-10-27T04:46:21.165219Z",
     "shell.execute_reply": "2024-10-27T04:46:21.164076Z"
    },
    "papermill": {
     "duration": 0.021726,
     "end_time": "2024-10-27T04:46:21.167603",
     "exception": false,
     "start_time": "2024-10-27T04:46:21.145877",
     "status": "completed"
    },
    "tags": []
   },
   "outputs": [],
   "source": [
    "# import functions needed to make get_labels work\n",
    "from learntools.intro_to_programming.ex4q5 import excess_sugar, excess_saturated_fat, excess_trans_fat, excess_sodium, excess_calories\n",
    "\n",
    "def get_labels(food_type, serving_size, calories_per_serving, saturated_fat_g, trans_fat_g, sodium_mg, sugars_g):\n",
    "    # Print messages based on findings\n",
    "    if excess_sugar(sugars_g, calories_per_serving) == True:\n",
    "        print(\"EXCESO AZÚCARES / EXCESS SUGAR\")\n",
    "    if excess_saturated_fat(saturated_fat_g, calories_per_serving) == True:\n",
    "        print(\"EXCESO GRASAS SATURADAS / EXCESS SATURATED FAT\")\n",
    "    if excess_trans_fat(trans_fat_g, calories_per_serving) == True:\n",
    "        print(\"EXCESO GRASAS TRANS / EXCESS TRANS FAT\")\n",
    "    if excess_sodium(calories_per_serving, sodium_mg) == True:\n",
    "        print(\"EXCESO SODIO / EXCESS SODIUM\")\n",
    "    if excess_calories(food_type, calories_per_serving, serving_size) == True:\n",
    "        print(\"EXCESO CALORÍAS / EXCESS CALORIES\")"
   ]
  },
  {
   "cell_type": "markdown",
   "id": "aef5d5e6",
   "metadata": {
    "papermill": {
     "duration": 0.008942,
     "end_time": "2024-10-27T04:46:21.184752",
     "exception": false,
     "start_time": "2024-10-27T04:46:21.175810",
     "status": "completed"
    },
    "tags": []
   },
   "source": [
    "The next code cell demonstrates how to use `get_labels()` to get the warning labels that the food item should contain.  We begin with [bologna](https://world.openfoodfacts.org/product/4099100179378/bologna).  Here is [an image](https://storage.googleapis.com/kaggle-media/learn/images/Cfcx72e.png) with all of the nutritional information.  Note that for this food,\n",
    "- `food_type = \"solid\"` (because bologna is a solid and not a liquid)\n",
    "- `serving_size = 32` (the serving size is 32 grams)\n",
    "- `calories_per_serving = 110` (there are 110 calories per serving)\n",
    "- `saturated_fat_g = 2.5` (there are 2.5 grams of saturated fat per serving)\n",
    "- `trans_fat_g = 0` (there are 0 grams of trans fat per serving)\n",
    "- `sodium_mg = 400` (there are 400 mg of sodium per serving)\n",
    "- `sugars_g = 1` (the nutrition facts say <1g, but we will round it up to 1 gram per serving to be safe)\n",
    "\n",
    "By supplying all of these values to the function, we can print the warning labels."
   ]
  },
  {
   "cell_type": "code",
   "execution_count": 11,
   "id": "f627a380",
   "metadata": {
    "execution": {
     "iopub.execute_input": "2024-10-27T04:46:21.203157Z",
     "iopub.status.busy": "2024-10-27T04:46:21.202162Z",
     "iopub.status.idle": "2024-10-27T04:46:21.208159Z",
     "shell.execute_reply": "2024-10-27T04:46:21.206873Z"
    },
    "papermill": {
     "duration": 0.018202,
     "end_time": "2024-10-27T04:46:21.210933",
     "exception": false,
     "start_time": "2024-10-27T04:46:21.192731",
     "status": "completed"
    },
    "tags": []
   },
   "outputs": [
    {
     "name": "stdout",
     "output_type": "stream",
     "text": [
      "EXCESO GRASAS SATURADAS / EXCESS SATURATED FAT\n",
      "EXCESO SODIO / EXCESS SODIUM\n",
      "EXCESO CALORÍAS / EXCESS CALORIES\n"
     ]
    }
   ],
   "source": [
    "# bologna https://world.openfoodfacts.org/product/4099100179378/bologna\n",
    "get_labels(\"solid\", 32, 110, 2.5, 0, 400, 1)"
   ]
  },
  {
   "cell_type": "markdown",
   "id": "adc82154",
   "metadata": {
    "papermill": {
     "duration": 0.0078,
     "end_time": "2024-10-27T04:46:21.226946",
     "exception": false,
     "start_time": "2024-10-27T04:46:21.219146",
     "status": "completed"
    },
    "tags": []
   },
   "source": [
    "This bologna has three labels, printed in the output above.\n",
    "\n",
    "For the rest of this question, you will use the same `get_labels()` function to determine the labels for more foods.  This question is designed to help you get practice with feeling comfortable with code that other people have written, and where you don't have time to review every single line of code before interacting with it.  For instance, when you take the [Intro to Machine Learning course](http://www.kaggle.com/learn/intro-to-machine-learning), you'll work with a Python package called \"scikit-learn\", which is a large collection of code that you'll learn how to run without reviewing all of the code in detail (as it would take too long, and you can trust that it was implemented correctly).\n",
    "\n",
    "In general, as you continue coding in Python, you will often be running code that other people have written.  This is common practice for advanced programmers.\n",
    "\n",
    "In the next code cell, fill in the values for [this cereal](https://world.openfoodfacts.org/product/7501008023624/zucaritas-kellogg-s).  Here is [an image](https://storage.googleapis.com/kaggle-media/learn/images/MUxzHVU.png) with all of the nutritional information.\n",
    "\n",
    "**Note**: running the line of code below as-is will return an error.  You have to fill in the nutritional values first."
   ]
  },
  {
   "cell_type": "code",
   "execution_count": 12,
   "id": "9bba01b2",
   "metadata": {
    "execution": {
     "iopub.execute_input": "2024-10-27T04:46:21.244936Z",
     "iopub.status.busy": "2024-10-27T04:46:21.244528Z",
     "iopub.status.idle": "2024-10-27T04:46:21.249830Z",
     "shell.execute_reply": "2024-10-27T04:46:21.248463Z"
    },
    "papermill": {
     "duration": 0.017404,
     "end_time": "2024-10-27T04:46:21.252341",
     "exception": false,
     "start_time": "2024-10-27T04:46:21.234937",
     "status": "completed"
    },
    "tags": []
   },
   "outputs": [],
   "source": [
    "# zucaritas cereal https://world.openfoodfacts.org/product/7501008023624/zucaritas-kellogg-s\n",
    "# TODO: Uncomment the line below, fill in the values, and run the function\n",
    "#get_labels()"
   ]
  },
  {
   "cell_type": "markdown",
   "id": "c77e832e",
   "metadata": {
    "papermill": {
     "duration": 0.008317,
     "end_time": "2024-10-27T04:46:21.268871",
     "exception": false,
     "start_time": "2024-10-27T04:46:21.260554",
     "status": "completed"
    },
    "tags": []
   },
   "source": [
    "Next, try [these mozzarella sticks](https://world-es.openfoodfacts.org/producto/0062325540104/mozzarella-cheese-sticks).  Here is [an image](https://storage.googleapis.com/kaggle-media/learn/images/rcdB7VH.png) with all of the nutritional information."
   ]
  },
  {
   "cell_type": "code",
   "execution_count": 13,
   "id": "2e8b1d53",
   "metadata": {
    "execution": {
     "iopub.execute_input": "2024-10-27T04:46:21.287858Z",
     "iopub.status.busy": "2024-10-27T04:46:21.287434Z",
     "iopub.status.idle": "2024-10-27T04:46:21.292429Z",
     "shell.execute_reply": "2024-10-27T04:46:21.291323Z"
    },
    "papermill": {
     "duration": 0.017513,
     "end_time": "2024-10-27T04:46:21.294721",
     "exception": false,
     "start_time": "2024-10-27T04:46:21.277208",
     "status": "completed"
    },
    "tags": []
   },
   "outputs": [],
   "source": [
    "# mozzarella sticks https://world-es.openfoodfacts.org/producto/0062325540104/mozzarella-cheese-sticks\n",
    "# TODO: Uncomment the line below, fill in the values, and run the function\n",
    "#get_labels()"
   ]
  },
  {
   "cell_type": "markdown",
   "id": "a79feb35",
   "metadata": {
    "papermill": {
     "duration": 0.007663,
     "end_time": "2024-10-27T04:46:21.311116",
     "exception": false,
     "start_time": "2024-10-27T04:46:21.303453",
     "status": "completed"
    },
    "tags": []
   },
   "source": [
    "Feel free to skip to the end of the notebook now and run `q5.check()` to complete the exercise.  If you want to try more foods, \n",
    "- try [these cookies](https://world.openfoodfacts.org/product/0069700118545/biscuits-au-sucre-pretraches).  Here is [an image](https://storage.googleapis.com/kaggle-media/learn/images/2Bc271o.png) with all of the nutritional information.\n",
    "- try [this soda](https://world-es.openfoodfacts.org/producto/0078000113464/orange-soda-sunkist).  Here is [an image](https://storage.googleapis.com/kaggle-media/learn/images/RsBYa8E.png) with all of the nutritional information.\n",
    "\n",
    "Use the two code cells below for this."
   ]
  },
  {
   "cell_type": "code",
   "execution_count": 14,
   "id": "2f05f398",
   "metadata": {
    "execution": {
     "iopub.execute_input": "2024-10-27T04:46:21.329097Z",
     "iopub.status.busy": "2024-10-27T04:46:21.328121Z",
     "iopub.status.idle": "2024-10-27T04:46:21.332909Z",
     "shell.execute_reply": "2024-10-27T04:46:21.331711Z"
    },
    "papermill": {
     "duration": 0.016392,
     "end_time": "2024-10-27T04:46:21.335306",
     "exception": false,
     "start_time": "2024-10-27T04:46:21.318914",
     "status": "completed"
    },
    "tags": []
   },
   "outputs": [],
   "source": [
    "# pillsbury cookies https://world.openfoodfacts.org/product/0069700118545/biscuits-au-sucre-pretraches\n",
    "# TODO: Uncomment the line below, fill in the values, and run the function\n",
    "#get_labels()"
   ]
  },
  {
   "cell_type": "code",
   "execution_count": 15,
   "id": "7c198b0f",
   "metadata": {
    "execution": {
     "iopub.execute_input": "2024-10-27T04:46:21.353234Z",
     "iopub.status.busy": "2024-10-27T04:46:21.352811Z",
     "iopub.status.idle": "2024-10-27T04:46:21.357552Z",
     "shell.execute_reply": "2024-10-27T04:46:21.356387Z"
    },
    "papermill": {
     "duration": 0.016385,
     "end_time": "2024-10-27T04:46:21.359833",
     "exception": false,
     "start_time": "2024-10-27T04:46:21.343448",
     "status": "completed"
    },
    "tags": []
   },
   "outputs": [],
   "source": [
    "# sunkist orange soda https://world-es.openfoodfacts.org/producto/0078000113464/orange-soda-sunkist\n",
    "# TODO: Uncomment the line below, fill in the values, and run the function\n",
    "#get_labels()"
   ]
  },
  {
   "cell_type": "markdown",
   "id": "8c73122f",
   "metadata": {
    "papermill": {
     "duration": 0.007608,
     "end_time": "2024-10-27T04:46:21.375458",
     "exception": false,
     "start_time": "2024-10-27T04:46:21.367850",
     "status": "completed"
    },
    "tags": []
   },
   "source": [
    "Once you have finished investigating the food items in this question, run the final code cell to get credit for completing this problem."
   ]
  },
  {
   "cell_type": "code",
   "execution_count": 16,
   "id": "048cc286",
   "metadata": {
    "execution": {
     "iopub.execute_input": "2024-10-27T04:46:21.393619Z",
     "iopub.status.busy": "2024-10-27T04:46:21.392652Z",
     "iopub.status.idle": "2024-10-27T04:46:21.401454Z",
     "shell.execute_reply": "2024-10-27T04:46:21.400442Z"
    },
    "papermill": {
     "duration": 0.020332,
     "end_time": "2024-10-27T04:46:21.403632",
     "exception": false,
     "start_time": "2024-10-27T04:46:21.383300",
     "status": "completed"
    },
    "tags": []
   },
   "outputs": [
    {
     "data": {
      "application/javascript": [
       "parent.postMessage({\"jupyterEvent\": \"custom.exercise_interaction\", \"data\": {\"outcomeType\": 1, \"valueTowardsCompletion\": 0.2, \"interactionType\": 1, \"questionType\": 2, \"questionId\": \"5_GetLabels\", \"learnToolsVersion\": \"0.3.4\", \"failureMessage\": \"\", \"exceptionClass\": \"\", \"trace\": \"\"}}, \"*\")"
      ],
      "text/plain": [
       "<IPython.core.display.Javascript object>"
      ]
     },
     "metadata": {},
     "output_type": "display_data"
    },
    {
     "data": {
      "text/markdown": [
       "<span style=\"color:#33cc33\">Once you have determined the labels for all of the food items, you're ready to move on to the next lesson!</span>"
      ],
      "text/plain": [
       "Once you have determined the labels for all of the food items, you're ready to move on to the next lesson!"
      ]
     },
     "metadata": {},
     "output_type": "display_data"
    }
   ],
   "source": [
    "# Get credit for completing the problem\n",
    "q5.check()"
   ]
  },
  {
   "cell_type": "markdown",
   "id": "0373f9d9",
   "metadata": {
    "papermill": {
     "duration": 0.007937,
     "end_time": "2024-10-27T04:46:21.420992",
     "exception": false,
     "start_time": "2024-10-27T04:46:21.413055",
     "status": "completed"
    },
    "tags": []
   },
   "source": [
    "# Keep going\n",
    "\n",
    "Continue to the next lesson to **[learn about Python lists](https://www.kaggle.com/alexisbcook/intro-to-lists)**."
   ]
  },
  {
   "cell_type": "markdown",
   "id": "55196d7b",
   "metadata": {
    "papermill": {
     "duration": 0.007985,
     "end_time": "2024-10-27T04:46:21.437306",
     "exception": false,
     "start_time": "2024-10-27T04:46:21.429321",
     "status": "completed"
    },
    "tags": []
   },
   "source": [
    "---\n",
    "\n",
    "\n",
    "\n",
    "\n",
    "*Have questions or comments? Visit the [course discussion forum](https://www.kaggle.com/learn/intro-to-programming/discussion) to chat with other learners.*"
   ]
  }
 ],
 "metadata": {
  "kaggle": {
   "accelerator": "none",
   "dataSources": [],
   "isGpuEnabled": false,
   "isInternetEnabled": true,
   "language": "python",
   "sourceType": "notebook"
  },
  "kernelspec": {
   "display_name": "Python 3",
   "language": "python",
   "name": "python3"
  },
  "language_info": {
   "codemirror_mode": {
    "name": "ipython",
    "version": 3
   },
   "file_extension": ".py",
   "mimetype": "text/x-python",
   "name": "python",
   "nbconvert_exporter": "python",
   "pygments_lexer": "ipython3",
   "version": "3.10.14"
  },
  "papermill": {
   "default_parameters": {},
   "duration": 5.158728,
   "end_time": "2024-10-27T04:46:21.967497",
   "environment_variables": {},
   "exception": null,
   "input_path": "__notebook__.ipynb",
   "output_path": "__notebook__.ipynb",
   "parameters": {},
   "start_time": "2024-10-27T04:46:16.808769",
   "version": "2.6.0"
  }
 },
 "nbformat": 4,
 "nbformat_minor": 5
}
